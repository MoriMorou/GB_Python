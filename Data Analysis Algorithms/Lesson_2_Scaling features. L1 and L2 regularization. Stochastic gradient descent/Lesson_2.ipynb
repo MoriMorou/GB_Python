{
  "nbformat": 4,
  "nbformat_minor": 0,
  "metadata": {
    "kernelspec": {
      "display_name": "Python 3",
      "language": "python",
      "name": "python3"
    },
    "language_info": {
      "codemirror_mode": {
        "name": "ipython",
        "version": 3
      },
      "file_extension": ".py",
      "mimetype": "text/x-python",
      "name": "python",
      "nbconvert_exporter": "python",
      "pygments_lexer": "ipython3",
      "version": "3.7.1"
    },
    "colab": {
      "name": "Lesson_2.ipynb",
      "provenance": [],
      "collapsed_sections": [
        "Ws1-N-_Qiqus",
        "Lq5zA2Itiqu3"
      ]
    }
  },
  "cells": [
    {
      "cell_type": "markdown",
      "metadata": {
        "id": "JkQFTgKJiqsy",
        "colab_type": "text"
      },
      "source": [
        "# Урок 2. Масштабирование признаков. Регуляризация. Стохастический градиентный спуск."
      ]
    },
    {
      "cell_type": "markdown",
      "metadata": {
        "id": "JLVfsJXviqs1",
        "colab_type": "text"
      },
      "source": [
        "## Масштабирование признаков"
      ]
    },
    {
      "cell_type": "markdown",
      "metadata": {
        "id": "Eu5ocQDMiqs2",
        "colab_type": "text"
      },
      "source": [
        "В машинном обучении при работе с линейными моделями полезной является практика _масштабирования признаков_. Многие методы машинного обучения, в том числе и линейные, наиболее эффективны в том случае, когда признаки имеют одинаковый масштаб. По сути масштабирование означает приведение признаков к какой-то единой шкале. "
      ]
    },
    {
      "cell_type": "markdown",
      "metadata": {
        "id": "Gsw78QW7iqs3",
        "colab_type": "text"
      },
      "source": [
        "Существует большое количество методов масштабирования, наиболее популярными из которых являются _нормализация_ и _стандартизация_.\n",
        "\n",
        "Метод нормализации заколючается в приведении признаков к масштабу в диапазоне [0-1].\n",
        "\n",
        "Для его реализации необходимо найти минимальное $min_{j} (x^{j}_{i})$ и максимальное $max_{j} (x^{j}_{i})$ значение признака на обучающей выборке. При этом отмасштабированное значение признака будет находиться по формуле\n",
        "\n",
        "$$x^{j}_{i} = \\frac{x^{j}_{i} - min_{j} (x^{j}_{i})}{max_{j} (x^{j}_{i})-min_{j} (x^{j}_{i})}.$$\n",
        "\n",
        "После преобразования значений признаков минимальное значение превратится в 0, а максимальное - в 1.\n",
        "\n",
        "Стандартизация заключается в получении своего рода значения сдвига каждого признака от среднего. Для ее реализации необходимо вычислить среднее значение признака \n",
        "\n",
        "$$\\mu_{j} = \\frac{1}{l}\\sum^{l}_{i=1}x^{j}_{i}$$\n",
        "\n",
        "и стандартное отклонение, которое находится путем суммирования квадратов отклонения значений признака на объектах выборки от среднего $\\mu_{j}$ и делением на число объектов выборки с последующим извлечением корня:\n",
        "\n",
        "$$\\sigma_{j} = \\sqrt{\\frac{1}{l}\\sum^{l}_{i=1}(x^{j}_{i}-\\mu_{j})^{2}}$$\n",
        "\n",
        "Чтобы отмасштабировать признак, каждое его значение преобразуется по формуле\n",
        "\n",
        "$$x^{j}_{i}=\\frac{x^{j}_{i} - \\mu_{j}}{\\sigma_{j}}.$$"
      ]
    },
    {
      "cell_type": "markdown",
      "metadata": {
        "id": "s32Rv-eFiqs4",
        "colab_type": "text"
      },
      "source": [
        "Масштабирование является важным этапом подготовки данных перед применением методов машинного обучения. \n",
        "\n",
        "Важным и последним свойством масштабирования является факт, что после масштабирования признаков в линейных моделях веса при них могут интерпретироваться как мера значимости этих признаков.\n",
        "\n",
        "Существуют различные ситуации, когда целесообразно применять тот или иной метод масштабирования. Нормализовать полезно признаки, опирающиеся на величину значений - такие как расстояние. Стандартизировать полезно признаки для модели, которая опирается на распределение. В общем случае, когда выбор метода неочевиден, полезной практикой считается создавать масштабированные копии набора данных, с которыми работает специалист, и сравнивать друг с другом полученные после применения модели результаты для выявления оптимального метода масштабирования для имеющейся ситуации."
      ]
    },
    {
      "cell_type": "markdown",
      "metadata": {
        "id": "SMcddg8niqs5",
        "colab_type": "text"
      },
      "source": [
        "## Стохастический градиентный спуск"
      ]
    },
    {
      "cell_type": "markdown",
      "metadata": {
        "id": "HkzFJVniiqs6",
        "colab_type": "text"
      },
      "source": [
        "Вспомним метод градиентного спуска, рассмотренный ранее.\n",
        "\n",
        "На каждой итерации приближение получается вычитанием из предыдущего вектора градиента, умноженного на некоторый шаг:\n",
        "\n",
        "\n",
        "$$w^{k} = w^{k-1} - \\eta_{k}\\nabla Q(w^{k-1}, X).$$\n",
        "\n",
        "При этом выражение градиента в матричной форме выглядит так:\n",
        "\n",
        "$$\\nabla_{w}Q(w,X) = \\frac{2}{l}X^{T}(Xw-y).$$\n",
        "\n",
        "Если расписать $j$-ю компонетну этого градиента, то получим\n",
        "\n",
        "$$\\frac{\\partial Q}{\\partial w_{j}} = \\frac{2}{l}\\sum^{l}_{i=1}x^{j}_{i}(\\left \\langle w,x_{i} \\right \\rangle - y_{i}),$$\n",
        "\n",
        "то есть суммирование по всем $l$ объектам обучающей выборки. Здесь выражение под суммой показывает, как нужно изменить $j$-й вес, чтобы как можно сильнее улучшить качество __на объекте $x_{i}$__, а вся сумма показывает, как нужно изменить вес, чтобы улучшить качество на __всей выборке__.\n",
        "\n",
        "В этой формуле отражен один из главных недостатков градиентного спуска: если выборка большая по объему, то даже один шаг градиентного спуска будет занимать много вычислительных ресурсов и времени."
      ]
    },
    {
      "cell_type": "markdown",
      "metadata": {
        "id": "Xlcthp9Uiqs7",
        "colab_type": "text"
      },
      "source": [
        "Стремление к оптимизации процесса привело к появлению _стохастического градиентного спуска_ (Stochastic gradient descent, SGD). Идея его основана на том, что на одной итерации мы вычитаем не вектор градиента, вычисленный по всей выборке, а вместо этого случайно выбираем один объект из обучающей выборки $x_{i}$ и вычисляем градиент только на этом объекте, то есть градиент только одного слагаемого в функционале ошибки и вычитаем именно этот градиент из текущего приближения вектора весов:\n",
        "\n",
        "$$w^{k} = w^{k-1} - \\eta_{k}\\nabla Q(w^{k-1}, \\{x_{i}\\}),$$\n",
        "\n",
        "то есть $\\nabla Q(w^{k-1}, X)$ заменяется на $\\nabla Q(w^{k-1}, \\{x_{i}\\})$."
      ]
    },
    {
      "cell_type": "markdown",
      "metadata": {
        "id": "2mKZbftTiqs9",
        "colab_type": "text"
      },
      "source": [
        "Если в случае градиентного спуска мы стараемся на каждой итерации уменьшить ошибку на всей выборке, и по мере увеличения числа итераций ошибка падает монотонно, то в случае стохастического градиентного спуска мы уменьшаем на каждой итерации ошибку только на одном объекте, но при этом есть вероятность увеличить ее на другом объекте, поэтому график изменения ошибки может получаться немонотонным, и даже иметь пики (см. пример по ссылке [1] из списка литературы). То есть на какой-то итерации мы можем даже увеличить ошибку, но при этом в целом по ходу метода ошибка снижается, и рано или поздно мы выходим на нормальный уровень."
      ]
    },
    {
      "cell_type": "markdown",
      "metadata": {
        "id": "-BBJDLSQiqs-",
        "colab_type": "text"
      },
      "source": [
        "Реализуем стохастический градиентный спуск своими руками."
      ]
    },
    {
      "cell_type": "code",
      "metadata": {
        "id": "c7NGnJrtiqs_",
        "colab_type": "code",
        "colab": {}
      },
      "source": [
        "import numpy as np\n",
        "from sklearn import datasets\n",
        "import matplotlib.pyplot as plt\n",
        "\n",
        "%matplotlib inline"
      ],
      "execution_count": 0,
      "outputs": []
    },
    {
      "cell_type": "code",
      "metadata": {
        "id": "L92vtZuDiqtD",
        "colab_type": "code",
        "colab": {}
      },
      "source": [
        "# сгенерируем набор данных\n",
        "data, target, coef = datasets.make_regression(n_samples=1000, n_features = 2, n_informative = 2, n_targets = 1, \n",
        "                                              noise = 5, coef = True, random_state = 2)"
      ],
      "execution_count": 0,
      "outputs": []
    },
    {
      "cell_type": "markdown",
      "metadata": {
        "id": "4mq1B_FniqtF",
        "colab_type": "text"
      },
      "source": [
        "Отмасштабируем получившиеся признаки методом стандартизации."
      ]
    },
    {
      "cell_type": "code",
      "metadata": {
        "id": "rOKEKtFKiqtG",
        "colab_type": "code",
        "colab": {}
      },
      "source": [
        "# Получим средние значения и стандартное отклонение по столбцам\n",
        "\n",
        "means = np.mean(data, axis=0)\n",
        "stds = np.std(data, axis=0)\n",
        "# параметр axis указывается для вычисления значений по столбцам, а не по всему массиву\n",
        "#(см. документацию в разделе источников)\n",
        "\n",
        "# вычтем каждое значение признака из среднего и поделим на стандартное отклонение\n",
        "for i in range(data.shape[0]):\n",
        "    for j in range(data.shape[1]):\n",
        "        data[i][j] = (data[i][j] - means[j])/stds[j]"
      ],
      "execution_count": 0,
      "outputs": []
    },
    {
      "cell_type": "code",
      "metadata": {
        "id": "8BMCZ7uNiqtJ",
        "colab_type": "code",
        "colab": {}
      },
      "source": [
        "# реализуем функцию, определяющую среднеквадратичную ошибку\n",
        "def mserror(X, w, y_pred):\n",
        "    y = X.dot(w)\n",
        "    return (sum((y - y_pred)**2)) / len(y)"
      ],
      "execution_count": 0,
      "outputs": []
    },
    {
      "cell_type": "markdown",
      "metadata": {
        "id": "oFPTJccEiqtO",
        "colab_type": "text"
      },
      "source": [
        "Подготовка данных и средств проверки закончена. Далее реализуем сам стохастический градиентный спуск."
      ]
    },
    {
      "cell_type": "code",
      "metadata": {
        "id": "hwIeP5Y4iqtQ",
        "colab_type": "code",
        "outputId": "d4ef12c1-fb3e-49c3-ebe3-31b35b53e902",
        "colab": {}
      },
      "source": [
        "# инициализируем начальный вектор весов\n",
        "w = np.zeros(2)\n",
        "\n",
        "# список векторов весов после каждой итерации\n",
        "w_list = [w.copy()]\n",
        "\n",
        "# список значений ошибок после каждой итерации\n",
        "errors = []\n",
        "\n",
        "# шаг градиентного спуска\n",
        "eta = 0.01\n",
        "\n",
        "# максимальное число итераций\n",
        "max_iter = 1e5\n",
        "\n",
        "# критерий сходимости (разница весов, при которой алгоритм останавливается)\n",
        "min_weight_dist = 1e-8\n",
        "\n",
        "# зададим начальную разницу весов большим числом\n",
        "weight_dist = np.inf\n",
        "\n",
        "# счетчик итераций\n",
        "iter_num = 0\n",
        "\n",
        "np.random.seed(1234)\n",
        "\n",
        "# ход градиентного спуска\n",
        "while weight_dist > min_weight_dist and iter_num < max_iter:\n",
        "    \n",
        "    # генерируем случайный индекс объекта выборки\n",
        "    train_ind = np.random.randint(data.shape[0])\n",
        "    \n",
        "    new_w = w - 2 * eta * np.dot(data[train_ind].T, (np.dot(data[train_ind], w) - target[train_ind])) / target.shape[0]\n",
        "\n",
        "    weight_dist = np.linalg.norm(new_w - w, ord=2)\n",
        "    \n",
        "    w_list.append(new_w.copy())\n",
        "    errors.append(mserror(data, new_w, target))\n",
        "    \n",
        "    iter_num += 1\n",
        "    w = new_w\n",
        "    \n",
        "w_list = np.array(w_list)\n",
        "\n",
        "print(f'В случае использования стохастического градиентного спуска функционал ошибки составляет {round(errors[-1], 4)}')"
      ],
      "execution_count": 0,
      "outputs": [
        {
          "output_type": "stream",
          "text": [
            "В случае использования стохастического градиентного спуска функционал ошибки составляет 248.3494\n"
          ],
          "name": "stdout"
        }
      ]
    },
    {
      "cell_type": "markdown",
      "metadata": {
        "id": "B-cN_umsiqtU",
        "colab_type": "text"
      },
      "source": [
        "Для стохастического градиентного спуска мы увеличили максимальное число итераций (max_iter) до 10000, что естественно, так как из-за специфики метода для достижения сходимости нужно большее количество шагов."
      ]
    },
    {
      "cell_type": "code",
      "metadata": {
        "id": "Mq8gHc1iiqtU",
        "colab_type": "code",
        "outputId": "25bd89c1-1ea5-47cd-8131-13371cad8077",
        "colab": {}
      },
      "source": [
        "# Визуализируем изменение весов (красной точкой обозначены истинные веса, сгенерированные вначале)\n",
        "plt.figure(figsize=(13, 6))\n",
        "plt.title('Stochastic gradient descent')\n",
        "plt.xlabel(r'$w_1$')\n",
        "plt.ylabel(r'$w_2$')\n",
        "\n",
        "plt.scatter(w_list[:, 0], w_list[:, 1])\n",
        "plt.scatter(coef[0], coef[1], c='r')\n",
        "plt.plot(w_list[:, 0], w_list[:, 1])\n",
        "\n",
        "plt.show()"
      ],
      "execution_count": 0,
      "outputs": [
        {
          "output_type": "display_data",
          "data": {
            "image/png": "[encoded data removed]",
            "text/plain": [
              "<Figure size 936x432 with 1 Axes>"
            ]
          },
          "metadata": {
            "tags": [],
            "needs_background": "light"
          }
        }
      ]
    },
    {
      "cell_type": "code",
      "metadata": {
        "id": "MXCKz_wliqtZ",
        "colab_type": "code",
        "outputId": "b57d60a0-b120-45b2-a4bc-5f70fbbdfa4f",
        "colab": {}
      },
      "source": [
        "# Визуализируем изменение функционала ошибки\n",
        "plt.plot(range(len(errors)), errors)\n",
        "plt.title('MSE')\n",
        "plt.xlabel('Iteration number')\n",
        "plt.ylabel('MSE')"
      ],
      "execution_count": 0,
      "outputs": [
        {
          "output_type": "execute_result",
          "data": {
            "text/plain": [
              "Text(0, 0.5, 'MSE')"
            ]
          },
          "metadata": {
            "tags": []
          },
          "execution_count": 7
        },
        {
          "output_type": "display_data",
          "data": {
            "image/png": "[encoded data removed]",
            "text/plain": [
              "<Figure size 432x288 with 1 Axes>"
            ]
          },
          "metadata": {
            "tags": [],
            "needs_background": "light"
          }
        }
      ]
    },
    {
      "cell_type": "markdown",
      "metadata": {
        "id": "QchXLomyiqte",
        "colab_type": "text"
      },
      "source": [
        "Как и в случае градиентного спуска, вектор весов приближается к истинному. При этом падает и ошибка. Сравнить скорость ее падения для двух методов вам предстоит в домашнем задании.\n",
        "\n",
        "Добиться лучшей скорости сходимости в методе стохастического градиентного спуска можно варьируя величину шага или используя методы, подбирающие ее адаптивно."
      ]
    },
    {
      "cell_type": "markdown",
      "metadata": {
        "id": "a_19JViDiqtg",
        "colab_type": "text"
      },
      "source": [
        "Среди преимуществ SGD можно выделить гораздо более быстрое вычисление одного шага по сравнению с обычным градиентным спуском и отсутствие необходимости хранить всю выборку в памяти при работе метода, что в свою очередь позволяет работать с очень большими выборками, которые невозможно поместить в память."
      ]
    },
    {
      "cell_type": "markdown",
      "metadata": {
        "id": "pZXExx-Yiqth",
        "colab_type": "text"
      },
      "source": [
        "## Переобучение и методы борьбы с ним"
      ]
    },
    {
      "cell_type": "markdown",
      "metadata": {
        "id": "JB93X534iqth",
        "colab_type": "text"
      },
      "source": [
        "Чтобы понять смысл переобучения и недообучения, начнем с примера. Допустим, у нас есть исходная известная зависимость 3-го порядка:\n",
        "\n",
        "$$f(x) = 0.6 - 13.2x - 5.3 x^{2} - 4.17x^{3}.$$\n",
        "\n",
        "Реализуем ее в виде python-функции и построим график."
      ]
    },
    {
      "cell_type": "code",
      "metadata": {
        "id": "-x7O02fBiqti",
        "colab_type": "code",
        "colab": {}
      },
      "source": [
        "def f(x):\n",
        "    return 0.6 - 13.2 * x - 5.3 * x ** 2 - 4.17 * x ** 3"
      ],
      "execution_count": 0,
      "outputs": []
    },
    {
      "cell_type": "code",
      "metadata": {
        "id": "iZU05q4miqtk",
        "colab_type": "code",
        "outputId": "2ff55331-ed9c-4a9c-d13e-15634e8f5643",
        "colab": {}
      },
      "source": [
        "dots = np.linspace(-10, 10, 100)\n",
        "plt.xlabel('x')\n",
        "plt.ylabel('f(x)')\n",
        "plt.ylim(-5000, 5000)\n",
        "plt.xlim(-10,10)\n",
        "\n",
        "plt.plot(dots, f(dots), color='g')"
      ],
      "execution_count": 0,
      "outputs": [
        {
          "output_type": "execute_result",
          "data": {
            "text/plain": [
              "[<matplotlib.lines.Line2D at 0x7fd6ab489cf8>]"
            ]
          },
          "metadata": {
            "tags": []
          },
          "execution_count": 9
        },
        {
          "output_type": "display_data",
          "data": {
            "image/png": "[encoded data removed]",
            "text/plain": [
              "<Figure size 432x288 with 1 Axes>"
            ]
          },
          "metadata": {
            "tags": [],
            "needs_background": "light"
          }
        }
      ]
    },
    {
      "cell_type": "markdown",
      "metadata": {
        "id": "RY1HQExXiqtn",
        "colab_type": "text"
      },
      "source": [
        "Теперь сгенерируем датасет из десяти случайных точек, подчиняющихся этой зависимости, с добавлением шума и нанесем на график."
      ]
    },
    {
      "cell_type": "code",
      "metadata": {
        "id": "D8aLmQt2iqto",
        "colab_type": "code",
        "colab": {}
      },
      "source": [
        "np.random.seed(16)\n",
        "x_data = np.random.uniform(-10, 10, 10)\n",
        "f_data = [f(i) for i in x_data] + np.random.uniform(-1000, 1000, 10)"
      ],
      "execution_count": 0,
      "outputs": []
    },
    {
      "cell_type": "code",
      "metadata": {
        "id": "OtY-zFVaiqtq",
        "colab_type": "code",
        "outputId": "b7a8cc00-baea-44a8-9242-dab8943ecc41",
        "colab": {}
      },
      "source": [
        "plt.xlabel('x')\n",
        "plt.ylabel('f(x)')\n",
        "plt.ylim(-5000, 5000)\n",
        "plt.xlim(-10,10)\n",
        "\n",
        "plt.plot(dots, f(dots), color='g')\n",
        "plt.scatter(x_data, f_data)"
      ],
      "execution_count": 0,
      "outputs": [
        {
          "output_type": "execute_result",
          "data": {
            "text/plain": [
              "<matplotlib.collections.PathCollection at 0x7fd6ab3cd6a0>"
            ]
          },
          "metadata": {
            "tags": []
          },
          "execution_count": 11
        },
        {
          "output_type": "display_data",
          "data": {
            "image/png": "[encoded data removed]",
            "text/plain": [
              "<Figure size 432x288 with 1 Axes>"
            ]
          },
          "metadata": {
            "tags": [],
            "needs_background": "light"
          }
        }
      ]
    },
    {
      "cell_type": "markdown",
      "metadata": {
        "id": "zMHWU0yAiqt0",
        "colab_type": "text"
      },
      "source": [
        "Теперь попробуем создать модель, способную восстановить исходную зависимость. Самым примитивным так называемый __константный алгоритм__, то есть модель вида \n",
        "\n",
        "$$a(x) = w_{0}.$$\n",
        "\n",
        "Зависимость такой модели от признаков будет иметь вид горизонтальной прямой, что, очевидно, не обобщает нашу зависимость в должном виде (см. график ниже)."
      ]
    },
    {
      "cell_type": "code",
      "metadata": {
        "id": "8mYrEwYtiqt0",
        "colab_type": "code",
        "outputId": "64e1758a-e946-4cc2-d346-d10da99d55ae",
        "colab": {}
      },
      "source": [
        "plt.xlabel('x')\n",
        "plt.ylabel('f(x)')\n",
        "plt.ylim(-5000, 5000)\n",
        "plt.xlim(-10,10)\n",
        "\n",
        "plt.plot(dots, f(dots), color='g')\n",
        "plt.scatter(x_data, f_data)\n",
        "plt.plot(dots, [dots.mean()]*len(dots), color='r')"
      ],
      "execution_count": 0,
      "outputs": [
        {
          "output_type": "execute_result",
          "data": {
            "text/plain": [
              "[<matplotlib.lines.Line2D at 0x7fd6ab305cf8>]"
            ]
          },
          "metadata": {
            "tags": []
          },
          "execution_count": 12
        },
        {
          "output_type": "display_data",
          "data": {
            "image/png": "[encoded data removed]",
            "text/plain": [
              "<Figure size 432x288 with 1 Axes>"
            ]
          },
          "metadata": {
            "tags": [],
            "needs_background": "light"
          }
        }
      ]
    },
    {
      "cell_type": "markdown",
      "metadata": {
        "id": "JGkSELuTiqt3",
        "colab_type": "text"
      },
      "source": [
        "Далее усложним семейство алгоритмов, применив линейную регрессию, которая в случае одного признака будет иметь вид \n",
        "\n",
        "$$a(x) = w_{0} + w_{1}x.$$\n",
        "\n",
        "Обучим соответствующую модель, применив для этого методы python \"из коробки\" для работы с линейной регрессией."
      ]
    },
    {
      "cell_type": "code",
      "metadata": {
        "id": "XIhKhnC0iqt4",
        "colab_type": "code",
        "outputId": "647aa2f0-ffd2-4598-c332-ffdb1c76cb8f",
        "colab": {}
      },
      "source": [
        "from sklearn import linear_model\n",
        "\n",
        "# создадим модель\n",
        "linear_regressor = linear_model.LinearRegression()\n",
        "\n",
        "# обучим ее\n",
        "linear_regressor.fit(np.reshape(x_data, (-1, 1)), f_data)"
      ],
      "execution_count": 0,
      "outputs": [
        {
          "output_type": "execute_result",
          "data": {
            "text/plain": [
              "LinearRegression(copy_X=True, fit_intercept=True, n_jobs=None,\n",
              "         normalize=False)"
            ]
          },
          "metadata": {
            "tags": []
          },
          "execution_count": 13
        }
      ]
    },
    {
      "cell_type": "code",
      "metadata": {
        "id": "zFLiACBZiqt7",
        "colab_type": "code",
        "outputId": "03d85c51-0059-4ee3-902a-a037402d2ac5",
        "colab": {}
      },
      "source": [
        "# выведем полученный вес при признаке и свободный коэффициент\n",
        "print(linear_regressor.coef_[0], linear_regressor.intercept_)"
      ],
      "execution_count": 0,
      "outputs": [
        {
          "output_type": "stream",
          "text": [
            "-237.82400777158773 -411.9249993231067\n"
          ],
          "name": "stdout"
        }
      ]
    },
    {
      "cell_type": "markdown",
      "metadata": {
        "id": "1TEVNRsgiquB",
        "colab_type": "text"
      },
      "source": [
        "Нанесем полученную после обучения модель на график"
      ]
    },
    {
      "cell_type": "code",
      "metadata": {
        "id": "TmbR6vRniquD",
        "colab_type": "code",
        "outputId": "db673d33-8110-402a-e2db-ef73e092b77f",
        "colab": {}
      },
      "source": [
        "plt.xlabel('x')\n",
        "plt.ylabel('f(x)')\n",
        "plt.ylim(-5000, 5000)\n",
        "plt.xlim(-10,10)\n",
        "\n",
        "plt.plot(dots, f(dots), color='g')\n",
        "plt.scatter(x_data, f_data)\n",
        "plt.plot(dots, linear_regressor.predict(np.reshape(dots, (-1, 1))), color='r')"
      ],
      "execution_count": 0,
      "outputs": [
        {
          "output_type": "execute_result",
          "data": {
            "text/plain": [
              "[<matplotlib.lines.Line2D at 0x7fd6aafbc940>]"
            ]
          },
          "metadata": {
            "tags": []
          },
          "execution_count": 15
        },
        {
          "output_type": "display_data",
          "data": {
            "image/png": "[encoded data removed]",
            "text/plain": [
              "<Figure size 432x288 with 1 Axes>"
            ]
          },
          "metadata": {
            "tags": [],
            "needs_background": "light"
          }
        }
      ]
    },
    {
      "cell_type": "markdown",
      "metadata": {
        "id": "OVSKKmTmiquJ",
        "colab_type": "text"
      },
      "source": [
        "Мы обучили линейную модель, и видимо, что она, как и константная, плохо восстанавливает исходную зависимость. В данном случае можно говорить о __недообучении__. Хороший алгоритм не был построен, поскольку с помощью выбранного семейства алгоритмов невозможно восстановить исходную закономерность."
      ]
    },
    {
      "cell_type": "markdown",
      "metadata": {
        "id": "km9OjqjGiquK",
        "colab_type": "text"
      },
      "source": [
        "Усложним используемое семейство алгоритмов до кубической зависимости \n",
        "\n",
        "$$a(x) = w_{0} + w_{1}x + w_{2}x^{2} + w_{3}x^{3}.$$\n",
        "\n",
        "Сделаем это путем искусственной генерации новой матрицы признаков, состоящей из исходных $x$, возведенных в степени до 3, используя `sklearn.preprocessing.PolynomialFeatures`. "
      ]
    },
    {
      "cell_type": "code",
      "metadata": {
        "id": "iDLG2XuViquL",
        "colab_type": "code",
        "outputId": "2bd60151-46f9-4b64-f1f4-d21da948095a",
        "colab": {}
      },
      "source": [
        "from sklearn.preprocessing import PolynomialFeatures\n",
        "from sklearn.pipeline import make_pipeline\n",
        "\n",
        "# создадим новую кубическую модель\n",
        "third_degree_regressor = make_pipeline(PolynomialFeatures(degree=3), linear_model.LinearRegression())\n",
        "\n",
        "# обучим ее\n",
        "third_degree_regressor.fit(np.reshape(x_data, (-1, 1)), f_data)"
      ],
      "execution_count": 0,
      "outputs": [
        {
          "output_type": "execute_result",
          "data": {
            "text/plain": [
              "Pipeline(memory=None,\n",
              "     steps=[('polynomialfeatures', PolynomialFeatures(degree=3, include_bias=True, interaction_only=False)), ('linearregression', LinearRegression(copy_X=True, fit_intercept=True, n_jobs=None,\n",
              "         normalize=False))])"
            ]
          },
          "metadata": {
            "tags": []
          },
          "execution_count": 16
        }
      ]
    },
    {
      "cell_type": "code",
      "metadata": {
        "id": "9kY0H8KPiquS",
        "colab_type": "code",
        "outputId": "b6cdedec-6da3-4bb3-e8c8-077a3d0713ff",
        "colab": {}
      },
      "source": [
        "# выведем полученные веса при признаках и свободный коэффициент\n",
        "print(third_degree_regressor.named_steps.linearregression.coef_)\n",
        "print(third_degree_regressor.named_steps.linearregression.intercept_)\n"
      ],
      "execution_count": 0,
      "outputs": [
        {
          "output_type": "stream",
          "text": [
            "[ 0.         21.09882775 -7.90436131 -4.26313079]\n",
            "-55.95265093706246\n"
          ],
          "name": "stdout"
        }
      ]
    },
    {
      "cell_type": "markdown",
      "metadata": {
        "id": "OBKM6B6wiquV",
        "colab_type": "text"
      },
      "source": [
        "Нанесем полученную в итоге зависимость на график."
      ]
    },
    {
      "cell_type": "code",
      "metadata": {
        "id": "6rKHJTjJiquW",
        "colab_type": "code",
        "outputId": "7c012ee6-6aa2-426d-ce4d-15316b59f3c7",
        "colab": {}
      },
      "source": [
        "plt.xlabel('x')\n",
        "plt.ylabel('f(x)')\n",
        "plt.ylim(-5000, 5000)\n",
        "plt.xlim(-10,10)\n",
        "\n",
        "plt.plot(dots, f(dots), color='g')\n",
        "plt.scatter(x_data, f_data)\n",
        "plt.plot(dots, third_degree_regressor.predict(np.reshape(dots, (-1, 1))), color='r')"
      ],
      "execution_count": 0,
      "outputs": [
        {
          "output_type": "execute_result",
          "data": {
            "text/plain": [
              "[<matplotlib.lines.Line2D at 0x7fd6aaf09b38>]"
            ]
          },
          "metadata": {
            "tags": []
          },
          "execution_count": 18
        },
        {
          "output_type": "display_data",
          "data": {
            "image/png": "[encoded data removed]",
            "text/plain": [
              "<Figure size 432x288 with 1 Axes>"
            ]
          },
          "metadata": {
            "tags": [],
            "needs_background": "light"
          }
        }
      ]
    },
    {
      "cell_type": "markdown",
      "metadata": {
        "id": "9VJdL3rhiquY",
        "colab_type": "text"
      },
      "source": [
        "Полученный алгоритм достаточно хорошо описывает данные, но не идеально. И в реальных условиях может возникнуть вопрос, можно ли добиться лучшего совпадения увеличением сложности алгоритма.\n",
        "\n",
        "Проиллюстрируем, что происходит в случае использования многочлена 8-й степени."
      ]
    },
    {
      "cell_type": "code",
      "metadata": {
        "id": "Vc8pOjbOiquZ",
        "colab_type": "code",
        "outputId": "f456a08c-224d-4bb9-d633-bcc6e0647dfb",
        "colab": {}
      },
      "source": [
        "# создадим модель 8-й степени\n",
        "eighth_degree_regressor = make_pipeline(PolynomialFeatures(degree=8), linear_model.LinearRegression())\n",
        "\n",
        "# обучим ее\n",
        "eighth_degree_regressor.fit(np.reshape(x_data, (-1, 1)), f_data)"
      ],
      "execution_count": 0,
      "outputs": [
        {
          "output_type": "execute_result",
          "data": {
            "text/plain": [
              "Pipeline(memory=None,\n",
              "     steps=[('polynomialfeatures', PolynomialFeatures(degree=8, include_bias=True, interaction_only=False)), ('linearregression', LinearRegression(copy_X=True, fit_intercept=True, n_jobs=None,\n",
              "         normalize=False))])"
            ]
          },
          "metadata": {
            "tags": []
          },
          "execution_count": 19
        }
      ]
    },
    {
      "cell_type": "markdown",
      "metadata": {
        "id": "y8dlT6n5iquc",
        "colab_type": "text"
      },
      "source": [
        "Покажем получившийся график зависимости."
      ]
    },
    {
      "cell_type": "code",
      "metadata": {
        "scrolled": true,
        "id": "VW7kvdoFiqud",
        "colab_type": "code",
        "outputId": "96550f3e-f944-400b-fe2e-3e2890353751",
        "colab": {}
      },
      "source": [
        "plt.xlabel('x')\n",
        "plt.ylabel('f(x)')\n",
        "plt.ylim(-5000, 5000)\n",
        "plt.xlim(-10,10)\n",
        "\n",
        "plt.plot(dots, f(dots), color='g')\n",
        "plt.scatter(x_data, f_data)\n",
        "plt.plot(dots, eighth_degree_regressor.predict(np.reshape(dots, (-1, 1))), color='r')"
      ],
      "execution_count": 0,
      "outputs": [
        {
          "output_type": "execute_result",
          "data": {
            "text/plain": [
              "[<matplotlib.lines.Line2D at 0x7fd6ab744c18>]"
            ]
          },
          "metadata": {
            "tags": []
          },
          "execution_count": 20
        },
        {
          "output_type": "display_data",
          "data": {
            "image/png": "[encoded data removed]",
            "text/plain": [
              "<Figure size 432x288 with 1 Axes>"
            ]
          },
          "metadata": {
            "tags": [],
            "needs_background": "light"
          }
        }
      ]
    },
    {
      "cell_type": "markdown",
      "metadata": {
        "id": "JkFoaeMCiquk",
        "colab_type": "text"
      },
      "source": [
        "Видно, что новая модель лучше описывает имеющиеся в обучающей выборке данные и дает фактически идеальные ответы на них, но про этом в целом зависимость сильно отличается от истинной. Поэтому если мы попробуем применить эту модель на новых данных, ответы будут расходиться с правильными. Такое явление и называется __переобучением__. Алгоритм слишком сильно подогнан под обучающую выборку, и за счет этого будет давать неадекватные ответы на новых точках."
      ]
    },
    {
      "cell_type": "markdown",
      "metadata": {
        "id": "CErR0qKOiquk",
        "colab_type": "text"
      },
      "source": [
        "Таким образом, недообучение несет за собой плохое качество на обучении и на новых данных, а переобучение - хорошее качество на обучении и плохое на новых данных.\n",
        "\n",
        "Понятно, как бороться с недообучением - усложнять семейство алгоритмов. Возникает вопрос, как выявить переобучение и его избежать. В случае переобучения, как было сказано ранее, данные из обучающей выборки алгоритмом будут описываться хорошо, а новые данные - плохо, поэтому используя только обучающую выборку, невозможно заключить, хорошо обучен алгоритм или переобучен, так как оба они будут хорошо описывать известные данные."
      ]
    },
    {
      "cell_type": "markdown",
      "metadata": {
        "id": "g9MMDQHDiqul",
        "colab_type": "text"
      },
      "source": [
        "Есть несколько методов оценки качества алгоритма и выявления переобучения:\n",
        "\n",
        "1. Не использовать всю выборку для обучения, а откладывать часть данных для проверки полученного алгоритма. Это называется _отложенной выборкой_. Данные делятся на обучающую и тестовую выборку в соотношении, например, 0.7 к 0.3, и затем на первой части алгоритм обучается, а на второй проверяется. Размер отложенной выборки в данном случае нужно подбирать с осторожностью, так как слишком маленькая тестовая выборка не будет обеспечивать должной точности оценки качества обучения, а слишком маленькия обучающая выборка приведет к снижению качества обучения, так как будет малорепрезентативна. Таким образом, главный минус этого метода - сильная зависимость результата от того, как мы выбираем отложенную выборку. Например, в пространстве объектов могут быть какие-то особые, отличающиеся от остальных по какому-то свойству объекты, и может так произойти, что после разбиения они не попадут в обучающую выборку, алгоритм на них не обучится, и качество обучения после проверки на этих объектах, попавших в тестовую выборку, будет плохим. Один из путей решения этой проблемы - многократное случайное разбиение выборки на тестовую и обучающую и использование в качестве оценки качества среднего значения ошибки полученной после каждого разбиения. Но и этот метод не гарантирует, что каждый объект побывает в обучающей выборке, так как разбиения случайные.\n",
        "\n",
        "\n",
        "2. _Кросс-валидация_ (усложненная версия метода отложенной выборки). Этот метод как раз вытекает из проблемы, описанной выше. Он является более системным подходом. В этом случае выборка разбивается на $k$ блоков, и затем каждый из них по очереди используется в качестве тестового, а остальная часть - в качестве обучающей выборки. После прохождения всей выборки таким образом получается $k$ показателей качества, и итоговая оценка качества обучения по кросс-валидации оценивается как средняя из этих $k$. В этом случае мы гарантируем, что все данные поучаствуют в обучении. Выбор количества блоков $k$ обычно зависит от размера выборки. Чем больше данных, тем меньше нужно блоков, так как во-первых в этом случае после разбиения даже на малое количество блоков у нас остается большой объем данных в обучающей выборке, что обеспечивает хорошее качество обучения, а во-вторых, разбиение на $k$ блоков означает обучение алгоритма $k$ раз, соответственно, чем их больше, тем больше получается вычислительная сложность процесса обучения модели. Обычно $k$ принимает значение от 3 до 10.\n",
        "\n",
        "\n",
        "3. Использовать меры сложности модели, позволяющие без дополнительной выборки выявить переобучение."
      ]
    },
    {
      "cell_type": "markdown",
      "metadata": {
        "id": "_I6dPoI0iqum",
        "colab_type": "text"
      },
      "source": [
        "Одним из знаков, что произошло переобучение модели, или _мерой сложности_ является получение больших по модулю весов при признаках. Посмотрим, что получилось в нашей последней модели."
      ]
    },
    {
      "cell_type": "code",
      "metadata": {
        "id": "H4vCY2DJiqum",
        "colab_type": "code",
        "outputId": "24e975e6-1b94-4518-d817-569837122aa3",
        "colab": {}
      },
      "source": [
        "# выведем полученные веса при признаках и свободный коэффициент\n",
        "print(eighth_degree_regressor.named_steps.linearregression.coef_)\n",
        "print(eighth_degree_regressor.named_steps.linearregression.intercept_)"
      ],
      "execution_count": 0,
      "outputs": [
        {
          "output_type": "stream",
          "text": [
            "[ 0.00000000e+00  1.07116178e+03  8.76325214e+02  4.03130193e+01\n",
            " -5.61701731e+01 -9.81320833e+00  9.56286203e-02  1.16554743e-01\n",
            "  6.21060017e-03]\n",
            "-1536.793905494531\n"
          ],
          "name": "stdout"
        }
      ]
    },
    {
      "cell_type": "markdown",
      "metadata": {
        "id": "3CveLhp1iqup",
        "colab_type": "text"
      },
      "source": [
        "Видим веса 2 и 3 порядков в то время как в кубичесой модели и в исходной зависимости ничего подобного не было. Это и говорит нам о том, что в данном случае имеет место переобучение."
      ]
    },
    {
      "cell_type": "markdown",
      "metadata": {
        "id": "H_sCR6rXiqup",
        "colab_type": "text"
      },
      "source": [
        "На этой особенности и основывается метод _регуляризации_ для борьбы с переобучением."
      ]
    },
    {
      "cell_type": "markdown",
      "metadata": {
        "id": "Ws1-N-_Qiqus",
        "colab_type": "text"
      },
      "source": [
        "### Регуляризация"
      ]
    },
    {
      "cell_type": "markdown",
      "metadata": {
        "id": "8Zgvr4aEiqut",
        "colab_type": "text"
      },
      "source": [
        "Метод регуляризации заключается в \"штрафовании\" модели за слишком большие веса путем добавления нового члена к среднеквадратичной ошибке:\n",
        "\n",
        "$$Q(w, X) + \\lambda ||w||^{2} \\rightarrow \\underset{w}{\\text{min}}.$$\n",
        "\n",
        "добавленный член $\\lambda ||w||^{2}$ - _квадратичный регуляризатор_, который представляет собой $L_{2}$-норму вектора весов, то есть сумму квадратов весов $\\sum^{d}_{j=1}w_{j}^{2}$, коэффицент $\\lambda$ при нем - коэффициент регуляризации. Чем больше его значение, тем меньшая сложность модели будет получаться в процессе такого обучения. Если увеличивать его, в какой-то момент оптимальным для модели окажется зануление всех весов. В то же время при слишком низких его значениях появляется вероятность чрезмерного усложнения модели и переобучения. Выбор оптимального значения этого коэфициента является отдельной задачей и заключается в многократном обучении модели с разными его значениями и сравнении их качества."
      ]
    },
    {
      "cell_type": "markdown",
      "metadata": {
        "id": "yP69lwhriqut",
        "colab_type": "text"
      },
      "source": [
        "По сути, смысл регуляризации заключается, как и в обычном обучении, в минимизации функционала ошибки, только в данном случае добавляется условие непревышения нормой вектора весов некоторого значения $||w||^{2}\\leq C$, то есть ограничение весов, что и будет залогом избежания переобучения."
      ]
    },
    {
      "cell_type": "markdown",
      "metadata": {
        "id": "-OTMLxupiquu",
        "colab_type": "text"
      },
      "source": [
        "Описанный выше метод с использованием $L_{2}$-нормы вектора весов в качестве регуляризатора называется _$L_{2}$-регуляризацией_. По аналогии существует также _$L_{1}$-регуляризация_, использующая в качестве регуляризатора $L_{1}$-норму вектора весов, то есть сумму модулей весов.\n",
        "\n",
        "$$||w||_{1} = \\sum^{d}_{j=1}|w_{j}|.$$"
      ]
    },
    {
      "cell_type": "markdown",
      "metadata": {
        "id": "EJFR2HDliqu1",
        "colab_type": "text"
      },
      "source": [
        "$L_{2}$-регуляризатор представляет собой непрерывную гладкую функцию, поэтому его добавление не усложняет использование градиентных методов оптимизации, так как в каждой его точке существует производная. $L_{1}$-регуляризатор уже не является гладкой функцией, так как в нем есть модуль, у которого не существует производной в нуле. То есть его использование усложняет градиентные методы оптимизации, но в свою очередь он обладает интересной особенностью, заключающейся в занулении некоторых весов при его применении. Иными словами, он производит отбор признаков, позволяя оставлять только самые важные, отбрасывая остальные."
      ]
    },
    {
      "cell_type": "markdown",
      "metadata": {
        "id": "IjeEm_Geiqu2",
        "colab_type": "text"
      },
      "source": [
        "$L_{1}$-регуляризация также называется Lasso, $L_{2}$-регуляризация иногда называется Ridge. По этим именам регуляризаторы можно найти в модуле `sklearn.linear_models`."
      ]
    },
    {
      "cell_type": "markdown",
      "metadata": {
        "id": "Lq5zA2Itiqu3",
        "colab_type": "text"
      },
      "source": [
        "### Коэффициент детерминации"
      ]
    },
    {
      "cell_type": "markdown",
      "metadata": {
        "id": "1e7sgEO5iqu3",
        "colab_type": "text"
      },
      "source": [
        "_Коэффициент детерминации_ $R^{2}$ является еще одной метрикой качества в задачах регрессии. Ранее мы говорили о средней абсолютной и среднеквадратичной ошибке. Коэффициент детерминации позволяет развить тему среднеквадратичной ошибки, интерпретируя ее. \n",
        "\n",
        "MSE не позволяет сама по себе сделать вывод о том, как хорошо модель решает задачу. Например, если целевая переманная принимает значения от 0 до 1, а MSE равняется 10, это плохой показатель, а когда целевая переменная варьируется от 1000 до 10000, такое же значение уже является очень хорошим. Для избавления от такой неясности и был введен коэффициент детерминации, который по сути является нормированной среднеквадратичной ошибкой и принимает значения от 0 до 1.\n",
        "\n",
        "$$R^{2} = 1 - \\frac{\\sum^{l}_{i=1}(a(x_{i}) - y_{i})^{2}}{\\sum^{l}_{i=1}(y_{i} - \\bar{y})^{2}},$$\n",
        "\n",
        "где $\\bar{y}=\\frac{1}{l}\\sum^{l}_{i=1}y_{i}$ - среднее значение целевой переменной.\n",
        "\n",
        "Коэффициент детерминации характеризует, какую долю дисперсии ответов объясняет модель. Если $R^{2}=1$, то модель идеально описывает данные, если же $R^{2}$ близко к нулю, то предсказания сопоставимы по качеству с константной моделью."
      ]
    },
    {
      "cell_type": "markdown",
      "metadata": {
        "id": "esNMM7hXiqu4",
        "colab_type": "text"
      },
      "source": [
        "## Литература"
      ]
    },
    {
      "cell_type": "markdown",
      "metadata": {
        "id": "vPQPnl--iqu4",
        "colab_type": "text"
      },
      "source": [
        "1. [Стохастический градиентный спуск](http://www.machinelearning.ru/wiki/index.php?title=%D0%A1%D1%82%D0%BE%D1%85%D0%B0%D1%81%D1%82%D0%B8%D1%87%D0%B5%D1%81%D0%BA%D0%B8%D0%B9_%D0%B3%D1%80%D0%B0%D0%B4%D0%B8%D0%B5%D0%BD%D1%82%D0%BD%D1%8B%D0%B9_%D1%81%D0%BF%D1%83%D1%81%D0%BA)\n",
        "2. [sklearn.datasets.make_regression](https://scikit-learn.org/stable/modules/generated/sklearn.datasets.make_regression.html)\n",
        "3. [numpy.mean](https://docs.scipy.org/doc/numpy-1.14.0/reference/generated/numpy.mean.html)\n",
        "4. [sklearn.linear_model.LinearRegression](https://scikit-learn.org/stable/modules/generated/sklearn.linear_model.LinearRegression.html)\n",
        "5. [sklearn.preprocessing.PolynomialFeatures](https://scikit-learn.org/stable/modules/generated/sklearn.preprocessing.PolynomialFeatures.html)\n",
        "6. [sklearn.pipeline.make_pipeline](https://scikit-learn.org/stable/modules/generated/sklearn.pipeline.make_pipeline.html)"
      ]
    },
    {
      "cell_type": "markdown",
      "metadata": {
        "id": "pv-pdIHpiqu5",
        "colab_type": "text"
      },
      "source": [
        "## Домашнее задание"
      ]
    },
    {
      "cell_type": "markdown",
      "metadata": {
        "id": "osNM_LLkiqu6",
        "colab_type": "text"
      },
      "source": [
        "1. Сгенерировать датасет при помощи `sklearn.datasets.make_regression` и обучить линейную модель при помощи градиентного и стохастического градиентного спуска. Нанести среднеквадратичную ошибку для обоих методов на один график, сделать выводы о разнице скорости сходимости каждого из методов.\n",
        "2. Модифицировать решение первого задания путем добавления $L_{2}$-регуляризации (в функцию, считающую MSE, нужно добавить норму вектора весов) и сравнить результаты."
      ]
    }
  ]
}