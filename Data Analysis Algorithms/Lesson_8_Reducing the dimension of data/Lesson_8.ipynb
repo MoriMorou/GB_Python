{
  "nbformat": 4,
  "nbformat_minor": 0,
  "metadata": {
    "kernelspec": {
      "display_name": "Python 3",
      "language": "python",
      "name": "python3"
    },
    "language_info": {
      "codemirror_mode": {
        "name": "ipython",
        "version": 3
      },
      "file_extension": ".py",
      "mimetype": "text/x-python",
      "name": "python",
      "nbconvert_exporter": "python",
      "pygments_lexer": "ipython3",
      "version": "3.7.1"
    },
    "colab": {
      "name": "Lesson_8.ipynb",
      "provenance": [],
      "collapsed_sections": []
    }
  },
  "cells": [
    {
      "cell_type": "markdown",
      "metadata": {
        "id": "UIAqr2CPdfJe",
        "colab_type": "text"
      },
      "source": [
        "# Урок 8. Снижение размерности данных "
      ]
    },
    {
      "cell_type": "markdown",
      "metadata": {
        "id": "oOcLKigsdfJg",
        "colab_type": "text"
      },
      "source": [
        "Большая размерность данных (под ней понимается размерность пространства признаков, то есть их количество) может серьезно усложнить задачу анализа таких данных и даже стать причиной некорректной работы некоторых алгоритмов. Кроме того, часто в исходных данных могут присутствовать лишние признаки, никак не связанные с целевой переменной. Поэтому часто встает задача понижения количества признаков, оставляя при этом самые значимые (наиболее сильно влияющие на значение целевого параметра) с отсечением менее значимых (наиболее слабо коррелирующих со значением целевого параметра) или с формированием новых признаков на основе старых. То есть ставится задача перехода от пространства большей размерности к пространству меньшей размерности с сохранением максимального количества полезной информации."
      ]
    },
    {
      "cell_type": "markdown",
      "metadata": {
        "id": "_Pa5-7u-dfJh",
        "colab_type": "text"
      },
      "source": [
        "## Алгоритмы снижения размерности"
      ]
    },
    {
      "cell_type": "markdown",
      "metadata": {
        "id": "zspAp10fdfJi",
        "colab_type": "text"
      },
      "source": [
        "Алгоритмы снижения размерности пространства признаков делятся на две группы - отбор признаков (то есть отбрасывание наименее важных признаков) и понижение размерности путем формирования новых признаков на основе старых."
      ]
    },
    {
      "cell_type": "markdown",
      "metadata": {
        "id": "Lmvx3YA5dfJj",
        "colab_type": "text"
      },
      "source": [
        "### Отбор признаков"
      ]
    },
    {
      "cell_type": "markdown",
      "metadata": {
        "id": "isLulqvJdfJk",
        "colab_type": "text"
      },
      "source": [
        "Самым простым и примитивным методом отбора является _одномерный отбор признаков_. Он заключается в оценке предсказательной силы каждого признака, то есть его информативности - насколько он коррелирует с целевой переменной. Затем отбираются либо заданное количество $k$ признаков, либо те признаки, информативность которых выше некоторого порога."
      ]
    },
    {
      "cell_type": "markdown",
      "metadata": {
        "id": "U547aIwTdfJl",
        "colab_type": "text"
      },
      "source": [
        "Оценка предсказательной силы признака (или степени связи этого признака и целевой переменной) может проводиться разными методами, например:\n",
        "\n",
        "- в случае регрессии - _корреляция_ $$R_{j} = \\frac{\\sum_{i=1}^{l}(x_{ij} - \\bar{x}_{j})(y_{i} - \\bar{y})}{\\sqrt{\\sum_{i=1}^{l}(x_{ij} - \\bar{x}_{j})^{2}\\sum_{i=1}^{l}(y_{i} - \\bar{y})^{2}}},$$ где $\\bar{x_{j}}$ и $\\bar{y}$ - среднее значение $j$-го признака и целевой переменной, соответственно. Чем больше по модулю корреляция ($\\pm 1$), тем информативнее признак. Следует заметить, что этот метод учитывает только линейную связь между признаком и целевой переменной.\n",
        "\n",
        "\n",
        "- в случае задачи классификации - _взаимная информация (mutual information)_, моделирующая корреляцию между признаками и классами. Она использует в расчете вероятность того, что одновременно значение $j$-го признака $x_{ij}$ равно числу $v$ и значение целевой переменной $y_{i}=k$, или, другими словами, долю таких объектов от общего количества объектов в выборке $P(x=v,y=k)$. Тогда взаимная информация будет находиться как $$MI_{j}=\\sum_{v \\in X}\\sum_{k \\in Y}P(x=v,y=k)\\text{log}\\frac{P(x=v,y=k)}{P(x=v)P(y=k)}.$$ Здесь $P(x=v)$ и $P(y=k)$ - доли объектов, на которых значение признака равно $v$ и значение целевой переменной равно $k$, соответственно. Если признак и целевая переменная независимы, то взаимная информация обращается в ноль. В отличие от предыдущего метода, этот метод позволяет находять произвольные зависимости (в т.ч. нелинейные) в пространстве произвольной размерности.\n",
        "\n",
        "Такие методы позволяют оценить важность исключительно каждого признака отдельно, без учета влияния комбинаций признаков на целевую переменную, поэтому они и называются одномерными. На практике зачастую признаки влияют именно в совокупности, и по отдельности могут ошибочно быть расценены как некоррелирующие с целевой переменной, поэтому одномерные методы отбора не являются оптимальным методом в большинстве случаев."
      ]
    },
    {
      "cell_type": "markdown",
      "metadata": {
        "id": "DV5E5PnadfJl",
        "colab_type": "text"
      },
      "source": [
        "Отдельной группой методов можно назвать так называемые _переборные методы_, которые дискретно оценивают качество модели, обученной на различных подмножествах признаков. При этом происходит полный перебор всех возможных вариантов. Обычно такие алгоритмы делятся на _жадные (greedy)_ и _нежадные (non-greedy)_. Полный список их можно найти в дополнительных материалах."
      ]
    },
    {
      "cell_type": "markdown",
      "metadata": {
        "id": "EOjQFkTgdfJm",
        "colab_type": "text"
      },
      "source": [
        "Жадность алгоритмов заключаются в том, что если один из признаков включен в подмножество (или исключен в случае исключающего метода), в следующих итерациях поиска он уже не учитывается, так что алгоритм работает на меньшем объеме данных. Известные алгоритмы этого типа - _жадное включение_ и _жадное исключение_. В случае жадного включения на первой итерации аналогично одномерному отбору признаков находится признак, обладающий наибольшей предсказательной силой и добавляется в формирующуееся подмножество $\\{i_{1}\\}$. Далее происходит перебор оставшихся признаков с попеременным добавлением каждого из них в подмножество к первому и оценкой качества получаемой модели, обученной на подмножестве из этих двух признаков $\\{i_{1}, i_{2}\\}$. В итоге в подмножестве остается тот признак, при добавлении которого получается наилучшее качество. Далее эта процедура повторяется до момента, пока ошибка получаемой модели уменьшается. На каждой итерации в подмножество добавляется один признак, максимально улучшающий работу модели. Если на какой-то итерации при добавлении признаков ошибка не уменьшается, процесс останавливается.\n",
        "\n",
        "Плюсом такого алгоритма является относительная быстрота и возможность учета некоторых взаимодействий между признаками (как раз то, чего лишен одномерный отбор). Минусом же можно назвать вероятность застрять в локальном минимуме ошибки, если такой есть. В случае же когда есть единственный глобальный минимум, алгоритм найдет оптимальное решение.\n",
        "\n",
        "Есть также модификации этого алгоритма с многократным проходом по выборке и поочередным включением/исключением признаков из подмножества для учета совокупного влияния признаков."
      ]
    },
    {
      "cell_type": "markdown",
      "metadata": {
        "id": "Q5TOTIM4dfJo",
        "colab_type": "text"
      },
      "source": [
        "Примером нежадного алгоритма может быть простой последовательный полный перебор всех возможных подмножеств признаков. Такой подбор позволяет найти наиболее оптимальное подмножество признаков, но, очевидно, он является достаточно трудоемким (нужно перебрать $2^{n}$ вариантов, где $n$ - число признаков), поэтому подходит только для датасетов с небольшим количеством признаков."
      ]
    },
    {
      "cell_type": "markdown",
      "metadata": {
        "id": "kqDrhuvidfJp",
        "colab_type": "text"
      },
      "source": [
        "Еще одна группа методов отбора признаков - _встроенные в модели_. Они используют эвристики, заложенные в обучающие модели, для оценки важности признаков.\n",
        "\n",
        "- Например, в случае работы с линейными моделями мы имеем зависимость целевой переменной от взвешенной суммы признаков $$a(x) = \\sum_{i=1}^{n}w_{i}x^{i}.$$ Здесь, если признаки масштабированы, веса будут являться показателями информативности признаков: чем больше вес, тем больший вклад данный признак вносит в значение целевой переменной. На основе этого показателя можно проводить отбор признаков. Также, вспоминая уроки по линейным моделям, можно упомянуть, что использование $L_{1}$-регуляризации приводит к занулению весов наименее важных признаков, то есть к их отбрасыванию, при этом больший коэффициент регуляризации будет приводить к большему количеству зануленных весов."
      ]
    },
    {
      "cell_type": "markdown",
      "metadata": {
        "id": "iMFGIpqQdfJr",
        "colab_type": "text"
      },
      "source": [
        "- В случае использования решающих деревьев и их композиций, где в каждой вершине происходит разбиение на два поддерева путем сравнивания значения одного признака с некоторым значением порога, важность признака можно оценивать по тому, насколько он уменьшает значение критерия информативности, по которому оценивается качество разбиения: $$Q(X_{m}, j, t) = H(X_{m}) - \\frac{|X_{l}|}{|X_{m}|}H(X_{l}) - \\frac{|X_{r}|}{|X_{m}|}H(X_{r}),$$ где $X_{m}$ - множество объектов, попавших в вершину на данном шаге, $X_{l}$ и $X_{r}$ - множества, попадающие в левое и правое поддерево, соответственно, после разбиения. $H(X)$ - критерий информативности. \n",
        "    \n",
        "    Чем сильнее падает критерий информативности при разбиении по данному признаку (то есть чем выше $Q$), тем этот признак важнее. Таким образом, важность $j$-го признака можно оценить путем вычисления суммы уменьшений критерия информативности по всем вершинам, в которых делалось разбиение по данному признаку. Чем больше эта сумма, тем важнее данный признак был при построении дерева. В случае композиций деревьев этот показатель суммируется по всем деревьям."
      ]
    },
    {
      "cell_type": "markdown",
      "metadata": {
        "id": "suyYET13dfJr",
        "colab_type": "text"
      },
      "source": [
        "### Понижение размерности"
      ]
    },
    {
      "cell_type": "markdown",
      "metadata": {
        "id": "8w8aSllUdfJs",
        "colab_type": "text"
      },
      "source": [
        "Кроме отбора признаков, который не всегда оптимален в плане сохранения максимума полезной информации, существуют еще методы понижения размерности путем формирования новых признаков на основе старых. Новых признаков при использовании такого метода должно быть меньше, чем исходных, при условии сохранения максимально возможного количества информации из исходных признаков. Например, объединение нескольких признаков в линейную комбинацию:\n",
        "\n",
        "$$z_{ij}=\\sum_{k=1}^{n}w_{jk}x_{ik},$$\n",
        "\n",
        "где $x_{ij}$ - исходные признаки, $z_{ij}$ - новые принаки."
      ]
    },
    {
      "cell_type": "markdown",
      "metadata": {
        "id": "U2iJ7XBhdfJt",
        "colab_type": "text"
      },
      "source": [
        "Простейшим методов такого понижения размерности является метод _случайных проекций_, который заключается в преобразованиях, сохраняющих расстояния и снижающих размерности. Существование таких преобразований доказано для выборок, в которых объектов меньше, чем признаков. Веса при всех признаках в таком методе можно выбирать случайно. При этом не факт, что мы попадем в оптимальное преобразование, но практика показывает, что метод работает, если размерность нового пространства признаков\n",
        "\n",
        "$$d > \\frac{8\\text{ln}l}{\\varepsilon^{2}},$$\n",
        "\n",
        "где $l$ - количество объектов, $\\varepsilon$ - максимальное изменение расстояния между объектами (лемма о малом искажении или лемма Джонсона-Линденштрауса)."
      ]
    },
    {
      "cell_type": "markdown",
      "metadata": {
        "id": "7RKYQxgMdfJu",
        "colab_type": "text"
      },
      "source": [
        "#### Метод главных компонент (PCA)"
      ]
    },
    {
      "cell_type": "markdown",
      "metadata": {
        "id": "A7frA6OrdfJv",
        "colab_type": "text"
      },
      "source": [
        "Одним из наиболее известных и широко применяемых методов понижения размерности является _метод главных компонент (principal component analysis, PCA)_. Он заключается в приближении матрицы признаков матрицей меньшего ранга - так называемом низкоранговом приближении.\n",
        "\n",
        "Запишем показанную ранее формулу линейного преобразования признаков в матричном виде:\n",
        "\n",
        "$$Z = XW^{T},$$\n",
        "\n",
        "где $X$ - матрица \"объекты-признаки\", где по строкам отложены объекты, а по столбцам - значения признаков, $Z$ - матрица новых признаков, $W^{T}$ - транспонированная матрица весов. Приближение заключается формировании новой матрицы признаков $\\tilde{X}=ZW\\approx X$ с возможностью восстанавливания старых признаков по новым с максимальным уровнем точности, или, если говорить иначе, чтобы их различие было минимальным:\n",
        "\n",
        "$$\\|ZW - X\\|^{2} \\rightarrow \\underset{Z, W}{\\text{min}}.$$"
      ]
    },
    {
      "cell_type": "markdown",
      "metadata": {
        "id": "6oGhpkBfdfJv",
        "colab_type": "text"
      },
      "source": [
        "При этом метод главных компонент предполагает, что матрица весов должна быть ортогональной, то есть произведение $WW^{T}$ должно равняться единичной матрице. Восстановленная матрица $ZW$ может иметь ранг меньший, чем исходная $X$, поэтому приближение будет называться низкоранговым."
      ]
    },
    {
      "cell_type": "markdown",
      "metadata": {
        "id": "P45TTDjedfJw",
        "colab_type": "text"
      },
      "source": [
        "Геометрически метод можно представить как проецирование признаков на гиперплоскость с максимизацией дисперсии получаемой выборки."
      ]
    },
    {
      "cell_type": "markdown",
      "metadata": {
        "id": "3dV8i8cDdfJx",
        "colab_type": "text"
      },
      "source": [
        "Если ранг матрицы исходных признаков $rank(X) \\geq d$, где $d$ - число новых признаков, то минимум функционала различия, описанного выше, достигается тогда, когда в качестве строк матрицы $W$ используются собственные векторы матрицы $X^{T}X$ , соответствующие максимальным собственным значениям $\\lambda_{1},...,\\lambda_{d}$. Максимальные собственные значения и называются главными компонентами, от чего пошло название метода. Первая главная компонента соответствует максимальному собственному значению и т.д."
      ]
    },
    {
      "cell_type": "markdown",
      "metadata": {
        "id": "VvLN4XJLdfJx",
        "colab_type": "text"
      },
      "source": [
        "Некоторые полезные свойства метода:\n",
        "\n",
        "- Матрица $Z$ при этом будет такой, что $Z^{T}Z = \\Lambda = diag(\\lambda_{1},...,\\lambda_{d})$.\n",
        "\n",
        "\n",
        "- Минимизированный функционал ошибки будет равен $$\\|ZW - X\\|^{2} = \\|X\\|^{2} - tr\\Lambda,$$ где $tr\\Lambda,$ - след матрицы $\\Lambda$, то есть сумма всех собственных значений $\\lambda_{1},...,\\lambda_{d}$, а $\\|X\\|^{2}$ - сумма всех собственных значений исходной матрицы $\\lambda_{1},...,\\lambda_{n}$, таким образом $$\\|ZW - X\\|^{2} = \\sum_{j=d+1}^{n}\\lambda_{j},$$ то есть значение функционала ошибки будет равно сумме собственных значений, которые не были взяты в получаемое разложение. Поэтому логично брать в разложение максимальные собственные значения, оставляя минимальные.\n",
        "\n",
        "\n",
        "- Матрица $X^{T}X$ - матрица ковариации, то есть матрица, которая характеризует дисперсию выборки. Дисперсия выборки после проецирования будет равна собственному значению $\\lambda$, поэтому логично, что первым берется собственный вектор, соответствующий максимальному собственному значению - нам нужно сохранить максимум дисперсии."
      ]
    },
    {
      "cell_type": "markdown",
      "metadata": {
        "id": "-pPzjbW8dfJy",
        "colab_type": "text"
      },
      "source": [
        "Таким образом, для реализации метода главных компонент нужно :\n",
        "- найти собственные значения матрицы $X^{T}X$;\n",
        "- отобрать $d$ максимальных;\n",
        "- составить матрицу $W^{T}$, столбцы которой будут являться собственными векторами, соответствующими отобранным собственным значениям, расположенным в порядке убывания;\n",
        "- получить новую матрицу \"объекты-признаки\", умножив исходную матрицу $X$ на матрицу весов $W$:\n",
        "\n",
        "$$Z=XW.$$"
      ]
    },
    {
      "cell_type": "markdown",
      "metadata": {
        "id": "LnYvDiOadfJz",
        "colab_type": "text"
      },
      "source": [
        "#### PCA и SVD"
      ]
    },
    {
      "cell_type": "markdown",
      "metadata": {
        "id": "Thkg-tSXdfJ0",
        "colab_type": "text"
      },
      "source": [
        "Сформулировав принцип реализации метода главных компонент, нельзя не заметить его родство с сингулярным разложением матриц (SVD). Вспомним, что сингулярное разложение матрицы - это разложение вида\n",
        "\n",
        "$$X=UDV^{T},$$\n",
        "\n",
        "где столбцы ортогональной матрицы $U$ - это собственные векторы матрицы $XX^{T}$, столбцы ортогональной матрицы $V$ - собственные векторы матрицы $X^{T}X$, а на главной диагонали диагональной матрицы $D$ расположены собственные значения матриц $XX^{T}$ и $X^{T}X$ (они равны и также называются сингулярными числами матрицы $X$).\n",
        "\n",
        "Если число новых признаков $d$ равно старому числу признаков $n$, то можно приравнять разложения\n",
        "\n",
        "$$X=ZW=UDV^{T}.$$\n",
        "\n",
        "При этом матрицы $W$ и $V^{T}$ состоят из собственных векторов матрицы $X^{T}X$, то есть они равны при $Z=UD$."
      ]
    },
    {
      "cell_type": "markdown",
      "metadata": {
        "id": "8tzfpn9zdfJ0",
        "colab_type": "text"
      },
      "source": [
        "Получается, что метод опорных векторов - в своем роде \"урезанная версия\" сингулярного разложения, из которого убрали минимальные собственные значения с соответствующими собственными векторами. \n",
        "Таким образом, для реализации понижения размерности методом опорных векторов с помощью SVD нужно:\n",
        "- найти сингулярное разложение вектора $X$;\n",
        "- сформировать из столбцов матрицы $V$, соответствующих $d$ наибольшим сингулярным числам, матрицу весов $W$;\n",
        "- получить новую матрицу \"объекты-признаки\", умножив исходную матрицу $X$ на матрицу весов $W$:\n",
        "\n",
        "$$Z=XW.$$"
      ]
    },
    {
      "cell_type": "markdown",
      "metadata": {
        "id": "dWEQalcAdfJ1",
        "colab_type": "text"
      },
      "source": [
        "Для закрепления теории реализуем PCA с помощью Python."
      ]
    },
    {
      "cell_type": "code",
      "metadata": {
        "id": "kSmUQy4ZdfJ2",
        "colab_type": "code",
        "colab": {}
      },
      "source": [
        "import numpy as np\n",
        "from sklearn import datasets\n",
        "import matplotlib.pyplot as plt"
      ],
      "execution_count": 0,
      "outputs": []
    },
    {
      "cell_type": "code",
      "metadata": {
        "id": "m3d93Gx2dfJ6",
        "colab_type": "code",
        "outputId": "eaee1c83-f56e-474c-a5f2-bdd5d4659ab4",
        "colab": {}
      },
      "source": [
        "# Загрузим игрушечный датасет из sklearn\n",
        "iris = datasets.load_iris()\n",
        "X = iris.data\n",
        "X.shape"
      ],
      "execution_count": 0,
      "outputs": [
        {
          "output_type": "execute_result",
          "data": {
            "text/plain": [
              "(150, 4)"
            ]
          },
          "metadata": {
            "tags": []
          },
          "execution_count": 2
        }
      ]
    },
    {
      "cell_type": "code",
      "metadata": {
        "id": "eE6X-RyIdfJ-",
        "colab_type": "code",
        "colab": {}
      },
      "source": [
        "# Для начала отмасштабируем выборку\n",
        "X_ = X.astype(float)\n",
        "\n",
        "rows, cols = X_.shape\n",
        "\n",
        "# центрирование - вычитание из каждого значения среднего по строке\n",
        "means = X_.mean(0)\n",
        "for i in range(rows):\n",
        "    for j in range(cols):\n",
        "        X_[i, j] -= means[j]\n",
        "\n",
        "# деление каждого значения на стандартное отклонение\n",
        "std = np.std(X_, axis=0)\n",
        "for i in range(cols):\n",
        "    for j in range(rows):\n",
        "        X_[j][i] /= std[i]"
      ],
      "execution_count": 0,
      "outputs": []
    },
    {
      "cell_type": "code",
      "metadata": {
        "id": "ItFOmLW9dfKB",
        "colab_type": "code",
        "outputId": "0b507805-c106-4539-d15a-4dc8327b764f",
        "colab": {}
      },
      "source": [
        "# Найдем собственные векторы и собственные значения\n",
        " \n",
        "covariance_matrix = X_.T.dot(X_)\n",
        "\n",
        "eig_values, eig_vectors = np.linalg.eig(covariance_matrix)\n",
        "\n",
        "# сформируем список кортежей (собственное значение, собственный вектор)\n",
        "eig_pairs = [(np.abs(eig_values[i]), eig_vectors[:, i]) for i in range(len(eig_values))]\n",
        "\n",
        "# и отсортируем список по убыванию собственных значений\n",
        "eig_pairs.sort(key=lambda x: x[0], reverse=True)\n",
        "\n",
        "print('Собственные значения в порядке убывания:')\n",
        "for i in eig_pairs:\n",
        "    print(i[0])"
      ],
      "execution_count": 0,
      "outputs": [
        {
          "output_type": "stream",
          "text": [
            "Собственные значения в порядке убывания:\n",
            "437.7746724797988\n",
            "137.10457072021055\n",
            "22.013531335697195\n",
            "3.107225464292886\n"
          ],
          "name": "stdout"
        }
      ]
    },
    {
      "cell_type": "markdown",
      "metadata": {
        "id": "9mdEDwm2dfKD",
        "colab_type": "text"
      },
      "source": [
        "Оценим долю дисперсии, которая описывается найденными компонентами."
      ]
    },
    {
      "cell_type": "code",
      "metadata": {
        "id": "Ct-1I70mdfKE",
        "colab_type": "code",
        "outputId": "ab04c5c2-649d-4f6f-e849-3791203481d2",
        "colab": {}
      },
      "source": [
        "eig_sum = sum(eig_values)\n",
        "var_exp = [(i / eig_sum) * 100 for i in sorted(eig_values, reverse=True)]\n",
        "cum_var_exp = np.cumsum(var_exp)\n",
        "print(f'Доля дисперсии, описвыаемая каждой из компонент \\n{var_exp}')\n",
        "\n",
        "# а теперя оценим кумулятивную (то есть накапливаемую) дисперсию при учитывании каждой из компонент\n",
        "print(f'Кумулятивная доля дисперсии по компонентам \\n{cum_var_exp}')"
      ],
      "execution_count": 0,
      "outputs": [
        {
          "output_type": "stream",
          "text": [
            "Доля дисперсии, описвыаемая каждой из компонент \n",
            "[72.96244541329987, 22.850761786701778, 3.6689218892828697, 0.5178709107154814]\n",
            "Кумулятивная доля дисперсии по компонентам \n",
            "[ 72.96244541  95.8132072   99.48212909 100.        ]\n"
          ],
          "name": "stdout"
        }
      ]
    },
    {
      "cell_type": "markdown",
      "metadata": {
        "id": "NE15sfLtdfKH",
        "colab_type": "text"
      },
      "source": [
        "Таким образом, первая главная компонента описывает почти 73% информации, а первые две в сумме - 95.8%. В то же время последняя компонента описывает всего 0.5% и может быть отброжена без страха значительных потерь в качестве нашего анализа. Мы отбросим последние две компоненты, оставив первые две."
      ]
    },
    {
      "cell_type": "code",
      "metadata": {
        "id": "z4xcGvf7dfKI",
        "colab_type": "code",
        "outputId": "e406100f-3bd4-40fb-ce09-15db12e77a12",
        "colab": {}
      },
      "source": [
        "# Сформируем вектор весов из собственных векторов, соответствующих первым двум главным компонентам\n",
        "W = np.hstack((eig_pairs[0][1].reshape(4,1), eig_pairs[1][1].reshape(4,1)))\n",
        "\n",
        "print(f'Матрица весов W:\\n', W)"
      ],
      "execution_count": 0,
      "outputs": [
        {
          "output_type": "stream",
          "text": [
            "Матрица весов W:\n",
            " [[ 0.52106591 -0.37741762]\n",
            " [-0.26934744 -0.92329566]\n",
            " [ 0.5804131  -0.02449161]\n",
            " [ 0.56485654 -0.06694199]]\n"
          ],
          "name": "stdout"
        }
      ]
    },
    {
      "cell_type": "code",
      "metadata": {
        "id": "n04tyd6xdfKL",
        "colab_type": "code",
        "colab": {}
      },
      "source": [
        "# Сформируем новую матрицу \"объекты-признаки\"\n",
        "Z = X_.dot(W)"
      ],
      "execution_count": 0,
      "outputs": []
    },
    {
      "cell_type": "code",
      "metadata": {
        "id": "CBqTYO6udfKO",
        "colab_type": "code",
        "outputId": "8e8e6a9d-f8fa-4c1a-ea3f-84a9bd859bed",
        "colab": {}
      },
      "source": [
        "plt.figure()\n",
        "y = iris.target\n",
        "for c, i in zip(\"rgb\", [0, 1, 2]):\n",
        "    plt.scatter(Z[y==i, 0], Z[y==i, 1], c=c)\n",
        "plt.xlabel('Главная компонента 1')\n",
        "plt.ylabel('Главная компонента 2')\n",
        "plt.title('PCA датасета IRIS')\n",
        "plt.show()"
      ],
      "execution_count": 0,
      "outputs": [
        {
          "output_type": "display_data",
          "data": {
            "image/png": "[encoded data removed]",
            "text/plain": [
              "<Figure size 432x288 with 1 Axes>"
            ]
          },
          "metadata": {
            "tags": [],
            "needs_background": "light"
          }
        }
      ]
    },
    {
      "cell_type": "markdown",
      "metadata": {
        "id": "Y7P4Be8PdfKQ",
        "colab_type": "text"
      },
      "source": [
        "Таким образом, мы перешли от четырехмерного пространства признаков к двумерному и при этом классы остались разделимы в пространстве, то есть классификация возможна."
      ]
    },
    {
      "cell_type": "markdown",
      "metadata": {
        "id": "q896KWx0dfKR",
        "colab_type": "text"
      },
      "source": [
        "PCA наиболее хорошо работает, когда собственные значения $\\lambda$ на каком-то участке графика распределения убывают скачкообразно (критерий крутого склона), другими словами, если существуют предпосылки к тому, что следует решать задачу в пространстве меньшей размерности. Если же они убывают монотонно, следует рассмотреть вариант использования других методов работы с пространством признаков."
      ]
    },
    {
      "cell_type": "markdown",
      "metadata": {
        "id": "y6YHvcPvdfKS",
        "colab_type": "text"
      },
      "source": [
        "## Дополнительные материалы"
      ]
    },
    {
      "cell_type": "markdown",
      "metadata": {
        "id": "pQKbma5FdfKT",
        "colab_type": "text"
      },
      "source": [
        "1. [Методы отбора признаков](https://habr.com/ru/company/aligntechnology/blog/303750/)\n",
        "2. [Взаимная информация](https://ru.wikipedia.org/wiki/%D0%92%D0%B7%D0%B0%D0%B8%D0%BC%D0%BD%D0%B0%D1%8F_%D0%B8%D0%BD%D1%84%D0%BE%D1%80%D0%BC%D0%B0%D1%86%D0%B8%D1%8F)\n",
        "3. [Методы понижения размерности](http://www.machinelearning.ru/wiki/images/0/06/SLT%2C_lecture_8.pdf)\n",
        "4. [Лемма о малом искажении](https://ru.wikipedia.org/wiki/%D0%9B%D0%B5%D0%BC%D0%BC%D0%B0_%D0%BE_%D0%BC%D0%B0%D0%BB%D0%BE%D0%BC_%D0%B8%D1%81%D0%BA%D0%B0%D0%B6%D0%B5%D0%BD%D0%B8%D0%B8)\n",
        "5. [PCA from Scratch in Python](https://github.com/bhattbhavesh91/pca-from-scratch-iris-dataset)"
      ]
    },
    {
      "cell_type": "markdown",
      "metadata": {
        "id": "z3Oi5NQ2dfKU",
        "colab_type": "text"
      },
      "source": [
        "## Домашнее задание"
      ]
    },
    {
      "cell_type": "markdown",
      "metadata": {
        "id": "b-eNSDPndfKU",
        "colab_type": "text"
      },
      "source": [
        "1. (*) Написать свою реализацию метода главных компонент с помощью сингулярного разложения с использованием функции [numpy.linalg.svd()](https://docs.scipy.org/doc/numpy/reference/generated/numpy.linalg.svd.html)\n",
        "2. (*) Обучить любую модель классификации на датасете IRIS до применения PCA и после него. Сравнить качество классификации по отложенной выборке."
      ]
    },
    {
      "cell_type": "code",
      "metadata": {
        "id": "gUx79lzGxT91",
        "colab_type": "code",
        "colab": {}
      },
      "source": [
        ""
      ],
      "execution_count": 0,
      "outputs": []
    }
  ]
}