{
 "cells": [
  {
   "cell_type": "markdown",
   "metadata": {},
   "source": [
    "->>>Примите участие в одном или двух соревнованиях и напишите в д/з к крайнему 8-ому уроку свой псевдоним на Kaggle и ссылку на GitHub с решением\n",
    "\n",
    "1. регрессия - https://www.kaggle.com/c/tutors-expected-math-exam-results\n",
    "2. классификация - https://www.kaggle.com/c/choose-tutors\n",
    "\n",
    "->>>В скрипте можно использовать только эти импорты:\n",
    "import numpy as np\n",
    "import pandas as pd\n",
    "from sklearn.model_selection import train_test_split\n",
    "import matplotlib.pyplot as plt\n",
    "import seaborn as sns\n",
    "\n",
    "За import xgboost пожизненный бан на Kaggle 😄\n",
    "На сегодняшнем уроке отвечу на все интересующие вас вопросы касаемо проекта и не только 😉"
   ]
  },
  {
   "cell_type": "code",
   "execution_count": 1,
   "metadata": {},
   "outputs": [],
   "source": [
    "import numpy as np\n",
    "import pandas as pd\n",
    "from sklearn.model_selection import train_test_split\n",
    "import matplotlib.pyplot as plt\n",
    "import seaborn as sns"
   ]
  },
  {
   "cell_type": "code",
   "execution_count": null,
   "metadata": {},
   "outputs": [],
   "source": []
  }
 ],
 "metadata": {
  "kernelspec": {
   "display_name": "Python 3",
   "language": "python",
   "name": "python3"
  },
  "language_info": {
   "codemirror_mode": {
    "name": "ipython",
    "version": 3
   },
   "file_extension": ".py",
   "mimetype": "text/x-python",
   "name": "python",
   "nbconvert_exporter": "python",
   "pygments_lexer": "ipython3",
   "version": "3.7.1"
  }
 },
 "nbformat": 4,
 "nbformat_minor": 2
}
