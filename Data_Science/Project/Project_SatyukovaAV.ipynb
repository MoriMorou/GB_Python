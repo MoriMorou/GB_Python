{
 "cells": [
  {
   "cell_type": "code",
   "execution_count": null,
   "metadata": {},
   "outputs": [],
   "source": [
    "import numpy as np\n",
    "import pandas as pd\n",
    "import matplotlib.pyplot as plt\n",
    "import seaborn as sns\n",
    "import warnings\n",
    "from sklearn.model_selection import train_test_split\n",
    "\n",
    "pd.options.display.max_columns = 100\n",
    "\n",
    "warnings.filterwarnings('ignore')\n",
    "%matplotlib inline"
   ]
  },
  {
   "cell_type": "code",
   "execution_count": null,
   "metadata": {},
   "outputs": [],
   "source": [
    "data = pd.read_csv('data/train.csv')"
   ]
  },
  {
   "cell_type": "code",
   "execution_count": 3416,
   "metadata": {},
   "outputs": [],
   "source": [
    "# исправим название колонки Helthcare_2\n",
    "cols = data.columns\n",
    "for i in cols:\n",
    "    if i == 'Helthcare_2':\n",
    "        data = data.rename(columns={'Helthcare_2':'Healthcare_2'})"
   ]
  },
  {
   "cell_type": "code",
   "execution_count": 3417,
   "metadata": {},
   "outputs": [
    {
     "name": "stdout",
     "output_type": "stream",
     "text": [
      "<class 'pandas.core.frame.DataFrame'>\n",
      "RangeIndex: 10000 entries, 0 to 9999\n",
      "Data columns (total 20 columns):\n",
      "Id               10000 non-null int64\n",
      "DistrictId       10000 non-null int64\n",
      "Rooms            10000 non-null float64\n",
      "Square           10000 non-null float64\n",
      "LifeSquare       7887 non-null float64\n",
      "KitchenSquare    10000 non-null float64\n",
      "Floor            10000 non-null int64\n",
      "HouseFloor       10000 non-null float64\n",
      "HouseYear        10000 non-null int64\n",
      "Ecology_1        10000 non-null float64\n",
      "Ecology_2        10000 non-null object\n",
      "Ecology_3        10000 non-null object\n",
      "Social_1         10000 non-null int64\n",
      "Social_2         10000 non-null int64\n",
      "Social_3         10000 non-null int64\n",
      "Healthcare_1     5202 non-null float64\n",
      "Healthcare_2     10000 non-null int64\n",
      "Shops_1          10000 non-null int64\n",
      "Shops_2          10000 non-null object\n",
      "Price            10000 non-null float64\n",
      "dtypes: float64(8), int64(9), object(3)\n",
      "memory usage: 1.5+ MB\n"
     ]
    }
   ],
   "source": [
    "data.info()"
   ]
  },
  {
   "cell_type": "code",
   "execution_count": 3418,
   "metadata": {},
   "outputs": [
    {
     "data": {
      "text/html": [
       "<div>\n",
       "<style scoped>\n",
       "    .dataframe tbody tr th:only-of-type {\n",
       "        vertical-align: middle;\n",
       "    }\n",
       "\n",
       "    .dataframe tbody tr th {\n",
       "        vertical-align: top;\n",
       "    }\n",
       "\n",
       "    .dataframe thead th {\n",
       "        text-align: right;\n",
       "    }\n",
       "</style>\n",
       "<table border=\"1\" class=\"dataframe\">\n",
       "  <thead>\n",
       "    <tr style=\"text-align: right;\">\n",
       "      <th></th>\n",
       "      <th>Id</th>\n",
       "      <th>DistrictId</th>\n",
       "      <th>Rooms</th>\n",
       "      <th>Square</th>\n",
       "      <th>LifeSquare</th>\n",
       "      <th>KitchenSquare</th>\n",
       "      <th>Floor</th>\n",
       "      <th>HouseFloor</th>\n",
       "      <th>HouseYear</th>\n",
       "      <th>Ecology_1</th>\n",
       "      <th>Social_1</th>\n",
       "      <th>Social_2</th>\n",
       "      <th>Social_3</th>\n",
       "      <th>Healthcare_1</th>\n",
       "      <th>Healthcare_2</th>\n",
       "      <th>Shops_1</th>\n",
       "      <th>Price</th>\n",
       "    </tr>\n",
       "  </thead>\n",
       "  <tbody>\n",
       "    <tr>\n",
       "      <th>count</th>\n",
       "      <td>10000.00000</td>\n",
       "      <td>10000.000000</td>\n",
       "      <td>10000.000000</td>\n",
       "      <td>10000.000000</td>\n",
       "      <td>7887.000000</td>\n",
       "      <td>10000.000000</td>\n",
       "      <td>10000.000000</td>\n",
       "      <td>10000.000000</td>\n",
       "      <td>1.000000e+04</td>\n",
       "      <td>10000.000000</td>\n",
       "      <td>10000.000000</td>\n",
       "      <td>10000.000000</td>\n",
       "      <td>10000.000000</td>\n",
       "      <td>5202.000000</td>\n",
       "      <td>10000.000000</td>\n",
       "      <td>10000.000000</td>\n",
       "      <td>10000.000000</td>\n",
       "    </tr>\n",
       "    <tr>\n",
       "      <th>mean</th>\n",
       "      <td>8383.40770</td>\n",
       "      <td>50.400800</td>\n",
       "      <td>1.890500</td>\n",
       "      <td>56.315775</td>\n",
       "      <td>37.199645</td>\n",
       "      <td>6.273300</td>\n",
       "      <td>8.526700</td>\n",
       "      <td>12.609400</td>\n",
       "      <td>3.990166e+03</td>\n",
       "      <td>0.118858</td>\n",
       "      <td>24.687000</td>\n",
       "      <td>5352.157400</td>\n",
       "      <td>8.039200</td>\n",
       "      <td>1142.904460</td>\n",
       "      <td>1.319500</td>\n",
       "      <td>4.231300</td>\n",
       "      <td>214138.857399</td>\n",
       "    </tr>\n",
       "    <tr>\n",
       "      <th>std</th>\n",
       "      <td>4859.01902</td>\n",
       "      <td>43.587592</td>\n",
       "      <td>0.839512</td>\n",
       "      <td>21.058732</td>\n",
       "      <td>86.241209</td>\n",
       "      <td>28.560917</td>\n",
       "      <td>5.241148</td>\n",
       "      <td>6.775974</td>\n",
       "      <td>2.005003e+05</td>\n",
       "      <td>0.119025</td>\n",
       "      <td>17.532614</td>\n",
       "      <td>4006.799803</td>\n",
       "      <td>23.831875</td>\n",
       "      <td>1021.517264</td>\n",
       "      <td>1.493601</td>\n",
       "      <td>4.806341</td>\n",
       "      <td>92872.293865</td>\n",
       "    </tr>\n",
       "    <tr>\n",
       "      <th>min</th>\n",
       "      <td>0.00000</td>\n",
       "      <td>0.000000</td>\n",
       "      <td>0.000000</td>\n",
       "      <td>1.136859</td>\n",
       "      <td>0.370619</td>\n",
       "      <td>0.000000</td>\n",
       "      <td>1.000000</td>\n",
       "      <td>0.000000</td>\n",
       "      <td>1.910000e+03</td>\n",
       "      <td>0.000000</td>\n",
       "      <td>0.000000</td>\n",
       "      <td>168.000000</td>\n",
       "      <td>0.000000</td>\n",
       "      <td>0.000000</td>\n",
       "      <td>0.000000</td>\n",
       "      <td>0.000000</td>\n",
       "      <td>59174.778028</td>\n",
       "    </tr>\n",
       "    <tr>\n",
       "      <th>25%</th>\n",
       "      <td>4169.50000</td>\n",
       "      <td>20.000000</td>\n",
       "      <td>1.000000</td>\n",
       "      <td>41.774881</td>\n",
       "      <td>22.769832</td>\n",
       "      <td>1.000000</td>\n",
       "      <td>4.000000</td>\n",
       "      <td>9.000000</td>\n",
       "      <td>1.974000e+03</td>\n",
       "      <td>0.017647</td>\n",
       "      <td>6.000000</td>\n",
       "      <td>1564.000000</td>\n",
       "      <td>0.000000</td>\n",
       "      <td>350.000000</td>\n",
       "      <td>0.000000</td>\n",
       "      <td>1.000000</td>\n",
       "      <td>153872.633942</td>\n",
       "    </tr>\n",
       "    <tr>\n",
       "      <th>50%</th>\n",
       "      <td>8394.50000</td>\n",
       "      <td>36.000000</td>\n",
       "      <td>2.000000</td>\n",
       "      <td>52.513310</td>\n",
       "      <td>32.781260</td>\n",
       "      <td>6.000000</td>\n",
       "      <td>7.000000</td>\n",
       "      <td>13.000000</td>\n",
       "      <td>1.977000e+03</td>\n",
       "      <td>0.075424</td>\n",
       "      <td>25.000000</td>\n",
       "      <td>5285.000000</td>\n",
       "      <td>2.000000</td>\n",
       "      <td>900.000000</td>\n",
       "      <td>1.000000</td>\n",
       "      <td>3.000000</td>\n",
       "      <td>192269.644879</td>\n",
       "    </tr>\n",
       "    <tr>\n",
       "      <th>75%</th>\n",
       "      <td>12592.50000</td>\n",
       "      <td>75.000000</td>\n",
       "      <td>2.000000</td>\n",
       "      <td>65.900625</td>\n",
       "      <td>45.128803</td>\n",
       "      <td>9.000000</td>\n",
       "      <td>12.000000</td>\n",
       "      <td>17.000000</td>\n",
       "      <td>2.001000e+03</td>\n",
       "      <td>0.195781</td>\n",
       "      <td>36.000000</td>\n",
       "      <td>7227.000000</td>\n",
       "      <td>5.000000</td>\n",
       "      <td>1548.000000</td>\n",
       "      <td>2.000000</td>\n",
       "      <td>6.000000</td>\n",
       "      <td>249135.462171</td>\n",
       "    </tr>\n",
       "    <tr>\n",
       "      <th>max</th>\n",
       "      <td>16798.00000</td>\n",
       "      <td>209.000000</td>\n",
       "      <td>19.000000</td>\n",
       "      <td>641.065193</td>\n",
       "      <td>7480.592129</td>\n",
       "      <td>2014.000000</td>\n",
       "      <td>42.000000</td>\n",
       "      <td>117.000000</td>\n",
       "      <td>2.005201e+07</td>\n",
       "      <td>0.521867</td>\n",
       "      <td>74.000000</td>\n",
       "      <td>19083.000000</td>\n",
       "      <td>141.000000</td>\n",
       "      <td>4849.000000</td>\n",
       "      <td>6.000000</td>\n",
       "      <td>23.000000</td>\n",
       "      <td>633233.466570</td>\n",
       "    </tr>\n",
       "  </tbody>\n",
       "</table>\n",
       "</div>"
      ],
      "text/plain": [
       "                Id    DistrictId         Rooms        Square   LifeSquare  \\\n",
       "count  10000.00000  10000.000000  10000.000000  10000.000000  7887.000000   \n",
       "mean    8383.40770     50.400800      1.890500     56.315775    37.199645   \n",
       "std     4859.01902     43.587592      0.839512     21.058732    86.241209   \n",
       "min        0.00000      0.000000      0.000000      1.136859     0.370619   \n",
       "25%     4169.50000     20.000000      1.000000     41.774881    22.769832   \n",
       "50%     8394.50000     36.000000      2.000000     52.513310    32.781260   \n",
       "75%    12592.50000     75.000000      2.000000     65.900625    45.128803   \n",
       "max    16798.00000    209.000000     19.000000    641.065193  7480.592129   \n",
       "\n",
       "       KitchenSquare         Floor    HouseFloor     HouseYear     Ecology_1  \\\n",
       "count   10000.000000  10000.000000  10000.000000  1.000000e+04  10000.000000   \n",
       "mean        6.273300      8.526700     12.609400  3.990166e+03      0.118858   \n",
       "std        28.560917      5.241148      6.775974  2.005003e+05      0.119025   \n",
       "min         0.000000      1.000000      0.000000  1.910000e+03      0.000000   \n",
       "25%         1.000000      4.000000      9.000000  1.974000e+03      0.017647   \n",
       "50%         6.000000      7.000000     13.000000  1.977000e+03      0.075424   \n",
       "75%         9.000000     12.000000     17.000000  2.001000e+03      0.195781   \n",
       "max      2014.000000     42.000000    117.000000  2.005201e+07      0.521867   \n",
       "\n",
       "           Social_1      Social_2      Social_3  Healthcare_1  Healthcare_2  \\\n",
       "count  10000.000000  10000.000000  10000.000000   5202.000000  10000.000000   \n",
       "mean      24.687000   5352.157400      8.039200   1142.904460      1.319500   \n",
       "std       17.532614   4006.799803     23.831875   1021.517264      1.493601   \n",
       "min        0.000000    168.000000      0.000000      0.000000      0.000000   \n",
       "25%        6.000000   1564.000000      0.000000    350.000000      0.000000   \n",
       "50%       25.000000   5285.000000      2.000000    900.000000      1.000000   \n",
       "75%       36.000000   7227.000000      5.000000   1548.000000      2.000000   \n",
       "max       74.000000  19083.000000    141.000000   4849.000000      6.000000   \n",
       "\n",
       "            Shops_1          Price  \n",
       "count  10000.000000   10000.000000  \n",
       "mean       4.231300  214138.857399  \n",
       "std        4.806341   92872.293865  \n",
       "min        0.000000   59174.778028  \n",
       "25%        1.000000  153872.633942  \n",
       "50%        3.000000  192269.644879  \n",
       "75%        6.000000  249135.462171  \n",
       "max       23.000000  633233.466570  "
      ]
     },
     "execution_count": 3418,
     "metadata": {},
     "output_type": "execute_result"
    }
   ],
   "source": [
    "data.describe()"
   ]
  },
  {
   "cell_type": "markdown",
   "metadata": {},
   "source": [
    "### Train_test_split"
   ]
  },
  {
   "cell_type": "code",
   "execution_count": 3419,
   "metadata": {},
   "outputs": [],
   "source": [
    "train, valid = train_test_split(data, test_size=0.30, random_state=42)"
   ]
  },
  {
   "cell_type": "code",
   "execution_count": 3420,
   "metadata": {},
   "outputs": [
    {
     "data": {
      "text/plain": [
       "((7000, 20), (3000, 20))"
      ]
     },
     "execution_count": 3420,
     "metadata": {},
     "output_type": "execute_result"
    }
   ],
   "source": [
    "train.shape, valid.shape"
   ]
  },
  {
   "cell_type": "markdown",
   "metadata": {},
   "source": [
    "### Prepare train, valid"
   ]
  },
  {
   "cell_type": "code",
   "execution_count": 3421,
   "metadata": {},
   "outputs": [],
   "source": [
    "def data_NaN(df_input):\n",
    "    df_output = df_input.copy()\n",
    "    df_output = df_output.fillna(0)\n",
    "    return df_output"
   ]
  },
  {
   "cell_type": "code",
   "execution_count": 3422,
   "metadata": {},
   "outputs": [],
   "source": [
    "def clean_rooms(df_input):\n",
    "    df_output = df_input.copy()\n",
    "    \n",
    "    idx = (df_output['Square'] < 25) & (df_output['Rooms'] == 0)\n",
    "    df_output.loc[idx, 'Rooms'] = df_output.loc[idx, 'Rooms'] = 1\n",
    "\n",
    "    idx = (df_output['Square'] < 45) & (df_output['Rooms'] == 0)\n",
    "    df_output.loc[idx, 'Rooms'] = df_output.loc[idx, 'Rooms'] = 2\n",
    "    \n",
    "    idx = (df_output['Square'] < 100) & (df_output['Rooms'] == 0)\n",
    "    df_output.loc[idx, 'Rooms'] = df_output.loc[idx, 'Rooms'] = 3\n",
    "    \n",
    "    idx = (df_output['Square'] < 150) & (df_output['Rooms'] == 0)\n",
    "    df_output.loc[idx, 'Rooms'] = df_output.loc[idx, 'Rooms'] = 5\n",
    "    \n",
    "    df_output.loc[df_output['Rooms'] == 0, 'Rooms'] = 6\n",
    "    \n",
    "    idx = (df_output['Square'] < 150) & (df_output['Rooms'] > 6)\n",
    "    df_output.loc[idx, 'Rooms'] = df_output.loc[idx, 'Rooms'] = 5\n",
    "    \n",
    "    idx = (df_output['Square'] < 100) & (df_output['Rooms'] > 4)\n",
    "    df_output.loc[idx, 'Rooms'] = df_output.loc[idx, 'Rooms'] = 3\n",
    "    \n",
    "    idx = (df_output['Square'] < 45) & (df_output['Rooms'] > 3)\n",
    "    df_output.loc[idx, 'Rooms'] = df_output.loc[idx, 'Rooms'] = 2 \n",
    "    \n",
    "    idx = (df_output['Square'] < 25) & (df_output['Rooms'] > 2)\n",
    "    df_output.loc[idx, 'Rooms'] = df_output.loc[idx, 'Rooms'] = 1\n",
    "    \n",
    "    idx = (df_output['Square'] > 150) & (df_output['Rooms'] < 6)\n",
    "    df_output.loc[idx, 'Rooms'] = df_output.loc[idx, 'Rooms'] = 6\n",
    "    \n",
    "    idx = (df_output['Square'] > 100) & (df_output['Rooms'] < 4)\n",
    "    df_output.loc[idx, 'Rooms'] = df_output.loc[idx, 'Rooms'] = 3\n",
    "\n",
    "    return df_output"
   ]
  },
  {
   "cell_type": "code",
   "execution_count": 3423,
   "metadata": {},
   "outputs": [],
   "source": [
    "def clean_other(df_input):\n",
    "    \n",
    "    df_output = df_input.copy()\n",
    "    \n",
    "    idx = (df_output['LifeSquare'] < 15)\n",
    "    df_output.loc[idx, 'LifeSquare'] = df_output.loc[idx, 'LifeSquare'] = 15\n",
    "    \n",
    "    idx = (df_output['LifeSquare'] > df_output['Square'])\n",
    "    df_output.loc[idx, 'LifeSquare'] = df_output.loc[idx, 'Square']\n",
    "    \n",
    "    Square = dict(df_output.groupby('Rooms')['Square'].median())\n",
    "    idx = (df_output['Square'] < 15) & (df_output['Rooms'] < 2)\n",
    "    df_output.loc[idx, 'Square'] = df_output.loc[idx, 'Rooms'].apply(lambda x: Square[x])\n",
    "    \n",
    "    idx = (df_output['Square'] < 30) & (df_output['Rooms'] > 1)\n",
    "    df_output.loc[idx, 'Square'] = df_output.loc[idx, 'Rooms'].apply(lambda x: Square[x])\n",
    "    \n",
    "    idx = (df_output['Square'] < 30) & (df_output['Rooms'] > 1)\n",
    "    df_output.loc[idx, 'Square'] = df_output.loc[idx, 'Rooms'].apply(lambda x: Square[x])\n",
    "    \n",
    "    LifeSquare = dict(df_output.groupby('Rooms')['LifeSquare'].median())\n",
    "    idx = (df_output['LifeSquare'] < 15)\n",
    "    df_output.loc[idx, 'LifeSquare'] = df_output.loc[idx, 'Rooms'].apply(lambda x: LifeSquare[x])\n",
    "\n",
    "    idx = (df_output['KitchenSquare'] == 0)\n",
    "    df_output.loc[idx, 'KitchenSquare'] = df_output.loc[idx, 'KitchenSquare'] = 6\n",
    "    \n",
    "    KitchenSquare = dict(df_output.groupby('Rooms')['KitchenSquare'].median())\n",
    "    idx = (df_output['Rooms'] > 0)\n",
    "    df_output.loc[idx, 'KitchenSquare'] = df_output.loc[idx, 'Rooms'].apply(lambda x: KitchenSquare[x])\n",
    "    \n",
    "    idx = (df_output['HouseFloor'] < df_output['Floor'])\n",
    "    df_output.loc[idx, 'HouseFloor'] = df_output.loc[idx, 'Floor']\n",
    "    \n",
    "    idx = (df_output['HouseYear'] >= 2019)\n",
    "    df_output.loc[idx, 'HouseYear'] = 2019\n",
    "   \n",
    "    # заменяем NaN в колонке Healthcare_1 на 0\n",
    "    df_output['Healthcare_1'].fillna(df_output['Healthcare_1'].median(), inplace=True)\n",
    "    \n",
    "    df_output['Ecology_2'] = df_output['Ecology_2'].apply(lambda x: 1 if x == 'A' else 0)\n",
    "    df_output['Ecology_3'] = df_output['Ecology_3'].apply(lambda x: 1 if x == 'A' else 0)\n",
    "    df_output['Shops_2'] = df_output['Shops_2'].apply(lambda x: 1 if x == 'A' else 0)\n",
    "    \n",
    "    return df_output"
   ]
  },
  {
   "cell_type": "code",
   "execution_count": 3424,
   "metadata": {},
   "outputs": [],
   "source": [
    "def add_distr_info(df_input):\n",
    "    df_output = df_input.copy()\n",
    "    distr_info = train['DistrictId'].value_counts(normalize=True).reset_index().rename(columns={'index':'DistrictId', 'DistrictId':'flat_qty_distr'})\n",
    "    df_output = pd.merge(df_output, distr_info, on='DistrictId', how='left')\n",
    "    df_output['flat_qty_distr'] = df_output['flat_qty_distr'].fillna(0.000143) \n",
    "    return df_output"
   ]
  },
  {
   "cell_type": "code",
   "execution_count": 3425,
   "metadata": {},
   "outputs": [],
   "source": [
    "def add_mean_price(df_input):\n",
    "    df_output = df_input.copy()\n",
    "    \n",
    "    distr_stat_dr = train.groupby(['DistrictId', 'Rooms'], as_index=False)[['Price']].mean().rename(columns={'Price':'mean_price_dr'})\n",
    "    distr_stat_r = train.groupby(['Rooms'], as_index=False)[['Price']].mean().rename(columns={'Price':'mean_price_r'})\n",
    "    distr_stat_s = train.groupby(['Square'], as_index=False)[['Price']].mean().rename(columns={'Price':'mean_price_s'})\n",
    "    mean_price = train['Price'].mean()\n",
    "    \n",
    "    df_output = pd.merge(df_output, distr_stat_dr, on=['DistrictId', 'Rooms'], how='left')\n",
    "    df_output = pd.merge(df_output, distr_stat_r, on='Rooms', how='left')\n",
    "    df_output = pd.merge(df_output, distr_stat_s, on='Square', how='left')\n",
    "    df_output['mean_price_r'] = df_output['mean_price_r'].fillna(mean_price)\n",
    "    df_output['mean_price_s'] = df_output['mean_price_s'].fillna(df_output['mean_price_r'])\n",
    "    df_output['mean_price_dr'] = df_output['mean_price_dr'].fillna(df_output['mean_price_r'])\n",
    "    \n",
    "    return df_output"
   ]
  },
  {
   "cell_type": "code",
   "execution_count": 3426,
   "metadata": {},
   "outputs": [],
   "source": [
    "def prepare_data(data):\n",
    "    data = data_NaN(data)\n",
    "    data = clean_rooms(data)\n",
    "    data = clean_other(data)\n",
    "    data = add_distr_info(data)\n",
    "    data = add_mean_price(data)\n",
    "    return data    "
   ]
  },
  {
   "cell_type": "code",
   "execution_count": 3427,
   "metadata": {},
   "outputs": [],
   "source": [
    "train = prepare_data(train)"
   ]
  },
  {
   "cell_type": "code",
   "execution_count": 3428,
   "metadata": {},
   "outputs": [],
   "source": [
    "valid = prepare_data(valid)"
   ]
  },
  {
   "cell_type": "code",
   "execution_count": 3429,
   "metadata": {},
   "outputs": [
    {
     "data": {
      "text/plain": [
       "((7000, 24), (3000, 24))"
      ]
     },
     "execution_count": 3429,
     "metadata": {},
     "output_type": "execute_result"
    }
   ],
   "source": [
    "train.shape, valid.shape"
   ]
  },
  {
   "cell_type": "code",
   "execution_count": 3430,
   "metadata": {},
   "outputs": [
    {
     "name": "stdout",
     "output_type": "stream",
     "text": [
      "<class 'pandas.core.frame.DataFrame'>\n",
      "Int64Index: 3000 entries, 0 to 2999\n",
      "Data columns (total 24 columns):\n",
      "Id                3000 non-null int64\n",
      "DistrictId        3000 non-null int64\n",
      "Rooms             3000 non-null float64\n",
      "Square            3000 non-null float64\n",
      "LifeSquare        3000 non-null float64\n",
      "KitchenSquare     3000 non-null float64\n",
      "Floor             3000 non-null int64\n",
      "HouseFloor        3000 non-null float64\n",
      "HouseYear         3000 non-null int64\n",
      "Ecology_1         3000 non-null float64\n",
      "Ecology_2         3000 non-null int64\n",
      "Ecology_3         3000 non-null int64\n",
      "Social_1          3000 non-null int64\n",
      "Social_2          3000 non-null int64\n",
      "Social_3          3000 non-null int64\n",
      "Healthcare_1      3000 non-null float64\n",
      "Healthcare_2      3000 non-null int64\n",
      "Shops_1           3000 non-null int64\n",
      "Shops_2           3000 non-null int64\n",
      "Price             3000 non-null float64\n",
      "flat_qty_distr    3000 non-null float64\n",
      "mean_price_dr     3000 non-null float64\n",
      "mean_price_r      3000 non-null float64\n",
      "mean_price_s      3000 non-null float64\n",
      "dtypes: float64(12), int64(12)\n",
      "memory usage: 585.9 KB\n"
     ]
    }
   ],
   "source": [
    "valid.info()"
   ]
  },
  {
   "cell_type": "code",
   "execution_count": 3431,
   "metadata": {},
   "outputs": [
    {
     "data": {
      "text/html": [
       "<div>\n",
       "<style scoped>\n",
       "    .dataframe tbody tr th:only-of-type {\n",
       "        vertical-align: middle;\n",
       "    }\n",
       "\n",
       "    .dataframe tbody tr th {\n",
       "        vertical-align: top;\n",
       "    }\n",
       "\n",
       "    .dataframe thead th {\n",
       "        text-align: right;\n",
       "    }\n",
       "</style>\n",
       "<table border=\"1\" class=\"dataframe\">\n",
       "  <thead>\n",
       "    <tr style=\"text-align: right;\">\n",
       "      <th></th>\n",
       "      <th>Id</th>\n",
       "      <th>DistrictId</th>\n",
       "      <th>Rooms</th>\n",
       "      <th>Square</th>\n",
       "      <th>LifeSquare</th>\n",
       "      <th>KitchenSquare</th>\n",
       "      <th>Floor</th>\n",
       "      <th>HouseFloor</th>\n",
       "      <th>HouseYear</th>\n",
       "      <th>Ecology_1</th>\n",
       "      <th>Ecology_2</th>\n",
       "      <th>Ecology_3</th>\n",
       "      <th>Social_1</th>\n",
       "      <th>Social_2</th>\n",
       "      <th>Social_3</th>\n",
       "      <th>Healthcare_1</th>\n",
       "      <th>Healthcare_2</th>\n",
       "      <th>Shops_1</th>\n",
       "      <th>Shops_2</th>\n",
       "      <th>Price</th>\n",
       "      <th>flat_qty_distr</th>\n",
       "      <th>mean_price_dr</th>\n",
       "      <th>mean_price_r</th>\n",
       "      <th>mean_price_s</th>\n",
       "    </tr>\n",
       "  </thead>\n",
       "  <tbody>\n",
       "    <tr>\n",
       "      <th>count</th>\n",
       "      <td>3000.000000</td>\n",
       "      <td>3000.000000</td>\n",
       "      <td>3000.000000</td>\n",
       "      <td>3000.000000</td>\n",
       "      <td>3000.000000</td>\n",
       "      <td>3000.000000</td>\n",
       "      <td>3000.000000</td>\n",
       "      <td>3000.000000</td>\n",
       "      <td>3000.000000</td>\n",
       "      <td>3000.000000</td>\n",
       "      <td>3000.00000</td>\n",
       "      <td>3000.000000</td>\n",
       "      <td>3000.000000</td>\n",
       "      <td>3000.000000</td>\n",
       "      <td>3000.000000</td>\n",
       "      <td>3000.000000</td>\n",
       "      <td>3000.000000</td>\n",
       "      <td>3000.000000</td>\n",
       "      <td>3000.000000</td>\n",
       "      <td>3000.000000</td>\n",
       "      <td>3000.000000</td>\n",
       "      <td>3000.000000</td>\n",
       "      <td>3000.000000</td>\n",
       "      <td>3000.000000</td>\n",
       "    </tr>\n",
       "    <tr>\n",
       "      <th>mean</th>\n",
       "      <td>8377.215000</td>\n",
       "      <td>50.027333</td>\n",
       "      <td>1.903333</td>\n",
       "      <td>56.402380</td>\n",
       "      <td>32.031150</td>\n",
       "      <td>6.275333</td>\n",
       "      <td>8.539333</td>\n",
       "      <td>13.338667</td>\n",
       "      <td>1984.740333</td>\n",
       "      <td>0.121232</td>\n",
       "      <td>0.01100</td>\n",
       "      <td>0.024333</td>\n",
       "      <td>24.499000</td>\n",
       "      <td>5323.531333</td>\n",
       "      <td>8.026667</td>\n",
       "      <td>605.270667</td>\n",
       "      <td>1.334333</td>\n",
       "      <td>4.163000</td>\n",
       "      <td>0.080333</td>\n",
       "      <td>213414.800753</td>\n",
       "      <td>0.024354</td>\n",
       "      <td>212385.405482</td>\n",
       "      <td>214725.522273</td>\n",
       "      <td>214725.522273</td>\n",
       "    </tr>\n",
       "    <tr>\n",
       "      <th>std</th>\n",
       "      <td>4847.850029</td>\n",
       "      <td>43.224970</td>\n",
       "      <td>0.840372</td>\n",
       "      <td>22.196839</td>\n",
       "      <td>20.984807</td>\n",
       "      <td>0.543713</td>\n",
       "      <td>5.286313</td>\n",
       "      <td>5.949603</td>\n",
       "      <td>18.647309</td>\n",
       "      <td>0.119999</td>\n",
       "      <td>0.10432</td>\n",
       "      <td>0.154108</td>\n",
       "      <td>17.413857</td>\n",
       "      <td>3995.703779</td>\n",
       "      <td>23.746703</td>\n",
       "      <td>942.648473</td>\n",
       "      <td>1.505980</td>\n",
       "      <td>4.762561</td>\n",
       "      <td>0.271854</td>\n",
       "      <td>92761.108274</td>\n",
       "      <td>0.026806</td>\n",
       "      <td>72822.346029</td>\n",
       "      <td>54620.738996</td>\n",
       "      <td>54620.738996</td>\n",
       "    </tr>\n",
       "    <tr>\n",
       "      <th>min</th>\n",
       "      <td>2.000000</td>\n",
       "      <td>0.000000</td>\n",
       "      <td>1.000000</td>\n",
       "      <td>16.547242</td>\n",
       "      <td>15.000000</td>\n",
       "      <td>6.000000</td>\n",
       "      <td>1.000000</td>\n",
       "      <td>1.000000</td>\n",
       "      <td>1910.000000</td>\n",
       "      <td>0.000000</td>\n",
       "      <td>0.00000</td>\n",
       "      <td>0.000000</td>\n",
       "      <td>0.000000</td>\n",
       "      <td>168.000000</td>\n",
       "      <td>0.000000</td>\n",
       "      <td>0.000000</td>\n",
       "      <td>0.000000</td>\n",
       "      <td>0.000000</td>\n",
       "      <td>0.000000</td>\n",
       "      <td>59877.592523</td>\n",
       "      <td>0.000143</td>\n",
       "      <td>98177.346712</td>\n",
       "      <td>159070.589178</td>\n",
       "      <td>159070.589178</td>\n",
       "    </tr>\n",
       "    <tr>\n",
       "      <th>25%</th>\n",
       "      <td>4153.750000</td>\n",
       "      <td>21.000000</td>\n",
       "      <td>1.000000</td>\n",
       "      <td>41.855890</td>\n",
       "      <td>17.547126</td>\n",
       "      <td>6.000000</td>\n",
       "      <td>4.000000</td>\n",
       "      <td>9.000000</td>\n",
       "      <td>1973.000000</td>\n",
       "      <td>0.019509</td>\n",
       "      <td>0.00000</td>\n",
       "      <td>0.000000</td>\n",
       "      <td>6.000000</td>\n",
       "      <td>1564.000000</td>\n",
       "      <td>0.000000</td>\n",
       "      <td>0.000000</td>\n",
       "      <td>0.000000</td>\n",
       "      <td>1.000000</td>\n",
       "      <td>0.000000</td>\n",
       "      <td>151954.236807</td>\n",
       "      <td>0.005714</td>\n",
       "      <td>165375.032606</td>\n",
       "      <td>159070.589178</td>\n",
       "      <td>159070.589178</td>\n",
       "    </tr>\n",
       "    <tr>\n",
       "      <th>50%</th>\n",
       "      <td>8390.500000</td>\n",
       "      <td>34.000000</td>\n",
       "      <td>2.000000</td>\n",
       "      <td>52.149577</td>\n",
       "      <td>29.293029</td>\n",
       "      <td>6.000000</td>\n",
       "      <td>7.000000</td>\n",
       "      <td>14.000000</td>\n",
       "      <td>1977.000000</td>\n",
       "      <td>0.075779</td>\n",
       "      <td>0.00000</td>\n",
       "      <td>0.000000</td>\n",
       "      <td>25.000000</td>\n",
       "      <td>5285.000000</td>\n",
       "      <td>2.000000</td>\n",
       "      <td>30.000000</td>\n",
       "      <td>1.000000</td>\n",
       "      <td>3.000000</td>\n",
       "      <td>0.000000</td>\n",
       "      <td>192054.173699</td>\n",
       "      <td>0.010429</td>\n",
       "      <td>196547.528450</td>\n",
       "      <td>214823.938545</td>\n",
       "      <td>214823.938545</td>\n",
       "    </tr>\n",
       "    <tr>\n",
       "      <th>75%</th>\n",
       "      <td>12656.250000</td>\n",
       "      <td>74.000000</td>\n",
       "      <td>2.000000</td>\n",
       "      <td>65.761977</td>\n",
       "      <td>41.245052</td>\n",
       "      <td>6.000000</td>\n",
       "      <td>12.000000</td>\n",
       "      <td>17.000000</td>\n",
       "      <td>2002.000000</td>\n",
       "      <td>0.195781</td>\n",
       "      <td>0.00000</td>\n",
       "      <td>0.000000</td>\n",
       "      <td>35.000000</td>\n",
       "      <td>7227.000000</td>\n",
       "      <td>5.000000</td>\n",
       "      <td>1015.000000</td>\n",
       "      <td>3.000000</td>\n",
       "      <td>5.000000</td>\n",
       "      <td>0.000000</td>\n",
       "      <td>250052.147507</td>\n",
       "      <td>0.050714</td>\n",
       "      <td>246806.116955</td>\n",
       "      <td>214823.938545</td>\n",
       "      <td>214823.938545</td>\n",
       "    </tr>\n",
       "    <tr>\n",
       "      <th>max</th>\n",
       "      <td>16798.000000</td>\n",
       "      <td>208.000000</td>\n",
       "      <td>6.000000</td>\n",
       "      <td>641.065193</td>\n",
       "      <td>638.163193</td>\n",
       "      <td>9.000000</td>\n",
       "      <td>37.000000</td>\n",
       "      <td>48.000000</td>\n",
       "      <td>2019.000000</td>\n",
       "      <td>0.521867</td>\n",
       "      <td>1.00000</td>\n",
       "      <td>1.000000</td>\n",
       "      <td>74.000000</td>\n",
       "      <td>19083.000000</td>\n",
       "      <td>141.000000</td>\n",
       "      <td>4849.000000</td>\n",
       "      <td>6.000000</td>\n",
       "      <td>23.000000</td>\n",
       "      <td>1.000000</td>\n",
       "      <td>633233.466570</td>\n",
       "      <td>0.082000</td>\n",
       "      <td>561260.913003</td>\n",
       "      <td>390956.863429</td>\n",
       "      <td>390956.863429</td>\n",
       "    </tr>\n",
       "  </tbody>\n",
       "</table>\n",
       "</div>"
      ],
      "text/plain": [
       "                 Id   DistrictId        Rooms       Square   LifeSquare  \\\n",
       "count   3000.000000  3000.000000  3000.000000  3000.000000  3000.000000   \n",
       "mean    8377.215000    50.027333     1.903333    56.402380    32.031150   \n",
       "std     4847.850029    43.224970     0.840372    22.196839    20.984807   \n",
       "min        2.000000     0.000000     1.000000    16.547242    15.000000   \n",
       "25%     4153.750000    21.000000     1.000000    41.855890    17.547126   \n",
       "50%     8390.500000    34.000000     2.000000    52.149577    29.293029   \n",
       "75%    12656.250000    74.000000     2.000000    65.761977    41.245052   \n",
       "max    16798.000000   208.000000     6.000000   641.065193   638.163193   \n",
       "\n",
       "       KitchenSquare        Floor   HouseFloor    HouseYear    Ecology_1  \\\n",
       "count    3000.000000  3000.000000  3000.000000  3000.000000  3000.000000   \n",
       "mean        6.275333     8.539333    13.338667  1984.740333     0.121232   \n",
       "std         0.543713     5.286313     5.949603    18.647309     0.119999   \n",
       "min         6.000000     1.000000     1.000000  1910.000000     0.000000   \n",
       "25%         6.000000     4.000000     9.000000  1973.000000     0.019509   \n",
       "50%         6.000000     7.000000    14.000000  1977.000000     0.075779   \n",
       "75%         6.000000    12.000000    17.000000  2002.000000     0.195781   \n",
       "max         9.000000    37.000000    48.000000  2019.000000     0.521867   \n",
       "\n",
       "        Ecology_2    Ecology_3     Social_1      Social_2     Social_3  \\\n",
       "count  3000.00000  3000.000000  3000.000000   3000.000000  3000.000000   \n",
       "mean      0.01100     0.024333    24.499000   5323.531333     8.026667   \n",
       "std       0.10432     0.154108    17.413857   3995.703779    23.746703   \n",
       "min       0.00000     0.000000     0.000000    168.000000     0.000000   \n",
       "25%       0.00000     0.000000     6.000000   1564.000000     0.000000   \n",
       "50%       0.00000     0.000000    25.000000   5285.000000     2.000000   \n",
       "75%       0.00000     0.000000    35.000000   7227.000000     5.000000   \n",
       "max       1.00000     1.000000    74.000000  19083.000000   141.000000   \n",
       "\n",
       "       Healthcare_1  Healthcare_2      Shops_1      Shops_2          Price  \\\n",
       "count   3000.000000   3000.000000  3000.000000  3000.000000    3000.000000   \n",
       "mean     605.270667      1.334333     4.163000     0.080333  213414.800753   \n",
       "std      942.648473      1.505980     4.762561     0.271854   92761.108274   \n",
       "min        0.000000      0.000000     0.000000     0.000000   59877.592523   \n",
       "25%        0.000000      0.000000     1.000000     0.000000  151954.236807   \n",
       "50%       30.000000      1.000000     3.000000     0.000000  192054.173699   \n",
       "75%     1015.000000      3.000000     5.000000     0.000000  250052.147507   \n",
       "max     4849.000000      6.000000    23.000000     1.000000  633233.466570   \n",
       "\n",
       "       flat_qty_distr  mean_price_dr   mean_price_r   mean_price_s  \n",
       "count     3000.000000    3000.000000    3000.000000    3000.000000  \n",
       "mean         0.024354  212385.405482  214725.522273  214725.522273  \n",
       "std          0.026806   72822.346029   54620.738996   54620.738996  \n",
       "min          0.000143   98177.346712  159070.589178  159070.589178  \n",
       "25%          0.005714  165375.032606  159070.589178  159070.589178  \n",
       "50%          0.010429  196547.528450  214823.938545  214823.938545  \n",
       "75%          0.050714  246806.116955  214823.938545  214823.938545  \n",
       "max          0.082000  561260.913003  390956.863429  390956.863429  "
      ]
     },
     "execution_count": 3431,
     "metadata": {},
     "output_type": "execute_result"
    }
   ],
   "source": [
    "valid.describe()"
   ]
  },
  {
   "cell_type": "markdown",
   "metadata": {},
   "source": [
    "### Model"
   ]
  },
  {
   "cell_type": "code",
   "execution_count": 3432,
   "metadata": {},
   "outputs": [],
   "source": [
    "from sklearn.ensemble import RandomForestRegressor as RF"
   ]
  },
  {
   "cell_type": "code",
   "execution_count": 3433,
   "metadata": {},
   "outputs": [
    {
     "data": {
      "text/plain": [
       "Index(['Id', 'DistrictId', 'Rooms', 'Square', 'LifeSquare', 'KitchenSquare',\n",
       "       'Floor', 'HouseFloor', 'HouseYear', 'Ecology_1', 'Ecology_2',\n",
       "       'Ecology_3', 'Social_1', 'Social_2', 'Social_3', 'Healthcare_1',\n",
       "       'Healthcare_2', 'Shops_1', 'Shops_2', 'Price', 'flat_qty_distr',\n",
       "       'mean_price_dr', 'mean_price_r', 'mean_price_s'],\n",
       "      dtype='object')"
      ]
     },
     "execution_count": 3433,
     "metadata": {},
     "output_type": "execute_result"
    }
   ],
   "source": [
    "train.columns"
   ]
  },
  {
   "cell_type": "code",
   "execution_count": 3434,
   "metadata": {},
   "outputs": [],
   "source": [
    "feats = ['DistrictId', 'Rooms', 'Square', 'LifeSquare', 'KitchenSquare',\n",
    "       'Floor', 'HouseFloor', 'HouseYear', 'Ecology_1', 'Ecology_2',\n",
    "       'Ecology_3', 'Social_1', 'Social_2', 'Social_3',\n",
    "       'Healthcare_1', 'Shops_1', 'Shops_2']"
   ]
  },
  {
   "cell_type": "code",
   "execution_count": 3435,
   "metadata": {},
   "outputs": [],
   "source": [
    "model = RF(n_estimators=400,\n",
    "    max_depth=26,\n",
    "    max_features=0.5,\n",
    "    min_samples_leaf=1,\n",
    "    min_samples_split=5,\n",
    "    random_state=42)"
   ]
  },
  {
   "cell_type": "code",
   "execution_count": 3436,
   "metadata": {},
   "outputs": [
    {
     "data": {
      "text/plain": [
       "RandomForestRegressor(bootstrap=True, criterion='mse', max_depth=26,\n",
       "           max_features=0.5, max_leaf_nodes=None,\n",
       "           min_impurity_decrease=0.0, min_impurity_split=None,\n",
       "           min_samples_leaf=1, min_samples_split=5,\n",
       "           min_weight_fraction_leaf=0.0, n_estimators=400, n_jobs=None,\n",
       "           oob_score=False, random_state=42, verbose=0, warm_start=False)"
      ]
     },
     "execution_count": 3436,
     "metadata": {},
     "output_type": "execute_result"
    }
   ],
   "source": [
    "model.fit(train.loc[:, feats], train['Price'])"
   ]
  },
  {
   "cell_type": "code",
   "execution_count": 3437,
   "metadata": {},
   "outputs": [],
   "source": [
    "pred_train = model.predict(train.loc[:, feats])"
   ]
  },
  {
   "cell_type": "code",
   "execution_count": 3438,
   "metadata": {},
   "outputs": [
    {
     "data": {
      "text/plain": [
       "(7000,)"
      ]
     },
     "execution_count": 3438,
     "metadata": {},
     "output_type": "execute_result"
    }
   ],
   "source": [
    "pred_train.shape"
   ]
  },
  {
   "cell_type": "code",
   "execution_count": 3439,
   "metadata": {},
   "outputs": [
    {
     "data": {
      "text/plain": [
       "array([ 97297.6063017 , 268491.3132374 , 179443.13604393, ...,\n",
       "       239587.69833888, 189870.74313729, 421154.8321912 ])"
      ]
     },
     "execution_count": 3439,
     "metadata": {},
     "output_type": "execute_result"
    }
   ],
   "source": [
    "pred_train"
   ]
  },
  {
   "cell_type": "code",
   "execution_count": 3440,
   "metadata": {},
   "outputs": [],
   "source": [
    "pred_valid = model.predict(valid.loc[:, feats])"
   ]
  },
  {
   "cell_type": "code",
   "execution_count": 3441,
   "metadata": {},
   "outputs": [
    {
     "data": {
      "text/plain": [
       "(3000,)"
      ]
     },
     "execution_count": 3441,
     "metadata": {},
     "output_type": "execute_result"
    }
   ],
   "source": [
    "pred_valid.shape"
   ]
  },
  {
   "cell_type": "code",
   "execution_count": 3442,
   "metadata": {},
   "outputs": [
    {
     "data": {
      "text/plain": [
       "array([184098.36362448, 276341.18379578, 215411.83078119, ...,\n",
       "       247136.12574046, 115059.62653449, 250097.91757736])"
      ]
     },
     "execution_count": 3442,
     "metadata": {},
     "output_type": "execute_result"
    }
   ],
   "source": [
    "pred_valid"
   ]
  },
  {
   "cell_type": "markdown",
   "metadata": {},
   "source": [
    "### Evaluate model"
   ]
  },
  {
   "cell_type": "code",
   "execution_count": 3443,
   "metadata": {},
   "outputs": [],
   "source": [
    "from sklearn.metrics import r2_score as R2"
   ]
  },
  {
   "cell_type": "code",
   "execution_count": 3444,
   "metadata": {},
   "outputs": [
    {
     "data": {
      "text/plain": [
       "0.9414908196991565"
      ]
     },
     "execution_count": 3444,
     "metadata": {},
     "output_type": "execute_result"
    }
   ],
   "source": [
    "R2(train['Price'], pred_train)"
   ]
  },
  {
   "cell_type": "code",
   "execution_count": 3445,
   "metadata": {},
   "outputs": [
    {
     "data": {
      "text/plain": [
       "0.7266187746715909"
      ]
     },
     "execution_count": 3445,
     "metadata": {},
     "output_type": "execute_result"
    }
   ],
   "source": [
    "R2(valid['Price'], pred_valid)"
   ]
  },
  {
   "cell_type": "markdown",
   "metadata": {},
   "source": [
    "### Test"
   ]
  },
  {
   "cell_type": "code",
   "execution_count": 3446,
   "metadata": {},
   "outputs": [],
   "source": [
    "test = pd.read_csv('data/test.csv')"
   ]
  },
  {
   "cell_type": "code",
   "execution_count": 3447,
   "metadata": {},
   "outputs": [],
   "source": [
    "test = prepare_data(test)"
   ]
  },
  {
   "cell_type": "code",
   "execution_count": 3448,
   "metadata": {},
   "outputs": [
    {
     "data": {
      "text/html": [
       "<div>\n",
       "<style scoped>\n",
       "    .dataframe tbody tr th:only-of-type {\n",
       "        vertical-align: middle;\n",
       "    }\n",
       "\n",
       "    .dataframe tbody tr th {\n",
       "        vertical-align: top;\n",
       "    }\n",
       "\n",
       "    .dataframe thead th {\n",
       "        text-align: right;\n",
       "    }\n",
       "</style>\n",
       "<table border=\"1\" class=\"dataframe\">\n",
       "  <thead>\n",
       "    <tr style=\"text-align: right;\">\n",
       "      <th></th>\n",
       "      <th>Id</th>\n",
       "      <th>DistrictId</th>\n",
       "      <th>Rooms</th>\n",
       "      <th>Square</th>\n",
       "      <th>LifeSquare</th>\n",
       "      <th>KitchenSquare</th>\n",
       "      <th>Floor</th>\n",
       "      <th>HouseFloor</th>\n",
       "      <th>HouseYear</th>\n",
       "      <th>Ecology_1</th>\n",
       "      <th>Ecology_2</th>\n",
       "      <th>Ecology_3</th>\n",
       "      <th>Social_1</th>\n",
       "      <th>Social_2</th>\n",
       "      <th>Social_3</th>\n",
       "      <th>Healthcare_1</th>\n",
       "      <th>Helthcare_2</th>\n",
       "      <th>Shops_1</th>\n",
       "      <th>Shops_2</th>\n",
       "      <th>flat_qty_distr</th>\n",
       "      <th>mean_price_dr</th>\n",
       "      <th>mean_price_r</th>\n",
       "      <th>mean_price_s</th>\n",
       "    </tr>\n",
       "  </thead>\n",
       "  <tbody>\n",
       "    <tr>\n",
       "      <th>count</th>\n",
       "      <td>5000.000000</td>\n",
       "      <td>5000.000000</td>\n",
       "      <td>5000.000000</td>\n",
       "      <td>5000.000000</td>\n",
       "      <td>5000.000000</td>\n",
       "      <td>5000.000000</td>\n",
       "      <td>5000.000000</td>\n",
       "      <td>5000.000000</td>\n",
       "      <td>5000.000000</td>\n",
       "      <td>5000.000000</td>\n",
       "      <td>5000.000000</td>\n",
       "      <td>5000.000000</td>\n",
       "      <td>5000.000000</td>\n",
       "      <td>5000.000000</td>\n",
       "      <td>5000.000000</td>\n",
       "      <td>5000.000000</td>\n",
       "      <td>5000.00000</td>\n",
       "      <td>5000.000000</td>\n",
       "      <td>5000.000000</td>\n",
       "      <td>5000.000000</td>\n",
       "      <td>5000.000000</td>\n",
       "      <td>5000.000000</td>\n",
       "      <td>5000.000000</td>\n",
       "    </tr>\n",
       "    <tr>\n",
       "      <th>mean</th>\n",
       "      <td>8412.595400</td>\n",
       "      <td>51.279200</td>\n",
       "      <td>1.915000</td>\n",
       "      <td>56.522084</td>\n",
       "      <td>31.890107</td>\n",
       "      <td>6.274400</td>\n",
       "      <td>8.632000</td>\n",
       "      <td>13.395000</td>\n",
       "      <td>1984.390800</td>\n",
       "      <td>0.119874</td>\n",
       "      <td>0.009600</td>\n",
       "      <td>0.029800</td>\n",
       "      <td>24.933800</td>\n",
       "      <td>5406.900000</td>\n",
       "      <td>8.262600</td>\n",
       "      <td>601.536400</td>\n",
       "      <td>1.31940</td>\n",
       "      <td>4.242800</td>\n",
       "      <td>0.082400</td>\n",
       "      <td>0.023402</td>\n",
       "      <td>214784.013488</td>\n",
       "      <td>215574.444750</td>\n",
       "      <td>215574.444750</td>\n",
       "    </tr>\n",
       "    <tr>\n",
       "      <th>std</th>\n",
       "      <td>4832.674037</td>\n",
       "      <td>44.179466</td>\n",
       "      <td>0.821407</td>\n",
       "      <td>18.967299</td>\n",
       "      <td>17.144971</td>\n",
       "      <td>0.550968</td>\n",
       "      <td>5.483228</td>\n",
       "      <td>6.231945</td>\n",
       "      <td>18.569745</td>\n",
       "      <td>0.120070</td>\n",
       "      <td>0.097518</td>\n",
       "      <td>0.170052</td>\n",
       "      <td>17.532202</td>\n",
       "      <td>4026.614773</td>\n",
       "      <td>23.863762</td>\n",
       "      <td>948.929796</td>\n",
       "      <td>1.47994</td>\n",
       "      <td>4.777365</td>\n",
       "      <td>0.275001</td>\n",
       "      <td>0.026187</td>\n",
       "      <td>73537.466133</td>\n",
       "      <td>54366.322497</td>\n",
       "      <td>54366.322497</td>\n",
       "    </tr>\n",
       "    <tr>\n",
       "      <th>min</th>\n",
       "      <td>1.000000</td>\n",
       "      <td>0.000000</td>\n",
       "      <td>1.000000</td>\n",
       "      <td>16.319015</td>\n",
       "      <td>15.000000</td>\n",
       "      <td>6.000000</td>\n",
       "      <td>1.000000</td>\n",
       "      <td>1.000000</td>\n",
       "      <td>1908.000000</td>\n",
       "      <td>0.000000</td>\n",
       "      <td>0.000000</td>\n",
       "      <td>0.000000</td>\n",
       "      <td>0.000000</td>\n",
       "      <td>168.000000</td>\n",
       "      <td>0.000000</td>\n",
       "      <td>0.000000</td>\n",
       "      <td>0.00000</td>\n",
       "      <td>0.000000</td>\n",
       "      <td>0.000000</td>\n",
       "      <td>0.000143</td>\n",
       "      <td>78030.684516</td>\n",
       "      <td>159070.589178</td>\n",
       "      <td>159070.589178</td>\n",
       "    </tr>\n",
       "    <tr>\n",
       "      <th>25%</th>\n",
       "      <td>4221.750000</td>\n",
       "      <td>21.000000</td>\n",
       "      <td>1.000000</td>\n",
       "      <td>41.912403</td>\n",
       "      <td>18.000725</td>\n",
       "      <td>6.000000</td>\n",
       "      <td>4.000000</td>\n",
       "      <td>9.000000</td>\n",
       "      <td>1973.000000</td>\n",
       "      <td>0.019509</td>\n",
       "      <td>0.000000</td>\n",
       "      <td>0.000000</td>\n",
       "      <td>6.000000</td>\n",
       "      <td>1564.000000</td>\n",
       "      <td>0.000000</td>\n",
       "      <td>0.000000</td>\n",
       "      <td>0.00000</td>\n",
       "      <td>1.000000</td>\n",
       "      <td>0.000000</td>\n",
       "      <td>0.005286</td>\n",
       "      <td>165986.300483</td>\n",
       "      <td>159070.589178</td>\n",
       "      <td>159070.589178</td>\n",
       "    </tr>\n",
       "    <tr>\n",
       "      <th>50%</th>\n",
       "      <td>8320.500000</td>\n",
       "      <td>37.000000</td>\n",
       "      <td>2.000000</td>\n",
       "      <td>52.924953</td>\n",
       "      <td>29.110518</td>\n",
       "      <td>6.000000</td>\n",
       "      <td>7.000000</td>\n",
       "      <td>14.000000</td>\n",
       "      <td>1977.000000</td>\n",
       "      <td>0.072158</td>\n",
       "      <td>0.000000</td>\n",
       "      <td>0.000000</td>\n",
       "      <td>25.000000</td>\n",
       "      <td>5285.000000</td>\n",
       "      <td>2.000000</td>\n",
       "      <td>30.000000</td>\n",
       "      <td>1.00000</td>\n",
       "      <td>3.000000</td>\n",
       "      <td>0.000000</td>\n",
       "      <td>0.009429</td>\n",
       "      <td>198775.648383</td>\n",
       "      <td>214823.938545</td>\n",
       "      <td>214823.938545</td>\n",
       "    </tr>\n",
       "    <tr>\n",
       "      <th>75%</th>\n",
       "      <td>12598.250000</td>\n",
       "      <td>77.000000</td>\n",
       "      <td>2.000000</td>\n",
       "      <td>66.285129</td>\n",
       "      <td>41.384025</td>\n",
       "      <td>6.000000</td>\n",
       "      <td>12.000000</td>\n",
       "      <td>17.000000</td>\n",
       "      <td>2000.000000</td>\n",
       "      <td>0.195781</td>\n",
       "      <td>0.000000</td>\n",
       "      <td>0.000000</td>\n",
       "      <td>36.000000</td>\n",
       "      <td>7287.000000</td>\n",
       "      <td>5.000000</td>\n",
       "      <td>990.000000</td>\n",
       "      <td>2.00000</td>\n",
       "      <td>6.000000</td>\n",
       "      <td>0.000000</td>\n",
       "      <td>0.050714</td>\n",
       "      <td>247244.824542</td>\n",
       "      <td>214823.938545</td>\n",
       "      <td>214823.938545</td>\n",
       "    </tr>\n",
       "    <tr>\n",
       "      <th>max</th>\n",
       "      <td>16795.000000</td>\n",
       "      <td>212.000000</td>\n",
       "      <td>6.000000</td>\n",
       "      <td>223.453689</td>\n",
       "      <td>168.729035</td>\n",
       "      <td>9.000000</td>\n",
       "      <td>78.000000</td>\n",
       "      <td>99.000000</td>\n",
       "      <td>2019.000000</td>\n",
       "      <td>0.521867</td>\n",
       "      <td>1.000000</td>\n",
       "      <td>1.000000</td>\n",
       "      <td>74.000000</td>\n",
       "      <td>19083.000000</td>\n",
       "      <td>141.000000</td>\n",
       "      <td>4849.000000</td>\n",
       "      <td>6.00000</td>\n",
       "      <td>23.000000</td>\n",
       "      <td>1.000000</td>\n",
       "      <td>0.082000</td>\n",
       "      <td>570525.064275</td>\n",
       "      <td>390956.863429</td>\n",
       "      <td>390956.863429</td>\n",
       "    </tr>\n",
       "  </tbody>\n",
       "</table>\n",
       "</div>"
      ],
      "text/plain": [
       "                 Id   DistrictId        Rooms       Square   LifeSquare  \\\n",
       "count   5000.000000  5000.000000  5000.000000  5000.000000  5000.000000   \n",
       "mean    8412.595400    51.279200     1.915000    56.522084    31.890107   \n",
       "std     4832.674037    44.179466     0.821407    18.967299    17.144971   \n",
       "min        1.000000     0.000000     1.000000    16.319015    15.000000   \n",
       "25%     4221.750000    21.000000     1.000000    41.912403    18.000725   \n",
       "50%     8320.500000    37.000000     2.000000    52.924953    29.110518   \n",
       "75%    12598.250000    77.000000     2.000000    66.285129    41.384025   \n",
       "max    16795.000000   212.000000     6.000000   223.453689   168.729035   \n",
       "\n",
       "       KitchenSquare        Floor   HouseFloor    HouseYear    Ecology_1  \\\n",
       "count    5000.000000  5000.000000  5000.000000  5000.000000  5000.000000   \n",
       "mean        6.274400     8.632000    13.395000  1984.390800     0.119874   \n",
       "std         0.550968     5.483228     6.231945    18.569745     0.120070   \n",
       "min         6.000000     1.000000     1.000000  1908.000000     0.000000   \n",
       "25%         6.000000     4.000000     9.000000  1973.000000     0.019509   \n",
       "50%         6.000000     7.000000    14.000000  1977.000000     0.072158   \n",
       "75%         6.000000    12.000000    17.000000  2000.000000     0.195781   \n",
       "max         9.000000    78.000000    99.000000  2019.000000     0.521867   \n",
       "\n",
       "         Ecology_2    Ecology_3     Social_1      Social_2     Social_3  \\\n",
       "count  5000.000000  5000.000000  5000.000000   5000.000000  5000.000000   \n",
       "mean      0.009600     0.029800    24.933800   5406.900000     8.262600   \n",
       "std       0.097518     0.170052    17.532202   4026.614773    23.863762   \n",
       "min       0.000000     0.000000     0.000000    168.000000     0.000000   \n",
       "25%       0.000000     0.000000     6.000000   1564.000000     0.000000   \n",
       "50%       0.000000     0.000000    25.000000   5285.000000     2.000000   \n",
       "75%       0.000000     0.000000    36.000000   7287.000000     5.000000   \n",
       "max       1.000000     1.000000    74.000000  19083.000000   141.000000   \n",
       "\n",
       "       Healthcare_1  Helthcare_2      Shops_1      Shops_2  flat_qty_distr  \\\n",
       "count   5000.000000   5000.00000  5000.000000  5000.000000     5000.000000   \n",
       "mean     601.536400      1.31940     4.242800     0.082400        0.023402   \n",
       "std      948.929796      1.47994     4.777365     0.275001        0.026187   \n",
       "min        0.000000      0.00000     0.000000     0.000000        0.000143   \n",
       "25%        0.000000      0.00000     1.000000     0.000000        0.005286   \n",
       "50%       30.000000      1.00000     3.000000     0.000000        0.009429   \n",
       "75%      990.000000      2.00000     6.000000     0.000000        0.050714   \n",
       "max     4849.000000      6.00000    23.000000     1.000000        0.082000   \n",
       "\n",
       "       mean_price_dr   mean_price_r   mean_price_s  \n",
       "count    5000.000000    5000.000000    5000.000000  \n",
       "mean   214784.013488  215574.444750  215574.444750  \n",
       "std     73537.466133   54366.322497   54366.322497  \n",
       "min     78030.684516  159070.589178  159070.589178  \n",
       "25%    165986.300483  159070.589178  159070.589178  \n",
       "50%    198775.648383  214823.938545  214823.938545  \n",
       "75%    247244.824542  214823.938545  214823.938545  \n",
       "max    570525.064275  390956.863429  390956.863429  "
      ]
     },
     "execution_count": 3448,
     "metadata": {},
     "output_type": "execute_result"
    }
   ],
   "source": [
    "test.describe()"
   ]
  },
  {
   "cell_type": "code",
   "execution_count": 3449,
   "metadata": {},
   "outputs": [],
   "source": [
    "# создаем колонку price, в которую запишим результат\n",
    "test['Price'] = model.predict(test.loc[:, feats])"
   ]
  },
  {
   "cell_type": "code",
   "execution_count": 3450,
   "metadata": {},
   "outputs": [
    {
     "data": {
      "text/plain": [
       "<matplotlib.lines.Line2D at 0x1b04f417b8>"
      ]
     },
     "execution_count": 3450,
     "metadata": {},
     "output_type": "execute_result"
    },
    {
     "data": {
      "image/png": "[encoded data removed]",
      "text/plain": [
       "<Figure size 432x288 with 1 Axes>"
      ]
     },
     "metadata": {
      "needs_background": "light"
     },
     "output_type": "display_data"
    }
   ],
   "source": [
    "plt.hist(test['Price'], bins = 20)\n",
    "plt.axvline(x=data['Price'].mean(), color='orange')"
   ]
  },
  {
   "cell_type": "code",
   "execution_count": 3451,
   "metadata": {},
   "outputs": [
    {
     "data": {
      "image/png": "[encoded data removed]",
      "text/plain": [
       "<Figure size 432x288 with 1 Axes>"
      ]
     },
     "metadata": {
      "needs_background": "light"
     },
     "output_type": "display_data"
    }
   ],
   "source": [
    "sns.boxplot(x=test['Rooms'], y = test['Price']);"
   ]
  },
  {
   "cell_type": "code",
   "execution_count": 3452,
   "metadata": {},
   "outputs": [],
   "source": [
    "test.loc[:, ['Id', 'Price']].to_csv('ASatyukova_predictions.csv', index=None)"
   ]
  },
  {
   "cell_type": "code",
   "execution_count": 3453,
   "metadata": {},
   "outputs": [],
   "source": [
    "result = pd.read_csv('ASatyukova_predictions.csv')"
   ]
  },
  {
   "cell_type": "code",
   "execution_count": 3454,
   "metadata": {},
   "outputs": [
    {
     "data": {
      "text/plain": [
       "(5000, 2)"
      ]
     },
     "execution_count": 3454,
     "metadata": {},
     "output_type": "execute_result"
    }
   ],
   "source": [
    "result.shape"
   ]
  },
  {
   "cell_type": "code",
   "execution_count": 3455,
   "metadata": {},
   "outputs": [
    {
     "data": {
      "text/html": [
       "<div>\n",
       "<style scoped>\n",
       "    .dataframe tbody tr th:only-of-type {\n",
       "        vertical-align: middle;\n",
       "    }\n",
       "\n",
       "    .dataframe tbody tr th {\n",
       "        vertical-align: top;\n",
       "    }\n",
       "\n",
       "    .dataframe thead th {\n",
       "        text-align: right;\n",
       "    }\n",
       "</style>\n",
       "<table border=\"1\" class=\"dataframe\">\n",
       "  <thead>\n",
       "    <tr style=\"text-align: right;\">\n",
       "      <th></th>\n",
       "      <th>Id</th>\n",
       "      <th>Price</th>\n",
       "    </tr>\n",
       "  </thead>\n",
       "  <tbody>\n",
       "    <tr>\n",
       "      <th>count</th>\n",
       "      <td>5000.000000</td>\n",
       "      <td>5000.000000</td>\n",
       "    </tr>\n",
       "    <tr>\n",
       "      <th>mean</th>\n",
       "      <td>8412.595400</td>\n",
       "      <td>215370.442769</td>\n",
       "    </tr>\n",
       "    <tr>\n",
       "      <th>std</th>\n",
       "      <td>4832.674037</td>\n",
       "      <td>77764.593733</td>\n",
       "    </tr>\n",
       "    <tr>\n",
       "      <th>min</th>\n",
       "      <td>1.000000</td>\n",
       "      <td>67053.585253</td>\n",
       "    </tr>\n",
       "    <tr>\n",
       "      <th>25%</th>\n",
       "      <td>4221.750000</td>\n",
       "      <td>164899.719962</td>\n",
       "    </tr>\n",
       "    <tr>\n",
       "      <th>50%</th>\n",
       "      <td>8320.500000</td>\n",
       "      <td>195940.180186</td>\n",
       "    </tr>\n",
       "    <tr>\n",
       "      <th>75%</th>\n",
       "      <td>12598.250000</td>\n",
       "      <td>249946.134592</td>\n",
       "    </tr>\n",
       "    <tr>\n",
       "      <th>max</th>\n",
       "      <td>16795.000000</td>\n",
       "      <td>531051.953461</td>\n",
       "    </tr>\n",
       "  </tbody>\n",
       "</table>\n",
       "</div>"
      ],
      "text/plain": [
       "                 Id          Price\n",
       "count   5000.000000    5000.000000\n",
       "mean    8412.595400  215370.442769\n",
       "std     4832.674037   77764.593733\n",
       "min        1.000000   67053.585253\n",
       "25%     4221.750000  164899.719962\n",
       "50%     8320.500000  195940.180186\n",
       "75%    12598.250000  249946.134592\n",
       "max    16795.000000  531051.953461"
      ]
     },
     "execution_count": 3455,
     "metadata": {},
     "output_type": "execute_result"
    }
   ],
   "source": [
    "result.describe()"
   ]
  },
  {
   "cell_type": "code",
   "execution_count": null,
   "metadata": {},
   "outputs": [],
   "source": []
  }
 ],
 "metadata": {
  "kernelspec": {
   "display_name": "Python 3",
   "language": "python",
   "name": "python3"
  },
  "language_info": {
   "codemirror_mode": {
    "name": "ipython",
    "version": 3
   },
   "file_extension": ".py",
   "mimetype": "text/x-python",
   "name": "python",
   "nbconvert_exporter": "python",
   "pygments_lexer": "ipython3",
   "version": "3.7.1"
  }
 },
 "nbformat": 4,
 "nbformat_minor": 2
}
