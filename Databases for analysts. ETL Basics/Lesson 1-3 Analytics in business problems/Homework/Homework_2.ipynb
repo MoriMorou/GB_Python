{
 "cells": [
  {
   "cell_type": "markdown",
   "metadata": {},
   "source": [
    "Ребята в тексте ссылка на статью по прогонозу с учетом сезонности и тренда. ( https://4analytics.ru/prognozirovanie/kak-rasschitat-prognoz-prodaj-s-uchetom-rosta-i-sezonnosti-v-excel.html ).\n",
    "\n",
    "Ваша задача прочитать статью и потом на основе данных к прошлому ДЗ сделать прогноз ТО на 2018 по этой методологии. И сравнить с фактом:\n",
    "ГГММ Сумма\n",
    "1801 256798898\n",
    "1802 232640416\n",
    "1803 267994924\n",
    "1804 262849522\n",
    "1805 276933049\n",
    "1806 251486085\n",
    "1807 250559778\n",
    "1808 261724749\n",
    "1809 276675505\n",
    "1810 287647539\n",
    "1811 363102609\n",
    "1812 422386052\n",
    "\n",
    "Как результат ТЗ можете прислать скрин рассчета и сравнения.\n",
    "\n",
    "ПС: я сейчас подготвавливаю источникик данных для вашего тестового хранилища, что бы потом вы могли сделать отчетность по департаментам (как проговаривали на занятии). Это ДЗ то же важное, мы этот подход использовали на практике."
   ]
  },
  {
   "cell_type": "code",
   "execution_count": 3,
   "metadata": {},
   "outputs": [],
   "source": [
    "import itertools\n",
    "import numpy as np\n",
    "import matplotlib.pyplot as plt\n",
    "\n",
    "plt.style.use('fivethirtyeight')\n",
    "import pandas as pd\n",
    "import sklearn.linear_model as lm\n",
    "import statsmodels.api as sm\n",
    "import matplotlib\n",
    "import matplotlib.pyplot as plt\n",
    "from pylab import rcParams\n",
    "\n",
    "matplotlib.rcParams['axes.labelsize'] = 14\n",
    "matplotlib.rcParams['xtick.labelsize'] = 12\n",
    "matplotlib.rcParams['ytick.labelsize'] = 12\n",
    "matplotlib.rcParams['text.color'] = 'k'"
   ]
  },
  {
   "cell_type": "code",
   "execution_count": 10,
   "metadata": {},
   "outputs": [],
   "source": [
    "# Upload DB\n",
    "orders = pd.read_csv(\"orders_20190822.csv\",sep=\";\",decimal=\",\",parse_dates=[\"o_date\"])"
   ]
  },
  {
   "cell_type": "code",
   "execution_count": 11,
   "metadata": {},
   "outputs": [
    {
     "data": {
      "text/plain": [
       "['id_o', 'user_id', 'price', 'o_date']"
      ]
     },
     "execution_count": 11,
     "metadata": {},
     "output_type": "execute_result"
    }
   ],
   "source": [
    "list(orders.columns)"
   ]
  },
  {
   "cell_type": "code",
   "execution_count": 12,
   "metadata": {},
   "outputs": [
    {
     "data": {
      "text/plain": [
       "['id', 'user', 'price', 'date']"
      ]
     },
     "execution_count": 12,
     "metadata": {},
     "output_type": "execute_result"
    }
   ],
   "source": [
    "# Rename columns\n",
    "orders = orders.rename(columns={'id_o': 'id', 'user_id': 'user', 'o_date': 'date'})\n",
    "list(orders.columns)"
   ]
  },
  {
   "cell_type": "code",
   "execution_count": 13,
   "metadata": {},
   "outputs": [
    {
     "name": "stdout",
     "output_type": "stream",
     "text": [
      "<class 'pandas.core.frame.DataFrame'>\n",
      "RangeIndex: 2002804 entries, 0 to 2002803\n",
      "Data columns (total 4 columns):\n",
      "id       int64\n",
      "user     int64\n",
      "price    float64\n",
      "date     datetime64[ns]\n",
      "dtypes: datetime64[ns](1), float64(1), int64(2)\n",
      "memory usage: 61.1 MB\n"
     ]
    }
   ],
   "source": [
    "orders.info()"
   ]
  },
  {
   "cell_type": "code",
   "execution_count": 14,
   "metadata": {},
   "outputs": [
    {
     "data": {
      "text/plain": [
       "Timestamp('2017-12-31 00:00:00')"
      ]
     },
     "execution_count": 14,
     "metadata": {},
     "output_type": "execute_result"
    }
   ],
   "source": [
    "orders[\"date\"].max()"
   ]
  },
  {
   "cell_type": "code",
   "execution_count": 15,
   "metadata": {},
   "outputs": [
    {
     "data": {
      "text/plain": [
       "Timestamp('2016-01-01 00:00:00')"
      ]
     },
     "execution_count": 15,
     "metadata": {},
     "output_type": "execute_result"
    }
   ],
   "source": [
    "orders[\"date\"].min()"
   ]
  },
  {
   "cell_type": "code",
   "execution_count": 16,
   "metadata": {},
   "outputs": [
    {
     "data": {
      "text/html": [
       "<div>\n",
       "<style scoped>\n",
       "    .dataframe tbody tr th:only-of-type {\n",
       "        vertical-align: middle;\n",
       "    }\n",
       "\n",
       "    .dataframe tbody tr th {\n",
       "        vertical-align: top;\n",
       "    }\n",
       "\n",
       "    .dataframe thead th {\n",
       "        text-align: right;\n",
       "    }\n",
       "</style>\n",
       "<table border=\"1\" class=\"dataframe\">\n",
       "  <thead>\n",
       "    <tr style=\"text-align: right;\">\n",
       "      <th></th>\n",
       "      <th>user</th>\n",
       "      <th>price</th>\n",
       "    </tr>\n",
       "  </thead>\n",
       "  <tbody>\n",
       "    <tr>\n",
       "      <th>count</th>\n",
       "      <td>2.002804e+06</td>\n",
       "      <td>2.002804e+06</td>\n",
       "    </tr>\n",
       "    <tr>\n",
       "      <th>mean</th>\n",
       "      <td>2.381755e+06</td>\n",
       "      <td>2.268164e+03</td>\n",
       "    </tr>\n",
       "    <tr>\n",
       "      <th>std</th>\n",
       "      <td>1.633211e+06</td>\n",
       "      <td>3.359283e+03</td>\n",
       "    </tr>\n",
       "    <tr>\n",
       "      <th>min</th>\n",
       "      <td>0.000000e+00</td>\n",
       "      <td>-1.848000e+02</td>\n",
       "    </tr>\n",
       "    <tr>\n",
       "      <th>25%</th>\n",
       "      <td>1.108048e+06</td>\n",
       "      <td>7.672000e+02</td>\n",
       "    </tr>\n",
       "    <tr>\n",
       "      <th>50%</th>\n",
       "      <td>2.028087e+06</td>\n",
       "      <td>1.441300e+03</td>\n",
       "    </tr>\n",
       "    <tr>\n",
       "      <th>75%</th>\n",
       "      <td>3.679133e+06</td>\n",
       "      <td>2.552900e+03</td>\n",
       "    </tr>\n",
       "    <tr>\n",
       "      <th>max</th>\n",
       "      <td>5.919156e+06</td>\n",
       "      <td>8.190966e+05</td>\n",
       "    </tr>\n",
       "  </tbody>\n",
       "</table>\n",
       "</div>"
      ],
      "text/plain": [
       "               user         price\n",
       "count  2.002804e+06  2.002804e+06\n",
       "mean   2.381755e+06  2.268164e+03\n",
       "std    1.633211e+06  3.359283e+03\n",
       "min    0.000000e+00 -1.848000e+02\n",
       "25%    1.108048e+06  7.672000e+02\n",
       "50%    2.028087e+06  1.441300e+03\n",
       "75%    3.679133e+06  2.552900e+03\n",
       "max    5.919156e+06  8.190966e+05"
      ]
     },
     "execution_count": 16,
     "metadata": {},
     "output_type": "execute_result"
    }
   ],
   "source": [
    "orders[['user', 'price']].describe()"
   ]
  },
  {
   "cell_type": "code",
   "execution_count": 19,
   "metadata": {},
   "outputs": [
    {
     "data": {
      "text/plain": [
       "819096.6"
      ]
     },
     "execution_count": 19,
     "metadata": {},
     "output_type": "execute_result"
    }
   ],
   "source": [
    "orders[\"price\"].max()"
   ]
  },
  {
   "cell_type": "code",
   "execution_count": 20,
   "metadata": {},
   "outputs": [
    {
     "data": {
      "text/plain": [
       "-184.8"
      ]
     },
     "execution_count": 20,
     "metadata": {},
     "output_type": "execute_result"
    }
   ],
   "source": [
    "orders[\"price\"].min()"
   ]
  },
  {
   "cell_type": "code",
   "execution_count": 26,
   "metadata": {},
   "outputs": [],
   "source": [
    "# We translate into date format and delete fake orders\n",
    "orders['date'] = pd.to_datetime(orders.date)\n",
    "orders = orders[~(orders['price']<=99) & ~(orders['price']>=300000)]"
   ]
  },
  {
   "cell_type": "code",
   "execution_count": 27,
   "metadata": {},
   "outputs": [
    {
     "data": {
      "text/plain": [
       "296153.2"
      ]
     },
     "execution_count": 27,
     "metadata": {},
     "output_type": "execute_result"
    }
   ],
   "source": [
    "orders[\"price\"].max()"
   ]
  },
  {
   "cell_type": "code",
   "execution_count": 28,
   "metadata": {},
   "outputs": [
    {
     "data": {
      "text/plain": [
       "99.4"
      ]
     },
     "execution_count": 28,
     "metadata": {},
     "output_type": "execute_result"
    }
   ],
   "source": [
    "orders[\"price\"].min()"
   ]
  },
  {
   "cell_type": "code",
   "execution_count": 29,
   "metadata": {},
   "outputs": [
    {
     "data": {
      "text/html": [
       "<div>\n",
       "<style scoped>\n",
       "    .dataframe tbody tr th:only-of-type {\n",
       "        vertical-align: middle;\n",
       "    }\n",
       "\n",
       "    .dataframe tbody tr th {\n",
       "        vertical-align: top;\n",
       "    }\n",
       "\n",
       "    .dataframe thead th {\n",
       "        text-align: right;\n",
       "    }\n",
       "</style>\n",
       "<table border=\"1\" class=\"dataframe\">\n",
       "  <thead>\n",
       "    <tr style=\"text-align: right;\">\n",
       "      <th></th>\n",
       "      <th>price</th>\n",
       "      <th>date</th>\n",
       "    </tr>\n",
       "  </thead>\n",
       "  <tbody>\n",
       "    <tr>\n",
       "      <th>0</th>\n",
       "      <td>539.0</td>\n",
       "      <td>2016-01-01</td>\n",
       "    </tr>\n",
       "    <tr>\n",
       "      <th>1</th>\n",
       "      <td>153.3</td>\n",
       "      <td>2016-01-01</td>\n",
       "    </tr>\n",
       "    <tr>\n",
       "      <th>3</th>\n",
       "      <td>752.5</td>\n",
       "      <td>2016-01-01</td>\n",
       "    </tr>\n",
       "    <tr>\n",
       "      <th>4</th>\n",
       "      <td>4410.0</td>\n",
       "      <td>2016-01-01</td>\n",
       "    </tr>\n",
       "    <tr>\n",
       "      <th>5</th>\n",
       "      <td>595.0</td>\n",
       "      <td>2016-01-01</td>\n",
       "    </tr>\n",
       "  </tbody>\n",
       "</table>\n",
       "</div>"
      ],
      "text/plain": [
       "    price       date\n",
       "0   539.0 2016-01-01\n",
       "1   153.3 2016-01-01\n",
       "3   752.5 2016-01-01\n",
       "4  4410.0 2016-01-01\n",
       "5   595.0 2016-01-01"
      ]
     },
     "execution_count": 29,
     "metadata": {},
     "output_type": "execute_result"
    }
   ],
   "source": [
    "price_date = orders[[\"price\",\"date\"]]\n",
    "price_date.head()"
   ]
  },
  {
   "cell_type": "code",
   "execution_count": 30,
   "metadata": {},
   "outputs": [
    {
     "data": {
      "text/html": [
       "<div>\n",
       "<style scoped>\n",
       "    .dataframe tbody tr th:only-of-type {\n",
       "        vertical-align: middle;\n",
       "    }\n",
       "\n",
       "    .dataframe tbody tr th {\n",
       "        vertical-align: top;\n",
       "    }\n",
       "\n",
       "    .dataframe thead th {\n",
       "        text-align: right;\n",
       "    }\n",
       "</style>\n",
       "<table border=\"1\" class=\"dataframe\">\n",
       "  <thead>\n",
       "    <tr style=\"text-align: right;\">\n",
       "      <th></th>\n",
       "      <th>price</th>\n",
       "    </tr>\n",
       "    <tr>\n",
       "      <th>date</th>\n",
       "      <th></th>\n",
       "    </tr>\n",
       "  </thead>\n",
       "  <tbody>\n",
       "    <tr>\n",
       "      <th>2016-01-01</th>\n",
       "      <td>539.0</td>\n",
       "    </tr>\n",
       "    <tr>\n",
       "      <th>2016-01-01</th>\n",
       "      <td>153.3</td>\n",
       "    </tr>\n",
       "    <tr>\n",
       "      <th>2016-01-01</th>\n",
       "      <td>752.5</td>\n",
       "    </tr>\n",
       "    <tr>\n",
       "      <th>2016-01-01</th>\n",
       "      <td>4410.0</td>\n",
       "    </tr>\n",
       "    <tr>\n",
       "      <th>2016-01-01</th>\n",
       "      <td>595.0</td>\n",
       "    </tr>\n",
       "  </tbody>\n",
       "</table>\n",
       "</div>"
      ],
      "text/plain": [
       "             price\n",
       "date              \n",
       "2016-01-01   539.0\n",
       "2016-01-01   153.3\n",
       "2016-01-01   752.5\n",
       "2016-01-01  4410.0\n",
       "2016-01-01   595.0"
      ]
     },
     "execution_count": 30,
     "metadata": {},
     "output_type": "execute_result"
    }
   ],
   "source": [
    "price_date= price_date.set_index('date')\n",
    "price_date.head()"
   ]
  },
  {
   "cell_type": "code",
   "execution_count": 31,
   "metadata": {},
   "outputs": [
    {
     "data": {
      "text/plain": [
       "date\n",
       "2016-01-01    112464297\n",
       "2016-02-01    100611274\n",
       "2016-03-01    125348334\n",
       "2016-04-01    135296874\n",
       "2016-05-01    129996680\n",
       "Freq: MS, Name: price, dtype: int64"
      ]
     },
     "execution_count": 31,
     "metadata": {},
     "output_type": "execute_result"
    }
   ],
   "source": [
    "y = price_date['price'].resample('MS').sum().astype(dtype=\"int64\")\n",
    "y.head()"
   ]
  },
  {
   "cell_type": "code",
   "execution_count": 32,
   "metadata": {},
   "outputs": [],
   "source": [
    "# https://pythonworld.ru/moduli/modul-itertools.html\n",
    "p = d = q = range(0, 2)\n",
    "pdq = list(itertools.product(p, d, q))\n",
    "seasonal_pdq = [(x[0], x[1], x[2], 12) for x in list(itertools.product(p, d, q))]"
   ]
  },
  {
   "cell_type": "code",
   "execution_count": 37,
   "metadata": {},
   "outputs": [
    {
     "name": "stdout",
     "output_type": "stream",
     "text": [
      "ARIMA(0, 0, 0)x(0, 0, 0, 12)12 - AIC:946.611122844572\n",
      "ARIMA(0, 0, 0)x(0, 1, 0, 12)12 - AIC:436.3871593311892\n",
      "ARIMA(0, 0, 0)x(1, 0, 0, 12)12 - AIC:444.3563499085916\n",
      "ARIMA(0, 0, 1)x(0, 0, 0, 12)12 - AIC:893.530145141938\n",
      "ARIMA(0, 0, 1)x(0, 1, 0, 12)12 - AIC:389.45933673262584\n",
      "ARIMA(0, 0, 1)x(1, 0, 0, 12)12 - AIC:487.96201969938954\n",
      "ARIMA(0, 1, 0)x(0, 0, 0, 12)12 - AIC:811.6644990086102\n",
      "ARIMA(0, 1, 0)x(0, 1, 0, 12)12 - AIC:369.80197916765104\n",
      "ARIMA(0, 1, 0)x(1, 0, 0, 12)12 - AIC:402.9120122404615\n",
      "ARIMA(0, 1, 1)x(0, 0, 0, 12)12 - AIC:776.0861596947892\n",
      "ARIMA(0, 1, 1)x(0, 1, 0, 12)12 - AIC:331.90307664550056\n",
      "ARIMA(0, 1, 1)x(1, 0, 0, 12)12 - AIC:406.43416935967497\n",
      "ARIMA(1, 0, 0)x(0, 0, 0, 12)12 - AIC:845.8855644043712\n",
      "ARIMA(1, 0, 0)x(0, 1, 0, 12)12 - AIC:402.96477252645377\n",
      "ARIMA(1, 0, 0)x(1, 0, 0, 12)12 - AIC:404.3303607967777\n",
      "ARIMA(1, 0, 1)x(0, 0, 0, 12)12 - AIC:811.6579485271625\n",
      "ARIMA(1, 0, 1)x(0, 1, 0, 12)12 - AIC:367.83554725506525\n",
      "ARIMA(1, 0, 1)x(1, 0, 0, 12)12 - AIC:406.43631188553206\n",
      "ARIMA(1, 1, 0)x(0, 0, 0, 12)12 - AIC:812.8854330934936\n",
      "ARIMA(1, 1, 0)x(0, 1, 0, 12)12 - AIC:365.2032266614623\n",
      "ARIMA(1, 1, 0)x(1, 0, 0, 12)12 - AIC:368.8857268667349\n",
      "ARIMA(1, 1, 1)x(0, 0, 0, 12)12 - AIC:777.712370076996\n",
      "ARIMA(1, 1, 1)x(0, 1, 0, 12)12 - AIC:335.2932887275773\n",
      "ARIMA(1, 1, 1)x(1, 0, 0, 12)12 - AIC:371.26632580259366\n"
     ]
    }
   ],
   "source": [
    "for param in pdq:\n",
    "    for param_seasonal in seasonal_pdq:\n",
    "        try:\n",
    "            mod = sm.tsa.statespace.SARIMAX(y,\n",
    "                                            order=param,\n",
    "                                            seasonal_order=param_seasonal,\n",
    "                                            enforce_stationarity=False,\n",
    "                                            enforce_invertibility=False)\n",
    "\n",
    "            results = mod.fit()\n",
    "\n",
    "            print('ARIMA{}x{}12 - AIC:{}'.format(param, param_seasonal, results.aic))\n",
    "        except:\n",
    "            continue"
   ]
  },
  {
   "cell_type": "code",
   "execution_count": 38,
   "metadata": {},
   "outputs": [
    {
     "name": "stdout",
     "output_type": "stream",
     "text": [
      "==============================================================================\n",
      "                 coef    std err          z      P>|z|      [0.025      0.975]\n",
      "------------------------------------------------------------------------------\n",
      "ma.L1         -0.3226      0.154     -2.099      0.036      -0.624      -0.021\n",
      "sigma2      1.984e+14   1.24e-16    1.6e+30      0.000    1.98e+14    1.98e+14\n",
      "==============================================================================\n"
     ]
    }
   ],
   "source": [
    "mod = sm.tsa.statespace.SARIMAX(y,\n",
    "                                order=(0, 1, 1),\n",
    "                                seasonal_order=(0, 1, 0, 12),\n",
    "                                enforce_stationarity=False,\n",
    "                                enforce_invertibility=False)\n",
    "\n",
    "results = mod.fit()\n",
    "\n",
    "print(results.summary().tables[1])"
   ]
  },
  {
   "cell_type": "code",
   "execution_count": 40,
   "metadata": {},
   "outputs": [
    {
     "data": {
      "text/plain": [
       "DatetimeIndex(['2018-01-01', '2018-02-01', '2018-03-01', '2018-04-01',\n",
       "               '2018-05-01', '2018-06-01', '2018-07-01', '2018-08-01',\n",
       "               '2018-09-01', '2018-10-01', '2018-11-01', '2018-12-01'],\n",
       "              dtype='datetime64[ns]', freq='MS')"
      ]
     },
     "execution_count": 40,
     "metadata": {},
     "output_type": "execute_result"
    }
   ],
   "source": [
    "pred_uc = results.get_forecast(steps=12)\n",
    "forecast_result = pred_uc.predicted_mean.astype(dtype=\"int64\")\n",
    "forecast_result.index"
   ]
  },
  {
   "cell_type": "code",
   "execution_count": 41,
   "metadata": {},
   "outputs": [
    {
     "data": {
      "text/plain": [
       "2018-01-01    256798898\n",
       "2018-02-01    232640416\n",
       "2018-03-01    267994924\n",
       "2018-04-01    262849522\n",
       "2018-05-01    276933049\n",
       "2018-06-01    251486085\n",
       "2018-07-01    250559778\n",
       "2018-08-01    261724749\n",
       "2018-09-01    276675505\n",
       "2018-10-01    287647539\n",
       "2018-11-01    363102609\n",
       "2018-12-01    422386052\n",
       "dtype: int64"
      ]
     },
     "execution_count": 41,
     "metadata": {},
     "output_type": "execute_result"
    }
   ],
   "source": [
    "# Check list (data from the HW)\n",
    "true_sales = pd.Series([256798898, 232640416, 267994924, 262849522, 276933049,251486085,250559778,261724749,276675505,287647539,363102609,422386052], index =['2018-01-01', '2018-02-01', '2018-03-01', '2018-04-01',\n",
    "               '2018-05-01', '2018-06-01', '2018-07-01', '2018-08-01',\n",
    "               '2018-09-01', '2018-10-01', '2018-11-01', '2018-12-01'])\n",
    "true_sales"
   ]
  },
  {
   "cell_type": "code",
   "execution_count": 42,
   "metadata": {},
   "outputs": [
    {
     "data": {
      "text/html": [
       "<div>\n",
       "<style scoped>\n",
       "    .dataframe tbody tr th:only-of-type {\n",
       "        vertical-align: middle;\n",
       "    }\n",
       "\n",
       "    .dataframe tbody tr th {\n",
       "        vertical-align: top;\n",
       "    }\n",
       "\n",
       "    .dataframe thead th {\n",
       "        text-align: right;\n",
       "    }\n",
       "</style>\n",
       "<table border=\"1\" class=\"dataframe\">\n",
       "  <thead>\n",
       "    <tr style=\"text-align: right;\">\n",
       "      <th></th>\n",
       "      <th>Forecast</th>\n",
       "      <th>Fact</th>\n",
       "    </tr>\n",
       "  </thead>\n",
       "  <tbody>\n",
       "    <tr>\n",
       "      <th>2018-01-01</th>\n",
       "      <td>288379401</td>\n",
       "      <td>256798898</td>\n",
       "    </tr>\n",
       "    <tr>\n",
       "      <th>2018-02-01</th>\n",
       "      <td>263634607</td>\n",
       "      <td>232640416</td>\n",
       "    </tr>\n",
       "    <tr>\n",
       "      <th>2018-03-01</th>\n",
       "      <td>299309031</td>\n",
       "      <td>267994924</td>\n",
       "    </tr>\n",
       "    <tr>\n",
       "      <th>2018-04-01</th>\n",
       "      <td>287009391</td>\n",
       "      <td>262849522</td>\n",
       "    </tr>\n",
       "    <tr>\n",
       "      <th>2018-05-01</th>\n",
       "      <td>321579770</td>\n",
       "      <td>276933049</td>\n",
       "    </tr>\n",
       "    <tr>\n",
       "      <th>2018-06-01</th>\n",
       "      <td>298696692</td>\n",
       "      <td>251486085</td>\n",
       "    </tr>\n",
       "    <tr>\n",
       "      <th>2018-07-01</th>\n",
       "      <td>303135085</td>\n",
       "      <td>250559778</td>\n",
       "    </tr>\n",
       "    <tr>\n",
       "      <th>2018-08-01</th>\n",
       "      <td>307713520</td>\n",
       "      <td>261724749</td>\n",
       "    </tr>\n",
       "    <tr>\n",
       "      <th>2018-09-01</th>\n",
       "      <td>309357669</td>\n",
       "      <td>276675505</td>\n",
       "    </tr>\n",
       "    <tr>\n",
       "      <th>2018-10-01</th>\n",
       "      <td>353123925</td>\n",
       "      <td>287647539</td>\n",
       "    </tr>\n",
       "    <tr>\n",
       "      <th>2018-11-01</th>\n",
       "      <td>396911287</td>\n",
       "      <td>363102609</td>\n",
       "    </tr>\n",
       "    <tr>\n",
       "      <th>2018-12-01</th>\n",
       "      <td>415273730</td>\n",
       "      <td>422386052</td>\n",
       "    </tr>\n",
       "  </tbody>\n",
       "</table>\n",
       "</div>"
      ],
      "text/plain": [
       "             Forecast       Fact\n",
       "2018-01-01  288379401  256798898\n",
       "2018-02-01  263634607  232640416\n",
       "2018-03-01  299309031  267994924\n",
       "2018-04-01  287009391  262849522\n",
       "2018-05-01  321579770  276933049\n",
       "2018-06-01  298696692  251486085\n",
       "2018-07-01  303135085  250559778\n",
       "2018-08-01  307713520  261724749\n",
       "2018-09-01  309357669  276675505\n",
       "2018-10-01  353123925  287647539\n",
       "2018-11-01  396911287  363102609\n",
       "2018-12-01  415273730  422386052"
      ]
     },
     "execution_count": 42,
     "metadata": {},
     "output_type": "execute_result"
    }
   ],
   "source": [
    "forecast_comparison = pd.concat([forecast_result, true_sales], axis=1)\n",
    "forecast_comparison=forecast_comparison.rename(columns={0: \"Forecast\", 1: \"Fact\"})\n",
    "forecast_comparison"
   ]
  },
  {
   "cell_type": "code",
   "execution_count": null,
   "metadata": {},
   "outputs": [],
   "source": []
  }
 ],
 "metadata": {
  "kernelspec": {
   "display_name": "Python 3",
   "language": "python",
   "name": "python3"
  },
  "language_info": {
   "codemirror_mode": {
    "name": "ipython",
    "version": 3
   },
   "file_extension": ".py",
   "mimetype": "text/x-python",
   "name": "python",
   "nbconvert_exporter": "python",
   "pygments_lexer": "ipython3",
   "version": "3.7.1"
  }
 },
 "nbformat": 4,
 "nbformat_minor": 2
}
