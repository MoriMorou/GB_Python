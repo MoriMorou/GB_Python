{
  "nbformat": 4,
  "nbformat_minor": 0,
  "metadata": {
    "colab": {
      "name": "HW_Lesson_6_SLE.ipynb",
      "version": "0.3.2",
      "provenance": [],
      "collapsed_sections": [],
      "include_colab_link": true
    },
    "kernelspec": {
      "name": "python3",
      "display_name": "Python 3"
    }
  },
  "cells": [
    {
      "cell_type": "markdown",
      "metadata": {
        "id": "view-in-github",
        "colab_type": "text"
      },
      "source": [
        "<a href=\"https://colab.research.google.com/github/MoriMorou/GB_Python/blob/master/HW_Lesson_6_SLE.ipynb\" target=\"_parent\"><img src=\"https://colab.research.google.com/assets/colab-badge.svg\" alt=\"Open In Colab\"/></a>"
      ]
    },
    {
      "metadata": {
        "id": "tphE0O599b68",
        "colab_type": "text"
      },
      "cell_type": "markdown",
      "source": [
        "1. Решите линейную систему:\n",
        "$$\\begin{equation*}\n",
        "\\begin{vmatrix}\n",
        "\\mathbf{1}  ; \\mathbf{2} ; \\mathbf{3} \\\\\n",
        "\\mathbf{4} ; \\mathbf{0} ; \\mathbf{6} \\\\\n",
        "\\mathbf{7} ; \\mathbf{8} ; \\mathbf{9}\n",
        "\\end{vmatrix} * X = \n",
        "\\begin{vmatrix}\n",
        "\\mathbf{12} \\\\\n",
        "\\mathbf{2} \\\\\n",
        "\\mathbf{1}\n",
        "\\end{vmatrix}\n",
        "\\end{equation*}$$"
      ]
    },
    {
      "metadata": {
        "id": "vEpZeTje95CF",
        "colab_type": "code",
        "colab": {}
      },
      "cell_type": "code",
      "source": [
        "import numpy as np"
      ],
      "execution_count": 0,
      "outputs": []
    },
    {
      "metadata": {
        "id": "0ej8CLgx-DqO",
        "colab_type": "code",
        "colab": {}
      },
      "cell_type": "code",
      "source": [
        "A = np.array([[1, 2, 3], [4, 0, 6], [7, 8, 9]])\n",
        "B = np.array([12, 2, 1])"
      ],
      "execution_count": 0,
      "outputs": []
    },
    {
      "metadata": {
        "id": "_TywPT-2_Ft6",
        "colab_type": "code",
        "colab": {
          "base_uri": "https://localhost:8080/",
          "height": 34
        },
        "outputId": "5f462c32-8d29-4fc9-9750-82c23ac2090d"
      },
      "cell_type": "code",
      "source": [
        "det_A = np.linalg.det(A)\n",
        "\n",
        "print(det_A)"
      ],
      "execution_count": 11,
      "outputs": [
        {
          "output_type": "stream",
          "text": [
            "59.999999999999986\n"
          ],
          "name": "stdout"
        }
      ]
    },
    {
      "metadata": {
        "id": "x1ujBgD-_Y3z",
        "colab_type": "text"
      },
      "cell_type": "markdown",
      "source": [
        " Как как определитель матрицы А не равен нулю мы можем найти решение СЛАУ "
      ]
    },
    {
      "metadata": {
        "id": "EkZszmmn_rCj",
        "colab_type": "code",
        "colab": {
          "base_uri": "https://localhost:8080/",
          "height": 50
        },
        "outputId": "3584d6b5-e6b8-48f3-d35d-37c7663575f5"
      },
      "cell_type": "code",
      "source": [
        "X1 = np.linalg.solve(A, B)\n",
        "X2 = np.dot(np.linalg.inv(A), B)\n",
        "print(X1)\n",
        "print(X2)"
      ],
      "execution_count": 15,
      "outputs": [
        {
          "output_type": "stream",
          "text": [
            "[-9.2         0.9         6.46666667]\n",
            "[-9.2         0.9         6.46666667]\n"
          ],
          "name": "stdout"
        }
      ]
    },
    {
      "metadata": {
        "id": "wMOwvTIfAH9m",
        "colab_type": "text"
      },
      "cell_type": "markdown",
      "source": [
        "Проверка:"
      ]
    },
    {
      "metadata": {
        "id": "r4I_jAi4ALXe",
        "colab_type": "code",
        "colab": {
          "base_uri": "https://localhost:8080/",
          "height": 50
        },
        "outputId": "080b0a10-6195-4b4b-8f00-a1093a9099a4"
      },
      "cell_type": "code",
      "source": [
        "print(np.dot(A, X1))\n",
        "print(np.dot(A, X2))"
      ],
      "execution_count": 16,
      "outputs": [
        {
          "output_type": "stream",
          "text": [
            "[12.  2.  1.]\n",
            "[12.  2.  1.]\n"
          ],
          "name": "stdout"
        }
      ]
    },
    {
      "metadata": {
        "id": "exmOp2U4ARC4",
        "colab_type": "text"
      },
      "cell_type": "markdown",
      "source": [
        "\n",
        "2. Найдите псевдорешение:\n",
        "\n",
        "x + 2y – z = 1\n",
        "\n",
        "3x – 4y = 7\n",
        "\n",
        "8x – 5y + 2z = 12\n",
        "\n",
        "2x – 5z = 7\n",
        "\n",
        "11x +4y – 7z = 15"
      ]
    },
    {
      "metadata": {
        "id": "R201bzrcAg8P",
        "colab_type": "code",
        "colab": {}
      },
      "cell_type": "code",
      "source": [
        ""
      ],
      "execution_count": 0,
      "outputs": []
    }
  ]
}