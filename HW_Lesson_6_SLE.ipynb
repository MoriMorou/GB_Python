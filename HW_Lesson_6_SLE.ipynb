{
  "nbformat": 4,
  "nbformat_minor": 0,
  "metadata": {
    "colab": {
      "name": "HW_Lesson_6_SLE.ipynb",
      "version": "0.3.2",
      "provenance": [],
      "collapsed_sections": [],
      "include_colab_link": true
    },
    "kernelspec": {
      "name": "python3",
      "display_name": "Python 3"
    }
  },
  "cells": [
    {
      "cell_type": "markdown",
      "metadata": {
        "id": "view-in-github",
        "colab_type": "text"
      },
      "source": [
        "<a href=\"https://colab.research.google.com/github/MoriMorou/GB_Python/blob/master/HW_Lesson_6_SLE.ipynb\" target=\"_parent\"><img src=\"https://colab.research.google.com/assets/colab-badge.svg\" alt=\"Open In Colab\"/></a>"
      ]
    },
    {
      "metadata": {
        "id": "tphE0O599b68",
        "colab_type": "text"
      },
      "cell_type": "markdown",
      "source": [
        "1. Решите линейную систему:\n",
        "$$\\begin{equation*}\n",
        "\\begin{vmatrix}\n",
        "\\mathbf{1}  ; \\mathbf{2} ; \\mathbf{3} \\\\\n",
        "\\mathbf{4} ; \\mathbf{0} ; \\mathbf{6} \\\\\n",
        "\\mathbf{7} ; \\mathbf{8} ; \\mathbf{9}\n",
        "\\end{vmatrix} * X = \n",
        "\\begin{vmatrix}\n",
        "\\mathbf{12} \\\\\n",
        "\\mathbf{2} \\\\\n",
        "\\mathbf{1}\n",
        "\\end{vmatrix}\n",
        "\\end{equation*}$$"
      ]
    },
    {
      "metadata": {
        "id": "vEpZeTje95CF",
        "colab_type": "code",
        "colab": {}
      },
      "cell_type": "code",
      "source": [
        "import numpy as np"
      ],
      "execution_count": 0,
      "outputs": []
    },
    {
      "metadata": {
        "id": "0ej8CLgx-DqO",
        "colab_type": "code",
        "colab": {}
      },
      "cell_type": "code",
      "source": [
        "A = np.array([[1, 2, 3], [4, 0, 6], [7, 8, 9]])\n",
        "B = np.array([12, 2, 1])"
      ],
      "execution_count": 0,
      "outputs": []
    },
    {
      "metadata": {
        "id": "_TywPT-2_Ft6",
        "colab_type": "code",
        "outputId": "e0ea7ebe-711c-46f1-e430-8592f15b717e",
        "colab": {
          "base_uri": "https://localhost:8080/",
          "height": 34
        }
      },
      "cell_type": "code",
      "source": [
        "det_A = np.linalg.det(A)\n",
        "\n",
        "print(det_A)"
      ],
      "execution_count": 104,
      "outputs": [
        {
          "output_type": "stream",
          "text": [
            "59.999999999999986\n"
          ],
          "name": "stdout"
        }
      ]
    },
    {
      "metadata": {
        "id": "x1ujBgD-_Y3z",
        "colab_type": "text"
      },
      "cell_type": "markdown",
      "source": [
        " Как как определитель матрицы А не равен нулю мы можем найти решение СЛАУ "
      ]
    },
    {
      "metadata": {
        "id": "EkZszmmn_rCj",
        "colab_type": "code",
        "outputId": "37ecc047-610a-42be-c732-e7ae169d3d5d",
        "colab": {
          "base_uri": "https://localhost:8080/",
          "height": 50
        }
      },
      "cell_type": "code",
      "source": [
        "X1 = np.linalg.solve(A, B)\n",
        "X2 = np.dot(np.linalg.inv(A), B)\n",
        "print(X1)\n",
        "print(X2)"
      ],
      "execution_count": 105,
      "outputs": [
        {
          "output_type": "stream",
          "text": [
            "[-9.2         0.9         6.46666667]\n",
            "[-9.2         0.9         6.46666667]\n"
          ],
          "name": "stdout"
        }
      ]
    },
    {
      "metadata": {
        "id": "wMOwvTIfAH9m",
        "colab_type": "text"
      },
      "cell_type": "markdown",
      "source": [
        "Проверка:"
      ]
    },
    {
      "metadata": {
        "id": "r4I_jAi4ALXe",
        "colab_type": "code",
        "outputId": "1ac55cbb-7489-4de7-a119-762d74a3e131",
        "colab": {
          "base_uri": "https://localhost:8080/",
          "height": 50
        }
      },
      "cell_type": "code",
      "source": [
        "print(np.dot(A, X1))\n",
        "print(np.dot(A, X2))"
      ],
      "execution_count": 106,
      "outputs": [
        {
          "output_type": "stream",
          "text": [
            "[12.  2.  1.]\n",
            "[12.  2.  1.]\n"
          ],
          "name": "stdout"
        }
      ]
    },
    {
      "metadata": {
        "id": "exmOp2U4ARC4",
        "colab_type": "text"
      },
      "cell_type": "markdown",
      "source": [
        "\n",
        "2. Найдите псевдорешение:\n",
        "\n",
        "x + 2y – z = 1\n",
        "\n",
        "3x – 4y = 7\n",
        "\n",
        "8x – 5y + 2z = 12\n",
        "\n",
        "2x – 5z = 7\n",
        "\n",
        "11x +4y – 7z = 15"
      ]
    },
    {
      "metadata": {
        "id": "R201bzrcAg8P",
        "colab_type": "code",
        "colab": {
          "base_uri": "https://localhost:8080/",
          "height": 101
        },
        "outputId": "6c660c00-6e3d-47d8-e626-bf53badb90f6"
      },
      "cell_type": "code",
      "source": [
        "A = np.array([[1, 2, -1], [3, -4, 0], [8, -5, 2], [2, 0, -5], [11, 4, -7]])\n",
        "B = np.array([1, 7, 12, 7, 15])\n",
        "print(A)"
      ],
      "execution_count": 107,
      "outputs": [
        {
          "output_type": "stream",
          "text": [
            "[[ 1  2 -1]\n",
            " [ 3 -4  0]\n",
            " [ 8 -5  2]\n",
            " [ 2  0 -5]\n",
            " [11  4 -7]]\n"
          ],
          "name": "stdout"
        }
      ]
    },
    {
      "metadata": {
        "id": "zarqacX5p66r",
        "colab_type": "code",
        "colab": {
          "base_uri": "https://localhost:8080/",
          "height": 34
        },
        "outputId": "555e6577-c990-4df8-d45d-c63f7ad17d6c"
      },
      "cell_type": "code",
      "source": [
        "print(B)"
      ],
      "execution_count": 108,
      "outputs": [
        {
          "output_type": "stream",
          "text": [
            "[ 1  7 12  7 15]\n"
          ],
          "name": "stdout"
        }
      ]
    },
    {
      "metadata": {
        "id": "quOk4Br4qA_J",
        "colab_type": "code",
        "colab": {
          "base_uri": "https://localhost:8080/",
          "height": 34
        },
        "outputId": "241b9bcd-84ff-43e1-f295-e678d2cf981f"
      },
      "cell_type": "code",
      "source": [
        "X = np.linalg.lstsq(A, B, rcond=None)[0]\n",
        "print(X)"
      ],
      "execution_count": 109,
      "outputs": [
        {
          "output_type": "stream",
          "text": [
            "[ 1.13919353 -0.90498444 -0.9009803 ]\n"
          ],
          "name": "stdout"
        }
      ]
    },
    {
      "metadata": {
        "id": "uqJ8SzXLqO5T",
        "colab_type": "code",
        "colab": {
          "base_uri": "https://localhost:8080/",
          "height": 34
        },
        "outputId": "8b20f1d2-ddb5-4dfa-9308-b6a80eb90d22"
      },
      "cell_type": "code",
      "source": [
        "# проверка\n",
        "print(np.dot(A, X))"
      ],
      "execution_count": 110,
      "outputs": [
        {
          "output_type": "stream",
          "text": [
            "[ 0.23020495  7.03751834 11.83650981  6.78328855 15.21805313]\n"
          ],
          "name": "stdout"
        }
      ]
    },
    {
      "metadata": {
        "id": "Qmx5FLnTqgzR",
        "colab_type": "text"
      },
      "cell_type": "markdown",
      "source": [
        "3. Сколько решений имеет линейная система:\n",
        "$$\\begin{equation*}\n",
        "\\begin{vmatrix}\n",
        "\\mathbf{1} ; \\mathbf{2} ; \\mathbf{3} \\\\\n",
        "\\mathbf{4} ; \\mathbf{5} ; \\mathbf{6} \\\\\n",
        "\\mathbf{7} ; \\mathbf{8} ; \\mathbf{9}\n",
        "\\end{vmatrix} * X = \n",
        "\\begin{vmatrix}\n",
        "\\mathbf{12} \\\\\n",
        "\\mathbf{2} \\\\\n",
        "\\mathbf{1}\n",
        "\\end{vmatrix}\n",
        "\\end{equation*}$$\n",
        "\n",
        "Если ноль – то измените вектор правой части так, чтобы система стала совместной, и решите ее."
      ]
    },
    {
      "metadata": {
        "id": "C2u4-8efqts9",
        "colab_type": "code",
        "colab": {}
      },
      "cell_type": "code",
      "source": [
        "A = np.array([[1, 2, 3], [4, 5, 6], [7, 8, 9]])\n",
        "B = np.array([[12, 2, 0]])"
      ],
      "execution_count": 0,
      "outputs": []
    },
    {
      "metadata": {
        "id": "m0bJcCZztXBt",
        "colab_type": "code",
        "colab": {
          "base_uri": "https://localhost:8080/",
          "height": 34
        },
        "outputId": "010b5192-4df4-4d2e-ea1a-573496bcd18e"
      },
      "cell_type": "code",
      "source": [
        "det_A = np.linalg.det(A)\n",
        "\n",
        "print(det_A)"
      ],
      "execution_count": 112,
      "outputs": [
        {
          "output_type": "stream",
          "text": [
            "0.0\n"
          ],
          "name": "stdout"
        }
      ]
    },
    {
      "metadata": {
        "id": "O1ujtJn1toq3",
        "colab_type": "text"
      },
      "cell_type": "markdown",
      "source": [
        "Определитель матрицы A равен 0.\n",
        "Создаем рассширенную матрицу С"
      ]
    },
    {
      "metadata": {
        "id": "UvrnNrP2uAbf",
        "colab_type": "code",
        "colab": {
          "base_uri": "https://localhost:8080/",
          "height": 67
        },
        "outputId": "c45a9607-8f71-4acc-ac8b-87923f0620c9"
      },
      "cell_type": "code",
      "source": [
        "C = np.concatenate((A, B.T), axis=1)\n",
        "print(C)"
      ],
      "execution_count": 113,
      "outputs": [
        {
          "output_type": "stream",
          "text": [
            "[[ 1  2  3 12]\n",
            " [ 4  5  6  2]\n",
            " [ 7  8  9  0]]\n"
          ],
          "name": "stdout"
        }
      ]
    },
    {
      "metadata": {
        "id": "nHJUp8lntyb6",
        "colab_type": "code",
        "colab": {
          "base_uri": "https://localhost:8080/",
          "height": 50
        },
        "outputId": "1d141784-0f68-4a63-9dd9-1c15feb969c9"
      },
      "cell_type": "code",
      "source": [
        "rank_A, rank_C = np.linalg.matrix_rank(A, 0.0001), np.linalg.matrix_rank(C, 0.0001)\n",
        "print(rank_A, rank_C)\n",
        "n = A.shape[1]\n",
        "print(n)"
      ],
      "execution_count": 114,
      "outputs": [
        {
          "output_type": "stream",
          "text": [
            "2 3\n",
            "3\n"
          ],
          "name": "stdout"
        }
      ]
    },
    {
      "metadata": {
        "id": "FfKmhaeju6br",
        "colab_type": "code",
        "colab": {
          "base_uri": "https://localhost:8080/",
          "height": 34
        },
        "outputId": "745de678-779a-4a5a-bbab-1a464147bb75"
      },
      "cell_type": "code",
      "source": [
        "if rank_A < rank_C:\n",
        "    print(\"Система не имеет решений\")\n",
        "elif (rank_A == rank_C) and (rank_A == n):\n",
        "    print(\"Система имеет единственное решение\")\n",
        "else:\n",
        "    print(\"Система имеет бесконечное кол-во решений\")"
      ],
      "execution_count": 115,
      "outputs": [
        {
          "output_type": "stream",
          "text": [
            "Система не имеет решений\n"
          ],
          "name": "stdout"
        }
      ]
    },
    {
      "metadata": {
        "id": "O9RAojXlzPi7",
        "colab_type": "code",
        "colab": {}
      },
      "cell_type": "code",
      "source": [
        "B = np.array([[1, 1, 1]]) \n",
        "C = np.concatenate((A, B.T), axis=1)"
      ],
      "execution_count": 0,
      "outputs": []
    },
    {
      "metadata": {
        "id": "Kh-fJuGTz32J",
        "colab_type": "code",
        "colab": {
          "base_uri": "https://localhost:8080/",
          "height": 50
        },
        "outputId": "ffe1d2c0-107d-493a-dee7-6a46551b70de"
      },
      "cell_type": "code",
      "source": [
        "rank_A, rank_C = np.linalg.matrix_rank(A, 0.0001), np.linalg.matrix_rank(C, 0.0001)\n",
        "print(rank_A, rank_C)\n",
        "n = A.shape[1]\n",
        "print(n)"
      ],
      "execution_count": 117,
      "outputs": [
        {
          "output_type": "stream",
          "text": [
            "2 2\n",
            "3\n"
          ],
          "name": "stdout"
        }
      ]
    },
    {
      "metadata": {
        "id": "cnzDJsMV2fNk",
        "colab_type": "code",
        "colab": {
          "base_uri": "https://localhost:8080/",
          "height": 34
        },
        "outputId": "fcf9b6b2-d66a-4ebe-eb29-2d61a12c28a7"
      },
      "cell_type": "code",
      "source": [
        "if rank_A < rank_C:\n",
        "    print(\"Система не имеет решений\")\n",
        "elif (rank_A == rank_C) and (rank_A == n):\n",
        "    print(\"Система имеет единственное решение\")\n",
        "else:\n",
        "    print(\"Система имеет бесконечное кол-во решений\")"
      ],
      "execution_count": 118,
      "outputs": [
        {
          "output_type": "stream",
          "text": [
            "Система имеет бесконечное кол-во решений\n"
          ],
          "name": "stdout"
        }
      ]
    },
    {
      "metadata": {
        "id": "NdwNAVRR28Ee",
        "colab_type": "code",
        "colab": {
          "base_uri": "https://localhost:8080/",
          "height": 34
        },
        "outputId": "0af1040a-18df-4480-d1c5-ae3a4bd15e39"
      },
      "cell_type": "code",
      "source": [
        "X = np.linalg.lstsq(A, B.flatten(), rcond=None)[0]\n",
        "X"
      ],
      "execution_count": 119,
      "outputs": [
        {
          "output_type": "execute_result",
          "data": {
            "text/plain": [
              "array([-5.00000000e-01,  1.11022302e-16,  5.00000000e-01])"
            ]
          },
          "metadata": {
            "tags": []
          },
          "execution_count": 119
        }
      ]
    },
    {
      "metadata": {
        "id": "8yf2nM903Oph",
        "colab_type": "code",
        "colab": {
          "base_uri": "https://localhost:8080/",
          "height": 34
        },
        "outputId": "489a6ad5-4f95-4d31-e293-fa92faefb917"
      },
      "cell_type": "code",
      "source": [
        "# проверка\n",
        "A@X-B"
      ],
      "execution_count": 120,
      "outputs": [
        {
          "output_type": "execute_result",
          "data": {
            "text/plain": [
              "array([[-8.8817842e-16,  0.0000000e+00,  4.4408921e-16]])"
            ]
          },
          "metadata": {
            "tags": []
          },
          "execution_count": 120
        }
      ]
    },
    {
      "metadata": {
        "id": "oaaLCXBc4gTz",
        "colab_type": "text"
      },
      "cell_type": "markdown",
      "source": [
        "4. Вычислите LU-разложение матрицы:\n",
        "$$\\begin{equation*}\n",
        "\\begin{vmatrix}\n",
        "\\mathbf{1}; \\mathbf{2} ; \\mathbf{3} \\\\\n",
        "\\mathbf{2} ; \\mathbf{16} ; \\mathbf{21} \\\\\n",
        "\\mathbf{4}; \\mathbf{28} ; \\mathbf{73}\n",
        "\\end{vmatrix} \n",
        "\\end{equation*}$$\n",
        "\n",
        "После этого придумайте вектор правых частей и решите полученную линейную систему трех уравнений с данной матрицей."
      ]
    },
    {
      "metadata": {
        "id": "4rdAlSk78C-W",
        "colab_type": "code",
        "colab": {}
      },
      "cell_type": "code",
      "source": [
        "import scipy\n",
        "import scipy.linalg"
      ],
      "execution_count": 0,
      "outputs": []
    },
    {
      "metadata": {
        "id": "KSp2NG704ng0",
        "colab_type": "code",
        "colab": {
          "base_uri": "https://localhost:8080/",
          "height": 67
        },
        "outputId": "10e84f13-187d-4aa9-9714-a3d4f7e8495c"
      },
      "cell_type": "code",
      "source": [
        "a = np.array([[1,2,3],[2,16,21],[4,28,73]])\n",
        "print(a)"
      ],
      "execution_count": 122,
      "outputs": [
        {
          "output_type": "stream",
          "text": [
            "[[ 1  2  3]\n",
            " [ 2 16 21]\n",
            " [ 4 28 73]]\n"
          ],
          "name": "stdout"
        }
      ]
    },
    {
      "metadata": {
        "id": "dt0gQZjk73uc",
        "colab_type": "code",
        "colab": {
          "base_uri": "https://localhost:8080/",
          "height": 218
        },
        "outputId": "ffacdfa9-de5e-4b1f-f945-0f783e7008f1"
      },
      "cell_type": "code",
      "source": [
        "# LU-разложение матрицы a\n",
        "p, l, u = scipy.linalg.lu(a)\n",
        "print(f'P: \\n{p}')\n",
        "print(f'L: \\n{l}')\n",
        "print(f'U: \\n{u}')"
      ],
      "execution_count": 123,
      "outputs": [
        {
          "output_type": "stream",
          "text": [
            "P: \n",
            "[[0. 1. 0.]\n",
            " [0. 0. 1.]\n",
            " [1. 0. 0.]]\n",
            "L: \n",
            "[[ 1.    0.    0.  ]\n",
            " [ 0.25  1.    0.  ]\n",
            " [ 0.5  -0.4   1.  ]]\n",
            "U: \n",
            "[[  4.    28.    73.  ]\n",
            " [  0.    -5.   -15.25]\n",
            " [  0.     0.   -21.6 ]]\n"
          ],
          "name": "stdout"
        }
      ]
    },
    {
      "metadata": {
        "id": "NSQdZTLrDCfI",
        "colab_type": "text"
      },
      "cell_type": "markdown",
      "source": [
        "Почему не работает см код ниже. То есть PA не равно LU"
      ]
    },
    {
      "metadata": {
        "id": "G1ZfBvocCeUG",
        "colab_type": "code",
        "colab": {
          "base_uri": "https://localhost:8080/",
          "height": 67
        },
        "outputId": "aced65af-d29c-44b4-f573-d5f823928d8d"
      },
      "cell_type": "code",
      "source": [
        "print(p*a)"
      ],
      "execution_count": 134,
      "outputs": [
        {
          "output_type": "stream",
          "text": [
            "[[  4.    2.    0. ]\n",
            " [  0.   -5.   21. ]\n",
            " [  4.    0.  -21.6]]\n"
          ],
          "name": "stdout"
        }
      ]
    },
    {
      "metadata": {
        "id": "O4D8QDp6Cqef",
        "colab_type": "code",
        "colab": {
          "base_uri": "https://localhost:8080/",
          "height": 67
        },
        "outputId": "2d5c8557-b256-4cb2-bdcb-a820eabe5924"
      },
      "cell_type": "code",
      "source": [
        "print(l*u)"
      ],
      "execution_count": 133,
      "outputs": [
        {
          "output_type": "stream",
          "text": [
            "[[  4.    0.    0. ]\n",
            " [  0.   -5.   -0. ]\n",
            " [  0.   -0.  -21.6]]\n"
          ],
          "name": "stdout"
        }
      ]
    },
    {
      "metadata": {
        "id": "xFd9XLOA8e5m",
        "colab_type": "code",
        "colab": {
          "base_uri": "https://localhost:8080/",
          "height": 34
        },
        "outputId": "87f48b89-7cd8-4a11-a20c-18863792424e"
      },
      "cell_type": "code",
      "source": [
        "det_a = np.linalg.det(a)\n",
        "print(det_a)"
      ],
      "execution_count": 124,
      "outputs": [
        {
          "output_type": "stream",
          "text": [
            "432.00000000000017\n"
          ],
          "name": "stdout"
        }
      ]
    },
    {
      "metadata": {
        "id": "eGsBvR7JALRC",
        "colab_type": "code",
        "colab": {}
      },
      "cell_type": "code",
      "source": [
        "b = np.array([1,1,1])"
      ],
      "execution_count": 0,
      "outputs": []
    },
    {
      "metadata": {
        "id": "IjgL2mq0AULA",
        "colab_type": "code",
        "colab": {
          "base_uri": "https://localhost:8080/",
          "height": 34
        },
        "outputId": "4cbbb82d-22a7-4cff-fd56-cbc17cc00a8a"
      },
      "cell_type": "code",
      "source": [
        "x = np.linalg.solve(a, b)\n",
        "print(x)"
      ],
      "execution_count": 128,
      "outputs": [
        {
          "output_type": "stream",
          "text": [
            "[ 1.18518519 -0.03703704 -0.03703704]\n"
          ],
          "name": "stdout"
        }
      ]
    },
    {
      "metadata": {
        "id": "-rAxNDVzBPn0",
        "colab_type": "code",
        "colab": {
          "base_uri": "https://localhost:8080/",
          "height": 34
        },
        "outputId": "03aed0b1-668f-42ed-d3df-ab29f6dab742"
      },
      "cell_type": "code",
      "source": [
        "# проверка\n",
        "a@x-b"
      ],
      "execution_count": 129,
      "outputs": [
        {
          "output_type": "execute_result",
          "data": {
            "text/plain": [
              "array([0.00000000e+00, 2.22044605e-16, 4.44089210e-16])"
            ]
          },
          "metadata": {
            "tags": []
          },
          "execution_count": 129
        }
      ]
    },
    {
      "metadata": {
        "id": "pMjckrIRB658",
        "colab_type": "code",
        "colab": {
          "base_uri": "https://localhost:8080/",
          "height": 34
        },
        "outputId": "c5a59685-5824-46f1-8aa8-20e94ac94293"
      },
      "cell_type": "code",
      "source": [
        "print(np.dot(a, x))"
      ],
      "execution_count": 131,
      "outputs": [
        {
          "output_type": "stream",
          "text": [
            "[1. 1. 1.]\n"
          ],
          "name": "stdout"
        }
      ]
    },
    {
      "metadata": {
        "id": "mhATX_0XFtji",
        "colab_type": "text"
      },
      "cell_type": "markdown",
      "source": [
        "5. Найдите нормальное псевдорешение недоопределенной системы:\n",
        "x + 2y – z = 1\n",
        "8x – 5y + 2z = 12\n",
        "\n",
        "Для этого определите функцию Q(x,y,z), равную норме решения, и найдите ее минимум."
      ]
    },
    {
      "metadata": {
        "id": "3Cegq2aWFx3U",
        "colab_type": "code",
        "colab": {}
      },
      "cell_type": "code",
      "source": [
        "import matplotlib.pyplot as plt\n",
        "%matplotlib inline"
      ],
      "execution_count": 0,
      "outputs": []
    },
    {
      "metadata": {
        "id": "6PGxn3SDFvWO",
        "colab_type": "code",
        "colab": {}
      },
      "cell_type": "code",
      "source": [
        "A = np.array([[1, 2, -1], [8, -5, 2]])\n",
        "B = np.array([1, 12])"
      ],
      "execution_count": 0,
      "outputs": []
    },
    {
      "metadata": {
        "id": "M1D3Kg9_GaQn",
        "colab_type": "code",
        "colab": {}
      },
      "cell_type": "code",
      "source": [
        "def Q(x, y, z):\n",
        "    return (x**2 + y**2 + z**2)"
      ],
      "execution_count": 0,
      "outputs": []
    },
    {
      "metadata": {
        "id": "Pl47fEo8GcXP",
        "colab_type": "code",
        "colab": {
          "base_uri": "https://localhost:8080/",
          "height": 283
        },
        "outputId": "ec4d9c08-7f2b-4803-adf9-d6d7a13c3762"
      },
      "cell_type": "code",
      "source": [
        "# итерация 1\n",
        "x = np.linspace(-5, 5, 201)\n",
        "y = 10 * x - 14\n",
        "z = x + 2 * y - 1\n",
        "\n",
        "plt.plot(x, Q(x, y, z))\n",
        "plt.xlabel('x')\n",
        "plt.ylabel('Q(x, y, z)')\n",
        "plt.grid(True)\n",
        "plt.show()"
      ],
      "execution_count": 138,
      "outputs": [
        {
          "output_type": "display_data",
          "data": {
            "image/png": "[encoded data removed]",
            "text/plain": [
              "<Figure size 432x288 with 1 Axes>"
            ]
          },
          "metadata": {
            "tags": []
          }
        }
      ]
    },
    {
      "metadata": {
        "id": "rGGwvFuvG7-p",
        "colab_type": "code",
        "colab": {
          "base_uri": "https://localhost:8080/",
          "height": 283
        },
        "outputId": "6f62cdbd-2cbe-417b-de7c-cf36dee6511c"
      },
      "cell_type": "code",
      "source": [
        "# итерация 2\n",
        "x = np.linspace(1.25, 1.5, 201)\n",
        "y = 10 * x - 14\n",
        "z = x + 2 * y - 1\n",
        "\n",
        "plt.plot(x, Q(x, y, z))\n",
        "plt.xlabel('x')\n",
        "plt.ylabel('Q(x, y, z)')\n",
        "plt.grid(True)\n",
        "plt.show()"
      ],
      "execution_count": 141,
      "outputs": [
        {
          "output_type": "display_data",
          "data": {
            "image/png": "[encoded data removed]",
            "text/plain": [
              "<Figure size 432x288 with 1 Axes>"
            ]
          },
          "metadata": {
            "tags": []
          }
        }
      ]
    },
    {
      "metadata": {
        "id": "r5SY4EF7JDDH",
        "colab_type": "code",
        "colab": {
          "base_uri": "https://localhost:8080/",
          "height": 34
        },
        "outputId": "39a08409-0f7a-427f-dbe7-5256427e1a01"
      },
      "cell_type": "code",
      "source": [
        "# исходя из визуального анализа гарафика:\n",
        "x = 1.37\n",
        "y = 10 * x - 14\n",
        "z = x + 2 * y - 1\n",
        "\n",
        "X1 = np.array([x, y, z])\n",
        "print(X1)"
      ],
      "execution_count": 148,
      "outputs": [
        {
          "output_type": "stream",
          "text": [
            "[ 1.37 -0.3  -0.23]\n"
          ],
          "name": "stdout"
        }
      ]
    },
    {
      "metadata": {
        "id": "6-ImKnrZJoYa",
        "colab_type": "code",
        "colab": {
          "base_uri": "https://localhost:8080/",
          "height": 34
        },
        "outputId": "90db7a58-78b3-41f6-a660-2c5a37f7e109"
      },
      "cell_type": "code",
      "source": [
        "# нормальное псевдорешение числовым методом:\n",
        "X2 = np.linalg.lstsq(A, B, rcond=None)[0]\n",
        "print(X2)"
      ],
      "execution_count": 149,
      "outputs": [
        {
          "output_type": "stream",
          "text": [
            "[ 1.38191882 -0.18081181  0.0202952 ]\n"
          ],
          "name": "stdout"
        }
      ]
    },
    {
      "metadata": {
        "id": "fHSEHbwcKGtr",
        "colab_type": "code",
        "colab": {
          "base_uri": "https://localhost:8080/",
          "height": 50
        },
        "outputId": "330a1fe6-9a13-4388-9c9e-4f99e0d69efc"
      },
      "cell_type": "code",
      "source": [
        "# проверка:\n",
        "print(np.dot(A, X1))\n",
        "print(np.dot(A, X2))"
      ],
      "execution_count": 150,
      "outputs": [
        {
          "output_type": "stream",
          "text": [
            "[ 1. 12.]\n",
            "[ 1. 12.]\n"
          ],
          "name": "stdout"
        }
      ]
    },
    {
      "metadata": {
        "id": "an2D6z5_MpuB",
        "colab_type": "code",
        "colab": {
          "base_uri": "https://localhost:8080/",
          "height": 319
        },
        "outputId": "0ccbc8b1-5b8f-4798-ef28-af0729a57674"
      },
      "cell_type": "code",
      "source": [
        "from pylab import *\n",
        "from mpl_toolkits.mplot3d import Axes3D\n",
        "\n",
        "fig = figure()\n",
        "ax = Axes3D(fig)\n",
        "X = np.linspace(-5, 5, 201)\n",
        "Y = np.linspace(-5, 5, 201)\n",
        "X, Y = np.meshgrid(X, Y)\n",
        "\n",
        "ax.plot_wireframe(X, Y, Q(X, Y, X + 2*Y - 1), color='blue')\n",
        "ax.plot_wireframe(X, Y, Q(X, Y, 6 - 4*X + 2.5*Y), color='green')\n",
        "ax.scatter(1.38191882, -0.18081181,  0.0202952,'z',1000,'black');"
      ],
      "execution_count": 151,
      "outputs": [
        {
          "output_type": "display_data",
          "data": {
            "image/png": "[encoded data removed]",
            "text/plain": [
              "<Figure size 432x288 with 1 Axes>"
            ]
          },
          "metadata": {
            "tags": []
          }
        }
      ]
    },
    {
      "metadata": {
        "id": "gJu0J4IITE-1",
        "colab_type": "text"
      },
      "cell_type": "markdown",
      "source": [
        "6. Найдите одно из псевдорешений вырожденной системы:\n",
        "$$\\begin{equation*}\n",
        "\\begin{vmatrix}\n",
        "\\mathbf{1} ; \\mathbf{2} ; \\mathbf{3} \\\\\n",
        "\\mathbf{4} ; \\mathbf{5} ; \\mathbf{6} \\\\\n",
        "\\mathbf{7} ; \\mathbf{8} ; \\mathbf{9}\n",
        "\\end{vmatrix} * X = \n",
        "\\begin{vmatrix}\n",
        "\\mathbf{2} \\\\\n",
        "\\mathbf{5} \\\\\n",
        "\\mathbf{11}\n",
        "\\end{vmatrix}\n",
        "\\end{equation*}$$\n",
        "\n",
        "Попробуйте также отыскать и нормальное псевдорешение."
      ]
    },
    {
      "metadata": {
        "id": "pViTGluiTMWZ",
        "colab_type": "code",
        "colab": {}
      },
      "cell_type": "code",
      "source": [
        ""
      ],
      "execution_count": 0,
      "outputs": []
    }
  ]
}