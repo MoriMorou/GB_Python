{
  "nbformat": 4,
  "nbformat_minor": 0,
  "metadata": {
    "colab": {
      "name": "HomeworkFour.ipynb",
      "version": "0.3.2",
      "provenance": [],
      "include_colab_link": true
    },
    "kernelspec": {
      "name": "python3",
      "display_name": "Python 3"
    }
  },
  "cells": [
    {
      "cell_type": "markdown",
      "metadata": {
        "id": "view-in-github",
        "colab_type": "text"
      },
      "source": [
        "<a href=\"https://colab.research.google.com/github/MoriMorou/GB_Python/blob/master/HomeworkFour.ipynb\" target=\"_parent\"><img src=\"https://colab.research.google.com/assets/colab-badge.svg\" alt=\"Open In Colab\"/></a>"
      ]
    },
    {
      "cell_type": "code",
      "metadata": {
        "id": "Eza9t_K30UWz",
        "colab_type": "code",
        "colab": {}
      },
      "source": [
        "import pandas as pd\n",
        "import numpy as np\n",
        "from scipy.optimize import fsolve\n",
        "import scipy.stats as ss"
      ],
      "execution_count": 0,
      "outputs": []
    },
    {
      "cell_type": "markdown",
      "metadata": {
        "id": "0RwrMu5P0VNM",
        "colab_type": "text"
      },
      "source": [
        "#### Задача 1\n",
        "\n",
        "О непрерывной равномерно распределенной случайной величине B известно, что ее дисперсия равна 0.2. Можно ли найти правую границу величины B и ее среднее значение зная, что левая граница равна 0.5? Если да, найдите ее."
      ]
    },
    {
      "cell_type": "markdown",
      "metadata": {
        "id": "aeeNfC6IEaw5",
        "colab_type": "text"
      },
      "source": [
        "$$M(X) = \\dfrac{a + b}{2}, \\text{ } D(X) = \\dfrac{(b - a)^2}{12}.$$\n",
        "\n",
        "Чтобы найти правую границу равномерного распределения, зная левую и дисперсию, надо решить уравнение: 0.2 = (b - 0.5)**2/12"
      ]
    },
    {
      "cell_type": "code",
      "metadata": {
        "id": "KXAe_J000cah",
        "colab_type": "code",
        "colab": {
          "base_uri": "https://localhost:8080/",
          "height": 34
        },
        "outputId": "01d948c6-e6cc-4c98-fa56-39dcaccbac3e"
      },
      "source": [
        "D = 0.2\n",
        "A = 0.5\n",
        "def equations(x):\n",
        "    return ((x-A)**2/12-D)\n",
        "\n",
        "B = float(fsolve(equations, (2))) # с помощью встроенной функции численного высчисления найходим корень уравнения\n",
        "M = (A + B)/2\n",
        "\n",
        "print(f'Правая граница B = {B:.4}, а математическое ожидание M = {M:.4}')"
      ],
      "execution_count": 9,
      "outputs": [
        {
          "output_type": "stream",
          "text": [
            "Правая граница B = 2.049, а математическое ожидание M = 1.275\n"
          ],
          "name": "stdout"
        }
      ]
    },
    {
      "cell_type": "markdown",
      "metadata": {
        "id": "E-JNkCZr0dsK",
        "colab_type": "text"
      },
      "source": [
        "#### Задача 2\n",
        "\n",
        "На сколько сигм (средних квадратических отклонений) отклоняется рост человека, равный 190 см, от математического ожидания роста в популяции, в которой M(X) = 178 и D(X) = 25?"
      ]
    },
    {
      "cell_type": "code",
      "metadata": {
        "id": "HyXhk0az0dbp",
        "colab_type": "code",
        "colab": {
          "base_uri": "https://localhost:8080/",
          "height": 34
        },
        "outputId": "742240cb-da0b-4637-fba5-f78a9cdc5055"
      },
      "source": [
        "M = 178\n",
        "D = 25\n",
        "R = 190\n",
        "\n",
        "sigma = np.sqrt(D)\n",
        "\n",
        "print(f'На {(R - M)/sigma} среднеквадратических отклонений отклоняется рост в 190 см')"
      ],
      "execution_count": 10,
      "outputs": [
        {
          "output_type": "stream",
          "text": [
            "На 2.4 среднеквадратических отклонений отклоняется рост в 190 см\n"
          ],
          "name": "stdout"
        }
      ]
    },
    {
      "cell_type": "markdown",
      "metadata": {
        "id": "jnUs0Msv0jtS",
        "colab_type": "text"
      },
      "source": [
        "#### Задача 3\n",
        "\n",
        "Рост взрослого населения города X имеет нормальное распределение, причем, средний рост равен 174 см, а среднее квадратическое отклонение равно 8 см. Какова вероятность того, что случайным образом выбранный взрослый человек имеет рост:\n",
        "1. больше 182 см?\n",
        "2. больше 190 см?\n",
        "3. от 166 см до 190 см?\n",
        "4. от 166 см до 182 см?\n",
        "5. от 158 см до 190 см?\n",
        "6. не выше 150 см или не ниже 190 см?\n",
        "7. не выше 150 см или не ниже 198 см?\n",
        "8. ниже 166 см?"
      ]
    },
    {
      "cell_type": "code",
      "metadata": {
        "id": "RbQFiPVV0jeC",
        "colab_type": "code",
        "colab": {
          "base_uri": "https://localhost:8080/",
          "height": 168
        },
        "outputId": "a630eb07-9c8a-4160-a6d6-974a80d5ddf9"
      },
      "source": [
        "M = 174\n",
        "S = 8\n",
        "\n",
        "p1 = 1 - ss.norm.cdf((182 - M) / S) - ss.norm.cdf((0 - M) / S)\n",
        "p2 = 1 - ss.norm.cdf((190 - M) / S) - ss.norm.cdf((0 - M) / S)\n",
        "p3 = ss.norm.cdf((190 - M) / S) - ss.norm.cdf((166 - M) / S)\n",
        "p4 = ss.norm.cdf((182 - M) / S) - ss.norm.cdf((166 - M) / S)\n",
        "p5 = ss.norm.cdf((190 - M) / S) - ss.norm.cdf((158 - M) / S)\n",
        "p6 = (1 - ss.norm.cdf((190 - M) / S) - ss.norm.cdf((0 - M) / S)) + (ss.norm.cdf((150 - M) / S) - ss.norm.cdf((0 - M) / S))\n",
        "p7 = (1 - ss.norm.cdf((198 - M) / S) - ss.norm.cdf((0 - M) / S)) + (ss.norm.cdf((150 - M) / S) - ss.norm.cdf((0 - M) / S))\n",
        "p8 = ss.norm.cdf((166 - M) / S) - ss.norm.cdf((0 - M) / S)\n",
        "\n",
        "print('Ответ:')\n",
        "print(f'\\tа) больше 182 см: {np.round(p1, 4)}')\n",
        "print(f'\\tб) больше 190 см: {np.round(p2, 4)}')\n",
        "print(f'\\tв) от 166 см до 190 см: {np.round(p3, 4)}')\n",
        "print(f'\\tг) от 166 см до 182 см: {np.round(p4, 4)}')\n",
        "print(f'\\tд) от 158 см до 190 см: {np.round(p5, 4)}')\n",
        "print(f'\\tе) не выше 150 см или не ниже 190 см: {np.round(p6, 4)}')\n",
        "print(f'\\tё) не выше 150 см или не ниже 198 см: {np.round(p7, 4)}')\n",
        "print(f'\\tж) ниже 166 см.: {np.round(p8, 4)}')"
      ],
      "execution_count": 14,
      "outputs": [
        {
          "output_type": "stream",
          "text": [
            "Ответ:\n",
            "\tа) больше 182 см: 0.1587\n",
            "\tб) больше 190 см: 0.0228\n",
            "\tв) от 166 см до 190 см: 0.8186\n",
            "\tг) от 166 см до 182 см: 0.6827\n",
            "\tд) от 158 см до 190 см: 0.9545\n",
            "\tе) не выше 150 см или не ниже 190 см: 0.0241\n",
            "\tё) не выше 150 см или не ниже 198 см: 0.0027\n",
            "\tж) ниже 166 см.: 0.1587\n"
          ],
          "name": "stdout"
        }
      ]
    },
    {
      "cell_type": "code",
      "metadata": {
        "id": "PRyeEtY10jSb",
        "colab_type": "code",
        "colab": {}
      },
      "source": [
        ""
      ],
      "execution_count": 0,
      "outputs": []
    },
    {
      "cell_type": "code",
      "metadata": {
        "id": "fH4RovDN0oIU",
        "colab_type": "code",
        "colab": {}
      },
      "source": [
        ""
      ],
      "execution_count": 0,
      "outputs": []
    }
  ]
}