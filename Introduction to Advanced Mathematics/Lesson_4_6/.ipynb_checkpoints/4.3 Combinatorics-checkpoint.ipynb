{
 "cells": [
  {
   "cell_type": "code",
   "execution_count": 1,
   "metadata": {},
   "outputs": [],
   "source": [
    "import numpy as np\n",
    "import itertools"
   ]
  },
  {
   "cell_type": "code",
   "execution_count": 2,
   "metadata": {},
   "outputs": [
    {
     "name": "stdout",
     "output_type": "stream",
     "text": [
      "[0 0 1 1 1 1 1 1 0 1] [0 1 1 1 0 0 0 1 1 0] [1 1 0 0 1 0 0 0 0 1] [1 0 0 0 1 1 0 0 0 1]\n",
      "[2 2 2 2 3 2 1 2 1 3]\n",
      "6 10 0.6\n"
     ]
    }
   ],
   "source": [
    "# Метод Монте Карло для последовательных независимых испытаний\n",
    "k, n = 0, 10\n",
    "# Сгенирировали 4ри случайных вектора\n",
    "a = np.random.randint(0, 2, n)\n",
    "b = np.random.randint(0, 2, n)\n",
    "c = np.random.randint(0, 2, n)\n",
    "d = np.random.randint(0, 2, n)\n",
    "# складываем полученные вектора для того что бы оценить с какой вероятностью в 4х испытаниях выпадут 2 орла и две орешки\n",
    "x = a + b + c + d\n",
    "for i in range(0, n):\n",
    "    if x[i] == 2:\n",
    "        k = k + 1\n",
    "print(a, b, c, d)\n",
    "print(x)\n",
    "# k/n - оценка вероятности\n",
    "print(k, n, k/n)"
   ]
  },
  {
   "cell_type": "code",
   "execution_count": 5,
   "metadata": {},
   "outputs": [
    {
     "name": "stdout",
     "output_type": "stream",
     "text": [
      "000\n",
      "001\n",
      "010\n",
      "011\n",
      "100\n",
      "101\n",
      "110\n",
      "111\n"
     ]
    }
   ],
   "source": [
    "# itertools.product показываетвсе возможны исходы 3х испытаний в вероятность получения 0 или 1 (\"01\")\n",
    "for p in itertools.product(\"01\",repeat=3):\n",
    "    print(''.join(p))   "
   ]
  },
  {
   "cell_type": "code",
   "execution_count": 7,
   "metadata": {},
   "outputs": [
    {
     "name": "stdout",
     "output_type": "stream",
     "text": [
      "0000\n",
      "0001\n",
      "0002\n",
      "0010\n",
      "0011\n",
      "0012\n",
      "0020\n",
      "0021\n",
      "0022\n",
      "0100\n",
      "0101\n",
      "0102\n",
      "0110\n",
      "0111\n",
      "0112\n",
      "0120\n",
      "0121\n",
      "0122\n",
      "0200\n",
      "0201\n",
      "0202\n",
      "0210\n",
      "0211\n",
      "0212\n",
      "0220\n",
      "0221\n",
      "0222\n",
      "1000\n",
      "1001\n",
      "1002\n",
      "1010\n",
      "1011\n",
      "1012\n",
      "1020\n",
      "1021\n",
      "1022\n",
      "1100\n",
      "1101\n",
      "1102\n",
      "1110\n",
      "1111\n",
      "1112\n",
      "1120\n",
      "1121\n",
      "1122\n",
      "1200\n",
      "1201\n",
      "1202\n",
      "1210\n",
      "1211\n",
      "1212\n",
      "1220\n",
      "1221\n",
      "1222\n",
      "2000\n",
      "2001\n",
      "2002\n",
      "2010\n",
      "2011\n",
      "2012\n",
      "2020\n",
      "2021\n",
      "2022\n",
      "2100\n",
      "2101\n",
      "2102\n",
      "2110\n",
      "2111\n",
      "2112\n",
      "2120\n",
      "2121\n",
      "2122\n",
      "2200\n",
      "2201\n",
      "2202\n",
      "2210\n",
      "2211\n",
      "2212\n",
      "2220\n",
      "2221\n",
      "2222\n"
     ]
    }
   ],
   "source": [
    "for p in itertools.product(\"012\",repeat=4):\n",
    "    print(''.join(p))   "
   ]
  },
  {
   "cell_type": "code",
   "execution_count": null,
   "metadata": {
    "collapsed": true
   },
   "outputs": [],
   "source": []
  }
 ],
 "metadata": {
  "kernelspec": {
   "display_name": "Python 3",
   "language": "python",
   "name": "python3"
  },
  "language_info": {
   "codemirror_mode": {
    "name": "ipython",
    "version": 3
   },
   "file_extension": ".py",
   "mimetype": "text/x-python",
   "name": "python",
   "nbconvert_exporter": "python",
   "pygments_lexer": "ipython3",
   "version": "3.7.1"
  }
 },
 "nbformat": 4,
 "nbformat_minor": 2
}
