{
 "cells": [
  {
   "cell_type": "code",
   "execution_count": 1,
   "metadata": {},
   "outputs": [],
   "source": [
    "import numpy as np\n",
    "import itertools"
   ]
  },
  {
   "cell_type": "code",
   "execution_count": 2,
   "metadata": {},
   "outputs": [
    {
     "name": "stdout",
     "output_type": "stream",
     "text": [
      "[0 0 1 1 1 1 1 1 0 1] [0 1 1 1 0 0 0 1 1 0] [1 1 0 0 1 0 0 0 0 1] [1 0 0 0 1 1 0 0 0 1]\n",
      "[2 2 2 2 3 2 1 2 1 3]\n",
      "6 10 0.6\n"
     ]
    }
   ],
   "source": [
    "# Метод Монте Карло для последовательных независимых испытаний\n",
    "k, n = 0, 10\n",
    "# Сгенирировали 4ри случайных вектора\n",
    "a = np.random.randint(0, 2, n)\n",
    "b = np.random.randint(0, 2, n)\n",
    "c = np.random.randint(0, 2, n)\n",
    "d = np.random.randint(0, 2, n)\n",
    "# складываем полученные вектора для того что бы оценить с какой вероятностью в 4х испытаниях выпадут 2 орла и две орешки\n",
    "x = a + b + c + d\n",
    "for i in range(0, n):\n",
    "    if x[i] == 2:\n",
    "        k = k + 1\n",
    "print(a, b, c, d)\n",
    "print(x)\n",
    "# k/n - оценка вероятности\n",
    "print(k, n, k/n)"
   ]
  },
  {
   "cell_type": "code",
   "execution_count": 3,
   "metadata": {},
   "outputs": [
    {
     "name": "stdout",
     "output_type": "stream",
     "text": [
      "000\n",
      "001\n",
      "010\n",
      "011\n",
      "100\n",
      "101\n",
      "110\n",
      "111\n"
     ]
    }
   ],
   "source": [
    "for p in itertools.product(\"01\",repeat=3):\n",
    "    print(''.join(p))   "
   ]
  },
  {
   "cell_type": "code",
   "execution_count": 4,
   "metadata": {},
   "outputs": [
    {
     "name": "stdout",
     "output_type": "stream",
     "text": [
      "0000\n",
      "0001\n",
      "0010\n",
      "0011\n",
      "0100\n",
      "0101\n",
      "0110\n",
      "0111\n",
      "1000\n",
      "1001\n",
      "1010\n",
      "1011\n",
      "1100\n",
      "1101\n",
      "1110\n",
      "1111\n"
     ]
    }
   ],
   "source": [
    "for p in itertools.product(\"01\",repeat=4):\n",
    "    print(''.join(p))   "
   ]
  },
  {
   "cell_type": "code",
   "execution_count": null,
   "metadata": {
    "collapsed": true
   },
   "outputs": [],
   "source": []
  }
 ],
 "metadata": {
  "kernelspec": {
   "display_name": "Python 3",
   "language": "python",
   "name": "python3"
  },
  "language_info": {
   "codemirror_mode": {
    "name": "ipython",
    "version": 3
   },
   "file_extension": ".py",
   "mimetype": "text/x-python",
   "name": "python",
   "nbconvert_exporter": "python",
   "pygments_lexer": "ipython3",
   "version": "3.7.1"
  }
 },
 "nbformat": 4,
 "nbformat_minor": 2
}
