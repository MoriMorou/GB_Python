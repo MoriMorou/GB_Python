{
 "cells": [
  {
   "cell_type": "markdown",
   "metadata": {},
   "source": [
    "#### 1. Напишите код, моделирующий выпадение поля в рулетке (с учетом поля зеро)."
   ]
  },
  {
   "cell_type": "code",
   "execution_count": 23,
   "metadata": {},
   "outputs": [],
   "source": [
    "import numpy as np\n",
    "import matplotlib.pyplot as plt\n",
    "%matplotlib inline"
   ]
  },
  {
   "cell_type": "code",
   "execution_count": 24,
   "metadata": {},
   "outputs": [
    {
     "name": "stdout",
     "output_type": "stream",
     "text": [
      "24 red\n"
     ]
    }
   ],
   "source": [
    "x = np.random.randint(0, 37)\n",
    "if (x == 0):\n",
    "    print(\"Zero\")\n",
    "elif (x % 2 == 0):\n",
    "    print(x, \"red\")\n",
    "else:\n",
    "    print(x, \"black\")"
   ]
  },
  {
   "cell_type": "markdown",
   "metadata": {},
   "source": [
    "#### 2.1 Напишите код, проверяющий любую из теорем сложения или умножения вероятности на примере подбрасывания монетки.\n",
    "\n",
    "#### 2.2 Сгенерируйте десять выборок случайных чисел х0, …, х9. И постройте гистограмму распределения случайной суммы х0+х1+ …+ х9."
   ]
  },
  {
   "cell_type": "code",
   "execution_count": 25,
   "metadata": {},
   "outputs": [
    {
     "name": "stdout",
     "output_type": "stream",
     "text": [
      "Орел - 547 Решка - 453\n"
     ]
    },
    {
     "data": {
      "text/plain": [
       "True"
      ]
     },
     "execution_count": 25,
     "metadata": {},
     "output_type": "execute_result"
    }
   ],
   "source": [
    "# Теорема о сложении вероятностей.\n",
    "# Вероятность появления одного из двух несовместных событий равна сумме вероятностей этих событий.\n",
    "# P(A+B) = P(A) + P(B)\n",
    "# P(A) = m/n, где m - кол-во выпадений орла (1), n - общее кол-во испытаний\n",
    "# P(B) = k/n, где k - кол-во выпадений решки (0), n - общее кол-во испытаний\n",
    "# P(A+B) = P(A) + P(B) = m/n + k/n = (m+k)/n\n",
    "throws = 1000\n",
    "eagle, nutlet = 0, 0\n",
    "\n",
    "for i in range(0, throws):\n",
    "    x = np.random.uniform(1, 10)\n",
    "    if x < 6:\n",
    "        eagle += 1\n",
    "    else:\n",
    "        nutlet += 1\n",
    "print(\"Орел -\", eagle, \"Решка -\", nutlet)\n",
    "# если случай падения на ребро не рассматриваем\n",
    "# то P(A+B) = P(A) + P(B) = 1/2 + 1/2 = 1\n",
    "# проверим:\n",
    "eagle/throws + nutlet/throws == 1"
   ]
  },
  {
   "cell_type": "code",
   "execution_count": 30,
   "metadata": {},
   "outputs": [
    {
     "data": {
      "image/png": "[encoded data removed]",
      "text/plain": [
       "<Figure size 432x288 with 1 Axes>"
      ]
     },
     "metadata": {
      "needs_background": "light"
     },
     "output_type": "display_data"
    }
   ],
   "source": [
    "# сгенерируем n выборок m случайных чисел и запишем результат в массив:\n",
    "n = 10\n",
    "m = 10\n",
    "total = np.array([np.random.randint(0, 100, m) for _ in range(n)])\n",
    "# построим гистограмму распредления суммы случайных величин:\n",
    "plt.hist(np.array([np.sum(x) for x in total]))\n",
    "plt.show()   "
   ]
  },
  {
   "cell_type": "code",
   "execution_count": 31,
   "metadata": {},
   "outputs": [
    {
     "data": {
      "image/png": "[encoded data removed]",
      "text/plain": [
       "<Figure size 432x288 with 1 Axes>"
      ]
     },
     "metadata": {
      "needs_background": "light"
     },
     "output_type": "display_data"
    }
   ],
   "source": [
    "# сгенерируем n выборок m случайных чисел и запишем результат в массив:\n",
    "n = 1000\n",
    "m = 10\n",
    "total = np.array([np.random.randint(0, 100, m) for _ in range(n)])\n",
    "# построим гистограмму распредления суммы случайных величин:\n",
    "plt.hist(np.array([np.sum(x) for x in total]))\n",
    "plt.show()  "
   ]
  },
  {
   "cell_type": "code",
   "execution_count": null,
   "metadata": {},
   "outputs": [],
   "source": [
    "# При увеличении выборок, мы получаем более корректный результат\n",
    "\n",
    "# Центра́льные преде́льные теоре́мы (Ц. П. Т.) — класс теорем в теории вероятностей, утверждающих, что сумма достаточно большого \n",
    "# количества слабо зависимых случайных величин, имеющих примерно одинаковые масштабы (ни одно из слагаемых не доминирует, не вносит \n",
    "# в сумму определяющего вклада), имеет распределение, близкое к нормальному.\n",
    "# Так как многие случайные величины в приложениях формируются под влиянием нескольких слабо зависимых случайных факторов, \n",
    "# их распределение считают нормальным. При этом должно соблюдаться условие, что ни один из факторов не является доминирующим. \n",
    "# Центральные предельные теоремы в этих случаях обосновывают применение нормального распределения."
   ]
  },
  {
   "cell_type": "markdown",
   "metadata": {},
   "source": [
    "#### 3.1 Дополните код Монте-Карло последовательности независимых испытаний расчетом соответствующих вероятностей (через биномиальное распределение) и сравните результаты.\n",
    "\n",
    "#### 3.2 Повторите расчеты, взяв другие значения n и k."
   ]
  },
  {
   "cell_type": "code",
   "execution_count": 48,
   "metadata": {},
   "outputs": [],
   "source": [
    "# Формула Бернулли — формула в теории вероятностей, позволяющая находить вероятность появления события A определённое количество \n",
    "# раз при нескольких независимых испытаниях. Формула Бернулли позволяет избавиться от большого числа вычислений — сложения и умножения \n",
    "# вероятностей — при достаточно большом количестве испытаний.\n",
    "def Bernoulli(n, k):\n",
    "    C = np.math.factorial(n) / (np.math.factorial(k) * np.math.factorial(n - k))\n",
    "    p = 1 / 2\n",
    "    q = 1 - p\n",
    "    return C * np.power(p, k) * np.power(q, n - k)"
   ]
  },
  {
   "cell_type": "code",
   "execution_count": 49,
   "metadata": {},
   "outputs": [
    {
     "name": "stdout",
     "output_type": "stream",
     "text": [
      "Monte Carlo: 0.3776,  Bernoulli: 0.375\n"
     ]
    }
   ],
   "source": [
    "def Monte_Carlo(k, n):\n",
    "    a = np.random.randint(0, 2, n)\n",
    "    b = np.random.randint(0, 2, n)\n",
    "    c = np.random.randint(0, 2, n)\n",
    "    d = np.random.randint(0, 2, n)\n",
    "    x = a + b + c + d\n",
    "    for i in range(0, n):\n",
    "        if x[i] == 2:\n",
    "            k = k + 1\n",
    "    return k / n        \n",
    "print(f'Monte Carlo: {np.round(Monte_Carlo(0, 10000), 4)},  Bernoulli: {np.round(Bernoulli(4, 2), 4)}')"
   ]
  },
  {
   "cell_type": "code",
   "execution_count": 50,
   "metadata": {},
   "outputs": [],
   "source": [
    "# С другими k and n\n",
    "def Bernoulli(n, k):\n",
    "    C = np.math.factorial(n) / (np.math.factorial(k) * np.math.factorial(n - k))\n",
    "    p = 1 / 2\n",
    "    q = 1 - p\n",
    "    return C * np.power(p, k) * np.power(q, n - k)"
   ]
  },
  {
   "cell_type": "code",
   "execution_count": 51,
   "metadata": {},
   "outputs": [
    {
     "name": "stdout",
     "output_type": "stream",
     "text": [
      "Monte Carlo: 0.3758,  Bernoulli: 0.3125\n"
     ]
    }
   ],
   "source": [
    "def Monte_Carlo(k, n):\n",
    "    a = np.random.randint(0, 2, n)\n",
    "    b = np.random.randint(0, 2, n)\n",
    "    c = np.random.randint(0, 2, n)\n",
    "    d = np.random.randint(0, 2, n)\n",
    "    e = np.random.randint(0, 2, n)\n",
    "    f = np.random.randint(0, 2, n)\n",
    "    x = a + b + c + d\n",
    "    for i in range(0, n):\n",
    "        if x[i] == 2:\n",
    "            k = k + 1\n",
    "    return k / n        \n",
    "print(f'Monte Carlo: {np.round(Monte_Carlo(0, 10000), 4)},  Bernoulli: {np.round(Bernoulli(6, 3), 4)}')"
   ]
  },
  {
   "cell_type": "markdown",
   "metadata": {},
   "source": [
    "#### 4. Повторите расчеты, взяв другие значения n и k."
   ]
  },
  {
   "cell_type": "code",
   "execution_count": 53,
   "metadata": {},
   "outputs": [],
   "source": [
    "import itertools"
   ]
  },
  {
   "cell_type": "code",
   "execution_count": 57,
   "metadata": {},
   "outputs": [
    {
     "name": "stdout",
     "output_type": "stream",
     "text": [
      "012\n",
      "013\n",
      "021\n",
      "023\n",
      "031\n",
      "032\n",
      "102\n",
      "103\n",
      "120\n",
      "123\n",
      "130\n",
      "132\n",
      "201\n",
      "203\n",
      "210\n",
      "213\n",
      "230\n",
      "231\n",
      "301\n",
      "302\n",
      "310\n",
      "312\n",
      "320\n",
      "321\n"
     ]
    }
   ],
   "source": [
    "# перестановки \n",
    "for p in itertools.permutations(\"0123\",3):\n",
    "    print(''.join(str(x) for x in p))"
   ]
  },
  {
   "cell_type": "code",
   "execution_count": 55,
   "metadata": {},
   "outputs": [
    {
     "name": "stdout",
     "output_type": "stream",
     "text": [
      "012\n",
      "013\n",
      "023\n",
      "123\n"
     ]
    }
   ],
   "source": [
    "# сочетания\n",
    "for p in itertools.combinations(\"0123\",3):\n",
    "    print(''.join(p))"
   ]
  },
  {
   "cell_type": "code",
   "execution_count": 56,
   "metadata": {},
   "outputs": [
    {
     "name": "stdout",
     "output_type": "stream",
     "text": [
      "000\n",
      "001\n",
      "002\n",
      "003\n",
      "010\n",
      "011\n",
      "012\n",
      "013\n",
      "020\n",
      "021\n",
      "022\n",
      "023\n",
      "030\n",
      "031\n",
      "032\n",
      "033\n",
      "100\n",
      "101\n",
      "102\n",
      "103\n",
      "110\n",
      "111\n",
      "112\n",
      "113\n",
      "120\n",
      "121\n",
      "122\n",
      "123\n",
      "130\n",
      "131\n",
      "132\n",
      "133\n",
      "200\n",
      "201\n",
      "202\n",
      "203\n",
      "210\n",
      "211\n",
      "212\n",
      "213\n",
      "220\n",
      "221\n",
      "222\n",
      "223\n",
      "230\n",
      "231\n",
      "232\n",
      "233\n",
      "300\n",
      "301\n",
      "302\n",
      "303\n",
      "310\n",
      "311\n",
      "312\n",
      "313\n",
      "320\n",
      "321\n",
      "322\n",
      "323\n",
      "330\n",
      "331\n",
      "332\n",
      "333\n"
     ]
    }
   ],
   "source": [
    "for p in itertools.product(\"0123\",repeat=3):\n",
    "    print(''.join(p))   "
   ]
  },
  {
   "cell_type": "markdown",
   "metadata": {},
   "source": [
    "#### 5. Дополните код расчетом коэффициента корреляции x и y по формуле"
   ]
  },
  {
   "cell_type": "code",
   "execution_count": 58,
   "metadata": {},
   "outputs": [],
   "source": [
    "# коэффициента корреляции\n",
    "def R(x, y):\n",
    "    a = np.sum((x - np.mean(x))*(y - np.mean(y)))\n",
    "    b = np.sqrt(np.sum(np.power(x - np.mean(x), 2))*np.sum(np.power(y - np.mean(y), 2)))\n",
    "    return a / b"
   ]
  },
  {
   "cell_type": "code",
   "execution_count": 61,
   "metadata": {},
   "outputs": [
    {
     "name": "stdout",
     "output_type": "stream",
     "text": [
      "0.8034333565328242 0.1009372872838516\n",
      "0.8034333565328238 0.10093728728385179\n"
     ]
    },
    {
     "data": {
      "image/png": "[encoded data removed]",
      "text/plain": [
       "<Figure size 432x288 with 1 Axes>"
      ]
     },
     "metadata": {
      "needs_background": "light"
     },
     "output_type": "display_data"
    },
    {
     "name": "stdout",
     "output_type": "stream",
     "text": [
      "R: 0.9691\n"
     ]
    }
   ],
   "source": [
    "n = 100\n",
    "r = 0.8\n",
    "x = np.random.rand(n)\n",
    "y = r*x + (1 - r)*np.random.rand(n)\n",
    "plt.plot(x, y, 'o')\n",
    "plt.xlabel('x')\n",
    "plt.ylabel('y')\n",
    "plt.grid(True)\n",
    "\n",
    "a = (np.sum(x)*np.sum(y) - n*np.sum(x*y)) / (np.sum(x)*np.sum(x) - n*np.sum(x*x))\n",
    "b = (np.sum(y) - a*np.sum(x)) / n\n",
    "\n",
    "A = np.vstack([x, np.ones(len(x))]).T\n",
    "a1, b1 = np.linalg.lstsq(A, y, rcond=-1)[0]\n",
    "print(a, b)\n",
    "print(a1, b1)\n",
    "plt.plot([0, 1], [b, a + b])\n",
    "plt.show()\n",
    "print(f'R: {np.round(R(x, y), 4)}')"
   ]
  },
  {
   "cell_type": "code",
   "execution_count": null,
   "metadata": {},
   "outputs": [],
   "source": []
  }
 ],
 "metadata": {
  "kernelspec": {
   "display_name": "Python 3",
   "language": "python",
   "name": "python3"
  },
  "language_info": {
   "codemirror_mode": {
    "name": "ipython",
    "version": 3
   },
   "file_extension": ".py",
   "mimetype": "text/x-python",
   "name": "python",
   "nbconvert_exporter": "python",
   "pygments_lexer": "ipython3",
   "version": "3.7.1"
  }
 },
 "nbformat": 4,
 "nbformat_minor": 2
}
