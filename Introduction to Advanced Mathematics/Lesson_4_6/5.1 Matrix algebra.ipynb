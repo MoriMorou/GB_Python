{
 "cells": [
  {
   "cell_type": "markdown",
   "metadata": {
    "collapsed": true
   },
   "source": [
    "## Матрицы и векторы\n",
    "### Основные операции с векторами и матрицами"
   ]
  },
  {
   "cell_type": "code",
   "execution_count": 2,
   "metadata": {},
   "outputs": [],
   "source": [
    "import numpy as np"
   ]
  },
  {
   "cell_type": "markdown",
   "metadata": {},
   "source": [
    "#### Что такое матрица?\n",
    "Матрица — математический объект, записываемый в виде прямоугольной таблицы элементов, например — целых или действительных чисел.\n",
    "\n",
    "Матрица представляет собой совокупность строк и столбцов, на пересечении которых находятся её элементы. \n",
    "\n",
    "Количество строк и столбцов задает размер матрицы.\n",
    "## $A = \\left(\n",
    "\\begin{array}{cccc}\n",
    "a_{00} & a_{01} & \\ldots & a_{0n}\\\\\n",
    "a_{10} & a_{11} & \\ldots & a_{1n}\\\\\n",
    "\\vdots & \\vdots & \\ddots & \\vdots\\\\\n",
    "a_{m0} & a_{m1} & \\ldots & a_{mn}\n",
    "\\end{array}\n",
    "\\right)$"
   ]
  },
  {
   "cell_type": "code",
   "execution_count": 3,
   "metadata": {},
   "outputs": [
    {
     "name": "stdout",
     "output_type": "stream",
     "text": [
      "[[ 1.  2.  3.]\n",
      " [ 4.  5.  6.]\n",
      " [ 7.  8.  9.]\n",
      " [ 0. -1. 12.]]\n"
     ]
    }
   ],
   "source": [
    "a = np.array([[1, 2, 3], [4, 5, 6], [7, 8, 9], [0, -1, 12]], float)\n",
    "print(a)"
   ]
  },
  {
   "cell_type": "code",
   "execution_count": 4,
   "metadata": {},
   "outputs": [
    {
     "name": "stdout",
     "output_type": "stream",
     "text": [
      "8.0\n"
     ]
    }
   ],
   "source": [
    "print(a[2, 1])"
   ]
  },
  {
   "cell_type": "code",
   "execution_count": 5,
   "metadata": {},
   "outputs": [
    {
     "name": "stdout",
     "output_type": "stream",
     "text": [
      "(4, 3)\n"
     ]
    }
   ],
   "source": [
    "print(a.shape)"
   ]
  },
  {
   "cell_type": "markdown",
   "metadata": {
    "collapsed": true
   },
   "source": [
    "#### Операции с матрицами"
   ]
  },
  {
   "cell_type": "code",
   "execution_count": 6,
   "metadata": {},
   "outputs": [
    {
     "name": "stdout",
     "output_type": "stream",
     "text": [
      "[[ 2.  4.  6.]\n",
      " [ 8. 10. 12.]\n",
      " [14. 16. 18.]\n",
      " [ 0. -2. 24.]]\n"
     ]
    }
   ],
   "source": [
    "b = a * 2\n",
    "print(b)"
   ]
  },
  {
   "cell_type": "code",
   "execution_count": 7,
   "metadata": {},
   "outputs": [
    {
     "name": "stdout",
     "output_type": "stream",
     "text": [
      "[[ 2.  3.  4.]\n",
      " [ 5.  6.  7.]\n",
      " [ 8.  9. 10.]\n",
      " [ 1.  0. 13.]]\n"
     ]
    }
   ],
   "source": [
    "c = a + 1\n",
    "print(c)"
   ]
  },
  {
   "cell_type": "code",
   "execution_count": 8,
   "metadata": {},
   "outputs": [
    {
     "name": "stdout",
     "output_type": "stream",
     "text": [
      "[[ 4.  7. 10.]\n",
      " [13. 16. 19.]\n",
      " [22. 25. 28.]\n",
      " [ 1. -2. 37.]]\n"
     ]
    }
   ],
   "source": [
    "d = c + b\n",
    "print(d)"
   ]
  },
  {
   "cell_type": "code",
   "execution_count": 9,
   "metadata": {},
   "outputs": [
    {
     "name": "stdout",
     "output_type": "stream",
     "text": [
      "[[ 0.  1.  2.]\n",
      " [ 3.  4.  5.]\n",
      " [ 6.  7.  8.]\n",
      " [-1. -2. 11.]]\n"
     ]
    }
   ],
   "source": [
    "d = np.subtract(b, c)\n",
    "print(d)"
   ]
  },
  {
   "cell_type": "code",
   "execution_count": 10,
   "metadata": {},
   "outputs": [
    {
     "name": "stdout",
     "output_type": "stream",
     "text": [
      "[[ 0.  1.  2.]\n",
      " [ 3.  4.  5.]\n",
      " [ 6.  7.  8.]\n",
      " [-1. -2. 11.]]\n"
     ]
    }
   ],
   "source": [
    "print(b - c)"
   ]
  },
  {
   "cell_type": "markdown",
   "metadata": {},
   "source": [
    "## Транспонирование матрицы\n",
    "## $F =  D^T $"
   ]
  },
  {
   "cell_type": "code",
   "execution_count": 11,
   "metadata": {},
   "outputs": [
    {
     "name": "stdout",
     "output_type": "stream",
     "text": [
      "[[ 0.  1.  2.]\n",
      " [ 3.  4.  5.]\n",
      " [ 6.  7.  8.]\n",
      " [-1. -2. 11.]]\n",
      "\n",
      "[[ 0.  3.  6. -1.]\n",
      " [ 1.  4.  7. -2.]\n",
      " [ 2.  5.  8. 11.]]\n"
     ]
    }
   ],
   "source": [
    "f = d.transpose()\n",
    "print(d)\n",
    "\n",
    "print(\"\")\n",
    "print(f)"
   ]
  },
  {
   "cell_type": "markdown",
   "metadata": {},
   "source": [
    "#### Умножение матриц\n",
    "### $G =  D \\cdot F$\n",
    "### $g_{i j} =   d_{i 0} \\cdotp f_{0 j} + d_{i 1} \\cdotp f_{1 j} + d_{i 2} \\cdotp f_{2 j} = \\sum_{k=0}^{n-1} d_{i k} \\cdotp f_{k j}$"
   ]
  },
  {
   "cell_type": "code",
   "execution_count": 12,
   "metadata": {},
   "outputs": [
    {
     "data": {
      "text/plain": [
       "23.0"
      ]
     },
     "execution_count": 12,
     "metadata": {},
     "output_type": "execute_result"
    }
   ],
   "source": [
    "i, j = 0, 2\n",
    "d[i, 0] * f[0, j] + d[i, 1] * f[1, j] + d[i, 2] * f[2, j]"
   ]
  },
  {
   "cell_type": "code",
   "execution_count": 13,
   "metadata": {},
   "outputs": [
    {
     "name": "stdout",
     "output_type": "stream",
     "text": [
      "[[ 46.  56.  52.]\n",
      " [ 56.  70.  56.]\n",
      " [ 52.  56. 214.]]\n"
     ]
    },
    {
     "data": {
      "text/plain": [
       "((4, 3), (3, 4))"
      ]
     },
     "execution_count": 13,
     "metadata": {},
     "output_type": "execute_result"
    }
   ],
   "source": [
    "g = np.dot(f, d)\n",
    "print(g)\n",
    "d.shape, f.shape"
   ]
  },
  {
   "cell_type": "markdown",
   "metadata": {},
   "source": [
    "#### Единичная и нулевая матрица\n",
    "### $A \\cdot E = E \\cdot A = A$\n",
    "### $A \\cdot O = O \\cdot A = O$\n",
    "### $E =\n",
    "\\begin{pmatrix}\n",
    "1 & 0 & 0\\\\\n",
    "0 & 1 & 0\\\\\n",
    "0 & 0 & 1\n",
    "\\end{pmatrix}\n",
    "$\n",
    "### $O =\n",
    "\\begin{pmatrix}\n",
    "0 & 0 & 0\\\\\n",
    "0 & 0 & 0\\\\\n",
    "0 & 0 & 0\n",
    "\\end{pmatrix}\n",
    "$"
   ]
  },
  {
   "cell_type": "code",
   "execution_count": 14,
   "metadata": {},
   "outputs": [
    {
     "name": "stdout",
     "output_type": "stream",
     "text": [
      "[[1. 0. 0.]\n",
      " [0. 1. 0.]\n",
      " [0. 0. 1.]]\n"
     ]
    }
   ],
   "source": [
    "e = np.identity(3)\n",
    "print(e)"
   ]
  },
  {
   "cell_type": "code",
   "execution_count": 15,
   "metadata": {},
   "outputs": [
    {
     "data": {
      "text/plain": [
       "array([[ 46.,  56.,  52.],\n",
       "       [ 56.,  70.,  56.],\n",
       "       [ 52.,  56., 214.]])"
      ]
     },
     "execution_count": 15,
     "metadata": {},
     "output_type": "execute_result"
    }
   ],
   "source": [
    "np.dot(e, g)"
   ]
  },
  {
   "cell_type": "markdown",
   "metadata": {},
   "source": [
    "#### Обратная матрица\n",
    "### $A \\cdot A^{-1} = E$"
   ]
  },
  {
   "cell_type": "code",
   "execution_count": 16,
   "metadata": {},
   "outputs": [
    {
     "name": "stdout",
     "output_type": "stream",
     "text": [
      "[[ 1.11904762 -0.85714286 -0.04761905]\n",
      " [-0.85714286  0.67460317  0.03174603]\n",
      " [-0.04761905  0.03174603  0.00793651]]\n"
     ]
    }
   ],
   "source": [
    "p = np.linalg.inv(g)\n",
    "print(p)"
   ]
  },
  {
   "cell_type": "code",
   "execution_count": 17,
   "metadata": {},
   "outputs": [
    {
     "data": {
      "text/plain": [
       "array([[ 1.00000000e+00, -6.27276009e-15, -3.74700271e-16],\n",
       "       [-5.71764858e-15,  1.00000000e+00, -2.77555756e-17],\n",
       "       [ 7.35522754e-16, -2.85882429e-15,  1.00000000e+00]])"
      ]
     },
     "execution_count": 17,
     "metadata": {},
     "output_type": "execute_result"
    }
   ],
   "source": [
    "np.dot(g, p)"
   ]
  },
  {
   "cell_type": "code",
   "execution_count": 18,
   "metadata": {},
   "outputs": [
    {
     "data": {
      "text/plain": [
       "array([[ 1.00000000e+00,  6.16173779e-15,  6.03683770e-15],\n",
       "       [-1.15740750e-14,  1.00000000e+00, -9.64506253e-15],\n",
       "       [-5.96744876e-16, -4.71844785e-16,  1.00000000e+00]])"
      ]
     },
     "execution_count": 18,
     "metadata": {},
     "output_type": "execute_result"
    }
   ],
   "source": [
    "np.dot(p, g)"
   ]
  },
  {
   "cell_type": "markdown",
   "metadata": {},
   "source": [
    "#### Свойства сложения и умножения матриц\n",
    "### $(k \\cdot l) \\cdot A = k \\cdot (l \\cdot A)$\n",
    "### $k \\cdot (A+B) = k \\cdot A + k \\cdot B $\n",
    "### $(k+l) \\cdot A = k \\cdot A + l \\cdot A $\n",
    "### $(A \\cdot B) \\cdot C = A \\cdot (B \\cdot C) $\n",
    "### $(A + B) \\cdot C = A \\cdot C + B \\cdot C $\n",
    "### $A \\cdot (B + C) = A \\cdot B + A \\cdot C $"
   ]
  },
  {
   "cell_type": "code",
   "execution_count": null,
   "metadata": {
    "collapsed": true
   },
   "outputs": [],
   "source": []
  }
 ],
 "metadata": {
  "kernelspec": {
   "display_name": "Python 3",
   "language": "python",
   "name": "python3"
  },
  "language_info": {
   "codemirror_mode": {
    "name": "ipython",
    "version": 3
   },
   "file_extension": ".py",
   "mimetype": "text/x-python",
   "name": "python",
   "nbconvert_exporter": "python",
   "pygments_lexer": "ipython3",
   "version": "3.7.1"
  }
 },
 "nbformat": 4,
 "nbformat_minor": 2
}
