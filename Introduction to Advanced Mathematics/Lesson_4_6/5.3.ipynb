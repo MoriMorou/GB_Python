{
 "cells": [
  {
   "cell_type": "markdown",
   "metadata": {
    "collapsed": true
   },
   "source": [
    "## Матрицы и векторы\n",
    "### Определитель матрицы"
   ]
  },
  {
   "cell_type": "code",
   "execution_count": 1,
   "metadata": {
    "collapsed": true
   },
   "outputs": [],
   "source": [
    "import numpy as np"
   ]
  },
  {
   "cell_type": "markdown",
   "metadata": {},
   "source": [
    "## $\\det A = \\left|\n",
    "\\begin{array}{cccc}\n",
    "a_{00} & a_{01} & \\ldots & a_{0n}\\\\\n",
    "a_{10} & a_{11} & \\ldots & a_{1n}\\\\\n",
    "\\vdots & \\vdots & \\ddots & \\vdots\\\\\n",
    "a_{n0} & a_{n1} & \\ldots & a_{nn}\n",
    "\\end{array}\n",
    "\\right|= \\sum_{k=0}^{n} (-1)^{k+0}a_{0k}M_k^0$\n",
    "\n",
    "\n",
    "Минор элемента  $a_{ij}$ квадратной матрицы – это определитель этой матрицы, у которого отсутствует  i-я строка и  j-й столбец. "
   ]
  },
  {
   "cell_type": "code",
   "execution_count": 2,
   "metadata": {
    "collapsed": false
   },
   "outputs": [
    {
     "name": "stdout",
     "output_type": "stream",
     "text": [
      "[[1 2]\n",
      " [3 4]]\n"
     ]
    },
    {
     "data": {
      "text/plain": [
       "-2"
      ]
     },
     "execution_count": 2,
     "metadata": {},
     "output_type": "execute_result"
    }
   ],
   "source": [
    "a = np.array([[1, 2], [3, 4]])\n",
    "print(a)\n",
    "a[0, 0] * a[1, 1] - a[0, 1] * a[1, 0] "
   ]
  },
  {
   "cell_type": "code",
   "execution_count": 3,
   "metadata": {
    "collapsed": false
   },
   "outputs": [
    {
     "data": {
      "text/plain": [
       "-2.0000000000000004"
      ]
     },
     "execution_count": 3,
     "metadata": {},
     "output_type": "execute_result"
    }
   ],
   "source": [
    "np.linalg.det(a)"
   ]
  },
  {
   "cell_type": "code",
   "execution_count": 4,
   "metadata": {
    "collapsed": false
   },
   "outputs": [
    {
     "data": {
      "text/plain": [
       "6.6613381477509402e-16"
      ]
     },
     "execution_count": 4,
     "metadata": {},
     "output_type": "execute_result"
    }
   ],
   "source": [
    "b = np.array([[1, 2, 3], [4, 5, 6], [7, 8, 9]])\n",
    "np.linalg.det(b)"
   ]
  },
  {
   "cell_type": "markdown",
   "metadata": {
    "collapsed": false
   },
   "source": [
    "## $\\det A = \\left|\n",
    "\\begin{array}{cccc}\n",
    "1 & 2 & 3\\\\\n",
    "4 & 5 & 6\\\\\n",
    "7 & 8 & 9\n",
    "\\end{array}\n",
    "\\right|=\n",
    "1\\left| \n",
    "\\begin{array}{cccc}\n",
    "5 & 6\\\\ \n",
    "8 & 9\n",
    "\\end{array} \n",
    "\\right|\n",
    "-2\\left| \n",
    "\\begin{array}{cccc}\n",
    "4 & 6\\\\ \n",
    "7 & 9\n",
    "\\end{array} \n",
    "\\right|\n",
    "+3\\left| \n",
    "\\begin{array}{cccc}\n",
    "4 & 5\\\\ \n",
    "7 & 8\n",
    "\\end{array} \n",
    "\\right|=0\n",
    "$\n"
   ]
  },
  {
   "cell_type": "code",
   "execution_count": 5,
   "metadata": {
    "collapsed": false
   },
   "outputs": [
    {
     "data": {
      "text/plain": [
       "0"
      ]
     },
     "execution_count": 5,
     "metadata": {},
     "output_type": "execute_result"
    }
   ],
   "source": [
    "1 * (5 * 9 - 6 * 8) - 2 * (4 * 9 - 6 * 7) + 3 * (4 * 8 - 5 * 7)"
   ]
  },
  {
   "cell_type": "markdown",
   "metadata": {
    "collapsed": false
   },
   "source": [
    "## $\\det A = \\sum_{k=0}^{n} (-1)^{k+i}a_{ik}M_k^i =  \\sum_{k=0}^{n} a_{ik}A_{ik}$"
   ]
  },
  {
   "cell_type": "markdown",
   "metadata": {
    "collapsed": true
   },
   "source": [
    "### Свойства определителей\n",
    "1. Определитель не меняется при транспонировании.\n",
    "\n",
    "2. При перестановке двух соседних строк (столбцов) определитель меняет знак. \n",
    "\n",
    "3. Определитель с двумя одинаковыми строками (столбцами) равен нулю.\n",
    "\n",
    "4. Общий множитель строки (столбца) можно выносить за знак определителя.\n",
    "$\\begin{vmatrix} 1 & 4 & 2\\\\ 0 & 2 & 0\\\\ -7 & 14 & -7 \\end{vmatrix}=-7\\cdot \\begin{vmatrix} 1 & 4 & 2\\\\ 0 & 2 & 0\\\\ 1 & -2 & 1 \\end{vmatrix}= -14\\cdot \\begin{vmatrix} 1 & 2 & 2\\\\ 0 & 1 & 0\\\\ 1 & -1 & 1 \\end{vmatrix}$\n",
    "\n",
    "5. Если все элементы некоторой строки (столбца) равны нулю, то определитель равен нулю.\n",
    "\n",
    "6. Если все элементы двух строк (или двух столбцов) пропорциональны, то определитель равен нулю.\n",
    "\n",
    "7. Если к элементам некоторой строки (столбца) прибавить соответствующие элементы другой строки (столбца), предварительно умножив их на одно и то же отличное от нуля число, то определитель не изменится."
   ]
  },
  {
   "cell_type": "code",
   "execution_count": 7,
   "metadata": {
    "collapsed": false
   },
   "outputs": [
    {
     "data": {
      "text/plain": [
       "6.6613381477509402e-16"
      ]
     },
     "execution_count": 7,
     "metadata": {},
     "output_type": "execute_result"
    }
   ],
   "source": [
    "np.linalg.det(b)"
   ]
  },
  {
   "cell_type": "markdown",
   "metadata": {},
   "source": [
    "### Ранг матрицы\n",
    "Если из матрицы вычеркнуть M столбцов и М строк, то определитель оставшейся матрицы называют минором порядка М исходной матрицы. \n",
    "\n",
    "Рангом матрицы называют наибольший из порядков отличных от нуля ее миноров.\n"
   ]
  },
  {
   "cell_type": "code",
   "execution_count": 8,
   "metadata": {
    "collapsed": false
   },
   "outputs": [
    {
     "data": {
      "text/plain": [
       "2"
      ]
     },
     "execution_count": 8,
     "metadata": {},
     "output_type": "execute_result"
    }
   ],
   "source": [
    "np.linalg.matrix_rank(b, 0.0001)"
   ]
  },
  {
   "cell_type": "code",
   "execution_count": 10,
   "metadata": {
    "collapsed": false
   },
   "outputs": [
    {
     "name": "stdout",
     "output_type": "stream",
     "text": [
      "[[ 1  2  3]\n",
      " [ 4  5  6]\n",
      " [ 0  8  9]\n",
      " [10  0 12]]\n"
     ]
    },
    {
     "data": {
      "text/plain": [
       "3"
      ]
     },
     "execution_count": 10,
     "metadata": {},
     "output_type": "execute_result"
    }
   ],
   "source": [
    "f = np.array([[1, 2, 3], [4, 5, 6], [0, 8, 9], [10, 0, 12]])\n",
    "print(f)\n",
    "np.linalg.matrix_rank(f, 0.0001)"
   ]
  },
  {
   "cell_type": "code",
   "execution_count": null,
   "metadata": {
    "collapsed": true
   },
   "outputs": [],
   "source": []
  }
 ],
 "metadata": {
  "kernelspec": {
   "display_name": "Python 3",
   "language": "python",
   "name": "python3"
  },
  "language_info": {
   "codemirror_mode": {
    "name": "ipython",
    "version": 3
   },
   "file_extension": ".py",
   "mimetype": "text/x-python",
   "name": "python",
   "nbconvert_exporter": "python",
   "pygments_lexer": "ipython3",
   "version": "3.6.0"
  }
 },
 "nbformat": 4,
 "nbformat_minor": 2
}
