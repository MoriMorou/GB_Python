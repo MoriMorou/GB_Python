{
 "cells": [
  {
   "cell_type": "markdown",
   "metadata": {
    "collapsed": true
   },
   "source": [
    "## Системы линейных алгебраических уравнений (СЛАУ) "
   ]
  },
  {
   "cell_type": "code",
   "execution_count": 1,
   "metadata": {
    "collapsed": true
   },
   "outputs": [],
   "source": [
    "import numpy as np\n",
    "import matplotlib.pyplot as plt\n",
    "\n"
   ]
  },
  {
   "cell_type": "markdown",
   "metadata": {},
   "source": [
    "### Что такое СЛАУ\n",
    "В общем случае, СЛАУ - это система m линейных уравнений с n неизвестными.\n",
    "## $\n",
    "a_{00}\\cdot x_0 + a_{01}\\cdot x_1 + \\ldots + a_{0n-1}\\cdot x_{n-1} = b_0$\n",
    "## $a_{10}\\cdot x_0 + a_{11}\\cdot x_1 + \\ldots + a_{1n-1}\\cdot x_{n-1} = b_1$\n",
    "## $ \\ldots $\n",
    "# $a_{m-1,0}\\cdot x_0 + a_{m-1,1}\\cdot x_1 + \\ldots + a_{m-1,n-1}\\cdot x_{n-1} = b_{m-1}$\n",
    "\n",
    "### Пример СЛАУ\n",
    "## $3x + 2y = 4$\n",
    "## $3x - 4y = 1$\n",
    "#### Решаем:\n",
    "## $y = 2 - 1.5x$\n",
    "## $3x - 4 (2 - 1.5x) = 1$\n",
    "## $9x = 9$\n",
    "#### Графическая визуализация:\n",
    "## $y = 2 - 1.5x$\n",
    "## $y = 0.75x - 0.25$"
   ]
  },
  {
   "cell_type": "code",
   "execution_count": 8,
   "metadata": {
    "collapsed": false
   },
   "outputs": [
    {
     "data": {
      "image/png": "[encoded data removed]",
      "text/plain": [
       "<matplotlib.figure.Figure at 0x26a20b0>"
      ]
     },
     "metadata": {},
     "output_type": "display_data"
    }
   ],
   "source": [
    "x = np.linspace(-1, 3, 201)\n",
    "plt.plot(x, 2 - 1.5 * x)\n",
    "plt.plot(x, -1.5 * x - 0.25)\n",
    "plt.xlabel('x')\n",
    "plt.ylabel('y')\n",
    "plt.grid(True)\n",
    "plt.show()"
   ]
  },
  {
   "cell_type": "markdown",
   "metadata": {
    "collapsed": false
   },
   "source": [
    "### Однородная СЛАУ\n",
    "## $3x + 2y = 0$\n",
    "## $3x - 4y = 0$"
   ]
  },
  {
   "cell_type": "code",
   "execution_count": 3,
   "metadata": {
    "collapsed": false
   },
   "outputs": [
    {
     "data": {
      "image/png": "[encoded data removed]",
      "text/plain": [
       "<matplotlib.figure.Figure at 0x63dd150>"
      ]
     },
     "metadata": {},
     "output_type": "display_data"
    }
   ],
   "source": [
    "x = np.linspace(-1, 3, 201)\n",
    "plt.plot(x, 0 - 1.5 * x)\n",
    "plt.plot(x, 0.75 * x - 0)\n",
    "plt.xlabel('x')\n",
    "plt.ylabel('y')\n",
    "plt.grid(True)\n",
    "plt.show()\n",
    "\n"
   ]
  },
  {
   "cell_type": "markdown",
   "metadata": {
    "collapsed": true
   },
   "source": [
    "### Обычная форма записи СЛАУ\n",
    "## $\n",
    "a_{00}\\cdot x_0 + a_{01}\\cdot x_1 + \\ldots + a_{0n}\\cdot x_{n} = b_0$\n",
    "## $a_{10}\\cdot x_0 + a_{11}\\cdot x_1 + \\ldots + a_{1n}\\cdot x_{n} = b_1$\n",
    "## $ \\ldots $\n",
    "# $a_{m0}\\cdot x_0 + a_{m1}\\cdot x_1 + \\ldots + a_{mn}\\cdot x_{n} = b_{m}$\n",
    "### Матричная форма записи СЛАУ\n",
    "## $A = \\left(\n",
    "\\begin{array}{cccc}\n",
    "a_{00} & a_{01} & \\ldots & a_{0n}\\\\\n",
    "a_{10} & a_{11} & \\ldots & a_{1n}\\\\\n",
    "\\vdots & \\vdots & \\ddots & \\vdots\\\\\n",
    "a_{m0} & a_{m1} & \\ldots & a_{mn}\n",
    "\\end{array}\n",
    "\\right) ,     X = \\left(\n",
    "\\begin{array}{cccc}\n",
    "x_0\\\\x_1\\\\\\vdots\\\\x_{n}\n",
    "\\end{array}\n",
    "\\right)\n",
    ",     B = \\left(\n",
    "\\begin{array}{cccc}\n",
    "b_0\\\\b_1\\\\\\vdots\\\\b_{m}\n",
    "\\end{array}\n",
    "\\right)$\n",
    "## $A\\cdot X = B$\n",
    "### Пример \n",
    "## $3x + 2y = 4$\n",
    "## $3x - 4y = 1$\n",
    "#### в матричной форме:\n",
    "## $\\left(\n",
    "\\begin{array}{cccc}\n",
    "3 & 2\\\\\n",
    "3 & -4\\end{array}\n",
    "\\right)\\cdot \\left(\n",
    "\\begin{array}{cccc}\n",
    "x\\\\y\\end{array}\n",
    "\\right) = \\left(\\begin{array}{cccc}\n",
    "4\\\\1\\end{array}\\right)$\n",
    "#### или:\n",
    "## $\\left(\n",
    "\\begin{array}{cccc}\n",
    "3 & 2\\\\\n",
    "3 & -4\\end{array}\n",
    "\\right)\\cdot \\left(\n",
    "\\begin{array}{cccc}\n",
    "x_0\\\\x_1\\end{array}\n",
    "\\right) = \\left(\\begin{array}{cccc}\n",
    "4\\\\1\\end{array}\\right)$"
   ]
  },
  {
   "cell_type": "code",
   "execution_count": 4,
   "metadata": {
    "collapsed": false
   },
   "outputs": [
    {
     "data": {
      "text/plain": [
       "array([ 1. ,  0.5])"
      ]
     },
     "execution_count": 4,
     "metadata": {},
     "output_type": "execute_result"
    }
   ],
   "source": [
    "A = np.array([[3, 2], [3, -4]])\n",
    "B = np.array([4, 1])\n",
    "np.linalg.solve(A, B)"
   ]
  },
  {
   "cell_type": "markdown",
   "metadata": {},
   "source": [
    "## $A\\cdot X = B$\n",
    "## $A^{-1} \\cdot A = E =\n",
    "\\begin{pmatrix}\n",
    "1 & 0 \\\\\n",
    "0 & 1 \n",
    "\\end{pmatrix}$\n",
    "## $X =  A^{-1} \\cdot B$"
   ]
  },
  {
   "cell_type": "code",
   "execution_count": 5,
   "metadata": {
    "collapsed": false
   },
   "outputs": [
    {
     "name": "stdout",
     "output_type": "stream",
     "text": [
      "[[ 0.22222222  0.11111111]\n",
      " [ 0.16666667 -0.16666667]]\n",
      "det = -18.0\n"
     ]
    },
    {
     "data": {
      "text/plain": [
       "array([ 1. ,  0.5])"
      ]
     },
     "execution_count": 5,
     "metadata": {},
     "output_type": "execute_result"
    }
   ],
   "source": [
    "A1 = np.linalg.inv(A)\n",
    "print(A1)\n",
    "print(\"det =\", np.linalg.det(A))\n",
    "np.dot(A1, B)"
   ]
  },
  {
   "cell_type": "code",
   "execution_count": null,
   "metadata": {
    "collapsed": true
   },
   "outputs": [],
   "source": []
  }
 ],
 "metadata": {
  "kernelspec": {
   "display_name": "Python 3",
   "language": "python",
   "name": "python3"
  },
  "language_info": {
   "codemirror_mode": {
    "name": "ipython",
    "version": 3
   },
   "file_extension": ".py",
   "mimetype": "text/x-python",
   "name": "python",
   "nbconvert_exporter": "python",
   "pygments_lexer": "ipython3",
   "version": "3.6.0"
  }
 },
 "nbformat": 4,
 "nbformat_minor": 2
}
