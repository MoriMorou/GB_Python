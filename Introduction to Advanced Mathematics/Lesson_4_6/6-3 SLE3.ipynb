{
 "cells": [
  {
   "cell_type": "markdown",
   "metadata": {
    "collapsed": true
   },
   "source": [
    "## Системы линейных алгебраических уравнений (СЛАУ) "
   ]
  },
  {
   "cell_type": "code",
   "execution_count": 1,
   "metadata": {
    "collapsed": true
   },
   "outputs": [],
   "source": [
    "import numpy as np\n",
    "import matplotlib.pyplot as plt\n"
   ]
  },
  {
   "cell_type": "markdown",
   "metadata": {},
   "source": [
    "## Линейные системы уравнений с квадратной матрицей\n",
    "## $A = \\left(\n",
    "\\begin{array}{cccc}\n",
    "a_{00} & a_{01} & \\ldots & a_{0n}\\\\\n",
    "a_{10} & a_{11} & \\ldots & a_{1n}\\\\\n",
    "\\vdots & \\vdots & \\ddots & \\vdots\\\\\n",
    "a_{n0} & a_{n1} & \\ldots & a_{nn}\n",
    "\\end{array}\n",
    "\\right) ,     X = \\left(\n",
    "\\begin{array}{cccc}\n",
    "x_0\\\\x_1\\\\\\vdots\\\\x_{n}\n",
    "\\end{array}\n",
    "\\right)\n",
    ",     B = \\left(\n",
    "\\begin{array}{cccc}\n",
    "b_0\\\\b_1\\\\\\vdots\\\\b_{n}\n",
    "\\end{array}\n",
    "\\right)$\n",
    "## $A\\cdot X = B$\n",
    "### Пример: \"хорошее\" СЛАУ\n",
    "## $x + 2y = 4$\n",
    "## $3x - 4y = 1$"
   ]
  },
  {
   "cell_type": "code",
   "execution_count": 2,
   "metadata": {
    "collapsed": false
   },
   "outputs": [
    {
     "data": {
      "image/png": "[encoded data removed]",
      "text/plain": [
       "<matplotlib.figure.Figure at 0x52f3af0>"
      ]
     },
     "metadata": {},
     "output_type": "display_data"
    }
   ],
   "source": [
    "x = np.linspace(0, 3, 201)\n",
    "plt.plot(x, 2 - 0.5 * x)\n",
    "plt.plot(x, 0.75 * x - 0.25)\n",
    "plt.xlabel('x')\n",
    "plt.ylabel('y')\n",
    "plt.grid(True)\n",
    "plt.show()"
   ]
  },
  {
   "cell_type": "markdown",
   "metadata": {
    "collapsed": false
   },
   "source": [
    "## $\\left(\n",
    "\\begin{array}{cccc}\n",
    "1 & 2\\\\\n",
    "3 & -4\\end{array}\n",
    "\\right)\\cdot \\left(\n",
    "\\begin{array}{cccc}\n",
    "x\\\\y\\end{array}\n",
    "\\right) = \\left(\\begin{array}{cccc}\n",
    "4\\\\1\\end{array}\\right)\n",
    "$"
   ]
  },
  {
   "cell_type": "code",
   "execution_count": 3,
   "metadata": {
    "collapsed": false
   },
   "outputs": [
    {
     "data": {
      "text/plain": [
       "array([ 1.8,  1.1])"
      ]
     },
     "execution_count": 3,
     "metadata": {},
     "output_type": "execute_result"
    }
   ],
   "source": [
    "A = np.array([[1, 2], [3, -4]])\n",
    "B = np.array([4, 1])\n",
    "np.linalg.solve(A, B)"
   ]
  },
  {
   "cell_type": "code",
   "execution_count": 4,
   "metadata": {
    "collapsed": false
   },
   "outputs": [
    {
     "data": {
      "text/plain": [
       "2"
      ]
     },
     "execution_count": 4,
     "metadata": {},
     "output_type": "execute_result"
    }
   ],
   "source": [
    "np.linalg.matrix_rank(A, 0.0001)"
   ]
  },
  {
   "cell_type": "code",
   "execution_count": 5,
   "metadata": {
    "collapsed": false
   },
   "outputs": [
    {
     "name": "stdout",
     "output_type": "stream",
     "text": [
      "[[ 1  2  4]\n",
      " [ 3 -4  1]]\n"
     ]
    },
    {
     "data": {
      "text/plain": [
       "(2, 2)"
      ]
     },
     "execution_count": 5,
     "metadata": {},
     "output_type": "execute_result"
    }
   ],
   "source": [
    "A = np.array([[1, 2], [3, -4]])\n",
    "B = np.array([[4, 1]])\n",
    "C = np.concatenate((A,B.T), axis=1)\n",
    "print (C)\n",
    "np.linalg.matrix_rank(A, 0.0001), np.linalg.matrix_rank(C, 0.0001)"
   ]
  },
  {
   "cell_type": "markdown",
   "metadata": {},
   "source": [
    "## $\\left(\n",
    "\\begin{array}{cccc}\n",
    "1 & 2\\\\\n",
    "3 & 6\\end{array}\n",
    "\\right)\\cdot \\left(\n",
    "\\begin{array}{cccc}\n",
    "x\\\\y\\end{array}\n",
    "\\right) = \\left(\\begin{array}{cccc}\n",
    "4\\\\12\\end{array}\\right)\n",
    "$"
   ]
  },
  {
   "cell_type": "code",
   "execution_count": 10,
   "metadata": {
    "collapsed": false
   },
   "outputs": [
    {
     "data": {
      "image/png": "[encoded data removed]",
      "text/plain": [
       "<matplotlib.figure.Figure at 0x68d1b70>"
      ]
     },
     "metadata": {},
     "output_type": "display_data"
    }
   ],
   "source": [
    "x = np.linspace(-1, 3, 201)\n",
    "plt.plot(x, 2 - 0.5 * x)\n",
    "plt.plot(x, 12/6 - 0.5 * x)\n",
    "plt.xlabel('x')\n",
    "plt.ylabel('y')\n",
    "plt.grid(True)\n",
    "plt.show()"
   ]
  },
  {
   "cell_type": "code",
   "execution_count": 11,
   "metadata": {
    "collapsed": false
   },
   "outputs": [
    {
     "name": "stdout",
     "output_type": "stream",
     "text": [
      "[[ 1  2  4]\n",
      " [ 3  6 12]]\n"
     ]
    },
    {
     "data": {
      "text/plain": [
       "(1, 1)"
      ]
     },
     "execution_count": 11,
     "metadata": {},
     "output_type": "execute_result"
    }
   ],
   "source": [
    "A = np.array([[1, 2], [3, 6]])\n",
    "B = np.array([[4, 12]])\n",
    "C = np.concatenate((A,B.T), axis=1)\n",
    "print (C)\n",
    "np.linalg.matrix_rank(A, 0.0001), np.linalg.matrix_rank(C, 0.0001)"
   ]
  },
  {
   "cell_type": "code",
   "execution_count": 16,
   "metadata": {
    "collapsed": false
   },
   "outputs": [
    {
     "data": {
      "text/plain": [
       "2"
      ]
     },
     "execution_count": 16,
     "metadata": {},
     "output_type": "execute_result"
    }
   ],
   "source": [
    "A = np.array([[1, 1, 1], [1, 1, 2], [1, 1, 3]])\n",
    "B = np.array([1, 1, 2])\n",
    "np.linalg.matrix_rank(A, 0.0001)"
   ]
  },
  {
   "cell_type": "code",
   "execution_count": null,
   "metadata": {
    "collapsed": true
   },
   "outputs": [],
   "source": []
  }
 ],
 "metadata": {
  "kernelspec": {
   "display_name": "Python 3",
   "language": "python",
   "name": "python3"
  },
  "language_info": {
   "codemirror_mode": {
    "name": "ipython",
    "version": 3
   },
   "file_extension": ".py",
   "mimetype": "text/x-python",
   "name": "python",
   "nbconvert_exporter": "python",
   "pygments_lexer": "ipython3",
   "version": "3.6.0"
  }
 },
 "nbformat": 4,
 "nbformat_minor": 2
}
