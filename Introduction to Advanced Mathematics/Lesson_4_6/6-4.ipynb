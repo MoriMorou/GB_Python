{
 "cells": [
  {
   "cell_type": "markdown",
   "metadata": {
    "collapsed": true
   },
   "source": [
    "## Матричные разложения "
   ]
  },
  {
   "cell_type": "code",
   "execution_count": 1,
   "metadata": {
    "collapsed": true
   },
   "outputs": [],
   "source": [
    "import numpy as np \n",
    "import matplotlib.pyplot as plt\n",
    "import scipy \n",
    "import scipy.linalg  "
   ]
  },
  {
   "cell_type": "markdown",
   "metadata": {},
   "source": [
    "### Линейные системы уравнений \n",
    "## $A = \\left(\n",
    "\\begin{array}{cccc}\n",
    "a_{00} & a_{01} & \\ldots & a_{0n}\\\\\n",
    "a_{10} & a_{11} & \\ldots & a_{1n}\\\\\n",
    "\\vdots & \\vdots & \\ddots & \\vdots\\\\\n",
    "a_{n0} & a_{n1} & \\ldots & a_{nn}\n",
    "\\end{array}\n",
    "\\right) ,     X = \\left(\n",
    "\\begin{array}{cccc}\n",
    "x_0\\\\x_1\\\\\\vdots\\\\x_{n}\n",
    "\\end{array}\n",
    "\\right)\n",
    ",     B = \\left(\n",
    "\\begin{array}{cccc}\n",
    "b_0\\\\b_1\\\\\\vdots\\\\b_{n}\n",
    "\\end{array}\n",
    "\\right)$\n",
    "## $A\\cdot X = B$\n",
    "### LU - разложение\n",
    "## $P\\cdot A = L\\cdot U$\n",
    "## $L = \\left(\n",
    "\\begin{array}{cccc}\n",
    "l_{00} & 0 & \\ldots & 0\\\\\n",
    "l_{10} & l_{11} & \\ldots & 0\\\\\n",
    "\\vdots & \\vdots & \\ddots & \\vdots\\\\\n",
    "l_{n0} & l_{n1} & \\ldots & l_{nn}\n",
    "\\end{array}\n",
    "\\right)$\n",
    "## $U = \\left(\n",
    "\\begin{array}{cccc}\n",
    "u_{00} & u_{01} & \\ldots & u_{0n}\\\\\n",
    "\\vdots & \\vdots & \\ddots & \\vdots\\\\\n",
    "0 & 0 & \\ldots & u_{n-1n}\\\\\n",
    "0 & 0 & \\ldots & u_{nn}\n",
    "\\end{array}\n",
    "\\right)$\n"
   ]
  },
  {
   "cell_type": "code",
   "execution_count": 2,
   "metadata": {
    "collapsed": false
   },
   "outputs": [
    {
     "name": "stdout",
     "output_type": "stream",
     "text": [
      "[[ 1.  0.  0.  0.]\n",
      " [ 0.  1.  0.  0.]\n",
      " [ 0.  0.  1.  0.]\n",
      " [ 0.  0.  0.  1.]]\n",
      "[[ 1.          0.          0.          0.        ]\n",
      " [ 0.42857143  1.          0.          0.        ]\n",
      " [-0.14285714  0.21276596  1.          0.        ]\n",
      " [ 0.28571429 -0.72340426  0.08982036  1.        ]]\n",
      "[[ 7.          3.         -1.          2.        ]\n",
      " [ 0.          6.71428571  1.42857143 -4.85714286]\n",
      " [ 0.          0.          3.55319149  0.31914894]\n",
      " [ 0.          0.          0.          1.88622754]]\n",
      "[[  0.00000000e+00   0.00000000e+00   0.00000000e+00   0.00000000e+00]\n",
      " [  0.00000000e+00   0.00000000e+00   0.00000000e+00  -4.44089210e-16]\n",
      " [  0.00000000e+00   0.00000000e+00   0.00000000e+00  -1.11022302e-16]\n",
      " [  0.00000000e+00  -4.44089210e-16  -1.11022302e-16   0.00000000e+00]]\n"
     ]
    }
   ],
   "source": [
    "A = np.array([ [7, 3, -1, 2], [3, 8, 1, -4], [-1, 1, 4, -1], [2, -4, -1, 6] ])\n",
    "P, L, U = scipy.linalg.lu(A)\n",
    "\n",
    "print(P)\n",
    "print(L)\n",
    "print(U)\n",
    "\n",
    "print(np.dot(P.transpose(), A) - np.dot(L, U))"
   ]
  },
  {
   "cell_type": "markdown",
   "metadata": {
    "collapsed": false
   },
   "source": [
    "## $A \\cdot x = L \\cdot U \\cdot x = b$\n",
    "## $\\left(\n",
    "\\begin{array}{cccc}\n",
    "l_{00} & 0 & \\ldots & 0\\\\\n",
    "l_{10} & l_{11} & \\ldots & 0\\\\\n",
    "\\vdots & \\vdots & \\ddots & \\vdots\\\\\n",
    "l_{n0} & l_{n1} & \\ldots & l_{nn}\n",
    "\\end{array}\n",
    "\\right) \\cdot  \\left(\n",
    "\\begin{array}{cccc}\n",
    "u_{00} & u_{01} & \\ldots & u_{0n}\\\\\n",
    "\\vdots & \\vdots & \\ddots & \\vdots\\\\\n",
    "0 & 0 & \\ldots & u_{n-1n}\\\\\n",
    "0 & 0 & \\ldots & u_{nn}\n",
    "\\end{array}\n",
    "\\right)\\cdot \n",
    "\\left(\n",
    "\\begin{array}{cccc}\n",
    "x_0\\\\x_1\\\\\\vdots\\\\x_{n}\n",
    "\\end{array}\n",
    "\\right) = b$\n",
    "\n",
    "## $\\left(\n",
    "\\begin{array}{cccc}\n",
    "l_{00} & 0 & \\ldots & 0\\\\\n",
    "l_{10} & l_{11} & \\ldots & 0\\\\\n",
    "\\vdots & \\vdots & \\ddots & \\vdots\\\\\n",
    "l_{n0} & l_{n1} & \\ldots & l_{nn}\n",
    "\\end{array}\n",
    "\\right) \\cdot \n",
    "\\left(\n",
    "\\begin{array}{cccc}\n",
    "y_0\\\\y_1\\\\\\vdots\\\\y_{n}\n",
    "\\end{array}\n",
    "\\right) = b$\n",
    "\n",
    "## $\\left(\n",
    "\\begin{array}{cccc}\n",
    "u_{00} & u_{01} & \\ldots & u_{0n}\\\\\n",
    "\\vdots & \\vdots & \\ddots & \\vdots\\\\\n",
    "0 & 0 & \\ldots & u_{n-1n}\\\\\n",
    "0 & 0 & \\ldots & u_{nn}\n",
    "\\end{array}\n",
    "\\right)\\cdot \n",
    "\\left(\n",
    "\\begin{array}{cccc}\n",
    "x_0\\\\x_1\\\\\\vdots\\\\x_{n}\n",
    "\\end{array}\n",
    "\\right) = y$\n"
   ]
  },
  {
   "cell_type": "code",
   "execution_count": 3,
   "metadata": {
    "collapsed": false
   },
   "outputs": [
    {
     "name": "stdout",
     "output_type": "stream",
     "text": [
      "det A =  56.0\n",
      "P =  [[ 0.  0.  0.  1.]\n",
      " [ 1.  0.  0.  0.]\n",
      " [ 0.  0.  1.  0.]\n",
      " [ 0.  1.  0.  0.]]\n",
      "L =  [[ 1.          0.          0.          0.        ]\n",
      " [ 0.66666667  1.          0.          0.        ]\n",
      " [-0.33333333 -0.5         1.          0.        ]\n",
      " [ 0.33333333  0.07142857  0.02040816  1.        ]]\n",
      "U =  [[ -3.          20.           1.          20.        ]\n",
      " [  0.          -9.33333333  30.33333333 -13.33333333]\n",
      " [  0.           0.          24.5         10.        ]\n",
      " [  0.           0.           0.           0.08163265]]\n"
     ]
    },
    {
     "data": {
      "text/plain": [
       "array([-476.71428571, -111.39285714,  -16.28571429,   40.75      ])"
      ]
     },
     "execution_count": 3,
     "metadata": {},
     "output_type": "execute_result"
    }
   ],
   "source": [
    "L = np.array([ [1, 0, 0, 0], [3, 1, 0, 0], [-1, 2, 4, 0], [2, -4, -1, 1] ])\n",
    "U = np.array([ [-1, 6, 3, 6], [0, 2, -8, 2], [0, 0, 7, 3], [0, 0, 0, -1] ])\n",
    "A = np.dot(L, U)\n",
    "P, L, U = scipy.linalg.lu(A)\n",
    "\n",
    "print(\"det A = \", np.linalg.det(A))\n",
    "print(\"P = \", P)\n",
    "print(\"L = \", L)\n",
    "print(\"U = \", U)\n",
    "\n",
    "B = np.array([4, 1, 7, 3])\n",
    "np.linalg.solve(A, B)"
   ]
  },
  {
   "cell_type": "markdown",
   "metadata": {},
   "source": [
    "### Разложение Холецкого\n",
    "## $A = L\\cdot L^T$\n",
    "## $L = \\left(\n",
    "\\begin{array}{cccc}\n",
    "l_{00} & 0 & \\ldots & 0\\\\\n",
    "l_{10} & l_{11} & \\ldots & 0\\\\\n",
    "\\vdots & \\vdots & \\ddots & \\vdots\\\\\n",
    "l_{n0} & l_{n1} & \\ldots & l_{nn}\n",
    "\\end{array}\n",
    "\\right)$"
   ]
  },
  {
   "cell_type": "code",
   "execution_count": 4,
   "metadata": {
    "collapsed": false
   },
   "outputs": [
    {
     "name": "stdout",
     "output_type": "stream",
     "text": [
      "[[ 7  3 -1  2]\n",
      " [ 3  8  1 -4]\n",
      " [-1  1  4 -1]\n",
      " [ 2 -4 -1  6]]\n",
      "[[ 2.64575131  0.          0.          0.        ]\n",
      " [ 1.13389342  2.59119388  0.          0.        ]\n",
      " [-0.37796447  0.55131785  1.88499111  0.        ]\n",
      " [ 0.75592895 -1.87448068  0.16931058  1.37339999]]\n",
      "[[ 2.64575131  1.13389342 -0.37796447  0.75592895]\n",
      " [ 0.          2.59119388  0.55131785 -1.87448068]\n",
      " [ 0.          0.          1.88499111  0.16931058]\n",
      " [ 0.          0.          0.          1.37339999]]\n"
     ]
    },
    {
     "data": {
      "text/plain": [
       "array([[ 7.,  3., -1.,  2.],\n",
       "       [ 3.,  8.,  1., -4.],\n",
       "       [-1.,  1.,  4., -1.],\n",
       "       [ 2., -4., -1.,  6.]])"
      ]
     },
     "execution_count": 4,
     "metadata": {},
     "output_type": "execute_result"
    }
   ],
   "source": [
    "A = np.array([ [7, 3, -1, 2], [3, 8, 1, -4], [-1, 1, 4, -1], [2, -4, -1, 6] ])\n",
    "print(A)\n",
    "L = np.linalg.cholesky(A)\n",
    "print(L)\n",
    "print(np.transpose(L))\n",
    "np.dot(L, np.transpose(L))"
   ]
  },
  {
   "cell_type": "code",
   "execution_count": 5,
   "metadata": {
    "collapsed": true
   },
   "outputs": [],
   "source": [
    "A = np.array([[ 1,  2,  3],\n",
    "              [ 2, 16, 21],\n",
    "              [ 4, 28, 73]])"
   ]
  },
  {
   "cell_type": "code",
   "execution_count": null,
   "metadata": {
    "collapsed": true
   },
   "outputs": [],
   "source": []
  }
 ],
 "metadata": {
  "kernelspec": {
   "display_name": "Python 3",
   "language": "python",
   "name": "python3"
  },
  "language_info": {
   "codemirror_mode": {
    "name": "ipython",
    "version": 3
   },
   "file_extension": ".py",
   "mimetype": "text/x-python",
   "name": "python",
   "nbconvert_exporter": "python",
   "pygments_lexer": "ipython3",
   "version": "3.6.0"
  }
 },
 "nbformat": 4,
 "nbformat_minor": 2
}
