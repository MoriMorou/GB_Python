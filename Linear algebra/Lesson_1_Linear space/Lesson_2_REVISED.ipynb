{
  "nbformat": 4,
  "nbformat_minor": 0,
  "metadata": {
    "colab": {
      "name": "Lesson_2-REVISED.ipynb",
      "version": "0.3.2",
      "provenance": [],
      "collapsed_sections": [],
      "include_colab_link": true
    },
    "language_info": {
      "codemirror_mode": {
        "name": "ipython",
        "version": 3
      },
      "file_extension": ".py",
      "mimetype": "text/x-python",
      "name": "python",
      "nbconvert_exporter": "python",
      "pygments_lexer": "ipython3",
      "version": "3.7.1"
    },
    "kernelspec": {
      "display_name": "Python 3",
      "language": "python",
      "name": "python3"
    }
  },
  "cells": [
    {
      "cell_type": "markdown",
      "metadata": {
        "id": "view-in-github",
        "colab_type": "text"
      },
      "source": [
        "<a href=\"https://colab.research.google.com/github/MoriMorou/GB_Python/blob/master/Lesson_2_REVISED.ipynb\" target=\"_parent\"><img src=\"https://colab.research.google.com/assets/colab-badge.svg\" alt=\"Open In Colab\"/></a>"
      ]
    },
    {
      "cell_type": "markdown",
      "metadata": {
        "id": "X2Z2Z_K5c7Zv",
        "colab_type": "text"
      },
      "source": [
        "# Урок 2"
      ]
    },
    {
      "cell_type": "markdown",
      "metadata": {
        "id": "c9EHjpDAc7Zy",
        "colab_type": "text"
      },
      "source": [
        "# Линейное пространство. Основные понятия. Часть 2"
      ]
    },
    {
      "cell_type": "markdown",
      "metadata": {
        "id": "wua5iO3ec7Zz",
        "colab_type": "text"
      },
      "source": [
        "## Евклидово пространство"
      ]
    },
    {
      "cell_type": "markdown",
      "metadata": {
        "id": "Z04nPQHDc7Z1",
        "colab_type": "text"
      },
      "source": [
        "__Определение__\n",
        "\n",
        "Линейное пространство над полем вещественных чисел называется _евклидовым пространством_, если на нем введено правило, согласно которому каждой упорядоченной паре векторов $x$ и $y$ поставлено в соответствие вещественное число, называемое _скалярным произведением_ и обозначаемое символом $(x, y)$.\n",
        "\n",
        "При этом указанное правило должно подчиняться четырем аксиомам:<br>\n",
        "1) $(x,y)=(y,x);$<br>\n",
        "2) $(\\lambda x, y)=\\lambda(x, y);$<br>\n",
        "3) $(x_{1}+x_{2},y)=(x_{1},y)+(x_{2},y);$<br>\n",
        "4) $(x, x)\\geq0$, причем $(x,x)=0\\Leftrightarrow x=0.$\n",
        "\n"
      ]
    },
    {
      "cell_type": "markdown",
      "metadata": {
        "id": "yQfL1Uz0c7Z2",
        "colab_type": "text"
      },
      "source": [
        "__Пример__\n",
        "\n",
        "Из школьной программы известно, что в стандартном понимании в трехмерном пространстве скалярное произведение двух векторов определяется как произведение длин этих векторов на косинус угла между ними (см. рис.):\n",
        "\n",
        "$$(x, y) = \\left|x\\right|\\cdot\\left|y\\right|\\cdot cos\\alpha.$$"
      ]
    },
    {
      "cell_type": "code",
      "metadata": {
        "id": "MED517L-c7Z5",
        "colab_type": "code",
        "colab": {}
      },
      "source": [
        "# запустите последовательно код в ячейках, чтобы отобразить иллюстрации\n",
        "import matplotlib.pyplot as plt"
      ],
      "execution_count": 0,
      "outputs": []
    },
    {
      "cell_type": "code",
      "metadata": {
        "id": "0XE1K47qc7Z_",
        "colab_type": "code",
        "outputId": "2a641519-d245-4f52-f5f5-a3df4bec8458",
        "colab": {}
      },
      "source": [
        "fig = plt.figure()\n",
        "ax = fig.add_subplot(1,1,1)\n",
        "\n",
        "ax.spines['left'].set_position('zero')\n",
        "ax.spines['bottom'].set_position('zero')\n",
        "\n",
        "ax.spines['right'].set_color('none')\n",
        "ax.spines['top'].set_color('none')\n",
        "\n",
        "plt.axis('scaled')\n",
        "plt.xlim(-2, 2)\n",
        "plt.ylim(-2, 2)\n",
        "\n",
        "ax.arrow(0, 0, 0.6, 2, head_width=0.15, head_length=0.2, length_includes_head=True, facecolor='black')\n",
        "ax.arrow(0, 0, 2, 0.4, head_width=0.15, head_length=0.2, length_includes_head=True, facecolor='black')\n",
        "ax.annotate(\"y\", xy=(1.8, 0.6))\n",
        "ax.annotate(\"x\", xy=(0.7, 1.8))\n",
        "ax.annotate(\"\\u03B1\", xy=(0.2, 0.2))\n",
        "\n",
        "plt.show()"
      ],
      "execution_count": 0,
      "outputs": [
        {
          "output_type": "display_data",
          "data": {
            "image/png": "[encoded data removed]",
            "text/plain": [
              "<Figure size 432x288 with 1 Axes>"
            ]
          },
          "metadata": {
            "tags": [],
            "needs_background": "light"
          }
        }
      ]
    },
    {
      "cell_type": "markdown",
      "metadata": {
        "id": "gNaC1A6Kc7aJ",
        "colab_type": "text"
      },
      "source": [
        "Данное правило удовлетворяет введенным ранее аксиомам скалярного произведения. Таким образом, приведенное в примере пространство всех свободных векторов с так определенным скалярным произведением является евклидовым пространством."
      ]
    },
    {
      "cell_type": "markdown",
      "metadata": {
        "id": "dy6anLLgc7aK",
        "colab_type": "text"
      },
      "source": [
        "__Пример__\n",
        "\n",
        "Примером евклидова пространства будет выступать $n$-мерное линейное пространство $\\mathbb{R}^{n}$ упорядоченных совокупностей $n$ вещественных чисел, скалярное произведение векторов $x=(a_{1},a_{2},...,a_{n})$ и $y=(b_{1},b_{2},...,b_{n})$ на котором определено как\n",
        "\n",
        "$$(x,y)=a_{1}b_{1}+a_{2}b_{2}+...+a_{n}b_{n}.$$"
      ]
    },
    {
      "cell_type": "markdown",
      "metadata": {
        "id": "LrvAun4Zc7aL",
        "colab_type": "text"
      },
      "source": [
        "Очевидно, что определенные ранее аксиомы выполняются для этого правила."
      ]
    },
    {
      "cell_type": "markdown",
      "metadata": {
        "id": "xZm-Q3Wrc7aN",
        "colab_type": "text"
      },
      "source": [
        "То есть скалярное произведение между двумя векторами $x=(1,2,3)$ и $y=(4,5,6)$, принадлежащими пространству $\\mathbb{R}^{3}$, будет равняться \n",
        "\n",
        "$$(x,y)=1\\cdot4+2\\cdot5+3\\cdot6=4 + 10 + 18=32.$$"
      ]
    },
    {
      "cell_type": "markdown",
      "metadata": {
        "id": "CVVshT14c7aO",
        "colab_type": "text"
      },
      "source": [
        "В Python cкалярное произведение двух векторов можно вычислять с помощью функции `numpy.dot(a, b)` или метода `vec1.dot(vec2)`, где `vec1` и `vec2` — исходные векторы."
      ]
    },
    {
      "cell_type": "code",
      "metadata": {
        "id": "DwrZVBJfc7aP",
        "colab_type": "code",
        "colab": {}
      },
      "source": [
        "import numpy as np"
      ],
      "execution_count": 0,
      "outputs": []
    },
    {
      "cell_type": "code",
      "metadata": {
        "id": "JRX8Hr2ec7aU",
        "colab_type": "code",
        "outputId": "6b295d64-47a6-4d03-b869-a1c55c4498d8",
        "colab": {}
      },
      "source": [
        "a = np.array([1, 2, 3])\n",
        "b = np.array([4, 5, 6])\n",
        "print(f'Скалярное произведение a и b:\\n{np.dot(a, b)}')"
      ],
      "execution_count": 0,
      "outputs": [
        {
          "output_type": "stream",
          "text": [
            "Скалярное произведение a и b:\n",
            "32\n"
          ],
          "name": "stdout"
        }
      ]
    },
    {
      "cell_type": "markdown",
      "metadata": {
        "id": "kHg_vsjhc7ad",
        "colab_type": "text"
      },
      "source": [
        "Введем теперь такие важные понятия, как _метрика_, _норма_ (или _длина_) вектора и _угол_ между векторами в произвольном евклидовом пространстве. Для этого нужно ввести понятие _линейных нормированных пространств._"
      ]
    },
    {
      "cell_type": "markdown",
      "metadata": {
        "id": "VasUbr7Qc7af",
        "colab_type": "text"
      },
      "source": [
        "### Линейные нормированные пространства"
      ]
    },
    {
      "cell_type": "markdown",
      "metadata": {
        "id": "QvHQeSnlc7ah",
        "colab_type": "text"
      },
      "source": [
        "Для обобщения понятия длины вектора используется понятие _нормы_."
      ]
    },
    {
      "cell_type": "markdown",
      "metadata": {
        "id": "7ijI-1nIc7ai",
        "colab_type": "text"
      },
      "source": [
        "__Определение__\n",
        "\n",
        "Линейное пространтсво $R$ называется _нормированным_, если на нем введено правило, согласно которому каждому элементу $x$ ставится в соответствие число, называемое _нормой_ (или _длиной_) этого элемента и обозначаемое символом $\\left\\|x\\right\\|$.\n",
        "\n",
        "Оно должно подчиняться трем аксиомам:<br>\n",
        "1) $\\left\\|x\\right\\|\\geq0$, причем $\\left\\|x\\right\\|=0\\Leftrightarrow x=0;$<br>\n",
        "2) $\\left\\|\\lambda x\\right\\|$ = $|\\lambda|\\left\\|x\\right\\|$;<br>\n",
        "3) $\\left\\| x + y \\right\\|$ = $\\left\\|x\\right\\|$ + $\\left\\|y\\right\\|$.\n",
        "\n",
        "Последняя аксиома называется _неравенством треугольника_, или _неравенством Минковского_."
      ]
    },
    {
      "cell_type": "markdown",
      "metadata": {
        "id": "Ey4wIr-fc7aj",
        "colab_type": "text"
      },
      "source": [
        "__Примеры__\n",
        "\n",
        "Существует много способов определния нормы.\n",
        "\n",
        "- $p$-норма (норма Гёльдера) для вектора $x = (x_{1}, \\dots, x_{n}) \\in \\mathbb{R}^{n}$ вычисляется по формуле:\n",
        "\n",
        "$$\\left\\| x \\right\\|_{p} = \\left( \\sum_{i} \\left| x_{i} \\right|^{p} \\right)^{1 / p},~p \\geq 1.$$\n",
        "\n",
        "В частных случаях при:\n",
        "\n",
        "- $p = 1$ получаем $\\ell_{1}$ норму (_манхэттенская норма_, или _манхэттенское расстояние_)\n",
        "\n",
        "$$\\left\\|x\\right\\|_{1} = \\sum_{i}|x_{i}|;$$\n",
        "\n",
        "- $p = 2$ получаем $\\ell_{2}$ норму (_евклидова норма_, наиболее часто используемая)\n",
        "\n",
        "$$\\left\\|x\\right\\|_{2} = \\sqrt{\\sum_{i}|x_{i}|^{2}}.$$"
      ]
    },
    {
      "cell_type": "markdown",
      "metadata": {
        "id": "5UOsib7Pc7am",
        "colab_type": "text"
      },
      "source": [
        "Определим норму вектора вручную и при помощи Python.\n",
        "\n",
        "Для выполнения операций линейной алгебры в Python используется модуль `numpy.linalg`. Для вычисления различных норм используется функция `numpy.linalg.norm(x, ord=None)`, где `x` — исходный вектор, `ord` — параметр, обозначенный выше как $p$ и определяющий норму."
      ]
    },
    {
      "cell_type": "code",
      "metadata": {
        "id": "H9M6n4a6c7ao",
        "colab_type": "code",
        "colab": {}
      },
      "source": [
        "from numpy.linalg import norm"
      ],
      "execution_count": 0,
      "outputs": []
    },
    {
      "cell_type": "markdown",
      "metadata": {
        "id": "pDIsUYZoc7at",
        "colab_type": "text"
      },
      "source": [
        "Зададим вектор $a=(1,2,-3)$:"
      ]
    },
    {
      "cell_type": "code",
      "metadata": {
        "id": "drdHOC5mc7au",
        "colab_type": "code",
        "colab": {}
      },
      "source": [
        "a = np.array([1, 2, -3])"
      ],
      "execution_count": 0,
      "outputs": []
    },
    {
      "cell_type": "markdown",
      "metadata": {
        "id": "KskdkMSkc7ay",
        "colab_type": "text"
      },
      "source": [
        "Определим манхэттенскую норму вектора $a$:\n",
        "\n",
        "$$\\left\\|x\\right\\|_{1} = |1|+|2|+|-3|=6.$$"
      ]
    },
    {
      "cell_type": "code",
      "metadata": {
        "id": "aekUSsaCc7az",
        "colab_type": "code",
        "outputId": "7f8198f9-0de4-44c9-b96c-b5381ee91256",
        "colab": {}
      },
      "source": [
        "print(f'l1 норма вектора a:\\n{norm(a, ord=1)}')"
      ],
      "execution_count": 0,
      "outputs": [
        {
          "output_type": "stream",
          "text": [
            "l1 норма вектора a:\n",
            "6.0\n"
          ],
          "name": "stdout"
        }
      ]
    },
    {
      "cell_type": "markdown",
      "metadata": {
        "id": "DmZb7h1Lc7a5",
        "colab_type": "text"
      },
      "source": [
        "Определим евклидову норму вектора $a$:\n",
        "\n",
        "$$\\left\\|x\\right\\|_{2} = \\sqrt{1^{2}+2^{2}+(-3)^{2}}=\\sqrt{14}.$$"
      ]
    },
    {
      "cell_type": "code",
      "metadata": {
        "id": "3QfaU29wc7a7",
        "colab_type": "code",
        "outputId": "6f25c67f-6da6-4b02-8f9f-78378003809f",
        "colab": {}
      },
      "source": [
        "print(f'l2 норма вектора a:\\n{norm(a, ord=2)}')"
      ],
      "execution_count": 0,
      "outputs": [
        {
          "output_type": "stream",
          "text": [
            "l2 норма вектора a:\n",
            "3.7416573867739413\n"
          ],
          "name": "stdout"
        }
      ]
    },
    {
      "cell_type": "markdown",
      "metadata": {
        "id": "0Rx5dazjc7bA",
        "colab_type": "text"
      },
      "source": [
        "Можем убедиться, что различные нормы дают разные значения для одного и того же вектора."
      ]
    },
    {
      "cell_type": "markdown",
      "metadata": {
        "id": "mtsZ1ln-c7bB",
        "colab_type": "text"
      },
      "source": [
        "__Теорема__\n",
        "\n",
        "Всякое евклидово пространство является нормированным, если норму любого элемента $x$ в нем определить как\n",
        "\n",
        "$$\\left\\|x\\right\\| = \\sqrt{(x,x)}.$$"
      ]
    },
    {
      "cell_type": "markdown",
      "metadata": {
        "id": "L72LpJQtc7bD",
        "colab_type": "text"
      },
      "source": [
        "Для любых $x,y$, принадлежащих евклидову пространству $E$ с так определенной нормой, имеет место неравенство \n",
        "\n",
        "$$|(x,y)|\\leq\\left\\|x\\right\\| \\left\\|y\\right\\|.$$\n",
        "\n",
        "Это выражение называется _неравенством Коши — Буняковского_."
      ]
    },
    {
      "cell_type": "markdown",
      "metadata": {
        "id": "bPumnjaJc7bE",
        "colab_type": "text"
      },
      "source": [
        "Докажем его. Возьмем вещественный элемент $\\lambda$ и рассмотрим элемент $x- \\lambda y\\in E$. \n",
        "\n",
        "Согласно аксиоме 4 для евклидова пространства, \n",
        "\n",
        "$$0\\leq(x-\\lambda y, x-\\lambda y)=(x,x)-2(x,y)\\lambda +(y,y)\\lambda^{2}.$$\n",
        "\n",
        "Полученный квадратный трехчлен относительно $\\lambda$ является уравнением параболы. Геометрически тот факт, что он больше или равен нулю при всех $\\lambda$, означает, что квадратное уравнение \n",
        "\n",
        "$$(y,y)\\lambda^{2}-2(x,y)\\lambda +(x,x)=0$$\n",
        "\n",
        "либо вовсе не имеет корней, либо имеет один корень. А это возможно только тогда, когда дискриминант такого уравнения меньше или равен нулю:\n",
        "\n",
        "$$D=4(x,y)^{2}-4(x,x)(y,y)\\leq0,$$\n",
        "\n",
        "из чего следует, что\n",
        "\n",
        "$$(x,y)^{2}\\leq\\left\\|x\\right\\|^{2}\\left\\|y\\right\\|^{2}.$$\n",
        "\n",
        "Неравенство Коши — Буняковского доказано."
      ]
    },
    {
      "cell_type": "markdown",
      "metadata": {
        "id": "3iEqrvecc7bF",
        "colab_type": "text"
      },
      "source": [
        "__Определение__\n",
        "\n",
        "В любом вещественном евклидовом пространстве можно ввести понятие _угла_ между двумя произвольными элементами $x$ и $y$. Углом $\\varphi \\in [0, \\pi]$ между этими элементами назовем угол, косинус которого определяется соотношением\n",
        "\n",
        "$$cos\\varphi = \\frac{(x,y)}{\\left \\|x\\right \\|\\cdot\\left \\|y\\right \\|}.$$"
      ]
    },
    {
      "cell_type": "markdown",
      "metadata": {
        "id": "-nJGUXBLc7bG",
        "colab_type": "text"
      },
      "source": [
        "__Пример__\n",
        "\n",
        "Определим угол между векторами $a=(1,2,3)$, $b=(4,5,6)$."
      ]
    },
    {
      "cell_type": "code",
      "metadata": {
        "id": "Uefv3uBjc7bI",
        "colab_type": "code",
        "colab": {}
      },
      "source": [
        "a = np.array([1, 2, 3])\n",
        "b = np.array([4, 5, 6])"
      ],
      "execution_count": 0,
      "outputs": []
    },
    {
      "cell_type": "markdown",
      "metadata": {
        "id": "-SyO8gvJc7bO",
        "colab_type": "text"
      },
      "source": [
        "$$cos\\varphi = \\frac{1\\cdot4+2\\cdot5+3\\cdot6}{\\sqrt{1^{2}+2^{2}+3^{2}}\\sqrt{4^{2}+5^{2}+6^{2}}}=\\frac{32}{\\sqrt{1078}}\\approx 0.97$$"
      ]
    },
    {
      "cell_type": "code",
      "metadata": {
        "id": "VIfTMQnjc7bP",
        "colab_type": "code",
        "outputId": "3fc2a069-245e-4c11-d884-dee734edc70d",
        "colab": {}
      },
      "source": [
        "cos_phi = np.dot(a, b) / norm(a) / norm(b)\n",
        "print(f'Косинус угла между a и b: {cos_phi:.2f}')\n",
        "print(f'Угол между a и b: {np.arccos(cos_phi):.2f}')"
      ],
      "execution_count": 0,
      "outputs": [
        {
          "output_type": "stream",
          "text": [
            "Косинус угла между a и b: 0.97\n",
            "Угол между a и b: 0.23\n"
          ],
          "name": "stdout"
        }
      ]
    },
    {
      "cell_type": "markdown",
      "metadata": {
        "id": "x4_NxqYrc7bY",
        "colab_type": "text"
      },
      "source": [
        "Два произвольных элемента $x$ и $y$ евклидова пространства $E$ называются _ортогональными_, если их скалярное произведение равно нулю (в этом случае косинус угла $\\varphi$ между этими элементами будет равен нулю)."
      ]
    },
    {
      "cell_type": "markdown",
      "metadata": {
        "id": "ez9nUOZxc7ba",
        "colab_type": "text"
      },
      "source": [
        "### Метрические пространства"
      ]
    },
    {
      "cell_type": "markdown",
      "metadata": {
        "id": "JGDcLQzvc7bb",
        "colab_type": "text"
      },
      "source": [
        "Понятие расстояния в контексте машинного обучения обобщается с помощью _метрики_."
      ]
    },
    {
      "cell_type": "markdown",
      "metadata": {
        "id": "m7iu-UITc7be",
        "colab_type": "text"
      },
      "source": [
        "__Определение__\n",
        "\n",
        "Пара $(E, d)$, где $E$ — множество, а $d: E\\times E \\rightarrow \\mathbb{R}$ — вещественнозначная функция, называется _метрическим пространством_, если для всех $x,y,z\\in E$ выполняются условия:<br>\n",
        "1) $d(x,y)=d(y,x);$<br>\n",
        "2) $d(x,x)=0$; $d(x,y)>0$, если $x \\neq y$;<br>\n",
        "3) $d(x,z) \\leq d(x,y) + d(y,z)$ (неравенство треугольника).\n",
        "\n",
        "Функция $d$ с такими свойствами иногда обозначается  $\\left | x-y \\right |$ и называется _метрикой_, а $d(x,y)$ — _расстоянием между точками $x,y$_."
      ]
    },
    {
      "cell_type": "markdown",
      "metadata": {
        "id": "Ch3ftAD5c7bf",
        "colab_type": "text"
      },
      "source": [
        "Любое нормированное пространство можно превратить в метрическое, определив $d(x,y) = \\left\\|x-y\\right\\|$."
      ]
    },
    {
      "cell_type": "markdown",
      "metadata": {
        "id": "6fu25sQ4c7bi",
        "colab_type": "text"
      },
      "source": [
        "__Пример__\n",
        "\n",
        "Как и в случае нормы, существует ряд различных методик определения метрики, например, _евклидова метрика_\n",
        " \n",
        "$$d_{2}(x,y) = \\sqrt{\\sum_{i}(x_{i}-y_{i})^{2}}$$\n",
        "\n",
        "и _манхэттенская метрика_:\n",
        "\n",
        "$$d_{1}(x,y) = \\sum_{i}|x_{i}-y_{i}|.$$"
      ]
    },
    {
      "cell_type": "markdown",
      "metadata": {
        "id": "w-HqJgBUc7bj",
        "colab_type": "text"
      },
      "source": [
        "Определим расстояние между векторами $a=(1,2,3)$, $b=(4,5,6)$."
      ]
    },
    {
      "cell_type": "code",
      "metadata": {
        "id": "XRaiV-Tgc7bk",
        "colab_type": "code",
        "colab": {}
      },
      "source": [
        "a = np.array([1, 2, 3])\n",
        "b = np.array([4, 5, 6])"
      ],
      "execution_count": 0,
      "outputs": []
    },
    {
      "cell_type": "markdown",
      "metadata": {
        "id": "Qs0Eqqrfc7bp",
        "colab_type": "text"
      },
      "source": [
        "Один способ — посчитать метрику как $\\left\\|a-b\\right\\|$, как было сказано выше:"
      ]
    },
    {
      "cell_type": "code",
      "metadata": {
        "id": "XSaqNfk0c7bs",
        "colab_type": "code",
        "outputId": "588d8200-be5f-44ef-a5c9-3daef17eeef3",
        "colab": {}
      },
      "source": [
        "print(f'l1 расстояние между векторами a и b:\\n{norm(a - b, ord=1)}')"
      ],
      "execution_count": 0,
      "outputs": [
        {
          "output_type": "stream",
          "text": [
            "l1 расстояние между векторами a и b:\n",
            "9.0\n"
          ],
          "name": "stdout"
        }
      ]
    },
    {
      "cell_type": "code",
      "metadata": {
        "id": "FRKdP_7wc7by",
        "colab_type": "code",
        "outputId": "2b34069c-10ca-48fd-a641-29393cfdca9e",
        "colab": {}
      },
      "source": [
        "print(f'l2 расстояние между векторами a и b:\\n{norm(a - b, ord=2)}')"
      ],
      "execution_count": 0,
      "outputs": [
        {
          "output_type": "stream",
          "text": [
            "l2 расстояние между векторами a и b:\n",
            "5.196152422706632\n"
          ],
          "name": "stdout"
        }
      ]
    },
    {
      "cell_type": "markdown",
      "metadata": {
        "id": "vufDAv6vc7b3",
        "colab_type": "text"
      },
      "source": [
        "Второй способ посчитать расстояние — использовать функцию `scipy.spatial.distance.cdist(XA, XB, metric='euclidean', p=2, ...)` из модуля SciPy, предназначенного для выполнения научных расчетов. Параметры `XA, XB` — исходные векторы, а `metric` и `p` задают метрику расстояния.\n",
        "\n",
        "Эта функция требует, чтобы размерность массивов `XA` и `XB` была как минимум двумерная, поэтому для использования этой функции исходные векторы необходимо преобразовать в _вектор-строки_ (матрица размера $1\\times m$) или _вектор-столбцы_ (матрица размера $n\\times1$). Матрицы как струкутры данных будут рассмотрены нами в следующих уроках."
      ]
    },
    {
      "cell_type": "markdown",
      "metadata": {
        "id": "N78Ehtojc7b4",
        "colab_type": "text"
      },
      "source": [
        "Есть различные способы преобразования вектора в вектор-строку или вектор-столбец. Первый — использовать метод `array.reshape(shape)`, где кортеж `shape` задает размерность получаемого массива."
      ]
    },
    {
      "cell_type": "code",
      "metadata": {
        "id": "XlmcgaBvc7b5",
        "colab_type": "code",
        "outputId": "f3d698d8-ea60-4f85-b368-e7ddfd8be55a",
        "colab": {}
      },
      "source": [
        "print(f'Вектор а: {a}')\n",
        "print(f'Его размерность: {a.shape}')\n",
        "print(f'Вектор b: {b}')\n",
        "print(f'Его размерность: {b.shape}')\n",
        "\n",
        "a = a.reshape((1, 3))\n",
        "b = b.reshape((1, 3))\n",
        "\n",
        "print('\\nПосле применения метода reshape:')\n",
        "print(f'Вектор-строка a: {a}')\n",
        "print(f'Его размерность: {a.shape}')\n",
        "print(f'Вектор-строка b: {b}')\n",
        "print(f'Его размерность: {b.shape}')"
      ],
      "execution_count": 0,
      "outputs": [
        {
          "output_type": "stream",
          "text": [
            "Вектор а: [1 2 3]\n",
            "Его размерность: (3,)\n",
            "Вектор b: [4 5 6]\n",
            "Его размерность: (3,)\n",
            "\n",
            "После применения метода reshape:\n",
            "Вектор-строка a: [[1 2 3]]\n",
            "Его размерность: (1, 3)\n",
            "Вектор-строка b: [[4 5 6]]\n",
            "Его размерность: (1, 3)\n"
          ],
          "name": "stdout"
        }
      ]
    },
    {
      "cell_type": "code",
      "metadata": {
        "id": "9xAeyZDtc7b_",
        "colab_type": "code",
        "outputId": "c1b784d8-9f80-4016-86a5-d8968faeebce",
        "colab": {}
      },
      "source": [
        "from scipy.spatial.distance import cdist\n",
        "print(f'Манхэттенское расстояние между a и b:\\n{cdist(a, b, metric=\"cityblock\")}')"
      ],
      "execution_count": 0,
      "outputs": [
        {
          "output_type": "stream",
          "text": [
            "Манхэттенское расстояние между a и b:\n",
            "[[9.]]\n"
          ],
          "name": "stdout"
        }
      ]
    },
    {
      "cell_type": "markdown",
      "metadata": {
        "id": "Lz3T0A-Uc7cE",
        "colab_type": "text"
      },
      "source": [
        "Еще один способ преобразования вектора для получения возможности определения расстояния при помощи cdist — использование функции `np.newaxis`."
      ]
    },
    {
      "cell_type": "code",
      "metadata": {
        "id": "nr-_mbJhc7cG",
        "colab_type": "code",
        "outputId": "3857497d-1b9f-4324-df1f-991c826a89a2",
        "colab": {}
      },
      "source": [
        "a = np.array([1, 2, 3])\n",
        "b = np.array([4, 5, 6])\n",
        "print(f'Преобразование вектора a в вектор-строку:\\n{a[np.newaxis, :]}')\n",
        "print(f'Полученная размерность:{a[np.newaxis, :].shape}')\n",
        "\n",
        "print(f'Преобразование вектора b в вектор-столбец:\\n{b[:, np.newaxis]}')\n",
        "print(f'Полученная размерность:{b[:, np.newaxis].shape}')"
      ],
      "execution_count": 0,
      "outputs": [
        {
          "output_type": "stream",
          "text": [
            "Преобразование вектора a в вектор-строку:\n",
            "[[1 2 3]]\n",
            "Полученная размерность:(1, 3)\n",
            "Преобразование вектора b в вектор-столбец:\n",
            "[[4]\n",
            " [5]\n",
            " [6]]\n",
            "Полученная размерность:(3, 1)\n"
          ],
          "name": "stdout"
        }
      ]
    },
    {
      "cell_type": "code",
      "metadata": {
        "id": "svciKKAPc7cQ",
        "colab_type": "code",
        "outputId": "0a92d846-9dac-43c5-cfb5-8ed415bb539c",
        "colab": {}
      },
      "source": [
        "print(f'Евклидово расстояние между a и b:\\n{cdist(a[np.newaxis, :], b[np.newaxis, :], metric=\"euclidean\")}')"
      ],
      "execution_count": 0,
      "outputs": [
        {
          "output_type": "stream",
          "text": [
            "Евклидово расстояние между a и b:\n",
            "[[5.19615242]]\n"
          ],
          "name": "stdout"
        }
      ]
    },
    {
      "cell_type": "markdown",
      "metadata": {
        "id": "oOWx-qfJc7cW",
        "colab_type": "text"
      },
      "source": [
        "### Базис в евклидовом пространстве"
      ]
    },
    {
      "cell_type": "markdown",
      "metadata": {
        "id": "O0LP3TnJc7cX",
        "colab_type": "text"
      },
      "source": [
        "Как было сказано ранее, в евклидовом пространстве $E$ элементы $x$ и $y$ называются _ортогональными_, если\n",
        "\n",
        "$$(x,y)=0.$$"
      ]
    },
    {
      "cell_type": "markdown",
      "metadata": {
        "id": "-_C1u_e8c7ca",
        "colab_type": "text"
      },
      "source": [
        "То есть можно заключить, что данное равенство означает, что угол между векторами должен равняться $90^{\\circ}$. Это же справедливо и для произвольного евклидова пространства, а также отсюда следует, что нулевой элемент евклидова пространства ортогонален любому элементу."
      ]
    },
    {
      "cell_type": "markdown",
      "metadata": {
        "id": "10MxUo4Dc7cc",
        "colab_type": "text"
      },
      "source": [
        "__Определение.__ В конечномерном евклидовом пространстве базис $\\{e_{1},e_{2},...,e_{n}\\}$ называется ортонормированным, если \n",
        "\n",
        "$(e_{i}, e_{j})=0$ $\\forall$ $i\\neq j$ и $(e_{i},e_{i})=1$ $\\forall$ $i\\in[1, n].$"
      ]
    },
    {
      "cell_type": "markdown",
      "metadata": {
        "id": "0OK9PGgXc7cd",
        "colab_type": "text"
      },
      "source": [
        "Это означает, что ортонормированный базис является ортогональным и состоит из векторов единичной длины."
      ]
    },
    {
      "cell_type": "markdown",
      "metadata": {
        "id": "UT6PV7xlc7ce",
        "colab_type": "text"
      },
      "source": [
        "Часто на практике возникает необходимость произвести переход от произвольного базиса $\\{a_{1}, a_{2}, ...,a_{n}\\}$ в определенном евклидовом пространстве к ортонормированному. Для этого нужно сперва _ортогонализировать_ его, а затем _нормировать_:\n",
        "\n",
        "- первая часть называется процесс ортогонализации Грама-Шмидта. Она производится следующим образом.\n",
        "\n",
        "    Возьмем вначале $e_{1}=a_{1}$.<br>\n",
        "    Второй элемент нового ортогонального базиса будем искать в виде $e_{2}=a_{2}+\\alpha_{1}e_{1}.$\n",
        "    \n",
        "    $\\alpha_{1}$ подберем из условия ортогонального базиса $(e_{1}, e_{2})=0$. Из этого следует, что \n",
        "    \n",
        "    $$(e_{1}, a_{2}+\\alpha_{1}e_{1})=(e_{1}, a_{2})+(e_{1},\\alpha_{1}e_{1})=0,$$\n",
        "    \n",
        "    \n",
        "$$\\alpha_{1}=-\\frac{(e_{1}, a_{2})}{(e_{1},e_{1})}.$$\n",
        "    \n",
        "\n",
        "    \n",
        "    "
      ]
    },
    {
      "cell_type": "markdown",
      "metadata": {
        "id": "52bJc9E4c7cf",
        "colab_type": "text"
      },
      "source": [
        "    \n",
        "   k-й элемент нового базиса будет иметь вид \n",
        "   \n",
        "   $$e_{k}=a_{k}+\\sum_{j=1}^{k-1}\\alpha_{j}e_{j},$$\n",
        "    \n",
        "   а $\\alpha_{i}$ —\n",
        "    \n",
        "   $$\\alpha_{i}=-\\frac{(e_{i}, a_{k})}{(e_{i},e_{i})}, i\\in[1, k-1].$$\n",
        "    \n",
        "   Ортогонализация продолжается до окончания множества исходных элементов, после чего следует вторая часть:\n",
        "    \n",
        "- элементы $e_{i}$ достаточно пронормировать для получения ортонормированного базиса:\n",
        "    \n",
        "    $$e_{i}'=\\frac{e_{i}}{|e_{i}|}.$$"
      ]
    },
    {
      "cell_type": "markdown",
      "metadata": {
        "id": "1p3yEbsYc7cg",
        "colab_type": "text"
      },
      "source": [
        "Примером ортонормированного базиса может служить декартов прямоугольный базис евклидова пространства $E^{n}$:\n",
        "\n",
        "$$e_{1}=(1,0,0,...,0),$$\n",
        "$$e_{2}=(0,1,0,...,0),$$\n",
        "$$...$$\n",
        "$$e_{n}=(0,0,0,...,1).$$"
      ]
    },
    {
      "cell_type": "markdown",
      "metadata": {
        "id": "wYEipVAZc7ch",
        "colab_type": "text"
      },
      "source": [
        "Рассмотрим плюсы ортонормированного базиса по сравнению с обычным неортогональным."
      ]
    },
    {
      "cell_type": "markdown",
      "metadata": {
        "id": "gl49-J4sc7cn",
        "colab_type": "text"
      },
      "source": [
        "Возьмем некоторое пространство с ортонормированным базисом $\\{e_{1},e_{2},...,e_{n}\\}$, выберем два произвольных вектора $x$ и $y$ в нем и разложим их по базису: \n",
        "\n",
        "$$x=\\xi_{1} e_{1}+ \\xi_{2} e_{2}+...+\\xi_{n} e_{n},$$\n",
        "$$y=\\eta_{1} e_{1}+ \\eta_{2} e_{2}+...+\\eta_{n} e_{n}.$$"
      ]
    },
    {
      "cell_type": "markdown",
      "metadata": {
        "id": "EjmrQcUoc7cq",
        "colab_type": "text"
      },
      "source": [
        "Коэффициенты $\\xi_{i}$ и $\\eta_{i}$ будут координатами соответствующих векторов в существующем базисе. Вычислим их скалярное произведение:\n",
        "\n",
        "$$(x,y)=(\\xi_{1} e_{1}+ \\xi_{2} e_{2}+...+\\xi_{n} e_{n},\\eta_{1} e_{1}+ \\eta_{2} e_{2}+...+\\eta_{n} e_{n}).$$\n",
        "\n",
        "Учитывая свойства ортонормированного базиса (обнуление всех скалярных произведений $(e_{i}, e_{j})=0$) и $(e_{i}, e_{i})=1$, получим, что \n",
        "\n",
        "$$(x,y)=\\xi_{1}\\eta_{1} + \\xi_{2} \\eta_{2}+...+\\xi_{n}\\eta_{n}.$$"
      ]
    },
    {
      "cell_type": "markdown",
      "metadata": {
        "id": "DoG0Hea-c7cr",
        "colab_type": "text"
      },
      "source": [
        "Таким образом, _в евклидовом пространстве с ортонормированным базисом скалярное произведение двух векторов равняется сумме произведений соответствующих координат этих векторов в этом базисе_."
      ]
    },
    {
      "cell_type": "markdown",
      "metadata": {
        "id": "B6bf-1D-c7ct",
        "colab_type": "text"
      },
      "source": [
        "Также особенностью ортонормированного базиса является то, что _координаты произвольного элемента относительно ортонормированного базиса равны скалярным произведениям этого элемента на соответствующие базисные элементы._"
      ]
    },
    {
      "cell_type": "markdown",
      "metadata": {
        "id": "rnPVQP84c7cu",
        "colab_type": "text"
      },
      "source": [
        "## Практическое задание"
      ]
    },
    {
      "cell_type": "markdown",
      "metadata": {
        "id": "81d4BnNXc7cy",
        "colab_type": "text"
      },
      "source": [
        "__1.__ Найти скалярное произведение векторов $x, y \\in \\mathbb{R}$:<br>\n",
        "а) $x=(0,-3, 6),~y=(-4, 7, 9);$<br>\n",
        "б) $x=(7, -4, 0, 1),~y=(-3, 1, 11, 2).$\n",
        "\n",
        "__2.__ Найти нормы векторов $(4, 2, 4)$ и $(12, 3, 4)$ и угол между ними.\n",
        "\n",
        "\n",
        "__3.__ Будет ли линейное пространство евклидовым, если за скалярное произведение принять:<br>\n",
        "а) произведение длин векторов;<br>\n",
        "б) утроенное обычное скалярное произведение векторов?\n",
        "   \n",
        "   \n",
        "__4.__ Какие из нижеперечисленных векторов образуют ортонормированный базис в линейном пространстве $\\mathbb{R}^{3}$:<br>\n",
        "а) $(1,0,0),(0,0,1);$ <br>\n",
        "б) $(1/\\sqrt{2},-1/\\sqrt{2},0),(1/\\sqrt{2},1/\\sqrt{2},0), (0,0,1);$<br>\n",
        "в) $(1/2, -1/2, 0), (0, 1/2, 1/2), (0,0,1);$<br>\n",
        "г) $(1,0,0),(0,1,0),(0,0,1)?$ "
      ]
    },
    {
      "cell_type": "markdown",
      "metadata": {
        "id": "Dy-9B3Uwc7cz",
        "colab_type": "text"
      },
      "source": [
        "## Литература"
      ]
    },
    {
      "cell_type": "markdown",
      "metadata": {
        "id": "OXmdG8f3c7c0",
        "colab_type": "text"
      },
      "source": [
        "1. Ильин В. А., Позняк Э. Г. Линейная алгебра: Учеб. для вузов. — 6-е изд. — М.: Физматлит, 2005.\n",
        "2. Кострикин А. И., Манин Ю. И. Линейная алгебра и геометрия. Учеб. пособие для вузов. — 2-е изд. — М.: Наука, Главная редакция физико-математической литературы, 1986.\n",
        "3. Шерстнева А. И., Янущик О. В. Линейные пространства. Линейные операторы: учебное пособие. Томск: Изд-во Томского политехнического университета, 2010."
      ]
    },
    {
      "cell_type": "markdown",
      "metadata": {
        "id": "JOAQaPnDc7c1",
        "colab_type": "text"
      },
      "source": [
        "## Дополнительные материалы"
      ]
    },
    {
      "cell_type": "markdown",
      "metadata": {
        "id": "sSWpQjS6c7c2",
        "colab_type": "text"
      },
      "source": [
        "1. [Манхэттенская метрика](https://ru.wikipedia.org/wiki/Расстояние_городских_кварталов).\n",
        "\n",
        "2. [Евклидова метрика](https://ru.wikipedia.org/wiki/Евклидова_метрика).\n",
        "\n",
        "3. [Скалярное произведение в Python](http://docs.scipy.org/doc/numpy/reference/routines.linalg.html#matrix-and-vector-products).\n",
        "\n",
        "4. [Документация по нормам в NumPy](http://docs.scipy.org/doc/numpy-1.10.0/reference/generated/numpy.linalg.norm.html)\n",
        "\n",
        "5. [Документация по метрикам в SciPy](http://docs.scipy.org/doc/scipy-0.16.0/reference/generated/scipy.spatial.distance.cdist.html)"
      ]
    }
  ]
}