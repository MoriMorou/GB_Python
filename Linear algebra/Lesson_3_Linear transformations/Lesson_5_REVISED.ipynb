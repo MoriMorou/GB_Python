{
 "cells": [
  {
   "cell_type": "markdown",
   "metadata": {
    "colab_type": "text",
    "id": "Wg1dayOgCGxK"
   },
   "source": [
    "# Урок 5"
   ]
  },
  {
   "cell_type": "markdown",
   "metadata": {
    "colab_type": "text",
    "id": "6PJL0hfnCGxS"
   },
   "source": [
    "# Линейные преобразования"
   ]
  },
  {
   "cell_type": "markdown",
   "metadata": {
    "colab_type": "text",
    "id": "EhSF0q9oCGxY"
   },
   "source": [
    "В этом уроке нам нужно будет вспомнить тему линейных пространств."
   ]
  },
  {
   "cell_type": "markdown",
   "metadata": {
    "colab_type": "text",
    "id": "OthBDHdrCGxa"
   },
   "source": [
    "\n",
    "Кроме введенных нами ранее операций для векторов (сложение, умножение на число, скалярное произведение) часто возникает необходимость производить над векторами и другие операции — например, растягивание, поворот и т. д. То есть нам необходимо каждому вектору поставить в соответствие другой вектор согласно некоторому правилу. Такое отображение, согласно которому каждому элементу $x$ линейного пространства $V$ поставлен в соответствие элемент $y$ пространства $W$, называется _оператором_ из $V$ в $W$:\n",
    "\n",
    "$$\\textbf{A} :V\\rightarrow W, ~ x\\mapsto y.$$\n"
   ]
  },
  {
   "cell_type": "markdown",
   "metadata": {
    "colab_type": "text",
    "id": "N8hZsONjCGxd"
   },
   "source": [
    "Оператор $\\textbf{A}$, действующий из $V$ в $W$, называется _линейным_, если для любых элементов $x_{1}$ и $x_{2}$ пространства $V$ и любого числа $\\lambda$ выполняются равенства:\n",
    "\n",
    "$$\\textbf{A}(x_{1}+x_{2})=\\textbf{A}x_{1}+\\textbf{A}x_{2},$$\n",
    "$$\\textbf{A}(\\lambda x)=\\lambda \\textbf{A}x.$$"
   ]
  },
  {
   "cell_type": "markdown",
   "metadata": {
    "colab_type": "text",
    "id": "1JA6BQt0CGxe"
   },
   "source": [
    "При этом если $W$ является подпространством пространства $V$ или совпадает с ним, тогда оператор называется _линейным преобразованием пространства $V$_. Далее, если не указано другое, под линейным оператором мы будем иметь в виду именно такое преобразование.\n",
    "\n",
    "$$\\textbf{A}:V\\rightarrow V.$$"
   ]
  },
  {
   "cell_type": "markdown",
   "metadata": {
    "colab_type": "text",
    "id": "TuJNdb3tCGxg"
   },
   "source": [
    "Иначе говоря, линейное преобразование — это преобразование, переводящее вектор $x$ линейного пространства $V$ в вектор $y$ того же пространства:\n",
    "\n",
    "$$\\textbf{A}x=y.$$"
   ]
  },
  {
   "cell_type": "markdown",
   "metadata": {
    "colab_type": "text",
    "id": "Cl_fHtO3CGxh"
   },
   "source": [
    "При этом $y$ называется _образом_ элемента $x$, а $x$ — _прообразом_ элемента $y$."
   ]
  },
  {
   "cell_type": "markdown",
   "metadata": {
    "colab_type": "text",
    "id": "upv-XK7xCGxi"
   },
   "source": [
    "__Определение__\n",
    "\n",
    "Пусть $\\textbf{A}$ и $\\textbf{B}$ — два линейных оператора, действующих из $V$ в $W$.\n",
    "\n",
    "- _Суммой_ этих операторов назовем линейный оператор $\\textbf{A}+\\textbf{B}$, определяемый равенством\n",
    "\n",
    "$$(\\textbf{A}+\\textbf{B})x=\\textbf{A}x+\\textbf{B}x.$$\n",
    "\n",
    "- _Произведением_ линейного оператора $\\textbf{A}$ на скаляр $\\lambda$ назовем линейный оператор $\\lambda \\textbf{A}$, определяемый равенством\n",
    "\n",
    "$$(\\lambda \\textbf{A})x = \\lambda(\\textbf{A}x).$$\n",
    "\n",
    "- _Нулевым_ оператором назовем оператор $\\textbf{O}$, отображающий все элементы пространства $V$ в нулевой элемент пространства $W$:\n",
    "\n",
    "$$\\textbf{O}x=0.$$\n",
    "\n",
    "- _Противоположный_ оператор $-\\textbf{A}$ для любого оператора $\\textbf{A}$ определим как оператор, отвечающий соотношению\n",
    "\n",
    "$$-\\textbf{A}=(-1)\\textbf{A}.$$"
   ]
  },
  {
   "cell_type": "markdown",
   "metadata": {
    "colab_type": "text",
    "id": "G6DBDbboCGxo"
   },
   "source": [
    "__Утверждение__\n",
    "\n",
    "_Множество $L(V,W)$ всех линейных операторов, действующих из $V$ в $W$, с введенными операциями суммы и умножения на скаляр и выбранным нулевым оператором и противоположным оператором образуют линейное пространство._"
   ]
  },
  {
   "cell_type": "markdown",
   "metadata": {
    "colab_type": "text",
    "id": "QV3M26gjCGxq"
   },
   "source": [
    "### Свойства множества $L(V,V)$ линейных операторов"
   ]
  },
  {
   "cell_type": "markdown",
   "metadata": {
    "colab_type": "text",
    "id": "Axz8954oCGxs"
   },
   "source": [
    "Назовем _тождественным_ (или _единичным_) оператором линейный оператор $\\textbf{I}$, действующий по правилу\n",
    "\n",
    "$$\\textbf{I}x=x.$$"
   ]
  },
  {
   "cell_type": "markdown",
   "metadata": {
    "colab_type": "text",
    "id": "UIkSbTD6CGxt"
   },
   "source": [
    "Введем понятие _произведения_ линейных операторов $\\textbf{A}$ и $\\textbf{B}$ из множества $L(V,V)$ как оператор $AB$, действующий про правилу \n",
    "\n",
    "$$(\\textbf{AB})x=\\textbf{A}(\\textbf{B}x).$$\n",
    "\n",
    "При этом в общем случае $\\textbf{AB}\\neq \\textbf{BA}$."
   ]
  },
  {
   "cell_type": "markdown",
   "metadata": {
    "colab_type": "text",
    "id": "7ica1BFXCGxv"
   },
   "source": [
    "Для операторов из $L(V,V)$ справедливы следующие свойства:<br>\n",
    "1) $\\lambda(\\textbf{AB})=(\\lambda \\textbf{A})\\textbf{B};$<br>\n",
    "2) $(\\textbf{A}+\\textbf{B})\\textbf{C}=\\textbf{AC}+\\textbf{BC};$<br>\n",
    "3) $\\textbf{A}(\\textbf{B}+\\textbf{C})=\\textbf{AB}+\\textbf{AC};$<br>\n",
    "4) $(\\textbf{AB})\\textbf{C}=\\textbf{A}(\\textbf{BC}).$"
   ]
  },
  {
   "cell_type": "markdown",
   "metadata": {
    "colab_type": "text",
    "id": "CQPEsq_4CGxw"
   },
   "source": [
    "__Определение__\n",
    "\n",
    "Линейный оператор $\\textbf{A}$ действует _взаимно однозначно_ из $V$ в $V$, если двум различным элементам $x_{1}$ и $x_{2}$ отвечают различные элементы $y_{1}=\\textbf{A}x_{1}$ и $y_{2}=\\textbf{A}x_{2}$."
   ]
  },
  {
   "cell_type": "markdown",
   "metadata": {
    "colab_type": "text",
    "id": "61_xfK2eCGxx"
   },
   "source": [
    "__Определение__\n",
    "\n",
    "Линейный оператор $\\textbf{B}$ из $L(V,V)$ называется _обратным_ для оператора $\\textbf{A}$ из $L(V,V)$, если $\\textbf{AB}=\\textbf{BA}=\\textbf{I}$."
   ]
  },
  {
   "cell_type": "markdown",
   "metadata": {
    "colab_type": "text",
    "id": "KKOz2K3hCGxz"
   },
   "source": [
    "## Ядро и образ линейного оператора"
   ]
  },
  {
   "cell_type": "markdown",
   "metadata": {
    "colab_type": "text",
    "id": "7AQEZykrCGx4"
   },
   "source": [
    "С любым оператором $\\textbf{A}$ связаны два подпространства — _ядро_ и _образ_ этого оператора."
   ]
  },
  {
   "cell_type": "markdown",
   "metadata": {
    "colab_type": "text",
    "id": "uUORXj5ECGx5"
   },
   "source": [
    "_Ядром линейного оператора_ $\\text{Ker}\\textbf{A}$ называется множество всех векторов исходного пространства, образы которых совпадают с нулевым вектором:\n",
    "\n",
    "$$\\text{Ker}\\textbf{A}=\\{x:\\textbf{A}x=0\\}.$$"
   ]
  },
  {
   "cell_type": "markdown",
   "metadata": {
    "colab_type": "text",
    "id": "Y9V_MgSPCGx7"
   },
   "source": [
    "__Утверждение__\n",
    "\n",
    "Условие $\\text{Ker}\\textbf{A}=0$ является необходимым и достаточным для того, чтобы оператор $\\textbf{A}$ имел обратный."
   ]
  },
  {
   "cell_type": "markdown",
   "metadata": {
    "colab_type": "text",
    "id": "PRajIXFvCGx-"
   },
   "source": [
    "_Образом линейного оператора_ $\\text{Im}\\textbf{A}$ называется множество всех векторов $y=\\textbf{A}x$, которые получаются в результате воздействия оператора $\\textbf{A}$ на векторы исходного пространства:\n",
    "\n",
    "$$\\text{Im}\\textbf{A}=\\{y:y=\\textbf{A}x\\}.$$"
   ]
  },
  {
   "cell_type": "markdown",
   "metadata": {
    "colab_type": "text",
    "id": "U-STOEMzCGx_"
   },
   "source": [
    "__Замечание__\n",
    "\n",
    "Если $\\text{Ker}\\textbf{A}=0$, то $\\text{Im}\\textbf{A}=V$. Таким образом, последнее условие также является необходимым и достаточным для того, чтобы оператор $\\textbf{A}$ имел обратный."
   ]
  },
  {
   "cell_type": "markdown",
   "metadata": {
    "colab_type": "text",
    "id": "r98YlaNKCGyA"
   },
   "source": [
    "Некоторые свойства ядра и образа линейного оператора:\n",
    "\n",
    "- сумма размерностей ядра и образа линейного оператора равны размерности исходного пространства:\n",
    "\n",
    "$$\\text{dim}\\;\\text{Ker}\\textbf{A}+\\text{dim}\\;\\text{Im}\\textbf{A}=\\text{dim}V;$$\n",
    "\n",
    "- размерность образа линейного оператора $\\textbf{A}$ называется _рангом_ этого оператора."
   ]
  },
  {
   "cell_type": "markdown",
   "metadata": {
    "colab_type": "text",
    "id": "s67vVrh2CGyC"
   },
   "source": [
    "## Матрица линейного оператора"
   ]
  },
  {
   "cell_type": "markdown",
   "metadata": {
    "colab_type": "text",
    "id": "oDPsiS6wCGyD"
   },
   "source": [
    "Любая квадратная матрица размера $n\\times n$ может рассматриваться как линейный оператор, переводящий вектор $x$ $n$-мерного пространства в вектор $y$ того же пространства."
   ]
  },
  {
   "cell_type": "markdown",
   "metadata": {
    "colab_type": "text",
    "id": "37Ea2NFcCGyE"
   },
   "source": [
    "Покажем, что линейный оператор в $n$-мерном пространстве действительно можно задать, определив $n^{2}$ чисел."
   ]
  },
  {
   "cell_type": "markdown",
   "metadata": {
    "colab_type": "text",
    "id": "uar45jWlCGyR"
   },
   "source": [
    "Рассмотрим $n$-мерное пространство $V$. Как мы помним, в каждом таком пространстве имеется базис из $n$ линейно независимых векторов $\\{e_{1},e_{2},...,e_{n}\\}$, по которому можно разложить любой вектор этого пространства:\n",
    "\n",
    "$$x=\\xi_{1}e_{1}+\\xi_{2}e_{2}+...+\\xi_{n}e_{n}.$$\n",
    "\n",
    "Коэффициенты $\\xi_{i}$ будут координатами вектора $x$ в данном базисе."
   ]
  },
  {
   "cell_type": "markdown",
   "metadata": {
    "colab_type": "text",
    "id": "ZTc8HuQvCGyT"
   },
   "source": [
    "Возьмем теперь линейный оператор $\\textbf{A}$, действующий из $V$ в $V$. Учитывая линейность оператора, получим\n",
    "\n",
    "$$Ax=\\xi_{1}\\cdot \\textbf{A}e_{1}+\\xi_{2}\\cdot \\textbf{A}e_{2}+...+\\xi_{n}\\cdot \\textbf{A}e_{n}.$$"
   ]
  },
  {
   "cell_type": "markdown",
   "metadata": {
    "colab_type": "text",
    "id": "jKechcneCGyU"
   },
   "source": [
    "Произведем замену  $g_{i}=\\textbf{A}e_{i}$: \n",
    "\n",
    "$$Ax=\\xi_{1}g_{1}+\\xi_{2}g_{2}+...+\\xi_{n}g_{n}.$$\n",
    "\n",
    "То есть результатом воздействия оператора $\\textbf{A}$ на вектор $x$ будет вектор, имеющий те же координаты $(\\xi_{1},\\xi_{2},...,\\xi_{n})$, но в разложении по базису, состоящему из векторов $g_{i}$."
   ]
  },
  {
   "cell_type": "markdown",
   "metadata": {
    "colab_type": "text",
    "id": "31s63br5CGy_"
   },
   "source": [
    "Значит, для того, чтобы знать, куда переходит произвольный вектор $x$ при воздействии на него оператора $\\textbf{A}$, достаточно знать, куда переходят $n$ базисных векторов $e_{i}$."
   ]
  },
  {
   "cell_type": "markdown",
   "metadata": {
    "colab_type": "text",
    "id": "XUKmo_92CGzA"
   },
   "source": [
    "Рассмотрим теперь образы $g_{k}=\\textbf{A}e_{k}$ базисных векторов $e_{k}$. Они будут представлять собой также векторы исходного пространства $V$, а значит, каждый из них можно разложить по исходному базису $\\{e_{1},e_{2},...,e_{n}\\}$:\n",
    "\n",
    "$$g_{k}=a_{1k}\\cdot e_{1}+a_{2k}\\cdot e_{2}+...+a_{nk}\\cdot e_{n}.$$"
   ]
  },
  {
   "cell_type": "markdown",
   "metadata": {
    "colab_type": "text",
    "id": "BuNhAuoHCGzC"
   },
   "source": [
    "В конечном итоге получим \n",
    "\n",
    "$$\\textbf{A}x=\\sum_{i=1}^{n}\\xi_{i}\\sum_{k=1}^{n}a_{ik}e_{i}=\\sum_{i=1}^{n}\\left(\\sum_{k=1}^{n}a_{ik}\\xi_{k} \\right)e_{i}.$$"
   ]
  },
  {
   "cell_type": "markdown",
   "metadata": {
    "colab_type": "text",
    "id": "jO7erJx5CGzD"
   },
   "source": [
    "Таким образом, если $y=\\textbf{A}x$, и элемент $y$ имеет координаты $g_{1},g_{2},...,g_{n}$, то \n",
    "\n",
    "$$g_{i} = \\sum_{k=1}^{n}a_{ik}\\xi_{k}.$$"
   ]
  },
  {
   "cell_type": "markdown",
   "metadata": {
    "colab_type": "text",
    "id": "NG-g7B9bCGzE"
   },
   "source": [
    "Каждый из $n$ векторов $g_{k}$ будет определяться набором из $n$ чисел $a_{ik}$, которые характеризуют его разложение по известному базису $\\{e_{1},e_{2},...,e_{n}\\}$. Следовательно, пространство линейных операторов имеет размерность $n^{2}$, и совокупность векторов $g_{k}$ можно определить $n^{2}$ числами $a_{ik}$, которые можно записать в виде квадратной матрицы:\n",
    "\n",
    "$$A=(a_{ik})=\\begin{pmatrix}\n",
    "a_{11} & a_{12} & \\cdots & a_{1n}\\\\ \n",
    "a_{21} & a_{22} & \\cdots & a_{2n}\\\\ \n",
    "\\cdots & \\cdots & \\ddots & \\cdots\\\\ \n",
    "a_{n1} & a_{n2} & \\cdots & a_{nn}\n",
    "\\end{pmatrix}.$$"
   ]
  },
  {
   "cell_type": "markdown",
   "metadata": {
    "colab_type": "text",
    "id": "_C0Sat5NCGzF"
   },
   "source": [
    "Полученная матрица называется _матрицей линейного оператора_ $\\textbf{A}$ в базисе $\\{e_{1},e_{2},...,e_{n}\\}$. \n",
    "\n",
    "Задание такого набора $n^{2}$ чисел полностью определяет действие оператора $\\textbf{A}$ на базисные векторы. А зная действие линейного оператора на базисные векторы, мы будем знать его действие на любой произвольный вектор $n$-мерного линейного пространства $V$. "
   ]
  },
  {
   "cell_type": "markdown",
   "metadata": {
    "colab_type": "text",
    "id": "UFZ7yEJ-CGzG"
   },
   "source": [
    "Из полученного определения следует, что __матрицы линейных преобразований всегда квадратные__."
   ]
  },
  {
   "cell_type": "markdown",
   "metadata": {
    "colab_type": "text",
    "id": "IboNXWrPCGzI"
   },
   "source": [
    "__Замечания__\n",
    "\n",
    "- Если оператор $\\textbf{A}$ нулевой, то все элементы матрицы $A$ оператора равны нулю в любом базисе, то есть $A$ — нулевая матрица.\n",
    "\n",
    "- Если оператор $\\textbf{A}$ единичный, то матрица этого оператора будет единичной в любом базисе.\n",
    "\n",
    "- Ранг линейного оператора $\\textbf{A}$ равен рангу матрицы $A$ этого оператора.\n",
    "\n",
    "- Определитель матрицы линейного оператора не зависит от выбора базиса, поэтому можно ввести понятие _определителя линейного оператора_\n",
    "$$det\\textbf{A}=detA,$$\n",
    "    где $A$ — матрица линейного оператора $A$ в любом базисе."
   ]
  },
  {
   "cell_type": "markdown",
   "metadata": {
    "colab_type": "text",
    "id": "Ggpjf9I5CGzJ"
   },
   "source": [
    "Рассмотрим несколько примеров в двумерном пространстве."
   ]
  },
  {
   "cell_type": "markdown",
   "metadata": {
    "colab_type": "text",
    "id": "-JWefTnaCGzL"
   },
   "source": [
    "__Геометрический смысл__ линейного преобразования, заданного матрицей\n",
    "\n",
    "$$A=\\begin{pmatrix}\n",
    "a & b\\\\ \n",
    "c & d\n",
    "\\end{pmatrix},$$\n",
    "\n",
    "можно выразить как преобразование единичного квадрата в параллелограмм с вершинами $(0,0),~(a,b),~(a+c,b+d),~(c,d)$. При этом определитель матрицы линейного оператра иллюстрирует, во сколько раз площадь полученного параллелограмма будет превышать площадь исходного единичного квадрата."
   ]
  },
  {
   "cell_type": "markdown",
   "metadata": {
    "colab_type": "text",
    "id": "Ge5S3R0zCGzM"
   },
   "source": [
    "__Пример 1__"
   ]
  },
  {
   "cell_type": "markdown",
   "metadata": {
    "colab_type": "text",
    "id": "RADKwp9fCGzN"
   },
   "source": [
    "Вначале изобразим базис из векторов $e_{1}=(1,0)$ и $e_{2}=(0,1)$ в двумерном пространстве:"
   ]
  },
  {
   "cell_type": "code",
   "execution_count": 1,
   "metadata": {
    "colab": {},
    "colab_type": "code",
    "id": "TBM32E1vCGzO"
   },
   "outputs": [],
   "source": [
    "# запустите последовательно код в ячейках,чтобы отобразить иллюстрации\n",
    "import matplotlib.pyplot as plt"
   ]
  },
  {
   "cell_type": "code",
   "execution_count": 2,
   "metadata": {
    "colab": {},
    "colab_type": "code",
    "id": "3Zwft8OICGzY",
    "outputId": "3b8c97ba-e2ee-4442-d7bc-8eb3190a9ab8"
   },
   "outputs": [
    {
     "data": {
      "image/png": "[encoded data removed]",
      "text/plain": [
       "<Figure size 432x288 with 1 Axes>"
      ]
     },
     "metadata": {
      "needs_background": "light"
     },
     "output_type": "display_data"
    }
   ],
   "source": [
    "fig = plt.figure()\n",
    "ax = fig.add_subplot(1,1,1)\n",
    "\n",
    "ax.spines['left'].set_position('zero')\n",
    "ax.spines['bottom'].set_position('zero')\n",
    "\n",
    "ax.spines['right'].set_color('none')\n",
    "ax.spines['top'].set_color('none')\n",
    "\n",
    "plt.axis('scaled')\n",
    "plt.xlim(-2, 2)\n",
    "plt.ylim(-2, 2)\n",
    "\n",
    "ax.arrow(0, 0, 0, 1, head_width=0.15, head_length=0.2, length_includes_head=True, facecolor='black')\n",
    "ax.arrow(0, 0, 1, 0, head_width=0.15, head_length=0.2, length_includes_head=True, facecolor='black')\n",
    "ax.annotate(\"e1\", xy=(0.8, 0.3))\n",
    "ax.annotate(\"e2\", xy=(0.2, 0.8))\n",
    "\n",
    "plt.show()"
   ]
  },
  {
   "cell_type": "markdown",
   "metadata": {
    "colab_type": "text",
    "id": "xCY7A4BhCGzi"
   },
   "source": [
    "Применим к нему произвольное линейное преобразование, заданное матрицей\n",
    "\n",
    "$$A=\\begin{pmatrix}\n",
    "0 & -1\\\\ \n",
    "1 & 0\n",
    "\\end{pmatrix}.$$\n",
    "\n",
    "Векторы коэффициентов разложения векторов $g_{i}$ по базису задают столбцы матрицы линейного оператора. Тогда базисные векторы преобразуются следующим образом:\n",
    "\n",
    "$$Ae_{1}=0\\cdot e_{1}+1\\cdot e_{2}=e_{2},$$\n",
    "\n",
    "$$Ae_{2}=-1\\cdot e_{1}+0\\cdot e_{2}=-e_{1}.$$\n",
    "\n",
    "Изобразим получившийся базис:"
   ]
  },
  {
   "cell_type": "code",
   "execution_count": 3,
   "metadata": {
    "colab": {},
    "colab_type": "code",
    "id": "WbJV75T8CGzk",
    "outputId": "d4485c40-2c98-46e2-9dbd-a2d0e46fe554"
   },
   "outputs": [
    {
     "data": {
      "image/png": "[encoded data removed]",
      "text/plain": [
       "<Figure size 432x288 with 1 Axes>"
      ]
     },
     "metadata": {
      "needs_background": "light"
     },
     "output_type": "display_data"
    }
   ],
   "source": [
    "fig = plt.figure()\n",
    "ax = fig.add_subplot(1,1,1)\n",
    "\n",
    "ax.spines['left'].set_position('zero')\n",
    "ax.spines['bottom'].set_position('zero')\n",
    "\n",
    "ax.spines['right'].set_color('none')\n",
    "ax.spines['top'].set_color('none')\n",
    "\n",
    "plt.axis('scaled')\n",
    "plt.xlim(-2, 2)\n",
    "plt.ylim(-2, 2)\n",
    "\n",
    "ax.arrow(0, 0, 0, 1, head_width=0.15, head_length=0.2, length_includes_head=True, facecolor='black')\n",
    "ax.arrow(0, 0, -1, 0, head_width=0.15, head_length=0.2, length_includes_head=True, facecolor='black')\n",
    "ax.annotate(\"e2\", xy=(-0.8, 0.3))\n",
    "ax.annotate(\"e1\", xy=(0.2, 0.8))\n",
    "\n",
    "plt.show()"
   ]
  },
  {
   "cell_type": "markdown",
   "metadata": {
    "colab_type": "text",
    "id": "P2yDQXt6CGzs"
   },
   "source": [
    "То есть мы получили поворот базиса на $90$ градусов.\n",
    "\n",
    "На самом деле заданная нами матрица $A$ являлась __ортогональной__. Преобразования, заданные ортогональными матрицами, являются поворотом или поворотом с инверсией, и в общем случае матрица такого преобразования с поворотом на угол $\\varphi$ имеет вид\n",
    "\n",
    "$$\\begin{pmatrix}\n",
    "cos \\varphi & sin \\varphi\\\\ \n",
    "-sin \\varphi & cos \\varphi\n",
    "\\end{pmatrix} \\; \\text{или} \\; \n",
    "\\begin{pmatrix}\n",
    "cos \\varphi & -sin \\varphi\\\\ \n",
    "sin \\varphi & cos \\varphi\n",
    "\\end{pmatrix}.$$"
   ]
  },
  {
   "cell_type": "markdown",
   "metadata": {
    "colab_type": "text",
    "id": "PPf8fnDXCGzt"
   },
   "source": [
    "Важные свойства ортогональных преобразований:\n",
    "\n",
    "- ортогональные преобразования сохраняют скалярное произведение\n",
    "\n",
    "$$\\left \\langle Ax,Az \\right \\rangle = \\left \\langle x,z \\right \\rangle;$$\n",
    "\n",
    "- ортогональные преобразования сохраняют длины векторов\n",
    "\n",
    "$$\\left \\| Ax \\right \\| = \\left \\| x \\right \\|;$$\n",
    "\n",
    "- ортогональные преобразования сохраняют углы между векторами;\n",
    "\n",
    "- ортогональные преобразования — это изометрии, т. е. они сохраняют расстояние между элементами в метрическом пространстве."
   ]
  },
  {
   "cell_type": "markdown",
   "metadata": {
    "colab_type": "text",
    "id": "lW8q4HenCGzu"
   },
   "source": [
    "Определитель матрицы линейного оператора иллюстрирует, во сколько раз увеличится площадь единичного квадрата после применения этого оператора. Для ортогональных матриц он всегда составляет\n",
    "\n",
    "$$detA=\\pm1.$$"
   ]
  },
  {
   "cell_type": "markdown",
   "metadata": {
    "colab_type": "text",
    "id": "GumPsolWCGzw"
   },
   "source": [
    "__Пример 2__"
   ]
  },
  {
   "cell_type": "markdown",
   "metadata": {
    "colab_type": "text",
    "id": "u-Q5mcXfCGzx"
   },
   "source": [
    "Преобразование, заданное невырожденной __диагональной__ матрицей, представляет собой растяжение или сжатие относительно координатных осей.\n",
    "\n",
    "Рассмотрим те же базисные векторы $e_{1}$ и $e_{2}$ и действие на них линейного оператора, заданного матрицей\n",
    "\n",
    "$$\\begin{pmatrix}\n",
    "1 & 0\\\\ \n",
    "0 & 2\n",
    "\\end{pmatrix}.$$\n",
    "\n",
    "$$Ae_{1}=1\\cdot e_{1}+0\\cdot e_{2}=e_{1},$$\n",
    "\n",
    "$$Ae_{2}=0\\cdot e_{1}+2\\cdot e_{2}=2e_{2}.$$\n",
    "\n",
    "Изобразим получившийся базис:"
   ]
  },
  {
   "cell_type": "code",
   "execution_count": 4,
   "metadata": {
    "colab": {},
    "colab_type": "code",
    "id": "75Ja58HoCGzz",
    "outputId": "5faae5b9-9d5f-4c78-f408-dabc5ca7a192"
   },
   "outputs": [
    {
     "data": {
      "image/png": "[encoded data removed]",
      "text/plain": [
       "<Figure size 432x288 with 1 Axes>"
      ]
     },
     "metadata": {
      "needs_background": "light"
     },
     "output_type": "display_data"
    }
   ],
   "source": [
    "fig = plt.figure()\n",
    "ax = fig.add_subplot(1,1,1)\n",
    "\n",
    "ax.spines['left'].set_position('zero')\n",
    "ax.spines['bottom'].set_position('zero')\n",
    "\n",
    "ax.spines['right'].set_color('none')\n",
    "ax.spines['top'].set_color('none')\n",
    "\n",
    "plt.axis('scaled')\n",
    "plt.xlim(-2, 2)\n",
    "plt.ylim(-2, 2)\n",
    "\n",
    "ax.arrow(0, 0, 0, 2, head_width=0.15, head_length=0.2, length_includes_head=True, facecolor='black')\n",
    "ax.arrow(0, 0, 1, 0, head_width=0.15, head_length=0.2, length_includes_head=True, facecolor='black')\n",
    "ax.annotate(\"e1\", xy=(0.8, 0.3))\n",
    "ax.annotate(\"e2\", xy=(0.2, 1.8))\n",
    "\n",
    "plt.show()"
   ]
  },
  {
   "cell_type": "markdown",
   "metadata": {
    "colab_type": "text",
    "id": "8UUwhT98CG0D"
   },
   "source": [
    "__Пример 3__"
   ]
  },
  {
   "cell_type": "markdown",
   "metadata": {
    "colab_type": "text",
    "id": "RM1-Jv7lCG0F"
   },
   "source": [
    "Рассмотрим еще один класс матриц — __симметричные__.\n",
    "\n",
    "Особенность таких матриц в том, что их можно представить в виде произведения ортогональной матрицы, диагональной и еще одной ортогональной:\n",
    "\n",
    "$$A=QDQ^{T},$$\n",
    "\n",
    "где $Q$ —  некоторая ортогональная матрица, а $D$ — диагональная матрица.\n",
    "\n",
    "В контексте линейных преобразований это означает, что сложное преобразование, заданное такой матрицей, можно представить в виде комбинации поворотов и растяжений вдоль осей, задаваемых диагональным и ортогональными компонентами ее разложения."
   ]
  },
  {
   "cell_type": "markdown",
   "metadata": {
    "colab_type": "text",
    "id": "XnKYsMhXCG0H"
   },
   "source": [
    "Столбцы ортогональной матрицы $Q$ из этого разложения содержат ортонормированный базис из _собственных векторов_, а диагональная матрица $D$ содержит _собственные значения_ исходной матрицы на главной диагонали. Со значением этих терминов мы познакомимся позже в данном уроке."
   ]
  },
  {
   "cell_type": "markdown",
   "metadata": {
    "colab_type": "text",
    "id": "3PB8SbLdCG0J"
   },
   "source": [
    "## Характеристический многочлен линейного оператора"
   ]
  },
  {
   "cell_type": "markdown",
   "metadata": {
    "colab_type": "text",
    "id": "RyV-JoQgCG0L"
   },
   "source": [
    "__Определение__\n",
    "\n",
    "Многочлен относительно $\\lambda$ \n",
    "\n",
    "$$det(\\textbf{A}-\\lambda\\textbf{I}),$$\n",
    "\n",
    "где $\\textbf{A}$ — линейный оператор, $\\textbf{I}$ — единичный оператор из $L(V,V)$, называется _характеристическим многочленом_ оператора $\\textbf{A}$."
   ]
  },
  {
   "cell_type": "markdown",
   "metadata": {
    "colab_type": "text",
    "id": "z2T1Sw9WCG0P"
   },
   "source": [
    "Пусть в пространстве $V$ задан базис $e_{k}$ и $A=(a_{ik})$ — матрица оператора $\\textbf{A}$ в этом базисе. Тогда\n",
    "\n",
    "$$det(\\textbf{A}-\\lambda\\textbf{I})=\\begin{vmatrix}\n",
    "a_{11}-\\lambda & a_{12} & \\cdots & a_{1n}\\\\ \n",
    "a_{21} & a_{22}-\\lambda & \\cdots & a_{2n}\\\\  \n",
    "\\cdots & \\cdots & \\ddots & \\cdots \\\\ \n",
    "a_{n1} & a_{n2} & \\cdots & a_{nn}-\\lambda\\\\ \n",
    "\\end{vmatrix}.$$"
   ]
  },
  {
   "cell_type": "markdown",
   "metadata": {
    "colab_type": "text",
    "id": "42Ig8sAcCG0Y"
   },
   "source": [
    "__Пример__\n",
    "\n",
    "Для $n=2$\n",
    "\n",
    "$$det(\\textbf{A}-\\lambda\\textbf{I})=\\begin{vmatrix}\n",
    "a_{11}-\\lambda & a_{12}\\\\ \n",
    "a_{21} & a_{22}-\\lambda\n",
    "\\end{vmatrix} = \\lambda^{2}-(a_{11}+a_{22})\\lambda+(a_{11}a_{22}-a_{12}a_{21}).$$\n",
    "\n",
    "Для $n=3$\n",
    "\n",
    "$$det(\\textbf{A}-\\lambda\\textbf{I})=\\begin{vmatrix}\n",
    "a_{11}-\\lambda & a_{12} & a_{13}\\\\ \n",
    "a_{21} & a_{22}-\\lambda & a_{23}\\\\  \n",
    "a_{31} & a_{32} & a_{33}-\\lambda\\\\ \n",
    "\\end{vmatrix} = -\\lambda^{3} + (a_{11}+a_{22}+a_{33})\\lambda^{2}-\\left\\{\\begin{vmatrix}\n",
    "a_{11} & a_{12}\\\\ \n",
    "a_{21} & a_{22}\n",
    "\\end{vmatrix} + \\begin{vmatrix}\n",
    "a_{22} & a_{23}\\\\ \n",
    "a_{32} & a_{33}\n",
    "\\end{vmatrix} + \\begin{vmatrix}\n",
    "a_{11} & a_{13}\\\\ \n",
    "a_{31} & a_{33}\n",
    "\\end{vmatrix}\\right\\}\\lambda + detA.$$"
   ]
  },
  {
   "cell_type": "markdown",
   "metadata": {
    "colab_type": "text",
    "id": "jeLhQ0W9CG0Z"
   },
   "source": [
    "Запишем в общем случае характеристический многочлен, обозначив через $d_{k}$ коэффициент при $\\lambda^{k}$:\n",
    "\n",
    "$$det(\\textbf{A}-\\lambda\\textbf{I})=d_{0}+d_{1}\\lambda+...+d_{n-1}\\lambda^{n-1}+(-1)^{n}\\lambda^{n},$$\n",
    "\n",
    "или\n",
    "\n",
    "$$det(\\textbf{A}-\\lambda\\textbf{I})=\\sum_{k=0}^{n}d_{k}\\lambda^{k}.$$"
   ]
  },
  {
   "cell_type": "markdown",
   "metadata": {
    "colab_type": "text",
    "id": "sRSEpb9bCG0b"
   },
   "source": [
    "Уравнение \n",
    "\n",
    "$$det(\\textbf{A}-\\lambda\\textbf{I})=0$$\n",
    "\n",
    "называется _характеристическим уравнением_ оператора $\\textbf{A}$."
   ]
  },
  {
   "cell_type": "markdown",
   "metadata": {
    "colab_type": "text",
    "id": "WxqftEsUCG0d"
   },
   "source": [
    "## Собственные векторы и собственные значения операторов"
   ]
  },
  {
   "cell_type": "markdown",
   "metadata": {
    "colab_type": "text",
    "id": "itJDO_0FCG0e"
   },
   "source": [
    "_Собственный вектор_ оператора $\\textbf{A}$ — это такой ненулевой вектор, действие оператора на который сводится к умножению его на число:\n",
    "\n",
    "$$\\textbf{A}x=\\lambda x.$$\n",
    "\n",
    "При этом число $\\lambda$ называется _собственным значением_ этого оператора."
   ]
  },
  {
   "cell_type": "markdown",
   "metadata": {
    "colab_type": "text",
    "id": "LXVcg4LJCG0h"
   },
   "source": [
    "Упрощенно говоря, действие оператора $\\textbf{A}$ на собственный вектор $x$ заключается в растяжении или сжатии последнего без изменения его направления. Собственные векторы характеризуют направления, в которых оператор растягивает или сжимает векторы без их поворота. То есть геометрический смысл собственных векторов заключается в том, что если ненулевой вектор $x$ является собственным для преобразования $\\textbf{A}$, то его образ $\\textbf{A}x$ коллинеарен прообразу $x$."
   ]
  },
  {
   "cell_type": "markdown",
   "metadata": {
    "colab_type": "text",
    "id": "rwcyUEpiCG0j"
   },
   "source": [
    "В контексте машинного обучения понятие собственных векторов полезно для охарактеризования наиболее типичных направлений преобразования матрицы. Они применяются для уменьшения матрицы с максимальным сохранением информации в ней (метод опорных векторов)."
   ]
  },
  {
   "cell_type": "markdown",
   "metadata": {
    "colab_type": "text",
    "id": "r4enE5nLCG0n"
   },
   "source": [
    "__Теорема__\n",
    "\n",
    "Для того, чтобы число $\\lambda$ было собственным значением оператора $\\textbf{A}$, необходимо и достаточно, чтобы это число было корнем характеристического уравнения оператора $\\textbf{A}$."
   ]
  },
  {
   "cell_type": "markdown",
   "metadata": {
    "colab_type": "text",
    "id": "-EKkD0swCG0o"
   },
   "source": [
    "__Пример__\n",
    "\n",
    "Изобразим на плоскости базис из векторов $e_{1}=(1,0)$ и $e_{2}=(0,1)$ в двумерном пространстве:"
   ]
  },
  {
   "cell_type": "code",
   "execution_count": 5,
   "metadata": {
    "colab": {},
    "colab_type": "code",
    "id": "tWZ6MSaNCG0s",
    "outputId": "d4076baf-9fcb-4470-83d7-33f9b58a842e"
   },
   "outputs": [
    {
     "data": {
      "image/png": "[encoded data removed]",
      "text/plain": [
       "<Figure size 432x288 with 1 Axes>"
      ]
     },
     "metadata": {
      "needs_background": "light"
     },
     "output_type": "display_data"
    }
   ],
   "source": [
    "fig = plt.figure()\n",
    "ax = fig.add_subplot(1,1,1)\n",
    "\n",
    "ax.spines['left'].set_position('zero')\n",
    "ax.spines['bottom'].set_position('zero')\n",
    "\n",
    "ax.spines['right'].set_color('none')\n",
    "ax.spines['top'].set_color('none')\n",
    "\n",
    "plt.axis('scaled')\n",
    "plt.xlim(-2, 2)\n",
    "plt.ylim(-2, 2)\n",
    "\n",
    "ax.arrow(0, 0, 0, 1, head_width=0.15, head_length=0.2, length_includes_head=True, facecolor='black')\n",
    "ax.arrow(0, 0, 1, 0, head_width=0.15, head_length=0.2, length_includes_head=True, facecolor='black')\n",
    "ax.annotate(\"e1\", xy=(0.8, 0.3))\n",
    "ax.annotate(\"e2\", xy=(0.2, 0.8))\n",
    "\n",
    "plt.show()"
   ]
  },
  {
   "cell_type": "markdown",
   "metadata": {
    "colab_type": "text",
    "id": "5RttFuOJCG02"
   },
   "source": [
    "Применим к нему линейное преобразование, заданное матрицей\n",
    "\n",
    "$$A=\\begin{pmatrix}\n",
    "1 & 1\\\\ \n",
    "0 & 1\n",
    "\\end{pmatrix}.$$\n",
    "\n",
    "И найдем его собственные векторы и собственные значения.\n"
   ]
  },
  {
   "cell_type": "markdown",
   "metadata": {
    "colab_type": "text",
    "id": "fMstZvCoCG05"
   },
   "source": [
    "Как говорилось ранее, векторы коэффициентов разложения векторов $g_{i}$ по базису задают столбцы матрицы линейного оператора. Тогда базисные векторы преобразуются следующим образом:\n",
    "\n",
    "$$Ae_{1}=1\\cdot e_{1}+0\\cdot e_{2}=e_{1},$$\n",
    "\n",
    "$$Ae_{2}=e_{1}+e_{2}.$$"
   ]
  },
  {
   "cell_type": "code",
   "execution_count": 6,
   "metadata": {
    "colab": {},
    "colab_type": "code",
    "id": "NaZBRx9ACG06",
    "outputId": "d8ea73c7-2613-4ced-911e-2afcbb2bc0ac"
   },
   "outputs": [
    {
     "data": {
      "image/png": "[encoded data removed]",
      "text/plain": [
       "<Figure size 432x288 with 1 Axes>"
      ]
     },
     "metadata": {
      "needs_background": "light"
     },
     "output_type": "display_data"
    }
   ],
   "source": [
    "fig = plt.figure()\n",
    "ax = fig.add_subplot(1,1,1)\n",
    "\n",
    "ax.spines['left'].set_position('zero')\n",
    "ax.spines['bottom'].set_position('zero')\n",
    "\n",
    "ax.spines['right'].set_color('none')\n",
    "ax.spines['top'].set_color('none')\n",
    "\n",
    "plt.axis('scaled')\n",
    "plt.xlim(-2, 2)\n",
    "plt.ylim(-2, 2)\n",
    "\n",
    "ax.arrow(0, 0, 1, 1, head_width=0.15, head_length=0.2, length_includes_head=True, facecolor='black')\n",
    "ax.arrow(0, 0, 1, 0, head_width=0.15, head_length=0.2, length_includes_head=True, facecolor='black')\n",
    "ax.annotate(\"e1\", xy=(0.8, 0.3))\n",
    "ax.annotate(\"e2\", xy=(0.6, 1.0))\n",
    "\n",
    "plt.show()"
   ]
  },
  {
   "cell_type": "markdown",
   "metadata": {
    "colab_type": "text",
    "id": "rRaN3YpCCG1A"
   },
   "source": [
    "Теперь найдем собственные значения линейного оператора, составив и решив характеристическое уравнение:\n",
    "\n",
    "$$\\begin{vmatrix}\n",
    "1-\\lambda & 1\\\\ \n",
    "0 & 1-\\lambda\n",
    "\\end{vmatrix} = 0,$$\n",
    "\n",
    "$$(1-\\lambda)(1-\\lambda)-0\\cdot1=0,$$\n",
    "\n",
    "$$(1-\\lambda)^{2}=0,$$\n",
    "\n",
    "$$\\lambda=1.$$"
   ]
  },
  {
   "cell_type": "markdown",
   "metadata": {
    "colab_type": "text",
    "id": "AU_jIiJLCG1B"
   },
   "source": [
    "Теперь найдем собственные векторы вида $\\begin{pmatrix}\n",
    "x_{1}\\\\ \n",
    "x_{2}\n",
    "\\end{pmatrix}$, подставив полученное собственное значение в выражение $\\textbf{A}x=\\lambda x$:\n",
    "\n",
    "$$\\begin{pmatrix}\n",
    "1 & 1\\\\ \n",
    "0 & 1\n",
    "\\end{pmatrix}\n",
    "\\begin{pmatrix}\n",
    "x_{1}\\\\ \n",
    "x_{2}\n",
    "\\end{pmatrix}=\n",
    "\\lambda\n",
    "\\begin{pmatrix}\n",
    "x_{1}\\\\ \n",
    "x_{2}\n",
    "\\end{pmatrix}.\n",
    "$$"
   ]
  },
  {
   "cell_type": "markdown",
   "metadata": {
    "colab_type": "text",
    "id": "_8uW26YXCG1D"
   },
   "source": [
    "Получим\n",
    "\n",
    "$$\\begin{cases}\n",
    "x_{1}+x_{2}= x_{1}, \\\\\n",
    "0\\cdot x_{1}+x_{2}= x_{2}.\n",
    "\\end{cases}$$ \n",
    "\n",
    "Перенеся все в левую часть, получим\n",
    "\n",
    "$$\\begin{cases}\n",
    "x_{1}+x_{2} - x_{1} = 0, \\\\\n",
    "0\\cdot x_{1}+x_{2} - x_{2} = 0;\n",
    "\\end{cases}$$ \n",
    "\n",
    "$$\\begin{cases}\n",
    "x_{2}=0, \\\\\n",
    "0 = 0.\n",
    "\\end{cases}$$"
   ]
  },
  {
   "cell_type": "markdown",
   "metadata": {
    "colab_type": "text",
    "id": "4IZ2mWTMCG1F"
   },
   "source": [
    "Вторая координата $x_{2}=0$, а за первую можно принять любое ненулевое значение, например $x_{1}=1$. Проверка подстановки таких значений в систему покажет, что вектор вида $x=\\begin{pmatrix}\n",
    "1\\\\ \n",
    "0\n",
    "\\end{pmatrix}$ удовлетворяет каждому уравнению системы."
   ]
  },
  {
   "cell_type": "markdown",
   "metadata": {
    "colab_type": "text",
    "id": "gtHYbkVhCG1K"
   },
   "source": [
    "Таким образом, существует лишь одно множество коллинеарных друг другу собственных векторов, представителем которых является $x=(1,0)$ (с точностью до умножения на число), которые это линейное преобразование переводит в коллинеарные исходным, причем той же длины, так как $\\lambda=1$, что мы и увидели на иллюстрациях векторов $e_{1}$ и $e_{2}$ до и после применения линейного преобразования, когда $e_{1} = (1,0)$ не изменил своего направления и длины."
   ]
  },
  {
   "cell_type": "markdown",
   "metadata": {
    "colab_type": "text",
    "id": "n-RbdXjKCG1M"
   },
   "source": [
    "При решении подобных задач в случае получения нескольких различных собственных значений $\\lambda_{i}$ необходимо каждое из них поочередно подставлять в выражение $\\textbf{A}x=\\lambda x$ и находить собственные векторы, соответствующие данному собственному значению."
   ]
  },
  {
   "cell_type": "markdown",
   "metadata": {
    "colab_type": "text",
    "id": "Rqc51_XqCG1N"
   },
   "source": [
    "__Утверждение__\n",
    "\n",
    "У матрицы размера $n\\times n$ ровно $n$ собственных значений."
   ]
  },
  {
   "cell_type": "markdown",
   "metadata": {
    "colab_type": "text",
    "id": "r5OMbpmyCG1Q"
   },
   "source": [
    "В предыдущем примере в действительности решение квадратного уравнения приводило к получению двух равных корней $\\lambda_{1}=\\lambda_{2}=1$."
   ]
  },
  {
   "cell_type": "markdown",
   "metadata": {
    "colab_type": "text",
    "id": "veUkSAZ5CG1R"
   },
   "source": [
    "Причем собственные значения не всегда должны быть вещественными. Рассмотрим пример с оператором поворота."
   ]
  },
  {
   "cell_type": "markdown",
   "metadata": {
    "colab_type": "text",
    "id": "ESqLPAc8CG1S"
   },
   "source": [
    "__Пример__\n",
    "\n",
    "Оператор поворота, как мы помним, задается ортогональной матрицей. Возьмем, к примеру, матрицу вида\n",
    "\n",
    "$$\\begin{pmatrix}\n",
    "cos \\varphi & -sin \\varphi\\\\ \n",
    "sin \\varphi & cos \\varphi\n",
    "\\end{pmatrix},$$\n",
    "\n",
    "производящую поворот на угол $30^{\\circ}$:\n",
    "\n",
    "$$\\begin{pmatrix}\n",
    "\\frac{\\sqrt{3}}{2} & -\\frac{1}{2}\\\\ \n",
    "\\frac{1}{2} & \\frac{\\sqrt{3}}{2}\n",
    "\\end{pmatrix}.$$"
   ]
  },
  {
   "cell_type": "markdown",
   "metadata": {
    "colab_type": "text",
    "id": "AqpP9TnACG1W"
   },
   "source": [
    "Составим характеристическое уравнение:\n",
    "\n",
    "$$\\begin{vmatrix}\n",
    "\\frac{\\sqrt{3}}{2}-\\lambda & -\\frac{1}{2}\\\\ \n",
    "\\frac{1}{2} & \\frac{\\sqrt{3}}{2}-\\lambda\n",
    "\\end{vmatrix}=0,$$\n",
    "\n",
    "$$\\left(\\frac{\\sqrt{3}}{2}-\\lambda \\right)^{2} + \\frac{1}{4}=0.$$"
   ]
  },
  {
   "cell_type": "markdown",
   "metadata": {
    "colab_type": "text",
    "id": "kd7_o5j4CG1Z"
   },
   "source": [
    "Оно будет иметь комплексные корни $$\\lambda = \\frac{\\sqrt{3}}{2}\\pm\\frac{i}{2}.$$"
   ]
  },
  {
   "cell_type": "markdown",
   "metadata": {
    "colab_type": "text",
    "id": "XacGpxyfCG1a"
   },
   "source": [
    "У такого преобразования нет действительных собственных векторов, что очевидно в геометрическом смысле: ни один ненулевой вектор после поворота на 30 градусов не отобразится в коллинеарный исходному."
   ]
  },
  {
   "cell_type": "markdown",
   "metadata": {
    "colab_type": "text",
    "id": "q2oAiDNJCG1b"
   },
   "source": [
    "В NumPy собственные векторы и собственные значения оператора вычисляются с помощью функции `numpy.linalg.eig(a)`, где `a` — матрица этого оператора. В качестве результата она выдает два массива: одномерный массив `w` собственных чисел и двумерный массив `v`, в котором по столбцам записаны собственные векторы, так что вектор `v[:, i]` соотвествует собственному значению `w[i]`."
   ]
  },
  {
   "cell_type": "code",
   "execution_count": 7,
   "metadata": {
    "colab": {},
    "colab_type": "code",
    "id": "YUyxl7VXCG1c"
   },
   "outputs": [],
   "source": [
    "import numpy as np\n",
    "np.set_printoptions(precision=2, suppress=True)"
   ]
  },
  {
   "cell_type": "code",
   "execution_count": 8,
   "metadata": {
    "colab": {},
    "colab_type": "code",
    "id": "AJo34s7fCG1h",
    "outputId": "0f6152c1-6b34-4eca-8ada-769688db3548"
   },
   "outputs": [
    {
     "name": "stdout",
     "output_type": "stream",
     "text": [
      "Матрица A:\n",
      "[[1 1]\n",
      " [0 1]]\n",
      "Собственные значения:\n",
      "[1. 1.]\n",
      "Собственные векторы:\n",
      "[[ 1. -1.]\n",
      " [ 0.  0.]]\n"
     ]
    }
   ],
   "source": [
    "a = np.array([[1, 1], [0, 1]])\n",
    "w, v = np.linalg.eig(a)\n",
    "\n",
    "print(f'Матрица A:\\n{a}')\n",
    "print(f'Собственные значения:\\n{w}')\n",
    "print(f'Собственные векторы:\\n{v}')"
   ]
  },
  {
   "cell_type": "code",
   "execution_count": 9,
   "metadata": {
    "colab": {},
    "colab_type": "code",
    "id": "QRKtlkcxCG1p",
    "outputId": "16bc2510-3a24-4ffb-d707-31075ada897f"
   },
   "outputs": [
    {
     "name": "stdout",
     "output_type": "stream",
     "text": [
      "Матрица B:\n",
      "[[ 0.87 -0.5 ]\n",
      " [ 0.5   0.87]]\n",
      "Собственные значения:\n",
      "[0.87+0.5j 0.87-0.5j]\n",
      "Собственные векторы:\n",
      "[[ 0.  -0.71j  0.  +0.71j]\n",
      " [-0.71+0.j   -0.71-0.j  ]]\n"
     ]
    }
   ],
   "source": [
    "b = np.array([[np.sqrt(3)/2, -0.5], [0.5, np.sqrt(3)/2]])\n",
    "w, v = np.linalg.eig(b)\n",
    "\n",
    "print(f'Матрица B:\\n{b}')\n",
    "print(f'Собственные значения:\\n{w}')\n",
    "print(f'Собственные векторы:\\n{v}')"
   ]
  },
  {
   "cell_type": "markdown",
   "metadata": {
    "colab_type": "text",
    "id": "9xVsO3lJCG1v"
   },
   "source": [
    "### Примеры задач"
   ]
  },
  {
   "cell_type": "markdown",
   "metadata": {
    "colab_type": "text",
    "id": "WfAtaqHsCG1w"
   },
   "source": [
    "__Пример 1__"
   ]
  },
  {
   "cell_type": "markdown",
   "metadata": {
    "colab_type": "text",
    "id": "elz4LiXCCG1y"
   },
   "source": [
    "Пусть линейный оператор задан матрицей\n",
    "\n",
    "$$A=\\begin{pmatrix}\n",
    "1 & 1\\\\ \n",
    "-1 & 3\n",
    "\\end{pmatrix}.$$\n",
    "\n",
    "Выясним, является ли вектор $x=(1,-2)$ собственным вектором этого линейного оператора."
   ]
  },
  {
   "cell_type": "markdown",
   "metadata": {
    "colab_type": "text",
    "id": "AtahhqX2CG12"
   },
   "source": [
    "__Решение__\n",
    "\n",
    "Предположим, что вектор $x$ является собственным вектором заданного линейного оператора, тогда должно существовать некоторое вещественное число $\\lambda$, при котором \n",
    "\n",
    "$$\\begin{pmatrix}\n",
    "1 & 1\\\\ \n",
    "-1 & 3\n",
    "\\end{pmatrix}\n",
    "\\begin{pmatrix}\n",
    "1\\\\ \n",
    "-2 \n",
    "\\end{pmatrix}=\n",
    "\\lambda\n",
    "\\begin{pmatrix}\n",
    "1\\\\ \n",
    "-2\n",
    "\\end{pmatrix}.\n",
    "$$\n",
    "\n",
    "Из этого будет следовать, что \n",
    "\n",
    "$$\\begin{cases}\n",
    "1-2=1\\cdot\\lambda \\\\ \n",
    "-1-7 = -2\\cdot \\lambda\n",
    "\\end{cases}\n",
    "\\Rightarrow\n",
    "\\begin{cases}\n",
    "\\lambda=-1\\\\ \n",
    "\\lambda=3,5\n",
    "\\end{cases}.$$\n",
    "\n",
    "Такая система не имеет смысла, следовательно, вектор $x=(1,-2)$ не является собственным вектором линейного оператора, заданного матрицей $A$."
   ]
  },
  {
   "cell_type": "markdown",
   "metadata": {
    "colab_type": "text",
    "id": "cY-7lS4vCG2M"
   },
   "source": [
    "__Пример 2__"
   ]
  },
  {
   "cell_type": "markdown",
   "metadata": {
    "colab_type": "text",
    "id": "2COh_Om7CG2O"
   },
   "source": [
    "Пусть линейный оператор задан матрицей\n",
    "\n",
    "$$A=\\begin{pmatrix}\n",
    "0 & 3 & 0\\\\ \n",
    "3 & 0 & 0\\\\\n",
    "0 & 0 & 3\n",
    "\\end{pmatrix}.$$\n",
    "\n",
    "Выясним, является ли вектор $x=(1, 1, 2)$ собственным вектором этого линейного оператора."
   ]
  },
  {
   "cell_type": "markdown",
   "metadata": {
    "colab_type": "text",
    "id": "rzVjSolwCG2P"
   },
   "source": [
    "__Решение__\n",
    "\n",
    "Предположим, что вектор $x$ является собственным вектором заданного линейного оператора. Аналогично методике из предыдущего примера получим:\n",
    "\n",
    "$$\\begin{pmatrix}\n",
    "0 & 3 & 0\\\\ \n",
    "3 & 0 & 0\\\\\n",
    "0 & 0 & 3\n",
    "\\end{pmatrix}\n",
    "\\begin{pmatrix}\n",
    "1\\\\\n",
    "1\\\\\n",
    "2\n",
    "\\end{pmatrix}=\n",
    "\\lambda\n",
    "\\begin{pmatrix}\n",
    "1\\\\\n",
    "1\\\\\n",
    "2\n",
    "\\end{pmatrix}\n",
    "$$\n",
    "\n",
    "$$\\Rightarrow\n",
    "\\begin{cases}\n",
    "\\lambda=3\\\\ \n",
    "\\lambda=3\\\\\n",
    "2\\lambda=6\n",
    "\\end{cases}\n",
    "\\Rightarrow\n",
    "\\lambda=3.$$\n",
    "\n",
    "Таким образом, вектор $x=(1,1,2)$ является собственным вектором линейного оператора, заданного матрицей $A$, и его собственное значение составляет $\\lambda=3.$"
   ]
  },
  {
   "cell_type": "markdown",
   "metadata": {
    "colab_type": "text",
    "id": "qyU0wiO2CG2Q"
   },
   "source": [
    "## Практическое задание"
   ]
  },
  {
   "cell_type": "markdown",
   "metadata": {
    "colab_type": "text",
    "id": "sNOgFRFrCG2S"
   },
   "source": [
    "__1.__ Найти собственные векторы и собственные значения для линейного оператора, заданного матрицей\n",
    "\n",
    "$$A=\\begin{pmatrix}\n",
    "-1 & -6\\\\ \n",
    "2 & 6\n",
    "\\end{pmatrix}.$$"
   ]
  },
  {
   "cell_type": "markdown",
   "metadata": {},
   "source": [
    "#### Ответ:"
   ]
  },
  {
   "cell_type": "code",
   "execution_count": 11,
   "metadata": {},
   "outputs": [],
   "source": [
    "def is_eig(A):\n",
    "    w, v = np.linalg.eig(A)\n",
    "    print(f'Матрица A:\\n{A}')\n",
    "    print(f'Собственные значения:\\n{w}')\n",
    "    print(f'Собственные векторы:\\n{v}')"
   ]
  },
  {
   "cell_type": "code",
   "execution_count": 12,
   "metadata": {},
   "outputs": [
    {
     "name": "stdout",
     "output_type": "stream",
     "text": [
      "Матрица A:\n",
      "[[-1 -6]\n",
      " [ 2  6]]\n",
      "Собственные значения:\n",
      "[2. 3.]\n",
      "Собственные векторы:\n",
      "[[-0.89  0.83]\n",
      " [ 0.45 -0.55]]\n"
     ]
    }
   ],
   "source": [
    "A = np.array([[-1, -6], [2, 6]])\n",
    "is_eig(A)"
   ]
  },
  {
   "cell_type": "code",
   "execution_count": null,
   "metadata": {},
   "outputs": [],
   "source": []
  },
  {
   "cell_type": "markdown",
   "metadata": {},
   "source": [
    "__2.__ Дан оператор поворота на 180 градусов, задаваемый матрицей \n",
    "\n",
    "$$A=\\begin{pmatrix}\n",
    "-1 & 0\\\\ \n",
    "0 & -1\n",
    "\\end{pmatrix}.$$\n",
    "\n",
    "Показать, что __любой__ вектор является для него собственным."
   ]
  },
  {
   "cell_type": "markdown",
   "metadata": {},
   "source": [
    "#### Ответ:"
   ]
  },
  {
   "cell_type": "markdown",
   "metadata": {},
   "source": [
    "$$-1\\begin{pmatrix}\n",
    "1 & 0\\\\ \n",
    "0 & 1\n",
    "\\end{pmatrix}\n",
    "\\begin{pmatrix}\n",
    "x_{1}\\\\ \n",
    "x_{2}\n",
    "\\end{pmatrix}=\n",
    "\\lambda\n",
    "\\begin{pmatrix}\n",
    "x_{1}\\\\ \n",
    "x_{2}\n",
    "\\end{pmatrix}.\n",
    "$$\n",
    "$$\\lambda=-1$$\n",
    "Справедливо для любого вектора"
   ]
  },
  {
   "cell_type": "code",
   "execution_count": null,
   "metadata": {},
   "outputs": [],
   "source": []
  },
  {
   "cell_type": "markdown",
   "metadata": {},
   "source": [
    "__3.__ Пусть линейный оператор задан матрицей\n",
    "\n",
    "$$A=\\begin{pmatrix}\n",
    "1 & 1\\\\ \n",
    "-1 & 3\n",
    "\\end{pmatrix}.$$\n",
    "\n",
    "Установить, является ли вектор $x=(1,1)$ собственным вектором этого линейного оператора."
   ]
  },
  {
   "cell_type": "markdown",
   "metadata": {},
   "source": [
    "#### Ответ:"
   ]
  },
  {
   "cell_type": "markdown",
   "metadata": {},
   "source": [
    "$$\n",
    "$$$$\\begin{cases}\n",
    "1+1=1\\cdot\\lambda \\\\ \n",
    "-1+3 = 1\\cdot \\lambda\n",
    "\\end{cases}\n",
    "\\Rightarrow\n",
    "\\begin{cases}\n",
    "\\lambda=2\\\\ \n",
    "\\lambda=2\n",
    "\\end{cases}.$$\n",
    "Вектор $x=(1,1)$ является собственным вектором линейного оператора, заданного матрицей $A$."
   ]
  },
  {
   "cell_type": "code",
   "execution_count": 13,
   "metadata": {},
   "outputs": [
    {
     "name": "stdout",
     "output_type": "stream",
     "text": [
      "Матрица A:\n",
      "[[ 1  1]\n",
      " [-1  3]]\n",
      "Собственные значения:\n",
      "[2. 2.]\n",
      "Собственные векторы:\n",
      "[[ 0.71 -0.71]\n",
      " [ 0.71 -0.71]]\n"
     ]
    }
   ],
   "source": [
    "A = np.array([[1, 1], [-1, 3]])\n",
    "is_eig(A)"
   ]
  },
  {
   "cell_type": "code",
   "execution_count": null,
   "metadata": {},
   "outputs": [],
   "source": []
  },
  {
   "cell_type": "markdown",
   "metadata": {},
   "source": [
    "__4.__ Пусть линейный оператор задан матрицей\n",
    "\n",
    "$$A=\\begin{pmatrix}\n",
    "0 & 3 & 0\\\\ \n",
    "3 & 0 & 0\\\\\n",
    "0 & 0 & 3\n",
    "\\end{pmatrix}.$$\n",
    "\n",
    "Установить, является ли вектор $x=(3, -3, -4)$ собственным вектором этого линейного оператора."
   ]
  },
  {
   "cell_type": "markdown",
   "metadata": {},
   "source": [
    "#### Ответ:"
   ]
  },
  {
   "cell_type": "markdown",
   "metadata": {},
   "source": [
    "$$\\begin{pmatrix}\n",
    "0 & 3 & 0\\\\ \n",
    "3 & 0 & 0\\\\\n",
    "0 & 0 & 3\n",
    "\\end{pmatrix}\n",
    "\\begin{pmatrix}\n",
    "3\\\\ \n",
    "-3\\\\\n",
    "-4\n",
    "\\end{pmatrix}=\n",
    "\\lambda\n",
    "\\begin{pmatrix}\n",
    "3\\\\ \n",
    "-3\\\\\n",
    "-4\n",
    "\\end{pmatrix}\n",
    "$$\n",
    "$$\\begin{cases}\n",
    "-9=3\\cdot\\lambda \\\\ \n",
    "9=-3\\cdot\\lambda \\\\ \n",
    "-12=-4\\cdot \\lambda\n",
    "\\end{cases}\n",
    "\\Rightarrow\n",
    "\\begin{cases}\n",
    "\\lambda=-3\\\\ \n",
    "\\lambda=-3\\\\ \n",
    "\\lambda=3\n",
    "\\end{cases}.$$\n",
    "Вектор $x=(3, -3, -4)$ не является собственным вектором линейного оператора, заданного матрицей $A$."
   ]
  },
  {
   "cell_type": "code",
   "execution_count": 14,
   "metadata": {},
   "outputs": [
    {
     "name": "stdout",
     "output_type": "stream",
     "text": [
      "Матрица A:\n",
      "[[0 3 0]\n",
      " [3 0 0]\n",
      " [0 0 3]]\n",
      "Собственные значения:\n",
      "[ 3. -3.  3.]\n",
      "Собственные векторы:\n",
      "[[ 0.71 -0.71  0.  ]\n",
      " [ 0.71  0.71  0.  ]\n",
      " [ 0.    0.    1.  ]]\n"
     ]
    }
   ],
   "source": [
    "A = np.array([[0, 3, 0], [3, 0, 0], [0, 0, 3]])\n",
    "is_eig(A)"
   ]
  },
  {
   "cell_type": "code",
   "execution_count": null,
   "metadata": {},
   "outputs": [],
   "source": []
  },
  {
   "cell_type": "markdown",
   "metadata": {
    "colab_type": "text",
    "id": "FRcaWGNmCG2T"
   },
   "source": [
    "## Литература"
   ]
  },
  {
   "cell_type": "markdown",
   "metadata": {
    "colab_type": "text",
    "id": "32CUrSgMCG2U"
   },
   "source": [
    "1. Ильин В. А., Позняк Э. Г. Линейная алгебра: Учеб. для вузов. — 6-е изд. — М.: Физматлит, 2005.\n",
    "\n",
    "2. Фаддеев Д. К., Фаддеева В. Н. Вычислительные методы линейной алгебры. М.: ГИФМЛ, 1960.\n",
    "\n",
    "3. Уилкинсон Дж. Х. Алгебраическая проблема собственных значений. М.: Наука, 1970."
   ]
  },
  {
   "cell_type": "markdown",
   "metadata": {
    "colab_type": "text",
    "id": "u60X7ANcCG2V"
   },
   "source": [
    "## Дополнительные материалы\n",
    "\n",
    "1. [Собственные векторы и собственные значения в NumPy](https://docs.scipy.org/doc/numpy/reference/generated/numpy.linalg.eig.html)."
   ]
  }
 ],
 "metadata": {
  "colab": {
   "collapsed_sections": [
    "u60X7ANcCG2V"
   ],
   "name": "Lesson_5-REVISED.ipynb",
   "provenance": [],
   "version": "0.3.2"
  },
  "kernelspec": {
   "display_name": "Python 3",
   "language": "python",
   "name": "python3"
  },
  "language_info": {
   "codemirror_mode": {
    "name": "ipython",
    "version": 3
   },
   "file_extension": ".py",
   "mimetype": "text/x-python",
   "name": "python",
   "nbconvert_exporter": "python",
   "pygments_lexer": "ipython3",
   "version": "3.7.1"
  }
 },
 "nbformat": 4,
 "nbformat_minor": 1
}
