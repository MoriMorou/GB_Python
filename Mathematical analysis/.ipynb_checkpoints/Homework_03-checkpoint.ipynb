{
 "cells": [
  {
   "cell_type": "markdown",
   "metadata": {},
   "source": [
    "### Дифференциальное исчисление"
   ]
  },
  {
   "cell_type": "markdown",
   "metadata": {},
   "source": [
    "#### 1. Найти производную выражения:\n",
    "$sin(x) * cos(x)$"
   ]
  },
  {
   "cell_type": "markdown",
   "metadata": {},
   "source": [
    "$(sin(x) * cos(x))'$ = $(sin(x))'*cos(x) + (cos(x)')*sin(x)$ = $cos^2(x) - sin^2(x)$ = $cos(2x)$"
   ]
  },
  {
   "cell_type": "markdown",
   "metadata": {},
   "source": [
    "#### 2. Найти производную выражения:\n",
    "$ln(2x + 1)^3$"
   ]
  },
  {
   "cell_type": "markdown",
   "metadata": {},
   "source": [
    "$(ln(2x + 1)^3)'$ = $\\frac{1}{(2x + 1)^3}((2x + 1)^3)'$ = $\\frac{1}{(2x + 1)^3}6(2x + 1)^2$ = $\\frac{6}{2x + 1}$"
   ]
  },
  {
   "cell_type": "markdown",
   "metadata": {},
   "source": [
    "#### 3. Найти производную выражения:\n",
    "$\\sqrt{sin^2(ln(x^3))}$"
   ]
  },
  {
   "cell_type": "markdown",
   "metadata": {},
   "source": [
    "$(\\sqrt{sin^2(ln(x^3))})'$ = $\\frac{1}{2\\sqrt{sin^2(ln(x^3))}}(sin^2(ln(x^3)))'$ = $\\frac{1}{2\\sqrt{sin^2(ln(x^3))}}2sin(ln(x^3))(sin(ln(x^3)))'$ = $\\frac{1}{2\\sqrt{sin^2(ln(x^3))}}2sin(ln(x^3))cos(ln(x^3))(ln(x^3))'$ = $\\frac{1}{2\\sqrt{sin^2(ln(x^3))}}2sin(ln(x^3))cos(ln(x^3))\\frac{1}{x^3}(x^3)'$ = $\\frac{sin(ln(x^3))}{\\sqrt{sin^2(ln(x^3))}}cos(ln(x^3))\\frac{3x^2}{x^3}$ = $\\frac{sin(ln(x^3))}{\\sqrt{sin^2(ln(x^3))}}cos(ln(x^3))\\frac{3}{x}$"
   ]
  },
  {
   "cell_type": "markdown",
   "metadata": {},
   "source": [
    "#### 4. Найти производную выражения:\n",
    "$\\frac{x^4}{ln(x)}$"
   ]
  },
  {
   "cell_type": "markdown",
   "metadata": {},
   "source": [
    "$(\\frac{x^4}{ln(x)})'$  = $\\frac{(x^4)'ln(x) - x^4(ln(x))'}{ln^2(x)}$ = $\\frac{4x^3ln(x) - \\frac{x^4}{x}}{ln^2(x)}$ = $\\frac{4x^3ln(x) - x^3}{ln^2(x)}$"
   ]
  },
  {
   "cell_type": "markdown",
   "metadata": {},
   "source": [
    "#### 5. Найти выражение производной функции и ее значение в точке:\n",
    "$f(x) = cos(x^2 + 3x)$, $x0 = \\sqrt{\\pi}$"
   ]
  },
  {
   "cell_type": "markdown",
   "metadata": {},
   "source": [
    "$f'(x) = -sin(x^2 + 3x)(x^2 + 3x)'$ = $-sin(x^2 + 3x)(2x + 3)$<br>\n",
    "$f'(\\sqrt{\\pi}) = -sin((\\sqrt{\\pi})^2 + 3\\sqrt{\\pi})(2\\sqrt{\\pi} + 3)$ = $-sin(\\pi + 3\\sqrt{\\pi})(2\\sqrt{\\pi} + 3)$"
   ]
  },
  {
   "cell_type": "markdown",
   "metadata": {},
   "source": [
    "#### 6. Найти значение производной функции в точке:\n",
    "$f(x) = \\frac{x^3 - x^2 - x - 1}{1 + 2x + 3x^2 - 4x^3}$, $x0 = 0$"
   ]
  },
  {
   "cell_type": "markdown",
   "metadata": {},
   "source": [
    "$g(x) = x^3 - x^2 - x - 1$<br>\n",
    "$h(x) = 1 + 2x + 3x^2 - 4x^3$<br>\n",
    "$f'(x) = \\frac{g'(x)h(x) - g(x)h'(x)}{h^2(x)}$<br>\n",
    "$g'(x) = 3x^2 - 2x - 1$<br>\n",
    "$h'(x) = 2 + 6x - 12x^2$<br>\n",
    "$g(0) = -1$, $h(0) = 1$<br>\n",
    "$g'(0) = -1$, $h'(0) = 2$<br>\n",
    "$f'(0) = \\frac{-1 * 1 - (-1) * 2}{1 ^ 2}$ = $\\frac{-1 - (-2)}{1}$ = $\\frac{1}{1}$ = $1$"
   ]
  },
  {
   "cell_type": "markdown",
   "metadata": {},
   "source": [
    "#### 7. Найти угол наклона касательной к графику функции в точке:\n",
    "\n",
    "$f(x) = \\sqrt{3x}ln(x)$, $x01 = 1$"
   ]
  },
  {
   "cell_type": "markdown",
   "metadata": {},
   "source": [
    "$f'(x) = (\\sqrt{3x}ln(x))'$ = $(\\sqrt{3x})'ln(x) + \\sqrt{3x}(ln(x))'$ = $\\frac{3}{2\\sqrt{3x}}ln(x) + \\sqrt{3x}\\frac{1}{x}$<br>\n",
    "$f'(1) = \\frac{2}{2\\sqrt{3}}ln(1) + \\sqrt{3}\\frac{1}{1}$ = $\\sqrt{3}$<br>\n",
    "$tg(a) = \\sqrt{3}$<br>\n",
    "$a = arctg(a)$ = $\\frac{\\pi}{3}$ = $60^{\\circ}$"
   ]
  },
  {
   "cell_type": "markdown",
   "metadata": {},
   "source": [
    "### Ряды"
   ]
  },
  {
   "cell_type": "markdown",
   "metadata": {},
   "source": [
    "#### 1. Исследовать ряд на сходимость, используя признак д’Аламбера:\n",
    "$\\sum\\limits_{n=1}^\\infty\\frac{n^n}{(n!)^2}$"
   ]
  },
  {
   "cell_type": "markdown",
   "metadata": {},
   "source": [
    "$\\lim_{n \\to \\infty}\\frac{\\frac{(n+1)^{n+1}}{((n+1)!)^2}}{\\frac{n^n}{(n!)^2}}$ = $\\lim_{n \\to \\infty}\\frac{(n+1)^{n+1}(n!)^{2}}{((n+1)!)^2n^n}$ =  $\\lim_{n \\to \\infty}\\frac{(n+1)^n(n+1)n!n!}{n!(n+1)n!(n+1)n^n}$ =  $\\lim_{n \\to \\infty}\\frac{(n+1)^n}{(n+1)n^n}$ = $\\lim_{n \\to \\infty}\\frac{1}{n+1}\\lim_{n \\to \\infty}(\\frac{n+1}{n})^n$ = $\\lim_{n \\to \\infty}\\frac{1}{n+1}\\lim_{n \\to \\infty}(1 + \\frac{1}{n})^n$ = $0e$ = $0$ $\\Rightarrow$ ряд сходитя"
   ]
  },
  {
   "cell_type": "markdown",
   "metadata": {},
   "source": [
    "#### 2. Исследовать ряд на сходимость, используя радикальный признак Коши:\n",
    "$\\sum\\limits_{n=1}^\\infty\\frac{n}{2^n}$"
   ]
  },
  {
   "cell_type": "markdown",
   "metadata": {},
   "source": [
    "$\\lim_{n\\to\\infty}\\sqrt[n]{\\frac{n}{2^n}}$ = $\\frac{\\lim_{n\\to\\infty}\\sqrt[n]{n}}{\\lim_{n\\to\\infty}\\sqrt[n]{2^n}}$ = $\\frac{1}{2}$ $\\Rightarrow$ ряд сходитя"
   ]
  },
  {
   "cell_type": "markdown",
   "metadata": {},
   "source": [
    "#### 3. Исследовать ряд на сходимость, используя признак Лейбница:\n",
    "$\\sum\\limits_{n=1}^\\infty\\frac{(-1)^n}{n + ln(n)}$"
   ]
  },
  {
   "cell_type": "markdown",
   "metadata": {},
   "source": [
    "$\\lim_{n\\to\\infty}\\frac{1}{n + ln(n)}$ = $0$ $\\Rightarrow$ ряд сходитя"
   ]
  },
  {
   "cell_type": "markdown",
   "metadata": {},
   "source": [
    "#### 4. Исследовать ряд на сходимость, используя признак Раабе:\n",
    "$\\sum\\limits_{n=1}^\\infty\\frac{3^n}{2^n}$"
   ]
  },
  {
   "cell_type": "markdown",
   "metadata": {},
   "source": [
    "$Rn = n(\\frac{a(n)}{a(n+1)} - 1)$ = $n(\\frac{\\frac{3^n}{2^n}}{\\frac{3^{n+1}}{2^{n+1}}} - 1)$ = $n(\\frac{2}{3} - 1)$ = $-\\frac{1}{3}n$<br>\n",
    "$\\lim_{n\\to\\infty}-\\frac{1}{3}n$ < $1$ $\\Rightarrow$ ряд расходитя"
   ]
  },
  {
   "cell_type": "markdown",
   "metadata": {},
   "source": [
    "#### 5. Разложить функцию по Тейлору в единице:\n",
    "$f(x) = ln(16x^2)$"
   ]
  },
  {
   "cell_type": "markdown",
   "metadata": {},
   "source": [
    "$f(x) = ln(16x^2)$ = $ln(16) + ln(x^2)$ = $2ln(4) + 2ln(x)$<br>\n",
    "$f(x) = 2ln(4) + 2\\sum\\limits_{n=1}^\\infty(-1)^{n+1}(x-1)^n$"
   ]
  },
  {
   "cell_type": "markdown",
   "metadata": {},
   "source": [
    "#### 6. *Разложить функцию в ряд Фурье по косинусам на отрезке $x \\in [-2;0]$:\n",
    "$f(x) = x^2$"
   ]
  },
  {
   "cell_type": "markdown",
   "metadata": {},
   "source": [
    "#### 7. *Построить график функции и ее разложения:\n",
    "$f(x) = x^2$"
   ]
  },
  {
   "cell_type": "code",
   "execution_count": 1,
   "metadata": {},
   "outputs": [],
   "source": [
    "import numpy as np\n",
    "import matplotlib.pyplot as plt\n",
    "%matplotlib inline"
   ]
  },
  {
   "cell_type": "code",
   "execution_count": 2,
   "metadata": {},
   "outputs": [],
   "source": [
    "def f(x):\n",
    "    return np.power(x, 2)"
   ]
  },
  {
   "cell_type": "code",
   "execution_count": 3,
   "metadata": {},
   "outputs": [
    {
     "data": {
      "text/plain": [
       "[<matplotlib.lines.Line2D at 0x296e35bdef0>]"
      ]
     },
     "execution_count": 3,
     "metadata": {},
     "output_type": "execute_result"
    },
    {
     "data": {
      "image/png": "[encoded data removed]",
      "text/plain": [
       "<Figure size 432x288 with 1 Axes>"
      ]
     },
     "metadata": {
      "needs_background": "light"
     },
     "output_type": "display_data"
    }
   ],
   "source": [
    "x = np.linspace(-100, 100, 1000)\n",
    "y = np.array(list(map(f, x)))\n",
    "\n",
    "plt.plot(x, y, c='b')"
   ]
  },
  {
   "cell_type": "code",
   "execution_count": null,
   "metadata": {},
   "outputs": [],
   "source": []
  }
 ],
 "metadata": {
  "kernelspec": {
   "display_name": "Python 3",
   "language": "python",
   "name": "python3"
  },
  "language_info": {
   "codemirror_mode": {
    "name": "ipython",
    "version": 3
   },
   "file_extension": ".py",
   "mimetype": "text/x-python",
   "name": "python",
   "nbconvert_exporter": "python",
   "pygments_lexer": "ipython3",
   "version": "3.7.1"
  }
 },
 "nbformat": 4,
 "nbformat_minor": 2
}
