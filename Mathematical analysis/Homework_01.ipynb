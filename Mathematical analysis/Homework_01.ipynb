{
  "nbformat": 4,
  "nbformat_minor": 0,
  "metadata": {
    "colab": {
      "name": "lesson_01.ipynb",
      "version": "0.3.2",
      "provenance": [],
      "collapsed_sections": [],
      "include_colab_link": true
    },
    "language_info": {
      "codemirror_mode": {
        "name": "ipython",
        "version": 3
      },
      "file_extension": ".py",
      "mimetype": "text/x-python",
      "name": "python",
      "nbconvert_exporter": "python",
      "pygments_lexer": "ipython3",
      "version": "3.6.8"
    },
    "kernelspec": {
      "display_name": "Python 3",
      "language": "python",
      "name": "python3"
    }
  },
  "cells": [
    {
      "cell_type": "markdown",
      "metadata": {
        "id": "view-in-github",
        "colab_type": "text"
      },
      "source": [
        "<a href=\"https://colab.research.google.com/github/MoriMorou/GB_Python/blob/master/Homework_01.ipynb\" target=\"_parent\"><img src=\"https://colab.research.google.com/assets/colab-badge.svg\" alt=\"Open In Colab\"/></a>"
      ]
    },
    {
      "cell_type": "code",
      "metadata": {
        "id": "4ZK4soLP20-k",
        "colab_type": "code",
        "colab": {}
      },
      "source": [
        "import numpy as np\n",
        "import random\n",
        "import math\n",
        "import itertools\n",
        "from sympy import factorial"
      ],
      "execution_count": 0,
      "outputs": []
    },
    {
      "cell_type": "markdown",
      "metadata": {
        "id": "hO093MwZ-nHS",
        "colab_type": "text"
      },
      "source": [
        "## ***Тема 1. Знакомство с математическим анализом***\n"
      ]
    },
    {
      "cell_type": "markdown",
      "metadata": {
        "id": "Wa9nAG7c3Cvd",
        "colab_type": "text"
      },
      "source": [
        "**1. Как относятся друг к другу множество и последовательность? (в ответе использовать слова типа: часть, целое, общее, частное, родитель, дочерний субъект и т.д.)**\n",
        "\n",
        "**Ответ:**\n",
        "Поскольку последовательности являются результатом выбора элементов заданных множеств, я бы сказал что последовательность относится к множеству как дочерний субъект к родителю\n",
        "\n"
      ]
    },
    {
      "cell_type": "markdown",
      "metadata": {
        "id": "0vhnSPvp3Mt6",
        "colab_type": "text"
      },
      "source": [
        "**2. Прочитать высказывания математической логики, построить их отрицания и *установить истинность**\n",
        "\n",
        "**Ответ:**\n",
        "1. Для любого y от 0 до 1, сигнум равен 1.\n",
        "$$\\forall y \\in [0; 1] : sgn(y)=1$$\n",
        "Отрицание:\n",
        "$$\\exists y\\in [0; 1] : sgn(y)\\not=1$$ \n",
        "\n",
        "2. Для любого натурального числа n, большего 2, существуют такие натуральные x, y и z, при которых x в степени n равен сумме y в степени n и z в степени n. \n",
        "$$\\forall n\\in \\mathbb{N}>2 :\\exists x, y, z\\in \\mathbb{N} : x^n = y^n + z^n$$  \n",
        "Отрицание:\n",
        "$$\\exists n\\in \\mathbb{N}>2 :\\forall x, y, z\\in \\mathbb{N} : x^n\\ne y^n + z^n$$  \n",
        "\n",
        "3. Для любого вещественного числа x существует вещественное число X, которое больше x. \n",
        "$$\\forall x\\in \\mathbb{R}\\exists X\\in \\mathbb{R} : X > x$$\n",
        "Отрицание: \n",
        "$$\\exists x\\in \\mathbb{R}\\forall X\\in \\mathbb{R} : X\\leq x$$\n",
        "\n",
        "\n",
        "4. Для любого комплексного x не существует комплексного y, при котором x больше y или x меньше y.\n",
        "$$\\forall x\\in \\mathbb{C}\\forall y\\in \\mathbb{C} : x > y || x < y$$\n",
        "Отрицание: \n",
        "$$\\exists x\\in \\mathbb{C}\\forall y\\in \\mathbb{C} : x\\leq y, \\ x\\geq y$$\n",
        "\n",
        "\n",
        "5. Для любого y от 0 до pi/2 существует epsilon больше 0, при котором sin(y) < sin(y + epsilon).  \n",
        "$$\\forall y\\in[0; \\frac\\pi2]\\exists \\varepsilon > 0 : sin(y)< sin(y + \\varepsilon)$$\n",
        "Отрицание: $$\\exists y\\in[0; \\frac\\pi2]\\forall \\varepsilon\\leq 0 : sin(y)\\geq sin(y + \\varepsilon)$$\n",
        "\n",
        "\n",
        "6. Для любого y от 0 до pi (не включая pi) существует epsilon больше 0, при котором cos(y) > cos(y + epsilon).  \n",
        "$$\\forall y\\in[0; \\pi)\\exists\\varepsilon > 0 : cos(y) > \\cos(y + \\varepsilon)$$\n",
        "Отрицание: $$\\exists y\\in[0; \\pi)\\forall\\varepsilon\\leq 0 : cos(y)\\leq \\cos(y + \\varepsilon)$$\n",
        "\n",
        "\n",
        "7. Существует x, не принадлежащий множествам натуральных, целых, рациональных, вещественных и комплексных чисел.  \n",
        "$$\\exists x : x\\notin \\{ \\mathbb {N, Z, Q, R, C } \\}$$\n",
        "Отрицание: $$\\forall x : x\\notin \\{ \\mathbb {N, Z, Q, R, C } \\}$$"
      ]
    },
    {
      "cell_type": "markdown",
      "metadata": {
        "id": "M9yew8Ta-1pM",
        "colab_type": "text"
      },
      "source": [
        "## ***Тема 2. Множество***"
      ]
    },
    {
      "cell_type": "markdown",
      "metadata": {
        "id": "NY3iwVvW20-u",
        "colab_type": "text"
      },
      "source": [
        "**3. Даны три множества a, b и с. Необходимо выполнить все изученные виды бинарных операций над всеми комбинациями множеств.**\n",
        "\n",
        "**3.1. Выполнить задание 1 на языке Python**"
      ]
    },
    {
      "cell_type": "code",
      "metadata": {
        "id": "e5ZMS95P20-w",
        "colab_type": "code",
        "colab": {}
      },
      "source": [
        "random.seed(42)\n",
        "a = set([random.randint(0, 99) for _ in range(random.randint(1, 10))])\n",
        "b = set([random.randint(0, 99) for _ in range(random.randint(1, 10))])\n",
        "c = set([random.randint(0, 99) for _ in range(random.randint(1, 10))])"
      ],
      "execution_count": 0,
      "outputs": []
    },
    {
      "cell_type": "code",
      "metadata": {
        "id": "Xtqg7FqQ20-2",
        "colab_type": "code",
        "colab": {},
        "outputId": "2c353e36-cbff-439f-e6a9-1a942e27735d"
      },
      "source": [
        "print(f'a: {a}')\n",
        "print(f'b: {b}')\n",
        "print(f'c: {c}')"
      ],
      "execution_count": 0,
      "outputs": [
        {
          "output_type": "stream",
          "text": [
            "a: {3, 94}\n",
            "b: {13, 17, 28, 94, 31}\n",
            "c: {64, 3, 4, 75, 11, 54, 27, 29}\n"
          ],
          "name": "stdout"
        }
      ]
    },
    {
      "cell_type": "code",
      "metadata": {
        "id": "se8aX-uY20_B",
        "colab_type": "code",
        "colab": {}
      },
      "source": [
        "sets = {\n",
        "    'a': a,\n",
        "    'b': b,\n",
        "    'c': c\n",
        "}"
      ],
      "execution_count": 0,
      "outputs": []
    },
    {
      "cell_type": "code",
      "metadata": {
        "id": "-_Lvv76d20_H",
        "colab_type": "code",
        "colab": {},
        "outputId": "74d8498d-4b3c-4607-f348-d37b905eeff3"
      },
      "source": [
        "for combination in itertools.combinations(sets.keys(), 2):\n",
        "    x, y = combination[0], combination[1]\n",
        "    print(f'Множества: {x}, {y}')\n",
        "    print(f'x: {sets[x]},\\ny: {sets[y]}')\n",
        "    print(f'Объединение {x} | {y}: {sets[x] | sets[y]}')\n",
        "    print(f'Пересечение {x} & {y}: {sets[x] & sets[y]}')\n",
        "    print(f'Разность {x} - {y}: {sets[x] - sets[y]}')\n",
        "    print(f'Симметрическая разность {x} ^ {y}: {sets[x] ^ sets[y]}')\n",
        "    cartesian = []\n",
        "    for item in itertools.product(sets[x], sets[y]):\n",
        "        cartesian.append(item)\n",
        "    print(f'Декартово произведение {x} * {y}: {set(cartesian)}')\n",
        "    print()"
      ],
      "execution_count": 0,
      "outputs": [
        {
          "output_type": "stream",
          "text": [
            "Множества: a, b\n",
            "x: {3, 94},\n",
            "y: {13, 17, 28, 94, 31}\n",
            "Объединение a | b: {17, 3, 28, 13, 94, 31}\n",
            "Пересечение a & b: {94}\n",
            "Разность a - b: {3}\n",
            "Симметрическая разность a ^ b: {17, 3, 28, 13, 31}\n",
            "Декартово произведение a * b: {(3, 13), (3, 94), (3, 31), (94, 17), (94, 28), (3, 28), (94, 31), (94, 94), (3, 17), (94, 13)}\n",
            "\n",
            "Множества: a, c\n",
            "x: {3, 94},\n",
            "y: {64, 3, 4, 75, 11, 54, 27, 29}\n",
            "Объединение a | c: {64, 3, 4, 75, 11, 54, 27, 29, 94}\n",
            "Пересечение a & c: {3}\n",
            "Разность a - c: {94}\n",
            "Симметрическая разность a ^ c: {64, 4, 75, 11, 54, 27, 29, 94}\n",
            "Декартово произведение a * c: {(94, 27), (3, 3), (3, 54), (94, 64), (3, 64), (94, 3), (3, 75), (3, 11), (94, 54), (94, 75), (94, 11), (94, 29), (3, 29), (94, 4), (3, 4), (3, 27)}\n",
            "\n",
            "Множества: b, c\n",
            "x: {13, 17, 28, 94, 31},\n",
            "y: {64, 3, 4, 75, 11, 54, 27, 29}\n",
            "Объединение b | c: {64, 3, 4, 75, 11, 13, 17, 54, 27, 28, 29, 94, 31}\n",
            "Пересечение b & c: set()\n",
            "Разность b - c: {13, 17, 28, 94, 31}\n",
            "Симметрическая разность b ^ c: {64, 3, 4, 75, 11, 13, 17, 54, 27, 28, 29, 94, 31}\n",
            "Декартово произведение b * c: {(31, 75), (28, 4), (28, 29), (17, 29), (13, 4), (94, 29), (31, 54), (17, 3), (13, 54), (94, 64), (28, 75), (13, 3), (17, 64), (17, 11), (94, 54), (94, 11), (17, 54), (13, 29), (28, 27), (28, 64), (13, 64), (13, 11), (31, 11), (31, 29), (94, 3), (31, 4), (28, 3), (94, 4), (31, 3), (17, 27), (17, 4), (94, 27), (28, 11), (17, 75), (28, 54), (13, 27), (94, 75), (31, 27), (31, 64), (13, 75)}\n",
            "\n"
          ],
          "name": "stdout"
        }
      ]
    },
    {
      "cell_type": "markdown",
      "metadata": {
        "id": "5QS5T4W8_Ep6",
        "colab_type": "text"
      },
      "source": [
        "## ***Тема 3. Последовательность***\n"
      ]
    },
    {
      "cell_type": "markdown",
      "metadata": {
        "id": "Y17NrV_320_P",
        "colab_type": "text"
      },
      "source": [
        "**4. Даны 4 последовательности. Необходимо:**\n",
        "1.  исследовать их на монотонность;\n",
        "2.  исследовать на ограниченность;\n",
        "3.  найти пятый по счету член.\n",
        "\n"
      ]
    },
    {
      "cell_type": "code",
      "metadata": {
        "id": "XPXsk-jZ20_R",
        "colab_type": "code",
        "colab": {}
      },
      "source": [
        "def monotony(sequence):\n",
        "    for i in range(1, len(sequence)):\n",
        "        if sequence[i] > sequence[i-1]:\n",
        "            return 'Последовательность монотонно возрастает'\n",
        "        elif sequence[i] < sequence[i-1]:\n",
        "            return 'Последовательность монотонно убывает'\n",
        "        else:\n",
        "            return 'Последовательность не изменяетя'"
      ],
      "execution_count": 0,
      "outputs": []
    },
    {
      "cell_type": "code",
      "metadata": {
        "id": "tdB8Cpdr20_V",
        "colab_type": "code",
        "colab": {},
        "outputId": "abb355de-ad28-432b-b283-3c5f068d9e2d"
      },
      "source": [
        "# a: 2 ** n - n\n",
        "# n = 1, +oo\n",
        "\n",
        "# последовательность ограничена снизу числом 1\n",
        "\n",
        "def f1(n):\n",
        "    return 2 ** n - n\n",
        "\n",
        "ns = list(range(1, 11, 1))\n",
        "elements = list(map(f1, ns))\n",
        "\n",
        "print(monotony(elements))\n",
        "print(f'Перывые 10 элементов последовательности 2 ^ n - n: \\n{elements}')\n",
        "print(f'Пятый по счету член последовательности 2 ^ n - n: {f1(ns[4])}')"
      ],
      "execution_count": 0,
      "outputs": [
        {
          "output_type": "stream",
          "text": [
            "Последовательность монотонно возрастает\n",
            "Перывые 10 элементов последовательности 2 ^ n - n: \n",
            "[1, 2, 5, 12, 27, 58, 121, 248, 503, 1014]\n",
            "Пятый по счету член последовательности 2 ^ n - n: 27\n"
          ],
          "name": "stdout"
        }
      ]
    },
    {
      "cell_type": "code",
      "metadata": {
        "id": "IdrxK9lX20_Y",
        "colab_type": "code",
        "colab": {},
        "outputId": "5882a785-552b-45b3-c645-b4407dfd5951"
      },
      "source": [
        "# b: 1 / (n - 1)\n",
        "# n = 2, +oo\n",
        "\n",
        "# последовательность ограничена сверху числом 1\n",
        "\n",
        "def f2(n):\n",
        "    return 1 / (n - 1)\n",
        "\n",
        "ns = list(range(2, 12, 1))\n",
        "elements = list(map(f2, ns))\n",
        "\n",
        "print(monotony(elements))\n",
        "print(f'Перывые 10 элементов последовательности 1 / (n - 1): \\n{elements}')\n",
        "print(f'Пятый по счету член последовательности 1 / (n - 1): {f2(ns[4])}')"
      ],
      "execution_count": 0,
      "outputs": [
        {
          "output_type": "stream",
          "text": [
            "Последовательность монотонно убывает\n",
            "Перывые 10 элементов последовательности 1 / (n - 1): \n",
            "[1.0, 0.5, 0.3333333333333333, 0.25, 0.2, 0.16666666666666666, 0.14285714285714285, 0.125, 0.1111111111111111, 0.1]\n",
            "Пятый по счету член последовательности 1 / (n - 1): 0.2\n"
          ],
          "name": "stdout"
        }
      ]
    },
    {
      "cell_type": "code",
      "metadata": {
        "id": "YD19jgFP20_b",
        "colab_type": "code",
        "colab": {},
        "outputId": "a739962c-69ab-47a0-a012-7cfb46bc04a6"
      },
      "source": [
        "# b: -1 ** n + sqrt(2 * n)\n",
        "# n = 1, +oo\n",
        "\n",
        "# последовательность ограничена снизу числом -1\n",
        "\n",
        "def f3(n):\n",
        "    return -1 ** n + math.sqrt(2 * n)\n",
        "\n",
        "ns = list(range(1, 11, 1))\n",
        "elements = list(map(f3, ns))\n",
        "\n",
        "print(monotony(elements))\n",
        "print(f'Перывые 10 элементов последовательности -1 ^ n + sqrt(2 * n): \\n{elements}')\n",
        "print(f'Пятый по счету член последовательности -1 ^ n + sqrt(2 * n): {f3(ns[4])}')"
      ],
      "execution_count": 0,
      "outputs": [
        {
          "output_type": "stream",
          "text": [
            "Последовательность монотонно возрастает\n",
            "Перывые 10 элементов последовательности -1 ^ n + sqrt(2 * n): \n",
            "[0.41421356237309515, 1.0, 1.4494897427831779, 1.8284271247461903, 2.1622776601683795, 2.4641016151377544, 2.7416573867739413, 3.0, 3.2426406871192848, 3.4721359549995796]\n",
            "Пятый по счету член последовательности -1 ^ n + sqrt(2 * n): 2.1622776601683795\n"
          ],
          "name": "stdout"
        }
      ]
    },
    {
      "cell_type": "code",
      "metadata": {
        "id": "vVjiuEI620_f",
        "colab_type": "code",
        "colab": {},
        "outputId": "a31c15d6-4c77-4f96-9679-2e58c475e732"
      },
      "source": [
        "# b: (-1) ** (2 * n) + 1 / (n ** 2)\n",
        "# n = 1, +oo\n",
        "\n",
        "# последовательность ограничена сверху числом 2\n",
        "\n",
        "def f4(n):\n",
        "    return (-1) ** (2 * n) + 1 / (n ** 2)\n",
        "\n",
        "ns = list(range(1, 11, 1))\n",
        "elements = list(map(f4, ns))\n",
        "\n",
        "print(monotony(elements))\n",
        "print(f'Перывые 10 элементов последовательности (-1) ^ (2 * n) + 1 / (n ^ 2): \\n{elements}')\n",
        "print(f'Пятый по счету член последовательности (-1) ^ (2 * n) + 1 / (n ^ 2): {f4(ns[4])}')"
      ],
      "execution_count": 0,
      "outputs": [
        {
          "output_type": "stream",
          "text": [
            "Последовательность монотонно убывает\n",
            "Перывые 10 элементов последовательности (-1) ^ (2 * n) + 1 / (n ^ 2): \n",
            "[2.0, 1.25, 1.1111111111111112, 1.0625, 1.04, 1.0277777777777777, 1.0204081632653061, 1.015625, 1.0123456790123457, 1.01]\n",
            "Пятый по счету член последовательности (-1) ^ (2 * n) + 1 / (n ^ 2): 1.04\n"
          ],
          "name": "stdout"
        }
      ]
    },
    {
      "cell_type": "markdown",
      "metadata": {
        "id": "xL31NXBJ20_i",
        "colab_type": "text"
      },
      "source": [
        "**4. a1 = 128, a(n+1) - a(n) = 6, найти 12-й член заданной неявно последовательности**"
      ]
    },
    {
      "cell_type": "code",
      "metadata": {
        "id": "WCErwgCL20_j",
        "colab_type": "code",
        "colab": {},
        "outputId": "73e7a8b0-87d5-45e9-f8f8-589ffe3d135f"
      },
      "source": [
        "a1 = 128\n",
        "d = 6\n",
        "\n",
        "# a(n) = a1 + (n - 1) * d\n",
        "\n",
        "a12 = a1 + (12 - 1) * d\n",
        "\n",
        "print(f'a12: {a12}')"
      ],
      "execution_count": 0,
      "outputs": [
        {
          "output_type": "stream",
          "text": [
            "a12: 194\n"
          ],
          "name": "stdout"
        }
      ]
    },
    {
      "cell_type": "code",
      "metadata": {
        "id": "HopBLHtI20_m",
        "colab_type": "code",
        "colab": {},
        "outputId": "c83932ea-9dd7-4e2a-e34b-2a3a83e7433e"
      },
      "source": [
        "a1 = 128\n",
        "d = 6\n",
        "\n",
        "a12 = a1\n",
        "for _ in range(11):\n",
        "    a12 += d\n",
        "    \n",
        "print(f'a12: {a12}')"
      ],
      "execution_count": 0,
      "outputs": [
        {
          "output_type": "stream",
          "text": [
            "a12: 194\n"
          ],
          "name": "stdout"
        }
      ]
    },
    {
      "cell_type": "markdown",
      "metadata": {
        "id": "_b6xMg9i20_p",
        "colab_type": "text"
      },
      "source": [
        "**5. На языке Python предложить алгоритм вычисляющий численно предел с точностью e=10^(-7)**\n",
        "\n",
        "**6. Предложить оптимизацию алгоритма,полученного в задании 5, ускоряющую его сходимость.**"
      ]
    },
    {
      "cell_type": "code",
      "metadata": {
        "id": "PcRHO_eA20_q",
        "colab_type": "code",
        "colab": {}
      },
      "source": [
        "# n / (n! ** (1 / n))\n",
        "# n = 1, +oo\n",
        "\n",
        "def f(n):\n",
        "    return n / pow(factorial(n), 1 / n)"
      ],
      "execution_count": 0,
      "outputs": []
    },
    {
      "cell_type": "code",
      "metadata": {
        "id": "Xt9OdmqL20_u",
        "colab_type": "code",
        "colab": {},
        "outputId": "c1ae8790-68c0-48fd-c143-358b0a2a7460"
      },
      "source": [
        "%%time\n",
        "eps = 10 ** -7\n",
        "i = 1\n",
        "n = 1\n",
        "x0 = f(n)\n",
        "while True:\n",
        "    i += 1\n",
        "    n += 1\n",
        "    x1 = f(n)\n",
        "    if abs(x0 - x1) <= eps:\n",
        "        break\n",
        "    x0 = x1\n",
        "print(f'n_iter: {i}')\n",
        "print(f'f(n) = {x0}')"
      ],
      "execution_count": 0,
      "outputs": [
        {
          "output_type": "stream",
          "text": [
            "n_iter: 11779\n",
            "f(n) = 2.71698832372746\n",
            "CPU times: user 9 s, sys: 154 ms, total: 9.15 s\n",
            "Wall time: 9.18 s\n"
          ],
          "name": "stdout"
        }
      ]
    },
    {
      "cell_type": "code",
      "metadata": {
        "id": "NhBDwsxv20_4",
        "colab_type": "code",
        "colab": {},
        "outputId": "24bae3b1-dd6b-4b80-a6b6-7cd69c2fa0df"
      },
      "source": [
        "%%time\n",
        "eps = 10 ** -7\n",
        "i = 1\n",
        "n = 1\n",
        "x0 = f(n)\n",
        "while True:\n",
        "    i += 1\n",
        "    n += random.randint(1, 100)\n",
        "    x1 = f(n)\n",
        "    if abs(x0 - x1) <= eps:\n",
        "        break\n",
        "    x0 = x1\n",
        "print(f'n_iter: {i}')\n",
        "print(f'f(n) = {x0}')"
      ],
      "execution_count": 0,
      "outputs": [
        {
          "output_type": "stream",
          "text": [
            "n_iter: 236\n",
            "f(n) = 2.71702913610648\n",
            "CPU times: user 132 ms, sys: 2.26 ms, total: 135 ms\n",
            "Wall time: 133 ms\n"
          ],
          "name": "stdout"
        }
      ]
    },
    {
      "cell_type": "code",
      "metadata": {
        "id": "mmr1xax720_8",
        "colab_type": "code",
        "colab": {}
      },
      "source": [
        ""
      ],
      "execution_count": 0,
      "outputs": []
    }
  ]
}