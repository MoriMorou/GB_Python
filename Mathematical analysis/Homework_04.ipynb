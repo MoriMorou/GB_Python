{
 "cells": [
  {
   "cell_type": "markdown",
   "metadata": {},
   "source": [
    "#### Интегральное исчисление"
   ]
  },
  {
   "cell_type": "markdown",
   "metadata": {},
   "source": [
    "#### 1. Найти неопределенный интеграл:\n",
    "$\\int_{}^{}(2x^2 - 2x - 1 + sin(x) - cos(x) + ln(x) + e^x)dx$"
   ]
  },
  {
   "cell_type": "markdown",
   "metadata": {},
   "source": [
    "$\\int_{}^{}(2x^2 - 2x - 1 + sin(x) - cos(x) + ln(x) + e^x)dx$ = $2\\int_{}^{}x^2dx - 2\\int_{}^{}xdx - \\int_{}^{}1dx + \\int_{}^{}sin(x)dx - \\int_{}^{}cos(x)dx  + \\int_{}^{}ln(x)dx + \\int_{}^{}e^xdx$<br>\n",
    "$\\int_{}^{}x^2dx$ = $\\frac{x^3}{3} + C$<br>\n",
    "$\\int_{}^{}xdx$ = $\\frac{x^2}{2} + C$<br>\n",
    "$\\int_{}^{}1dx$ = $x + C$<br>\n",
    "$\\int_{}^{}sin(x)dx$ = $-cos(x) + C$<br>\n",
    "$\\int_{}^{}cos(x)dx$ = $sin(x) + C$<br>\n",
    "$\\int_{}^{}ln(x)dx$ = $xln(x) - x + C$<br>\n",
    "$\\int_{}^{}e^xdx$ = $e^x + C$<br>\n",
    "$\\int_{}^{}(2x^2 - 2x - 1 + sin(x) - cos(x) + ln(x) + e^x)dx$ = $\\frac{2x^3}{3} - x^2 - x - cos(x) - sin(x) + xln(x) - x + e^x + C$ = $\\frac{2x^3}{3} - x^2 - 1x - cos(x) - sin(x) + xln(x) + e^x + C$"
   ]
  },
  {
   "cell_type": "markdown",
   "metadata": {},
   "source": [
    "#### 2. Найти неопределенный интеграл:\n",
    "$\\int_{}^{}(2x + 6xz^2 - 5x^2y - 3ln(z))dx$"
   ]
  },
  {
   "cell_type": "markdown",
   "metadata": {},
   "source": [
    "$\\int_{}^{}(2x + 6xz^2 - 5x^2y - 3ln(z))dx$ = $(6z^2 + 2)\\int{}^{}xdx - 5y\\int{}^{}x^2dx - 3ln(x)\\int{}^{}1dx$<br>\n",
    "$\\int_{}^{}xdx$ = $\\frac{x^2}{2} + C$<br>\n",
    "$\\int_{}^{}x^2dx$ = $\\frac{x^3}{3} + C$<br>\n",
    "$\\int_{}^{}1dx$ = $x + C$<br>\n",
    "$\\int_{}^{}(2x + 6xz^2 - 5x^2y - 3ln(z))dx$ = $\\frac{(6z^2 + 2)x^2}{2} - \\frac{5yx^3}{3} - 3ln(z)x + C$"
   ]
  },
  {
   "cell_type": "markdown",
   "metadata": {},
   "source": [
    "#### 3. Вычислить определенный интеграл:\n",
    "$\\int_{0}^{\\pi}3x^2sin(2x)dx$"
   ]
  },
  {
   "cell_type": "markdown",
   "metadata": {},
   "source": [
    "$\\int_{}^{}3x^2sin(2x)dx$<br>\n",
    "$\\int_{}^{}udv$ = $uv - \\int_{}^{}vdu$<br>\n",
    "$u$ = $x^2$<br>\n",
    "$dv$ = $3sin(2x)dx$<br>\n",
    "$du$ = $2xdx$<br>\n",
    "$v$ = $-3\\frac{cos(2x)}{2}$<br>\n",
    "$\\int_{}^{}3x^2sin(2x)dx$ = $-3x^2\\frac{cos(2x)}{2} - \\int_{}^{}-3xcos(2x)dx$ = $-3x^2\\frac{cos(2x)}{2} + \\int_{}^{}3xcos(2x)dx$<br>\n",
    "<br>\n",
    "$\\int_{}^{}3xcos(2x)dx$<br>\n",
    "$u$ = $x$<br>\n",
    "$dv$ = $cos(2x)dx$<br>\n",
    "$du$ = $xdx$<br>\n",
    "$v$ = $3\\frac{sin(2x)}{2}$<br>\n",
    "$\\int_{}^{}3xcos(2x)dx$ = $3x\\frac{sin(2x)}{2} - \\int_{}^{}3\\frac{sin(2x)}{2}dx$<br>\n",
    "$\\int_{}^{}3\\frac{sin(2x)}{2}dx$ = $-\\frac{3}{4}cos(2x)$<br>\n",
    "$\\int_{}^{}3xcos(2x)dx$ = $3x\\frac{sin(2x)}{2} -(-\\frac{3}{4}cos(2x)) + C$ = $3x\\frac{sin(2x)}{2} +\\frac{3}{4}cos(2x)  + C$<br>\n",
    "<br>\n",
    "$\\int_{}^{}3x^2sin(2x)dx$ = $-3x^2\\frac{cos(2x)}{2} + 3x\\frac{sin(2x)}{2} + 3\\frac{cos(2x)}{4} + C$<br>\n",
    "<br>\n",
    "$\\int_{0}^{\\pi}3x^2sin(2x)dx$<br>\n",
    "$F(\\pi)$ = $-3\\frac{\\pi^2}{2} + \\frac{3}{4}$<br>\n",
    "$F(0)$ = $\\frac{3}{4}$<br>\n",
    "$\\int_{0}^{\\pi}3x^2sin(2x)dx$ = $-3\\frac{\\pi^2}{2} + \\frac{3}{4} - \\frac{3}{4}$ = $-3\\frac{\\pi^2}{2}$<br>"
   ]
  },
  {
   "cell_type": "markdown",
   "metadata": {},
   "source": [
    "#### 4. Найти неопределенный интеграл:\n",
    "$\\int_{}^{}\\frac{1}{\\sqrt{x+1}}dx$"
   ]
  },
  {
   "cell_type": "markdown",
   "metadata": {},
   "source": [
    "$u$ = $x+1$ $\\Rightarrow$ $dx$ = $du$\n",
    "$\\int_{}^{}\\frac{1}{\\sqrt{x+1}}dx$ = $\\int_{}^{}\\frac{1}{\\sqrt{u}}du$<br>\n",
    "$\\int{}^{}u^ndu$ = $\\frac{u^{n+1}}{n+1}$<br>\n",
    "$\\int_{}^{}\\frac{1}{\\sqrt{u}}du$ = $2\\sqrt{u} + С$ = $2\\sqrt{x+1} +С$<br>\n",
    "$\\int_{}^{}\\frac{1}{\\sqrt{x+1}}dx$ =  $2\\sqrt{x+1} + C$<br>"
   ]
  },
  {
   "cell_type": "markdown",
   "metadata": {},
   "source": [
    "#### 5. Классифицировать ДУ и найти его решение:\n",
    "$(4x^2 + \\frac{1}{2}y^2 - 6y)dx + (2y^3 + xy - 6x)dy = 0$"
   ]
  },
  {
   "cell_type": "markdown",
   "metadata": {},
   "source": [
    "$P = (4x^2 + \\frac{1}{2}y^2 - 6y)$<br>\n",
    "$Q = (2y^3 + xy - 6x)$<br>\n",
    "$\\frac{dP}{dy} = (4x^2 + \\frac{1}{2}y^2 - 6y)'$ = $y-6$<br>\n",
    "$\\frac{dQ}{dx} = (2y^3 + xy - 6x)'$ = $y-6$<br>\n",
    "$\\frac{dP}{dy} = \\frac{dQ}{dx}$ $\\Rightarrow$ данное ДУ является уравнением в полных дифференциалах<br>\n",
    "$(4x^2 + \\frac{1}{2}y^2 - 6y)dx + (2y^3 + xy - 6x)dy = 0$ - Дифференциальное уравнение в полных дифференциалах<br>\n",
    "$\\frac{dF}{dx} = (4x^2 + \\frac{1}{2}y^2 - 6y)$<br>\n",
    "$\\frac{dF}{dy} = (2y^3 + xy - 6x)$<br>\n",
    "$F = \\int_{}^{}(4x^2 + \\frac{1}{2}y^2 - 6y)dx$ = $4\\int_{}^{}x^2dc + \\frac{1}{2}y^2\\int{}^{}dx-6y\\int_{}^{}dx$ = $\\frac{4x^3}{3} + \\frac{1}{2}y^2x - 6yx + t(y)$<br>\n",
    "$\\frac{dF}{dy}$ = $(\\frac{4x^3}{3} + \\frac{1}{2}y^2x - 6yx + t(y))'$ = $xy - 6x + t'(y)$<br>\n",
    "$2y^3 + xy - 6x = xy - 6x + t'(y)$ $\\Rightarrow$ $t'(y) = 2y^3$<br>\n",
    "$t(y) = \\int_{}^{}2y^3dy$ = $\\frac{y^4}{2} + C$<br>\n",
    "$F = \\frac{4x^3}{3} + \\frac{1}{2}y^2x - 6yx + \\frac{y^4}{2} + C$ = $\\frac{y^4}{2} + \\frac{4x^3}{3} + \\frac{1}{2}y^2x - 6yx + C$<br>\n",
    "$\\frac{y^4}{2} + \\frac{4x^3}{3} + \\frac{1}{2}y^2x - 6yx + C = 0,\\ C = const$"
   ]
  },
  {
   "cell_type": "markdown",
   "metadata": {},
   "source": [
    "#### 6. Классифицировать ДУ и найти его решение:\n",
    "$y' + y = x^2y^3$"
   ]
  },
  {
   "cell_type": "markdown",
   "metadata": {},
   "source": [
    "$y' + y = x^2y^3$ - Дифференциальное уравнение Бернулли<br>\n",
    "$y' + y = x^2y^3$ $\\Rightarrow$ $\\frac{y'}{y^3} + \\frac{y}{y^3} = x^2$<br>\n",
    "$\\frac{y'}{y^3} + \\frac{1}{y^2} = x^2$<br>\n",
    "$z = \\frac{1}{y^2}$<br>\n",
    "$z' = -2\\frac{y'}{y^3}$<br>\n",
    "$z' - 2z = -2x^2$<br>\n"
   ]
  },
  {
   "cell_type": "code",
   "execution_count": null,
   "metadata": {},
   "outputs": [],
   "source": []
  }
 ],
 "metadata": {
  "kernelspec": {
   "display_name": "Python 3",
   "language": "python",
   "name": "python3"
  },
  "language_info": {
   "codemirror_mode": {
    "name": "ipython",
    "version": 3
   },
   "file_extension": ".py",
   "mimetype": "text/x-python",
   "name": "python",
   "nbconvert_exporter": "python",
   "pygments_lexer": "ipython3",
   "version": "3.7.3"
  }
 },
 "nbformat": 4,
 "nbformat_minor": 2
}
