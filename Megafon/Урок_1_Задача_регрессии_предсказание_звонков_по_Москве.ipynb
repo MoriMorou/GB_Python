{
  "nbformat": 4,
  "nbformat_minor": 0,
  "metadata": {
    "kernelspec": {
      "display_name": "Python 3",
      "language": "python",
      "name": "python3"
    },
    "language_info": {
      "codemirror_mode": {
        "name": "ipython",
        "version": 3
      },
      "file_extension": ".py",
      "mimetype": "text/x-python",
      "name": "python",
      "nbconvert_exporter": "python",
      "pygments_lexer": "ipython3",
      "version": "3.5.2"
    },
    "toc": {
      "nav_menu": {},
      "number_sections": false,
      "sideBar": true,
      "skip_h1_title": false,
      "toc_cell": true,
      "toc_position": {
        "height": "755px",
        "left": "0px",
        "right": "1293px",
        "top": "66px",
        "width": "147px"
      },
      "toc_section_display": "none",
      "toc_window_display": false
    },
    "varInspector": {
      "cols": {
        "lenName": 16,
        "lenType": 16,
        "lenVar": 40
      },
      "kernels_config": {
        "python": {
          "delete_cmd_postfix": "",
          "delete_cmd_prefix": "del ",
          "library": "var_list.py",
          "varRefreshCmd": "print(var_dic_list())"
        },
        "r": {
          "delete_cmd_postfix": ") ",
          "delete_cmd_prefix": "rm(",
          "library": "var_list.r",
          "varRefreshCmd": "cat(var_dic_list()) "
        }
      },
      "types_to_exclude": [
        "module",
        "function",
        "builtin_function_or_method",
        "instance",
        "_Feature"
      ],
      "window_display": false
    },
    "colab": {
      "name": "Урок 1.Задача регрессии - предсказание звонков по Москве.ipynb",
      "provenance": []
    }
  },
  "cells": [
    {
      "cell_type": "code",
      "metadata": {
        "id": "u9EqQfr1ZoJc",
        "colab_type": "code",
        "colab": {}
      },
      "source": [
        "import pandas as pd\n",
        "import numpy as np\n",
        "\n",
        "from sklearn.linear_model import LinearRegression, Lasso, Ridge, LassoCV, RidgeCV\n",
        "from sklearn.preprocessing import StandardScaler\n",
        "from sklearn.metrics import mean_squared_error\n",
        "from sklearn.model_selection import train_test_split\n",
        "from sklearn.ensemble import RandomForestRegressor\n",
        "%matplotlib inline\n",
        "import seaborn as sns\n",
        "\n",
        "from scipy.stats import boxcox, probplot\n",
        "import matplotlib.pyplot as plt"
      ],
      "execution_count": 0,
      "outputs": []
    },
    {
      "cell_type": "markdown",
      "metadata": {
        "toc": true,
        "id": "eIDD6Fb-ZoJi",
        "colab_type": "text"
      },
      "source": [
        "<h1>Table of Contents<span class=\"tocSkip\"></span></h1>\n",
        "<div class=\"toc\" style=\"margin-top: 1em;\"><ul class=\"toc-item\"><li><ul class=\"toc-item\"><li><ul class=\"toc-item\"><li><span><a href=\"#Обзор-данных\" data-toc-modified-id=\"Обзор-данных-0.0.1\">Обзор данных</a></span></li><li><span><a href=\"#Целевая-переменная\" data-toc-modified-id=\"Целевая-переменная-0.0.2\">Целевая переменная</a></span></li><li><span><a href=\"#Случайное-разбиение-на-обучение-и-тест\" data-toc-modified-id=\"Случайное-разбиение-на-обучение-и-тест-0.0.3\">Случайное разбиение на обучение и тест</a></span></li><li><span><a href=\"#Линейные-модели\" data-toc-modified-id=\"Линейные-модели-0.0.4\">Линейные модели</a></span></li><li><span><a href=\"#Другое-разбиение-для-обучения-и-валидации\" data-toc-modified-id=\"Другое-разбиение-для-обучения-и-валидации-0.0.5\">Другое разбиение для обучения и валидации</a></span></li></ul></li></ul></li></ul></div>"
      ]
    },
    {
      "cell_type": "markdown",
      "metadata": {
        "id": "mUpOCym1ZoJj",
        "colab_type": "text"
      },
      "source": [
        "### Обзор данных"
      ]
    },
    {
      "cell_type": "code",
      "metadata": {
        "id": "AV7IM7KUZoJk",
        "colab_type": "code",
        "colab": {}
      },
      "source": [
        "data = pd.read_csv('calls_dataset_with_features.csv')"
      ],
      "execution_count": 0,
      "outputs": []
    },
    {
      "cell_type": "code",
      "metadata": {
        "id": "K4rDphjRZoJn",
        "colab_type": "code",
        "colab": {},
        "outputId": "f764cc22-e03f-4b39-d5b9-f87f79aeef73"
      },
      "source": [
        "data.head()"
      ],
      "execution_count": 0,
      "outputs": [
        {
          "output_type": "execute_result",
          "data": {
            "text/html": [
              "<div>\n",
              "<style scoped>\n",
              "    .dataframe tbody tr th:only-of-type {\n",
              "        vertical-align: middle;\n",
              "    }\n",
              "\n",
              "    .dataframe tbody tr th {\n",
              "        vertical-align: top;\n",
              "    }\n",
              "\n",
              "    .dataframe thead th {\n",
              "        text-align: right;\n",
              "    }\n",
              "</style>\n",
              "<table border=\"1\" class=\"dataframe\">\n",
              "  <thead>\n",
              "    <tr style=\"text-align: right;\">\n",
              "      <th></th>\n",
              "      <th>address</th>\n",
              "      <th>duration_minutes</th>\n",
              "      <th>feat_1</th>\n",
              "      <th>feat_2</th>\n",
              "      <th>geometry</th>\n",
              "      <th>poly_side</th>\n",
              "      <th>atm</th>\n",
              "      <th>bank</th>\n",
              "      <th>bus_station</th>\n",
              "      <th>bus_stop</th>\n",
              "      <th>cafe</th>\n",
              "      <th>device_charging_station</th>\n",
              "      <th>office</th>\n",
              "      <th>public_service</th>\n",
              "      <th>restaurant</th>\n",
              "      <th>shelter</th>\n",
              "      <th>station</th>\n",
              "      <th>traffic_signals</th>\n",
              "      <th>waste_basket</th>\n",
              "    </tr>\n",
              "  </thead>\n",
              "  <tbody>\n",
              "    <tr>\n",
              "      <th>0</th>\n",
              "      <td>8811aa602dfffff</td>\n",
              "      <td>5.092667</td>\n",
              "      <td>0.0</td>\n",
              "      <td>25.0</td>\n",
              "      <td>POLYGON ((37.75103240708841 55.80603592669851,...</td>\n",
              "      <td>poly3</td>\n",
              "      <td>1.0</td>\n",
              "      <td>0.0</td>\n",
              "      <td>0.0</td>\n",
              "      <td>8.0</td>\n",
              "      <td>1.0</td>\n",
              "      <td>0.0</td>\n",
              "      <td>0.0</td>\n",
              "      <td>0.0</td>\n",
              "      <td>1.0</td>\n",
              "      <td>0.0</td>\n",
              "      <td>0.0</td>\n",
              "      <td>0.0</td>\n",
              "      <td>0.0</td>\n",
              "    </tr>\n",
              "    <tr>\n",
              "      <th>1</th>\n",
              "      <td>8811aa45d9fffff</td>\n",
              "      <td>6.037037</td>\n",
              "      <td>0.0</td>\n",
              "      <td>63.0</td>\n",
              "      <td>POLYGON ((37.40263832553934 55.71842073952227,...</td>\n",
              "      <td>poly0</td>\n",
              "      <td>5.0</td>\n",
              "      <td>3.0</td>\n",
              "      <td>0.0</td>\n",
              "      <td>5.0</td>\n",
              "      <td>2.0</td>\n",
              "      <td>0.0</td>\n",
              "      <td>0.0</td>\n",
              "      <td>0.0</td>\n",
              "      <td>2.0</td>\n",
              "      <td>0.0</td>\n",
              "      <td>0.0</td>\n",
              "      <td>0.0</td>\n",
              "      <td>0.0</td>\n",
              "    </tr>\n",
              "    <tr>\n",
              "      <th>2</th>\n",
              "      <td>881181a235fffff</td>\n",
              "      <td>4.722727</td>\n",
              "      <td>0.0</td>\n",
              "      <td>11.0</td>\n",
              "      <td>POLYGON ((37.74271427608124 55.43691297888912,...</td>\n",
              "      <td>poly1</td>\n",
              "      <td>0.0</td>\n",
              "      <td>0.0</td>\n",
              "      <td>0.0</td>\n",
              "      <td>1.0</td>\n",
              "      <td>1.0</td>\n",
              "      <td>0.0</td>\n",
              "      <td>0.0</td>\n",
              "      <td>0.0</td>\n",
              "      <td>0.0</td>\n",
              "      <td>0.0</td>\n",
              "      <td>0.0</td>\n",
              "      <td>0.0</td>\n",
              "      <td>0.0</td>\n",
              "    </tr>\n",
              "    <tr>\n",
              "      <th>3</th>\n",
              "      <td>8811aa722bfffff</td>\n",
              "      <td>5.868982</td>\n",
              "      <td>0.0</td>\n",
              "      <td>36.0</td>\n",
              "      <td>POLYGON ((37.42241082476207 55.85767681439805,...</td>\n",
              "      <td>poly2</td>\n",
              "      <td>2.0</td>\n",
              "      <td>2.0</td>\n",
              "      <td>0.0</td>\n",
              "      <td>12.0</td>\n",
              "      <td>2.0</td>\n",
              "      <td>0.0</td>\n",
              "      <td>0.0</td>\n",
              "      <td>0.0</td>\n",
              "      <td>0.0</td>\n",
              "      <td>0.0</td>\n",
              "      <td>0.0</td>\n",
              "      <td>0.0</td>\n",
              "      <td>0.0</td>\n",
              "    </tr>\n",
              "    <tr>\n",
              "      <th>4</th>\n",
              "      <td>8811aa714dfffff</td>\n",
              "      <td>2.937719</td>\n",
              "      <td>0.0</td>\n",
              "      <td>19.0</td>\n",
              "      <td>POLYGON ((37.45469517717559 55.7843306893976, ...</td>\n",
              "      <td>poly2</td>\n",
              "      <td>1.0</td>\n",
              "      <td>0.0</td>\n",
              "      <td>0.0</td>\n",
              "      <td>9.0</td>\n",
              "      <td>1.0</td>\n",
              "      <td>0.0</td>\n",
              "      <td>0.0</td>\n",
              "      <td>0.0</td>\n",
              "      <td>2.0</td>\n",
              "      <td>0.0</td>\n",
              "      <td>0.0</td>\n",
              "      <td>0.0</td>\n",
              "      <td>0.0</td>\n",
              "    </tr>\n",
              "  </tbody>\n",
              "</table>\n",
              "</div>"
            ],
            "text/plain": [
              "           address  duration_minutes  feat_1  feat_2  \\\n",
              "0  8811aa602dfffff          5.092667     0.0    25.0   \n",
              "1  8811aa45d9fffff          6.037037     0.0    63.0   \n",
              "2  881181a235fffff          4.722727     0.0    11.0   \n",
              "3  8811aa722bfffff          5.868982     0.0    36.0   \n",
              "4  8811aa714dfffff          2.937719     0.0    19.0   \n",
              "\n",
              "                                            geometry poly_side  atm  bank  \\\n",
              "0  POLYGON ((37.75103240708841 55.80603592669851,...     poly3  1.0   0.0   \n",
              "1  POLYGON ((37.40263832553934 55.71842073952227,...     poly0  5.0   3.0   \n",
              "2  POLYGON ((37.74271427608124 55.43691297888912,...     poly1  0.0   0.0   \n",
              "3  POLYGON ((37.42241082476207 55.85767681439805,...     poly2  2.0   2.0   \n",
              "4  POLYGON ((37.45469517717559 55.7843306893976, ...     poly2  1.0   0.0   \n",
              "\n",
              "   bus_station  bus_stop  cafe  device_charging_station  office  \\\n",
              "0          0.0       8.0   1.0                      0.0     0.0   \n",
              "1          0.0       5.0   2.0                      0.0     0.0   \n",
              "2          0.0       1.0   1.0                      0.0     0.0   \n",
              "3          0.0      12.0   2.0                      0.0     0.0   \n",
              "4          0.0       9.0   1.0                      0.0     0.0   \n",
              "\n",
              "   public_service  restaurant  shelter  station  traffic_signals  waste_basket  \n",
              "0             0.0         1.0      0.0      0.0              0.0           0.0  \n",
              "1             0.0         2.0      0.0      0.0              0.0           0.0  \n",
              "2             0.0         0.0      0.0      0.0              0.0           0.0  \n",
              "3             0.0         0.0      0.0      0.0              0.0           0.0  \n",
              "4             0.0         2.0      0.0      0.0              0.0           0.0  "
            ]
          },
          "metadata": {
            "tags": []
          },
          "execution_count": 3
        }
      ]
    },
    {
      "cell_type": "markdown",
      "metadata": {
        "id": "8MlT4t6lZoJs",
        "colab_type": "text"
      },
      "source": [
        "### Целевая переменная"
      ]
    },
    {
      "cell_type": "code",
      "metadata": {
        "id": "UhRQkrOXZoJt",
        "colab_type": "code",
        "colab": {}
      },
      "source": [
        "data = data[data['duration_minutes'] != 0]\n",
        "X = data.drop(['address', 'geometry', 'poly_side', 'duration_minutes'],axis=1)\n",
        "y = (data['duration_minutes'])"
      ],
      "execution_count": 0,
      "outputs": []
    },
    {
      "cell_type": "code",
      "metadata": {
        "scrolled": true,
        "id": "4FED51MxZoJx",
        "colab_type": "code",
        "colab": {},
        "outputId": "f97b6786-8df2-4a2f-ed86-0ce5e0394ed0"
      },
      "source": [
        "y.plot('hist',bins=20);"
      ],
      "execution_count": 0,
      "outputs": [
        {
          "output_type": "display_data",
          "data": {
            "image/png": "[encoded data removed]",
            "text/plain": [
              "<Figure size 432x288 with 1 Axes>"
            ]
          },
          "metadata": {
            "tags": []
          }
        }
      ]
    },
    {
      "cell_type": "markdown",
      "metadata": {
        "id": "3U50ZRygZoJ0",
        "colab_type": "text"
      },
      "source": [
        "QQ plot для сравнения с нормальным распределением"
      ]
    },
    {
      "cell_type": "code",
      "metadata": {
        "scrolled": true,
        "id": "TX6MaGt1ZoJ1",
        "colab_type": "code",
        "colab": {},
        "outputId": "c2b93684-2d0e-42f4-b84a-f5e26faabcca"
      },
      "source": [
        "f, ax = plt.subplots()\n",
        "probplot(y, plot=ax);"
      ],
      "execution_count": 0,
      "outputs": [
        {
          "output_type": "display_data",
          "data": {
            "image/png": "[encoded data removed]",
            "text/plain": [
              "<Figure size 432x288 with 1 Axes>"
            ]
          },
          "metadata": {
            "tags": []
          }
        }
      ]
    },
    {
      "cell_type": "markdown",
      "metadata": {
        "id": "e6gt8rV2ZoJ3",
        "colab_type": "text"
      },
      "source": [
        "Преобразование логарифм"
      ]
    },
    {
      "cell_type": "code",
      "metadata": {
        "id": "3SeEPgvXZoJ4",
        "colab_type": "code",
        "colab": {},
        "outputId": "93d1606a-84be-44ff-87b2-7d37ecc574ad"
      },
      "source": [
        "f, ax = plt.subplots()\n",
        "probplot(np.log(y),plot=ax);"
      ],
      "execution_count": 0,
      "outputs": [
        {
          "output_type": "display_data",
          "data": {
            "image/png": "[encoded data removed]",
            "text/plain": [
              "<Figure size 432x288 with 1 Axes>"
            ]
          },
          "metadata": {
            "tags": []
          }
        }
      ]
    },
    {
      "cell_type": "markdown",
      "metadata": {
        "id": "5PlUzIdrZoJ7",
        "colab_type": "text"
      },
      "source": [
        "преобразование Бокса-Кокса"
      ]
    },
    {
      "cell_type": "code",
      "metadata": {
        "id": "9Ejp5lceZoJ8",
        "colab_type": "code",
        "colab": {},
        "outputId": "3a620ac9-90df-41ac-c474-6c64575b33b8"
      },
      "source": [
        "f, ax = plt.subplots()\n",
        "probplot(boxcox(y)[0],plot=ax);"
      ],
      "execution_count": 0,
      "outputs": [
        {
          "output_type": "display_data",
          "data": {
            "image/png": "[encoded data removed]",
            "text/plain": [
              "<Figure size 432x288 with 1 Axes>"
            ]
          },
          "metadata": {
            "tags": []
          }
        }
      ]
    },
    {
      "cell_type": "markdown",
      "metadata": {
        "id": "HAFiqs8lZoJ-",
        "colab_type": "text"
      },
      "source": [
        "Матрица корреляции"
      ]
    },
    {
      "cell_type": "code",
      "metadata": {
        "id": "g_CCLpoZZoJ_",
        "colab_type": "code",
        "colab": {},
        "outputId": "c3f20950-67f4-443c-9d1a-7b46ff8d24bb"
      },
      "source": [
        "plt, ax = plt.subplots(figsize=(12, 10))\n",
        "sns.heatmap(data.drop(['address', 'geometry', 'poly_side'],axis=1).corr(),ax=ax);"
      ],
      "execution_count": 0,
      "outputs": [
        {
          "output_type": "display_data",
          "data": {
            "image/png": "[encoded data removed]",
            "text/plain": [
              "<Figure size 864x720 with 2 Axes>"
            ]
          },
          "metadata": {
            "tags": []
          }
        }
      ]
    },
    {
      "cell_type": "markdown",
      "metadata": {
        "id": "-lmEUAKjZoKB",
        "colab_type": "text"
      },
      "source": [
        "### Случайное разбиение на обучение и тест"
      ]
    },
    {
      "cell_type": "code",
      "metadata": {
        "id": "Kc4Y4NnFZoKC",
        "colab_type": "code",
        "colab": {}
      },
      "source": [
        "X_train, X_valid, y_train, y_valid = train_test_split(X, y, test_size=0.3, random_state=18)"
      ],
      "execution_count": 0,
      "outputs": []
    },
    {
      "cell_type": "code",
      "metadata": {
        "id": "IZNSnhycZoKE",
        "colab_type": "code",
        "colab": {}
      },
      "source": [
        "scaler = StandardScaler()"
      ],
      "execution_count": 0,
      "outputs": []
    },
    {
      "cell_type": "code",
      "metadata": {
        "id": "Jm2pDqUCZoKG",
        "colab_type": "code",
        "colab": {}
      },
      "source": [
        "X_train_scale = scaler.fit_transform(X_train)\n",
        "X_valid_scale = scaler.transform(X_valid)"
      ],
      "execution_count": 0,
      "outputs": []
    },
    {
      "cell_type": "markdown",
      "metadata": {
        "id": "nZkFx1ioZoKK",
        "colab_type": "text"
      },
      "source": [
        "### Линейные модели"
      ]
    },
    {
      "cell_type": "code",
      "metadata": {
        "id": "afpUuELfZoKM",
        "colab_type": "code",
        "colab": {}
      },
      "source": [
        "def train_model(model, X_train, y_train, X_valid, y_valid, feature_names):\n",
        "    \n",
        "    model.fit(X_train, y_train)\n",
        "    y_pred = model.predict(X_valid)\n",
        "    \n",
        "    print(\"RMSE: {}\".format(np.sqrt(mean_squared_error((y_valid), (y_pred)))))\n",
        "    \n",
        "    print(pd.DataFrame(model.coef_, index=feature_names, \n",
        "                       columns=['weight']).sort_values(by='weight', ascending=False))"
      ],
      "execution_count": 0,
      "outputs": []
    },
    {
      "cell_type": "code",
      "metadata": {
        "id": "kZY3XSvYZoKP",
        "colab_type": "code",
        "colab": {}
      },
      "source": [
        "linreg = LinearRegression()"
      ],
      "execution_count": 0,
      "outputs": []
    },
    {
      "cell_type": "code",
      "metadata": {
        "id": "I1TlX2lFZoKS",
        "colab_type": "code",
        "colab": {},
        "outputId": "7f6e940f-dcb7-4792-eee6-408c4db2686e"
      },
      "source": [
        "train_model(linreg, X_train_scale, y_train, X_valid_scale, y_valid, X_train.columns)"
      ],
      "execution_count": 0,
      "outputs": [
        {
          "output_type": "stream",
          "text": [
            "RMSE: 2.290509406242996\n",
            "                               weight\n",
            "feat_2                   1.235282e+00\n",
            "bus_stop                 2.630936e-01\n",
            "shelter                  7.757307e-02\n",
            "atm                      1.930349e-02\n",
            "office                   2.484782e-03\n",
            "bus_station              3.378578e-17\n",
            "traffic_signals          0.000000e+00\n",
            "public_service          -1.865264e-02\n",
            "waste_basket            -3.180714e-02\n",
            "station                 -6.845618e-02\n",
            "bank                    -7.237465e-02\n",
            "cafe                    -1.043796e-01\n",
            "device_charging_station -1.137308e-01\n",
            "feat_1                  -1.264340e-01\n",
            "restaurant              -1.492291e-01\n"
          ],
          "name": "stdout"
        },
        {
          "output_type": "stream",
          "text": [
            "/usr/local/lib/python3.5/site-packages/scipy/linalg/basic.py:884: RuntimeWarning: internal gelsd driver lwork query error, required iwork dimension not returned. This is likely the result of LAPACK bug 0038, fixed in LAPACK 3.2.2 (released July 21, 2010). Falling back to 'gelss' driver.\n",
            "  warnings.warn(mesg, RuntimeWarning)\n"
          ],
          "name": "stderr"
        }
      ]
    },
    {
      "cell_type": "code",
      "metadata": {
        "id": "Y4Vop7KzZoKU",
        "colab_type": "code",
        "colab": {},
        "outputId": "6b0cf881-c963-4f1f-feee-07a6f9155d59"
      },
      "source": [
        "lasso = Lasso(random_state=16, alpha=0.01)\n",
        "train_model(lasso, X_train_scale, y_train, X_valid_scale, y_valid, X_train.columns)"
      ],
      "execution_count": 0,
      "outputs": [
        {
          "output_type": "stream",
          "text": [
            "RMSE: 2.2889677994234274\n",
            "                           weight\n",
            "feat_2                   1.215399\n",
            "bus_stop                 0.252435\n",
            "shelter                  0.067575\n",
            "atm                      0.000000\n",
            "bus_station              0.000000\n",
            "office                   0.000000\n",
            "traffic_signals          0.000000\n",
            "public_service          -0.008562\n",
            "waste_basket            -0.021852\n",
            "bank                    -0.052539\n",
            "station                 -0.059840\n",
            "cafe                    -0.099036\n",
            "device_charging_station -0.103964\n",
            "feat_1                  -0.112683\n",
            "restaurant              -0.143008\n"
          ],
          "name": "stdout"
        }
      ]
    },
    {
      "cell_type": "code",
      "metadata": {
        "id": "eN3a95IsZoKW",
        "colab_type": "code",
        "colab": {},
        "outputId": "10c04f5d-b4c2-479f-b728-905197c1b51f"
      },
      "source": [
        "lasso_cv = LassoCV(random_state=16)\n",
        "train_model(lasso_cv, X_train_scale, y_train, X_valid_scale, y_valid, X_train.columns)"
      ],
      "execution_count": 0,
      "outputs": [
        {
          "output_type": "stream",
          "text": [
            "RMSE: 2.2882477144098416\n",
            "                           weight\n",
            "feat_2                   1.201973\n",
            "bus_stop                 0.244370\n",
            "shelter                  0.061277\n",
            "atm                      0.000000\n",
            "bus_station              0.000000\n",
            "office                   0.000000\n",
            "traffic_signals          0.000000\n",
            "public_service          -0.001919\n",
            "waste_basket            -0.015639\n",
            "bank                    -0.044148\n",
            "station                 -0.055747\n",
            "cafe                    -0.097255\n",
            "device_charging_station -0.097736\n",
            "feat_1                  -0.105424\n",
            "restaurant              -0.139621\n"
          ],
          "name": "stdout"
        }
      ]
    },
    {
      "cell_type": "code",
      "metadata": {
        "id": "IEpxuxPzZoKY",
        "colab_type": "code",
        "colab": {},
        "outputId": "8a78e012-8c3f-4402-ded1-717416cbacd0"
      },
      "source": [
        "ridge = Ridge(random_state=16)\n",
        "train_model(ridge, X_train_scale, y_train, X_valid_scale, y_valid, X.columns)"
      ],
      "execution_count": 0,
      "outputs": [
        {
          "output_type": "stream",
          "text": [
            "RMSE: 2.2904408613367075\n",
            "                           weight\n",
            "feat_2                   1.234264\n",
            "bus_stop                 0.263285\n",
            "shelter                  0.077541\n",
            "atm                      0.019330\n",
            "office                   0.002496\n",
            "bus_station              0.000000\n",
            "traffic_signals          0.000000\n",
            "public_service          -0.018634\n",
            "waste_basket            -0.031805\n",
            "station                 -0.068390\n",
            "bank                    -0.072226\n",
            "cafe                    -0.104249\n",
            "device_charging_station -0.113619\n",
            "feat_1                  -0.126263\n",
            "restaurant              -0.149047\n"
          ],
          "name": "stdout"
        }
      ]
    },
    {
      "cell_type": "code",
      "metadata": {
        "scrolled": true,
        "id": "ZSWk4DrLZoKb",
        "colab_type": "code",
        "colab": {},
        "outputId": "56b1b156-ca5f-48e8-ac5e-130438d0ceef"
      },
      "source": [
        "ridge_cv = RidgeCV()\n",
        "train_model(ridge_cv, X_train_scale, y_train, X_valid_scale, y_valid, X.columns)"
      ],
      "execution_count": 0,
      "outputs": [
        {
          "output_type": "stream",
          "text": [
            "RMSE: 2.2898443523063214\n",
            "                           weight\n",
            "feat_2                   1.225182\n",
            "bus_stop                 0.264966\n",
            "shelter                  0.077250\n",
            "atm                      0.019576\n",
            "office                   0.002593\n",
            "bus_station              0.000000\n",
            "traffic_signals          0.000000\n",
            "public_service          -0.018470\n",
            "waste_basket            -0.031789\n",
            "station                 -0.067793\n",
            "bank                    -0.070901\n",
            "cafe                    -0.103080\n",
            "device_charging_station -0.112623\n",
            "feat_1                  -0.124734\n",
            "restaurant              -0.147427\n"
          ],
          "name": "stdout"
        }
      ]
    },
    {
      "cell_type": "markdown",
      "metadata": {
        "id": "ohzqWZjLZoKe",
        "colab_type": "text"
      },
      "source": [
        "### Другое разбиение для обучения и валидации"
      ]
    },
    {
      "cell_type": "code",
      "metadata": {
        "id": "MsoFqq9OZoKf",
        "colab_type": "code",
        "colab": {}
      },
      "source": [
        "X_train = data.drop(['address', 'geometry', \n",
        "                     'poly_side','duration_minutes'],axis=1)[data['poly_side'].isin(['poly1','poly2'])]\n",
        "\n",
        "y_train = (data['duration_minutes'][data['poly_side'].isin(['poly1','poly2'])])"
      ],
      "execution_count": 0,
      "outputs": []
    },
    {
      "cell_type": "code",
      "metadata": {
        "scrolled": true,
        "id": "cgMsbAStZoKh",
        "colab_type": "code",
        "colab": {}
      },
      "source": [
        "X_valid = data.drop(['address', 'geometry', \n",
        "                     'poly_side','duration_minutes'],axis=1)[data['poly_side'].isin(['poly0','poly3'])]\n",
        "\n",
        "y_valid = (data['duration_minutes'][data['poly_side'].isin(['poly0','poly3'])])"
      ],
      "execution_count": 0,
      "outputs": []
    },
    {
      "cell_type": "markdown",
      "metadata": {
        "id": "IHUmsp-2ZoKj",
        "colab_type": "text"
      },
      "source": [
        "Фиксируем данное разбиение и будем его использовать в дальнейшем"
      ]
    },
    {
      "cell_type": "code",
      "metadata": {
        "id": "wATJt3ejZoKj",
        "colab_type": "code",
        "colab": {}
      },
      "source": [
        "scaler = StandardScaler()\n",
        "X_train_scale = scaler.fit_transform(X_train)\n",
        "X_valid_scale = scaler.transform(X_valid)"
      ],
      "execution_count": 0,
      "outputs": []
    },
    {
      "cell_type": "code",
      "metadata": {
        "id": "7EE1rL7QZoKm",
        "colab_type": "code",
        "colab": {},
        "outputId": "d0434ad3-574d-48bf-9ca6-8f0435763c94"
      },
      "source": [
        "lasso = LassoCV(random_state=16)\n",
        "train_model(lasso, X_train_scale, y_train, X_valid_scale, y_valid, X.columns)"
      ],
      "execution_count": 0,
      "outputs": [
        {
          "output_type": "stream",
          "text": [
            "RMSE: 2.339232882994851\n",
            "                           weight\n",
            "feat_2                   1.073171\n",
            "bus_stop                 0.439603\n",
            "shelter                  0.075603\n",
            "atm                      0.000000\n",
            "office                  -0.000000\n",
            "public_service           0.000000\n",
            "traffic_signals          0.000000\n",
            "waste_basket            -0.024136\n",
            "bus_station             -0.026868\n",
            "feat_1                  -0.037009\n",
            "station                 -0.060145\n",
            "device_charging_station -0.089848\n",
            "restaurant              -0.103033\n",
            "bank                    -0.103782\n",
            "cafe                    -0.136125\n"
          ],
          "name": "stdout"
        }
      ]
    },
    {
      "cell_type": "code",
      "metadata": {
        "scrolled": true,
        "id": "hGKAhufWZoKo",
        "colab_type": "code",
        "colab": {},
        "outputId": "5fcaa46b-8f8b-4d9e-dcd3-9a56eae56626"
      },
      "source": [
        "ridge = RidgeCV()\n",
        "train_model(ridge, X_train_scale, y_train, X_valid_scale, y_valid, X.columns)"
      ],
      "execution_count": 0,
      "outputs": [
        {
          "output_type": "stream",
          "text": [
            "RMSE: 2.3409479221945535\n",
            "                           weight\n",
            "feat_2                   1.091139\n",
            "bus_stop                 0.459396\n",
            "shelter                  0.090896\n",
            "atm                      0.032191\n",
            "public_service           0.000000\n",
            "traffic_signals          0.000000\n",
            "office                  -0.004292\n",
            "waste_basket            -0.039776\n",
            "bus_station             -0.043209\n",
            "feat_1                  -0.055045\n",
            "station                 -0.068539\n",
            "device_charging_station -0.104465\n",
            "restaurant              -0.108601\n",
            "bank                    -0.133766\n",
            "cafe                    -0.146877\n"
          ],
          "name": "stdout"
        }
      ]
    }
  ]
}