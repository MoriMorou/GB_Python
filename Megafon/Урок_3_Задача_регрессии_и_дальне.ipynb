{
 "cells": [
  {
   "cell_type": "markdown",
   "metadata": {
    "toc": true
   },
   "source": [
    "<h1>Table of Contents<span class=\"tocSkip\"></span></h1>\n",
    "<div class=\"toc\" style=\"margin-top: 1em;\"><ul class=\"toc-item\"><li><ul class=\"toc-item\"><li><ul class=\"toc-item\"><li><span><a href=\"#Другое-разбиение-для-обучения-и-валидации\" data-toc-modified-id=\"Другое-разбиение-для-обучения-и-валидации-0.0.1\"><span class=\"toc-item-num\">0.0.1&nbsp;&nbsp;</span>Другое разбиение для обучения и валидации</a></span></li><li><span><a href=\"#Квантильная-регрессия\" data-toc-modified-id=\"Квантильная-регрессия-0.0.2\"><span class=\"toc-item-num\">0.0.2&nbsp;&nbsp;</span>Квантильная регрессия</a></span></li><li><span><a href=\"#Другой-подход---предсказание-ошибки\" data-toc-modified-id=\"Другой-подход---предсказание-ошибки-0.0.3\"><span class=\"toc-item-num\">0.0.3&nbsp;&nbsp;</span>Другой подход - предсказание ошибки</a></span></li></ul></li></ul></li></ul></div>"
   ]
  },
  {
   "cell_type": "code",
   "execution_count": 1,
   "metadata": {},
   "outputs": [],
   "source": [
    "import pandas as pd\n",
    "import numpy as np\n",
    "\n",
    "from sklearn.linear_model import LinearRegression, Lasso, Ridge, LassoCV, RidgeCV\n",
    "from sklearn.preprocessing import StandardScaler\n",
    "from sklearn.metrics import mean_squared_error\n",
    "from sklearn.model_selection import train_test_split\n",
    "from sklearn.ensemble import RandomForestRegressor, GradientBoostingRegressor\n",
    "%matplotlib inline\n",
    "import seaborn as sns\n",
    "\n",
    "from scipy.stats import boxcox, probplot\n",
    "import matplotlib.pyplot as plt"
   ]
  },
  {
   "cell_type": "code",
   "execution_count": 2,
   "metadata": {},
   "outputs": [],
   "source": [
    "data = pd.read_csv('calls_dataset_with_features.csv')"
   ]
  },
  {
   "cell_type": "code",
   "execution_count": 3,
   "metadata": {},
   "outputs": [
    {
     "data": {
      "text/html": [
       "<div>\n",
       "<style scoped>\n",
       "    .dataframe tbody tr th:only-of-type {\n",
       "        vertical-align: middle;\n",
       "    }\n",
       "\n",
       "    .dataframe tbody tr th {\n",
       "        vertical-align: top;\n",
       "    }\n",
       "\n",
       "    .dataframe thead th {\n",
       "        text-align: right;\n",
       "    }\n",
       "</style>\n",
       "<table border=\"1\" class=\"dataframe\">\n",
       "  <thead>\n",
       "    <tr style=\"text-align: right;\">\n",
       "      <th></th>\n",
       "      <th>address</th>\n",
       "      <th>duration_minutes</th>\n",
       "      <th>feat_1</th>\n",
       "      <th>feat_2</th>\n",
       "      <th>geometry</th>\n",
       "      <th>poly_side</th>\n",
       "      <th>atm</th>\n",
       "      <th>bank</th>\n",
       "      <th>bus_station</th>\n",
       "      <th>bus_stop</th>\n",
       "      <th>cafe</th>\n",
       "      <th>device_charging_station</th>\n",
       "      <th>office</th>\n",
       "      <th>public_service</th>\n",
       "      <th>restaurant</th>\n",
       "      <th>shelter</th>\n",
       "      <th>station</th>\n",
       "      <th>traffic_signals</th>\n",
       "      <th>waste_basket</th>\n",
       "    </tr>\n",
       "  </thead>\n",
       "  <tbody>\n",
       "    <tr>\n",
       "      <th>0</th>\n",
       "      <td>8811aa602dfffff</td>\n",
       "      <td>5.092667</td>\n",
       "      <td>0.0</td>\n",
       "      <td>25.0</td>\n",
       "      <td>POLYGON ((37.75103240708841 55.80603592669851,...</td>\n",
       "      <td>poly3</td>\n",
       "      <td>1.0</td>\n",
       "      <td>0.0</td>\n",
       "      <td>0.0</td>\n",
       "      <td>8.0</td>\n",
       "      <td>1.0</td>\n",
       "      <td>0.0</td>\n",
       "      <td>0.0</td>\n",
       "      <td>0.0</td>\n",
       "      <td>1.0</td>\n",
       "      <td>0.0</td>\n",
       "      <td>0.0</td>\n",
       "      <td>0.0</td>\n",
       "      <td>0.0</td>\n",
       "    </tr>\n",
       "    <tr>\n",
       "      <th>1</th>\n",
       "      <td>8811aa45d9fffff</td>\n",
       "      <td>6.037037</td>\n",
       "      <td>0.0</td>\n",
       "      <td>63.0</td>\n",
       "      <td>POLYGON ((37.40263832553934 55.71842073952227,...</td>\n",
       "      <td>poly0</td>\n",
       "      <td>5.0</td>\n",
       "      <td>3.0</td>\n",
       "      <td>0.0</td>\n",
       "      <td>5.0</td>\n",
       "      <td>2.0</td>\n",
       "      <td>0.0</td>\n",
       "      <td>0.0</td>\n",
       "      <td>0.0</td>\n",
       "      <td>2.0</td>\n",
       "      <td>0.0</td>\n",
       "      <td>0.0</td>\n",
       "      <td>0.0</td>\n",
       "      <td>0.0</td>\n",
       "    </tr>\n",
       "    <tr>\n",
       "      <th>2</th>\n",
       "      <td>881181a235fffff</td>\n",
       "      <td>4.722727</td>\n",
       "      <td>0.0</td>\n",
       "      <td>11.0</td>\n",
       "      <td>POLYGON ((37.74271427608124 55.43691297888912,...</td>\n",
       "      <td>poly1</td>\n",
       "      <td>0.0</td>\n",
       "      <td>0.0</td>\n",
       "      <td>0.0</td>\n",
       "      <td>1.0</td>\n",
       "      <td>1.0</td>\n",
       "      <td>0.0</td>\n",
       "      <td>0.0</td>\n",
       "      <td>0.0</td>\n",
       "      <td>0.0</td>\n",
       "      <td>0.0</td>\n",
       "      <td>0.0</td>\n",
       "      <td>0.0</td>\n",
       "      <td>0.0</td>\n",
       "    </tr>\n",
       "    <tr>\n",
       "      <th>3</th>\n",
       "      <td>8811aa722bfffff</td>\n",
       "      <td>5.868982</td>\n",
       "      <td>0.0</td>\n",
       "      <td>36.0</td>\n",
       "      <td>POLYGON ((37.42241082476207 55.85767681439805,...</td>\n",
       "      <td>poly2</td>\n",
       "      <td>2.0</td>\n",
       "      <td>2.0</td>\n",
       "      <td>0.0</td>\n",
       "      <td>12.0</td>\n",
       "      <td>2.0</td>\n",
       "      <td>0.0</td>\n",
       "      <td>0.0</td>\n",
       "      <td>0.0</td>\n",
       "      <td>0.0</td>\n",
       "      <td>0.0</td>\n",
       "      <td>0.0</td>\n",
       "      <td>0.0</td>\n",
       "      <td>0.0</td>\n",
       "    </tr>\n",
       "    <tr>\n",
       "      <th>4</th>\n",
       "      <td>8811aa714dfffff</td>\n",
       "      <td>2.937719</td>\n",
       "      <td>0.0</td>\n",
       "      <td>19.0</td>\n",
       "      <td>POLYGON ((37.45469517717559 55.7843306893976, ...</td>\n",
       "      <td>poly2</td>\n",
       "      <td>1.0</td>\n",
       "      <td>0.0</td>\n",
       "      <td>0.0</td>\n",
       "      <td>9.0</td>\n",
       "      <td>1.0</td>\n",
       "      <td>0.0</td>\n",
       "      <td>0.0</td>\n",
       "      <td>0.0</td>\n",
       "      <td>2.0</td>\n",
       "      <td>0.0</td>\n",
       "      <td>0.0</td>\n",
       "      <td>0.0</td>\n",
       "      <td>0.0</td>\n",
       "    </tr>\n",
       "  </tbody>\n",
       "</table>\n",
       "</div>"
      ],
      "text/plain": [
       "           address  duration_minutes  feat_1  feat_2  \\\n",
       "0  8811aa602dfffff          5.092667     0.0    25.0   \n",
       "1  8811aa45d9fffff          6.037037     0.0    63.0   \n",
       "2  881181a235fffff          4.722727     0.0    11.0   \n",
       "3  8811aa722bfffff          5.868982     0.0    36.0   \n",
       "4  8811aa714dfffff          2.937719     0.0    19.0   \n",
       "\n",
       "                                            geometry poly_side  atm  bank  \\\n",
       "0  POLYGON ((37.75103240708841 55.80603592669851,...     poly3  1.0   0.0   \n",
       "1  POLYGON ((37.40263832553934 55.71842073952227,...     poly0  5.0   3.0   \n",
       "2  POLYGON ((37.74271427608124 55.43691297888912,...     poly1  0.0   0.0   \n",
       "3  POLYGON ((37.42241082476207 55.85767681439805,...     poly2  2.0   2.0   \n",
       "4  POLYGON ((37.45469517717559 55.7843306893976, ...     poly2  1.0   0.0   \n",
       "\n",
       "   bus_station  bus_stop  cafe  device_charging_station  office  \\\n",
       "0          0.0       8.0   1.0                      0.0     0.0   \n",
       "1          0.0       5.0   2.0                      0.0     0.0   \n",
       "2          0.0       1.0   1.0                      0.0     0.0   \n",
       "3          0.0      12.0   2.0                      0.0     0.0   \n",
       "4          0.0       9.0   1.0                      0.0     0.0   \n",
       "\n",
       "   public_service  restaurant  shelter  station  traffic_signals  waste_basket  \n",
       "0             0.0         1.0      0.0      0.0              0.0           0.0  \n",
       "1             0.0         2.0      0.0      0.0              0.0           0.0  \n",
       "2             0.0         0.0      0.0      0.0              0.0           0.0  \n",
       "3             0.0         0.0      0.0      0.0              0.0           0.0  \n",
       "4             0.0         2.0      0.0      0.0              0.0           0.0  "
      ]
     },
     "execution_count": 3,
     "metadata": {},
     "output_type": "execute_result"
    }
   ],
   "source": [
    "data.head()"
   ]
  },
  {
   "cell_type": "markdown",
   "metadata": {},
   "source": [
    "### Другое разбиение для обучения и валидации"
   ]
  },
  {
   "cell_type": "markdown",
   "metadata": {},
   "source": [
    "Фиксируем данное разбиение и будем его использовать в дальнейшем"
   ]
  },
  {
   "cell_type": "code",
   "execution_count": 4,
   "metadata": {},
   "outputs": [],
   "source": [
    "X_train = data.drop(['address', 'geometry', \n",
    "                     'poly_side','duration_minutes'],axis=1)[data['poly_side'].isin(['poly1','poly2'])]\n",
    "\n",
    "y_train = np.log1p(data['duration_minutes'][data['poly_side'].isin(['poly1','poly2'])])"
   ]
  },
  {
   "cell_type": "code",
   "execution_count": 5,
   "metadata": {
    "scrolled": true
   },
   "outputs": [],
   "source": [
    "X_valid = data.drop(['address', 'geometry', \n",
    "                     'poly_side','duration_minutes'],axis=1)[data['poly_side'].isin(['poly0','poly3'])]\n",
    "\n",
    "y_valid = np.log1p(data['duration_minutes'][data['poly_side'].isin(['poly0','poly3'])])"
   ]
  },
  {
   "cell_type": "markdown",
   "metadata": {},
   "source": [
    "Оценим качество случайного леса на кросс валидации"
   ]
  },
  {
   "cell_type": "code",
   "execution_count": 6,
   "metadata": {
    "scrolled": true
   },
   "outputs": [
    {
     "name": "stdout",
     "output_type": "stream",
     "text": [
      "Metric: 1.9379533753970475\n"
     ]
    }
   ],
   "source": [
    "from sklearn.model_selection import cross_val_predict\n",
    "\n",
    "y_pred = cross_val_predict(RandomForestRegressor(n_estimators=100, bootstrap=True),\n",
    "    X_train, y_train, cv=5, n_jobs=-1)\n",
    "\n",
    "print('Metric:', np.sqrt(mean_squared_error(np.exp(y_train), np.exp(y_pred))))"
   ]
  },
  {
   "cell_type": "markdown",
   "metadata": {},
   "source": [
    "Мы применяли различные алгоритмы для обучения и мы можем выбрать тот алгоритм, который минимизирует ошибку. На практике нам часто не требуется бесконечно улучшать качество алгоритма, например можно зафиксировать модель случайного леса и далее сосредоточиться на интерпретации результата. \n",
    "\n",
    "В задаче регрессии алгоритм возвращает одно число, \n",
    "но на практике нам достаточно с какой-то степенью уверенности сказать, что предсказываемое значение меньше какого-то порога. Для этого нам нужно найти интервал предсказания - такой интервал, в который с некоторой уверенностью попадает значение целевой переменной."
   ]
  },
  {
   "cell_type": "markdown",
   "metadata": {},
   "source": [
    "### Квантильная регрессия"
   ]
  },
  {
   "cell_type": "markdown",
   "metadata": {},
   "source": [
    "в scikit-learn можно найти реализацию квантильной регрессии в алгоритме `Gradient Boosted Regressor`: для обучения нужно задать квантиль какого порядка мы хотим получить "
   ]
  },
  {
   "cell_type": "code",
   "execution_count": 7,
   "metadata": {},
   "outputs": [],
   "source": [
    "alpha = 0.95\n",
    "clf = GradientBoostingRegressor(loss='quantile', alpha=alpha,\n",
    "                                n_estimators=100, max_depth=3,\n",
    "                                learning_rate=.1, min_samples_leaf=9,\n",
    "                                min_samples_split=9)\n",
    "\n",
    "#обучаем 1-ю модель для предсказания верхней границы\n",
    "clf.fit(X_train, y_train)\n",
    "\n",
    "\n",
    "#обучаем 2-ю модель для предсказания нижней границы\n",
    "clf.set_params(alpha=1.0 - alpha)\n",
    "clf.fit(X_train, y_train)\n",
    "\n",
    "\n",
    "#обучаем модель для предсказания целевой переменной\n",
    "clf.set_params(loss='ls')\n",
    "clf.fit(X_train, y_train)\n",
    "\n",
    "#предсказание\n",
    "y_lower = clf.predict(X_valid)\n",
    "y_upper = clf.predict(X_valid)\n",
    "y_pred = clf.predict(X_valid)"
   ]
  },
  {
   "cell_type": "markdown",
   "metadata": {},
   "source": [
    "В итоге получаем, что с 90% вероятностью предсказанные значения будут лежать в этих интервалах:"
   ]
  },
  {
   "cell_type": "code",
   "execution_count": 8,
   "metadata": {},
   "outputs": [],
   "source": [
    "results = pd.DataFrame()\n",
    "\n",
    "results['y_lower'] = y_lower\n",
    "results['pred'] = y_pred\n",
    "results['y_upper'] = y_upper"
   ]
  },
  {
   "cell_type": "code",
   "execution_count": 9,
   "metadata": {},
   "outputs": [
    {
     "data": {
      "text/html": [
       "<div>\n",
       "<style scoped>\n",
       "    .dataframe tbody tr th:only-of-type {\n",
       "        vertical-align: middle;\n",
       "    }\n",
       "\n",
       "    .dataframe tbody tr th {\n",
       "        vertical-align: top;\n",
       "    }\n",
       "\n",
       "    .dataframe thead th {\n",
       "        text-align: right;\n",
       "    }\n",
       "</style>\n",
       "<table border=\"1\" class=\"dataframe\">\n",
       "  <thead>\n",
       "    <tr style=\"text-align: right;\">\n",
       "      <th></th>\n",
       "      <th>y_lower</th>\n",
       "      <th>pred</th>\n",
       "      <th>y_upper</th>\n",
       "    </tr>\n",
       "  </thead>\n",
       "  <tbody>\n",
       "    <tr>\n",
       "      <th>0</th>\n",
       "      <td>1.332314</td>\n",
       "      <td>1.750483</td>\n",
       "      <td>2.195313</td>\n",
       "    </tr>\n",
       "    <tr>\n",
       "      <th>1</th>\n",
       "      <td>1.606032</td>\n",
       "      <td>1.789236</td>\n",
       "      <td>2.007094</td>\n",
       "    </tr>\n",
       "    <tr>\n",
       "      <th>2</th>\n",
       "      <td>1.360539</td>\n",
       "      <td>1.809732</td>\n",
       "      <td>2.197030</td>\n",
       "    </tr>\n",
       "    <tr>\n",
       "      <th>3</th>\n",
       "      <td>1.178550</td>\n",
       "      <td>1.739170</td>\n",
       "      <td>2.095096</td>\n",
       "    </tr>\n",
       "    <tr>\n",
       "      <th>4</th>\n",
       "      <td>0.682342</td>\n",
       "      <td>1.694541</td>\n",
       "      <td>2.166694</td>\n",
       "    </tr>\n",
       "  </tbody>\n",
       "</table>\n",
       "</div>"
      ],
      "text/plain": [
       "    y_lower      pred   y_upper\n",
       "0  1.332314  1.750483  2.195313\n",
       "1  1.606032  1.789236  2.007094\n",
       "2  1.360539  1.809732  2.197030\n",
       "3  1.178550  1.739170  2.095096\n",
       "4  0.682342  1.694541  2.166694"
      ]
     },
     "execution_count": 9,
     "metadata": {},
     "output_type": "execute_result"
    }
   ],
   "source": [
    "results.head()"
   ]
  },
  {
   "cell_type": "markdown",
   "metadata": {},
   "source": [
    "Основной минус данного подхода - для разных квантилей нужно обучать отдельные модели. Поэтому ниже мы рассмотрим подход, который позволит сократить количество моделей и с помощью этого подхода можно находить интервал предсказания для разных квантилей."
   ]
  },
  {
   "cell_type": "markdown",
   "metadata": {},
   "source": [
    "### Другой подход - предсказание ошибки"
   ]
  },
  {
   "cell_type": "markdown",
   "metadata": {},
   "source": [
    "Делаем две модели - первая модель предсказывает целевую переменную, а вторая модель предсказывает ошибку"
   ]
  },
  {
   "cell_type": "code",
   "execution_count": 10,
   "metadata": {},
   "outputs": [],
   "source": [
    "X1, X2, y1, y2 = train_test_split(X_train, y_train, test_size=0.2)"
   ]
  },
  {
   "cell_type": "code",
   "execution_count": 11,
   "metadata": {},
   "outputs": [
    {
     "data": {
      "text/plain": [
       "RandomForestRegressor(bootstrap=True, criterion='mse', max_depth=None,\n",
       "           max_features='auto', max_leaf_nodes=None,\n",
       "           min_impurity_split=1e-07, min_samples_leaf=1,\n",
       "           min_samples_split=2, min_weight_fraction_leaf=0.0,\n",
       "           n_estimators=10, n_jobs=1, oob_score=False, random_state=None,\n",
       "           verbose=0, warm_start=False)"
      ]
     },
     "execution_count": 11,
     "metadata": {},
     "output_type": "execute_result"
    }
   ],
   "source": [
    "clf_mean = RandomForestRegressor(criterion='mae')\n",
    "clf_mean.fit(X1, y1)\n",
    "\n",
    "y2_pred = clf_mean.predict(X2)\n",
    "y2_pred_error = (y2 - y2_pred)**2\n",
    "\n",
    "clf_std = RandomForestRegressor(criterion='mse')\n",
    "\n",
    "clf_std.fit(X2, y2_pred_error)"
   ]
  },
  {
   "cell_type": "markdown",
   "metadata": {},
   "source": [
    "Находим интервалы на отложенной выборке"
   ]
  },
  {
   "cell_type": "code",
   "execution_count": 12,
   "metadata": {},
   "outputs": [],
   "source": [
    "y_test_mean = clf_mean.predict(X_valid)\n",
    "y_test_stdev = clf_std.predict(X_valid)"
   ]
  },
  {
   "cell_type": "markdown",
   "metadata": {},
   "source": [
    "Далее находим интервал +/- 2 сигмы"
   ]
  },
  {
   "cell_type": "code",
   "execution_count": 13,
   "metadata": {},
   "outputs": [],
   "source": [
    "results = pd.DataFrame()\n",
    "results['predict_lower'] = y_test_mean - (2*(y_test_stdev)**0.5)\n",
    "results['predict'] = y_test_mean\n",
    "results['predict_upper'] = y_test_mean + (2*(y_test_stdev)**0.5)"
   ]
  },
  {
   "cell_type": "code",
   "execution_count": 14,
   "metadata": {},
   "outputs": [
    {
     "data": {
      "text/html": [
       "<div>\n",
       "<style scoped>\n",
       "    .dataframe tbody tr th:only-of-type {\n",
       "        vertical-align: middle;\n",
       "    }\n",
       "\n",
       "    .dataframe tbody tr th {\n",
       "        vertical-align: top;\n",
       "    }\n",
       "\n",
       "    .dataframe thead th {\n",
       "        text-align: right;\n",
       "    }\n",
       "</style>\n",
       "<table border=\"1\" class=\"dataframe\">\n",
       "  <thead>\n",
       "    <tr style=\"text-align: right;\">\n",
       "      <th></th>\n",
       "      <th>predict_lower</th>\n",
       "      <th>predict</th>\n",
       "      <th>predict_upper</th>\n",
       "    </tr>\n",
       "  </thead>\n",
       "  <tbody>\n",
       "    <tr>\n",
       "      <th>0</th>\n",
       "      <td>1.077062</td>\n",
       "      <td>1.701941</td>\n",
       "      <td>2.326820</td>\n",
       "    </tr>\n",
       "    <tr>\n",
       "      <th>1</th>\n",
       "      <td>1.457680</td>\n",
       "      <td>1.757029</td>\n",
       "      <td>2.056378</td>\n",
       "    </tr>\n",
       "    <tr>\n",
       "      <th>2</th>\n",
       "      <td>1.178265</td>\n",
       "      <td>1.743278</td>\n",
       "      <td>2.308292</td>\n",
       "    </tr>\n",
       "    <tr>\n",
       "      <th>3</th>\n",
       "      <td>0.761148</td>\n",
       "      <td>1.806959</td>\n",
       "      <td>2.852770</td>\n",
       "    </tr>\n",
       "    <tr>\n",
       "      <th>4</th>\n",
       "      <td>0.378254</td>\n",
       "      <td>1.805174</td>\n",
       "      <td>3.232093</td>\n",
       "    </tr>\n",
       "  </tbody>\n",
       "</table>\n",
       "</div>"
      ],
      "text/plain": [
       "   predict_lower   predict  predict_upper\n",
       "0       1.077062  1.701941       2.326820\n",
       "1       1.457680  1.757029       2.056378\n",
       "2       1.178265  1.743278       2.308292\n",
       "3       0.761148  1.806959       2.852770\n",
       "4       0.378254  1.805174       3.232093"
      ]
     },
     "execution_count": 14,
     "metadata": {},
     "output_type": "execute_result"
    }
   ],
   "source": [
    "results.head()"
   ]
  }
 ],
 "metadata": {
  "kernelspec": {
   "display_name": "Python 3",
   "language": "python",
   "name": "python3"
  },
  "language_info": {
   "codemirror_mode": {
    "name": "ipython",
    "version": 3
   },
   "file_extension": ".py",
   "mimetype": "text/x-python",
   "name": "python",
   "nbconvert_exporter": "python",
   "pygments_lexer": "ipython3",
   "version": "3.7.3"
  },
  "toc": {
   "nav_menu": {},
   "number_sections": true,
   "sideBar": true,
   "skip_h1_title": false,
   "toc_cell": true,
   "toc_position": {
    "height": "755px",
    "left": "0px",
    "right": "1293px",
    "top": "66px",
    "width": "124px"
   },
   "toc_section_display": "none",
   "toc_window_display": false
  },
  "varInspector": {
   "cols": {
    "lenName": 16,
    "lenType": 16,
    "lenVar": 40
   },
   "kernels_config": {
    "python": {
     "delete_cmd_postfix": "",
     "delete_cmd_prefix": "del ",
     "library": "var_list.py",
     "varRefreshCmd": "print(var_dic_list())"
    },
    "r": {
     "delete_cmd_postfix": ") ",
     "delete_cmd_prefix": "rm(",
     "library": "var_list.r",
     "varRefreshCmd": "cat(var_dic_list()) "
    }
   },
   "types_to_exclude": [
    "module",
    "function",
    "builtin_function_or_method",
    "instance",
    "_Feature"
   ],
   "window_display": false
  }
 },
 "nbformat": 4,
 "nbformat_minor": 2
}
