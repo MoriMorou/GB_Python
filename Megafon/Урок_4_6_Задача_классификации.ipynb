{
  "nbformat": 4,
  "nbformat_minor": 0,
  "metadata": {
    "kernelspec": {
      "display_name": "Python 3",
      "language": "python",
      "name": "python3"
    },
    "language_info": {
      "codemirror_mode": {
        "name": "ipython",
        "version": 3
      },
      "file_extension": ".py",
      "mimetype": "text/x-python",
      "name": "python",
      "nbconvert_exporter": "python",
      "pygments_lexer": "ipython3",
      "version": "3.7.0"
    },
    "colab": {
      "name": "Урок 4-6. Задача классификации.ipynb",
      "provenance": []
    }
  },
  "cells": [
    {
      "cell_type": "code",
      "metadata": {
        "id": "clDCdF9Wa15Q",
        "colab_type": "code",
        "colab": {}
      },
      "source": [
        "%matplotlib inline"
      ],
      "execution_count": 0,
      "outputs": []
    },
    {
      "cell_type": "markdown",
      "metadata": {
        "id": "B7f_29H3a15W",
        "colab_type": "text"
      },
      "source": [
        "# 1 Baseline"
      ]
    },
    {
      "cell_type": "markdown",
      "metadata": {
        "id": "ThYPjyNja15Y",
        "colab_type": "text"
      },
      "source": [
        "Считываем данные, строим baseline модель и рассматриваем разные метрики и графики для задачи классификации."
      ]
    },
    {
      "cell_type": "code",
      "metadata": {
        "id": "N7iZYTXZa15Z",
        "colab_type": "code",
        "colab": {}
      },
      "source": [
        "import warnings\n",
        "warnings.filterwarnings(\"ignore\")"
      ],
      "execution_count": 0,
      "outputs": []
    },
    {
      "cell_type": "code",
      "metadata": {
        "id": "Hu0RvoHva15d",
        "colab_type": "code",
        "colab": {},
        "outputId": "6f169d66-3bc1-4f54-aa40-52430e95e47f"
      },
      "source": [
        "import pandas as pd\n",
        "import numpy as np\n",
        "\n",
        "from matplotlib import pyplot as plt\n",
        "\n",
        "plt.style.use('ggplot')\n",
        "\n",
        "import sklearn\n",
        "print('The scikit-learn version is {}.'.format(sklearn.__version__))"
      ],
      "execution_count": 0,
      "outputs": [
        {
          "output_type": "stream",
          "text": [
            "The scikit-learn version is 0.20.1.\n"
          ],
          "name": "stdout"
        }
      ]
    },
    {
      "cell_type": "markdown",
      "metadata": {
        "id": "dpQ7VFWqa15j",
        "colab_type": "text"
      },
      "source": [
        "### 1.1 Данные"
      ]
    },
    {
      "cell_type": "code",
      "metadata": {
        "id": "Irsk2bMAa15k",
        "colab_type": "code",
        "colab": {},
        "outputId": "a74c8196-13fc-4bf0-ee68-3e6e64a539c9"
      },
      "source": [
        "data = pd.read_csv('binary_project.csv')\n",
        "data.shape"
      ],
      "execution_count": 0,
      "outputs": [
        {
          "output_type": "execute_result",
          "data": {
            "text/plain": [
              "(24521, 262)"
            ]
          },
          "metadata": {
            "tags": []
          },
          "execution_count": 4
        }
      ]
    },
    {
      "cell_type": "code",
      "metadata": {
        "id": "gE6NOAvKa15n",
        "colab_type": "code",
        "colab": {},
        "outputId": "1600be6b-6e08-4966-9d8c-67c785d0c560"
      },
      "source": [
        "data.head()"
      ],
      "execution_count": 0,
      "outputs": [
        {
          "output_type": "execute_result",
          "data": {
            "text/html": [
              "<div>\n",
              "<style scoped>\n",
              "    .dataframe tbody tr th:only-of-type {\n",
              "        vertical-align: middle;\n",
              "    }\n",
              "\n",
              "    .dataframe tbody tr th {\n",
              "        vertical-align: top;\n",
              "    }\n",
              "\n",
              "    .dataframe thead th {\n",
              "        text-align: right;\n",
              "    }\n",
              "</style>\n",
              "<table border=\"1\" class=\"dataframe\">\n",
              "  <thead>\n",
              "    <tr style=\"text-align: right;\">\n",
              "      <th></th>\n",
              "      <th>ID</th>\n",
              "      <th>TARGET</th>\n",
              "      <th>FEATURE_0</th>\n",
              "      <th>FEATURE_1</th>\n",
              "      <th>FEATURE_2</th>\n",
              "      <th>FEATURE_3</th>\n",
              "      <th>FEATURE_4</th>\n",
              "      <th>FEATURE_5</th>\n",
              "      <th>FEATURE_6</th>\n",
              "      <th>FEATURE_7</th>\n",
              "      <th>...</th>\n",
              "      <th>FEATURE_250</th>\n",
              "      <th>FEATURE_251</th>\n",
              "      <th>FEATURE_252</th>\n",
              "      <th>FEATURE_253</th>\n",
              "      <th>FEATURE_254</th>\n",
              "      <th>FEATURE_255</th>\n",
              "      <th>FEATURE_256</th>\n",
              "      <th>FEATURE_257</th>\n",
              "      <th>FEATURE_258</th>\n",
              "      <th>FEATURE_259</th>\n",
              "    </tr>\n",
              "  </thead>\n",
              "  <tbody>\n",
              "    <tr>\n",
              "      <th>0</th>\n",
              "      <td>1053371037</td>\n",
              "      <td>1</td>\n",
              "      <td>2.0</td>\n",
              "      <td>2.0</td>\n",
              "      <td>0.0</td>\n",
              "      <td>0.0</td>\n",
              "      <td>0.0</td>\n",
              "      <td>0.0</td>\n",
              "      <td>0.0</td>\n",
              "      <td>-114.527812</td>\n",
              "      <td>...</td>\n",
              "      <td>39.0</td>\n",
              "      <td>2.0</td>\n",
              "      <td>223.118594</td>\n",
              "      <td>290.015143</td>\n",
              "      <td>1.0</td>\n",
              "      <td>1.0</td>\n",
              "      <td>0.0</td>\n",
              "      <td>1.0</td>\n",
              "      <td>2.0</td>\n",
              "      <td>2.0</td>\n",
              "    </tr>\n",
              "    <tr>\n",
              "      <th>1</th>\n",
              "      <td>76507184</td>\n",
              "      <td>0</td>\n",
              "      <td>1.0</td>\n",
              "      <td>1.0</td>\n",
              "      <td>0.0</td>\n",
              "      <td>0.0</td>\n",
              "      <td>1.0</td>\n",
              "      <td>0.0</td>\n",
              "      <td>0.0</td>\n",
              "      <td>329.828334</td>\n",
              "      <td>...</td>\n",
              "      <td>25.0</td>\n",
              "      <td>82.0</td>\n",
              "      <td>479.616045</td>\n",
              "      <td>611.651594</td>\n",
              "      <td>0.0</td>\n",
              "      <td>1.0</td>\n",
              "      <td>0.0</td>\n",
              "      <td>1.0</td>\n",
              "      <td>1.0</td>\n",
              "      <td>1.0</td>\n",
              "    </tr>\n",
              "    <tr>\n",
              "      <th>2</th>\n",
              "      <td>76753690</td>\n",
              "      <td>1</td>\n",
              "      <td>0.0</td>\n",
              "      <td>0.0</td>\n",
              "      <td>0.0</td>\n",
              "      <td>0.0</td>\n",
              "      <td>0.0</td>\n",
              "      <td>0.0</td>\n",
              "      <td>0.0</td>\n",
              "      <td>17.427338</td>\n",
              "      <td>...</td>\n",
              "      <td>119.0</td>\n",
              "      <td>0.0</td>\n",
              "      <td>352.268014</td>\n",
              "      <td>564.573421</td>\n",
              "      <td>1.0</td>\n",
              "      <td>1.0</td>\n",
              "      <td>0.0</td>\n",
              "      <td>1.0</td>\n",
              "      <td>1.0</td>\n",
              "      <td>1.0</td>\n",
              "    </tr>\n",
              "    <tr>\n",
              "      <th>3</th>\n",
              "      <td>1026167358</td>\n",
              "      <td>0</td>\n",
              "      <td>1.0</td>\n",
              "      <td>1.0</td>\n",
              "      <td>0.0</td>\n",
              "      <td>0.0</td>\n",
              "      <td>0.0</td>\n",
              "      <td>0.0</td>\n",
              "      <td>0.0</td>\n",
              "      <td>23.621397</td>\n",
              "      <td>...</td>\n",
              "      <td>1.0</td>\n",
              "      <td>0.0</td>\n",
              "      <td>410.524985</td>\n",
              "      <td>421.653876</td>\n",
              "      <td>1.0</td>\n",
              "      <td>0.0</td>\n",
              "      <td>0.0</td>\n",
              "      <td>1.0</td>\n",
              "      <td>2.0</td>\n",
              "      <td>2.0</td>\n",
              "    </tr>\n",
              "    <tr>\n",
              "      <th>4</th>\n",
              "      <td>7220095746</td>\n",
              "      <td>0</td>\n",
              "      <td>4.0</td>\n",
              "      <td>3.0</td>\n",
              "      <td>1.0</td>\n",
              "      <td>0.0</td>\n",
              "      <td>1.0</td>\n",
              "      <td>0.0</td>\n",
              "      <td>0.0</td>\n",
              "      <td>677.745861</td>\n",
              "      <td>...</td>\n",
              "      <td>21.0</td>\n",
              "      <td>0.0</td>\n",
              "      <td>439.171356</td>\n",
              "      <td>476.189288</td>\n",
              "      <td>1.0</td>\n",
              "      <td>1.0</td>\n",
              "      <td>0.0</td>\n",
              "      <td>1.0</td>\n",
              "      <td>1.0</td>\n",
              "      <td>1.0</td>\n",
              "    </tr>\n",
              "  </tbody>\n",
              "</table>\n",
              "<p>5 rows × 262 columns</p>\n",
              "</div>"
            ],
            "text/plain": [
              "           ID  TARGET  FEATURE_0  FEATURE_1  FEATURE_2  FEATURE_3  FEATURE_4  \\\n",
              "0  1053371037       1        2.0        2.0        0.0        0.0        0.0   \n",
              "1    76507184       0        1.0        1.0        0.0        0.0        1.0   \n",
              "2    76753690       1        0.0        0.0        0.0        0.0        0.0   \n",
              "3  1026167358       0        1.0        1.0        0.0        0.0        0.0   \n",
              "4  7220095746       0        4.0        3.0        1.0        0.0        1.0   \n",
              "\n",
              "   FEATURE_5  FEATURE_6   FEATURE_7     ...       FEATURE_250  FEATURE_251  \\\n",
              "0        0.0        0.0 -114.527812     ...              39.0          2.0   \n",
              "1        0.0        0.0  329.828334     ...              25.0         82.0   \n",
              "2        0.0        0.0   17.427338     ...             119.0          0.0   \n",
              "3        0.0        0.0   23.621397     ...               1.0          0.0   \n",
              "4        0.0        0.0  677.745861     ...              21.0          0.0   \n",
              "\n",
              "   FEATURE_252  FEATURE_253  FEATURE_254  FEATURE_255  FEATURE_256  \\\n",
              "0   223.118594   290.015143          1.0          1.0          0.0   \n",
              "1   479.616045   611.651594          0.0          1.0          0.0   \n",
              "2   352.268014   564.573421          1.0          1.0          0.0   \n",
              "3   410.524985   421.653876          1.0          0.0          0.0   \n",
              "4   439.171356   476.189288          1.0          1.0          0.0   \n",
              "\n",
              "   FEATURE_257  FEATURE_258  FEATURE_259  \n",
              "0          1.0          2.0          2.0  \n",
              "1          1.0          1.0          1.0  \n",
              "2          1.0          1.0          1.0  \n",
              "3          1.0          2.0          2.0  \n",
              "4          1.0          1.0          1.0  \n",
              "\n",
              "[5 rows x 262 columns]"
            ]
          },
          "metadata": {
            "tags": []
          },
          "execution_count": 5
        }
      ]
    },
    {
      "cell_type": "code",
      "metadata": {
        "id": "icR7W9TTa15r",
        "colab_type": "code",
        "colab": {}
      },
      "source": [
        "data = data.set_index('ID')"
      ],
      "execution_count": 0,
      "outputs": []
    },
    {
      "cell_type": "code",
      "metadata": {
        "id": "Md9kfKssa15u",
        "colab_type": "code",
        "colab": {}
      },
      "source": [
        "# Разделим признаки и целевую переменную\n",
        "data_prelim = data.copy()\n",
        "\n",
        "X = data_prelim.drop('TARGET', axis=1)\n",
        "y = data_prelim['TARGET']"
      ],
      "execution_count": 0,
      "outputs": []
    },
    {
      "cell_type": "markdown",
      "metadata": {
        "id": "sPnGt8I4a15x",
        "colab_type": "text"
      },
      "source": [
        " "
      ]
    },
    {
      "cell_type": "code",
      "metadata": {
        "id": "IepS_nCla15y",
        "colab_type": "code",
        "colab": {},
        "outputId": "49d33ba8-acd2-4068-976e-59ba7b1ed093"
      },
      "source": [
        "print(\"ID уникален? \", X.index.is_unique)\n",
        "print(\"Есть ли дубли в строках?\", X.duplicated().sum())\n",
        "print(\"Сколько процент признаков могут принимать null-значениями? %d%%\" % float((X.isnull().sum() > 0).sum()/X.shape[1]*100))"
      ],
      "execution_count": 0,
      "outputs": [
        {
          "output_type": "stream",
          "text": [
            "ID уникален?  True\n",
            "Есть ли дубли в строках? 0\n",
            "Сколько процент признаков могут принимать null-значениями? 20%\n"
          ],
          "name": "stdout"
        }
      ]
    },
    {
      "cell_type": "markdown",
      "metadata": {
        "id": "BsGloyYYa152",
        "colab_type": "text"
      },
      "source": [
        "**У 20% признаков есть прощенные значения**"
      ]
    },
    {
      "cell_type": "markdown",
      "metadata": {
        "id": "2rB6_wI4a153",
        "colab_type": "text"
      },
      "source": [
        " "
      ]
    },
    {
      "cell_type": "markdown",
      "metadata": {
        "id": "tpU45-Sea154",
        "colab_type": "text"
      },
      "source": [
        "### 1.2 Разделяем на train и test"
      ]
    },
    {
      "cell_type": "code",
      "metadata": {
        "id": "j8n7A52oa155",
        "colab_type": "code",
        "colab": {},
        "outputId": "1eff5b22-e08d-474f-bd0a-c7a3e4a93166"
      },
      "source": [
        "(y.value_counts()/y.shape[0]).plot(kind='bar', title='Распределение целевой переменной');\n",
        "y.value_counts()/y.shape"
      ],
      "execution_count": 0,
      "outputs": [
        {
          "output_type": "execute_result",
          "data": {
            "text/plain": [
              "0    0.708454\n",
              "1    0.291546\n",
              "Name: TARGET, dtype: float64"
            ]
          },
          "metadata": {
            "tags": []
          },
          "execution_count": 9
        },
        {
          "output_type": "display_data",
          "data": {
            "image/png": "[encoded data removed]",
            "text/plain": [
              "<Figure size 432x288 with 1 Axes>"
            ]
          },
          "metadata": {
            "tags": []
          }
        }
      ]
    },
    {
      "cell_type": "code",
      "metadata": {
        "id": "sK6It7IMa159",
        "colab_type": "code",
        "colab": {},
        "outputId": "bfb296d2-ab8d-4690-e291-8ec73f42045a"
      },
      "source": [
        "from sklearn.model_selection import train_test_split\n",
        "\n",
        "# Зафиксируем значение random_state для воспроизводимости результатов.\n",
        "RANDOM_STATE = 888\n",
        "\n",
        "train_idx, test_idx = train_test_split(X.index, test_size=0.25, random_state=RANDOM_STATE)\n",
        "\n",
        "y_train, y_test = y.loc[train_idx], y.loc[test_idx]\n",
        "X_train, X_test = X.loc[train_idx], X.loc[test_idx]\n",
        "\n",
        "print(\"Train\")\n",
        "print(y.loc[train_idx].value_counts()/train_idx.shape[0])\n",
        "print()\n",
        "print(\"Test\")\n",
        "print(y.loc[test_idx].value_counts()/test_idx.shape[0])"
      ],
      "execution_count": 0,
      "outputs": [
        {
          "output_type": "stream",
          "text": [
            "Train\n",
            "0    0.709299\n",
            "1    0.290701\n",
            "Name: TARGET, dtype: float64\n",
            "\n",
            "Test\n",
            "0    0.705921\n",
            "1    0.294079\n",
            "Name: TARGET, dtype: float64\n"
          ],
          "name": "stdout"
        }
      ]
    },
    {
      "cell_type": "markdown",
      "metadata": {
        "id": "my-_DF5na16A",
        "colab_type": "text"
      },
      "source": [
        " "
      ]
    },
    {
      "cell_type": "markdown",
      "metadata": {
        "id": "ZNVcSqbNa16A",
        "colab_type": "text"
      },
      "source": [
        "### 1.3 Pipeline для baseline модели"
      ]
    },
    {
      "cell_type": "markdown",
      "metadata": {
        "id": "CpXEzdLaa16B",
        "colab_type": "text"
      },
      "source": [
        "Для построения baseline модели будем использовать логистическую регрессию."
      ]
    },
    {
      "cell_type": "code",
      "metadata": {
        "id": "YUrviD1xa16C",
        "colab_type": "code",
        "colab": {}
      },
      "source": [
        "from sklearn.linear_model import LogisticRegression\n",
        "\n",
        "step_log_reg = ('log_reg', LogisticRegression(random_state=RANDOM_STATE, n_jobs=-1))"
      ],
      "execution_count": 0,
      "outputs": []
    },
    {
      "cell_type": "markdown",
      "metadata": {
        "id": "RURRVGd2a16F",
        "colab_type": "text"
      },
      "source": [
        "В датасете порядка 20% признаков содержат пропущенные значения. Т.к. логистическая регрессия не умеет обрабатывать пропущенные значения, мы должны заполнить их сами. Для этого воспользуемся классом sklearn.impute.SimpleImputer. У этого класса есть параметр strategy, который определяет способ заполнения пропусков. Он может принимать несколько значений."
      ]
    },
    {
      "cell_type": "code",
      "metadata": {
        "id": "CqXiCUSMa16G",
        "colab_type": "code",
        "colab": {}
      },
      "source": [
        "from sklearn.impute import SimpleImputer"
      ],
      "execution_count": 0,
      "outputs": []
    },
    {
      "cell_type": "code",
      "metadata": {
        "scrolled": false,
        "id": "rR0GGH9fa16J",
        "colab_type": "code",
        "colab": {},
        "outputId": "896c8ae6-6721-4461-f7d4-dcad519e59f5"
      },
      "source": [
        "SimpleImputer()"
      ],
      "execution_count": 0,
      "outputs": [
        {
          "output_type": "execute_result",
          "data": {
            "text/plain": [
              "SimpleImputer(copy=True, fill_value=None, missing_values=nan, strategy='mean',\n",
              "       verbose=0)"
            ]
          },
          "metadata": {
            "tags": []
          },
          "execution_count": 13
        }
      ]
    },
    {
      "cell_type": "markdown",
      "metadata": {
        "id": "drpp9SDIa16N",
        "colab_type": "text"
      },
      "source": [
        "Для baseline модели выставим параметр strategy в значение mean."
      ]
    },
    {
      "cell_type": "code",
      "metadata": {
        "id": "qJOaImWsa16O",
        "colab_type": "code",
        "colab": {}
      },
      "source": [
        "step_imputer = (\"imputer\", SimpleImputer(strategy=\"mean\"))"
      ],
      "execution_count": 0,
      "outputs": []
    },
    {
      "cell_type": "markdown",
      "metadata": {
        "id": "4tjsluqna16R",
        "colab_type": "text"
      },
      "source": [
        " "
      ]
    },
    {
      "cell_type": "markdown",
      "metadata": {
        "id": "J8JdiKjPa16S",
        "colab_type": "text"
      },
      "source": [
        "Базовый пайплайн будет состоять только из двух шагов:\n",
        "- Заполнение пропусков средним\n",
        "- Логистическая регрессия с базовыми параметрами"
      ]
    },
    {
      "cell_type": "code",
      "metadata": {
        "id": "1bsVMDNea16T",
        "colab_type": "code",
        "colab": {}
      },
      "source": [
        "from sklearn.pipeline import Pipeline\n",
        "\n",
        "bl_estimator = Pipeline([\n",
        "    step_imputer,\n",
        "    step_log_reg\n",
        "])"
      ],
      "execution_count": 0,
      "outputs": []
    },
    {
      "cell_type": "markdown",
      "metadata": {
        "id": "j506ZdkEa16V",
        "colab_type": "text"
      },
      "source": [
        " "
      ]
    },
    {
      "cell_type": "markdown",
      "metadata": {
        "id": "XrQ4cecVa16W",
        "colab_type": "text"
      },
      "source": [
        "### 1.4 Кросс-валидация"
      ]
    },
    {
      "cell_type": "markdown",
      "metadata": {
        "id": "GKdM0VJJa16X",
        "colab_type": "text"
      },
      "source": [
        "Для оценки качества модели будем использовать кросс-валидацию по 3-ем фолдам."
      ]
    },
    {
      "cell_type": "markdown",
      "metadata": {
        "id": "yjpnSzYEa16Y",
        "colab_type": "text"
      },
      "source": [
        "* Folds: 1 2 3\n",
        "    * Train: 1,2 Val: 3\n",
        "    * Train: 1,3 Val: 2\n",
        "    * Train: 2,3 Val: 1\n",
        "\n",
        "https://scikit-learn.org/stable/modules/model_evaluation.html#scoring-parameter\n",
        "\n",
        "Варианты:\n",
        "- ‘precision’, ‘recall’, ‘accuracy’, ‘f1’\n",
        "- ‘average_precision’, ‘roc_auc’"
      ]
    },
    {
      "cell_type": "code",
      "metadata": {
        "id": "5BSagf6Ya16Z",
        "colab_type": "code",
        "colab": {}
      },
      "source": [
        "from sklearn.model_selection import KFold\n",
        "from sklearn.model_selection import cross_validate\n",
        "\n",
        "kfold_cv = KFold(n_splits=3, shuffle=True, random_state=RANDOM_STATE)\n",
        "\n",
        "def run_cv(estimator, cv, X, y, scoring='roc_auc', model_name=\"\"):\n",
        "    cv_res = cross_validate(estimator, X, y, cv=cv, scoring=scoring, n_jobs=-1)\n",
        "    \n",
        "    print(\"%s: %s = %0.2f (+/- %0.2f)\" % (model_name,\n",
        "                                         scoring,\n",
        "                                         cv_res['test_score'].mean(),\n",
        "                                         cv_res['test_score'].std() * 2))"
      ],
      "execution_count": 0,
      "outputs": []
    },
    {
      "cell_type": "markdown",
      "metadata": {
        "id": "nhioc0A9a16c",
        "colab_type": "text"
      },
      "source": [
        "Посмотрим на значение метрики на кросс-валидации, оно понадобится для сравнения с последующими моделями."
      ]
    },
    {
      "cell_type": "code",
      "metadata": {
        "id": "FUHDrCB0a16d",
        "colab_type": "code",
        "colab": {},
        "outputId": "da69b762-7a22-4f44-cc2d-9155e6611a12"
      },
      "source": [
        "run_cv(bl_estimator, kfold_cv, X_train, y_train, model_name=\"Baseline\");"
      ],
      "execution_count": 0,
      "outputs": [
        {
          "output_type": "stream",
          "text": [
            "Baseline: roc_auc = 0.67 (+/- 0.02)\n"
          ],
          "name": "stdout"
        }
      ]
    },
    {
      "cell_type": "markdown",
      "metadata": {
        "id": "vpVYQhxZa16j",
        "colab_type": "text"
      },
      "source": [
        "### 1.5 Графики и метрики baseline модели на тесте"
      ]
    },
    {
      "cell_type": "code",
      "metadata": {
        "id": "y7yRHztia16j",
        "colab_type": "code",
        "colab": {}
      },
      "source": [
        "bl_estimator.fit(X_train, y_train)\n",
        "\n",
        "bl_y_pred = bl_estimator.predict_proba(X_test)[:,1]"
      ],
      "execution_count": 0,
      "outputs": []
    },
    {
      "cell_type": "markdown",
      "metadata": {
        "id": "j-y-MZmIa16m",
        "colab_type": "text"
      },
      "source": [
        "#### Распределение предсказаний baseline модели"
      ]
    },
    {
      "cell_type": "code",
      "metadata": {
        "id": "6YCKaRLGa16m",
        "colab_type": "code",
        "colab": {},
        "outputId": "e0da06a4-6ca3-4a60-b520-963fa0335275"
      },
      "source": [
        "plt.title(\"Baseline: распределение предсказаний модели\")\n",
        "plt.hist(bl_y_pred[~y_test.astype(bool)], bins=100, color='r', alpha=0.7);\n",
        "plt.hist(bl_y_pred[y_test.astype(bool)], bins=100, color='b', alpha=0.7);"
      ],
      "execution_count": 0,
      "outputs": [
        {
          "output_type": "display_data",
          "data": {
            "image/png": "[encoded data removed]",
            "text/plain": [
              "<Figure size 432x288 with 1 Axes>"
            ]
          },
          "metadata": {
            "tags": []
          }
        }
      ]
    },
    {
      "cell_type": "markdown",
      "metadata": {
        "id": "4P0CmHaPa16q",
        "colab_type": "text"
      },
      "source": [
        "#### Roc и PR Кривые"
      ]
    },
    {
      "cell_type": "code",
      "metadata": {
        "id": "3GEh1SBBa16q",
        "colab_type": "code",
        "colab": {}
      },
      "source": [
        "from sklearn.metrics import precision_recall_curve, roc_curve, auc\n",
        "\n",
        "fpr, tpr, roc_thresholds = roc_curve(y_test, bl_y_pred)\n",
        "precision, recall, pr_thresholds = precision_recall_curve(y_test, bl_y_pred)"
      ],
      "execution_count": 0,
      "outputs": []
    },
    {
      "cell_type": "code",
      "metadata": {
        "id": "VkiADtdTa16t",
        "colab_type": "code",
        "colab": {},
        "outputId": "44b7d84a-bada-45b2-86ec-4a323860dc13"
      },
      "source": [
        "def plot_roc_curve(fpr, tpr, model_name=\"\", color=None):\n",
        "    plt.plot(fpr, tpr, label='%s: ROC curve (area = %0.2f)' %\n",
        "             (model_name, auc(fpr, tpr)), color=color)\n",
        "    plt.plot([0, 1], [0, 1], 'k--')\n",
        "    plt.axis([0.0, 1.0, 0.0, 1.05])\n",
        "    plt.xlabel('False Positive Rate')\n",
        "    plt.ylabel('True Positive Rate')\n",
        "    plt.title('%s: Receiver operating characteristic curve' % model_name)\n",
        "    plt.legend(loc=\"lower right\")\n",
        "\n",
        "plt.figure(figsize=(7, 7))\n",
        "plot_roc_curve(fpr, tpr, \"Baseline\", color='r')\n",
        "print(\"Baseline: AUC_ROC = %.3f\" % auc(fpr, tpr))"
      ],
      "execution_count": 0,
      "outputs": [
        {
          "output_type": "stream",
          "text": [
            "Baseline: AUC_ROC = 0.676\n"
          ],
          "name": "stdout"
        },
        {
          "output_type": "display_data",
          "data": {
            "image/png": "[encoded data removed]",
            "text/plain": [
              "<Figure size 504x504 with 1 Axes>"
            ]
          },
          "metadata": {
            "tags": []
          }
        }
      ]
    },
    {
      "cell_type": "code",
      "metadata": {
        "id": "BtmvB8i6a16w",
        "colab_type": "code",
        "colab": {},
        "outputId": "4e7e7449-e71c-4323-d244-84d5a90ab67f"
      },
      "source": [
        "def plot_precision_recall_curve(recall, precision, model_name=\"\", color=None):\n",
        "    plt.plot(recall, precision, label='%s: Precision-Recall curve (area = %0.2f)' %\n",
        "             (model_name, auc(recall, precision)), color=color)\n",
        "    plt.xlabel('Recall')\n",
        "    plt.ylabel('Precision')\n",
        "    plt.title(\"%s: Precision-Recall curve\" % model_name)\n",
        "    plt.axis([0.0, 1.0, 0.0, 1.05])\n",
        "    plt.legend(loc=\"lower left\")\n",
        "\n",
        "plt.figure(figsize=(7, 7))\n",
        "    \n",
        "plot_precision_recall_curve(recall, precision, \"Baseline\", color='r')\n",
        "print(\"Baseline: AUC_PR = %.3f\" % auc(recall, precision))"
      ],
      "execution_count": 0,
      "outputs": [
        {
          "output_type": "stream",
          "text": [
            "Baseline: AUC_PR = 0.488\n"
          ],
          "name": "stdout"
        },
        {
          "output_type": "display_data",
          "data": {
            "image/png": "[encoded data removed]",
            "text/plain": [
              "<Figure size 504x504 with 1 Axes>"
            ]
          },
          "metadata": {
            "tags": []
          }
        }
      ]
    },
    {
      "cell_type": "markdown",
      "metadata": {
        "id": "zgG3GUuva16y",
        "colab_type": "text"
      },
      "source": [
        "Допустим, мы хотим построить классификатор, который будет находить не менее 80% multisim абонентов. Соответственно, имеем нижнюю границу 80% на полноту. Какую максимальную точность при этом можно получить? При каком значении порога?"
      ]
    },
    {
      "cell_type": "code",
      "metadata": {
        "id": "yqt81STja16z",
        "colab_type": "code",
        "colab": {},
        "outputId": "3ee6fb1e-c442-4b54-db5c-f2a07e56e0ff"
      },
      "source": [
        "re80_mask = recall >= 0.8\n",
        "pr_target_idx = np.arange(len(precision))[re80_mask]\n",
        "pr_target = precision[re80_mask]\n",
        "\n",
        "max_pr_idx = pr_target_idx[np.argmax(pr_target)]\n",
        "\n",
        "\n",
        "print(\"Максимальную точность при этом: %.3f\" % precision[max_pr_idx])\n",
        "threshold80 = pr_thresholds[max_pr_idx]\n",
        "print (\"При каком пороге: %.3f\" % threshold80)\n",
        "\n",
        "plot_precision_recall_curve(recall[re80_mask], precision[re80_mask], color='r')"
      ],
      "execution_count": 0,
      "outputs": [
        {
          "output_type": "stream",
          "text": [
            "Максимальную точность при этом: 0.358\n",
            "При каком пороге: 0.222\n"
          ],
          "name": "stdout"
        },
        {
          "output_type": "display_data",
          "data": {
            "image/png": "[encoded data removed]",
            "text/plain": [
              "<Figure size 432x288 with 1 Axes>"
            ]
          },
          "metadata": {
            "tags": []
          }
        }
      ]
    },
    {
      "cell_type": "markdown",
      "metadata": {
        "id": "HHvK7vtca162",
        "colab_type": "text"
      },
      "source": [
        "#### Матрица смежности"
      ]
    },
    {
      "cell_type": "code",
      "metadata": {
        "id": "wv9ug92ca162",
        "colab_type": "code",
        "colab": {}
      },
      "source": [
        "import itertools\n",
        "from sklearn.metrics import confusion_matrix\n",
        "\n",
        "def plot_confusion_matrix(cm, classes,\n",
        "                          model_name=\"\",\n",
        "                          normalize=False,\n",
        "                          cmap=plt.cm.Blues):\n",
        "    \"\"\"\n",
        "    This function prints and plots the confusion matrix.\n",
        "    Normalization can be applied by setting `normalize=True`.\n",
        "    \"\"\"\n",
        "    if normalize:\n",
        "        cm = cm.astype('float') / cm.sum(axis=1)[:, np.newaxis]\n",
        "        print(\"Normalized confusion matrix\")\n",
        "    else:\n",
        "        print('Confusion matrix, without normalization')\n",
        "\n",
        "    print(cm)\n",
        "\n",
        "    plt.imshow(cm, interpolation='nearest',  cmap=cmap)\n",
        "    \n",
        "    plt.grid(False)\n",
        "    plt.title('%s: confusion matrix' % model_name)\n",
        "    tick_marks = np.arange(len(classes))\n",
        "    plt.xticks(tick_marks, classes, rotation=45)\n",
        "    plt.yticks(tick_marks, classes)\n",
        "\n",
        "    fmt = '.2f' if normalize else 'd'\n",
        "    thresh = cm.max() / 2.\n",
        "    for i, j in itertools.product(range(cm.shape[0]), range(cm.shape[1])):\n",
        "        plt.text(j, i, format(cm[i, j], fmt),\n",
        "                 horizontalalignment=\"center\",\n",
        "                 color=\"white\" if cm[i, j] > thresh else \"black\")\n",
        "\n",
        "    plt.ylabel('True label')\n",
        "    plt.xlabel('Predicted label')\n",
        "    plt.tight_layout()"
      ],
      "execution_count": 0,
      "outputs": []
    },
    {
      "cell_type": "code",
      "metadata": {
        "id": "giKA1uuea166",
        "colab_type": "code",
        "colab": {},
        "outputId": "c8f23b1c-8a8c-4ab2-dead-2322986fd635"
      },
      "source": [
        "# TN                FP(Type II error)\n",
        "# \n",
        "# FN(Type I error)  TP\n",
        "\n",
        "cm = confusion_matrix(y_test, bl_y_pred > 0.5)\n",
        "plot_confusion_matrix(cm, classes=[\"0\", \"1\"], model_name=\"Baseline\");"
      ],
      "execution_count": 0,
      "outputs": [
        {
          "output_type": "stream",
          "text": [
            "Confusion matrix, without normalization\n",
            "[[4165  163]\n",
            " [1501  302]]\n"
          ],
          "name": "stdout"
        },
        {
          "output_type": "display_data",
          "data": {
            "image/png": "[encoded data removed]",
            "text/plain": [
              "<Figure size 432x288 with 1 Axes>"
            ]
          },
          "metadata": {
            "tags": []
          }
        }
      ]
    },
    {
      "cell_type": "markdown",
      "metadata": {
        "id": "xhrKk14Fa168",
        "colab_type": "text"
      },
      "source": [
        "#### classification_report"
      ]
    },
    {
      "cell_type": "code",
      "metadata": {
        "id": "Lf4MXZUya169",
        "colab_type": "code",
        "colab": {},
        "outputId": "cbe05318-e5c4-4808-fccc-b73d2ca74e61"
      },
      "source": [
        "from sklearn.metrics import classification_report\n",
        "\n",
        "print(classification_report(y_test, bl_y_pred > 0.5))"
      ],
      "execution_count": 0,
      "outputs": [
        {
          "output_type": "stream",
          "text": [
            "              precision    recall  f1-score   support\n",
            "\n",
            "           0       0.74      0.96      0.83      4328\n",
            "           1       0.65      0.17      0.27      1803\n",
            "\n",
            "   micro avg       0.73      0.73      0.73      6131\n",
            "   macro avg       0.69      0.56      0.55      6131\n",
            "weighted avg       0.71      0.73      0.67      6131\n",
            "\n"
          ],
          "name": "stdout"
        }
      ]
    },
    {
      "cell_type": "code",
      "metadata": {
        "id": "HvDsWO3na17A",
        "colab_type": "code",
        "colab": {},
        "outputId": "0bd8c6c4-14f1-4730-a067-00a8329b1726"
      },
      "source": [
        "tn, fp, fn, tp = cm.ravel()\n",
        "\n",
        "precision = tp/(fp + tp)\n",
        "recall = tp/(fn + tp)\n",
        "\n",
        "accuracy = (tp + tn)/(fp + fn + tp + tn)\n",
        "\n",
        "micro_avg_pr    = (tn + tp) / (fn + tn + fp + tp)\n",
        "macro_avg_pr    = (tn/(fn + tn) + tp/(fp + tp))/2\n",
        "\n",
        "n_0 = (y_test == 0).sum()\n",
        "n_1 = (y_test == 1).sum()\n",
        "weighted_avg_pr = (n_0*tn/(fn + tn) + n_1*tp/(fp + tp))/(n_0 + n_1)\n",
        "\n",
        "print(\"              accuracy = %.2f\"   % float(accuracy))\n",
        "print(\"           1 precision = %.2f\"   % float(precision))\n",
        "print(\"              1 recall = %.2f\"   % float(recall))\n",
        "print(\"   micro avg precision = %.2f \"  % float(micro_avg_pr))\n",
        "print(\"   macro avg precision = %.2f \"  % float(macro_avg_pr))\n",
        "print(\"weighted avg precision = %.2f \"  % float(weighted_avg_pr))"
      ],
      "execution_count": 0,
      "outputs": [
        {
          "output_type": "stream",
          "text": [
            "              accuracy = 0.73\n",
            "           1 precision = 0.65\n",
            "              1 recall = 0.17\n",
            "   micro avg precision = 0.73 \n",
            "   macro avg precision = 0.69 \n",
            "weighted avg precision = 0.71 \n"
          ],
          "name": "stdout"
        }
      ]
    },
    {
      "cell_type": "code",
      "metadata": {
        "id": "ecCNJP9ka17E",
        "colab_type": "code",
        "colab": {}
      },
      "source": [
        ""
      ],
      "execution_count": 0,
      "outputs": []
    },
    {
      "cell_type": "markdown",
      "metadata": {
        "id": "0gsKlcKRa17H",
        "colab_type": "text"
      },
      "source": [
        "# 2 Определение типа признаков"
      ]
    },
    {
      "cell_type": "code",
      "metadata": {
        "scrolled": false,
        "id": "joxn2Bnsa17I",
        "colab_type": "code",
        "colab": {}
      },
      "source": [
        "X_nunique = X.apply(lambda x: x.nunique(dropna=False))"
      ],
      "execution_count": 0,
      "outputs": []
    },
    {
      "cell_type": "code",
      "metadata": {
        "id": "Ohudiooza17L",
        "colab_type": "code",
        "colab": {},
        "outputId": "fc78fbf6-f417-4f60-fce5-fb417b38cefe"
      },
      "source": [
        "X_nunique.shape"
      ],
      "execution_count": 0,
      "outputs": [
        {
          "output_type": "execute_result",
          "data": {
            "text/plain": [
              "(260,)"
            ]
          },
          "metadata": {
            "tags": []
          },
          "execution_count": 29
        }
      ]
    },
    {
      "cell_type": "code",
      "metadata": {
        "id": "6p7qRoB0a17O",
        "colab_type": "code",
        "colab": {},
        "outputId": "c97b6a3e-7027-48b0-ce24-a3d59a2b18d7"
      },
      "source": [
        "plt.title(\"Распределение уникальных значений признаков\");\n",
        "X_nunique.hist(bins=100, figsize=(10, 5));"
      ],
      "execution_count": 0,
      "outputs": [
        {
          "output_type": "display_data",
          "data": {
            "image/png": "[encoded data removed]",
            "text/plain": [
              "<Figure size 720x360 with 1 Axes>"
            ]
          },
          "metadata": {
            "tags": []
          }
        }
      ]
    },
    {
      "cell_type": "code",
      "metadata": {
        "id": "SMzN5GIza17S",
        "colab_type": "code",
        "colab": {},
        "outputId": "82a274c3-ac3c-45c2-d3c1-53054c4d4014"
      },
      "source": [
        "f_all = set(X_nunique.index.tolist())\n",
        "len(f_all)"
      ],
      "execution_count": 0,
      "outputs": [
        {
          "output_type": "execute_result",
          "data": {
            "text/plain": [
              "260"
            ]
          },
          "metadata": {
            "tags": []
          },
          "execution_count": 31
        }
      ]
    },
    {
      "cell_type": "markdown",
      "metadata": {
        "id": "km2L-jFwa17U",
        "colab_type": "text"
      },
      "source": [
        "#### константные признаки"
      ]
    },
    {
      "cell_type": "code",
      "metadata": {
        "id": "5uxFsHl5a17V",
        "colab_type": "code",
        "colab": {},
        "outputId": "f394f749-95f3-4306-bc4f-40938937801f"
      },
      "source": [
        "f_const = set(X_nunique[X_nunique == 1].index.tolist())\n",
        "len(f_const)"
      ],
      "execution_count": 0,
      "outputs": [
        {
          "output_type": "execute_result",
          "data": {
            "text/plain": [
              "4"
            ]
          },
          "metadata": {
            "tags": []
          },
          "execution_count": 32
        }
      ]
    },
    {
      "cell_type": "markdown",
      "metadata": {
        "id": "Hizw-nFEa17Z",
        "colab_type": "text"
      },
      "source": [
        "#### вещественные признаки"
      ]
    },
    {
      "cell_type": "code",
      "metadata": {
        "id": "IVQVxXmHa17a",
        "colab_type": "code",
        "colab": {},
        "outputId": "f6096d1c-d750-46ac-fa36-46e9c3204d7f"
      },
      "source": [
        "f_numeric = (X.fillna(0).astype(int).sum() - X.fillna(0).sum()).abs()\n",
        "f_numeric = set(f_numeric[f_numeric > 0].index.tolist())\n",
        "len(f_numeric)"
      ],
      "execution_count": 0,
      "outputs": [
        {
          "output_type": "execute_result",
          "data": {
            "text/plain": [
              "130"
            ]
          },
          "metadata": {
            "tags": []
          },
          "execution_count": 33
        }
      ]
    },
    {
      "cell_type": "code",
      "metadata": {
        "id": "Ci4UeMWqa17e",
        "colab_type": "code",
        "colab": {},
        "outputId": "054c866d-4488-4e05-8347-04dc55900194"
      },
      "source": [
        "f_other = f_all - (f_numeric | f_const)\n",
        "len(f_other)"
      ],
      "execution_count": 0,
      "outputs": [
        {
          "output_type": "execute_result",
          "data": {
            "text/plain": [
              "126"
            ]
          },
          "metadata": {
            "tags": []
          },
          "execution_count": 34
        }
      ]
    },
    {
      "cell_type": "markdown",
      "metadata": {
        "id": "_HQloesZa17h",
        "colab_type": "text"
      },
      "source": [
        "#### бинарные"
      ]
    },
    {
      "cell_type": "code",
      "metadata": {
        "id": "BKXqnUtEa17h",
        "colab_type": "code",
        "colab": {},
        "outputId": "9571e6dc-e458-4560-af04-44df3a813dd7"
      },
      "source": [
        "f_binary = set(X.loc[:, f_other].columns[(\n",
        "                      (X.loc[:, f_other].max() == 1) & \\\n",
        "                      (X.loc[:, f_other].min() == 0) & \\\n",
        "                      (X.loc[:, f_other].isnull().sum() == 0))])\n",
        "len(f_binary)"
      ],
      "execution_count": 0,
      "outputs": [
        {
          "output_type": "execute_result",
          "data": {
            "text/plain": [
              "14"
            ]
          },
          "metadata": {
            "tags": []
          },
          "execution_count": 35
        }
      ]
    },
    {
      "cell_type": "code",
      "metadata": {
        "id": "ZnuXFtWaa17l",
        "colab_type": "code",
        "colab": {},
        "outputId": "7ee56716-7245-47a0-8c69-e47540969e99"
      },
      "source": [
        "f_other = f_other - f_binary\n",
        "len(f_other)"
      ],
      "execution_count": 0,
      "outputs": [
        {
          "output_type": "execute_result",
          "data": {
            "text/plain": [
              "112"
            ]
          },
          "metadata": {
            "tags": []
          },
          "execution_count": 36
        }
      ]
    },
    {
      "cell_type": "markdown",
      "metadata": {
        "id": "EE4sbLUda17n",
        "colab_type": "text"
      },
      "source": [
        "#### категориальные"
      ]
    },
    {
      "cell_type": "code",
      "metadata": {
        "id": "JAf5qb8la17q",
        "colab_type": "code",
        "colab": {}
      },
      "source": [
        "f_categorical = set(X_nunique.loc[f_other][X_nunique.loc[f_other] <= 10].index.tolist())\n",
        "f_numeric_extra = f_categorical"
      ],
      "execution_count": 0,
      "outputs": []
    },
    {
      "cell_type": "code",
      "metadata": {
        "id": "VZGFr72za17s",
        "colab_type": "code",
        "colab": {},
        "outputId": "299569cc-4d44-4264-bc86-f50f134cde76"
      },
      "source": [
        "f_other = f_other - f_categorical\n",
        "len(f_other)"
      ],
      "execution_count": 0,
      "outputs": [
        {
          "output_type": "execute_result",
          "data": {
            "text/plain": [
              "86"
            ]
          },
          "metadata": {
            "tags": []
          },
          "execution_count": 38
        }
      ]
    },
    {
      "cell_type": "code",
      "metadata": {
        "id": "8MFK81Y1a17v",
        "colab_type": "code",
        "colab": {}
      },
      "source": [
        "f_numeric = f_numeric | f_other"
      ],
      "execution_count": 0,
      "outputs": []
    },
    {
      "cell_type": "code",
      "metadata": {
        "id": "wbk9OzWCa17x",
        "colab_type": "code",
        "colab": {},
        "outputId": "10d89a1f-f4bd-4d0c-e5e4-e9fc52f6ec44"
      },
      "source": [
        "f_other = f_other - f_numeric\n",
        "len(f_other)"
      ],
      "execution_count": 0,
      "outputs": [
        {
          "output_type": "execute_result",
          "data": {
            "text/plain": [
              "0"
            ]
          },
          "metadata": {
            "tags": []
          },
          "execution_count": 40
        }
      ]
    },
    {
      "cell_type": "code",
      "metadata": {
        "id": "YlJ9VaGMa17z",
        "colab_type": "code",
        "colab": {}
      },
      "source": [
        "assert(X_nunique.shape[0] == len(f_const) + len(f_binary) + len(f_numeric) + len(f_categorical))"
      ],
      "execution_count": 0,
      "outputs": []
    },
    {
      "cell_type": "code",
      "metadata": {
        "id": "hzXo4kPIa171",
        "colab_type": "code",
        "colab": {},
        "outputId": "9ecf1144-67a6-423b-f5cc-ccc3e7e13396"
      },
      "source": [
        "print('f_all:', X.shape[1])\n",
        "print()\n",
        "print('f_const:', len(f_const))\n",
        "print('f_binary:', len(f_binary))\n",
        "print('f_categorical:', len(f_categorical))\n",
        "print('f_numeric:', len(f_numeric))\n",
        "\n",
        "f_ok = list(f_binary | f_categorical | f_numeric)\n",
        "f_binary, f_categorical, f_numeric = list(f_binary), list(f_categorical), list(f_numeric)"
      ],
      "execution_count": 0,
      "outputs": [
        {
          "output_type": "stream",
          "text": [
            "f_all: 260\n",
            "\n",
            "f_const: 4\n",
            "f_binary: 14\n",
            "f_categorical: 26\n",
            "f_numeric: 216\n"
          ],
          "name": "stdout"
        }
      ]
    },
    {
      "cell_type": "markdown",
      "metadata": {
        "id": "7zIJthlxa174",
        "colab_type": "text"
      },
      "source": [
        " "
      ]
    },
    {
      "cell_type": "markdown",
      "metadata": {
        "id": "6Px0djuTa175",
        "colab_type": "text"
      },
      "source": [
        "# 3 sklearn.Pipeline"
      ]
    },
    {
      "cell_type": "markdown",
      "metadata": {
        "id": "eW9-5Sa_a176",
        "colab_type": "text"
      },
      "source": [
        "Pipeline-ы выполняют последовательность transformer-ов и могут завершаться финальным estimator-ом. Все объектов transformer-ы должны иметь два метода - fit и transform. Финальный Estimator должын иметь метод fit."
      ]
    },
    {
      "cell_type": "markdown",
      "metadata": {
        "id": "-x5F3cIaa176",
        "colab_type": "text"
      },
      "source": [
        "### 3.1 Column Selector"
      ]
    },
    {
      "cell_type": "code",
      "metadata": {
        "id": "8jbe82r8a177",
        "colab_type": "code",
        "colab": {}
      },
      "source": [
        "from sklearn.base import BaseEstimator, TransformerMixin"
      ],
      "execution_count": 0,
      "outputs": []
    },
    {
      "cell_type": "code",
      "metadata": {
        "id": "M5nhOen3a179",
        "colab_type": "code",
        "colab": {}
      },
      "source": [
        "class ColumnSelector(BaseEstimator, TransformerMixin):\n",
        "    def __init__(self, columns):\n",
        "        self.columns = columns\n",
        "\n",
        "    def fit(self, X, y=None):\n",
        "        return self\n",
        "    \n",
        "    def transform(self, X):\n",
        "        assert isinstance(X, pd.DataFrame)\n",
        "\n",
        "        try:\n",
        "            return X[self.columns]\n",
        "        except KeyError:\n",
        "            cols_error = list(set(self.columns) - set(X.columns))\n",
        "            raise KeyError(\"DataFrame не содердит следующие колонки: %s\" % cols_error)"
      ],
      "execution_count": 0,
      "outputs": []
    },
    {
      "cell_type": "code",
      "metadata": {
        "id": "N5c7Oh_qa18A",
        "colab_type": "code",
        "colab": {}
      },
      "source": [
        "cs_pipe = Pipeline([\n",
        "    ('cs', ColumnSelector(columns=['FEATURE_0', 'FEATURE_90', 'FEATURE_193', 'FEATURE_154'])),\n",
        "])"
      ],
      "execution_count": 0,
      "outputs": []
    },
    {
      "cell_type": "code",
      "metadata": {
        "id": "d49-peJYa18D",
        "colab_type": "code",
        "colab": {},
        "outputId": "9993be4a-cd6f-44ff-9bde-73aa33174c9f"
      },
      "source": [
        "# cs_pipe.fit(X_train)\n",
        "\n",
        "cs_pipe.transform(X_test).head()"
      ],
      "execution_count": 0,
      "outputs": [
        {
          "output_type": "execute_result",
          "data": {
            "text/html": [
              "<div>\n",
              "<style scoped>\n",
              "    .dataframe tbody tr th:only-of-type {\n",
              "        vertical-align: middle;\n",
              "    }\n",
              "\n",
              "    .dataframe tbody tr th {\n",
              "        vertical-align: top;\n",
              "    }\n",
              "\n",
              "    .dataframe thead th {\n",
              "        text-align: right;\n",
              "    }\n",
              "</style>\n",
              "<table border=\"1\" class=\"dataframe\">\n",
              "  <thead>\n",
              "    <tr style=\"text-align: right;\">\n",
              "      <th></th>\n",
              "      <th>FEATURE_0</th>\n",
              "      <th>FEATURE_90</th>\n",
              "      <th>FEATURE_193</th>\n",
              "      <th>FEATURE_154</th>\n",
              "    </tr>\n",
              "    <tr>\n",
              "      <th>ID</th>\n",
              "      <th></th>\n",
              "      <th></th>\n",
              "      <th></th>\n",
              "      <th></th>\n",
              "    </tr>\n",
              "  </thead>\n",
              "  <tbody>\n",
              "    <tr>\n",
              "      <th>58198991</th>\n",
              "      <td>0.0</td>\n",
              "      <td>-42.455826</td>\n",
              "      <td>NaN</td>\n",
              "      <td>0.0</td>\n",
              "    </tr>\n",
              "    <tr>\n",
              "      <th>437075004</th>\n",
              "      <td>0.0</td>\n",
              "      <td>41.479563</td>\n",
              "      <td>NaN</td>\n",
              "      <td>1.0</td>\n",
              "    </tr>\n",
              "    <tr>\n",
              "      <th>345260526</th>\n",
              "      <td>0.0</td>\n",
              "      <td>-43.313025</td>\n",
              "      <td>130.395302</td>\n",
              "      <td>1.0</td>\n",
              "    </tr>\n",
              "    <tr>\n",
              "      <th>749150565</th>\n",
              "      <td>3.0</td>\n",
              "      <td>226.743517</td>\n",
              "      <td>1184.360325</td>\n",
              "      <td>0.0</td>\n",
              "    </tr>\n",
              "    <tr>\n",
              "      <th>732888674</th>\n",
              "      <td>0.0</td>\n",
              "      <td>4.720634</td>\n",
              "      <td>NaN</td>\n",
              "      <td>1.0</td>\n",
              "    </tr>\n",
              "  </tbody>\n",
              "</table>\n",
              "</div>"
            ],
            "text/plain": [
              "           FEATURE_0  FEATURE_90  FEATURE_193  FEATURE_154\n",
              "ID                                                        \n",
              "58198991         0.0  -42.455826          NaN          0.0\n",
              "437075004        0.0   41.479563          NaN          1.0\n",
              "345260526        0.0  -43.313025   130.395302          1.0\n",
              "749150565        3.0  226.743517  1184.360325          0.0\n",
              "732888674        0.0    4.720634          NaN          1.0"
            ]
          },
          "metadata": {
            "tags": []
          },
          "execution_count": 46
        }
      ]
    },
    {
      "cell_type": "markdown",
      "metadata": {
        "id": "7q0Un-Cza18F",
        "colab_type": "text"
      },
      "source": [
        "### 3.2 Пайплайн обработки признаков"
      ]
    },
    {
      "cell_type": "code",
      "metadata": {
        "id": "1i8Ke2oka18F",
        "colab_type": "code",
        "colab": {}
      },
      "source": [
        "from sklearn.pipeline import FeatureUnion, make_pipeline\n",
        "from sklearn.preprocessing import StandardScaler, OneHotEncoder"
      ],
      "execution_count": 0,
      "outputs": []
    },
    {
      "cell_type": "code",
      "metadata": {
        "id": "lC1__pRda18H",
        "colab_type": "code",
        "colab": {}
      },
      "source": [
        "f_prep_pipeline = make_pipeline(\n",
        "    ColumnSelector(columns=f_ok),\n",
        "    FeatureUnion(transformer_list=[\n",
        "        (\"numeric_features\", make_pipeline(\n",
        "            ColumnSelector(f_numeric),\n",
        "            SimpleImputer(strategy=\"mean\"),\n",
        "            StandardScaler()\n",
        "        )),\n",
        "        (\"categorical_features\", make_pipeline(\n",
        "            ColumnSelector(f_categorical),\n",
        "            SimpleImputer(strategy=\"most_frequent\"),\n",
        "            OneHotEncoder(handle_unknown='ignore')\n",
        "        )),\n",
        "        (\"boolean_features\", make_pipeline(\n",
        "            ColumnSelector(f_binary),\n",
        "        ))\n",
        "    ])\n",
        ")"
      ],
      "execution_count": 0,
      "outputs": []
    },
    {
      "cell_type": "code",
      "metadata": {
        "id": "z_UKYjraa18J",
        "colab_type": "code",
        "colab": {},
        "outputId": "5bd7e68d-12e4-4cc5-af57-3ca8de1b2220"
      },
      "source": [
        "f_prep_pipeline.steps"
      ],
      "execution_count": 0,
      "outputs": [
        {
          "output_type": "execute_result",
          "data": {
            "text/plain": [
              "[('columnselector',\n",
              "  ColumnSelector(columns=['FEATURE_134', 'FEATURE_96', 'FEATURE_147', 'FEATURE_59', 'FEATURE_41', 'FEATURE_237', 'FEATURE_148', 'FEATURE_180', 'FEATURE_204', 'FEATURE_58', 'FEATURE_4', 'FEATURE_78', 'FEATURE_211', 'FEATURE_239', 'FEATURE_119', 'FEATURE_139', 'FEATURE_195', 'FEATURE_56', 'FEATURE_19', 'FEATURE_38', '...EATURE_75', 'FEATURE_64', 'FEATURE_207', 'FEATURE_168', 'FEATURE_124', 'FEATURE_179', 'FEATURE_171'])),\n",
              " ('featureunion', FeatureUnion(n_jobs=None,\n",
              "         transformer_list=[('numeric_features', Pipeline(memory=None,\n",
              "       steps=[('columnselector', ColumnSelector(columns=['FEATURE_116', 'FEATURE_106', 'FEATURE_134', 'FEATURE_61', 'FEATURE_96', 'FEATURE_110', 'FEATURE_147', 'FEATURE_59', 'FEATURE_69', 'FEATURE_27', 'FEATURE_244', 'FEATURE_41', 'FEATURE_2...EATURE_11', 'FEATURE_18', 'FEATURE_159', 'FEATURE_2', 'FEATURE_5', 'FEATURE_16', 'FEATURE_15']))]))],\n",
              "         transformer_weights=None))]"
            ]
          },
          "metadata": {
            "tags": []
          },
          "execution_count": 49
        }
      ]
    },
    {
      "cell_type": "code",
      "metadata": {
        "id": "t-YpItT1a18M",
        "colab_type": "code",
        "colab": {},
        "outputId": "4b239ace-08e0-462d-fe20-906c176e3dcb"
      },
      "source": [
        "X_test.shape[1]"
      ],
      "execution_count": 0,
      "outputs": [
        {
          "output_type": "execute_result",
          "data": {
            "text/plain": [
              "260"
            ]
          },
          "metadata": {
            "tags": []
          },
          "execution_count": 50
        }
      ]
    },
    {
      "cell_type": "code",
      "metadata": {
        "id": "ku6_1Knla18O",
        "colab_type": "code",
        "colab": {},
        "outputId": "9feef758-6984-4797-f786-ad99e6e28094"
      },
      "source": [
        "f_prep_pipeline.fit(X_train)\n",
        "\n",
        "n_features = f_prep_pipeline.transform(X_test).shape[1]\n",
        "n_features"
      ],
      "execution_count": 0,
      "outputs": [
        {
          "output_type": "execute_result",
          "data": {
            "text/plain": [
              "357"
            ]
          },
          "metadata": {
            "tags": []
          },
          "execution_count": 51
        }
      ]
    },
    {
      "cell_type": "markdown",
      "metadata": {
        "id": "vXK6viNUa18P",
        "colab_type": "text"
      },
      "source": [
        "### 3.3 Gridsearch для пайплайнов"
      ]
    },
    {
      "cell_type": "code",
      "metadata": {
        "id": "6EkILN0xa18Q",
        "colab_type": "code",
        "colab": {}
      },
      "source": [
        "lg_pipe = make_pipeline(\n",
        "    f_prep_pipeline,\n",
        "    LogisticRegression(random_state=RANDOM_STATE)\n",
        ")"
      ],
      "execution_count": 0,
      "outputs": []
    },
    {
      "cell_type": "markdown",
      "metadata": {
        "id": "1AjNb89Qa18S",
        "colab_type": "text"
      },
      "source": [
        " "
      ]
    },
    {
      "cell_type": "code",
      "metadata": {
        "id": "EfgqYCNwa18T",
        "colab_type": "code",
        "colab": {}
      },
      "source": [
        "from sklearn.model_selection import GridSearchCV"
      ],
      "execution_count": 0,
      "outputs": []
    },
    {
      "cell_type": "code",
      "metadata": {
        "id": "TrFVL1Lva18V",
        "colab_type": "code",
        "colab": {}
      },
      "source": [
        "def run_grid_search(estimator, X, y, params_grid, cv, scoring='roc_auc'):\n",
        "    gsc = GridSearchCV(estimator, params_grid, scoring=scoring, cv=cv, n_jobs=-1)\n",
        "\n",
        "    gsc.fit(X, y)\n",
        "    print(\"Best %s score: %.2f\" % (scoring, gsc.best_score_))\n",
        "    print()\n",
        "    print(\"Best parameters set found on development set:\")\n",
        "    print()\n",
        "    print(gsc.best_params_)\n",
        "    print()\n",
        "    print(\"Grid scores on development set:\")\n",
        "    print()\n",
        "\n",
        "    for i, params in enumerate(gsc.cv_results_['params']):\n",
        "        print(\"%0.3f (+/-%0.03f) for %r\"\n",
        "              % (gsc.cv_results_['mean_test_score'][i], gsc.cv_results_['std_test_score'][i] * 2, params))\n",
        "\n",
        "    print()\n",
        "    \n",
        "    return gsc"
      ],
      "execution_count": 0,
      "outputs": []
    },
    {
      "cell_type": "markdown",
      "metadata": {
        "id": "-Yqcs7JLa18Y",
        "colab_type": "text"
      },
      "source": [
        "Про поиск имен параметров"
      ]
    },
    {
      "cell_type": "code",
      "metadata": {
        "id": "x2m5LZxia18Y",
        "colab_type": "code",
        "colab": {},
        "outputId": "98570acd-6442-4a29-c420-7d3c6c12a9fc"
      },
      "source": [
        "[k for k in lg_pipe.get_params().keys() if 'imputer' in k]"
      ],
      "execution_count": 0,
      "outputs": [
        {
          "output_type": "execute_result",
          "data": {
            "text/plain": [
              "['pipeline__featureunion__numeric_features__simpleimputer',\n",
              " 'pipeline__featureunion__numeric_features__simpleimputer__copy',\n",
              " 'pipeline__featureunion__numeric_features__simpleimputer__fill_value',\n",
              " 'pipeline__featureunion__numeric_features__simpleimputer__missing_values',\n",
              " 'pipeline__featureunion__numeric_features__simpleimputer__strategy',\n",
              " 'pipeline__featureunion__numeric_features__simpleimputer__verbose',\n",
              " 'pipeline__featureunion__categorical_features__simpleimputer',\n",
              " 'pipeline__featureunion__categorical_features__simpleimputer__copy',\n",
              " 'pipeline__featureunion__categorical_features__simpleimputer__fill_value',\n",
              " 'pipeline__featureunion__categorical_features__simpleimputer__missing_values',\n",
              " 'pipeline__featureunion__categorical_features__simpleimputer__strategy',\n",
              " 'pipeline__featureunion__categorical_features__simpleimputer__verbose']"
            ]
          },
          "metadata": {
            "tags": []
          },
          "execution_count": 55
        }
      ]
    },
    {
      "cell_type": "code",
      "metadata": {
        "scrolled": false,
        "id": "KdKwNP5oa18a",
        "colab_type": "code",
        "colab": {},
        "outputId": "8483769a-006b-46e0-aa6d-b17ceb73fb31"
      },
      "source": [
        "param_grid = {\n",
        "    \"pipeline__featureunion__categorical_features__simpleimputer__strategy\": ['most_frequent', 'constant'],\n",
        "    \"pipeline__featureunion__categorical_features__simpleimputer__fill_value\": [-1],\n",
        "}\n",
        "\n",
        "lg_gsc = run_grid_search(lg_pipe, X_train, y_train, param_grid, kfold_cv)"
      ],
      "execution_count": 0,
      "outputs": [
        {
          "output_type": "stream",
          "text": [
            "Best roc_auc score: 0.70\n",
            "\n",
            "Best parameters set found on development set:\n",
            "\n",
            "{'pipeline__featureunion__categorical_features__simpleimputer__fill_value': -1, 'pipeline__featureunion__categorical_features__simpleimputer__strategy': 'constant'}\n",
            "\n",
            "Grid scores on development set:\n",
            "\n",
            "0.700 (+/-0.023) for {'pipeline__featureunion__categorical_features__simpleimputer__fill_value': -1, 'pipeline__featureunion__categorical_features__simpleimputer__strategy': 'most_frequent'}\n",
            "0.701 (+/-0.022) for {'pipeline__featureunion__categorical_features__simpleimputer__fill_value': -1, 'pipeline__featureunion__categorical_features__simpleimputer__strategy': 'constant'}\n",
            "\n"
          ],
          "name": "stdout"
        }
      ]
    },
    {
      "cell_type": "markdown",
      "metadata": {
        "id": "5-6u3JmEa18c",
        "colab_type": "text"
      },
      "source": [
        "Сравним с baseline моделью, у которой roc_auc = 0.67 (+/- 0.02)"
      ]
    },
    {
      "cell_type": "code",
      "metadata": {
        "id": "ZFxgGkYXa18d",
        "colab_type": "code",
        "colab": {},
        "outputId": "a2671a98-fa8e-4556-81ff-7195a89fe6fd"
      },
      "source": [
        "param_grid = {\n",
        "    \"logisticregression__penalty\": ['l1', 'l2'],\n",
        "    \"logisticregression__C\": [0.01, 0.1, 5.0]\n",
        "}\n",
        "\n",
        "lg_gsc = run_grid_search(lg_pipe, X_train, y_train, param_grid, kfold_cv)"
      ],
      "execution_count": 0,
      "outputs": [
        {
          "output_type": "stream",
          "text": [
            "Best roc_auc score: 0.70\n",
            "\n",
            "Best parameters set found on development set:\n",
            "\n",
            "{'logisticregression__C': 0.1, 'logisticregression__penalty': 'l1'}\n",
            "\n",
            "Grid scores on development set:\n",
            "\n",
            "0.696 (+/-0.014) for {'logisticregression__C': 0.01, 'logisticregression__penalty': 'l1'}\n",
            "0.703 (+/-0.023) for {'logisticregression__C': 0.01, 'logisticregression__penalty': 'l2'}\n",
            "0.704 (+/-0.025) for {'logisticregression__C': 0.1, 'logisticregression__penalty': 'l1'}\n",
            "0.702 (+/-0.023) for {'logisticregression__C': 0.1, 'logisticregression__penalty': 'l2'}\n",
            "0.699 (+/-0.023) for {'logisticregression__C': 5.0, 'logisticregression__penalty': 'l1'}\n",
            "0.699 (+/-0.023) for {'logisticregression__C': 5.0, 'logisticregression__penalty': 'l2'}\n",
            "\n"
          ],
          "name": "stdout"
        }
      ]
    },
    {
      "cell_type": "code",
      "metadata": {
        "id": "FIZyaP3Sa18e",
        "colab_type": "code",
        "colab": {},
        "outputId": "3a083c33-8524-4c9e-aa3e-9389967cdb1c"
      },
      "source": [
        "lg_gsc.best_params_"
      ],
      "execution_count": 0,
      "outputs": [
        {
          "output_type": "execute_result",
          "data": {
            "text/plain": [
              "{'logisticregression__C': 0.1, 'logisticregression__penalty': 'l1'}"
            ]
          },
          "metadata": {
            "tags": []
          },
          "execution_count": 58
        }
      ]
    },
    {
      "cell_type": "markdown",
      "metadata": {
        "id": "RK6snkwla18h",
        "colab_type": "text"
      },
      "source": [
        "### 3.4 Отбор признаков в пайплайнах"
      ]
    },
    {
      "cell_type": "code",
      "metadata": {
        "id": "8OpLFjqEa18i",
        "colab_type": "code",
        "colab": {}
      },
      "source": [
        "from sklearn.feature_selection import SelectFromModel"
      ],
      "execution_count": 0,
      "outputs": []
    },
    {
      "cell_type": "markdown",
      "metadata": {
        "id": "9VFTiFPya18k",
        "colab_type": "text"
      },
      "source": [
        "Атрибут estimator класса SelectFromModel должен иметь хотя бы один из атрибутов feature_importances_ или coef_ после выполнения метода fit."
      ]
    },
    {
      "cell_type": "code",
      "metadata": {
        "id": "7GS1PYGAa18k",
        "colab_type": "code",
        "colab": {}
      },
      "source": [
        "fs_pipe = make_pipeline(\n",
        "    f_prep_pipeline,\n",
        "    SelectFromModel(LogisticRegression(penalty='l1', random_state=RANDOM_STATE), threshold=1e-5),\n",
        ")"
      ],
      "execution_count": 0,
      "outputs": []
    },
    {
      "cell_type": "code",
      "metadata": {
        "id": "lyVFG_jBa18m",
        "colab_type": "code",
        "colab": {},
        "outputId": "6edc23f0-a43a-47d7-ebd4-4187c4185208"
      },
      "source": [
        "f_prep_pipeline.fit(X_train)\n",
        "f_prep_pipeline.transform(X_test).shape"
      ],
      "execution_count": 0,
      "outputs": [
        {
          "output_type": "execute_result",
          "data": {
            "text/plain": [
              "(6131, 357)"
            ]
          },
          "metadata": {
            "tags": []
          },
          "execution_count": 61
        }
      ]
    },
    {
      "cell_type": "code",
      "metadata": {
        "id": "0onwU82Ua18o",
        "colab_type": "code",
        "colab": {},
        "outputId": "8e2c7b96-25dd-44b1-b918-85179e8fe6f6"
      },
      "source": [
        "fs_pipe.fit(X_train, y_train)\n",
        "fs_pipe.transform(X_test).shape"
      ],
      "execution_count": 0,
      "outputs": [
        {
          "output_type": "execute_result",
          "data": {
            "text/plain": [
              "(6131, 274)"
            ]
          },
          "metadata": {
            "tags": []
          },
          "execution_count": 62
        }
      ]
    },
    {
      "cell_type": "markdown",
      "metadata": {
        "id": "_FJkXDyqa18p",
        "colab_type": "text"
      },
      "source": [
        "Логистическая регрессия из SelectFromModel обнулила около 23% признаков."
      ]
    },
    {
      "cell_type": "code",
      "metadata": {
        "id": "62iCd8x7a18q",
        "colab_type": "code",
        "colab": {}
      },
      "source": [
        "lg_fs_pipe = make_pipeline(\n",
        "    f_prep_pipeline,\n",
        "    SelectFromModel(LogisticRegression(penalty='l1', random_state=RANDOM_STATE), threshold=1e-5),\n",
        "    LogisticRegression(random_state=RANDOM_STATE)\n",
        ")"
      ],
      "execution_count": 0,
      "outputs": []
    },
    {
      "cell_type": "code",
      "metadata": {
        "scrolled": false,
        "id": "y6maagRha18r",
        "colab_type": "code",
        "colab": {},
        "outputId": "0b3896ff-c31a-4c4c-c57b-db28a154f499"
      },
      "source": [
        "param_grid = [\n",
        "    {\"selectfrommodel__max_features\": [None, 5, 10, 50, 100, 150], \"selectfrommodel__threshold\": [-np.inf]},\n",
        "    {\"selectfrommodel__threshold\": [1e-5]},\n",
        "]\n",
        "\n",
        "lg_fs_gsc = run_grid_search(lg_fs_pipe, X_train, y_train, param_grid, kfold_cv)"
      ],
      "execution_count": 0,
      "outputs": [
        {
          "output_type": "stream",
          "text": [
            "Best roc_auc score: 0.70\n",
            "\n",
            "Best parameters set found on development set:\n",
            "\n",
            "{'selectfrommodel__threshold': 1e-05}\n",
            "\n",
            "Grid scores on development set:\n",
            "\n",
            "0.700 (+/-0.023) for {'selectfrommodel__max_features': None, 'selectfrommodel__threshold': -inf}\n",
            "0.617 (+/-0.016) for {'selectfrommodel__max_features': 5, 'selectfrommodel__threshold': -inf}\n",
            "0.643 (+/-0.025) for {'selectfrommodel__max_features': 10, 'selectfrommodel__threshold': -inf}\n",
            "0.694 (+/-0.021) for {'selectfrommodel__max_features': 50, 'selectfrommodel__threshold': -inf}\n",
            "0.697 (+/-0.022) for {'selectfrommodel__max_features': 100, 'selectfrommodel__threshold': -inf}\n",
            "0.698 (+/-0.022) for {'selectfrommodel__max_features': 150, 'selectfrommodel__threshold': -inf}\n",
            "0.700 (+/-0.023) for {'selectfrommodel__threshold': 1e-05}\n",
            "\n"
          ],
          "name": "stdout"
        }
      ]
    },
    {
      "cell_type": "markdown",
      "metadata": {
        "id": "9W-Be2ZPa18u",
        "colab_type": "text"
      },
      "source": [
        "# 4 Финальная модель"
      ]
    },
    {
      "cell_type": "code",
      "metadata": {
        "id": "g_WeqZdQa18w",
        "colab_type": "code",
        "colab": {}
      },
      "source": [
        "from sklearn.ensemble import GradientBoostingClassifier"
      ],
      "execution_count": 0,
      "outputs": []
    },
    {
      "cell_type": "code",
      "metadata": {
        "id": "KSqQZNqha18x",
        "colab_type": "code",
        "colab": {}
      },
      "source": [
        "gb_fs_pipe = make_pipeline(\n",
        "    f_prep_pipeline,\n",
        "    SelectFromModel(LogisticRegression(penalty='l1', random_state=RANDOM_STATE), threshold=1e-5),\n",
        "    GradientBoostingClassifier()\n",
        ")"
      ],
      "execution_count": 0,
      "outputs": []
    },
    {
      "cell_type": "code",
      "metadata": {
        "id": "AUPZ2SlWa18z",
        "colab_type": "code",
        "colab": {},
        "outputId": "0e19a602-020a-429c-b5f1-97e17b16cd4b"
      },
      "source": [
        "[k for k in gb_fs_pipe.get_params().keys() if 'grad' in k]"
      ],
      "execution_count": 0,
      "outputs": [
        {
          "output_type": "execute_result",
          "data": {
            "text/plain": [
              "['gradientboostingclassifier',\n",
              " 'gradientboostingclassifier__criterion',\n",
              " 'gradientboostingclassifier__init',\n",
              " 'gradientboostingclassifier__learning_rate',\n",
              " 'gradientboostingclassifier__loss',\n",
              " 'gradientboostingclassifier__max_depth',\n",
              " 'gradientboostingclassifier__max_features',\n",
              " 'gradientboostingclassifier__max_leaf_nodes',\n",
              " 'gradientboostingclassifier__min_impurity_decrease',\n",
              " 'gradientboostingclassifier__min_impurity_split',\n",
              " 'gradientboostingclassifier__min_samples_leaf',\n",
              " 'gradientboostingclassifier__min_samples_split',\n",
              " 'gradientboostingclassifier__min_weight_fraction_leaf',\n",
              " 'gradientboostingclassifier__n_estimators',\n",
              " 'gradientboostingclassifier__n_iter_no_change',\n",
              " 'gradientboostingclassifier__presort',\n",
              " 'gradientboostingclassifier__random_state',\n",
              " 'gradientboostingclassifier__subsample',\n",
              " 'gradientboostingclassifier__tol',\n",
              " 'gradientboostingclassifier__validation_fraction',\n",
              " 'gradientboostingclassifier__verbose',\n",
              " 'gradientboostingclassifier__warm_start']"
            ]
          },
          "metadata": {
            "tags": []
          },
          "execution_count": 67
        }
      ]
    },
    {
      "cell_type": "code",
      "metadata": {
        "id": "9dQSnA56a181",
        "colab_type": "code",
        "colab": {},
        "outputId": "da01d964-5c79-4d7b-85d2-a56966bbc36d"
      },
      "source": [
        "param_grid = {\n",
        "    \"selectfrommodel__threshold\": [-np.inf, 1e-05],\n",
        "    \n",
        "    \"gradientboostingclassifier__max_depth\": [1, 5],\n",
        "    \"gradientboostingclassifier__n_estimators\": [10, 100]\n",
        "}\n",
        "\n",
        "gb_fs_gsc = run_grid_search(gb_fs_pipe, X_train, y_train, param_grid, kfold_cv)"
      ],
      "execution_count": 0,
      "outputs": [
        {
          "output_type": "stream",
          "text": [
            "Best roc_auc score: 0.71\n",
            "\n",
            "Best parameters set found on development set:\n",
            "\n",
            "{'gradientboostingclassifier__max_depth': 5, 'gradientboostingclassifier__n_estimators': 100, 'selectfrommodel__threshold': 1e-05}\n",
            "\n",
            "Grid scores on development set:\n",
            "\n",
            "0.654 (+/-0.011) for {'gradientboostingclassifier__max_depth': 1, 'gradientboostingclassifier__n_estimators': 10, 'selectfrommodel__threshold': -inf}\n",
            "0.654 (+/-0.011) for {'gradientboostingclassifier__max_depth': 1, 'gradientboostingclassifier__n_estimators': 10, 'selectfrommodel__threshold': 1e-05}\n",
            "0.698 (+/-0.012) for {'gradientboostingclassifier__max_depth': 1, 'gradientboostingclassifier__n_estimators': 100, 'selectfrommodel__threshold': -inf}\n",
            "0.698 (+/-0.011) for {'gradientboostingclassifier__max_depth': 1, 'gradientboostingclassifier__n_estimators': 100, 'selectfrommodel__threshold': 1e-05}\n",
            "0.695 (+/-0.007) for {'gradientboostingclassifier__max_depth': 5, 'gradientboostingclassifier__n_estimators': 10, 'selectfrommodel__threshold': -inf}\n",
            "0.695 (+/-0.011) for {'gradientboostingclassifier__max_depth': 5, 'gradientboostingclassifier__n_estimators': 10, 'selectfrommodel__threshold': 1e-05}\n",
            "0.713 (+/-0.016) for {'gradientboostingclassifier__max_depth': 5, 'gradientboostingclassifier__n_estimators': 100, 'selectfrommodel__threshold': -inf}\n",
            "0.713 (+/-0.017) for {'gradientboostingclassifier__max_depth': 5, 'gradientboostingclassifier__n_estimators': 100, 'selectfrommodel__threshold': 1e-05}\n",
            "\n"
          ],
          "name": "stdout"
        }
      ]
    },
    {
      "cell_type": "markdown",
      "metadata": {
        "id": "VBn-KkiMa184",
        "colab_type": "text"
      },
      "source": [
        "### 4.1 Сравнение моделей"
      ]
    },
    {
      "cell_type": "code",
      "metadata": {
        "id": "IMmfjXQ6a185",
        "colab_type": "code",
        "colab": {}
      },
      "source": [
        "lg_fs_pipe_final = lg_fs_gsc.best_estimator_\n",
        "\n",
        "lg_fs_pipe_final.fit(X_train, y_train)\n",
        "\n",
        "lg_fs_pred = lg_fs_pipe_final.predict_proba(X_test)[:,1]"
      ],
      "execution_count": 0,
      "outputs": []
    },
    {
      "cell_type": "code",
      "metadata": {
        "id": "Ka0eOk_xa186",
        "colab_type": "code",
        "colab": {},
        "outputId": "e14597dc-5129-4328-9479-d60a2c0f7acc"
      },
      "source": [
        "print(classification_report(y_test, lg_fs_pred > 0.5))"
      ],
      "execution_count": 0,
      "outputs": [
        {
          "output_type": "stream",
          "text": [
            "              precision    recall  f1-score   support\n",
            "\n",
            "           0       0.75      0.93      0.83      4328\n",
            "           1       0.61      0.26      0.37      1803\n",
            "\n",
            "   micro avg       0.73      0.73      0.73      6131\n",
            "   macro avg       0.68      0.60      0.60      6131\n",
            "weighted avg       0.71      0.73      0.69      6131\n",
            "\n"
          ],
          "name": "stdout"
        }
      ]
    },
    {
      "cell_type": "markdown",
      "metadata": {
        "id": "xmenrw4Oa188",
        "colab_type": "text"
      },
      "source": [
        " "
      ]
    },
    {
      "cell_type": "code",
      "metadata": {
        "id": "XPtIhiGxa188",
        "colab_type": "code",
        "colab": {}
      },
      "source": [
        "gb_fs_pipe_final = gb_fs_gsc.best_estimator_\n",
        "\n",
        "gb_fs_pipe_final.fit(X_train, y_train)\n",
        "\n",
        "gb_fs_pred = gb_fs_pipe_final.predict_proba(X_test)[:,1]"
      ],
      "execution_count": 0,
      "outputs": []
    },
    {
      "cell_type": "code",
      "metadata": {
        "id": "Pq66AdRqa18-",
        "colab_type": "code",
        "colab": {},
        "outputId": "dae1dee1-87a7-464a-c538-c2b57d7446ff"
      },
      "source": [
        "print(classification_report(y_test, gb_fs_pred > 0.5))"
      ],
      "execution_count": 0,
      "outputs": [
        {
          "output_type": "stream",
          "text": [
            "              precision    recall  f1-score   support\n",
            "\n",
            "           0       0.76      0.94      0.84      4328\n",
            "           1       0.66      0.27      0.39      1803\n",
            "\n",
            "   micro avg       0.75      0.75      0.75      6131\n",
            "   macro avg       0.71      0.61      0.61      6131\n",
            "weighted avg       0.73      0.75      0.71      6131\n",
            "\n"
          ],
          "name": "stdout"
        }
      ]
    },
    {
      "cell_type": "markdown",
      "metadata": {
        "id": "pLBSCJxKa19A",
        "colab_type": "text"
      },
      "source": [
        " "
      ]
    },
    {
      "cell_type": "code",
      "metadata": {
        "scrolled": false,
        "id": "PkC6datBa19B",
        "colab_type": "code",
        "colab": {},
        "outputId": "822109e5-2c3c-45f6-e3c9-b2cce03d071b"
      },
      "source": [
        "f, (ax1, ax2) = plt.subplots(1, 2, sharey=True)\n",
        "\n",
        "f.set_figheight(24)\n",
        "f.set_figwidth(12)\n",
        "\n",
        "ax1 = plt.subplot(211)\n",
        "ax1.set_title('ROC')\n",
        "ax1.set_xlabel('TPR')\n",
        "ax1.set_ylabel('FPR')\n",
        "\n",
        "\n",
        "ax2 = plt.subplot(212)\n",
        "ax2.set_title('PR')\n",
        "ax2.set_xlabel('Recall')\n",
        "ax2.set_ylabel('Precision')\n",
        "\n",
        "ax1.plot([0, 1], [0, 1], 'k--')\n",
        "\n",
        "fpr, tpr, roc_thresholds = roc_curve(y_test, bl_y_pred)\n",
        "precision, recall, pr_thresholds = precision_recall_curve(y_test, bl_y_pred)\n",
        "ax1.plot(fpr, tpr, label='Baseline', color='b')\n",
        "ax2.plot(recall, precision, label='Baseline', color='b')\n",
        "print(\"Baseline: AUC_PR = %.3f\" % auc(recall, precision))\n",
        "print(\"Baseline: AUC_ROC = %.3f\" % auc(fpr, tpr))\n",
        "\n",
        "\n",
        "fpr, tpr, roc_thresholds = roc_curve(y_test, lg_fs_pred)\n",
        "precision, recall, pr_thresholds = precision_recall_curve(y_test, lg_fs_pred)\n",
        "ax1.plot(fpr, tpr, label=\"lg_fs_pred\", color='g')\n",
        "ax2.plot(recall, precision, label=\"lg_fs_pred\", color='g')\n",
        "print(\"lg_fs_pred: AUC_PR = %.3f\" % auc(recall, precision))\n",
        "print(\"lg_fs_pred: AUC_ROC = %.3f\" % auc(fpr, tpr))\n",
        "\n",
        "\n",
        "fpr, tpr, roc_thresholds = roc_curve(y_test, gb_fs_pred)\n",
        "precision, recall, pr_thresholds = precision_recall_curve(y_test, gb_fs_pred)\n",
        "ax1.plot(fpr, tpr, label=\"gb_fs_pred\", color='purple')\n",
        "ax2.plot(recall, precision, label=\"gb_fs_pred\", color='purple')\n",
        "print(\"gb_fs_pred: AUC_PR = %.3f\" % auc(recall, precision))\n",
        "print(\"gb_fs_pred: AUC_ROC = %.3f\" % auc(fpr, tpr))\n",
        "ax1.legend(loc=\"lower right\")\n",
        "ax2.legend(loc=\"lower right\");"
      ],
      "execution_count": 0,
      "outputs": [
        {
          "output_type": "stream",
          "text": [
            "Baseline: AUC_PR = 0.488\n",
            "Baseline: AUC_ROC = 0.676\n",
            "lg_fs_pred: AUC_PR = 0.510\n",
            "lg_fs_pred: AUC_ROC = 0.692\n",
            "gb_fs_pred: AUC_PR = 0.553\n",
            "gb_fs_pred: AUC_ROC = 0.724\n"
          ],
          "name": "stdout"
        },
        {
          "output_type": "display_data",
          "data": {
            "image/png": "[encoded data removed]",
            "text/plain": [
              "<Figure size 864x1728 with 2 Axes>"
            ]
          },
          "metadata": {
            "tags": []
          }
        }
      ]
    },
    {
      "cell_type": "code",
      "metadata": {
        "id": "yJOHLcQoa19E",
        "colab_type": "code",
        "colab": {}
      },
      "source": [
        ""
      ],
      "execution_count": 0,
      "outputs": []
    }
  ]
}