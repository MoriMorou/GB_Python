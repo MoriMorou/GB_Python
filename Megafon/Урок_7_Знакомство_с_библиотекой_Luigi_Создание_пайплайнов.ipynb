{
  "nbformat": 4,
  "nbformat_minor": 0,
  "metadata": {
    "kernelspec": {
      "display_name": "Python 3",
      "language": "python",
      "name": "python3"
    },
    "language_info": {
      "codemirror_mode": {
        "name": "ipython",
        "version": 3
      },
      "file_extension": ".py",
      "mimetype": "text/x-python",
      "name": "python",
      "nbconvert_exporter": "python",
      "pygments_lexer": "ipython3",
      "version": "3.5.2"
    },
    "toc": {
      "nav_menu": {},
      "number_sections": true,
      "sideBar": true,
      "skip_h1_title": false,
      "toc_cell": true,
      "toc_position": {
        "height": "732px",
        "left": "0px",
        "right": "1382px",
        "top": "66px",
        "width": "100px"
      },
      "toc_section_display": "none",
      "toc_window_display": false
    },
    "varInspector": {
      "cols": {
        "lenName": 16,
        "lenType": 16,
        "lenVar": 40
      },
      "kernels_config": {
        "python": {
          "delete_cmd_postfix": "",
          "delete_cmd_prefix": "del ",
          "library": "var_list.py",
          "varRefreshCmd": "print(var_dic_list())"
        },
        "r": {
          "delete_cmd_postfix": ") ",
          "delete_cmd_prefix": "rm(",
          "library": "var_list.r",
          "varRefreshCmd": "cat(var_dic_list()) "
        }
      },
      "types_to_exclude": [
        "module",
        "function",
        "builtin_function_or_method",
        "instance",
        "_Feature"
      ],
      "window_display": false
    },
    "colab": {
      "name": "Урок 7.Знакомство с библиотекой Luigi.Создание пайплайнов.ipynb",
      "provenance": []
    }
  },
  "cells": [
    {
      "cell_type": "code",
      "metadata": {
        "id": "HkWJy86nbNWh",
        "colab_type": "code",
        "colab": {}
      },
      "source": [
        "import luigi\n",
        "import requests\n",
        "import json\n",
        "import pandas as pd\n",
        "import datetime"
      ],
      "execution_count": 0,
      "outputs": []
    },
    {
      "cell_type": "markdown",
      "metadata": {
        "toc": true,
        "id": "QNDdTlxnbNWn",
        "colab_type": "text"
      },
      "source": [
        "<h1>Table of Contents<span class=\"tocSkip\"></span></h1>\n",
        "<div class=\"toc\" style=\"margin-top: 1em;\"><ul class=\"toc-item\"><li><ul class=\"toc-item\"><li><ul class=\"toc-item\"><li><span><a href=\"#Как-может-выглядеть-пайплайн---не-самый-лучший-вариант\" data-toc-modified-id=\"Как-может-выглядеть-пайплайн---не-самый-лучший-вариант-0.0.1\"><span class=\"toc-item-num\">0.0.1&nbsp;&nbsp;</span>Как может выглядеть пайплайн - не самый лучший вариант</a></span></li><li><span><a href=\"#Luigi\" data-toc-modified-id=\"Luigi-0.0.2\"><span class=\"toc-item-num\">0.0.2&nbsp;&nbsp;</span>Luigi</a></span><ul class=\"toc-item\"><li><span><a href=\"#Запуск-Luigi\" data-toc-modified-id=\"Запуск-Luigi-0.0.2.1\"><span class=\"toc-item-num\">0.0.2.1&nbsp;&nbsp;</span>Запуск Luigi</a></span></li><li><span><a href=\"#Пример-класса-Task\" data-toc-modified-id=\"Пример-класса-Task-0.0.2.2\"><span class=\"toc-item-num\">0.0.2.2&nbsp;&nbsp;</span>Пример класса Task</a></span></li><li><span><a href=\"#Target\" data-toc-modified-id=\"Target-0.0.2.3\"><span class=\"toc-item-num\">0.0.2.3&nbsp;&nbsp;</span>Target</a></span></li><li><span><a href=\"#Parameters\" data-toc-modified-id=\"Parameters-0.0.2.4\"><span class=\"toc-item-num\">0.0.2.4&nbsp;&nbsp;</span>Parameters</a></span></li><li><span><a href=\"#Зависимости\" data-toc-modified-id=\"Зависимости-0.0.2.5\"><span class=\"toc-item-num\">0.0.2.5&nbsp;&nbsp;</span>Зависимости</a></span></li></ul></li><li><span><a href=\"#Пример-пайплайна-для--данных-osm\" data-toc-modified-id=\"Пример-пайплайна-для--данных-osm-0.0.3\"><span class=\"toc-item-num\">0.0.3&nbsp;&nbsp;</span>Пример пайплайна для  данных osm</a></span><ul class=\"toc-item\"><li><span><a href=\"#Плюсы-Luigi\" data-toc-modified-id=\"Плюсы-Luigi-0.0.3.1\"><span class=\"toc-item-num\">0.0.3.1&nbsp;&nbsp;</span>Плюсы Luigi</a></span></li></ul></li><li><span><a href=\"#Ограничения-Luigi\" data-toc-modified-id=\"Ограничения-Luigi-0.0.4\"><span class=\"toc-item-num\">0.0.4&nbsp;&nbsp;</span>Ограничения Luigi</a></span></li><li><span><a href=\"#Другие-библиотеки\" data-toc-modified-id=\"Другие-библиотеки-0.0.5\"><span class=\"toc-item-num\">0.0.5&nbsp;&nbsp;</span>Другие библиотеки</a></span></li></ul></li></ul></li></ul></div>"
      ]
    },
    {
      "cell_type": "markdown",
      "metadata": {
        "id": "x7kUsUv7bNWo",
        "colab_type": "text"
      },
      "source": [
        "### Как может выглядеть пайплайн - не самый лучший вариант"
      ]
    },
    {
      "cell_type": "code",
      "metadata": {
        "id": "QcWTZGMVbNWp",
        "colab_type": "code",
        "colab": {}
      },
      "source": [
        "def load_data():\n",
        "    pass\n",
        "\n",
        "def process_data():\n",
        "    pass\n",
        "\n",
        "def log_results():\n",
        "    pass\n",
        "\n",
        "def train_model():\n",
        "    pass\n",
        "\n",
        "def predict_():\n",
        "    pass\n",
        "\n",
        "def store_results():\n",
        "    pass\n",
        "\n",
        "if __name__ == \"__main__\":\n",
        "    load_data()\n",
        "    process_data()\n",
        "    log_results()\n",
        "    train_model()\n",
        "    predict_()\n",
        "    store_results()"
      ],
      "execution_count": 0,
      "outputs": []
    },
    {
      "cell_type": "markdown",
      "metadata": {
        "id": "MuKZ_EEVbNWt",
        "colab_type": "text"
      },
      "source": [
        "Можно унифицировать подход к созданию пайплайна - использовать единую структуру для разных пайплайнов"
      ]
    },
    {
      "cell_type": "markdown",
      "metadata": {
        "id": "_1DBe3XDbNWu",
        "colab_type": "text"
      },
      "source": [
        "### Luigi"
      ]
    },
    {
      "cell_type": "markdown",
      "metadata": {
        "id": "tom85TNybNWv",
        "colab_type": "text"
      },
      "source": [
        "Luigi позволяет создавать последовательные задачи обработки данных и определять зависимости между ними.Пайплайн представляет из себя направленный ациклический граф. Luigi поддерживает разные источники данных - это могут локальные файлы, база данных (например MySQL, Mongodb), hdfs. "
      ]
    },
    {
      "cell_type": "markdown",
      "metadata": {
        "id": "vhHYOYB7bNWw",
        "colab_type": "text"
      },
      "source": [
        "Документация luigi https://luigi.readthedocs.io/"
      ]
    },
    {
      "cell_type": "markdown",
      "metadata": {
        "id": "g0VjaoWObNWw",
        "colab_type": "text"
      },
      "source": [
        "Установка luigi `pip3 install luigi`"
      ]
    },
    {
      "cell_type": "markdown",
      "metadata": {
        "id": "P6QEdrSlbNWx",
        "colab_type": "text"
      },
      "source": [
        "`Luigi` оперирует тремя понятиями - `Task`, `Target`, `Parameter`.\n",
        "\n",
        "`Task` - класс, отвечает за саму задачу. например, здесь можно писать код обучения модели или обработки данных.\n",
        "\n",
        "`Target` - отвечает за то, куда сохранять и откуда читать данные. Это может быть и база данных, и хранение на локальном диске, или hdfs.\n",
        "\n",
        "`Parameter` - параметры, с которым запускается задача - например дата запуска. Параметры могут быть опциональными."
      ]
    },
    {
      "cell_type": "markdown",
      "metadata": {
        "id": "OnxFRbslbNWy",
        "colab_type": "text"
      },
      "source": [
        "#### Запуск Luigi "
      ]
    },
    {
      "cell_type": "markdown",
      "metadata": {
        "id": "Vmhv1wehbNW1",
        "colab_type": "text"
      },
      "source": [
        "Нужно запустить `luigid` в терминале,далее можно посмотреть интерфейс можно на http://localhost:8082"
      ]
    },
    {
      "cell_type": "markdown",
      "metadata": {
        "id": "5NDKYCNsbNW2",
        "colab_type": "text"
      },
      "source": [
        "<img src=luigi_interface.png>"
      ]
    },
    {
      "cell_type": "markdown",
      "metadata": {
        "id": "MTTG1JFlbNW2",
        "colab_type": "text"
      },
      "source": [
        "#### Пример класса Task"
      ]
    },
    {
      "cell_type": "markdown",
      "metadata": {
        "id": "HnsP5JLvbNW3",
        "colab_type": "text"
      },
      "source": [
        "Для создания класса Task мы наследуем luigi.Task и нам нужно определить три основных метода: `run`, `output`, `requires`.\n",
        "Создадим простую задачу, где принимаемая на вход строка записывается в текстовый файл. Также у класса luigi.Task есть метод `input`, но его переопределять не нужно, он служит некоторой оберткой над `requires` и возвращает Target зависимых задач. Рассмотрим пример:"
      ]
    },
    {
      "cell_type": "code",
      "metadata": {
        "id": "9WnJrpkFbNW4",
        "colab_type": "code",
        "colab": {}
      },
      "source": [
        "class MyTask(luigi.Task):\n",
        "    \n",
        "    def output(self):\n",
        "        return luigi.LocalTarget(path=\"output.txt\")\n",
        "    \n",
        "    def run(self):\n",
        "        with self.output().open('w') as f:\n",
        "            f.write(\"build luigi pipeline\")   "
      ],
      "execution_count": 0,
      "outputs": []
    },
    {
      "cell_type": "markdown",
      "metadata": {
        "id": "Iq_b7cW-bNW8",
        "colab_type": "text"
      },
      "source": [
        "Запуск пайплайна происходит следующим образом:"
      ]
    },
    {
      "cell_type": "code",
      "metadata": {
        "scrolled": true,
        "id": "26IHlViBbNW8",
        "colab_type": "code",
        "colab": {},
        "outputId": "37c5adf7-ec36-4862-981c-f360e7ad5fb0"
      },
      "source": [
        "if __name__ == '__main__':\n",
        "    luigi.build([MyTask()])"
      ],
      "execution_count": 0,
      "outputs": [
        {
          "output_type": "stream",
          "text": [
            "DEBUG: Checking if MyTask() is complete\n",
            "INFO: Informed scheduler that task   MyTask__99914b932b   has status   PENDING\n",
            "INFO: Done scheduling tasks\n",
            "INFO: Running Worker with 1 processes\n",
            "DEBUG: Asking scheduler for work...\n",
            "DEBUG: Pending tasks: 1\n",
            "INFO: [pid 7509] Worker Worker(salt=687988753, workers=1, host=MacBook-Air-Elena-2.local, username=elena, pid=7509) running   MyTask()\n",
            "INFO: [pid 7509] Worker Worker(salt=687988753, workers=1, host=MacBook-Air-Elena-2.local, username=elena, pid=7509) done      MyTask()\n",
            "DEBUG: 1 running tasks, waiting for next task to finish\n",
            "INFO: Informed scheduler that task   MyTask__99914b932b   has status   DONE\n",
            "DEBUG: Asking scheduler for work...\n",
            "DEBUG: Done\n",
            "DEBUG: There are no more tasks to run at this time\n",
            "INFO: Worker Worker(salt=687988753, workers=1, host=MacBook-Air-Elena-2.local, username=elena, pid=7509) was stopped. Shutting down Keep-Alive thread\n",
            "INFO: \n",
            "===== Luigi Execution Summary =====\n",
            "\n",
            "Scheduled 1 tasks of which:\n",
            "* 1 ran successfully:\n",
            "    - 1 MyTask()\n",
            "\n",
            "This progress looks :) because there were no failed tasks or missing dependencies\n",
            "\n",
            "===== Luigi Execution Summary =====\n",
            "\n"
          ],
          "name": "stderr"
        }
      ]
    },
    {
      "cell_type": "markdown",
      "metadata": {
        "id": "T1jar_-abNXA",
        "colab_type": "text"
      },
      "source": [
        "#### Target"
      ]
    },
    {
      "cell_type": "markdown",
      "metadata": {
        "id": "gzjXKautbNXB",
        "colab_type": "text"
      },
      "source": [
        "LocalTarget"
      ]
    },
    {
      "cell_type": "code",
      "metadata": {
        "id": "lfZx55WRbNXB",
        "colab_type": "code",
        "colab": {}
      },
      "source": [
        "def output(self):\n",
        "        return luigi.LocalTarget(path='output.csv')"
      ],
      "execution_count": 0,
      "outputs": []
    },
    {
      "cell_type": "markdown",
      "metadata": {
        "id": "MJ0PqIqtbNXE",
        "colab_type": "text"
      },
      "source": [
        "Database target"
      ]
    },
    {
      "cell_type": "code",
      "metadata": {
        "id": "1AQagSL4bNXF",
        "colab_type": "code",
        "colab": {}
      },
      "source": [
        "from luigi.contrib.mongodb import MongoTarget\n",
        "from pymongo import MongoClient\n",
        "\n",
        "def output(self):\n",
        "    \n",
        "    connection = MongoClient(self.host, self.port)\n",
        "    db_client = connection[self.db_name]\n",
        "    collection_name = 'collection'\n",
        "\n",
        "    return MongoTarget(db_client, '_id', collection_name)"
      ],
      "execution_count": 0,
      "outputs": []
    },
    {
      "cell_type": "markdown",
      "metadata": {
        "id": "4R_jmrvIbNXH",
        "colab_type": "text"
      },
      "source": [
        "HDFS target"
      ]
    },
    {
      "cell_type": "code",
      "metadata": {
        "id": "2PHv-IfAbNXI",
        "colab_type": "code",
        "colab": {}
      },
      "source": [
        "def output(self):\n",
        "        return luigi.contrib.hdfs.HdfsTarget(\"data/logs_%s.csv\" % self.date)"
      ],
      "execution_count": 0,
      "outputs": []
    },
    {
      "cell_type": "markdown",
      "metadata": {
        "id": "9SLyl7m6bNXL",
        "colab_type": "text"
      },
      "source": [
        "Если какая-нибудь задача из пайплана обрывается, то нужно перезапустить пайплайн с этой задачи - результаты предыдущих задач не удаляются (обеспечивается методом exists в классе Target)."
      ]
    },
    {
      "cell_type": "markdown",
      "metadata": {
        "id": "3ctks3KObNXM",
        "colab_type": "text"
      },
      "source": [
        "#### Parameters"
      ]
    },
    {
      "cell_type": "markdown",
      "metadata": {
        "id": "MmPcr4R0bNXM",
        "colab_type": "text"
      },
      "source": [
        "Для создания параметров используется класс `Parameter` - по умолчанию возвращается класс string.\n",
        "\n",
        "Также для определения типа параметров можно использовать следующие классы - например `DateParameter`, `IntParameter`, `FloatParameter`. Другие типы параметров можно найти в документации.\n",
        "\n",
        "Определение типов параметров нужно для того, чтобы при запуске пайплайна из командной строки конвертация параметров из string происходила в нужный тип."
      ]
    },
    {
      "cell_type": "code",
      "metadata": {
        "id": "XulPGjeWbNXN",
        "colab_type": "code",
        "colab": {}
      },
      "source": [
        "class Report(luigi.Task):\n",
        "    \n",
        "    path = luigi.Parameter()\n",
        "    date = luigi.DateParameter(default=datetime.date.today())\n",
        "    input_data = luigi.IntParameter()\n",
        "    "
      ],
      "execution_count": 0,
      "outputs": []
    },
    {
      "cell_type": "code",
      "metadata": {
        "scrolled": true,
        "id": "me232tpcbNXQ",
        "colab_type": "code",
        "colab": {},
        "outputId": "611d74e0-7405-4260-aed4-b47e0bdc93b4"
      },
      "source": [
        "d = Report('/data', datetime.date(2012, 5, 10), 1)\n",
        "print(d.path, d.date, d.input_data)"
      ],
      "execution_count": 0,
      "outputs": [
        {
          "output_type": "stream",
          "text": [
            "/data 2012-05-10 1\n"
          ],
          "name": "stdout"
        }
      ]
    },
    {
      "cell_type": "markdown",
      "metadata": {
        "id": "vzXHgEDrbNXT",
        "colab_type": "text"
      },
      "source": [
        "В Luigi Task Visualiser появится задача и ее статус:"
      ]
    },
    {
      "cell_type": "markdown",
      "metadata": {
        "id": "bAnqYU2IbNXU",
        "colab_type": "text"
      },
      "source": [
        "#### Зависимости"
      ]
    },
    {
      "cell_type": "markdown",
      "metadata": {
        "id": "PaPvOGKpbNXV",
        "colab_type": "text"
      },
      "source": [
        "Может возникать несколько зависимостей между тасками, для этого нужно определить метод `requires`, который возвращает другой таск, который должен исполниться до запуска основной задачи. \n",
        "\n",
        "Также метод `requires` может возвращать лист зависимых задач - мы посмотрим это позже на примере пайплайна для скачивания данных с OpenStreetMap."
      ]
    },
    {
      "cell_type": "code",
      "metadata": {
        "code_folding": [],
        "id": "Qh4r8gEObNXV",
        "colab_type": "code",
        "colab": {}
      },
      "source": [
        "class MyTask(luigi.Task):\n",
        "    \n",
        "    def run(self):\n",
        "        with self.output().open('w') as f:\n",
        "            f.write('luigi pipeline')\n",
        "        \n",
        "    def output(self):\n",
        "        return luigi.LocalTarget(path=\"output_one.txt\")\n",
        "    \n",
        "class MyTaskModified(luigi.Task):\n",
        "    \n",
        "    string = luigi.Parameter()\n",
        "    \n",
        "    def requires(self):\n",
        "        return MyTask()\n",
        "    \n",
        "    def output(self):\n",
        "        luigi.LocalTarget(path='output_two.txt')\n",
        "        \n",
        "    def run(self):\n",
        "        with self.input().open('r') as f:\n",
        "            data = f.read()\n",
        "            \n",
        "        with self.input().open('w') as fout:\n",
        "            fout.write(data + self.string)"
      ],
      "execution_count": 0,
      "outputs": []
    },
    {
      "cell_type": "code",
      "metadata": {
        "scrolled": false,
        "id": "biLx1rribNXY",
        "colab_type": "code",
        "colab": {},
        "outputId": "f8f79faf-8994-42d0-d2ec-a279f2bc8616"
      },
      "source": [
        "if __name__ == '__main__':\n",
        "    luigi.build([MyTaskModified('test dependencies')])"
      ],
      "execution_count": 0,
      "outputs": [
        {
          "output_type": "stream",
          "text": [
            "DEBUG: Checking if MyTaskModified(string=test dependencies) is complete\n",
            "/usr/local/lib/python3.5/site-packages/luigi/worker.py:401: UserWarning: Task MyTaskModified(string=test dependencies) without outputs has no custom complete() method\n",
            "  is_complete = task.complete()\n",
            "DEBUG: Checking if MyTask() is complete\n",
            "INFO: Informed scheduler that task   MyTaskModified_test_dependencie_f8899dc010   has status   PENDING\n",
            "INFO: Informed scheduler that task   MyTask__99914b932b   has status   PENDING\n",
            "INFO: Done scheduling tasks\n",
            "INFO: Running Worker with 1 processes\n",
            "DEBUG: Asking scheduler for work...\n",
            "DEBUG: Pending tasks: 2\n",
            "INFO: [pid 7509] Worker Worker(salt=411079994, workers=1, host=MacBook-Air-Elena-2.local, username=elena, pid=7509) running   MyTask()\n",
            "INFO: [pid 7509] Worker Worker(salt=411079994, workers=1, host=MacBook-Air-Elena-2.local, username=elena, pid=7509) done      MyTask()\n",
            "DEBUG: 1 running tasks, waiting for next task to finish\n",
            "INFO: Informed scheduler that task   MyTask__99914b932b   has status   DONE\n",
            "DEBUG: Asking scheduler for work...\n",
            "DEBUG: Pending tasks: 1\n",
            "INFO: [pid 7509] Worker Worker(salt=411079994, workers=1, host=MacBook-Air-Elena-2.local, username=elena, pid=7509) running   MyTaskModified(string=test dependencies)\n",
            "INFO: [pid 7509] Worker Worker(salt=411079994, workers=1, host=MacBook-Air-Elena-2.local, username=elena, pid=7509) done      MyTaskModified(string=test dependencies)\n",
            "DEBUG: 1 running tasks, waiting for next task to finish\n",
            "INFO: Informed scheduler that task   MyTaskModified_test_dependencie_f8899dc010   has status   DONE\n",
            "DEBUG: Asking scheduler for work...\n",
            "DEBUG: Done\n",
            "DEBUG: There are no more tasks to run at this time\n",
            "INFO: Worker Worker(salt=411079994, workers=1, host=MacBook-Air-Elena-2.local, username=elena, pid=7509) was stopped. Shutting down Keep-Alive thread\n",
            "INFO: \n",
            "===== Luigi Execution Summary =====\n",
            "\n",
            "Scheduled 2 tasks of which:\n",
            "* 2 ran successfully:\n",
            "    - 1 MyTask()\n",
            "    - 1 MyTaskModified(string=test dependencies)\n",
            "\n",
            "This progress looks :) because there were no failed tasks or missing dependencies\n",
            "\n",
            "===== Luigi Execution Summary =====\n",
            "\n"
          ],
          "name": "stderr"
        }
      ]
    },
    {
      "cell_type": "code",
      "metadata": {
        "id": "um9zaW1dbNXb",
        "colab_type": "code",
        "colab": {}
      },
      "source": [
        "import luigi\n",
        "import requests\n",
        "import json\n",
        "import pandas as pd\n",
        "import datetime"
      ],
      "execution_count": 0,
      "outputs": []
    },
    {
      "cell_type": "markdown",
      "metadata": {
        "id": "kt5yYCBebNXe",
        "colab_type": "text"
      },
      "source": [
        "### Пример пайплайна для  данных osm"
      ]
    },
    {
      "cell_type": "markdown",
      "metadata": {
        "id": "vI0MAjSMbNXf",
        "colab_type": "text"
      },
      "source": [
        "Скачать данные по выбранной категории объектов\n",
        "\n",
        "Обработка данных\n",
        "\n",
        "Сохранение для дальнейшего использлвания"
      ]
    },
    {
      "cell_type": "markdown",
      "metadata": {
        "id": "e7u-7QambNXg",
        "colab_type": "text"
      },
      "source": [
        "Основными параметрами данного пайплайна будет территория, заданная ббоксом города, категория места, а также атрибут OSM.\n",
        "Скачаем места по Москве:"
      ]
    },
    {
      "cell_type": "code",
      "metadata": {
        "id": "CXzGitAsbNXh",
        "colab_type": "code",
        "colab": {}
      },
      "source": [
        "class TaskOSMLoading(luigi.Task):\n",
        "    \n",
        "    attr = luigi.Parameter()\n",
        "    category = luigi.Parameter()\n",
        "    bbox = luigi.Parameter()\n",
        "    \n",
        "    def output(self):\n",
        "        return luigi.LocalTarget(\"osm_data/data_osm_{}.json\".format(self.category))\n",
        "        \n",
        "    def run(self):\n",
        "        \n",
        "        overpass_url = \"https://overpass.kumi.systems/api/interpreter\"\n",
        "        overpass_query = \"\"\"\n",
        "            [out:json];\n",
        "            ({}[{}]({});\n",
        "            );\n",
        "             out body;\n",
        "                         \"\"\".format(self.attr, self.category, self.bbox)\n",
        "        \n",
        "        response = requests.get(overpass_url, \n",
        "                                params={'data': overpass_query})\n",
        "        data = response.json()\n",
        "        \n",
        "        with self.output().open('w') as f:\n",
        "            json.dump(data, f)"
      ],
      "execution_count": 0,
      "outputs": []
    },
    {
      "cell_type": "markdown",
      "metadata": {
        "id": "GXIZZZEGbNXk",
        "colab_type": "text"
      },
      "source": [
        "В классе можно определять вспомогательные методы, которые затем можно переиспользовать в `run()`:"
      ]
    },
    {
      "cell_type": "code",
      "metadata": {
        "id": "qP0qqH38bNXl",
        "colab_type": "code",
        "colab": {}
      },
      "source": [
        "class TaskOSMProcessing(luigi.Task):\n",
        "    \n",
        "    attr = luigi.Parameter()\n",
        "    categories = luigi.ListParameter()\n",
        "    bbox = luigi.Parameter()\n",
        "    #date = luigi.DateParameter(default = datetime.datetime.now()) \n",
        "    \n",
        "    def requires(self):\n",
        "        return [TaskOSMLoading(self.attr, category, self.bbox) for category in self.categories]\n",
        "    \n",
        "    def output(self):\n",
        "        return luigi.LocalTarget('osm_data/results_s.csv')\n",
        "    \n",
        "    def get_tag(self, x, key_name):\n",
        "        if str(key_name) in x:\n",
        "            tmp = x[key_name]\n",
        "            return tmp\n",
        "        else:\n",
        "            return 'unknown'\n",
        "    \n",
        "    def run(self):\n",
        "        \n",
        "        all_osm = pd.DataFrame()\n",
        "        for _input in self.input():\n",
        "            with _input.open('r') as raw_file:\n",
        "                data = pd.DataFrame((json.load(raw_file))['elements'])\n",
        "                all_osm = all_osm.append(data)\n",
        "        \n",
        "        all_osm['amenity'] = all_osm['tags'].apply(lambda x: self.get_tag(x, 'amenity'))\n",
        "        \n",
        "        with self.output().open('w') as f:\n",
        "            all_osm[['id','lat','lon','amenity']].to_csv(f, encoding='utf8')"
      ],
      "execution_count": 0,
      "outputs": []
    },
    {
      "cell_type": "code",
      "metadata": {
        "scrolled": true,
        "id": "Pd4UX1KkbNXn",
        "colab_type": "code",
        "colab": {},
        "outputId": "cc2b0e98-7b64-4fce-8a00-e9bb87af9284"
      },
      "source": [
        "if __name__ == '__main__':\n",
        "    luigi.build([TaskOSMProcessing('node',['amenity','shop','office','bus_stop'],\n",
        "                                   \"55.1422,36.8031,56.0212,37.9674\")])"
      ],
      "execution_count": 0,
      "outputs": [
        {
          "output_type": "stream",
          "text": [
            "DEBUG: Checking if TaskOSMProcessing(attr=node, categories=[\"amenity\", \"shop\", \"office\", \"bus_stop\"], bbox=55.1422,36.8031,56.0212,37.9674) is complete\n",
            "DEBUG: Checking if TaskOSMLoading(attr=node, category=amenity, bbox=55.1422,36.8031,56.0212,37.9674) is complete\n",
            "DEBUG: Checking if TaskOSMLoading(attr=node, category=shop, bbox=55.1422,36.8031,56.0212,37.9674) is complete\n",
            "DEBUG: Checking if TaskOSMLoading(attr=node, category=office, bbox=55.1422,36.8031,56.0212,37.9674) is complete\n",
            "DEBUG: Checking if TaskOSMLoading(attr=node, category=bus_stop, bbox=55.1422,36.8031,56.0212,37.9674) is complete\n",
            "INFO: Informed scheduler that task   TaskOSMProcessing_node_55_1422_36_8031____amenity____sho_badb57d548   has status   PENDING\n",
            "INFO: Informed scheduler that task   TaskOSMLoading_node_55_1422_36_8031__bus_stop_cc6b2eb261   has status   PENDING\n",
            "INFO: Informed scheduler that task   TaskOSMLoading_node_55_1422_36_8031__office_a8ea274f7d   has status   PENDING\n",
            "INFO: Informed scheduler that task   TaskOSMLoading_node_55_1422_36_8031__shop_cd2f7a8f48   has status   PENDING\n",
            "INFO: Informed scheduler that task   TaskOSMLoading_node_55_1422_36_8031__amenity_b895978954   has status   PENDING\n",
            "INFO: Done scheduling tasks\n",
            "INFO: Running Worker with 1 processes\n",
            "DEBUG: Asking scheduler for work...\n",
            "DEBUG: Pending tasks: 5\n",
            "INFO: [pid 7509] Worker Worker(salt=075421608, workers=1, host=MacBook-Air-Elena-2.local, username=elena, pid=7509) running   TaskOSMLoading(attr=node, category=amenity, bbox=55.1422,36.8031,56.0212,37.9674)\n",
            "INFO: [pid 7509] Worker Worker(salt=075421608, workers=1, host=MacBook-Air-Elena-2.local, username=elena, pid=7509) done      TaskOSMLoading(attr=node, category=amenity, bbox=55.1422,36.8031,56.0212,37.9674)\n",
            "DEBUG: 1 running tasks, waiting for next task to finish\n",
            "INFO: Informed scheduler that task   TaskOSMLoading_node_55_1422_36_8031__amenity_b895978954   has status   DONE\n",
            "DEBUG: Asking scheduler for work...\n",
            "DEBUG: Pending tasks: 4\n",
            "INFO: [pid 7509] Worker Worker(salt=075421608, workers=1, host=MacBook-Air-Elena-2.local, username=elena, pid=7509) running   TaskOSMLoading(attr=node, category=bus_stop, bbox=55.1422,36.8031,56.0212,37.9674)\n",
            "INFO: [pid 7509] Worker Worker(salt=075421608, workers=1, host=MacBook-Air-Elena-2.local, username=elena, pid=7509) done      TaskOSMLoading(attr=node, category=bus_stop, bbox=55.1422,36.8031,56.0212,37.9674)\n",
            "DEBUG: 1 running tasks, waiting for next task to finish\n",
            "INFO: Informed scheduler that task   TaskOSMLoading_node_55_1422_36_8031__bus_stop_cc6b2eb261   has status   DONE\n",
            "DEBUG: Asking scheduler for work...\n",
            "DEBUG: Pending tasks: 3\n",
            "INFO: [pid 7509] Worker Worker(salt=075421608, workers=1, host=MacBook-Air-Elena-2.local, username=elena, pid=7509) running   TaskOSMLoading(attr=node, category=shop, bbox=55.1422,36.8031,56.0212,37.9674)\n",
            "INFO: [pid 7509] Worker Worker(salt=075421608, workers=1, host=MacBook-Air-Elena-2.local, username=elena, pid=7509) done      TaskOSMLoading(attr=node, category=shop, bbox=55.1422,36.8031,56.0212,37.9674)\n",
            "DEBUG: 1 running tasks, waiting for next task to finish\n",
            "INFO: Informed scheduler that task   TaskOSMLoading_node_55_1422_36_8031__shop_cd2f7a8f48   has status   DONE\n",
            "DEBUG: Asking scheduler for work...\n",
            "DEBUG: Pending tasks: 2\n",
            "INFO: [pid 7509] Worker Worker(salt=075421608, workers=1, host=MacBook-Air-Elena-2.local, username=elena, pid=7509) running   TaskOSMLoading(attr=node, category=office, bbox=55.1422,36.8031,56.0212,37.9674)\n",
            "INFO: [pid 7509] Worker Worker(salt=075421608, workers=1, host=MacBook-Air-Elena-2.local, username=elena, pid=7509) done      TaskOSMLoading(attr=node, category=office, bbox=55.1422,36.8031,56.0212,37.9674)\n",
            "DEBUG: 1 running tasks, waiting for next task to finish\n",
            "INFO: Informed scheduler that task   TaskOSMLoading_node_55_1422_36_8031__office_a8ea274f7d   has status   DONE\n",
            "DEBUG: Asking scheduler for work...\n",
            "DEBUG: Pending tasks: 1\n",
            "INFO: [pid 7509] Worker Worker(salt=075421608, workers=1, host=MacBook-Air-Elena-2.local, username=elena, pid=7509) running   TaskOSMProcessing(attr=node, categories=[\"amenity\", \"shop\", \"office\", \"bus_stop\"], bbox=55.1422,36.8031,56.0212,37.9674)\n",
            "INFO: [pid 7509] Worker Worker(salt=075421608, workers=1, host=MacBook-Air-Elena-2.local, username=elena, pid=7509) done      TaskOSMProcessing(attr=node, categories=[\"amenity\", \"shop\", \"office\", \"bus_stop\"], bbox=55.1422,36.8031,56.0212,37.9674)\n",
            "DEBUG: 1 running tasks, waiting for next task to finish\n",
            "INFO: Informed scheduler that task   TaskOSMProcessing_node_55_1422_36_8031____amenity____sho_badb57d548   has status   DONE\n",
            "DEBUG: Asking scheduler for work...\n",
            "DEBUG: Done\n",
            "DEBUG: There are no more tasks to run at this time\n",
            "INFO: Worker Worker(salt=075421608, workers=1, host=MacBook-Air-Elena-2.local, username=elena, pid=7509) was stopped. Shutting down Keep-Alive thread\n",
            "INFO: \n",
            "===== Luigi Execution Summary =====\n",
            "\n",
            "Scheduled 5 tasks of which:\n",
            "* 5 ran successfully:\n",
            "    - 4 TaskOSMLoading(attr=node, category=amenity, bbox=55.1422,36.8031,56.0212,37.9674) ...\n",
            "    - 1 TaskOSMProcessing(attr=node, categories=[\"amenity\", \"shop\", \"office\", \"bus_stop\"], bbox=55.1422,36.8031,56.0212,37.9674)\n",
            "\n",
            "This progress looks :) because there were no failed tasks or missing dependencies\n",
            "\n",
            "===== Luigi Execution Summary =====\n",
            "\n"
          ],
          "name": "stderr"
        }
      ]
    },
    {
      "cell_type": "markdown",
      "metadata": {
        "id": "IrwmR9cGbNXq",
        "colab_type": "text"
      },
      "source": [
        "<img src=luigi_dependencies.png>"
      ]
    },
    {
      "cell_type": "markdown",
      "metadata": {
        "id": "ijsUhCV4bNXr",
        "colab_type": "text"
      },
      "source": [
        "#### Плюсы Luigi "
      ]
    },
    {
      "cell_type": "markdown",
      "metadata": {
        "id": "NVeOJVzjbNXs",
        "colab_type": "text"
      },
      "source": [
        "Luigi можно запускать для тестирования пайплайна в режиме `--local-sheduler`, также можно запускать через центральный планировщик с аргументом `--central-sheduler`  "
      ]
    },
    {
      "cell_type": "markdown",
      "metadata": {
        "id": "eZnKzcIFbNXs",
        "colab_type": "text"
      },
      "source": [
        "Довольно простой интерфейс - по факту для написания пайплайна нужно оперировать только тремя сущностями;\n",
        "\n",
        "Неплохая документация;\n",
        "\n",
        "Визуализация графа задач;\n",
        "\n",
        "Перезапуск задачи не приводит к потере данных предыдущих задач;\n",
        "\n",
        "Удобная обработка аргументов, передаваемые через терминал;"
      ]
    },
    {
      "cell_type": "markdown",
      "metadata": {
        "id": "bT9qdr_PbNXt",
        "colab_type": "text"
      },
      "source": [
        "### Ограничения Luigi"
      ]
    },
    {
      "cell_type": "markdown",
      "metadata": {
        "id": "SF8_8bfgbNXu",
        "colab_type": "text"
      },
      "source": [
        "Не поддерживает real-time обработку\n",
        "\n",
        "Отсутствует запуск задач по расписанию"
      ]
    },
    {
      "cell_type": "markdown",
      "metadata": {
        "id": "C89CvL6-bNXu",
        "colab_type": "text"
      },
      "source": [
        "### Другие библиотеки"
      ]
    },
    {
      "cell_type": "markdown",
      "metadata": {
        "id": "R_bq1Ob0bNXv",
        "colab_type": "text"
      },
      "source": [
        "airflow - библиотека от airbnb, сейчас выложена в открытом доступе\n",
        "\n",
        "celery - подходит для real-time обработки"
      ]
    }
  ]
}