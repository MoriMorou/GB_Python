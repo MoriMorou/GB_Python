{
  "nbformat": 4,
  "nbformat_minor": 0,
  "metadata": {
    "kernelspec": {
      "display_name": "Python 3",
      "language": "python",
      "name": "python3"
    },
    "language_info": {
      "codemirror_mode": {
        "name": "ipython",
        "version": 3
      },
      "file_extension": ".py",
      "mimetype": "text/x-python",
      "name": "python",
      "nbconvert_exporter": "python",
      "pygments_lexer": "ipython3",
      "version": "3.5.2"
    },
    "toc": {
      "nav_menu": {},
      "number_sections": true,
      "sideBar": true,
      "skip_h1_title": false,
      "toc_cell": true,
      "toc_position": {
        "height": "732px",
        "left": "0px",
        "right": "1382px",
        "top": "66px",
        "width": "100px"
      },
      "toc_section_display": "none",
      "toc_window_display": false
    },
    "varInspector": {
      "cols": {
        "lenName": 16,
        "lenType": 16,
        "lenVar": 40
      },
      "kernels_config": {
        "python": {
          "delete_cmd_postfix": "",
          "delete_cmd_prefix": "del ",
          "library": "var_list.py",
          "varRefreshCmd": "print(var_dic_list())"
        },
        "r": {
          "delete_cmd_postfix": ") ",
          "delete_cmd_prefix": "rm(",
          "library": "var_list.r",
          "varRefreshCmd": "cat(var_dic_list()) "
        }
      },
      "types_to_exclude": [
        "module",
        "function",
        "builtin_function_or_method",
        "instance",
        "_Feature"
      ],
      "window_display": false
    },
    "colab": {
      "name": "Урок 8.Библиотека Luigi -Пример пайплана для обработки данных OSM.ipynb",
      "provenance": []
    }
  },
  "cells": [
    {
      "cell_type": "code",
      "metadata": {
        "id": "eaJN9jPJbhx-",
        "colab_type": "code",
        "colab": {}
      },
      "source": [
        "import luigi\n",
        "import requests\n",
        "import json\n",
        "import pandas as pd\n",
        "import datetime"
      ],
      "execution_count": 0,
      "outputs": []
    },
    {
      "cell_type": "markdown",
      "metadata": {
        "toc": true,
        "id": "INLRUBCbbhyD",
        "colab_type": "text"
      },
      "source": [
        "<h1>Table of Contents<span class=\"tocSkip\"></span></h1>\n",
        "<div class=\"toc\" style=\"margin-top: 1em;\"><ul class=\"toc-item\"><li><span><a href=\"#Пример-пайплайна-для--данных-osm\" data-toc-modified-id=\"Пример-пайплайна-для--данных-osm-1\"><span class=\"toc-item-num\">1&nbsp;&nbsp;</span>Пример пайплайна для  данных osm</a></span><ul class=\"toc-item\"><li><span><a href=\"#Плюсы-Luigi\" data-toc-modified-id=\"Плюсы-Luigi-1.1\"><span class=\"toc-item-num\">1.1&nbsp;&nbsp;</span>Плюсы Luigi</a></span></li></ul></li><li><span><a href=\"#Ограничения-Luigi\" data-toc-modified-id=\"Ограничения-Luigi-2\"><span class=\"toc-item-num\">2&nbsp;&nbsp;</span>Ограничения Luigi</a></span></li><li><span><a href=\"#Другие-библиотеки\" data-toc-modified-id=\"Другие-библиотеки-3\"><span class=\"toc-item-num\">3&nbsp;&nbsp;</span>Другие библиотеки</a></span></li></ul></div>"
      ]
    },
    {
      "cell_type": "markdown",
      "metadata": {
        "id": "RdQ3TignbhyE",
        "colab_type": "text"
      },
      "source": [
        "### Пример пайплайна для  данных osm"
      ]
    },
    {
      "cell_type": "markdown",
      "metadata": {
        "id": "-yN0b-QwbhyF",
        "colab_type": "text"
      },
      "source": [
        "Скачать данные по выбранной категории объектов\n",
        "\n",
        "Обработка данных\n",
        "\n",
        "Сохранение для дальнейшего использлвания"
      ]
    },
    {
      "cell_type": "markdown",
      "metadata": {
        "id": "urZG295ibhyG",
        "colab_type": "text"
      },
      "source": [
        "Основными параметрами данного пайплайна будет территория, заданная ббоксом города, категория места, а также атрибут OSM.\n",
        "Скачаем места по Москве:"
      ]
    },
    {
      "cell_type": "code",
      "metadata": {
        "id": "SZsvL0A4bhyH",
        "colab_type": "code",
        "colab": {}
      },
      "source": [
        "class TaskOSMLoading(luigi.Task):\n",
        "    \n",
        "    attr = luigi.Parameter()\n",
        "    category = luigi.Parameter()\n",
        "    bbox = luigi.Parameter()\n",
        "    \n",
        "    def output(self):\n",
        "        return luigi.LocalTarget(\"osm_data/data_osm_{}.json\".format(self.category))\n",
        "        \n",
        "    def run(self):\n",
        "        \n",
        "        overpass_url = \"https://overpass.kumi.systems/api/interpreter\"\n",
        "        overpass_query = \"\"\"\n",
        "            [out:json];\n",
        "            ({}[{}]({});\n",
        "            );\n",
        "             out body;\n",
        "                         \"\"\".format(self.attr, self.category, self.bbox)\n",
        "        \n",
        "        response = requests.get(overpass_url, \n",
        "                                params={'data': overpass_query})\n",
        "        data = response.json()\n",
        "        \n",
        "        with self.output().open('w') as f:\n",
        "            json.dump(data, f)"
      ],
      "execution_count": 0,
      "outputs": []
    },
    {
      "cell_type": "markdown",
      "metadata": {
        "id": "Vc2dd5cDbhyK",
        "colab_type": "text"
      },
      "source": [
        "В классе можно определять вспомогательные методы, которые затем можно переиспользовать в `run()`:"
      ]
    },
    {
      "cell_type": "code",
      "metadata": {
        "id": "A_-gbskUbhyL",
        "colab_type": "code",
        "colab": {}
      },
      "source": [
        "class TaskOSMProcessing(luigi.Task):\n",
        "    \n",
        "    attr = luigi.Parameter()\n",
        "    categories = luigi.ListParameter()\n",
        "    bbox = luigi.Parameter()\n",
        "    #date = luigi.DateParameter(default = datetime.datetime.now()) \n",
        "    \n",
        "    def requires(self):\n",
        "        return [TaskOSMLoading(self.attr, category, self.bbox) for category in self.categories]\n",
        "    \n",
        "    def output(self):\n",
        "        return luigi.LocalTarget('osm_data/results_s.csv')\n",
        "    \n",
        "    def get_tag(self, x, key_name):\n",
        "        if str(key_name) in x:\n",
        "            tmp = x[key_name]\n",
        "            return tmp\n",
        "        else:\n",
        "            return 'unknown'\n",
        "    \n",
        "    def run(self):\n",
        "        \n",
        "        all_osm = pd.DataFrame()\n",
        "        for _input in self.input():\n",
        "            with _input.open('r') as raw_file:\n",
        "                data = pd.DataFrame((json.load(raw_file))['elements'])\n",
        "                all_osm = all_osm.append(data)\n",
        "        \n",
        "        all_osm['amenity'] = all_osm['tags'].apply(lambda x: self.get_tag(x, 'amenity'))\n",
        "        \n",
        "        with self.output().open('w') as f:\n",
        "            all_osm[['id','lat','lon','amenity']].to_csv(f, encoding='utf8')"
      ],
      "execution_count": 0,
      "outputs": []
    },
    {
      "cell_type": "code",
      "metadata": {
        "scrolled": true,
        "id": "Z7QQyw5xbhyO",
        "colab_type": "code",
        "colab": {},
        "outputId": "bd160da5-85ea-421d-edce-3dd0ac8eb0c3"
      },
      "source": [
        "if __name__ == '__main__':\n",
        "    luigi.build([TaskOSMProcessing('node',['amenity','shop','office','bus_stop'],\n",
        "                                   \"55.1422,36.8031,56.0212,37.9674\")])"
      ],
      "execution_count": 0,
      "outputs": [
        {
          "output_type": "stream",
          "text": [
            "DEBUG: Checking if TaskOSMProcessing(attr=node, categories=[\"amenity\", \"shop\", \"office\", \"bus_stop\"], bbox=55.1422,36.8031,56.0212,37.9674) is complete\n",
            "DEBUG: Checking if TaskOSMLoading(attr=node, category=amenity, bbox=55.1422,36.8031,56.0212,37.9674) is complete\n",
            "DEBUG: Checking if TaskOSMLoading(attr=node, category=shop, bbox=55.1422,36.8031,56.0212,37.9674) is complete\n",
            "DEBUG: Checking if TaskOSMLoading(attr=node, category=office, bbox=55.1422,36.8031,56.0212,37.9674) is complete\n",
            "DEBUG: Checking if TaskOSMLoading(attr=node, category=bus_stop, bbox=55.1422,36.8031,56.0212,37.9674) is complete\n",
            "INFO: Informed scheduler that task   TaskOSMProcessing_node_55_1422_36_8031____amenity____sho_badb57d548   has status   PENDING\n",
            "INFO: Informed scheduler that task   TaskOSMLoading_node_55_1422_36_8031__bus_stop_cc6b2eb261   has status   PENDING\n",
            "INFO: Informed scheduler that task   TaskOSMLoading_node_55_1422_36_8031__office_a8ea274f7d   has status   PENDING\n",
            "INFO: Informed scheduler that task   TaskOSMLoading_node_55_1422_36_8031__shop_cd2f7a8f48   has status   PENDING\n",
            "INFO: Informed scheduler that task   TaskOSMLoading_node_55_1422_36_8031__amenity_b895978954   has status   PENDING\n",
            "INFO: Done scheduling tasks\n",
            "INFO: Running Worker with 1 processes\n",
            "DEBUG: Asking scheduler for work...\n",
            "DEBUG: Pending tasks: 5\n",
            "INFO: [pid 7509] Worker Worker(salt=075421608, workers=1, host=MacBook-Air-Elena-2.local, username=elena, pid=7509) running   TaskOSMLoading(attr=node, category=amenity, bbox=55.1422,36.8031,56.0212,37.9674)\n",
            "INFO: [pid 7509] Worker Worker(salt=075421608, workers=1, host=MacBook-Air-Elena-2.local, username=elena, pid=7509) done      TaskOSMLoading(attr=node, category=amenity, bbox=55.1422,36.8031,56.0212,37.9674)\n",
            "DEBUG: 1 running tasks, waiting for next task to finish\n",
            "INFO: Informed scheduler that task   TaskOSMLoading_node_55_1422_36_8031__amenity_b895978954   has status   DONE\n",
            "DEBUG: Asking scheduler for work...\n",
            "DEBUG: Pending tasks: 4\n",
            "INFO: [pid 7509] Worker Worker(salt=075421608, workers=1, host=MacBook-Air-Elena-2.local, username=elena, pid=7509) running   TaskOSMLoading(attr=node, category=bus_stop, bbox=55.1422,36.8031,56.0212,37.9674)\n",
            "INFO: [pid 7509] Worker Worker(salt=075421608, workers=1, host=MacBook-Air-Elena-2.local, username=elena, pid=7509) done      TaskOSMLoading(attr=node, category=bus_stop, bbox=55.1422,36.8031,56.0212,37.9674)\n",
            "DEBUG: 1 running tasks, waiting for next task to finish\n",
            "INFO: Informed scheduler that task   TaskOSMLoading_node_55_1422_36_8031__bus_stop_cc6b2eb261   has status   DONE\n",
            "DEBUG: Asking scheduler for work...\n",
            "DEBUG: Pending tasks: 3\n",
            "INFO: [pid 7509] Worker Worker(salt=075421608, workers=1, host=MacBook-Air-Elena-2.local, username=elena, pid=7509) running   TaskOSMLoading(attr=node, category=shop, bbox=55.1422,36.8031,56.0212,37.9674)\n",
            "INFO: [pid 7509] Worker Worker(salt=075421608, workers=1, host=MacBook-Air-Elena-2.local, username=elena, pid=7509) done      TaskOSMLoading(attr=node, category=shop, bbox=55.1422,36.8031,56.0212,37.9674)\n",
            "DEBUG: 1 running tasks, waiting for next task to finish\n",
            "INFO: Informed scheduler that task   TaskOSMLoading_node_55_1422_36_8031__shop_cd2f7a8f48   has status   DONE\n",
            "DEBUG: Asking scheduler for work...\n",
            "DEBUG: Pending tasks: 2\n",
            "INFO: [pid 7509] Worker Worker(salt=075421608, workers=1, host=MacBook-Air-Elena-2.local, username=elena, pid=7509) running   TaskOSMLoading(attr=node, category=office, bbox=55.1422,36.8031,56.0212,37.9674)\n",
            "INFO: [pid 7509] Worker Worker(salt=075421608, workers=1, host=MacBook-Air-Elena-2.local, username=elena, pid=7509) done      TaskOSMLoading(attr=node, category=office, bbox=55.1422,36.8031,56.0212,37.9674)\n",
            "DEBUG: 1 running tasks, waiting for next task to finish\n",
            "INFO: Informed scheduler that task   TaskOSMLoading_node_55_1422_36_8031__office_a8ea274f7d   has status   DONE\n",
            "DEBUG: Asking scheduler for work...\n",
            "DEBUG: Pending tasks: 1\n",
            "INFO: [pid 7509] Worker Worker(salt=075421608, workers=1, host=MacBook-Air-Elena-2.local, username=elena, pid=7509) running   TaskOSMProcessing(attr=node, categories=[\"amenity\", \"shop\", \"office\", \"bus_stop\"], bbox=55.1422,36.8031,56.0212,37.9674)\n",
            "INFO: [pid 7509] Worker Worker(salt=075421608, workers=1, host=MacBook-Air-Elena-2.local, username=elena, pid=7509) done      TaskOSMProcessing(attr=node, categories=[\"amenity\", \"shop\", \"office\", \"bus_stop\"], bbox=55.1422,36.8031,56.0212,37.9674)\n",
            "DEBUG: 1 running tasks, waiting for next task to finish\n",
            "INFO: Informed scheduler that task   TaskOSMProcessing_node_55_1422_36_8031____amenity____sho_badb57d548   has status   DONE\n",
            "DEBUG: Asking scheduler for work...\n",
            "DEBUG: Done\n",
            "DEBUG: There are no more tasks to run at this time\n",
            "INFO: Worker Worker(salt=075421608, workers=1, host=MacBook-Air-Elena-2.local, username=elena, pid=7509) was stopped. Shutting down Keep-Alive thread\n",
            "INFO: \n",
            "===== Luigi Execution Summary =====\n",
            "\n",
            "Scheduled 5 tasks of which:\n",
            "* 5 ran successfully:\n",
            "    - 4 TaskOSMLoading(attr=node, category=amenity, bbox=55.1422,36.8031,56.0212,37.9674) ...\n",
            "    - 1 TaskOSMProcessing(attr=node, categories=[\"amenity\", \"shop\", \"office\", \"bus_stop\"], bbox=55.1422,36.8031,56.0212,37.9674)\n",
            "\n",
            "This progress looks :) because there were no failed tasks or missing dependencies\n",
            "\n",
            "===== Luigi Execution Summary =====\n",
            "\n"
          ],
          "name": "stderr"
        }
      ]
    },
    {
      "cell_type": "markdown",
      "metadata": {
        "id": "Ee_uplC-bhyT",
        "colab_type": "text"
      },
      "source": [
        "<img src=luigi_dependencies.png>"
      ]
    },
    {
      "cell_type": "markdown",
      "metadata": {
        "id": "D93gmag2bhyU",
        "colab_type": "text"
      },
      "source": [
        "#### Плюсы Luigi "
      ]
    },
    {
      "cell_type": "markdown",
      "metadata": {
        "id": "ubvfAhJ5bhyV",
        "colab_type": "text"
      },
      "source": [
        "Luigi можно запускать для тестирования пайплайна в режиме `--local-sheduler`, также можно запускать через центральный планировщик с аргументом `--central-sheduler`  "
      ]
    },
    {
      "cell_type": "markdown",
      "metadata": {
        "id": "COOf8jy4bhyX",
        "colab_type": "text"
      },
      "source": [
        "Довольно простой интерфейс - по факту для написания пайплайна нужно оперировать только тремя сущностями;\n",
        "\n",
        "Неплохая документация;\n",
        "\n",
        "Визуализация графа задач;\n",
        "\n",
        "Перезапуск задачи не приводит к потере данных предыдущих задач;\n",
        "\n",
        "Удобная обработка аргументов, передаваемые через терминал;"
      ]
    },
    {
      "cell_type": "markdown",
      "metadata": {
        "id": "wX_ZrHflbhyY",
        "colab_type": "text"
      },
      "source": [
        "### Ограничения Luigi"
      ]
    },
    {
      "cell_type": "markdown",
      "metadata": {
        "id": "pEj4a-rCbhyZ",
        "colab_type": "text"
      },
      "source": [
        "Не поддерживает real-time обработку\n",
        "\n",
        "Отсутствует запуск задач по расписанию"
      ]
    },
    {
      "cell_type": "markdown",
      "metadata": {
        "id": "ZXbPjtd6bhya",
        "colab_type": "text"
      },
      "source": [
        "### Другие библиотеки"
      ]
    },
    {
      "cell_type": "markdown",
      "metadata": {
        "id": "XgaR1YmPbhya",
        "colab_type": "text"
      },
      "source": [
        "airflow - библиотека от airbnb, сейчас выложена в открытом доступе\n",
        "\n",
        "celery - подходит для real-time обработки"
      ]
    }
  ]
}