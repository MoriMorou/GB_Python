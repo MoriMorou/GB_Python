{
 "cells": [
  {
   "cell_type": "code",
   "execution_count": 7,
   "metadata": {},
   "outputs": [
    {
     "name": "stdout",
     "output_type": "stream",
     "text": [
      "Hello world!\n",
      "\n",
      "Some string\n",
      "\n",
      "Another text\n",
      "\n"
     ]
    }
   ],
   "source": [
    "file = open('data/read.txt')\n",
    "\n",
    "print(file.readline())\n",
    "print(file.readline())\n",
    "print(file.readline())\n",
    "\n",
    "file.close()"
   ]
  },
  {
   "cell_type": "code",
   "execution_count": 8,
   "metadata": {},
   "outputs": [
    {
     "name": "stdout",
     "output_type": "stream",
     "text": [
      "['Hello world!\\n', 'Some string\\n']\n",
      "['Another text\\n', 'Hello world!\\n', 'Some string\\n']\n",
      "['Another text\\n', 'Hello world!\\n', 'Some string\\n', 'Another text\\n']\n"
     ]
    }
   ],
   "source": [
    "file = open('data/read.txt')\n",
    "\n",
    "print(file.readlines(16))\n",
    "print(file.readlines(32))\n",
    "print(file.readlines(64))\n",
    "\n",
    "file.close()"
   ]
  },
  {
   "cell_type": "code",
   "execution_count": 9,
   "metadata": {},
   "outputs": [
    {
     "name": "stdout",
     "output_type": "stream",
     "text": [
      "Hello world!\n",
      "Some string\n",
      "Another text\n",
      "Hello world!\n",
      "Some string\n",
      "Another text\n",
      "Hello world!\n",
      "Some string\n",
      "Another text\n",
      "\n"
     ]
    }
   ],
   "source": [
    "file = open('data/read.txt')\n",
    "\n",
    "print(file.read())\n",
    "\n",
    "file.close()"
   ]
  },
  {
   "cell_type": "code",
   "execution_count": 10,
   "metadata": {},
   "outputs": [
    {
     "name": "stdout",
     "output_type": "stream",
     "text": [
      "Hello world!\n",
      "\n",
      "Some string\n",
      "\n",
      "Another text\n",
      "\n",
      "Hello world!\n",
      "\n",
      "Some string\n",
      "\n",
      "Another text\n",
      "\n",
      "Hello world!\n",
      "\n",
      "Some string\n",
      "\n",
      "Another text\n",
      "\n"
     ]
    }
   ],
   "source": [
    "with open('data/read.txt') as file:\n",
    "    for row in file:\n",
    "        print(row)"
   ]
  },
  {
   "cell_type": "code",
   "execution_count": 14,
   "metadata": {},
   "outputs": [],
   "source": [
    "with open('data/write.txt', 'w') as file:\n",
    "    file.write('Another string\\n')"
   ]
  },
  {
   "cell_type": "code",
   "execution_count": 15,
   "metadata": {},
   "outputs": [],
   "source": [
    "with open('data/write.txt', 'a') as file:\n",
    "    file.write('Hello world\\n')"
   ]
  },
  {
   "cell_type": "code",
   "execution_count": 21,
   "metadata": {},
   "outputs": [
    {
     "name": "stdout",
     "output_type": "stream",
     "text": [
      "Another string\n",
      "Hello world\n",
      "\n",
      "Another string\n",
      "Hello world\n",
      "Some string\n",
      "\n"
     ]
    }
   ],
   "source": [
    "with open('data/write.txt', 'r+') as file:\n",
    "    print(file.read())\n",
    "    file.writelines(['Some string\\n'])\n",
    "    file.seek(0)\n",
    "    print(file.read())"
   ]
  },
  {
   "cell_type": "code",
   "execution_count": 23,
   "metadata": {},
   "outputs": [
    {
     "name": "stdout",
     "output_type": "stream",
     "text": [
      "b'Another string\\nHello world\\nSome string\\n'\n",
      "b'Another string\\nHello world\\nSome string\\nAbsolutelly another text\\n'\n"
     ]
    }
   ],
   "source": [
    "with open('data/write.txt', 'rb+') as file:\n",
    "    print(file.read())\n",
    "    file.writelines([b'Absolutelly another text\\n'])\n",
    "    file.seek(0)\n",
    "    print(file.read())"
   ]
  },
  {
   "cell_type": "code",
   "execution_count": 33,
   "metadata": {},
   "outputs": [
    {
     "name": "stdout",
     "output_type": "stream",
     "text": [
      "Another string\n",
      "Hello world\n",
      "Some string\n",
      "Absolutelly another text\n",
      "ÐÐ¸ÑÐ¸Ð»Ð¸ÑÐ°\n",
      "\n"
     ]
    }
   ],
   "source": [
    "with open('data/write.txt', encoding='latin1') as file:\n",
    "    print(file.read())"
   ]
  },
  {
   "cell_type": "code",
   "execution_count": 31,
   "metadata": {},
   "outputs": [],
   "source": [
    "import os\n",
    "\n",
    "file_size = os.stat('data/write.txt').st_size\n",
    "file_middle = file_size//2\n",
    "\n",
    "with open('data/write.txt', 'r+') as file:\n",
    "    file.seek(file_middle)\n",
    "    file.writelines(['\\n\\n\\n\\n'])"
   ]
  }
 ],
 "metadata": {
  "kernelspec": {
   "display_name": "Python 3",
   "language": "python",
   "name": "python3"
  },
  "language_info": {
   "codemirror_mode": {
    "name": "ipython",
    "version": 3
   },
   "file_extension": ".py",
   "mimetype": "text/x-python",
   "name": "python",
   "nbconvert_exporter": "python",
   "pygments_lexer": "ipython3",
   "version": "3.7.2"
  }
 },
 "nbformat": 4,
 "nbformat_minor": 2
}
