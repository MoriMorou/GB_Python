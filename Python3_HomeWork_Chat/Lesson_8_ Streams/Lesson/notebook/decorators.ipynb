{
 "cells": [
  {
   "cell_type": "code",
   "execution_count": 1,
   "metadata": {},
   "outputs": [
    {
     "name": "stdout",
     "output_type": "stream",
     "text": [
      "Some text\n"
     ]
    }
   ],
   "source": [
    "variable = 'Some text'\n",
    "\n",
    "def sample():\n",
    "    print(variable)\n",
    "    \n",
    "sample()"
   ]
  },
  {
   "cell_type": "code",
   "execution_count": 2,
   "metadata": {},
   "outputs": [],
   "source": [
    "def sample(text, num):\n",
    "    return text * num"
   ]
  },
  {
   "cell_type": "code",
   "execution_count": 3,
   "metadata": {},
   "outputs": [],
   "source": [
    "def logged(func):\n",
    "    def wrapper(text, num):\n",
    "        result = func(text, num)\n",
    "        print(f'log - {func.__name__}({text, num})={result}')\n",
    "        return result\n",
    "    return wrapper"
   ]
  },
  {
   "cell_type": "code",
   "execution_count": 11,
   "metadata": {},
   "outputs": [
    {
     "name": "stdout",
     "output_type": "stream",
     "text": [
      "log - sample(('test', 3))=testtesttest\n",
      "log - wrapper(('test', 3))=testtesttest\n"
     ]
    },
    {
     "data": {
      "text/plain": [
       "'testtesttest'"
      ]
     },
     "execution_count": 11,
     "metadata": {},
     "output_type": "execute_result"
    }
   ],
   "source": [
    "sample_clone = logged(sample)\n",
    "sample_clone('test', 3)"
   ]
  },
  {
   "cell_type": "code",
   "execution_count": 7,
   "metadata": {},
   "outputs": [
    {
     "name": "stdout",
     "output_type": "stream",
     "text": [
      "log - sample(('test', 3))=testtesttest\n"
     ]
    },
    {
     "data": {
      "text/plain": [
       "'testtesttest'"
      ]
     },
     "execution_count": 7,
     "metadata": {},
     "output_type": "execute_result"
    }
   ],
   "source": [
    "@logged\n",
    "def sample(text, num):\n",
    "    return text * num\n",
    "\n",
    "sample('test', 3)"
   ]
  },
  {
   "cell_type": "code",
   "execution_count": 12,
   "metadata": {},
   "outputs": [],
   "source": [
    "def delimited(func):\n",
    "    def wrapper(*args, **kwargs):\n",
    "        print('\\n', '*'*50, '\\n')\n",
    "        return func(*args, **kwargs)\n",
    "    return wrapper"
   ]
  },
  {
   "cell_type": "code",
   "execution_count": 14,
   "metadata": {},
   "outputs": [
    {
     "name": "stdout",
     "output_type": "stream",
     "text": [
      "\n",
      " ************************************************** \n",
      "\n",
      "log - wrapper(('test', 3))=testtesttest\n",
      "\n",
      " ************************************************** \n",
      "\n",
      "log - wrapper(('test', 3))=testtesttest\n"
     ]
    },
    {
     "data": {
      "text/plain": [
       "'testtesttest'"
      ]
     },
     "execution_count": 14,
     "metadata": {},
     "output_type": "execute_result"
    }
   ],
   "source": [
    "@logged\n",
    "@delimited\n",
    "def sample(text, num):\n",
    "    return text * num\n",
    "\n",
    "sample('test', 3)"
   ]
  },
  {
   "cell_type": "code",
   "execution_count": 15,
   "metadata": {},
   "outputs": [
    {
     "name": "stdout",
     "output_type": "stream",
     "text": [
      "\n",
      " ************************************************** \n",
      "\n",
      "log - wrapper(('test', 3))=testtesttest\n"
     ]
    },
    {
     "data": {
      "text/plain": [
       "'testtesttest'"
      ]
     },
     "execution_count": 15,
     "metadata": {},
     "output_type": "execute_result"
    }
   ],
   "source": [
    "def sample(text, num):\n",
    "    return text * num\n",
    "\n",
    "\n",
    "sample_clone = logged(\n",
    "    delimited(\n",
    "        sample\n",
    "    )\n",
    ")\n",
    "\n",
    "sample_clone('test', 3)"
   ]
  },
  {
   "cell_type": "code",
   "execution_count": 17,
   "metadata": {},
   "outputs": [],
   "source": [
    "def logged(log_format):\n",
    "    def decorator(func):\n",
    "        def wrapper(text, num):\n",
    "            result = func(text, num)\n",
    "            name = func.__name__\n",
    "            args = ','.join((text, str(num)))\n",
    "            print(log_format % {'name': name, 'args': args, 'result': result})\n",
    "            return result\n",
    "        return wrapper\n",
    "    return decorator"
   ]
  },
  {
   "cell_type": "code",
   "execution_count": 20,
   "metadata": {},
   "outputs": [
    {
     "name": "stdout",
     "output_type": "stream",
     "text": [
      "sample(test,3) = testtesttest\n"
     ]
    },
    {
     "data": {
      "text/plain": [
       "'testtesttest'"
      ]
     },
     "execution_count": 20,
     "metadata": {},
     "output_type": "execute_result"
    }
   ],
   "source": [
    "@logged('%(name)s(%(args)s) = %(result)s')\n",
    "def sample(text, num):\n",
    "    return text * num\n",
    "\n",
    "sample('test', 3)"
   ]
  },
  {
   "cell_type": "code",
   "execution_count": 32,
   "metadata": {},
   "outputs": [],
   "source": [
    "from functools import wraps\n",
    "\n",
    "\n",
    "def logged(log_format):\n",
    "    def decorator(func):\n",
    "        @wraps(func)\n",
    "        def wrapper(text, num):\n",
    "            result = func(text, num)\n",
    "            name = func.__name__\n",
    "            args = ','.join((text, str(num)))\n",
    "            print(log_format % {'name': name, 'args': args, 'result': result})\n",
    "            return result\n",
    "        return wrapper\n",
    "    return decorator"
   ]
  },
  {
   "cell_type": "code",
   "execution_count": 35,
   "metadata": {},
   "outputs": [
    {
     "data": {
      "text/plain": [
       "'\\n    Sample function\\n    '"
      ]
     },
     "execution_count": 35,
     "metadata": {},
     "output_type": "execute_result"
    }
   ],
   "source": [
    "@logged('%(name)s(%(args)s) = %(result)s')\n",
    "def sample(text, num):\n",
    "    '''\n",
    "    Sample function\n",
    "    '''\n",
    "    return text * num\n",
    "\n",
    "sample.__doc__"
   ]
  }
 ],
 "metadata": {
  "kernelspec": {
   "display_name": "Python 3",
   "language": "python",
   "name": "python3"
  },
  "language_info": {
   "codemirror_mode": {
    "name": "ipython",
    "version": 3
   },
   "file_extension": ".py",
   "mimetype": "text/x-python",
   "name": "python",
   "nbconvert_exporter": "python",
   "pygments_lexer": "ipython3",
   "version": "3.7.2"
  }
 },
 "nbformat": 4,
 "nbformat_minor": 2
}
