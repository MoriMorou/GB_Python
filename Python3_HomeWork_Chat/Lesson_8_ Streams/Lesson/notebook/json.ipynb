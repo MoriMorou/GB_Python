{
 "cells": [
  {
   "cell_type": "code",
   "execution_count": null,
   "metadata": {},
   "outputs": [],
   "source": [
    "'''\n",
    "[\n",
    "    {\"header\":\"data1\", \"header2\":\"data2\", \"header3\":\"data3\", \"header4\":\"data4\"},\n",
    "    {\"header\":\"data1\", \"header2\":\"data2\", \"header3\":\"data3\", \"header4\":\"data4\"},\n",
    "    {\"header\":\"data1\", \"header2\":\"data2\", \"header3\":\"data3\", \"header4\":\"data4\"},\n",
    "    {\"header\":\"data1\", \"header2\":\"data2\", \"header3\":\"data3\", \"header4\":\"data4\"},\n",
    "    {\"header\":\"data1\", \"header2\":\"data2\", \"header3\":\"data3\", \"header4\":\"data4\"},\n",
    "    {\"header\":\"data1\", \"header2\":\"data2\", \"header3\":\"data3\", \"header4\":\"data4\"},\n",
    "    {\"header\":\"data1\", \"header2\":\"data2\", \"header3\":\"data3\", \"header4\":\"data4\"},\n",
    "    {\"header\":\"data1\", \"header2\":\"data2\", \"header3\":\"data3\", \"header4\":\"data4\"},\n",
    "    {\"header\":\"data1\", \"header2\":\"data2\", \"header3\":\"data3\", \"header4\":\"data4\"},\n",
    "]\n",
    "'''"
   ]
  },
  {
   "cell_type": "code",
   "execution_count": 10,
   "metadata": {},
   "outputs": [
    {
     "name": "stdout",
     "output_type": "stream",
     "text": [
      "[{'header': 'data1',\n",
      "  'header2': 'data2',\n",
      "  'header3': 'data3',\n",
      "  'header4': 'data4'},\n",
      " {'header': 'data1',\n",
      "  'header2': 'data2',\n",
      "  'header3': 'data3',\n",
      "  'header4': 'data4'},\n",
      " {'header': 'data1',\n",
      "  'header2': 'data2',\n",
      "  'header3': 'data3',\n",
      "  'header4': 'data4'},\n",
      " {'header': 'data1',\n",
      "  'header2': 'data2',\n",
      "  'header3': 'data3',\n",
      "  'header4': 'data4'},\n",
      " {'header': 'data1',\n",
      "  'header2': 'data2',\n",
      "  'header3': 'data3',\n",
      "  'header4': 'data4'},\n",
      " {'header': 'data1',\n",
      "  'header2': 'data2',\n",
      "  'header3': 'data3',\n",
      "  'header4': 'data4'},\n",
      " {'header': 'data1',\n",
      "  'header2': 'data2',\n",
      "  'header3': 'data3',\n",
      "  'header4': 'data4'},\n",
      " {'header': 'data1',\n",
      "  'header2': 'data2',\n",
      "  'header3': 'data3',\n",
      "  'header4': 'data4'},\n",
      " {'header': 'data1',\n",
      "  'header2': 'data2',\n",
      "  'header3': 'data3',\n",
      "  'header4': 'data4'}]\n"
     ]
    }
   ],
   "source": [
    "import json\n",
    "from pprint import pprint\n",
    "\n",
    "\n",
    "with open('data/read.json') as file:\n",
    "    pprint(json.load(file))"
   ]
  },
  {
   "cell_type": "code",
   "execution_count": 3,
   "metadata": {},
   "outputs": [
    {
     "data": {
      "text/plain": [
       "[{'header': 'data1',\n",
       "  'header2': 'data2',\n",
       "  'header3': 'data3',\n",
       "  'header4': 'data4'},\n",
       " {'header': 'data1',\n",
       "  'header2': 'data2',\n",
       "  'header3': 'data3',\n",
       "  'header4': 'data4'},\n",
       " {'header': 'data1',\n",
       "  'header2': 'data2',\n",
       "  'header3': 'data3',\n",
       "  'header4': 'data4'},\n",
       " {'header': 'data1',\n",
       "  'header2': 'data2',\n",
       "  'header3': 'data3',\n",
       "  'header4': 'data4'},\n",
       " {'header': 'data1',\n",
       "  'header2': 'data2',\n",
       "  'header3': 'data3',\n",
       "  'header4': 'data4'},\n",
       " {'header': 'data1',\n",
       "  'header2': 'data2',\n",
       "  'header3': 'data3',\n",
       "  'header4': 'data4'},\n",
       " {'header': 'data1',\n",
       "  'header2': 'data2',\n",
       "  'header3': 'data3',\n",
       "  'header4': 'data4'},\n",
       " {'header': 'data1',\n",
       "  'header2': 'data2',\n",
       "  'header3': 'data3',\n",
       "  'header4': 'data4'},\n",
       " {'header': 'data1',\n",
       "  'header2': 'data2',\n",
       "  'header3': 'data3',\n",
       "  'header4': 'data4'}]"
      ]
     },
     "execution_count": 3,
     "metadata": {},
     "output_type": "execute_result"
    }
   ],
   "source": [
    "import json\n",
    "\n",
    "\n",
    "DATA = '''\n",
    "[\n",
    "    {\"header\":\"data1\", \"header2\":\"data2\", \"header3\":\"data3\", \"header4\":\"data4\"},\n",
    "    {\"header\":\"data1\", \"header2\":\"data2\", \"header3\":\"data3\", \"header4\":\"data4\"},\n",
    "    {\"header\":\"data1\", \"header2\":\"data2\", \"header3\":\"data3\", \"header4\":\"data4\"},\n",
    "    {\"header\":\"data1\", \"header2\":\"data2\", \"header3\":\"data3\", \"header4\":\"data4\"},\n",
    "    {\"header\":\"data1\", \"header2\":\"data2\", \"header3\":\"data3\", \"header4\":\"data4\"},\n",
    "    {\"header\":\"data1\", \"header2\":\"data2\", \"header3\":\"data3\", \"header4\":\"data4\"},\n",
    "    {\"header\":\"data1\", \"header2\":\"data2\", \"header3\":\"data3\", \"header4\":\"data4\"},\n",
    "    {\"header\":\"data1\", \"header2\":\"data2\", \"header3\":\"data3\", \"header4\":\"data4\"},\n",
    "    {\"header\":\"data1\", \"header2\":\"data2\", \"header3\":\"data3\", \"header4\":\"data4\"}\n",
    "]\n",
    "'''\n",
    "\n",
    "\n",
    "json.loads(DATA)"
   ]
  },
  {
   "cell_type": "code",
   "execution_count": 5,
   "metadata": {},
   "outputs": [],
   "source": [
    "import json\n",
    "\n",
    "\n",
    "DATA = [\n",
    "    {'header': 'data1','header2': 'data2','header3': 'data3','header4': 'data4'},\n",
    "    {'header': 'data1','header2': 'data2','header3': 'data3','header4': 'data4'},\n",
    "    {'header': 'data1','header2': 'data2','header3': 'data3','header4': 'data4'},\n",
    "    {'header': 'data1','header2': 'data2','header3': 'data3','header4': 'data4'},\n",
    "    {'header': 'data1','header2': 'data2','header3': 'data3','header4': 'data4'},\n",
    "    {'header': 'data1','header2': 'data2','header3': 'data3','header4': 'data4'},\n",
    "    {'header': 'data1','header2': 'data2','header3': 'data3','header4': 'data4'},\n",
    "    {'header': 'data1','header2': 'data2','header3': 'data3','header4': 'data4'},\n",
    "]\n",
    "\n",
    "\n",
    "with open('data/write.json', 'w') as file:\n",
    "    json.dump(DATA, file, indent=4)"
   ]
  },
  {
   "cell_type": "code",
   "execution_count": 7,
   "metadata": {},
   "outputs": [
    {
     "name": "stdout",
     "output_type": "stream",
     "text": [
      "('[{\"header\": \"data1\", \"header2\": \"data2\", \"header3\": \"data3\", \"header4\": '\n",
      " '\"data4\"}, {\"header\": \"data1\", \"header2\": \"data2\", \"header3\": \"data3\", '\n",
      " '\"header4\": \"data4\"}, {\"header\": \"data1\", \"header2\": \"data2\", \"header3\": '\n",
      " '\"data3\", \"header4\": \"data4\"}, {\"header\": \"data1\", \"header2\": \"data2\", '\n",
      " '\"header3\": \"data3\", \"header4\": \"data4\"}, {\"header\": \"data1\", \"header2\": '\n",
      " '\"data2\", \"header3\": \"data3\", \"header4\": \"data4\"}, {\"header\": \"data1\", '\n",
      " '\"header2\": \"data2\", \"header3\": \"data3\", \"header4\": \"data4\"}, {\"header\": '\n",
      " '\"data1\", \"header2\": \"data2\", \"header3\": \"data3\", \"header4\": \"data4\"}, '\n",
      " '{\"header\": \"data1\", \"header2\": \"data2\", \"header3\": \"data3\", \"header4\": '\n",
      " '\"data4\"}]')\n"
     ]
    }
   ],
   "source": [
    "import json\n",
    "from pprint import pprint\n",
    "\n",
    "\n",
    "DATA = [\n",
    "    {'header': 'data1','header2': 'data2','header3': 'data3','header4': 'data4'},\n",
    "    {'header': 'data1','header2': 'data2','header3': 'data3','header4': 'data4'},\n",
    "    {'header': 'data1','header2': 'data2','header3': 'data3','header4': 'data4'},\n",
    "    {'header': 'data1','header2': 'data2','header3': 'data3','header4': 'data4'},\n",
    "    {'header': 'data1','header2': 'data2','header3': 'data3','header4': 'data4'},\n",
    "    {'header': 'data1','header2': 'data2','header3': 'data3','header4': 'data4'},\n",
    "    {'header': 'data1','header2': 'data2','header3': 'data3','header4': 'data4'},\n",
    "    {'header': 'data1','header2': 'data2','header3': 'data3','header4': 'data4'},\n",
    "]\n",
    "\n",
    "\n",
    "pprint(\n",
    "    json.dumps(DATA)\n",
    ")"
   ]
  }
 ],
 "metadata": {
  "kernelspec": {
   "display_name": "Python 3",
   "language": "python",
   "name": "python3"
  },
  "language_info": {
   "codemirror_mode": {
    "name": "ipython",
    "version": 3
   },
   "file_extension": ".py",
   "mimetype": "text/x-python",
   "name": "python",
   "nbconvert_exporter": "python",
   "pygments_lexer": "ipython3",
   "version": "3.7.2"
  }
 },
 "nbformat": 4,
 "nbformat_minor": 2
}
