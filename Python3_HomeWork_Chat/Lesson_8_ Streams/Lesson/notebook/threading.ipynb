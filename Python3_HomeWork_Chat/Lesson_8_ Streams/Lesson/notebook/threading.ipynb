{
 "cells": [
  {
   "cell_type": "code",
   "execution_count": 20,
   "metadata": {},
   "outputs": [],
   "source": [
    "import time\n",
    "import threading\n",
    "import multiprocessing"
   ]
  },
  {
   "cell_type": "code",
   "execution_count": 7,
   "metadata": {},
   "outputs": [],
   "source": [
    "def sample(text, num):\n",
    "    for idx in range(1, num+1):\n",
    "        time.sleep(1)\n",
    "        print(f'{text} was called {idx} times')"
   ]
  },
  {
   "cell_type": "code",
   "execution_count": 11,
   "metadata": {},
   "outputs": [],
   "source": [
    "THREADS_NUMBER = 5"
   ]
  },
  {
   "cell_type": "code",
   "execution_count": 8,
   "metadata": {},
   "outputs": [
    {
     "name": "stdout",
     "output_type": "stream",
     "text": [
      "cell-1 was called 1 times\n",
      "cell-1 was called 2 times\n",
      "cell-1 was called 3 times\n",
      "cell-1 was called 4 times\n",
      "cell-1 was called 5 times\n"
     ]
    }
   ],
   "source": [
    "sample('cell-1', 5)"
   ]
  },
  {
   "cell_type": "code",
   "execution_count": 10,
   "metadata": {},
   "outputs": [
    {
     "name": "stdout",
     "output_type": "stream",
     "text": [
      "thread was called 1 timescell-2 was called 1 times\n",
      "\n",
      "thread was called 2 times\n",
      "cell-2 was called 2 times\n",
      "thread was called 3 timescell-2 was called 3 times\n",
      "\n",
      "cell-2 was called 4 timesthread was called 4 times\n",
      "\n",
      "thread was called 5 times\n",
      "cell-2 was called 5 times\n",
      "thread was called 6 times\n",
      "thread was called 7 times\n",
      "thread was called 8 times\n",
      "thread was called 9 times\n",
      "thread was called 10 times\n"
     ]
    }
   ],
   "source": [
    "thread = threading.Thread(target=sample, args=('thread', 10))\n",
    "thread.start()\n",
    "\n",
    "sample('cell-2', 5)"
   ]
  },
  {
   "cell_type": "code",
   "execution_count": 14,
   "metadata": {},
   "outputs": [
    {
     "name": "stdout",
     "output_type": "stream",
     "text": [
      "thread-1 was called 1 times\n",
      "thread-2 was called 1 times\n",
      "thread-3 was called 1 timesthread-5 was called 1 times\n",
      "thread-4 was called 1 times\n",
      "\n",
      "thread-1 was called 2 times\n",
      "thread-2 was called 2 times\n",
      "thread-5 was called 2 times\n",
      "thread-3 was called 2 timesthread-4 was called 2 times\n",
      "\n",
      "thread-2 was called 3 timesthread-1 was called 3 times\n",
      "\n",
      "thread-5 was called 3 times\n",
      "thread-3 was called 3 timesthread-4 was called 3 times\n",
      "\n",
      "thread-2 was called 4 times\n",
      "thread-5 was called 4 times\n",
      "thread-3 was called 4 times\n",
      "thread-4 was called 4 times\n",
      "thread-5 was called 5 times\n",
      "thread-3 was called 5 times\n",
      "thread-4 was called 5 times\n",
      "thread-5 was called 6 times\n",
      "thread-4 was called 6 times\n",
      "thread-5 was called 7 times\n"
     ]
    }
   ],
   "source": [
    "for itm in range(THREADS_NUMBER):\n",
    "    num = 3 + itm\n",
    "    text = f'thread-{itm + 1}'\n",
    "    thread = threading.Thread(target=sample, args=(text, num))\n",
    "    thread.start()"
   ]
  },
  {
   "cell_type": "code",
   "execution_count": 18,
   "metadata": {},
   "outputs": [],
   "source": [
    "lock = threading.Lock()\n",
    "\n",
    "def sample(text, num):\n",
    "    for idx in range(1, num+1):\n",
    "        time.sleep(1)\n",
    "        lock.acquire()\n",
    "        print(f'{text} was called {idx} times')\n",
    "        lock.release()"
   ]
  },
  {
   "cell_type": "code",
   "execution_count": 19,
   "metadata": {},
   "outputs": [
    {
     "name": "stdout",
     "output_type": "stream",
     "text": [
      "thread was called 1 times\n",
      "cell-2 was called 1 times\n",
      "thread was called 2 times\n",
      "cell-2 was called 2 times\n",
      "thread was called 3 times\n",
      "cell-2 was called 3 times\n",
      "thread was called 4 times\n",
      "cell-2 was called 4 times\n",
      "cell-2 was called 5 times\n",
      "thread was called 5 times\n",
      "thread was called 6 times\n",
      "thread was called 7 times\n",
      "thread was called 8 times\n",
      "thread was called 9 times\n",
      "thread was called 10 times\n"
     ]
    }
   ],
   "source": [
    "thread = threading.Thread(target=sample, args=('thread', 10))\n",
    "thread.start()\n",
    "\n",
    "sample('cell-2', 5)"
   ]
  },
  {
   "cell_type": "code",
   "execution_count": 21,
   "metadata": {},
   "outputs": [
    {
     "name": "stdout",
     "output_type": "stream",
     "text": [
      "proccess was called 1 times\n",
      "proccess was called 2 times\n",
      "proccess was called 3 times\n",
      "proccess was called 4 times\n",
      "proccess was called 5 times\n",
      "proccess was called 6 times\n",
      "proccess was called 7 times\n",
      "proccess was called 8 times\n",
      "proccess was called 9 times\n",
      "proccess was called 10 times\n"
     ]
    }
   ],
   "source": [
    "process = multiprocessing.Process(target=sample, args= ('proccess', 10))\n",
    "process.start()"
   ]
  },
  {
   "cell_type": "code",
   "execution_count": 26,
   "metadata": {},
   "outputs": [],
   "source": [
    "def sample(text):\n",
    "    idx = 1000\n",
    "    while idx:\n",
    "        idx =- 1\n",
    "    print(f'{text} done')"
   ]
  },
  {
   "cell_type": "code",
   "execution_count": 25,
   "metadata": {},
   "outputs": [
    {
     "name": "stderr",
     "output_type": "stream",
     "text": [
      "Process Process-2:\n",
      "KeyboardInterrupt\n",
      "Traceback (most recent call last):\n",
      "  File \"/usr/local/Cellar/python/3.7.2_1/Frameworks/Python.framework/Versions/3.7/lib/python3.7/multiprocessing/process.py\", line 297, in _bootstrap\n",
      "    self.run()\n",
      "  File \"/usr/local/Cellar/python/3.7.2_1/Frameworks/Python.framework/Versions/3.7/lib/python3.7/multiprocessing/process.py\", line 99, in run\n",
      "    self._target(*self._args, **self._kwargs)\n",
      "  File \"<ipython-input-24-06967e5448ff>\", line 4, in sample\n",
      "    idx =- 1\n"
     ]
    }
   ],
   "source": [
    "process = multiprocessing.Process(target=sample, args=('proccess',))\n",
    "process.start()\n",
    "\n",
    "thread = threading.Thread(target=sample, args=('thread',))\n",
    "thread.start()"
   ]
  }
 ],
 "metadata": {
  "kernelspec": {
   "display_name": "Python 3",
   "language": "python",
   "name": "python3"
  },
  "language_info": {
   "codemirror_mode": {
    "name": "ipython",
    "version": 3
   },
   "file_extension": ".py",
   "mimetype": "text/x-python",
   "name": "python",
   "nbconvert_exporter": "python",
   "pygments_lexer": "ipython3",
   "version": "3.7.2"
  }
 },
 "nbformat": 4,
 "nbformat_minor": 2
}
