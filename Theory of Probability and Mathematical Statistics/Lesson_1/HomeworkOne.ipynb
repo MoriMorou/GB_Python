{
  "nbformat": 4,
  "nbformat_minor": 0,
  "metadata": {
    "colab": {
      "name": "HomeworkOne.ipynb",
      "version": "0.3.2",
      "provenance": [],
      "include_colab_link": true
    },
    "kernelspec": {
      "name": "python3",
      "display_name": "Python 3"
    }
  },
  "cells": [
    {
      "cell_type": "markdown",
      "metadata": {
        "id": "view-in-github",
        "colab_type": "text"
      },
      "source": [
        "<a href=\"https://colab.research.google.com/github/MoriMorou/GB_Python/blob/master/HomeworkOne.ipynb\" target=\"_parent\"><img src=\"https://colab.research.google.com/assets/colab-badge.svg\" alt=\"Open In Colab\"/></a>"
      ]
    },
    {
      "cell_type": "code",
      "metadata": {
        "id": "eZm4N12dcma4",
        "colab_type": "code",
        "colab": {}
      },
      "source": [
        "import numpy as np\n",
        "from math import factorial"
      ],
      "execution_count": 0,
      "outputs": []
    },
    {
      "cell_type": "markdown",
      "metadata": {
        "id": "ecXJKQtAcC9g",
        "colab_type": "text"
      },
      "source": [
        "## Задача 1\n",
        "\n",
        "Рассмотрим пример 2 из методички. Чтобы посчитать вероятность такого события, нужно использовать сочетания или размещения? Ответ необходимо обосновать."
      ]
    },
    {
      "cell_type": "markdown",
      "metadata": {
        "id": "OuExGLuccSdQ",
        "colab_type": "text"
      },
      "source": [
        "Пример 2\n",
        "\n",
        "Разберем более сложный пример. Смоделируем ситуацию, когда бросают две игральные кости.\n",
        "При этом будем находить частоту случайного события  B , при котором на первой кости выпало 1, а на второй — 2.\n",
        "Проведем для этого 360 испытаний. Сразу зададим число  n :"
      ]
    },
    {
      "cell_type": "code",
      "metadata": {
        "id": "1maohWxDcWbQ",
        "colab_type": "code",
        "colab": {}
      },
      "source": [
        "n = 360\n",
        "c = np.random.randint(1, 7, size=n)\n",
        "d = np.random.randint(1, 7, size=n)"
      ],
      "execution_count": 0,
      "outputs": []
    },
    {
      "cell_type": "code",
      "metadata": {
        "id": "jDhaSJPecva6",
        "colab_type": "code",
        "colab": {
          "base_uri": "https://localhost:8080/",
          "height": 34
        },
        "outputId": "14f224d4-adde-4c2c-eed8-0c284f080c45"
      },
      "source": [
        "# Посчитаем число случав, когда в одном испытании на первой игральной кости выпало число 1, а на второй — 2.\n",
        "a = c[(c==1) & (d==2)]\n",
        "m = len(a)\n",
        "m"
      ],
      "execution_count": 6,
      "outputs": [
        {
          "output_type": "execute_result",
          "data": {
            "text/plain": [
              "14"
            ]
          },
          "metadata": {
            "tags": []
          },
          "execution_count": 6
        }
      ]
    },
    {
      "cell_type": "code",
      "metadata": {
        "id": "AhGx3gjUc13i",
        "colab_type": "code",
        "colab": {
          "base_uri": "https://localhost:8080/",
          "height": 34
        },
        "outputId": "06ce0df2-a2b3-4280-8355-e8b01703b35b"
      },
      "source": [
        "# Вычислим относительную частоту события  B :\n",
        "W = m / n\n",
        "W"
      ],
      "execution_count": 7,
      "outputs": [
        {
          "output_type": "execute_result",
          "data": {
            "text/plain": [
              "0.03888888888888889"
            ]
          },
          "metadata": {
            "tags": []
          },
          "execution_count": 7
        }
      ]
    },
    {
      "cell_type": "markdown",
      "metadata": {
        "id": "iUU5riMNdQOS",
        "colab_type": "text"
      },
      "source": [
        "### Ответ: \n",
        "Сочетание - это набор, состоящий из k элементов, выбранных из множества, содержащего n различных элементов.\n",
        "\n",
        "Размещения из m элементов, выбранных из множества n, — это комбинации, которые отличаются либо самими элементами, либо порядком их расположения.\n",
        "\n",
        "Так как нам для подсчета не важно на какой кости выпало 1, а на какой 2, то есть их рамещение, то такая вероятности вычисляется сочитанием"
      ]
    },
    {
      "cell_type": "code",
      "metadata": {
        "id": "MIAJbhENjQfr",
        "colab_type": "code",
        "colab": {}
      },
      "source": [
        "def combinations(n, k):\n",
        "    return int(factorial(n) / (factorial(k) * factorial(n - k)))"
      ],
      "execution_count": 0,
      "outputs": []
    },
    {
      "cell_type": "code",
      "metadata": {
        "id": "eSqCx9c5jvUj",
        "colab_type": "code",
        "colab": {
          "base_uri": "https://localhost:8080/",
          "height": 34
        },
        "outputId": "1a53d3bc-4499-465d-b9f3-bc988d99d773"
      },
      "source": [
        "n = 6\n",
        "k = 1\n",
        "print(f'вероятность, что на первой кости выпало 1, а на второй — 2 = {(combinations(n, k)/360)*2}')"
      ],
      "execution_count": 18,
      "outputs": [
        {
          "output_type": "stream",
          "text": [
            "вероятность, что на первой кости выпало 1, а на второй — 2 = 0.03333333333333333\n"
          ],
          "name": "stdout"
        }
      ]
    },
    {
      "cell_type": "markdown",
      "metadata": {
        "id": "YqyawAiWowT9",
        "colab_type": "text"
      },
      "source": [
        "## Задача 2\n",
        "\n",
        "Группа студентов изучает 10 различных дисциплин. Сколькими способами можно составить расписание на понедельник, если в этот день должно быть 4 разных занятия?"
      ]
    },
    {
      "cell_type": "markdown",
      "metadata": {
        "id": "_4-PgWjTpvTY",
        "colab_type": "text"
      },
      "source": [
        "### Ответ:\n",
        "\n",
        "Используем размещения без повторов, так как занятия РАЗНЫЕ, но порядок важен\n",
        "Akn=n!(n−k)!"
      ]
    },
    {
      "cell_type": "code",
      "metadata": {
        "id": "Cy7hft6XoyZd",
        "colab_type": "code",
        "colab": {}
      },
      "source": [
        "def arrangements(n, k):\n",
        "    return int(factorial(n) / factorial(n - k))"
      ],
      "execution_count": 0,
      "outputs": []
    },
    {
      "cell_type": "code",
      "metadata": {
        "id": "Dd-k1oG1qGto",
        "colab_type": "code",
        "colab": {
          "base_uri": "https://localhost:8080/",
          "height": 34
        },
        "outputId": "e34612d4-3082-4ca5-d486-b5143cc999fb"
      },
      "source": [
        "n = 10\n",
        "k = 4\n",
        "print(f' Всего {arrangements(n, k)} способами можно составить расписание {k} занятия из {n} дисциплин')"
      ],
      "execution_count": 21,
      "outputs": [
        {
          "output_type": "stream",
          "text": [
            " Всего 5040 способами можно составить расписание 4 занятия из 10 дисциплин\n"
          ],
          "name": "stdout"
        }
      ]
    },
    {
      "cell_type": "markdown",
      "metadata": {
        "id": "lyUV47MMqqDT",
        "colab_type": "text"
      },
      "source": [
        "## Задача 3\n",
        "\n",
        "Семь человек рассаживаются наудачу на скамейке. Какова вероятность того, что два определённых человека будут сидеть рядом?"
      ]
    },
    {
      "cell_type": "markdown",
      "metadata": {
        "id": "AeESGgqLqwja",
        "colab_type": "text"
      },
      "source": [
        "### Ответ:\n",
        "Формула для вероятности P=m/n\n",
        "Так как всего 7 человек, то всех можно рассодить 7! способами, но пару человек может сесть двумя способами. Все остальные 5 любыми, то есть 5! способами. "
      ]
    },
    {
      "cell_type": "code",
      "metadata": {
        "id": "dfilHzsHsRNs",
        "colab_type": "code",
        "colab": {}
      },
      "source": [
        "m = 6*2*factorial(5)\n",
        "n = factorial(7)"
      ],
      "execution_count": 0,
      "outputs": []
    },
    {
      "cell_type": "code",
      "metadata": {
        "id": "PjxJwsgZsSel",
        "colab_type": "code",
        "colab": {
          "base_uri": "https://localhost:8080/",
          "height": 34
        },
        "outputId": "ea922f40-92c3-45ec-b72b-f5baed825cfd"
      },
      "source": [
        "P = m/n\n",
        "print(f' Всего верноятность {P}, что два определённых человека будут сидеть рядом')"
      ],
      "execution_count": 38,
      "outputs": [
        {
          "output_type": "stream",
          "text": [
            " Всего верноятность 0.2857142857142857, что два определённых человека будут сидеть рядом\n"
          ],
          "name": "stdout"
        }
      ]
    },
    {
      "cell_type": "markdown",
      "metadata": {
        "id": "z1dC3LBwymyL",
        "colab_type": "text"
      },
      "source": [
        "## Задача 4\n",
        "\n",
        "Из 60 вопросов, входящих в экзаменационные билеты, студент знает 50. Какова вероятность того, что среди трёх наугад выбранных вопросов студент знает: а) все? б) два?"
      ]
    },
    {
      "cell_type": "markdown",
      "metadata": {
        "id": "kDHuHk2wysM9",
        "colab_type": "text"
      },
      "source": [
        "### Ответ:\n",
        "Общее количество сочетаний по 3 из 60:\n"
      ]
    },
    {
      "cell_type": "code",
      "metadata": {
        "id": "uguJgDA5zmnX",
        "colab_type": "code",
        "colab": {}
      },
      "source": [
        "A = factorial(60)/(factorial(57) * factorial(3))"
      ],
      "execution_count": 0,
      "outputs": []
    },
    {
      "cell_type": "markdown",
      "metadata": {
        "id": "z49O7iUj0BlO",
        "colab_type": "text"
      },
      "source": [
        "Из них количество сочетаний с теми вопросами, которые он знает:"
      ]
    },
    {
      "cell_type": "code",
      "metadata": {
        "id": "4P8S0_Ul0Imm",
        "colab_type": "code",
        "colab": {}
      },
      "source": [
        "An = factorial(50)/(factorial(47) * factorial(3))"
      ],
      "execution_count": 0,
      "outputs": []
    },
    {
      "cell_type": "code",
      "metadata": {
        "id": "7YqL87O_0TPu",
        "colab_type": "code",
        "colab": {
          "base_uri": "https://localhost:8080/",
          "height": 34
        },
        "outputId": "ce9dd385-df65-40f4-d9cc-cff80bc608aa"
      },
      "source": [
        "print(f'Вероятность того, что студент вытянет три известных ему вопроса: {An/A}')"
      ],
      "execution_count": 42,
      "outputs": [
        {
          "output_type": "stream",
          "text": [
            "Вероятность того, что студент вытянет три известных ему вопроса: 0.5727644652250146\n"
          ],
          "name": "stdout"
        }
      ]
    },
    {
      "cell_type": "markdown",
      "metadata": {
        "id": "ChNFyRdU0elH",
        "colab_type": "text"
      },
      "source": [
        "Различные сочетания известных билетов и неизвестного можно получить, перемножив сочетания для известных и неизвестного билетов:"
      ]
    },
    {
      "cell_type": "code",
      "metadata": {
        "id": "JVtPBncC0lr_",
        "colab_type": "code",
        "colab": {
          "base_uri": "https://localhost:8080/",
          "height": 34
        },
        "outputId": "95ea3d09-26f9-4134-b3f6-32724d934e07"
      },
      "source": [
        "A = factorial(60)/(factorial(57) * factorial(3))\n",
        "An = factorial(50)/(factorial(50-2) * factorial(2))\n",
        "Au = factorial(10)/(factorial(10-1) * factorial(1))\n",
        "print(f'Вероятность того, что студент вытянет только два известных ему вопроса: {(An*Au)/A}')"
      ],
      "execution_count": 44,
      "outputs": [
        {
          "output_type": "stream",
          "text": [
            "Вероятность того, что студент вытянет только два известных ему вопроса: 0.35797779076563413\n"
          ],
          "name": "stdout"
        }
      ]
    },
    {
      "cell_type": "markdown",
      "metadata": {
        "id": "3GF8YK2E1C1j",
        "colab_type": "text"
      },
      "source": [
        "### Задача 5\n",
        "\n",
        "Бросается игральная кость. Пусть событие A - появление чётного числа, событие B - появление числа больше трёх. Являются ли эти события независимыми?"
      ]
    },
    {
      "cell_type": "markdown",
      "metadata": {
        "id": "Kj57XA_A1JbT",
        "colab_type": "text"
      },
      "source": [
        "### Ответ:\n",
        "События являются зависимыми так как при наступление события А (появление четного числа) изменяется вероятность события B  (что число больше трех)"
      ]
    },
    {
      "cell_type": "markdown",
      "metadata": {
        "id": "cHnAAhWM23ps",
        "colab_type": "text"
      },
      "source": [
        "## Задача 6\n",
        "\n",
        "Допустим, имеется некоторая очень редкая болезнь (поражает 0.1% населения). Вы приходите к врачу, вам делают тест на эту болезнь, и тест оказывается положительным. Врач говорит вам, что этот тест верно выявляет 99 % больных этой болезнью и всего лишь в 1% случаев даёт ложный положительный ответ.\n",
        "\n",
        "Вопрос: вакова вероятность, что вы действительно больны ей?\n",
        "\n",
        "Подсказка: используйте формулу Байеса с раскрытием знаменателя с помощью формулы полной вероятности."
      ]
    },
    {
      "cell_type": "markdown",
      "metadata": {
        "id": "pXuB-uDs2_Ac",
        "colab_type": "text"
      },
      "source": [
        "### Ответ:\n",
        "Допускаяем A - вероятность положительного теста на эту болезнь, B - вероятность заболеть этой болезнью\n",
        "$$P(B\\:|\\:A) = \\frac{P(A\\:|\\:B) \\cdot P(B)}{P(A)}$$"
      ]
    },
    {
      "cell_type": "markdown",
      "metadata": {
        "id": "SXl4di0j5bkq",
        "colab_type": "text"
      },
      "source": [
        "Вероятность $${P(A\\:|\\:B)= 0.99}$$\n",
        "\n",
        "$${P(B)= 0.001}$$\n",
        "Полная вероятность для A: $${P(A)}$$"
      ]
    },
    {
      "cell_type": "code",
      "metadata": {
        "id": "3QlAoffE5gkj",
        "colab_type": "code",
        "colab": {
          "base_uri": "https://localhost:8080/",
          "height": 34
        },
        "outputId": "be05d754-f978-4522-e30a-0344c0a40d5b"
      },
      "source": [
        "0.99*0.001+0.01*(1-0.001)"
      ],
      "execution_count": 49,
      "outputs": [
        {
          "output_type": "execute_result",
          "data": {
            "text/plain": [
              "0.01098"
            ]
          },
          "metadata": {
            "tags": []
          },
          "execution_count": 49
        }
      ]
    },
    {
      "cell_type": "code",
      "metadata": {
        "id": "M9Oq7rre5w5q",
        "colab_type": "code",
        "colab": {
          "base_uri": "https://localhost:8080/",
          "height": 34
        },
        "outputId": "d7cf6130-5aa0-4baf-d8ab-5eb47025fd23"
      },
      "source": [
        "print(f'Вероятность быть больным при положительном результате теста: {0.99*0.001/(0.01098)}')"
      ],
      "execution_count": 50,
      "outputs": [
        {
          "output_type": "stream",
          "text": [
            "Вероятность быть больным при положительном результате теста: 0.09016393442622951\n"
          ],
          "name": "stdout"
        }
      ]
    }
  ]
}