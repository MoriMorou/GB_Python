{
 "cells": [
  {
   "cell_type": "markdown",
   "metadata": {},
   "source": [
    "# Урок 1"
   ]
  },
  {
   "cell_type": "markdown",
   "metadata": {
    "colab_type": "text",
    "id": "G2wMw7vtsFIu"
   },
   "source": [
    "## Случайные события. Условная вероятность. Формула Байеса.  Независимые испытания"
   ]
  },
  {
   "cell_type": "markdown",
   "metadata": {},
   "source": [
    "### Случайные события"
   ]
  },
  {
   "cell_type": "markdown",
   "metadata": {
    "colab_type": "text",
    "id": "Rc3tqLLnsFIw"
   },
   "source": [
    "__Случайное событие__ — любой исход опыта, который может произойти или не произойти."
   ]
  },
  {
   "cell_type": "markdown",
   "metadata": {
    "colab_type": "text",
    "id": "FC9PxSnisFIx"
   },
   "source": [
    "Например,\n",
    "1. При броске двух игральных костей на одной выпало число $1$, а на другой — $2$.\n",
    "2. Клиент банка не вернул кредит.\n",
    "3. Температура воздуха в Москве за последние десять дней не превышала $29$ градусов по Цельсию."
   ]
  },
  {
   "cell_type": "markdown",
   "metadata": {},
   "source": [
    "Пусть $A$ и $B$ — случайные события.\n",
    "* Сумма событий $A + B$ соответствует наступлению хотя бы одного из событий $A$ и $B$. Такое событие иногда называют объединением.\n",
    "* Произведение $A \\cdot B$ соответствует наступлению событий $A$ и $B$ одновременно. Такое событие ещё называется совместным.\n",
    "* Отрицание $\\overline{A}$ соответствует тому, что событие $A$ не наступило. Такое событие также называется дополнительным."
   ]
  },
  {
   "cell_type": "markdown",
   "metadata": {
    "colab_type": "text",
    "id": "tkBVPAfesFIz"
   },
   "source": [
    "Событие называется __достоверным__, если в результате испытания оно обязательно произойдет. Наоборот, __невозможным событием__ мы называем событие, которое никогда не произойдет."
   ]
  },
  {
   "cell_type": "markdown",
   "metadata": {
    "colab_type": "text",
    "id": "WLQz_jrfsFI0"
   },
   "source": [
    "Примеры достоверного события:\n",
    "1. На игральной кости выпало число, не превышающее 6.\n",
    "2. Подбросили монету, и выпал либо орел, либо решка.\n",
    "3. Монету подбросили стократно, и решка выпала не более 100 раз."
   ]
  },
  {
   "cell_type": "markdown",
   "metadata": {
    "colab_type": "text",
    "id": "iHTQaZmusFI2"
   },
   "source": [
    "Примеры невозможного события:\n",
    "1. Две игральные кости бросили один раз, и сумма выпавших чисел составила 15.\n",
    "2. Монету подбросили стократно, и решка выпала 55 раз, а орел — 56."
   ]
  },
  {
   "cell_type": "markdown",
   "metadata": {},
   "source": [
    "__Совместными__ называются события, которые могут произойти вместе. Соответственно, __несовместными__ называются события, которые вместе случиться не могут."
   ]
  },
  {
   "cell_type": "markdown",
   "metadata": {},
   "source": [
    "Например,\n",
    "* При броске монеты не могут одновременно выпасть орел и решка. Это несовместные события.\n",
    "* При броске дротика в круглую мишень можно попасть одновременно в правую половину мишени и в нижнюю половину. Это совместные события.\n"
   ]
  },
  {
   "cell_type": "markdown",
   "metadata": {},
   "source": [
    "### Статистическая вероятность"
   ]
  },
  {
   "cell_type": "markdown",
   "metadata": {
    "colab_type": "text",
    "id": "vLMk77MjsFI3"
   },
   "source": [
    "Для случайного события есть понятие **относительной частоты**. Это отношение количества испытаний, в которых данное событие состоялось, к общему числу испытаний:"
   ]
  },
  {
   "cell_type": "markdown",
   "metadata": {
    "colab_type": "text",
    "id": "wc6A4Ec4sFI4"
   },
   "source": [
    "$$W(A) = \\frac{m}{n},$$\n",
    "где\n",
    "* $W(A)$ - это относительная частота события $A$,\n",
    "* $m$ - число испытаний, в результате которых произошло событие $A$,\n",
    "* $n$ - общее число испытаний."
   ]
  },
  {
   "cell_type": "markdown",
   "metadata": {
    "colab_type": "text",
    "id": "kB3g50kmwvAh"
   },
   "source": [
    "Рассмотрим примеры случайных событий."
   ]
  },
  {
   "cell_type": "markdown",
   "metadata": {
    "colab_type": "text",
    "id": "9c-YkL7fwvAk"
   },
   "source": [
    "**Пример 1**"
   ]
  },
  {
   "cell_type": "markdown",
   "metadata": {
    "colab_type": "text",
    "id": "1_9_LCYmsFJC"
   },
   "source": [
    "Смоделируем $60$-кратное подбрасывание игральной кости с помощью функции [random.randint](https://docs.scipy.org/doc/numpy-1.15.1/reference/generated/numpy.random.randint.html) пакета **numpy**.\n",
    "В этом случае $n = 60$.\n",
    "\n",
    "Событием $A$ будем считать выпадание числа $3$. Найдем его относительную частоту."
   ]
  },
  {
   "cell_type": "code",
   "execution_count": 1,
   "metadata": {
    "colab": {
     "base_uri": "https://localhost:8080/",
     "height": 71
    },
    "colab_type": "code",
    "executionInfo": {
     "elapsed": 902,
     "status": "ok",
     "timestamp": 1541495282672,
     "user": {
      "displayName": "Виолетта Гайдак",
      "photoUrl": "",
      "userId": "16983940382840418244"
     },
     "user_tz": -420
    },
    "id": "hCLkAkshsFJE",
    "outputId": "0ac21d0d-bc40-4549-c0e8-1cf1fc5d3099"
   },
   "outputs": [],
   "source": [
    "import numpy as np"
   ]
  },
  {
   "cell_type": "code",
   "execution_count": null,
   "metadata": {},
   "outputs": [],
   "source": [
    "n = 60\n",
    "\n",
    "b = np.random.randint(1, 7, size=n)\n",
    "\n",
    "print(b)"
   ]
  },
  {
   "cell_type": "markdown",
   "metadata": {
    "colab_type": "text",
    "id": "cKqcXnQksFJN"
   },
   "source": [
    "Вычислим мощность подмножества, где в результате испытания выпадало число $3$, то есть наблюдалось событие $A$:"
   ]
  },
  {
   "cell_type": "code",
   "execution_count": null,
   "metadata": {
    "colab": {},
    "colab_type": "code",
    "id": "R1XSM8SPsFJO"
   },
   "outputs": [],
   "source": [
    "m = sum(b == 3)\n",
    "\n",
    "m"
   ]
  },
  {
   "cell_type": "markdown",
   "metadata": {
    "colab_type": "text",
    "id": "YRkBCTgosFJV"
   },
   "source": [
    "Теперь можем вычислить относительную частоту события $A$:"
   ]
  },
  {
   "cell_type": "code",
   "execution_count": null,
   "metadata": {
    "colab": {
     "base_uri": "https://localhost:8080/",
     "height": 35
    },
    "colab_type": "code",
    "executionInfo": {
     "elapsed": 806,
     "status": "ok",
     "timestamp": 1541495284486,
     "user": {
      "displayName": "Виолетта Гайдак",
      "photoUrl": "",
      "userId": "16983940382840418244"
     },
     "user_tz": -420
    },
    "id": "Lxfgfn5CsFJV",
    "outputId": "ab2e7433-4e27-4fb6-b2ae-477ca212defd"
   },
   "outputs": [],
   "source": [
    "W = m / n\n",
    "\n",
    "print(W)"
   ]
  },
  {
   "cell_type": "code",
   "execution_count": null,
   "metadata": {},
   "outputs": [],
   "source": [
    "1 / 6"
   ]
  },
  {
   "cell_type": "markdown",
   "metadata": {
    "colab_type": "text",
    "id": "xcJc6quGsFJZ"
   },
   "source": [
    "**Пример 2**"
   ]
  },
  {
   "cell_type": "markdown",
   "metadata": {
    "colab_type": "text",
    "id": "grrDgheusFJb"
   },
   "source": [
    "Разберем более сложный пример. Смоделируем ситуацию, когда бросают две игральные кости одновременно.\n",
    "\n",
    "При этом будем находить частоту случайного события $B$, при котором на первой кости выпало $1$, а на второй - $2$. \n",
    "\n",
    "Проведем для этого $360$ испытаний."
   ]
  },
  {
   "cell_type": "code",
   "execution_count": null,
   "metadata": {
    "colab": {},
    "colab_type": "code",
    "id": "ZgdkvS6JsFJd"
   },
   "outputs": [],
   "source": [
    "n = 360"
   ]
  },
  {
   "cell_type": "code",
   "execution_count": null,
   "metadata": {
    "colab": {},
    "colab_type": "code",
    "id": "G-SUa6U4sFJf"
   },
   "outputs": [],
   "source": [
    "c = np.random.randint(1, 7, size=n)\n",
    "d = np.random.randint(1, 7, size=n)"
   ]
  },
  {
   "cell_type": "code",
   "execution_count": null,
   "metadata": {},
   "outputs": [],
   "source": [
    "c"
   ]
  },
  {
   "cell_type": "code",
   "execution_count": null,
   "metadata": {},
   "outputs": [],
   "source": [
    "d"
   ]
  },
  {
   "cell_type": "markdown",
   "metadata": {
    "colab_type": "text",
    "id": "ATgZiDOgsFJm"
   },
   "source": [
    "Числа, стоящие на одной позиции в массивах $c$ и $d$, будем считать результатами, полученными в одном испытании.\n",
    "\n",
    "В первом испытании на первой игральной кости выпало число $c[0]$, а на второй - $d[0]$."
   ]
  },
  {
   "cell_type": "code",
   "execution_count": null,
   "metadata": {
    "colab": {
     "base_uri": "https://localhost:8080/",
     "height": 35
    },
    "colab_type": "code",
    "executionInfo": {
     "elapsed": 849,
     "status": "ok",
     "timestamp": 1541495289089,
     "user": {
      "displayName": "Виолетта Гайдак",
      "photoUrl": "",
      "userId": "16983940382840418244"
     },
     "user_tz": -420
    },
    "id": "SkEtXZxHsFJn",
    "outputId": "ea948386-2a77-438b-f79b-d3f4b115bc08"
   },
   "outputs": [],
   "source": [
    "print(c[10], d[10])"
   ]
  },
  {
   "cell_type": "markdown",
   "metadata": {
    "colab_type": "text",
    "id": "7iVpKBCasFJs"
   },
   "source": [
    "Посчитаем число случав, когда в одном испытании на первой игральной кости выпало число $1$, а на второй - $2$."
   ]
  },
  {
   "cell_type": "code",
   "execution_count": null,
   "metadata": {
    "colab": {
     "base_uri": "https://localhost:8080/",
     "height": 35
    },
    "colab_type": "code",
    "executionInfo": {
     "elapsed": 774,
     "status": "ok",
     "timestamp": 1541495290921,
     "user": {
      "displayName": "Виолетта Гайдак",
      "photoUrl": "",
      "userId": "16983940382840418244"
     },
     "user_tz": -420
    },
    "id": "-7KFNSGLsFJu",
    "outputId": "c05d9171-f5d2-4f9c-8dde-c3ea65d76f53"
   },
   "outputs": [],
   "source": [
    "m = sum((c == 1) & (d == 2))\n",
    "\n",
    "print(m)"
   ]
  },
  {
   "cell_type": "markdown",
   "metadata": {
    "colab_type": "text",
    "id": "EIbB0Cy6sFJw"
   },
   "source": [
    "Вычислим относительную частоту события $B$:"
   ]
  },
  {
   "cell_type": "code",
   "execution_count": null,
   "metadata": {
    "colab": {
     "base_uri": "https://localhost:8080/",
     "height": 35
    },
    "colab_type": "code",
    "executionInfo": {
     "elapsed": 854,
     "status": "ok",
     "timestamp": 1541495291841,
     "user": {
      "displayName": "Виолетта Гайдак",
      "photoUrl": "",
      "userId": "16983940382840418244"
     },
     "user_tz": -420
    },
    "id": "yt9Mv6kxsFJx",
    "outputId": "45d75122-df47-4f99-c099-f0b1da1f8ef8"
   },
   "outputs": [],
   "source": [
    "W = m / n\n",
    "\n",
    "print(W)"
   ]
  },
  {
   "cell_type": "code",
   "execution_count": null,
   "metadata": {},
   "outputs": [],
   "source": [
    "1 / 36"
   ]
  },
  {
   "cell_type": "markdown",
   "metadata": {
    "colab_type": "text",
    "id": "Jg88f4D6sFJ0"
   },
   "source": [
    "При достаточно большом количестве испытаний $n$ величина относительной частоты $W$ будет стремиться к конкретному числу. Оно называется __статистической вероятностью__ и обозначается как $P(A)$:"
   ]
  },
  {
   "cell_type": "markdown",
   "metadata": {
    "colab_type": "text",
    "id": "oRFqzLHvsFJ0"
   },
   "source": [
    "$$P(A) = \\frac{m}{n}$$"
   ]
  },
  {
   "cell_type": "markdown",
   "metadata": {
    "colab_type": "text",
    "id": "bxmxhjWnsFJ1"
   },
   "source": [
    "Статистическую вероятность можно вычислить на основе данных, полученных по результатам многочисленных испытаний."
   ]
  },
  {
   "cell_type": "markdown",
   "metadata": {},
   "source": [
    "Например, проведем эксперимент из примера 1 (бросок одного кубика) с различными $n$."
   ]
  },
  {
   "cell_type": "code",
   "execution_count": null,
   "metadata": {},
   "outputs": [],
   "source": [
    "def dice_probability(n):\n",
    "    b = np.random.randint(1, 7, size=n)\n",
    "    \n",
    "    m = sum(b == 3)\n",
    "    \n",
    "    return m / n"
   ]
  },
  {
   "cell_type": "code",
   "execution_count": null,
   "metadata": {},
   "outputs": [],
   "source": [
    "dice_probability(10), dice_probability(50), dice_probability(200), dice_probability(10 ** 6)"
   ]
  },
  {
   "cell_type": "code",
   "execution_count": null,
   "metadata": {},
   "outputs": [],
   "source": [
    "1 / 6"
   ]
  },
  {
   "cell_type": "markdown",
   "metadata": {},
   "source": [
    "Свойства вероятности:\n",
    "\n",
    "* $0 \\leq P(A) \\leq 1$ для любого события $A$.\n",
    "* $P(\\varnothing) = 0$, $P(\\Omega) = 1$, где $\\varnothing$ — невозможное событие, $\\Omega$ — достоверное событие.\n",
    "* $P(A + B) = P(A) + P(B) - P(AB)$, где $A + B$ — объединение событий (происходит хотя бы одно), а $AB$ — совместное событие (происходят оба).\n",
    "* В частности, для несовместных событий $P(A + B) = P(A) + P(B)$.\n",
    "* $P(A) + P(\\overline{A}) = 1$ для любого события $A$."
   ]
  },
  {
   "cell_type": "markdown",
   "metadata": {
    "colab_type": "text",
    "id": "mH-XUecBsFKB"
   },
   "source": [
    "Для более сложных случаев число исходов $k$, благоприятствующих данному событию, или число всех элементарных исходов испытания ($n$) можно вычислить с помощью формул комбинаторики."
   ]
  },
  {
   "cell_type": "markdown",
   "metadata": {
    "colab_type": "text",
    "id": "dWGTf84XsFKA"
   },
   "source": [
    "### Комбинаторика"
   ]
  },
  {
   "cell_type": "markdown",
   "metadata": {
    "colab_type": "text",
    "id": "bqnvhGwnsFKE"
   },
   "source": [
    "__Размещение из $n$ элементов по $k$ элементов__ — это упорядоченный набор из $k$ элементов, выбранных из множества, содержащего $n$ элементов."
   ]
  },
  {
   "cell_type": "markdown",
   "metadata": {
    "colab_type": "text",
    "id": "ITiiVKPWsFKF"
   },
   "source": [
    "Число размещений из $n$ по $k$:\n",
    "\n",
    "$$A_n^k = \\frac{n!}{(n - k)!}$$"
   ]
  },
  {
   "cell_type": "code",
   "execution_count": 3,
   "metadata": {
    "colab": {},
    "colab_type": "code",
    "id": "aRmxVO1vwvEY"
   },
   "outputs": [],
   "source": [
    "def arrangements(n, k):\n",
    "    return np.math.factorial(n) // np.math.factorial(n - k)"
   ]
  },
  {
   "cell_type": "markdown",
   "metadata": {
    "colab_type": "text",
    "id": "1K0UMRiisFKG"
   },
   "source": [
    "__Перестановкой из $n$ элементов__ называется размещение из $n$ элементов по $n$ элементов."
   ]
  },
  {
   "cell_type": "markdown",
   "metadata": {
    "colab_type": "text",
    "id": "8HZXUfJcsFKI"
   },
   "source": [
    "Число перестановок из $n$ элементов:\n",
    "\n",
    "$$P_n = n!$$"
   ]
  },
  {
   "cell_type": "code",
   "execution_count": 4,
   "metadata": {
    "colab": {},
    "colab_type": "code",
    "id": "ktyYJlBLPfP5"
   },
   "outputs": [],
   "source": [
    "def permutations(n):\n",
    "    return np.math.factorial(n)"
   ]
  },
  {
   "cell_type": "markdown",
   "metadata": {
    "colab_type": "text",
    "id": "zjQq1-wrsFKC"
   },
   "source": [
    "__Сочетание из $n$ элементов по $k$ элементов__ — это неупорядоченный набор из $k$ элементов, выбранных из множества, содержащего $n$ элементов."
   ]
  },
  {
   "cell_type": "markdown",
   "metadata": {
    "colab_type": "text",
    "id": "PW2lximGsFKC"
   },
   "source": [
    "Число сочетаний из $n$ по $k$:\n",
    "\n",
    "\\$$C_n^k = \\frac{n!}{k!(n - k)!}$$"
   ]
  },
  {
   "cell_type": "code",
   "execution_count": 5,
   "metadata": {
    "colab": {},
    "colab_type": "code",
    "id": "XqmC5AY8I_Ie"
   },
   "outputs": [],
   "source": [
    "def combinations(n, k):\n",
    "    return np.math.factorial(n) // (np.math.factorial(k) * np.math.factorial(n - k))"
   ]
  },
  {
   "cell_type": "markdown",
   "metadata": {
    "colab_type": "text",
    "id": "b1hei-UysFKI"
   },
   "source": [
    "Рассмотрим на примерах, как применяются формулы комбинаторики."
   ]
  },
  {
   "cell_type": "markdown",
   "metadata": {
    "colab_type": "text",
    "id": "aRbqU8vBsFKJ"
   },
   "source": [
    "**Пример 3**"
   ]
  },
  {
   "cell_type": "markdown",
   "metadata": {
    "colab_type": "text",
    "id": "6HofFrbQsFKK"
   },
   "source": [
    "Сколькими способами можно выбрать из колоды, состоящей из 36 карт, 4 карты?\n",
    "\n",
    "Для ответа на этот вопрос воспользуемся формулой для вычисления количества сочетаний:"
   ]
  },
  {
   "cell_type": "markdown",
   "metadata": {
    "colab_type": "text",
    "id": "g5e4SLQ5sFKL"
   },
   "source": [
    "$$C_{36}^4 = \\frac{36!}{4!(36 - 4)!} = \\frac{36!}{4! \\cdot 32!} = \\frac{33 \\cdot 34 \\cdot 35 \\cdot 36}{4!} = \\frac{33 \\cdot 34 \\cdot 35 \\cdot 36}{2 \\cdot 3 \\cdot 4} = 58905$$"
   ]
  },
  {
   "cell_type": "code",
   "execution_count": 6,
   "metadata": {
    "colab": {
     "base_uri": "https://localhost:8080/",
     "height": 35
    },
    "colab_type": "code",
    "executionInfo": {
     "elapsed": 915,
     "status": "ok",
     "timestamp": 1541495297480,
     "user": {
      "displayName": "Виолетта Гайдак",
      "photoUrl": "",
      "userId": "16983940382840418244"
     },
     "user_tz": -420
    },
    "id": "vCudU0J8PnJv",
    "outputId": "c736c037-f7d1-44e3-d100-855b144d85fb"
   },
   "outputs": [
    {
     "data": {
      "text/plain": [
       "58905"
      ]
     },
     "execution_count": 6,
     "metadata": {},
     "output_type": "execute_result"
    }
   ],
   "source": [
    "combinations(36, 4)"
   ]
  },
  {
   "cell_type": "markdown",
   "metadata": {
    "colab_type": "text",
    "id": "WXfKNhFGsFKQ"
   },
   "source": [
    "**Пример 4**"
   ]
  },
  {
   "cell_type": "markdown",
   "metadata": {
    "colab_type": "text",
    "collapsed": true,
    "id": "9tXX-yJYsFKQ"
   },
   "source": [
    "В магазине 20 покупателей. Сколькими способами они могут образовать очередь из 5 человек?\n",
    "\n",
    "В этом примере важен порядок, в котором покупатели будут стоять в очереди, поэтому применим формулу для нахождения числа размещений:"
   ]
  },
  {
   "cell_type": "code",
   "execution_count": 7,
   "metadata": {
    "colab": {
     "base_uri": "https://localhost:8080/",
     "height": 35
    },
    "colab_type": "code",
    "executionInfo": {
     "elapsed": 999,
     "status": "ok",
     "timestamp": 1541495298528,
     "user": {
      "displayName": "Виолетта Гайдак",
      "photoUrl": "",
      "userId": "16983940382840418244"
     },
     "user_tz": -420
    },
    "id": "gKsM5aeoP32n",
    "outputId": "a36f1388-4b49-4f4a-dfa4-be18b9fd5325"
   },
   "outputs": [
    {
     "data": {
      "text/plain": [
       "1860480"
      ]
     },
     "execution_count": 7,
     "metadata": {},
     "output_type": "execute_result"
    }
   ],
   "source": [
    "arrangements(20, 5)"
   ]
  },
  {
   "cell_type": "markdown",
   "metadata": {
    "colab_type": "text",
    "id": "aFeIzgkQsFKR"
   },
   "source": [
    "**Пример 5**"
   ]
  },
  {
   "cell_type": "markdown",
   "metadata": {
    "colab_type": "text",
    "collapsed": true,
    "id": "JOsG3qkAsFKS"
   },
   "source": [
    "Сколькими способами 5 покупателей могут образовать очередь?\n",
    "\n",
    "Этот пример похож на предыдущий, но есть важное отличие: не нужно выбирать 5 покупателей из 20. Здесь их всего 5, и все должны присутствовать в очереди. Применим формулу для нахождения числа перестановок:"
   ]
  },
  {
   "cell_type": "code",
   "execution_count": 8,
   "metadata": {
    "colab": {
     "base_uri": "https://localhost:8080/",
     "height": 35
    },
    "colab_type": "code",
    "executionInfo": {
     "elapsed": 926,
     "status": "ok",
     "timestamp": 1541495299570,
     "user": {
      "displayName": "Виолетта Гайдак",
      "photoUrl": "",
      "userId": "16983940382840418244"
     },
     "user_tz": -420
    },
    "id": "SGljzgzEW-Pz",
    "outputId": "fa4d0994-b727-4a5f-dd3b-c9e0b7d52423"
   },
   "outputs": [
    {
     "data": {
      "text/plain": [
       "120"
      ]
     },
     "execution_count": 8,
     "metadata": {},
     "output_type": "execute_result"
    }
   ],
   "source": [
    "permutations(5)"
   ]
  },
  {
   "cell_type": "markdown",
   "metadata": {
    "colab_type": "text",
    "id": "wzEHNWr1sFKU"
   },
   "source": [
    "**Пример 9**"
   ]
  },
  {
   "cell_type": "markdown",
   "metadata": {
    "colab_type": "text",
    "collapsed": true,
    "id": "-IkfWsIHsFKU"
   },
   "source": [
    "Из колоды, состоящей из 36 карт, случайным образом выбраны 5. Сколькими способами можно выбрать эти карты так, чтобы среди них оказалось от 2 до 3 тузов?"
   ]
  },
  {
   "cell_type": "markdown",
   "metadata": {
    "colab_type": "text",
    "collapsed": true,
    "id": "oVx_8V1VsFKV"
   },
   "source": [
    "Чтобы решить эту задачу, нужно сначала рассмотреть ситуацию, когда выбирается два туза из четырех.\n",
    "\n",
    "Число таких сочетаний будет равно:"
   ]
  },
  {
   "cell_type": "code",
   "execution_count": 10,
   "metadata": {
    "colab": {
     "base_uri": "https://localhost:8080/",
     "height": 35
    },
    "colab_type": "code",
    "executionInfo": {
     "elapsed": 1017,
     "status": "ok",
     "timestamp": 1541495300653,
     "user": {
      "displayName": "Виолетта Гайдак",
      "photoUrl": "",
      "userId": "16983940382840418244"
     },
     "user_tz": -420
    },
    "id": "I0G2chFhXdp2",
    "outputId": "bd5f8f66-fd62-474b-beac-65f57c89a4fb"
   },
   "outputs": [
    {
     "data": {
      "text/plain": [
       "6"
      ]
     },
     "execution_count": 10,
     "metadata": {},
     "output_type": "execute_result"
    }
   ],
   "source": [
    "combinations(4, 2)"
   ]
  },
  {
   "cell_type": "markdown",
   "metadata": {
    "colab_type": "text",
    "id": "vR8Bgd_GsFKW"
   },
   "source": [
    "Остальные три карты выбираются из 32 карт  — тузы не рассматриваются, так как они уже выбраны:"
   ]
  },
  {
   "cell_type": "code",
   "execution_count": 11,
   "metadata": {
    "colab": {
     "base_uri": "https://localhost:8080/",
     "height": 35
    },
    "colab_type": "code",
    "executionInfo": {
     "elapsed": 1000,
     "status": "ok",
     "timestamp": 1541495301712,
     "user": {
      "displayName": "Виолетта Гайдак",
      "photoUrl": "",
      "userId": "16983940382840418244"
     },
     "user_tz": -420
    },
    "id": "cYJcvTuVXn6G",
    "outputId": "ace36d07-8b09-40e2-fb5a-913bb8efa137"
   },
   "outputs": [
    {
     "data": {
      "text/plain": [
       "4960"
      ]
     },
     "execution_count": 11,
     "metadata": {},
     "output_type": "execute_result"
    }
   ],
   "source": [
    "combinations(32, 3)"
   ]
  },
  {
   "cell_type": "markdown",
   "metadata": {
    "colab_type": "text",
    "id": "K-J4j6BnsFKY"
   },
   "source": [
    "И в этом случае будет такое число сочетаний, когда из колоды, в которой 36 карт, выбраны пять, две из которых — тузы:"
   ]
  },
  {
   "cell_type": "code",
   "execution_count": 12,
   "metadata": {
    "colab": {
     "base_uri": "https://localhost:8080/",
     "height": 35
    },
    "colab_type": "code",
    "executionInfo": {
     "elapsed": 770,
     "status": "ok",
     "timestamp": 1541495302596,
     "user": {
      "displayName": "Виолетта Гайдак",
      "photoUrl": "",
      "userId": "16983940382840418244"
     },
     "user_tz": -420
    },
    "id": "LQnsS5ADYGuP",
    "outputId": "d827eabe-df6a-4b4b-b147-e9743c56b1d7"
   },
   "outputs": [
    {
     "name": "stdout",
     "output_type": "stream",
     "text": [
      "29760\n"
     ]
    }
   ],
   "source": [
    "a = combinations(4, 2) * combinations(32, 3)\n",
    "\n",
    "print(a)"
   ]
  },
  {
   "cell_type": "markdown",
   "metadata": {
    "colab_type": "text",
    "id": "wf_Y6h-1sFKZ"
   },
   "source": [
    "Теперь рассмотрим ситуацию выбора трех тузов из четырех. Число сочетаний будет равно:"
   ]
  },
  {
   "cell_type": "code",
   "execution_count": 13,
   "metadata": {
    "colab": {
     "base_uri": "https://localhost:8080/",
     "height": 35
    },
    "colab_type": "code",
    "executionInfo": {
     "elapsed": 844,
     "status": "ok",
     "timestamp": 1541495303532,
     "user": {
      "displayName": "Виолетта Гайдак",
      "photoUrl": "",
      "userId": "16983940382840418244"
     },
     "user_tz": -420
    },
    "id": "roqN2ghSYJJk",
    "outputId": "a8f98845-20a4-462e-8b00-7627b2ec408c"
   },
   "outputs": [
    {
     "data": {
      "text/plain": [
       "4"
      ]
     },
     "execution_count": 13,
     "metadata": {},
     "output_type": "execute_result"
    }
   ],
   "source": [
    "combinations(4, 3)"
   ]
  },
  {
   "cell_type": "markdown",
   "metadata": {
    "colab_type": "text",
    "id": "vc-czT5isFKb"
   },
   "source": [
    "Остальные две карты выбираются из 32 карт. Число сочетаний будет равно:"
   ]
  },
  {
   "cell_type": "code",
   "execution_count": 14,
   "metadata": {
    "colab": {
     "base_uri": "https://localhost:8080/",
     "height": 35
    },
    "colab_type": "code",
    "executionInfo": {
     "elapsed": 875,
     "status": "ok",
     "timestamp": 1541495304468,
     "user": {
      "displayName": "Виолетта Гайдак",
      "photoUrl": "",
      "userId": "16983940382840418244"
     },
     "user_tz": -420
    },
    "id": "vkienKGIYMr3",
    "outputId": "c7c5cee5-0777-41ce-d683-a1b73158f8a0"
   },
   "outputs": [
    {
     "data": {
      "text/plain": [
       "496"
      ]
     },
     "execution_count": 14,
     "metadata": {},
     "output_type": "execute_result"
    }
   ],
   "source": [
    "combinations(32, 2)"
   ]
  },
  {
   "cell_type": "markdown",
   "metadata": {
    "colab_type": "text",
    "id": "LPfDKt12sFKb"
   },
   "source": [
    "И тогда будет такое число сочетаний, когда из колоды в 36 карт выбраны пять, три из которых — тузы:"
   ]
  },
  {
   "cell_type": "code",
   "execution_count": 15,
   "metadata": {
    "colab": {
     "base_uri": "https://localhost:8080/",
     "height": 35
    },
    "colab_type": "code",
    "executionInfo": {
     "elapsed": 818,
     "status": "ok",
     "timestamp": 1541495305340,
     "user": {
      "displayName": "Виолетта Гайдак",
      "photoUrl": "",
      "userId": "16983940382840418244"
     },
     "user_tz": -420
    },
    "id": "CALKLpyyYPyU",
    "outputId": "2e65039e-664f-48f6-f6aa-ec7ad24d4328"
   },
   "outputs": [
    {
     "name": "stdout",
     "output_type": "stream",
     "text": [
      "1984\n"
     ]
    }
   ],
   "source": [
    "b = combinations(4, 3) * combinations(32, 2)\n",
    "\n",
    "print(b)"
   ]
  },
  {
   "cell_type": "markdown",
   "metadata": {
    "colab_type": "text",
    "id": "yi6iylD_sFKd"
   },
   "source": [
    "Осталось сложить полученные числа сочетаний:"
   ]
  },
  {
   "cell_type": "code",
   "execution_count": 16,
   "metadata": {
    "colab": {
     "base_uri": "https://localhost:8080/",
     "height": 35
    },
    "colab_type": "code",
    "executionInfo": {
     "elapsed": 1050,
     "status": "ok",
     "timestamp": 1541495306445,
     "user": {
      "displayName": "Виолетта Гайдак",
      "photoUrl": "",
      "userId": "16983940382840418244"
     },
     "user_tz": -420
    },
    "id": "VKo6iTmLYR-b",
    "outputId": "6e6f62d9-de4b-4d36-fe01-8696a9f50f69"
   },
   "outputs": [
    {
     "data": {
      "text/plain": [
       "31744"
      ]
     },
     "execution_count": 16,
     "metadata": {},
     "output_type": "execute_result"
    }
   ],
   "source": [
    "a + b"
   ]
  },
  {
   "cell_type": "markdown",
   "metadata": {},
   "source": [
    "Сформулируем __классическое определение вероятности__. Предположим, проводится опыт с $n$ возможными исходами, причем все эти исходы равновозможны и несовместны. Такие исходы называются __элементарными событиями__.\n",
    "\n",
    "Например, \n",
    "* Игральный кубик бросается однажды. Его выпадение каждой из $6$ сторон — все элементарные события.\n",
    "* Кубик бросается дважды. Элементарные события — все пары его значений."
   ]
  },
  {
   "cell_type": "markdown",
   "metadata": {
    "colab_type": "text",
    "id": "DLwMWLOhsFJ3"
   },
   "source": [
    "Вероятность события — это отношение числа элементарных исходов, которые приводят к данному событию, к числу всех возможных исходов опыта.\n",
    "\n",
    "Формула для этого определения такая же, как и для статистической вероятности:"
   ]
  },
  {
   "cell_type": "markdown",
   "metadata": {
    "colab_type": "text",
    "id": "5QBvlL81sFJ4"
   },
   "source": [
    "$$P(A) = \\frac{m}{n}$$"
   ]
  },
  {
   "cell_type": "markdown",
   "metadata": {
    "colab_type": "text",
    "id": "1p8dVxYGsFJ4"
   },
   "source": [
    "**Пример 7**"
   ]
  },
  {
   "cell_type": "markdown",
   "metadata": {
    "colab_type": "text",
    "id": "k1FeBSzQsFJ4"
   },
   "source": [
    "Вычислим вероятность того, что на игральной кости выпадет число 3. Известно, что у кости шесть граней с числами от $1$ до $6$ и каждая может выпасть с равной вероятностью. По формуле классической вероятности получаем результат:"
   ]
  },
  {
   "cell_type": "markdown",
   "metadata": {
    "colab_type": "text",
    "id": "1oaVbX2TsFJ5"
   },
   "source": [
    "$$P(A) = \\frac{m}{n} = \\frac{1}{6}$$"
   ]
  },
  {
   "cell_type": "markdown",
   "metadata": {
    "colab_type": "text",
    "id": "PjIamrGPsFJ6"
   },
   "source": [
    "**Пример 8**"
   ]
  },
  {
   "cell_type": "markdown",
   "metadata": {
    "colab_type": "text",
    "id": "F_w8adOVsFJ7"
   },
   "source": [
    "Бросаются одновременно три игральных кубика. Какова вероятность того, что все три значения будут одинаковыми?"
   ]
  },
  {
   "cell_type": "markdown",
   "metadata": {
    "colab_type": "text",
    "id": "BQNBlwPysFJ9"
   },
   "source": [
    "Всего есть $6 \\cdot 6 \\cdot 6$ исходов, поскольку каждый из кубиков может выпасть любой из $6$ сторон. Нас интересуют исходы, при которых все три значения совпали. Таких событий $6$. Итак,\n",
    "\n",
    "$$P(A) = \\dfrac{6}{6^3} = \\dfrac{1}{36}$$"
   ]
  },
  {
   "cell_type": "markdown",
   "metadata": {
    "colab_type": "text",
    "id": "4J6cC6nOsFKj"
   },
   "source": [
    "### Условная вероятность"
   ]
  },
  {
   "cell_type": "markdown",
   "metadata": {},
   "source": [
    "__Условная вероятность__ $P(B|A)$ — это вероятность наступления события $B$ при условии, что произошло событие $A$."
   ]
  },
  {
   "cell_type": "markdown",
   "metadata": {},
   "source": [
    "$$P(B | A) = \\dfrac{P(AB)}{P(A)}$$"
   ]
  },
  {
   "cell_type": "markdown",
   "metadata": {
    "colab_type": "text",
    "id": "zj39tXYqsFKj"
   },
   "source": [
    "События $A$ и $B$ называются независимыми, если $P(B|A) = P(B)$.\n",
    "\n",
    "Например, если монета подбрасывается дважды, то выпадение орла в первый раз и выпадение орла во второй — независимые события."
   ]
  },
  {
   "cell_type": "markdown",
   "metadata": {
    "colab_type": "text",
    "id": "gGrtdYgisFKk"
   },
   "source": [
    "Вероятность одновременного появления двух независимых событий вычисляется по формуле:"
   ]
  },
  {
   "cell_type": "markdown",
   "metadata": {
    "colab_type": "text",
    "id": "Tl_jpB4HsFKk"
   },
   "source": [
    "$$P(AB) = P(A) \\cdot P(B)$$"
   ]
  },
  {
   "cell_type": "markdown",
   "metadata": {
    "colab_type": "text",
    "id": "CuERs6rIsFKn"
   },
   "source": [
    "**Пример 9**"
   ]
  },
  {
   "cell_type": "markdown",
   "metadata": {
    "colab_type": "text",
    "id": "aUsMeENFsFKn"
   },
   "source": [
    "Найдем вероятность того, что при броске двух игральных костей на первой выпадет четное число, а на второй — кратное трем. Сначала рассмотрим вероятность выпадения четного числа на первой кости. Таких случаев может быть три: это события, при которых выпадают числа $2$, $4$ и $6$. Вероятность для каждого из них равна $1/6$.\n",
    "\n",
    "Так как эти три события являются несовместными, вероятность их суммы равна сумме их вероятностей:"
   ]
  },
  {
   "cell_type": "markdown",
   "metadata": {
    "colab_type": "text",
    "id": "hpEskO7FsFKn"
   },
   "source": [
    "$$P(четн.) = \\frac{1}{6} + \\frac{1}{6} + \\frac{1}{6} = \\frac{3}{6} = \\frac{1}{2}$$"
   ]
  },
  {
   "cell_type": "markdown",
   "metadata": {
    "colab_type": "text",
    "id": "5ts2EeuDsFKo"
   },
   "source": [
    "Для второй кости подходящих событий два: это выпадение чисел 3 и 6. Это тоже несовместные события, и мы можем сложить их вероятности:"
   ]
  },
  {
   "cell_type": "markdown",
   "metadata": {
    "colab_type": "text",
    "id": "q2lcEa-VsFKp"
   },
   "source": [
    "$$P(кратн. 3) = \\frac{1}{6} + \\frac{1}{6} = \\frac{2}{6} = \\frac{1}{3}$$"
   ]
  },
  {
   "cell_type": "markdown",
   "metadata": {
    "colab_type": "text",
    "id": "C-NrYnV9sFKp"
   },
   "source": [
    "С учетом того, что выпадение числа на одной кости не влияет на результат на другой — то есть эти события независимы, — применим умножение вероятностей и получим итоговый ответ:"
   ]
  },
  {
   "cell_type": "markdown",
   "metadata": {
    "colab_type": "text",
    "id": "yXQpCRTKsFKq"
   },
   "source": [
    "$$P = \\frac{1}{2} \\cdot \\frac{1}{3} = \\frac{1}{6}$$"
   ]
  },
  {
   "cell_type": "markdown",
   "metadata": {},
   "source": [
    "### Формула полной вероятности. Формула Байеса"
   ]
  },
  {
   "cell_type": "markdown",
   "metadata": {
    "colab_type": "text",
    "id": "uQBgCxqBsFKr"
   },
   "source": [
    "**Формула полной вероятности**"
   ]
  },
  {
   "cell_type": "markdown",
   "metadata": {
    "colab_type": "text",
    "id": "lf4EHhsMsFKr"
   },
   "source": [
    "Говорят, что события $H_1$, $H_2$, $\\dots$, $H_n$ образуют __полную группу событий__, если в ходе любого испытания одно из этих событий произойдет. Другими словами, $P(H_1 + H_2 + \\dots + H_n) = 1$. "
   ]
  },
  {
   "cell_type": "markdown",
   "metadata": {
    "colab_type": "text",
    "id": "4WshmADxsFKt"
   },
   "source": [
    "Формула полной вероятности для таких событий и произвольного события $A$:\n",
    "\n",
    "$$P(A) = P(H_1) \\cdot P(A | H_1) + P(H_2) \\cdot P(A | H_2) + \\dots + P(H_n) \\cdot P(A | H_n)$$"
   ]
  },
  {
   "cell_type": "markdown",
   "metadata": {
    "colab_type": "text",
    "id": "G1khs06KsFKu"
   },
   "source": [
    "Выражение $P(B\\;|\\;A)$ означает вероятность наступления события $B$ при условии, что событие $A$ произошло."
   ]
  },
  {
   "cell_type": "markdown",
   "metadata": {
    "colab_type": "text",
    "id": "sSTkdtuVsFKv"
   },
   "source": [
    "**Пример 10**"
   ]
  },
  {
   "cell_type": "markdown",
   "metadata": {
    "colab_type": "text",
    "id": "HDes28G0sFKv"
   },
   "source": [
    "Есть три одинаковые корзины. В первой лежат три красных и пять зеленых мячей, во второй — только красные, а в третьей — только зеленые мячи. Случайно выбирается одна корзина и из нее случайным образом извлекается мяч. \n",
    "\n",
    "Какова вероятность того, что этот мяч — зеленый?\n",
    "\n",
    "Решим эту задачу с помощью формулы полной вероятности. Событием $A$ будем считать то, что достанут зеленый мяч, а событием $B$ — что выберут определенную корзину. Причем вероятность выбора одной из трех корзин будет равна $1/3$.\n",
    "\n",
    "Вероятность достать зеленый мяч при условии, что выбрана первая корзина, равен $\\dfrac{5}{3 + 5} = \\dfrac{5}{8}$. При выборе второй корзины вероятность вынуть зеленый мяч равна $0$. В случае с третьей корзиной вероятность равна $1$, так как все мячи в ней — зеленые.\n",
    "\n",
    "Подставим данные значения в формулу полной вероятности и получим итоговый ответ:"
   ]
  },
  {
   "cell_type": "markdown",
   "metadata": {
    "colab_type": "text",
    "id": "EWPYRImssFKw"
   },
   "source": [
    "$$P(A) = \\frac{1}{3} \\cdot \\frac{5}{8} + \\frac{1}{3} \\cdot 0 + \\frac{1}{3} \\cdot 1 = \\frac{5}{24} + 0 + \\frac{1}{3} = \\frac{13}{24} \\approx 0.5417$$"
   ]
  },
  {
   "cell_type": "markdown",
   "metadata": {
    "colab_type": "text",
    "id": "7euBINZMsFKw"
   },
   "source": [
    "#### Формула Байеса"
   ]
  },
  {
   "cell_type": "markdown",
   "metadata": {
    "colab_type": "text",
    "collapsed": true,
    "id": "_5YeOFVOsFKx"
   },
   "source": [
    "Чтобы определить вероятность события $B$ при условии, что событие $A$ уже произошло, используют формулу Байеса:"
   ]
  },
  {
   "cell_type": "markdown",
   "metadata": {
    "colab_type": "text",
    "id": "3hN0vJKIsFKy"
   },
   "source": [
    "$$P(B\\:|\\:A) = \\frac{P(A\\:|\\:B) \\cdot P(B)}{P(A)}$$"
   ]
  },
  {
   "cell_type": "markdown",
   "metadata": {
    "colab_type": "text",
    "id": "5crVgwelsFKz"
   },
   "source": [
    "**Пример 11**"
   ]
  },
  {
   "cell_type": "markdown",
   "metadata": {
    "colab_type": "text",
    "id": "-Smvex-usFK0"
   },
   "source": [
    "Соревнования по биатлону. Один из трех спортсменов стреляет и попадает в мишень. Вероятность такого события для первого спортсмена равна $0.2$, для второго — $0.4$, для третьего — $0.7$.\n",
    "\n",
    "_Задача_: найти вероятность того, что стрелял третий спортсмен."
   ]
  },
  {
   "cell_type": "markdown",
   "metadata": {},
   "source": [
    "Сразу же определимся с тем, какие события мы здесь рассматриваем. Пусть событие $A$ заключается в том, что произошло попадание в мишень. Кроме того, пусть для каждого $i \\in \\{ 1, 2, 3 \\}$ событие $B_i$ заключается в том, что выстрелил $i$-й спортсмен.\n",
    "\n",
    "В такой формулировке наша задача - найти вероятность $P(B_3 | A)$."
   ]
  },
  {
   "cell_type": "markdown",
   "metadata": {
    "colab_type": "text",
    "id": "KmIcWtrbsFK2"
   },
   "source": [
    "$$P(B_3\\:|\\:A) = \\frac{P(A\\:|\\:B_3) \\cdot P(B_3)}{P(A)}$$"
   ]
  },
  {
   "cell_type": "markdown",
   "metadata": {
    "colab_type": "text",
    "id": "yKhoUtEnsFK0"
   },
   "source": [
    "Мы можем считать, что каждому спортсмену были даны одинаковые возможности выстрелить. Поэтому можно предположить, что вероятность каждого события $B_i$ равна $1/3$.\n",
    "\n",
    "Кроме того, нам даны вероятности попадания в мишень для каждого из спортсменов:\n",
    "\n",
    "$$P(A\\:|\\:B_1) = 0.2$$\n",
    "\n",
    "$$P(A\\:|\\:B_2) = 0.4$$\n",
    "\n",
    "$$P(A\\:|\\:B_3) = 0.7$$"
   ]
  },
  {
   "cell_type": "markdown",
   "metadata": {
    "colab_type": "text",
    "id": "ULZ2jSissFK1"
   },
   "source": [
    "Теперь мы можем использовать формулу Байеса и посчитать искомую вероятность следующим образом:"
   ]
  },
  {
   "cell_type": "markdown",
   "metadata": {},
   "source": [
    "Остаётся лишь оценить общую вероятность попадания в мишень - $P(A)$. Для этого воспользуемся формулой полной вероятности, считая, что кроме наших троих спортсменов выстрелить никто не мог. В таком случае\n",
    "\n",
    "$$P(A) = P(B_1) \\cdot P(A | B_1) + P(B_2) \\cdot P(A | B_2) + P(B_3) \\cdot P(A | B_3)$$"
   ]
  },
  {
   "cell_type": "markdown",
   "metadata": {
    "colab_type": "text",
    "id": "4CIYxbSisFK3"
   },
   "source": [
    "Подставляя сюда известные величины, получаем:\n",
    "\n",
    "$$P(A) = \\dfrac{1}{3} \\cdot 0.2 + \\dfrac{1}{3} \\cdot 0.4 + \\dfrac{1}{3} \\cdot 0.7 = \\dfrac{13}{30}$$"
   ]
  },
  {
   "cell_type": "markdown",
   "metadata": {
    "colab_type": "text",
    "id": "WENz51IbsFK4"
   },
   "source": [
    "Отсюда\n",
    "\n",
    "$$P(B_3\\:|\\:A) = \\dfrac{\\frac{1}{3} \\cdot 0.7}{\\dfrac{13}{30}} = \\frac{7}{13}$$"
   ]
  },
  {
   "cell_type": "markdown",
   "metadata": {},
   "source": [
    "### Упражнения"
   ]
  },
  {
   "cell_type": "markdown",
   "metadata": {},
   "source": [
    "__Задача 1__\n",
    "\n",
    "Вернёмся к примеру 2. Чтобы посчитать вероятность такого события, нужно использовать сочетания или размещения? Ответ необходимо обосновать."
   ]
  },
  {
   "cell_type": "markdown",
   "metadata": {},
   "source": [
    "__Задача 2__\n",
    "\n",
    "Группа студентов изучает $10$ различных дисциплин. Сколькими способами можно составить расписание на понедельник, если в этот день должно быть $4$ разных занятия?"
   ]
  },
  {
   "cell_type": "markdown",
   "metadata": {},
   "source": [
    "__Задача 3__\n",
    "\n",
    "Семь человек рассаживаются наудачу на скамейке. Какова вероятность того, что два определённых человека будут сидеть рядом?"
   ]
  },
  {
   "cell_type": "markdown",
   "metadata": {},
   "source": [
    "__Задача 4__\n",
    "\n",
    "Из $60$ вопросов, входящих в экзаменационные билеты, студент знает $50$. Какова вероятность того, что среди трёх наугад выбранных вопросов студент знает: а) все? б) два?"
   ]
  },
  {
   "cell_type": "markdown",
   "metadata": {},
   "source": [
    "__Задача 5__\n",
    "\n",
    "Бросается игральная кость. Пусть событие $A$ - появление чётного числа, событие $B$ - появление числа больше трёх. Являются ли эти события независимыми?"
   ]
  },
  {
   "cell_type": "markdown",
   "metadata": {},
   "source": [
    "__Задача 6__\n",
    "\n",
    "Допустим, имеется некоторая очень редкая болезнь (поражает $0.1 \\%$ населения). Вы приходите к врачу, вам делают тест на эту болезнь, и тест оказывается положительным. Врач говорит вам, что этот тест верно выявляет $99 \\%$ больных этой болезнью и всего лишь в $1 \\%$ случаев даёт ложный положительный ответ.\n",
    "\n",
    "_Вопрос_: вакова вероятность, что вы действительно больны ей?\n",
    "\n",
    "_Подсказка_: вновь используйте формулу Байеса с раскрытием знаменателя с помощью формулы полной вероятности."
   ]
  }
 ],
 "metadata": {
  "colab": {
   "name": "Матстат - Урок 1.ipynb",
   "provenance": [],
   "version": "0.3.2"
  },
  "kernelspec": {
   "display_name": "Python 3",
   "language": "python",
   "name": "python3"
  },
  "language_info": {
   "codemirror_mode": {
    "name": "ipython",
    "version": 3
   },
   "file_extension": ".py",
   "mimetype": "text/x-python",
   "name": "python",
   "nbconvert_exporter": "python",
   "pygments_lexer": "ipython3",
   "version": "3.7.1"
  }
 },
 "nbformat": 4,
 "nbformat_minor": 1
}
