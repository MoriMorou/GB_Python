{
  "nbformat": 4,
  "nbformat_minor": 0,
  "metadata": {
    "colab": {
      "name": "Матстат - Урок 1.ipynb",
      "version": "0.3.2",
      "provenance": [],
      "include_colab_link": true
    },
    "kernelspec": {
      "display_name": "Python 3",
      "language": "python",
      "name": "python3"
    }
  },
  "cells": [
    {
      "cell_type": "markdown",
      "metadata": {
        "id": "view-in-github",
        "colab_type": "text"
      },
      "source": [
        "<a href=\"https://colab.research.google.com/github/MoriMorou/GB_Python/blob/master/Mathematical_statistics_Lesson_1.ipynb\" target=\"_parent\"><img src=\"https://colab.research.google.com/assets/colab-badge.svg\" alt=\"Open In Colab\"/></a>"
      ]
    },
    {
      "cell_type": "markdown",
      "metadata": {
        "colab_type": "text",
        "id": "G2wMw7vtsFIu"
      },
      "source": [
        "## Урок 1\n",
        "### Случайные события. Условная вероятность. Формула Байеса.  Независимые испытания"
      ]
    },
    {
      "cell_type": "markdown",
      "metadata": {
        "colab_type": "text",
        "id": "Rc3tqLLnsFIw"
      },
      "source": [
        "**Случайное событие** — то, которое при определенных условиях может произойти или нет.\n",
        "\n"
      ]
    },
    {
      "cell_type": "markdown",
      "metadata": {
        "colab_type": "text",
        "id": "FC9PxSnisFIx"
      },
      "source": [
        "Примеры случайного события:\n",
        "1. При броске двух игральных костей на одной выпало число 1, а на другой — 2.\n",
        "2. Клиент банка не вернул кредит.\n",
        "3. Температура воздуха в Москве за последние десять дней не превышала 29 градусов по Цельсию.\n",
        "4. Монету подбросили сто раз, орел выпал в 55 случаях. "
      ]
    },
    {
      "cell_type": "markdown",
      "metadata": {
        "colab_type": "text",
        "id": "tkBVPAfesFIz"
      },
      "source": [
        "Событие можно называть **достоверным**, если в результате испытания оно обязательно произойдет.\n",
        "\n",
        "**Невозможное** событие не произойдет никогда."
      ]
    },
    {
      "cell_type": "markdown",
      "metadata": {
        "colab_type": "text",
        "id": "WLQz_jrfsFI0"
      },
      "source": [
        "Примеры достоверного события:\n",
        "1. На игральной кости выпало число, не превышающее 6.\n",
        "2. Подбросили монету, и выпал либо орел, либо решка.\n",
        "3. Монету подбросили стократно, и решка выпала не более 100 раз."
      ]
    },
    {
      "cell_type": "markdown",
      "metadata": {
        "colab_type": "text",
        "id": "iHTQaZmusFI2"
      },
      "source": [
        "Примеры невозможного события:\n",
        "1. Две игральные кости бросили один раз, и сумма выпавших чисел составила 15.\n",
        "2. Монету подбросили стократно, и решка выпала 55 раз, а орел — 56.\n",
        "3. Три игральные кости бросили один раз, и сумма выпавших чисел составила 2."
      ]
    },
    {
      "cell_type": "markdown",
      "metadata": {
        "colab_type": "text",
        "id": "vLMk77MjsFI3"
      },
      "source": [
        "Для случайного события есть понятие **относительной частоты** — это отношение количества состоявшихся событий к общему числу испытаний:"
      ]
    },
    {
      "cell_type": "markdown",
      "metadata": {
        "colab_type": "text",
        "id": "wc6A4Ec4sFI4"
      },
      "source": [
        "$$W(A) = \\frac{m}{n}$$"
      ]
    },
    {
      "cell_type": "markdown",
      "metadata": {
        "colab_type": "text",
        "id": "0DfzFHbLsFI5"
      },
      "source": [
        "В формуле $W(A)$ — это относительная частота события $A$;\n",
        "\n",
        "$m$ — число состоявшихся событий $A$;\n",
        "\n",
        "$n$ — общее число испытаний."
      ]
    },
    {
      "cell_type": "markdown",
      "metadata": {
        "id": "kB3g50kmwvAh",
        "colab_type": "text"
      },
      "source": [
        "Рассмотрим примеры случайных событий."
      ]
    },
    {
      "cell_type": "markdown",
      "metadata": {
        "id": "9c-YkL7fwvAk",
        "colab_type": "text"
      },
      "source": [
        "**Пример 1**"
      ]
    },
    {
      "cell_type": "markdown",
      "metadata": {
        "colab_type": "text",
        "id": "1_9_LCYmsFJC"
      },
      "source": [
        "Смоделируем 60-кратное подбрасывание игральной кости с помощью функции [random.randint](https://docs.scipy.org/doc/numpy-1.15.1/reference/generated/numpy.random.randint.html) пакета **numpy**, то есть $n$ = 60.\n",
        "\n",
        "Событием $A$ будем считать выпадение числа 3 и найдем его относительную частоту."
      ]
    },
    {
      "cell_type": "code",
      "metadata": {
        "colab_type": "code",
        "id": "hCLkAkshsFJE",
        "outputId": "0ac21d0d-bc40-4549-c0e8-1cf1fc5d3099",
        "colab": {
          "base_uri": "https://localhost:8080/",
          "height": 71
        }
      },
      "source": [
        "import numpy as np\n",
        "n = 60\n",
        "\n",
        "b = np.random.randint(1, 7, size=n)\n",
        "b"
      ],
      "execution_count": 0,
      "outputs": [
        {
          "output_type": "execute_result",
          "data": {
            "text/plain": [
              "array([5, 2, 1, 4, 6, 6, 4, 2, 6, 1, 6, 2, 4, 6, 6, 4, 6, 6, 4, 2, 2, 6, 6,\n",
              "       1, 6, 3, 1, 3, 3, 1, 3, 1, 4, 6, 5, 5, 5, 6, 3, 6, 5, 3, 6, 1, 1, 1,\n",
              "       6, 5, 6, 6, 1, 6, 2, 3, 4, 1, 6, 6, 5, 3])"
            ]
          },
          "metadata": {
            "tags": []
          },
          "execution_count": 2
        }
      ]
    },
    {
      "cell_type": "markdown",
      "metadata": {
        "colab_type": "text",
        "id": "cKqcXnQksFJN"
      },
      "source": [
        "Вычислим мощность подмножества, где в результате испытания выпадало число 3, то есть наблюдалось событие $A$:"
      ]
    },
    {
      "cell_type": "code",
      "metadata": {
        "colab_type": "code",
        "id": "R1XSM8SPsFJO",
        "colab": {}
      },
      "source": [
        "m = len(b[b==3])"
      ],
      "execution_count": 0,
      "outputs": []
    },
    {
      "cell_type": "markdown",
      "metadata": {
        "colab_type": "text",
        "id": "YRkBCTgosFJV"
      },
      "source": [
        "Теперь можем вычислить относительную частоту события $A$:"
      ]
    },
    {
      "cell_type": "code",
      "metadata": {
        "colab_type": "code",
        "id": "Lxfgfn5CsFJV",
        "outputId": "ab2e7433-4e27-4fb6-b2ae-477ca212defd",
        "colab": {
          "base_uri": "https://localhost:8080/",
          "height": 35
        }
      },
      "source": [
        "W = m / n\n",
        "W"
      ],
      "execution_count": 0,
      "outputs": [
        {
          "output_type": "execute_result",
          "data": {
            "text/plain": [
              "0.15"
            ]
          },
          "metadata": {
            "tags": []
          },
          "execution_count": 10
        }
      ]
    },
    {
      "cell_type": "markdown",
      "metadata": {
        "colab_type": "text",
        "id": "xcJc6quGsFJZ"
      },
      "source": [
        "**Пример 2**"
      ]
    },
    {
      "cell_type": "markdown",
      "metadata": {
        "colab_type": "text",
        "id": "grrDgheusFJb"
      },
      "source": [
        "Разберем более сложный пример. Смоделируем ситуацию, когда бросают две игральные кости.\n",
        "\n",
        "При этом будем находить частоту случайного события $B$, при котором на первой кости выпало 1, а на второй — 2. \n",
        "\n",
        "Проведем для этого 360 испытаний. Сразу зададим число $n$:"
      ]
    },
    {
      "cell_type": "code",
      "metadata": {
        "colab_type": "code",
        "id": "ZgdkvS6JsFJd",
        "colab": {}
      },
      "source": [
        "n = 360"
      ],
      "execution_count": 0,
      "outputs": []
    },
    {
      "cell_type": "code",
      "metadata": {
        "id": "tkrxw9XzqfOt",
        "colab_type": "code",
        "colab": {}
      },
      "source": [
        ""
      ],
      "execution_count": 0,
      "outputs": []
    },
    {
      "cell_type": "code",
      "metadata": {
        "colab_type": "code",
        "id": "G-SUa6U4sFJf",
        "colab": {}
      },
      "source": [
        "c = np.random.randint(1, 7, size=n)\n",
        "d = np.random.randint(1, 7, size=n)"
      ],
      "execution_count": 0,
      "outputs": []
    },
    {
      "cell_type": "code",
      "metadata": {
        "colab_type": "code",
        "id": "gSc8u_8qsFJi",
        "outputId": "b18d1f18-3b42-4e51-fd45-f2761673ea0a",
        "colab": {
          "base_uri": "https://localhost:8080/",
          "height": 323
        }
      },
      "source": [
        "c"
      ],
      "execution_count": 0,
      "outputs": [
        {
          "output_type": "execute_result",
          "data": {
            "text/plain": [
              "array([1, 5, 3, 5, 3, 1, 3, 5, 6, 2, 6, 1, 2, 4, 6, 2, 2, 6, 2, 4, 2, 2, 5,\n",
              "       6, 5, 1, 6, 3, 5, 4, 6, 2, 6, 2, 5, 5, 2, 5, 4, 4, 1, 4, 5, 6, 1, 3,\n",
              "       1, 5, 6, 4, 2, 2, 6, 4, 6, 6, 5, 3, 1, 6, 6, 2, 6, 6, 6, 1, 5, 6, 5,\n",
              "       4, 5, 3, 4, 3, 1, 3, 4, 5, 1, 1, 1, 1, 4, 2, 6, 4, 4, 3, 2, 1, 5, 2,\n",
              "       2, 6, 3, 5, 5, 2, 1, 5, 3, 4, 6, 3, 1, 2, 5, 4, 2, 2, 3, 3, 1, 6, 6,\n",
              "       1, 1, 3, 6, 3, 6, 2, 5, 6, 6, 6, 5, 6, 5, 1, 3, 6, 2, 4, 6, 3, 3, 5,\n",
              "       5, 3, 2, 2, 1, 5, 3, 2, 3, 6, 3, 3, 1, 5, 1, 6, 1, 6, 5, 1, 3, 4, 5,\n",
              "       6, 4, 4, 5, 2, 5, 6, 5, 6, 5, 4, 4, 3, 2, 5, 4, 6, 6, 4, 2, 2, 1, 4,\n",
              "       5, 2, 4, 3, 1, 3, 1, 2, 2, 1, 5, 4, 4, 6, 4, 6, 1, 4, 5, 5, 4, 6, 6,\n",
              "       4, 4, 1, 5, 2, 2, 2, 5, 2, 1, 2, 4, 6, 5, 4, 4, 3, 2, 2, 2, 1, 3, 4,\n",
              "       5, 4, 4, 1, 3, 6, 4, 1, 3, 5, 5, 3, 1, 4, 5, 5, 5, 4, 2, 6, 4, 3, 3,\n",
              "       2, 6, 4, 2, 2, 4, 4, 1, 2, 3, 6, 5, 3, 5, 3, 2, 5, 6, 6, 6, 1, 2, 1,\n",
              "       6, 3, 6, 6, 4, 6, 5, 1, 3, 1, 6, 6, 5, 2, 1, 6, 6, 1, 1, 1, 6, 6, 1,\n",
              "       5, 2, 4, 5, 3, 4, 2, 2, 3, 2, 4, 4, 5, 5, 2, 2, 6, 5, 2, 3, 5, 4, 3,\n",
              "       3, 3, 6, 4, 2, 2, 1, 6, 4, 6, 6, 1, 4, 2, 2, 4, 6, 4, 6, 2, 6, 4, 2,\n",
              "       2, 5, 4, 1, 6, 6, 6, 5, 2, 6, 4, 4, 2, 2, 3])"
            ]
          },
          "metadata": {
            "tags": []
          },
          "execution_count": 5
        }
      ]
    },
    {
      "cell_type": "code",
      "metadata": {
        "colab_type": "code",
        "id": "wUV65YC_sFJk",
        "outputId": "db334a35-2ed7-4191-acb6-ce5ad2b7d5b8",
        "colab": {
          "base_uri": "https://localhost:8080/",
          "height": 323
        }
      },
      "source": [
        "d"
      ],
      "execution_count": 0,
      "outputs": [
        {
          "output_type": "execute_result",
          "data": {
            "text/plain": [
              "array([3, 1, 3, 2, 1, 4, 2, 3, 5, 2, 4, 6, 3, 4, 4, 4, 4, 5, 3, 2, 4, 3,\n",
              "       6, 6, 4, 1, 5, 1, 2, 4, 6, 1, 3, 6, 5, 1, 1, 3, 6, 4, 4, 2, 2, 1,\n",
              "       5, 5, 4, 2, 1, 3, 1, 2, 6, 4, 6, 5, 4, 6, 3, 3, 5, 1, 1, 2, 1, 2,\n",
              "       3, 5, 5, 1, 3, 3, 4, 5, 4, 6, 4, 6, 5, 1, 4, 4, 3, 4, 4, 6, 2, 1,\n",
              "       4, 4, 5, 2, 2, 2, 6, 6, 3, 3, 1, 2, 4, 4, 2, 3, 2, 2, 1, 6, 1, 6,\n",
              "       6, 5, 6, 1, 3, 4, 2, 5, 3, 4, 5, 2, 5, 2, 2, 5, 3, 5, 2, 6, 3, 4,\n",
              "       5, 4, 4, 4, 5, 2, 3, 2, 1, 3, 1, 3, 3, 4, 4, 2, 5, 1, 4, 5, 2, 3,\n",
              "       1, 1, 5, 6, 3, 3, 4, 6, 4, 3, 2, 5, 4, 3, 4, 5, 4, 5, 2, 3, 5, 4,\n",
              "       6, 4, 2, 4, 1, 5, 5, 4, 3, 4, 3, 4, 1, 5, 6, 6, 4, 3, 2, 1, 6, 1,\n",
              "       2, 1, 3, 2, 2, 3, 2, 3, 2, 5, 1, 1, 6, 4, 2, 4, 4, 1, 5, 4, 4, 1,\n",
              "       1, 5, 6, 1, 1, 6, 4, 2, 5, 1, 1, 2, 4, 3, 4, 1, 3, 1, 6, 5, 2, 1,\n",
              "       4, 6, 1, 3, 4, 4, 2, 1, 6, 4, 1, 1, 4, 6, 5, 2, 1, 1, 5, 1, 4, 3,\n",
              "       4, 6, 1, 6, 5, 1, 1, 6, 6, 1, 4, 4, 1, 2, 3, 1, 2, 1, 4, 4, 2, 3,\n",
              "       1, 1, 4, 1, 5, 2, 4, 5, 3, 2, 1, 4, 6, 6, 1, 2, 3, 3, 2, 1, 2, 3,\n",
              "       6, 6, 3, 3, 4, 2, 1, 3, 4, 1, 3, 3, 5, 4, 1, 6, 4, 2, 5, 3, 2, 2,\n",
              "       4, 6, 4, 1, 4, 4, 6, 6, 4, 5, 6, 2, 6, 3, 6, 5, 5, 3, 2, 1, 1, 2,\n",
              "       4, 6, 3, 3, 5, 6, 1, 2])"
            ]
          },
          "metadata": {
            "tags": []
          },
          "execution_count": 14
        }
      ]
    },
    {
      "cell_type": "markdown",
      "metadata": {
        "colab_type": "text",
        "id": "ATgZiDOgsFJm"
      },
      "source": [
        "Числа, стоящие на одной позиции в массивах $c$ и $d$, будем считать результатами, полученными в одном испытании.\n",
        "\n",
        "В первом испытании на игральной кости № 1 выпало число $c[0]$, а на № 2  — $d[0]$."
      ]
    },
    {
      "cell_type": "code",
      "metadata": {
        "colab_type": "code",
        "id": "SkEtXZxHsFJn",
        "outputId": "ea948386-2a77-438b-f79b-d3f4b115bc08",
        "colab": {
          "base_uri": "https://localhost:8080/",
          "height": 35
        }
      },
      "source": [
        "c[0]"
      ],
      "execution_count": 0,
      "outputs": [
        {
          "output_type": "execute_result",
          "data": {
            "text/plain": [
              "1"
            ]
          },
          "metadata": {
            "tags": []
          },
          "execution_count": 6
        }
      ]
    },
    {
      "cell_type": "code",
      "metadata": {
        "colab_type": "code",
        "id": "rPDumAessFJq",
        "outputId": "bec64b74-4729-4beb-c4cc-81752f544020",
        "colab": {
          "base_uri": "https://localhost:8080/",
          "height": 35
        }
      },
      "source": [
        "d[0]"
      ],
      "execution_count": 0,
      "outputs": [
        {
          "output_type": "execute_result",
          "data": {
            "text/plain": [
              "6"
            ]
          },
          "metadata": {
            "tags": []
          },
          "execution_count": 7
        }
      ]
    },
    {
      "cell_type": "markdown",
      "metadata": {
        "colab_type": "text",
        "id": "7iVpKBCasFJs"
      },
      "source": [
        "Посчитаем число случав, когда в одном испытании на первой игральной кости выпало число 1, а на второй — 2."
      ]
    },
    {
      "cell_type": "code",
      "metadata": {
        "colab_type": "code",
        "id": "-7KFNSGLsFJu",
        "outputId": "c05d9171-f5d2-4f9c-8dde-c3ea65d76f53",
        "colab": {
          "base_uri": "https://localhost:8080/",
          "height": 35
        }
      },
      "source": [
        "a = c[(c==1) & (d==2)]\n",
        "m = len(a)\n",
        "m"
      ],
      "execution_count": 0,
      "outputs": [
        {
          "output_type": "execute_result",
          "data": {
            "text/plain": [
              "12"
            ]
          },
          "metadata": {
            "tags": []
          },
          "execution_count": 17
        }
      ]
    },
    {
      "cell_type": "markdown",
      "metadata": {
        "colab_type": "text",
        "id": "EIbB0Cy6sFJw"
      },
      "source": [
        "Вычислим относительную частоту события $B$:"
      ]
    },
    {
      "cell_type": "code",
      "metadata": {
        "colab_type": "code",
        "id": "yt9Mv6kxsFJx",
        "outputId": "45d75122-df47-4f99-c099-f0b1da1f8ef8",
        "colab": {
          "base_uri": "https://localhost:8080/",
          "height": 35
        }
      },
      "source": [
        "W = m / n\n",
        "W"
      ],
      "execution_count": 0,
      "outputs": [
        {
          "output_type": "execute_result",
          "data": {
            "text/plain": [
              "0.03333333333333333"
            ]
          },
          "metadata": {
            "tags": []
          },
          "execution_count": 18
        }
      ]
    },
    {
      "cell_type": "markdown",
      "metadata": {
        "colab_type": "text",
        "id": "9qZhfDGUsFJz"
      },
      "source": [
        "#### Статистическая вероятность"
      ]
    },
    {
      "cell_type": "markdown",
      "metadata": {
        "colab_type": "text",
        "id": "Jg88f4D6sFJ0"
      },
      "source": [
        "При достаточно большом количестве испытаний $n$ величина относительной частоты $W$ будет стремиться к конкретному числу. Оно называется **статистической вероятностью** и обозначается как $P(A)$:"
      ]
    },
    {
      "cell_type": "markdown",
      "metadata": {
        "colab_type": "text",
        "id": "oRFqzLHvsFJ0"
      },
      "source": [
        "$$P(A) = \\frac{m}{n}$$"
      ]
    },
    {
      "cell_type": "markdown",
      "metadata": {
        "colab_type": "text",
        "id": "bxmxhjWnsFJ1"
      },
      "source": [
        "Статистическую вероятность можно вычислить на основе данных, полученных по результатам многочисленных испытаний."
      ]
    },
    {
      "cell_type": "markdown",
      "metadata": {
        "colab_type": "text",
        "id": "sZKDq8ZWsFJ2"
      },
      "source": [
        "#### Классическое определение вероятности"
      ]
    },
    {
      "cell_type": "markdown",
      "metadata": {
        "colab_type": "text",
        "id": "DLwMWLOhsFJ3"
      },
      "source": [
        "Если заранее известны все вероятные исходы и они равновозможны (например, при подбрасывании монеты или игральной кости), можно воспользоваться **классическим определением вероятности**:\n",
        "\n",
        "Вероятность события — это отношение числа элементарных исходов, благоприятствующих данному событию, к числу всех равновозможных исходов опыта, в котором оно может появиться.\n",
        "\n",
        "\n",
        "Формула для этого определения такая же, как и для статистической вероятности:"
      ]
    },
    {
      "cell_type": "markdown",
      "metadata": {
        "colab_type": "text",
        "id": "5QBvlL81sFJ4"
      },
      "source": [
        "$$P(A) = \\frac{m}{n}$$"
      ]
    },
    {
      "cell_type": "markdown",
      "metadata": {
        "colab_type": "text",
        "id": "1p8dVxYGsFJ4"
      },
      "source": [
        "**Пример 3**"
      ]
    },
    {
      "cell_type": "markdown",
      "metadata": {
        "colab_type": "text",
        "id": "k1FeBSzQsFJ4"
      },
      "source": [
        "Вычислим вероятность того, что на игральной кости выпадет число 3. Известно, что у кости шесть граней с числами от 1 до 6 и каждая может выпасть с равной вероятностью. По формуле классической вероятности получаем результат:"
      ]
    },
    {
      "cell_type": "markdown",
      "metadata": {
        "colab_type": "text",
        "id": "1oaVbX2TsFJ5"
      },
      "source": [
        "$$P(A) = \\frac{m}{n} = \\frac{1}{6}$$"
      ]
    },
    {
      "cell_type": "markdown",
      "metadata": {
        "colab_type": "text",
        "id": "PjIamrGPsFJ6"
      },
      "source": [
        "**Пример 4**"
      ]
    },
    {
      "cell_type": "markdown",
      "metadata": {
        "colab_type": "text",
        "id": "F_w8adOVsFJ7"
      },
      "source": [
        "Вычислим, с какой вероятностью на игральной кости выпадет 2 или 4. Эти события в равной степени вероятны. Как следует из предыдущего примера, каждая из этих вероятностей равна 1/6. И эти события — несовместные, то есть не могут произойти одновременно. Поэтому мы можем складывать их вероятности:"
      ]
    },
    {
      "cell_type": "markdown",
      "metadata": {
        "colab_type": "text",
        "id": "BQNBlwPysFJ9"
      },
      "source": [
        "$$P(A∨B) = \\frac{1}{6} + \\frac{1}{6} = \\frac{2}{6}$$"
      ]
    },
    {
      "cell_type": "markdown",
      "metadata": {
        "colab_type": "text",
        "id": "pRqOYUjasFJ-"
      },
      "source": [
        "($∨$ — знак логического ИЛИ)."
      ]
    },
    {
      "cell_type": "markdown",
      "metadata": {
        "colab_type": "text",
        "id": "dWGTf84XsFKA"
      },
      "source": [
        "#### Формулы комбинаторики"
      ]
    },
    {
      "cell_type": "markdown",
      "metadata": {
        "colab_type": "text",
        "id": "mH-XUecBsFKB"
      },
      "source": [
        "Для более сложных случаев число исходов $k$, благоприятствующих данному событию, или число всех элементарных исходов испытания ($n$) можно вычислить с помощью формул комбинаторики."
      ]
    },
    {
      "cell_type": "markdown",
      "metadata": {
        "colab_type": "text",
        "id": "zjQq1-wrsFKC"
      },
      "source": [
        "Число **сочетаний** из $n$ элементов по $k$ элементов в каждом (в сочетаниях порядок не важен):"
      ]
    },
    {
      "cell_type": "markdown",
      "metadata": {
        "colab_type": "text",
        "id": "PW2lximGsFKC"
      },
      "source": [
        "$$C_n^k = \\frac{n!}{k!(n - k)!}$$"
      ]
    },
    {
      "cell_type": "markdown",
      "metadata": {
        "colab_type": "text",
        "id": "2GM7Yz7xIgzF"
      },
      "source": [
        "Напишем функцию, чтобы вычислить количество сочетаний:"
      ]
    },
    {
      "cell_type": "code",
      "metadata": {
        "colab_type": "code",
        "id": "iFH05AQwKlNl",
        "colab": {}
      },
      "source": [
        "from math import factorial"
      ],
      "execution_count": 0,
      "outputs": []
    },
    {
      "cell_type": "code",
      "metadata": {
        "colab_type": "code",
        "id": "XqmC5AY8I_Ie",
        "colab": {}
      },
      "source": [
        "def combinations(n, k):\n",
        "    return int(factorial(n) / (factorial(k) * factorial(n - k)))"
      ],
      "execution_count": 0,
      "outputs": []
    },
    {
      "cell_type": "markdown",
      "metadata": {
        "colab_type": "text",
        "id": "bqnvhGwnsFKE"
      },
      "source": [
        "Определим число **размещений** из $n$ элементов по $k$ элементов в каждом. При размещениях порядок важен, поэтому вариантов размещения может быть больше, чем сочетаний при заданных $k$  и $n$."
      ]
    },
    {
      "cell_type": "markdown",
      "metadata": {
        "colab_type": "text",
        "id": "ITiiVKPWsFKF"
      },
      "source": [
        "$$A_n^k = \\frac{n!}{(n - k)!}$$"
      ]
    },
    {
      "cell_type": "code",
      "metadata": {
        "id": "aRmxVO1vwvEY",
        "colab_type": "code",
        "colab": {}
      },
      "source": [
        "def arrangements(n, k):\n",
        "    return int(factorial(n) / factorial(n - k))"
      ],
      "execution_count": 0,
      "outputs": []
    },
    {
      "cell_type": "markdown",
      "metadata": {
        "colab_type": "text",
        "id": "1K0UMRiisFKG"
      },
      "source": [
        "Число **перестановок** из $n$ элементов — при перестановках важен порядок, но отличие от размещений в том, что применяются все имеющиеся $n$ элементов:"
      ]
    },
    {
      "cell_type": "markdown",
      "metadata": {
        "colab_type": "text",
        "id": "8HZXUfJcsFKI"
      },
      "source": [
        "$$P_n = n!$$"
      ]
    },
    {
      "cell_type": "code",
      "metadata": {
        "colab_type": "code",
        "id": "ktyYJlBLPfP5",
        "colab": {}
      },
      "source": [
        "def permutations(n):\n",
        "    return int(factorial(n))"
      ],
      "execution_count": 0,
      "outputs": []
    },
    {
      "cell_type": "markdown",
      "metadata": {
        "colab_type": "text",
        "id": "b1hei-UysFKI"
      },
      "source": [
        "Рассмотрим на примерах, как применяются формулы комбинаторики."
      ]
    },
    {
      "cell_type": "markdown",
      "metadata": {
        "colab_type": "text",
        "id": "aRbqU8vBsFKJ"
      },
      "source": [
        "**Пример 5**"
      ]
    },
    {
      "cell_type": "markdown",
      "metadata": {
        "colab_type": "text",
        "id": "6HofFrbQsFKK"
      },
      "source": [
        "Сколькими способами можно выбрать из колоды, состоящей из 36 карт, 4 карты?\n",
        "\n",
        "Для ответа на этот вопрос воспользуемся формулой для вычисления количества сочетаний:"
      ]
    },
    {
      "cell_type": "markdown",
      "metadata": {
        "colab_type": "text",
        "id": "g5e4SLQ5sFKL"
      },
      "source": [
        "$$C_{36}^4 = \\frac{36!}{4!(36 - 4)!} = \\frac{36!}{4! \\cdot 32!} = \\frac{33 \\cdot 34 \\cdot 35 \\cdot 36}{4!} = \\frac{33 \\cdot 34 \\cdot 35 \\cdot 36}{2 \\cdot 3 \\cdot 4} = 58905$$"
      ]
    },
    {
      "cell_type": "markdown",
      "metadata": {
        "colab_type": "text",
        "id": "5p5azqlhPpVb"
      },
      "source": [
        "или"
      ]
    },
    {
      "cell_type": "code",
      "metadata": {
        "colab_type": "code",
        "id": "vCudU0J8PnJv",
        "outputId": "c736c037-f7d1-44e3-d100-855b144d85fb",
        "colab": {
          "base_uri": "https://localhost:8080/",
          "height": 35
        }
      },
      "source": [
        "combinations(36, 4)"
      ],
      "execution_count": 0,
      "outputs": [
        {
          "output_type": "execute_result",
          "data": {
            "text/plain": [
              "58905"
            ]
          },
          "metadata": {
            "tags": []
          },
          "execution_count": 23
        }
      ]
    },
    {
      "cell_type": "markdown",
      "metadata": {
        "colab_type": "text",
        "id": "WXfKNhFGsFKQ"
      },
      "source": [
        "**Пример 6**"
      ]
    },
    {
      "cell_type": "markdown",
      "metadata": {
        "colab_type": "text",
        "collapsed": true,
        "id": "9tXX-yJYsFKQ"
      },
      "source": [
        "В магазине 20 покупателей. Сколькими способами они могут образовать очередь из 5 человек?\n",
        "\n",
        "В этом примере важен порядок, в котором покупатели будут стоять в очереди, поэтому применим формулу для нахождения числа размещений:"
      ]
    },
    {
      "cell_type": "code",
      "metadata": {
        "colab_type": "code",
        "id": "gKsM5aeoP32n",
        "outputId": "a36f1388-4b49-4f4a-dfa4-be18b9fd5325",
        "colab": {
          "base_uri": "https://localhost:8080/",
          "height": 35
        }
      },
      "source": [
        "arrangements(20, 5)"
      ],
      "execution_count": 0,
      "outputs": [
        {
          "output_type": "execute_result",
          "data": {
            "text/plain": [
              "1860480"
            ]
          },
          "metadata": {
            "tags": []
          },
          "execution_count": 24
        }
      ]
    },
    {
      "cell_type": "markdown",
      "metadata": {
        "colab_type": "text",
        "id": "aFeIzgkQsFKR"
      },
      "source": [
        "**Пример 7**"
      ]
    },
    {
      "cell_type": "markdown",
      "metadata": {
        "colab_type": "text",
        "collapsed": true,
        "id": "JOsG3qkAsFKS"
      },
      "source": [
        "Сколькими способами 5 покупателей могут образовать очередь?\n",
        "\n",
        "Этот пример похож на предыдущий, но есть важное отличие: не нужно выбирать 5 покупателей из 20. Здесь их всего 5, и все должны присутствовать в очереди. Применим формулу для нахождения числа перестановок:"
      ]
    },
    {
      "cell_type": "code",
      "metadata": {
        "colab_type": "code",
        "id": "SGljzgzEW-Pz",
        "outputId": "fa4d0994-b727-4a5f-dd3b-c9e0b7d52423",
        "colab": {
          "base_uri": "https://localhost:8080/",
          "height": 35
        }
      },
      "source": [
        "permutations(5)"
      ],
      "execution_count": 0,
      "outputs": [
        {
          "output_type": "execute_result",
          "data": {
            "text/plain": [
              "120"
            ]
          },
          "metadata": {
            "tags": []
          },
          "execution_count": 25
        }
      ]
    },
    {
      "cell_type": "markdown",
      "metadata": {
        "colab_type": "text",
        "id": "wzEHNWr1sFKU"
      },
      "source": [
        "**Пример 8**"
      ]
    },
    {
      "cell_type": "markdown",
      "metadata": {
        "colab_type": "text",
        "collapsed": true,
        "id": "-IkfWsIHsFKU"
      },
      "source": [
        "Из колоды, состоящей из 36 карт, случайным образом выбраны 5. Сколькими способами можно выбрать эти карты так, чтобы среди них оказалось от 2 до 3 тузов?"
      ]
    },
    {
      "cell_type": "markdown",
      "metadata": {
        "colab_type": "text",
        "collapsed": true,
        "id": "oVx_8V1VsFKV"
      },
      "source": [
        "Чтобы решить эту задачу, нужно сначала рассмотреть ситуацию, когда выбирается два туза из четырех.\n",
        "\n",
        "Число таких сочетаний будет равно:"
      ]
    },
    {
      "cell_type": "code",
      "metadata": {
        "colab_type": "code",
        "id": "I0G2chFhXdp2",
        "outputId": "bd5f8f66-fd62-474b-beac-65f57c89a4fb",
        "colab": {
          "base_uri": "https://localhost:8080/",
          "height": 35
        }
      },
      "source": [
        "combinations(4, 2)"
      ],
      "execution_count": 0,
      "outputs": [
        {
          "output_type": "execute_result",
          "data": {
            "text/plain": [
              "6"
            ]
          },
          "metadata": {
            "tags": []
          },
          "execution_count": 26
        }
      ]
    },
    {
      "cell_type": "markdown",
      "metadata": {
        "colab_type": "text",
        "id": "vR8Bgd_GsFKW"
      },
      "source": [
        "Остальные три карты выбираются из 32 карт  — тузы не рассматриваются, так как они уже выбраны:"
      ]
    },
    {
      "cell_type": "code",
      "metadata": {
        "colab_type": "code",
        "id": "cYJcvTuVXn6G",
        "outputId": "ace36d07-8b09-40e2-fb5a-913bb8efa137",
        "colab": {
          "base_uri": "https://localhost:8080/",
          "height": 35
        }
      },
      "source": [
        "combinations(32, 3)"
      ],
      "execution_count": 0,
      "outputs": [
        {
          "output_type": "execute_result",
          "data": {
            "text/plain": [
              "4960"
            ]
          },
          "metadata": {
            "tags": []
          },
          "execution_count": 27
        }
      ]
    },
    {
      "cell_type": "markdown",
      "metadata": {
        "colab_type": "text",
        "id": "K-J4j6BnsFKY"
      },
      "source": [
        "И в этом случае будет такое число сочетаний, когда из колоды, в которой 36 карт, выбраны пять, две из которых — тузы:"
      ]
    },
    {
      "cell_type": "markdown",
      "metadata": {
        "colab_type": "text",
        "id": "wf_Y6h-1sFKZ"
      },
      "source": [
        "Теперь рассмотрим ситуацию выбора трех тузов из четырех. Число сочетаний будет равно:"
      ]
    },
    {
      "cell_type": "code",
      "metadata": {
        "colab_type": "code",
        "id": "LQnsS5ADYGuP",
        "outputId": "d827eabe-df6a-4b4b-b147-e9743c56b1d7",
        "colab": {
          "base_uri": "https://localhost:8080/",
          "height": 35
        }
      },
      "source": [
        "6 * 4960"
      ],
      "execution_count": 0,
      "outputs": [
        {
          "output_type": "execute_result",
          "data": {
            "text/plain": [
              "29760"
            ]
          },
          "metadata": {
            "tags": []
          },
          "execution_count": 28
        }
      ]
    },
    {
      "cell_type": "code",
      "metadata": {
        "colab_type": "code",
        "id": "roqN2ghSYJJk",
        "outputId": "a8f98845-20a4-462e-8b00-7627b2ec408c",
        "colab": {
          "base_uri": "https://localhost:8080/",
          "height": 35
        }
      },
      "source": [
        "combinations(4, 3)"
      ],
      "execution_count": 0,
      "outputs": [
        {
          "output_type": "execute_result",
          "data": {
            "text/plain": [
              "4"
            ]
          },
          "metadata": {
            "tags": []
          },
          "execution_count": 29
        }
      ]
    },
    {
      "cell_type": "markdown",
      "metadata": {
        "colab_type": "text",
        "id": "vc-czT5isFKb"
      },
      "source": [
        "Остальные две карты выбираются из 32 карт. Число сочетаний будет равно:"
      ]
    },
    {
      "cell_type": "code",
      "metadata": {
        "colab_type": "code",
        "id": "vkienKGIYMr3",
        "outputId": "c7c5cee5-0777-41ce-d683-a1b73158f8a0",
        "colab": {
          "base_uri": "https://localhost:8080/",
          "height": 35
        }
      },
      "source": [
        "combinations(32, 2)"
      ],
      "execution_count": 0,
      "outputs": [
        {
          "output_type": "execute_result",
          "data": {
            "text/plain": [
              "496"
            ]
          },
          "metadata": {
            "tags": []
          },
          "execution_count": 30
        }
      ]
    },
    {
      "cell_type": "markdown",
      "metadata": {
        "colab_type": "text",
        "id": "LPfDKt12sFKb"
      },
      "source": [
        "И тогда будет такое число сочетаний, когда из колоды в 36 карт выбраны пять, три из которых — тузы:"
      ]
    },
    {
      "cell_type": "code",
      "metadata": {
        "colab_type": "code",
        "id": "CALKLpyyYPyU",
        "outputId": "2e65039e-664f-48f6-f6aa-ec7ad24d4328",
        "colab": {
          "base_uri": "https://localhost:8080/",
          "height": 35
        }
      },
      "source": [
        "4 * 496"
      ],
      "execution_count": 0,
      "outputs": [
        {
          "output_type": "execute_result",
          "data": {
            "text/plain": [
              "1984"
            ]
          },
          "metadata": {
            "tags": []
          },
          "execution_count": 31
        }
      ]
    },
    {
      "cell_type": "markdown",
      "metadata": {
        "colab_type": "text",
        "id": "yi6iylD_sFKd"
      },
      "source": [
        "Осталось сложить полученные числа сочетаний:"
      ]
    },
    {
      "cell_type": "code",
      "metadata": {
        "colab_type": "code",
        "id": "VKo6iTmLYR-b",
        "outputId": "6e6f62d9-de4b-4d36-fe01-8696a9f50f69",
        "colab": {
          "base_uri": "https://localhost:8080/",
          "height": 35
        }
      },
      "source": [
        "29760 + 1984"
      ],
      "execution_count": 0,
      "outputs": [
        {
          "output_type": "execute_result",
          "data": {
            "text/plain": [
              "31744"
            ]
          },
          "metadata": {
            "tags": []
          },
          "execution_count": 32
        }
      ]
    },
    {
      "cell_type": "markdown",
      "metadata": {
        "colab_type": "text",
        "id": "OB_XrmOnsFKe"
      },
      "source": [
        "Число комбинаций, полученных с помощью формул комбинаторики, можно складывать \n",
        "и умножать. Сложение в приведенном примере соответствует логическому ИЛИ, а умножение — логическому И."
      ]
    },
    {
      "cell_type": "markdown",
      "metadata": {
        "colab_type": "text",
        "id": "RRYel7rusFKg"
      },
      "source": [
        "**Совместные и несовместные события**"
      ]
    },
    {
      "cell_type": "markdown",
      "metadata": {
        "colab_type": "text",
        "id": "imCWlmlxsFKg"
      },
      "source": [
        "Совместные события могут произойти в одном испытании, а несовместные — нет. Например, при однократном подбрасывании игральной кости не могут сразу выпасть числа 3 и 4 — эти события несовместны. Если бросают две кости, на одной может выпасть 4, а на другой — 5, это совместные события. Вероятности несовместных событий можно складывать:"
      ]
    },
    {
      "cell_type": "markdown",
      "metadata": {
        "colab_type": "text",
        "id": "W8_QH9casFKh"
      },
      "source": [
        "$$P(A + B) = P(A) + P(B)$$"
      ]
    },
    {
      "cell_type": "markdown",
      "metadata": {
        "colab_type": "text",
        "id": "7qOe2xgSsFKi"
      },
      "source": [
        "В случае совместных событий формула суммы событий другая: из суммы вероятностей отдельных событий вычитается вероятность их совместного появления."
      ]
    },
    {
      "cell_type": "markdown",
      "metadata": {
        "colab_type": "text",
        "id": "Ne6dLbmjsFKi"
      },
      "source": [
        "$$P(A + B) = P(A) + P(B) - P(AB)$$"
      ]
    },
    {
      "cell_type": "markdown",
      "metadata": {
        "colab_type": "text",
        "id": "4J6cC6nOsFKj"
      },
      "source": [
        "**Вероятность зависимых и независимых событий**"
      ]
    },
    {
      "cell_type": "markdown",
      "metadata": {
        "colab_type": "text",
        "id": "zj39tXYqsFKj"
      },
      "source": [
        "Независимыми события  называют, когда появление одного из них не влияет на появление другого. С зависимыми все наоборот."
      ]
    },
    {
      "cell_type": "markdown",
      "metadata": {
        "colab_type": "text",
        "id": "gGrtdYgisFKk"
      },
      "source": [
        "Вероятность одновременного появления двух независимых событий вычисляется по формуле:"
      ]
    },
    {
      "cell_type": "markdown",
      "metadata": {
        "colab_type": "text",
        "id": "Tl_jpB4HsFKk"
      },
      "source": [
        "$$P(A*B) = P(A) * P(B)$$"
      ]
    },
    {
      "cell_type": "markdown",
      "metadata": {
        "colab_type": "text",
        "id": "YC0D9kqJsFKm"
      },
      "source": [
        "Вероятность появления двух зависимых событий:"
      ]
    },
    {
      "cell_type": "markdown",
      "metadata": {
        "colab_type": "text",
        "id": "gDRJ7jGfsFKm"
      },
      "source": [
        "$$P(A*B) = P(A) * P(B\\:|\\:A) = P(B) * P(A\\:|\\:B)$$"
      ]
    },
    {
      "cell_type": "markdown",
      "metadata": {
        "colab_type": "text",
        "id": "CuERs6rIsFKn"
      },
      "source": [
        "**Пример 9**"
      ]
    },
    {
      "cell_type": "markdown",
      "metadata": {
        "colab_type": "text",
        "id": "aUsMeENFsFKn"
      },
      "source": [
        "Найдем вероятность того, что при броске двух игральных костей на первой выпадет четное число, а на второй — кратное трем. Сначала рассмотрим вероятность выпадения четного числа на первой кости. Таких случаев может быть три: это события, при которых выпадают числа 2, 4 и 6. Вероятность для каждого из них равна 1/6.\n",
        "\n",
        "Так как эти три события являются несовместными, вероятность их суммы равна сумме их вероятностей:"
      ]
    },
    {
      "cell_type": "markdown",
      "metadata": {
        "colab_type": "text",
        "id": "hpEskO7FsFKn"
      },
      "source": [
        "$$P(четн.) = \\frac{1}{6} + \\frac{1}{6} + \\frac{1}{6} = \\frac{3}{6} = \\frac{1}{2}$$"
      ]
    },
    {
      "cell_type": "markdown",
      "metadata": {
        "colab_type": "text",
        "id": "5ts2EeuDsFKo"
      },
      "source": [
        "Для второй кости подходящих событий два: это выпадение чисел 3 и 6. Это тоже несовместные события, и мы можем сложить их вероятности:"
      ]
    },
    {
      "cell_type": "markdown",
      "metadata": {
        "colab_type": "text",
        "id": "q2lcEa-VsFKp"
      },
      "source": [
        "$$P(кратн. 3) = \\frac{1}{6} + \\frac{1}{6} = \\frac{2}{6} = \\frac{1}{3}$$"
      ]
    },
    {
      "cell_type": "markdown",
      "metadata": {
        "colab_type": "text",
        "id": "C-NrYnV9sFKp"
      },
      "source": [
        "С учетом того, что выпадение числа на одной кости не влияет на результат на другой — то есть эти события независимы, — применим умножение вероятностей и получим итоговый ответ:"
      ]
    },
    {
      "cell_type": "markdown",
      "metadata": {
        "colab_type": "text",
        "id": "yXQpCRTKsFKq"
      },
      "source": [
        "$$P = \\frac{1}{2} * \\frac{1}{3} = \\frac{1}{6}$$"
      ]
    },
    {
      "cell_type": "markdown",
      "metadata": {
        "colab_type": "text",
        "id": "uQBgCxqBsFKr"
      },
      "source": [
        "**Формула полной вероятности**"
      ]
    },
    {
      "cell_type": "markdown",
      "metadata": {
        "colab_type": "text",
        "id": "lf4EHhsMsFKr"
      },
      "source": [
        "Если событие $A$ может наступить только при появлении событий $B_1, B_2, \\dots, B_n$, образующих полную группу несовместных событий*, то вероятность $A$ вычисляется по формуле:\n",
        "\n",
        "***полная группа событий** означает, что при отдельном испытании обязательно возникнет одно из них."
      ]
    },
    {
      "cell_type": "markdown",
      "metadata": {
        "colab_type": "text",
        "id": "4WshmADxsFKt"
      },
      "source": [
        "$$P(A) = P(B_1) \\cdot P(A\\:|\\:B_1) + P(B_2) \\cdot P(A\\:|\\:B_2) \\; + ... + \\; P(B_n) \\cdot P(A\\:|\\:B_n)$$"
      ]
    },
    {
      "cell_type": "markdown",
      "metadata": {
        "colab_type": "text",
        "id": "G1khs06KsFKu"
      },
      "source": [
        "Выражение $P(B\\;|\\;A)$ означает вероятность наступления события $B$ при условии, что событие $A$ произошло."
      ]
    },
    {
      "cell_type": "markdown",
      "metadata": {
        "colab_type": "text",
        "id": "sSTkdtuVsFKv"
      },
      "source": [
        "**Пример 10**"
      ]
    },
    {
      "cell_type": "markdown",
      "metadata": {
        "colab_type": "text",
        "id": "HDes28G0sFKv"
      },
      "source": [
        "Есть три одинаковые корзины. В первой лежат три красных и пять зеленых мячей, во второй — только красные, а в третьей — только зеленые мячи. Случайно выбирается одна корзина и из нее случайным образом извлекается мяч. \n",
        "\n",
        "Какова вероятность того, что этот мяч — зеленый?\n",
        "\n",
        "Решим эту задачу с помощью формулы полной вероятности. Событием $A$ будем считать то, что достанут зеленый мяч, а событием $B$ — что выберут определенную корзину. Причем вероятность выбора одной из трех корзин будет равна 1/3.\n",
        "\n",
        "Вероятность достать зеленый мяч при условии, что выбрана первая корзина, равен 5/(3 + 5), то есть 5/8. При выборе второй корзины вероятность вынуть зеленый мяч равна 0. В случае с третьей корзиной вероятность равна 1, так как все мячи в ней — зеленые.\n",
        "\n",
        "Подставим данные значения в формулу полной вероятности и получим итоговый ответ:"
      ]
    },
    {
      "cell_type": "markdown",
      "metadata": {
        "colab_type": "text",
        "id": "EWPYRImssFKw"
      },
      "source": [
        "$$P(A) = \\frac{1}{3} \\cdot \\frac{5}{8} + \\frac{1}{3} \\cdot 0 + \\frac{1}{3} \\cdot 1 = \\frac{5}{24} + 0 + \\frac{1}{3} = \\frac{13}{24}$$"
      ]
    },
    {
      "cell_type": "markdown",
      "metadata": {
        "colab_type": "text",
        "id": "7euBINZMsFKw"
      },
      "source": [
        "#### Формула Байеса"
      ]
    },
    {
      "cell_type": "markdown",
      "metadata": {
        "colab_type": "text",
        "collapsed": true,
        "id": "_5YeOFVOsFKx"
      },
      "source": [
        "Чтобы определить вероятность события $B$ при условии, что событие $A$ уже произошло, используют формулу Байеса:"
      ]
    },
    {
      "cell_type": "markdown",
      "metadata": {
        "colab_type": "text",
        "id": "3hN0vJKIsFKy"
      },
      "source": [
        "$$P(B\\:|\\:A) = \\frac{P(B) \\cdot P(A\\:|\\:B)}{P(A)}$$"
      ]
    },
    {
      "cell_type": "markdown",
      "metadata": {
        "colab_type": "text",
        "id": "4C9mz7ymsFKz"
      },
      "source": [
        "В данной формуле вероятность $P(B\\;|\\;A)$ называется апостериорной, то есть определенной после того, как произошло событие $A$. \n",
        "\n",
        "А вероятность $P(B)$ — априорной, определенной до испытания."
      ]
    },
    {
      "cell_type": "markdown",
      "metadata": {
        "colab_type": "text",
        "id": "5crVgwelsFKz"
      },
      "source": [
        "**Пример 11**"
      ]
    },
    {
      "cell_type": "markdown",
      "metadata": {
        "colab_type": "text",
        "id": "-Smvex-usFK0"
      },
      "source": [
        "Соревнования по биатлону. Один из трех спортсменов стреляет и попадает в мишень. \n",
        "\n",
        "Вероятность такого события для первого спортсмена равна 0.2, для второго — 0.4, для третьего — 0.7.\n",
        "\n",
        "Задача: найти вероятность того, что выстрелы произведены третьим спортсменом.\n",
        "\n",
        "Прежде чем узнали результат выстрела, мы располагали только априорной вероятностью того, что выстрел был произведен, и она равнялась 1/3 — если учесть, что у всех спортсменов были равные возможности выстрелить.\n",
        "\n",
        "Зная результат выстрела, мы можем заново оценить вероятности для каждого спортсмена — ведь точность у них разная. Эти вероятности будут апостериорными, так как они получены после поступления информации о том, что выстрел был удачным.\n",
        "\n",
        "Событием $A$ будем считать попадание в мишень, а событиями $B_1, B_2$ и $B_3$ — что выстрел совершил первый, второй или третий спортсмен:"
      ]
    },
    {
      "cell_type": "markdown",
      "metadata": {
        "colab_type": "text",
        "id": "yKhoUtEnsFK0"
      },
      "source": [
        "$$P(A\\:|\\:B_1) = 0.2$$\n",
        "\n",
        "$$P(A\\:|\\:B_2) = 0.4$$\n",
        "\n",
        "$$P(A\\:|\\:B_3) = 0.7$$"
      ]
    },
    {
      "cell_type": "markdown",
      "metadata": {
        "colab_type": "text",
        "id": "ULZ2jSissFK1"
      },
      "source": [
        "Вероятность того, что стрелял третий спортсмен — при условии, что выстрел был удачным, — будем находить по формуле:"
      ]
    },
    {
      "cell_type": "markdown",
      "metadata": {
        "colab_type": "text",
        "id": "KmIcWtrbsFK2"
      },
      "source": [
        "$$P(B_3\\:|\\:A) = \\frac{P(B_3) \\cdot P(A\\:|\\:B_3)}{P(A)}$$"
      ]
    },
    {
      "cell_type": "markdown",
      "metadata": {
        "colab_type": "text",
        "id": "4CIYxbSisFK3"
      },
      "source": [
        "Все величины подставим из условия, а знаменатель дроби распишем по формуле полной вероятности:"
      ]
    },
    {
      "cell_type": "markdown",
      "metadata": {
        "colab_type": "text",
        "id": "WENz51IbsFK4"
      },
      "source": [
        "$$P(B_3\\:|\\:A) = \\frac{\\frac{1}{3} \\cdot 0.7}{\\frac{1}{3} \\cdot 0.2 + \\frac{1}{3} \\cdot 0.4 + \\frac{1}{3} \\cdot 0.7} = \\frac{7}{13}$$"
      ]
    }
  ]
}