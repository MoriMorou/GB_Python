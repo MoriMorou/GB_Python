{
 "cells": [
  {
   "cell_type": "code",
   "execution_count": 2,
   "metadata": {},
   "outputs": [],
   "source": [
    "import numpy as np\n",
    "from math import factorial"
   ]
  },
  {
   "cell_type": "markdown",
   "metadata": {},
   "source": [
    "### Задача 1\n",
    "\n",
    "Контрольная работа состоит из пяти вопросов. На каждый вопрос приведено четыре варианта ответа, один из которых правильный. Составьте закон распределения числа правильных ответов при простом угадывании. Найдите M(X), D(X)."
   ]
  },
  {
   "cell_type": "markdown",
   "metadata": {},
   "source": [
    "# Решение:\n",
    "Возможные значения случайной величины (в нашем случае правильных ответов) при простом угадывании при пяти вопросах: $x_1 = 0$, $x_2 = 1$, $x_3 = 2$, $x_4 = 3$, $x_5 = 4$, $x_6 = 5$. В задании пять вопросов, а значит мы имееем 5 независимых испытаний. Вероятность правильно угадать ответ из четырех вопросов равна $p = \\frac{1}{4}$\n",
    "\n",
    "Биномиальный закон распределения описывается __формулой Бернулли__:\n",
    "\n",
    "$$P(X = k) = C_n^k p^k (1 - p)^{n - k}$$\n",
    "где n = 5, k = 4, p = P(+), q = 1 - p"
   ]
  },
  {
   "cell_type": "code",
   "execution_count": 5,
   "metadata": {},
   "outputs": [
    {
     "name": "stdout",
     "output_type": "stream",
     "text": [
      "P(X=0) = 0.2373046875\n",
      "P(X=1) = 0.3955078125\n",
      "P(X=2) = 0.263671875\n",
      "P(X=3) = 0.087890625\n",
      "P(X=4) = 0.0146484375\n",
      "P(X=5) = 0.0009765625\n",
      "Сумма всех вероятностей: 1.0\n",
      "Матожидание: 1.25\n",
      "Дисперсия: 0.9375\n"
     ]
    }
   ],
   "source": [
    "N = 5\n",
    "PA = 0.25\n",
    "\n",
    "def combinations(n, k):\n",
    "    return int(factorial(n) / (factorial(k) * factorial(n - k)))\n",
    "\n",
    "def P(x):\n",
    "    return combinations(N, x)*(PA)**x*(1 - PA)**(N-x)\n",
    "\n",
    "def M(x, p):\n",
    "    spam = 0\n",
    "    for i in range(len(x)):\n",
    "        spam += x[i]*p[i]\n",
    "    return spam\n",
    "\n",
    "def D(x, p):\n",
    "    m = M(x, p)\n",
    "    return  M((x - m)**2,p)\n",
    "\n",
    "def init_p(X):\n",
    "    p = []\n",
    "    for i in X:\n",
    "        p.append(P(i))\n",
    "    return p\n",
    "\n",
    "def print_p(X, p, start, end):\n",
    "    for i in X:\n",
    "        if i>=start and i<=end:\n",
    "            print(f'P(X={i}) = {p[i]}')\n",
    "\n",
    "X = np.arange(N+1)\n",
    "p = init_p(X)\n",
    "print_p(X,p,0, len(X)-1)\n",
    "print(f'Сумма всех вероятностей: {np.sum(p)}')\n",
    "m = M(X, p)\n",
    "print(f'Матожидание: {m}')\n",
    "d = D(X, p)\n",
    "print(f'Дисперсия: {d}')"
   ]
  },
  {
   "cell_type": "markdown",
   "metadata": {},
   "source": [
    "#### Задача 2\n",
    "\n",
    "Вероятность попадания в цель при одном выстреле равна 0.01. Какова вероятность того, что число попаданий при 200 выстрелах будет не менее 5 и не более 10?\n",
    "\n",
    "Биномиальный закон распределения описывается __формулой Бернулли__:\n",
    "\n",
    "$$P(X = k) = C_n^k p^k (1 - p)^{n - k}$$\n",
    "где n = 200, k = 5-10, p = 0,01, q = 1-p"
   ]
  },
  {
   "cell_type": "code",
   "execution_count": 9,
   "metadata": {},
   "outputs": [
    {
     "name": "stdout",
     "output_type": "stream",
     "text": [
      "P(X=5) = 0.03572335672160829\n",
      "P(X=6) = 0.011727364580325954\n",
      "P(X=7) = 0.0032829851783307863\n",
      "P(X=8) = 0.0008000203780528306\n",
      "P(X=9) = 0.000172394963620812\n",
      "P(X=10) = 3.326003843593443e-05\n",
      "Сумма вероятностей попаданий не менее 5 и не более 10 равна: 0.051739381860374606\n"
     ]
    }
   ],
   "source": [
    "N = 200 \n",
    "PA = 0.01 \n",
    "min_goal = 5 # минимальное количество попаданий\n",
    "max_goal = 10 # максимальное количество попаданий\n",
    "X = np.arange(N + 1)\n",
    "p = init_p(X)\n",
    "print_p(X,p,min_goal,max_goal)\n",
    "print(f'Сумма вероятностей попаданий не менее {min_goal} и не более {max_goal} равна: {np.sum(p[min_goal:max_goal+1])}')"
   ]
  },
  {
   "cell_type": "markdown",
   "metadata": {},
   "source": [
    "#### Задача 3\n",
    "\n",
    "В условиях предыдущей задачи сколько выстрелов нужно сделать чтобы быть уверенным с вероятностью 0.9, что хотя бы 10 раз будет совершено попадание?\n",
    "Подсказка. Как посчитать P(X >= k) для величины X, имеющей распределение Пуассона? Здесь предстоит немножко покодить."
   ]
  },
  {
   "cell_type": "code",
   "execution_count": 16,
   "metadata": {},
   "outputs": [
    {
     "name": "stdout",
     "output_type": "stream",
     "text": [
      "Чтобы быть уверенным с вероятностью 0.9001760722801236, что хотя бы 10 раз будет совершено попадание, необходимо сделать не менее 1421 выстрелов\n"
     ]
    }
   ],
   "source": [
    "def puasson(a, k):\n",
    "    return a ** k * np.exp(-a)/factorial(k)\n",
    "\n",
    "\n",
    "def sum_P(n):\n",
    "    p_ = 0\n",
    "    for i in range(10, n + 1):\n",
    "        p_ += puasson(0.01 * n, i)\n",
    "        if puasson(0.01 * n, i) < 10**(-10):\n",
    "            break # вклад в сумму минимален\n",
    "    return p_\n",
    "\n",
    "n = 100\n",
    "while sum_P(n) < 0.9:\n",
    "    n +=1\n",
    "print(f'Чтобы быть уверенным с вероятностью {sum_P(n)}, что хотя бы 10 раз будет совершено попадание, необходимо сделать не менее {n} выстрелов')"
   ]
  },
  {
   "cell_type": "code",
   "execution_count": null,
   "metadata": {},
   "outputs": [],
   "source": []
  }
 ],
 "metadata": {
  "kernelspec": {
   "display_name": "Python 3",
   "language": "python",
   "name": "python3"
  },
  "language_info": {
   "codemirror_mode": {
    "name": "ipython",
    "version": 3
   },
   "file_extension": ".py",
   "mimetype": "text/x-python",
   "name": "python",
   "nbconvert_exporter": "python",
   "pygments_lexer": "ipython3",
   "version": "3.7.1"
  }
 },
 "nbformat": 4,
 "nbformat_minor": 2
}
