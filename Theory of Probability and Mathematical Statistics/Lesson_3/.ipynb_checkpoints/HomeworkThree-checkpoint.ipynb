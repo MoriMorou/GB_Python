{
 "cells": [
  {
   "cell_type": "code",
   "execution_count": 74,
   "metadata": {},
   "outputs": [],
   "source": [
    "import warnings\n",
    "\n",
    "import numpy as np\n",
    "import pandas as pd\n",
    "from matplotlib import pyplot as plt\n",
    "\n",
    "warnings.filterwarnings('ignore')"
   ]
  },
  {
   "cell_type": "markdown",
   "metadata": {},
   "source": [
    "### Задача 1\n",
    "\n",
    "Даны значения зарплат из выборки выпускников: \n",
    "\n",
    "100, 80, 75, 77, 89, 33, 45, 25, 65, 17, 30, 24, 57, 55, 70, 75, 65, 84, 90, 150\n",
    "\n",
    "Без использования статистических функций вроде mean, std, var, посчитать среднее арифметическое, среднее квадратичное отклонение, смещенную и несмещенную оценки дисперсий для данной выборки.\n",
    "\n",
    "Можно затем посчитать те же значения с использованием статистических функций, чтобы проверить себя."
   ]
  },
  {
   "cell_type": "code",
   "execution_count": 75,
   "metadata": {},
   "outputs": [],
   "source": [
    "def mean_salary(salary):\n",
    "    if len(salary) > 0:\n",
    "        mean_salary_1 = salary.sum() / len(salary)\n",
    "        mean_salary_2 = salary.mean()\n",
    "        print(f'Среднее арифметическое равно {mean_salary_1} (проверка {mean_salary_2})')\n",
    "\n",
    "def std_salary(salary):\n",
    "    if len(salary) > 0:\n",
    "        std_salary_1 = np.sqrt(((salary - salary.mean()) ** 2).sum() / len(salary))\n",
    "        std_salary_2 = salary.std(ddof=0)\n",
    "        print(f'Среднее квадратичное отклонение {std_salary_1} (проверка {std_salary_2})')\n",
    "\n",
    "def variance_salary1(salary):\n",
    "    if len(salary) > 0:\n",
    "        variance_salary_1 = ((salary - salary.mean()) ** 2).sum() / len(salary)\n",
    "        variance_salary_2 = salary.var(ddof=0)\n",
    "        print(f'Cмещенная оценка дисперсии  {variance_salary_1} (проверка {variance_salary_2})')\n",
    "\n",
    "def variance_salary2(salary):\n",
    "    if len(salary) > 0:\n",
    "        variance_salary2_1 = ((salary - salary.mean()) ** 2).sum() / (len(salary) - 1)\n",
    "        variance_salary2_2 = salary.var(ddof=1)\n",
    "        print(f'Несмещенная оценка дисперсии  {variance_salary2_1} (проверка {variance_salary2_2})')   "
   ]
  },
  {
   "cell_type": "code",
   "execution_count": 76,
   "metadata": {},
   "outputs": [
    {
     "name": "stdout",
     "output_type": "stream",
     "text": [
      "Среднее арифметическое равно 65.3 (проверка 65.3)\n",
      "Среднее квадратичное отклонение 30.823854398825596 (проверка 30.823854398825596)\n",
      "Cмещенная оценка дисперсии  950.11 (проверка 950.11)\n",
      "Несмещенная оценка дисперсии  1000.1157894736842 (проверка 1000.1157894736842)\n"
     ]
    }
   ],
   "source": [
    "salary = np.array([100, 80, 75, 77, 89, 33, 45, 25, 65, 17, 30, 24, 57, 55, 70, 75, 65, 84, 90, 150])\n",
    "mean_salary(salary)\n",
    "std_salary(salary)\n",
    "variance_salary1(salary)\n",
    "variance_salary2(salary)"
   ]
  },
  {
   "cell_type": "markdown",
   "metadata": {},
   "source": [
    "### Задача 2\n",
    "\n",
    "Для выборки из задачи 1 найти первый и третий квартили, интерквартильное расстояние. Найти выборсы в выборке, используя для этого \"усы\" из boxplot. В этой задаче можно использовать статистические функции."
   ]
  },
  {
   "cell_type": "code",
   "execution_count": 77,
   "metadata": {},
   "outputs": [
    {
     "name": "stdout",
     "output_type": "stream",
     "text": [
      "Первый квартиль: 42.0\n",
      "Трейтий квартиль: 81.0\n",
      "Интерквартильное расстояние: 39.0\n"
     ]
    }
   ],
   "source": [
    "df_salary = pd.DataFrame(salary)\n",
    "q1 = df_salary[0].quantile(0.25)\n",
    "q3 = df_salary[0].quantile(0.75)\n",
    "iqr = q3 - q1\n",
    "\n",
    "print(f'Первый квартиль: {q1}')\n",
    "print(f'Трейтий квартиль: {q3}')\n",
    "print(f'Интерквартильное расстояние: {iqr}')"
   ]
  },
  {
   "cell_type": "code",
   "execution_count": 78,
   "metadata": {},
   "outputs": [
    {
     "data": {
      "text/plain": [
       "<matplotlib.axes._subplots.AxesSubplot at 0x114016be0>"
      ]
     },
     "execution_count": 78,
     "metadata": {},
     "output_type": "execute_result"
    },
    {
     "data": {
      "image/png": "[encoded data removed]",
      "text/plain": [
       "<Figure size 432x288 with 1 Axes>"
      ]
     },
     "metadata": {
      "needs_background": "light"
     },
     "output_type": "display_data"
    }
   ],
   "source": [
    "df_salary.boxplot()"
   ]
  },
  {
   "cell_type": "code",
   "execution_count": 79,
   "metadata": {},
   "outputs": [
    {
     "data": {
      "text/plain": [
       "(-16.5, 139.5)"
      ]
     },
     "execution_count": 79,
     "metadata": {},
     "output_type": "execute_result"
    }
   ],
   "source": [
    "boxplot_range = (q1 - 1.5 * iqr, q3 + 1.5 * iqr)\n",
    "boxplot_range"
   ]
  },
  {
   "cell_type": "code",
   "execution_count": 80,
   "metadata": {},
   "outputs": [
    {
     "name": "stdout",
     "output_type": "stream",
     "text": [
      "Выбросы: 150    1\n",
      "Name: 0, dtype: int64\n"
     ]
    }
   ],
   "source": [
    "outliers = df_salary.loc[(df_salary[0] < boxplot_range[0]) | (df_salary[0] > boxplot_range[1])]\n",
    "print(f'Выбросы: {outliers[0].value_counts()}')"
   ]
  },
  {
   "cell_type": "markdown",
   "metadata": {},
   "source": [
    "### Задача 3\n",
    "\n",
    "В университет на факультеты A и B поступило равное количество студентов, а на факультет C студентов поступило столько же, сколько на A и B вместе. Вероятность того, что студент факультета A сдаст первую сессию, равна 0.8. Для студента факультета B эта вероятность равна 0.7, а для студента факультета C - 0.9. Студент сдал первую сессию. Какова вероятность, что он учится: a) на факультете A? б) на факультете B? в) на факультете C?\n",
    "\n",
    "Замечание: да, эта задача не на тему описательных статистик, но тема важная, и её стоит иногда освежать в памяти."
   ]
  },
  {
   "cell_type": "markdown",
   "metadata": {},
   "source": [
    "#### Решение: \n",
    "1. A и B равны и являются половиной C, то очевидно, что вероятность случайного выбора\n",
    "\n",
    "    Вероятность, что студент учится на факультете А: $P(A) = 0.25$\n",
    "    \n",
    "    Вероятность, что студент учится на факультете B: $P(B) = 0.25$\n",
    "    \n",
    "    Вероятность, что студент учится на факультете C: $P(C) = 0.5$\n",
    "    \n",
    "    \n",
    "2. Определим соответственно вероятности сдачи каждого студента\n",
    "    \n",
    "    $P(A_a) = 0.8$\n",
    "    \n",
    "    $P(B_b) = 0.7$\n",
    "    \n",
    "    $P(C_c) = 0.9$\n",
    "    \n",
    "    \n",
    "3. Найдем полную вероятность, что сдатут все студенты:\n",
    "\n",
    "   $P = P(A) \\cdot P(A_a) + P(B) \\cdot P(B_b) + P(C) \\cdot (C_c) $"
   ]
  },
  {
   "cell_type": "code",
   "execution_count": 81,
   "metadata": {},
   "outputs": [
    {
     "data": {
      "text/plain": [
       "0.825"
      ]
     },
     "execution_count": 81,
     "metadata": {},
     "output_type": "execute_result"
    }
   ],
   "source": [
    "P = 0.25 * 0.8 + 0.25 * 0.7 + 0.5 * 0.9\n",
    "P"
   ]
  },
  {
   "cell_type": "markdown",
   "metadata": {},
   "source": [
    "4. Найдем вероятности согласно формуле Байеса"
   ]
  },
  {
   "cell_type": "code",
   "execution_count": 82,
   "metadata": {},
   "outputs": [
    {
     "name": "stdout",
     "output_type": "stream",
     "text": [
      "Вероятность, что студент учится на факультете A: 0.24242424242424246\n"
     ]
    }
   ],
   "source": [
    "P_H1 = 0.8 * 0.25 / 0.825\n",
    "print(f'Вероятность, что студент учится на факультете A: {P_H1}')"
   ]
  },
  {
   "cell_type": "code",
   "execution_count": 83,
   "metadata": {},
   "outputs": [
    {
     "name": "stdout",
     "output_type": "stream",
     "text": [
      "Вероятность, что студент учится на факультете B: 0.21212121212121213\n"
     ]
    }
   ],
   "source": [
    "P_H2 = 0.25 * 0.7 / 0.825\n",
    "print(f'Вероятность, что студент учится на факультете B: {P_H2}')"
   ]
  },
  {
   "cell_type": "code",
   "execution_count": 84,
   "metadata": {},
   "outputs": [
    {
     "name": "stdout",
     "output_type": "stream",
     "text": [
      "Вероятность, что студент учится на факультете C: 0.5454545454545455\n"
     ]
    }
   ],
   "source": [
    "P_H3 = 0.5 * 0.9 / 0.825\n",
    "print(f'Вероятность, что студент учится на факультете C: {P_H3}')"
   ]
  },
  {
   "cell_type": "code",
   "execution_count": 85,
   "metadata": {},
   "outputs": [
    {
     "name": "stdout",
     "output_type": "stream",
     "text": [
      "Проверка: 1.0\n"
     ]
    }
   ],
   "source": [
    "print(f'Проверка: {P_H1 + P_H2 + P_H3}')"
   ]
  },
  {
   "cell_type": "code",
   "execution_count": null,
   "metadata": {},
   "outputs": [],
   "source": []
  }
 ],
 "metadata": {
  "kernelspec": {
   "display_name": "Python 3",
   "language": "python",
   "name": "python3"
  },
  "language_info": {
   "codemirror_mode": {
    "name": "ipython",
    "version": 3
   },
   "file_extension": ".py",
   "mimetype": "text/x-python",
   "name": "python",
   "nbconvert_exporter": "python",
   "pygments_lexer": "ipython3",
   "version": "3.7.1"
  }
 },
 "nbformat": 4,
 "nbformat_minor": 2
}
