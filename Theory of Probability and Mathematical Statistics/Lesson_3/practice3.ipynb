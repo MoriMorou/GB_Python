{
 "cells": [
  {
   "cell_type": "markdown",
   "metadata": {
    "colab_type": "text",
    "id": "snzQ6I-GNKuz"
   },
   "source": [
    "# Урок 3"
   ]
  },
  {
   "cell_type": "markdown",
   "metadata": {
    "colab_type": "text",
    "id": "AbhQJaRUNKu7"
   },
   "source": [
    "## Описательная статистика. Качественные и количественные характеристики популяции. Графическое представление данных"
   ]
  },
  {
   "cell_type": "markdown",
   "metadata": {},
   "source": [
    "### Генеральная совокупность и выборка\n",
    "\n",
    "__Генеральная совокупность__ — это множество, которое содержит данные обо всех объектах, соответствующих определённым характеристикам.\n",
    "\n",
    "__Выборка__ — это случайным образом выбранная часть генеральной совокупности.\n",
    "\n",
    "По выборкам можно оценивать характеристики рассматриваемых объектов. Например, если дана выборка из значений некоторой случайной величины, с помощью этой выборки можно попытаться оценить параметры этой выборки.\n"
   ]
  },
  {
   "cell_type": "markdown",
   "metadata": {
    "colab_type": "text",
    "id": "eoIjKvLSNKu-"
   },
   "source": [
    "__Статистика__ — это любая функция от выборки.\n",
    "\n",
    "Познакомимся со статистиками на примере датасета с данными по хоккеистам. Данные доступны [здесь](https://habr.com/post/301340/)."
   ]
  },
  {
   "cell_type": "code",
   "execution_count": 1,
   "metadata": {
    "colab": {},
    "colab_type": "code",
    "id": "MPDgZjuQNKvB"
   },
   "outputs": [],
   "source": [
    "import warnings\n",
    "\n",
    "import numpy as np\n",
    "import pandas as pd\n",
    "from matplotlib import pyplot as plt\n",
    "\n",
    "warnings.filterwarnings('ignore')"
   ]
  },
  {
   "cell_type": "markdown",
   "metadata": {},
   "source": [
    "Импортируем и подготовим данные."
   ]
  },
  {
   "cell_type": "code",
   "execution_count": 2,
   "metadata": {
    "colab": {},
    "colab_type": "code",
    "id": "MM9S4bbbNKvO"
   },
   "outputs": [],
   "source": [
    "df = pd.read_csv('hockey_players.csv', encoding='cp1251', parse_dates=['birth'])\n",
    "\n",
    "df = df.drop_duplicates(['name', 'birth'])"
   ]
  },
  {
   "cell_type": "markdown",
   "metadata": {},
   "source": [
    "Пусть дана выборка $x = (x_1, x_2, \\dots, x_m)$ из значений одномерной случайной величины. Одной из наиболее естественных статистик таких выборок является __среднее арифметическое__ (или __выборочное среднее__):\n",
    "\n",
    "$$\\overline{x} = \\dfrac{1}{m} \\displaystyle\\sum_{i = 1}^m x_i.$$\n",
    "\n",
    "Выборочное среднее является оценкой для математического ожидания.\n",
    "\n",
    "__Пример 1__\n",
    "\n",
    "Найдем выборочное среднее роста хоккеистов из датасета по формуле."
   ]
  },
  {
   "cell_type": "code",
   "execution_count": 5,
   "metadata": {
    "colab": {},
    "colab_type": "code",
    "id": "8yLDxwZINKv0",
    "outputId": "0155a822-b490-4a6b-e2f7-1f541b92c7a2"
   },
   "outputs": [
    {
     "data": {
      "text/plain": [
       "183.829386763813"
      ]
     },
     "execution_count": 5,
     "metadata": {},
     "output_type": "execute_result"
    }
   ],
   "source": [
    "mean_height = df['height'].sum() / df['height'].count()\n",
    "mean_height"
   ]
  },
  {
   "cell_type": "markdown",
   "metadata": {
    "colab_type": "text",
    "id": "apehcU5jNKwF"
   },
   "source": [
    "Эту же величину можно вычислить сразу с помощью метода `.mean`."
   ]
  },
  {
   "cell_type": "code",
   "execution_count": 6,
   "metadata": {
    "colab": {},
    "colab_type": "code",
    "id": "4tPnNQLtNKwJ",
    "outputId": "ac803f70-298f-420a-9402-0f40fc385e52"
   },
   "outputs": [
    {
     "data": {
      "text/plain": [
       "183.829386763813"
      ]
     },
     "execution_count": 6,
     "metadata": {},
     "output_type": "execute_result"
    }
   ],
   "source": [
    "df['height'].mean()"
   ]
  },
  {
   "cell_type": "markdown",
   "metadata": {},
   "source": [
    "Другой важной статистикой выборки является __среднее квадратическое отклонение__:\n",
    "\n",
    "$$\\sigma = \\sqrt{\\dfrac{1}{m} \\displaystyle\\sum_{i = 1}^m (x_i - \\overline{x})^2}.$$\n",
    "\n",
    "Оно показывает уровень «разброса» элементов выборки относительно выборочного среднего.\n",
    "\n",
    "__Пример 2__\n",
    "\n",
    "Посчитаем среднее квадратическое отклонение роста хоккеистов."
   ]
  },
  {
   "cell_type": "code",
   "execution_count": 8,
   "metadata": {},
   "outputs": [
    {
     "data": {
      "text/plain": [
       "0         1.370335\n",
       "1        17.394015\n",
       "2         3.346656\n",
       "3        33.981750\n",
       "4        77.958071\n",
       "5        84.100147\n",
       "6        61.299297\n",
       "7         0.687882\n",
       "8        14.664203\n",
       "9        33.981750\n",
       "10       10.052788\n",
       "11        1.370335\n",
       "12      200.806279\n",
       "13       77.958071\n",
       "14       33.981750\n",
       "15        8.005429\n",
       "16      103.441374\n",
       "17        4.711562\n",
       "18        0.029109\n",
       "19       33.981750\n",
       "20       77.958071\n",
       "21       10.052788\n",
       "22       14.664203\n",
       "23       17.394015\n",
       "24        3.346656\n",
       "25        3.346656\n",
       "26       77.958071\n",
       "27       17.394015\n",
       "28       38.076468\n",
       "29        8.005429\n",
       "           ...    \n",
       "6248     14.664203\n",
       "6249      0.029109\n",
       "6250      0.029109\n",
       "6251      3.346656\n",
       "6256      0.029109\n",
       "6257     26.735241\n",
       "6258     14.664203\n",
       "6259      4.711562\n",
       "6260     10.052788\n",
       "6262     14.664203\n",
       "6264     14.664203\n",
       "6267     77.958071\n",
       "6268     51.417694\n",
       "6269     17.394015\n",
       "6272     77.958071\n",
       "6273     33.981750\n",
       "6274     51.417694\n",
       "6275     77.958071\n",
       "6277     77.958071\n",
       "6278      1.370335\n",
       "6279     51.417694\n",
       "6282     17.394015\n",
       "6283      1.370335\n",
       "6284     17.394015\n",
       "6285     33.981750\n",
       "6286     14.664203\n",
       "6288     33.981750\n",
       "6289     51.417694\n",
       "6290     17.394015\n",
       "6291     84.100147\n",
       "Name: height, Length: 3294, dtype: float64"
      ]
     },
     "execution_count": 8,
     "metadata": {},
     "output_type": "execute_result"
    }
   ],
   "source": [
    "(df['height'] - df['height'].mean()) ** 2"
   ]
  },
  {
   "cell_type": "code",
   "execution_count": 9,
   "metadata": {
    "colab": {},
    "colab_type": "code",
    "id": "-iwdVe-hNKwe",
    "outputId": "cee32cc3-f0fc-46c6-f107-04db37e290e1"
   },
   "outputs": [
    {
     "data": {
      "text/plain": [
       "5.46679870562426"
      ]
     },
     "execution_count": 9,
     "metadata": {},
     "output_type": "execute_result"
    }
   ],
   "source": [
    "height_std = np.sqrt(((df['height'] - df['height'].mean()) ** 2).sum() / df['height'].count())\n",
    "height_std"
   ]
  },
  {
   "cell_type": "markdown",
   "metadata": {
    "colab_type": "text",
    "id": "PcpU5rPFNKwm"
   },
   "source": [
    "Эту же величину можно вычислить сразу с помощью метода `.std`."
   ]
  },
  {
   "cell_type": "code",
   "execution_count": 13,
   "metadata": {
    "colab": {},
    "colab_type": "code",
    "id": "3FvEacT6NKwo",
    "outputId": "9b2e88aa-63a2-4ca0-9dae-aa88bd688c14"
   },
   "outputs": [
    {
     "data": {
      "text/plain": [
       "5.46679870562426"
      ]
     },
     "execution_count": 13,
     "metadata": {},
     "output_type": "execute_result"
    }
   ],
   "source": [
    "df['height'].std(ddof=0)"
   ]
  },
  {
   "cell_type": "markdown",
   "metadata": {},
   "source": [
    "Дисперсию случайной величины можно оценивать средним квадратическим отклонением выборки, возведённым в квадрат:\n",
    "\n",
    "$$\\sigma^2 = \\dfrac{1}{m} \\displaystyle\\sum_{i = 1}^m (x_i - \\overline{x})^2.$$\n",
    "\n",
    "\n",
    "Такая оценка дисперсии называется __смещённой выборочной дисперсией__.\n",
    "\n",
    "__Пример 3__\n",
    "\n",
    "Посчитаем дисперсию роста хоккеистов."
   ]
  },
  {
   "cell_type": "code",
   "execution_count": 12,
   "metadata": {
    "colab": {},
    "colab_type": "code",
    "id": "jNZh3cbjNKw6",
    "outputId": "c0047472-442e-4426-c936-d542c79b2084"
   },
   "outputs": [
    {
     "data": {
      "text/plain": [
       "29.885888087815086"
      ]
     },
     "execution_count": 12,
     "metadata": {},
     "output_type": "execute_result"
    }
   ],
   "source": [
    "height_variance = ((df['height'] - df['height'].mean()) ** 2).sum() / df['height'].count()\n",
    "height_variance"
   ]
  },
  {
   "cell_type": "markdown",
   "metadata": {},
   "source": [
    "__Несмещённая__ (или __исправленная__) __выборочная дисперсия__ вычисляется немного иначе:\n",
    "\n",
    "$$\\sigma_{\\text{unbiased}}^2 = \\dfrac{1}{m - 1} \\displaystyle\\sum_{i = 1}^m (x_i - \\overline{x})^2.$$\n",
    "\n",
    "Почему несмещённая?\n",
    "\n",
    "На самом деле каждый объект из выборки — это тоже случайная величина (поскольку выбирается _случайным_ образом). В таком случае и любая статистика (т.е. функция от выборки) является случайной величиной.\n",
    "\n",
    "Оценка некоторого параметра случайной величины называется __несмещённой__, если математическое ожидание этой оценки равняется реальному значению этого параметра.\n",
    "\n",
    "Например, выборочное среднее является несмещённой оценкой математического ожидания.\n",
    "\n",
    "Оказывается, среднее квадратическое отклонение, возведённое в квадрат, не является несмещённой оценкой реальной дисперсии: если берётся выборка $x = (x_1, x_2, \\dots, x_m)$ из значений случайной величины $X$, то\n",
    "\n",
    "$$M(\\sigma^2) = \\dfrac{m - 1}{m} \\cdot D(X).$$\n",
    "\n",
    "Поэтому для оценки дисперсии используется именно несмещённая выборочная дисперсия.\n",
    "\n",
    "__Пример 4__\n",
    "\n",
    "Посчитаем несмещённую выборочную дисперсию роста хоккеистов."
   ]
  },
  {
   "cell_type": "code",
   "execution_count": 16,
   "metadata": {
    "colab": {},
    "colab_type": "code",
    "id": "WyB-XRAeNKxQ",
    "outputId": "c3941a40-3ecc-456c-d978-5ae43d93be66"
   },
   "outputs": [
    {
     "data": {
      "text/plain": [
       "29.894963668771"
      ]
     },
     "execution_count": 16,
     "metadata": {},
     "output_type": "execute_result"
    }
   ],
   "source": [
    "height_variance2 = ((df['height'] - df['height'].mean())**2).sum() / (df['height'].count() - 1)\n",
    "height_variance2"
   ]
  },
  {
   "cell_type": "markdown",
   "metadata": {
    "colab_type": "text",
    "id": "cscW2xopNKxi"
   },
   "source": [
    "Оценки дисперсии можно посчитать с помощью метода `.var`. Смещённая:"
   ]
  },
  {
   "cell_type": "code",
   "execution_count": 18,
   "metadata": {
    "colab": {},
    "colab_type": "code",
    "id": "RdNP_457NKxk",
    "outputId": "189e7202-ff79-414b-8699-68f508bf4140"
   },
   "outputs": [
    {
     "data": {
      "text/plain": [
       "29.885888087815086"
      ]
     },
     "execution_count": 18,
     "metadata": {},
     "output_type": "execute_result"
    }
   ],
   "source": [
    "df['height'].var(ddof=0)"
   ]
  },
  {
   "cell_type": "markdown",
   "metadata": {
    "colab_type": "text",
    "id": "TJ_GG2LDNKx0"
   },
   "source": [
    "и несмещённая:"
   ]
  },
  {
   "cell_type": "code",
   "execution_count": 19,
   "metadata": {
    "colab": {},
    "colab_type": "code",
    "id": "oLdDIWUaNKx2",
    "outputId": "380d8ebb-b749-45c9-ac02-9b56296a5c46"
   },
   "outputs": [
    {
     "data": {
      "text/plain": [
       "29.894963668771"
      ]
     },
     "execution_count": 19,
     "metadata": {},
     "output_type": "execute_result"
    }
   ],
   "source": [
    "df['height'].var(ddof=1)"
   ]
  },
  {
   "cell_type": "markdown",
   "metadata": {
    "colab_type": "text",
    "id": "HGAvSJ_mNKx-"
   },
   "source": [
    "Аргумент `ddof` (_Delta Degrees of Freedom_) указывает то, какую величину нужно отнять от числа наблюдений $m$, которое находится в формуле дисперсии в делителе."
   ]
  },
  {
   "cell_type": "markdown",
   "metadata": {},
   "source": [
    "### Мода,  медиана, квантиль\n",
    "\n",
    "__Мода__ — наиболее часто встречающееся в выборке значение. Мода оценивает самое вероятное значение случайной величины.\n",
    "\n",
    "Вычисление моды отличается для дискретных и _непрерывных_ случайных величин (о последних мы поговорим позже). Поэтому для примера возьмём какой-нибудь дискретный признак из наших данных. Таковым является, например, вес: он в таблице представлен целыми числами. \n",
    "\n",
    "__Пример 5__\n",
    "\n",
    "Для начала посмотрим, как часто встречаются в выборке те или иные значения веса. Это можно сделать с помощью метода `.value_counts`:"
   ]
  },
  {
   "cell_type": "code",
   "execution_count": 22,
   "metadata": {},
   "outputs": [
    {
     "data": {
      "text/plain": [
       "90.0     225\n",
       "88.0     213\n",
       "80.0     203\n",
       "85.0     199\n",
       "86.0     182\n",
       "84.0     179\n",
       "83.0     159\n",
       "82.0     159\n",
       "93.0     151\n",
       "91.0     149\n",
       "87.0     147\n",
       "92.0     133\n",
       "89.0     133\n",
       "95.0     121\n",
       "78.0      93\n",
       "94.0      86\n",
       "98.0      81\n",
       "81.0      73\n",
       "100.0     73\n",
       "96.0      69\n",
       "79.0      66\n",
       "75.0      54\n",
       "77.0      43\n",
       "97.0      40\n",
       "76.0      39\n",
       "99.0      31\n",
       "74.0      28\n",
       "72.0      23\n",
       "103.0     23\n",
       "104.0     17\n",
       "101.0     17\n",
       "73.0      16\n",
       "102.0     13\n",
       "105.0     13\n",
       "70.0       9\n",
       "106.0      7\n",
       "108.0      6\n",
       "71.0       6\n",
       "110.0      4\n",
       "109.0      3\n",
       "107.0      2\n",
       "117.0      2\n",
       "112.0      1\n",
       "116.0      1\n",
       "81.5       1\n",
       "65.0       1\n",
       "Name: weight, dtype: int64"
      ]
     },
     "execution_count": 22,
     "metadata": {},
     "output_type": "execute_result"
    }
   ],
   "source": [
    "df['weight'].value_counts()"
   ]
  },
  {
   "cell_type": "markdown",
   "metadata": {},
   "source": [
    "Чаще всего встречается значение $90$. Это и есть мода. Её можно также посчитать с помощью метода `.mode`:"
   ]
  },
  {
   "cell_type": "code",
   "execution_count": 23,
   "metadata": {},
   "outputs": [
    {
     "data": {
      "text/plain": [
       "0    90.0\n",
       "dtype: float64"
      ]
     },
     "execution_count": 23,
     "metadata": {},
     "output_type": "execute_result"
    }
   ],
   "source": [
    "df['weight'].mode()"
   ]
  },
  {
   "cell_type": "markdown",
   "metadata": {},
   "source": [
    "__Медиана выборки__ — такое значение $a$, что ровно половина элементов из выборки меньше, либо равна $a$ (и, соответственно, ровно половина больше, либо равна $a$).\n",
    "\n",
    "__Пример 6__\n",
    "\n",
    "Посчитаем медиану роста хоккеистов."
   ]
  },
  {
   "cell_type": "code",
   "execution_count": 38,
   "metadata": {},
   "outputs": [
    {
     "data": {
      "text/plain": [
       "184.0"
      ]
     },
     "execution_count": 38,
     "metadata": {},
     "output_type": "execute_result"
    }
   ],
   "source": [
    "df['height'].median()"
   ]
  },
  {
   "cell_type": "markdown",
   "metadata": {},
   "source": [
    "Понятие __квантиля__ обобщает понятие медианы. Если $\\alpha \\in (0, 1)$, то квантилем порядка $\\alpha$ называется такое значение $X_\\alpha$, что\n",
    "\n",
    "$$P(X \\leq X_\\alpha) \\geq \\alpha, \\text{ } P(X \\geq X_\\alpha) \\geq 1 - \\alpha.$$\n",
    "\n",
    "На практике это означает, что ровно доля $\\alpha$ от всех значений выборки оказываются меньше, либо равны $X_\\alpha$ и, наоборот, доля $1 - \\alpha$ от значений больше, либо равны $X_\\alpha$.\n",
    "\n",
    "В частности, медиана является квантилем порядка $0.5$. Кроме того, часто используют\n",
    "\n",
    "* __первый квартиль__ — квантиль порядка $0.25$ (т.е. значение, которое не превышают $25 \\%$ значений из выборки),\n",
    "* __второй квартиль__ — то же, что и медиана,\n",
    "* __третий квартиль__ — квантиль порядка $0.75$.\n",
    "\n",
    "Квантили можно посчитать с помощью метода `.quantile`:\n",
    "\n",
    "__Пример 7__\n",
    "\n",
    "Посчитаем несколько квантилей роста хоккеистов."
   ]
  },
  {
   "cell_type": "code",
   "execution_count": 39,
   "metadata": {},
   "outputs": [
    {
     "data": {
      "text/plain": [
       "184.0"
      ]
     },
     "execution_count": 39,
     "metadata": {},
     "output_type": "execute_result"
    }
   ],
   "source": [
    "df['height'].quantile(0.5)"
   ]
  },
  {
   "cell_type": "markdown",
   "metadata": {},
   "source": [
    "В этот метод можно подать список значений, тогда посчитаются различные квантили:"
   ]
  },
  {
   "cell_type": "code",
   "execution_count": 40,
   "metadata": {},
   "outputs": [
    {
     "data": {
      "text/plain": [
       "0.25    180.0\n",
       "0.50    184.0\n",
       "0.75    188.0\n",
       "Name: height, dtype: float64"
      ]
     },
     "execution_count": 40,
     "metadata": {},
     "output_type": "execute_result"
    }
   ],
   "source": [
    "df['height'].quantile([0.25, 0.5, 0.75])"
   ]
  },
  {
   "cell_type": "markdown",
   "metadata": {},
   "source": [
    "__Интерквартильный размах__ — это отрезок между первым и третьим квартилями. Это отрезок, в который попадают $50 \\%$ значений выборки.\n",
    "\n",
    "Интерквартильный размах используется для измерения разброса значений выборки вокруг среднего. Иногда его использование оказывается более предпочтительным, чем использование среднего квадратического отклонения, поскольку не учитывает выбросы в данных.\n",
    "\n",
    "Например, в наших данных интерквартильный размах — это отрезок от $180$ до $188$. _Интерквартильное расстояние_ в этом случае равно $8$.\n",
    "\n",
    "В зависимости от задачи и удобства могут также встречаться __децили__ и __перцентили__.\n",
    "\n",
    "__Децили__ — то же, что и квартили, но делим мы не на $4$ части, а на $10$. Например, медиана будет _пятым децилем_.\n",
    "\n",
    "__Перцентили__ — это просто другой способ задать квантиль. Здесь мы используем не долю $\\alpha \\in (0, 1)$, а процент. Например, третий квартиль будет $75$-перцентилем."
   ]
  },
  {
   "cell_type": "markdown",
   "metadata": {
    "colab_type": "text",
    "id": "PNmx54fYNKyY"
   },
   "source": [
    "### Графическое представление данных\n",
    "\n",
    "Для визуализации распределения значений выборки часто используется гистограмма. Как строится гистограмма?\n",
    "\n",
    "1. По оси $x$ откладываются всевозможные значения из выборки. \n",
    "2. Вся ось разбивается на какое-то заданное число одинаковых отрезков.\n",
    "3. Для каждого отрезка вычисляется число значений выборки, которые лежат в этом отрезке, и это число откладывается по оси $y$.\n",
    "\n",
    "__Пример 8__\n",
    "\n",
    "Построим гистограмму значений роста. Для этого можно использовать метод `.hist`. В качестве аргумента `bins` сюда подаётся то число одинаковых отрезков, на которое мы разбиваем ось $x$."
   ]
  },
  {
   "cell_type": "code",
   "execution_count": 49,
   "metadata": {},
   "outputs": [
    {
     "data": {
      "text/plain": [
       "<matplotlib.axes._subplots.AxesSubplot at 0x7fa0eaef16a0>"
      ]
     },
     "execution_count": 49,
     "metadata": {},
     "output_type": "execute_result"
    },
    {
     "data": {
      "image/png": "[encoded data removed]",
      "text/plain": [
       "<Figure size 432x288 with 1 Axes>"
      ]
     },
     "metadata": {
      "needs_background": "light"
     },
     "output_type": "display_data"
    }
   ],
   "source": [
    "df['height'].hist(bins=15)"
   ]
  },
  {
   "cell_type": "markdown",
   "metadata": {
    "colab_type": "text",
    "collapsed": true,
    "id": "KwJ_RM31NKyo"
   },
   "source": [
    "Построим гистограмму ещё раз, указав в качестве аргумента `bins` число $20$, чтобы получить более детальную картину:"
   ]
  },
  {
   "cell_type": "code",
   "execution_count": 57,
   "metadata": {},
   "outputs": [
    {
     "data": {
      "text/plain": [
       "<matplotlib.axes._subplots.AxesSubplot at 0x7fa0e85aa940>"
      ]
     },
     "execution_count": 57,
     "metadata": {},
     "output_type": "execute_result"
    },
    {
     "data": {
      "image/png": "[encoded data removed]",
      "text/plain": [
       "<Figure size 432x288 with 1 Axes>"
      ]
     },
     "metadata": {
      "needs_background": "light"
     },
     "output_type": "display_data"
    }
   ],
   "source": [
    "df['height'].hist(bins=20)"
   ]
  },
  {
   "cell_type": "markdown",
   "metadata": {},
   "source": [
    "Другой способ визуализировать одномерные данные — __boxplot__ или __ящик с усами__. В самом ящике отмечены квартили $Q1$, $Q2$ (медиана), $Q3$. «Усы» здесь — границы отрезка\n",
    "$\\left[ Q1 - 1.5 \\times IQR, \\text{ } Q3 + 1.5 \\times IQR \\right],$\n",
    "где $IQR$ — интерквартильное расстояние.\n",
    "\n",
    "__Пример 9__\n",
    "\n",
    "Построим `boxplot` роста хоккеистов."
   ]
  },
  {
   "cell_type": "code",
   "execution_count": 58,
   "metadata": {},
   "outputs": [
    {
     "data": {
      "text/plain": [
       "<matplotlib.axes._subplots.AxesSubplot at 0x7fa0e84b50f0>"
      ]
     },
     "execution_count": 58,
     "metadata": {},
     "output_type": "execute_result"
    },
    {
     "data": {
      "image/png": "[encoded data removed]",
      "text/plain": [
       "<Figure size 432x288 with 1 Axes>"
      ]
     },
     "metadata": {
      "needs_background": "light"
     },
     "output_type": "display_data"
    }
   ],
   "source": [
    "df[['height']].boxplot()"
   ]
  },
  {
   "cell_type": "markdown",
   "metadata": {},
   "source": [
    "Всё, что выходит за границы этого отрезка, считается выбросами (отмечены кружками). Посчитаем, сколько значений роста оказалось за пределами «усов»."
   ]
  },
  {
   "cell_type": "code",
   "execution_count": 61,
   "metadata": {},
   "outputs": [
    {
     "data": {
      "text/plain": [
       "(168.0, 200.0)"
      ]
     },
     "execution_count": 61,
     "metadata": {},
     "output_type": "execute_result"
    }
   ],
   "source": [
    "q1 = df['height'].quantile(0.25)\n",
    "q3 = df['height'].quantile(0.75)\n",
    "\n",
    "iqr = q3 - q1\n",
    "\n",
    "boxplot_range = (q1 - 1.5 * iqr, q3 + 1.5 * iqr)\n",
    "boxplot_range"
   ]
  },
  {
   "cell_type": "code",
   "execution_count": 62,
   "metadata": {},
   "outputs": [
    {
     "data": {
      "text/plain": [
       "19"
      ]
     },
     "execution_count": 62,
     "metadata": {},
     "output_type": "execute_result"
    }
   ],
   "source": [
    "outliers = df.loc[(df['height'] < boxplot_range[0]) | (df['height'] > boxplot_range[1])]\n",
    "\n",
    "outliers.shape[0]"
   ]
  },
  {
   "cell_type": "markdown",
   "metadata": {},
   "source": [
    "Доля выбросов:"
   ]
  },
  {
   "cell_type": "code",
   "execution_count": 63,
   "metadata": {},
   "outputs": [
    {
     "data": {
      "text/plain": [
       "0.005768063145112325"
      ]
     },
     "execution_count": 63,
     "metadata": {},
     "output_type": "execute_result"
    }
   ],
   "source": [
    "outliers.shape[0] / df.shape[0]"
   ]
  },
  {
   "cell_type": "markdown",
   "metadata": {},
   "source": [
    "### Упражнения"
   ]
  },
  {
   "cell_type": "markdown",
   "metadata": {},
   "source": [
    "__Задача 1__\n",
    "\n",
    "Даны значения зарплат из выборки выпускников: \n",
    "```\n",
    "100, 80, 75, 77, 89, 33, 45, 25, 65, 17, 30, 24, 57, 55, 70, 75, 65, 84, 90, 150.\n",
    "```\n",
    "Без использования статистических функций вроде `mean`, `std`, `var`, посчитать среднее арифметическое, среднее квадратичное отклонение, смещенную и несмещенную оценки дисперсий для данной выборки.\n",
    "\n",
    "Можно затем посчитать те же значения с использованием статистических функций, чтобы проверить себя.\n",
    "\n",
    "__Задача 2__\n",
    "\n",
    "Для выборки из задачи 1 найти первый и третий квартили, интерквартильное расстояние. Найти выборсы в выборке, используя для этого \"усы\" из `boxplot`. В этой задаче можно использовать статистические функции.\n",
    "\n",
    "__Задача 3__\n",
    "\n",
    "В университет на факультеты `A` и `B` поступило равное количество студентов, а на факультет `C` студентов поступило столько же, сколько на `A` и `B` вместе. Вероятность того, что студент факультета `A` сдаст первую сессию, равна 0.8. Для студента факультета `B` эта вероятность равна 0.7, а для студента факультета `C` - 0.9. Студент сдал первую сессию. Какова вероятность, что он учится: a) на факультете `A`? б) на факультете `B`? в) на факультете `C`?\n",
    "\n",
    "_Замечание_: да, эта задача не на тему описательных статистик, но тема важная, и её стоит иногда освежать в памяти."
   ]
  }
 ],
 "metadata": {
  "colab": {
   "name": "Матстат - Урок 3.ipynb",
   "provenance": [],
   "version": "0.3.2"
  },
  "kernelspec": {
   "display_name": "Python 3",
   "language": "python",
   "name": "python3"
  },
  "language_info": {
   "codemirror_mode": {
    "name": "ipython",
    "version": 3
   },
   "file_extension": ".py",
   "mimetype": "text/x-python",
   "name": "python",
   "nbconvert_exporter": "python",
   "pygments_lexer": "ipython3",
   "version": "3.7.1"
  }
 },
 "nbformat": 4,
 "nbformat_minor": 1
}
