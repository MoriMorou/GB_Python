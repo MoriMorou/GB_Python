{
 "cells": [
  {
   "cell_type": "code",
   "execution_count": 6,
   "metadata": {},
   "outputs": [],
   "source": [
    "import numpy as np\n",
    "from scipy import stats\n",
    "import numpy as np"
   ]
  },
  {
   "cell_type": "markdown",
   "metadata": {},
   "source": [
    "### Задача 1\n",
    "\n",
    "Утверждается, что шарики для подшипников, изготовленные автоматическим станком, имеют средний диаметр 17 мм. Используя уровень значимости 0.025 и правостороннюю критическую область, проверить данную гипотезу при условии, что в выборке из 100 шариков средний диаметр оказался равным 17.5 мм, а дисперсия известна и равна 4 мм."
   ]
  },
  {
   "cell_type": "markdown",
   "metadata": {},
   "source": [
    "### Решение:\n",
    "\n",
    "#### 1. Формулируются нулевая и альтернативная гипотезы.\n",
    "1) Гипотеза $H_0$: средний диаметр шарика для подшипников равен 17 мм.\n",
    "\n",
    "2) Гипотеза $H_1$: средний диаметр шарика для подшипников больше 17 мм.\n",
    "\n",
    "#### 2. Задаётся некоторая функция Т от выборки\n",
    "Предполагается, что количество шариков большое, то распределение диаметра шариков является нормальным или близким к нему. Т.к. случайная величина диаметра имеет нормальное распределение, то среднее значение повыборке $T$ будет также иметь нормальное распределение с параметрами $a = 17$ и $\\sigma = \\sqrt{\\dfrac{D(X)}{n}} = \\sqrt {\\dfrac{4}{100}} = 0.2 $"
   ]
  },
  {
   "cell_type": "code",
   "execution_count": 7,
   "metadata": {},
   "outputs": [
    {
     "data": {
      "text/plain": [
       "0.2"
      ]
     },
     "execution_count": 7,
     "metadata": {},
     "output_type": "execute_result"
    }
   ],
   "source": [
    "a = 17\n",
    "m = 17.5\n",
    "n = 100\n",
    "D = 4\n",
    "sigma = np.sqrt(D/n)\n",
    "sigma"
   ]
  },
  {
   "cell_type": "markdown",
   "metadata": {},
   "source": [
    "#### 3. Фиксируется уровень значимости  𝛼\n",
    "- допустимая для данной задачи вероятность ошибки первого рода (чаще всего 0.01, 0.05 или 0.1)."
   ]
  },
  {
   "cell_type": "code",
   "execution_count": 8,
   "metadata": {},
   "outputs": [],
   "source": [
    "alpha = 0.05"
   ]
  },
  {
   "cell_type": "markdown",
   "metadata": {},
   "source": [
    "#### 4. Определяется критическая область $\\Omega_\\alpha = (t_{1 - \\alpha}, \\infty)$.\n",
    "\n",
    "Выбранный уровень значимости $\\alpha = 0.05$ означает, что для проверки гипотезы о среднем значении a = 17 требуется, чтобы с вероятностью 95% выборочное среднее попадало в правосторонний интервал, который (по правилу 2-х сигм) равен $(a, a + 2 \\cdot \\sigma)$.\n",
    "\n",
    "То есть критическая область лежит правее точки $a + 2 \\cdot \\sigma $ и если выборочное среднее = 17.5 попадёт в критическую область, то основная гипотеза отвергается."
   ]
  },
  {
   "cell_type": "code",
   "execution_count": 9,
   "metadata": {},
   "outputs": [
    {
     "data": {
      "text/plain": [
       "(17, 17.4)"
      ]
     },
     "execution_count": 9,
     "metadata": {},
     "output_type": "execute_result"
    }
   ],
   "source": [
    "(a, a + 2*sigma)"
   ]
  },
  {
   "cell_type": "markdown",
   "metadata": {},
   "source": [
    "#### 5. Проводится статистический тест\n",
    "Для конкретной выборки  𝑋  считается значение  𝑇(𝑋) , и если оно принадлежит  Ω𝑎𝑙𝑝ℎ𝑎 , то заключаем, что данные противоречат гипотезе  𝐻0 , и принимается гипотеза  𝐻1.\n",
    "\n",
    "Гипотеза о том, что шарики для подшипников имеют средний диаметр 17 мм, при выбранном уровне значимости $\\alpha = 0.05$ отвергается."
   ]
  },
  {
   "cell_type": "markdown",
   "metadata": {},
   "source": [
    "### Задача 2\n",
    "\n",
    "Известно, что генеральная совокупность распределена нормально со средним квадратическим отклонением 16. Найти доверительный интервал для оценки математического ожидания a с надежностью 0.95, если выборочное среднее равно 80, а объём равен 256."
   ]
  },
  {
   "cell_type": "markdown",
   "metadata": {},
   "source": [
    "### Решение:\n",
    "\n",
    "Найдем доверительный интервал согласно формуле: $$\n",
    "P \\left( \n",
    "\\overline{X} - t_{1 - \\alpha/2, \\: n - 1} \\cdot \\dfrac{S}{\\sqrt{n}} \n",
    "\\leq M(X) \\leq\n",
    "\\overline{X} + t_{1 - \\alpha/2, \\: n - 1} \\cdot \\dfrac{S}{\\sqrt{n}} \n",
    "\\right) = 1 - \\alpha.\n",
    "$$\n",
    "\n",
    "где\n",
    "$\\overline{X} -  = 80$,\n",
    "$S = 16$,\n",
    "$n = 256$,"
   ]
  },
  {
   "cell_type": "code",
   "execution_count": 13,
   "metadata": {},
   "outputs": [
    {
     "name": "stdout",
     "output_type": "stream",
     "text": [
      "Доверительный интервал равен: (78.0, 82.0)\n"
     ]
    }
   ],
   "source": [
    "std_ = 16\n",
    "mean_ = 80\n",
    "n = 256\n",
    "print ('Доверительный интервал равен:', (mean_ - 2*std_/np.sqrt(n), mean_ + 2*std_/np.sqrt(n)))"
   ]
  },
  {
   "cell_type": "markdown",
   "metadata": {},
   "source": [
    "### Задача 3\n",
    "\n",
    "Продавец утверждает, что средний вес пачки печенья составляет 200 г. Из партии извлечена выборка из 10 пачек. Вес каждой пачки составляет:\n",
    "\n",
    "202, 203, 199, 197, 195, 201, 200, 204, 194, 190\n",
    "\n",
    "Известно, что их веса распределены нормально. Верно ли утверждение продавца, если учитывать, что доверительная вероятность равна 99%?"
   ]
  },
  {
   "cell_type": "markdown",
   "metadata": {},
   "source": [
    "### Решение:\n",
    "Найдем доверительный интервал, чтобы проверить гипотезу, что среднее значение веса пачки 200 г."
   ]
  },
  {
   "cell_type": "code",
   "execution_count": 20,
   "metadata": {},
   "outputs": [
    {
     "name": "stdout",
     "output_type": "stream",
     "text": [
      "𝜎 = 4.453463071962462\n"
     ]
    }
   ],
   "source": [
    "sample = np.array([202, 203, 199, 197, 195, 201, 200, 204, 194, 190])\n",
    "m = sample.mean()\n",
    "n = 10\n",
    "sigma = np.sqrt(((sample - m)**2).sum()/(n-1))\n",
    "print ('𝜎 =', sigma)"
   ]
  },
  {
   "cell_type": "markdown",
   "metadata": {},
   "source": [
    "Табличное значение коэффициента Стьюдента"
   ]
  },
  {
   "cell_type": "code",
   "execution_count": 21,
   "metadata": {},
   "outputs": [],
   "source": [
    "t_int = 2.8214"
   ]
  },
  {
   "cell_type": "markdown",
   "metadata": {},
   "source": [
    "Проверим, что коэффицент Стьюдента = 2.8214, соответствует вероятности ="
   ]
  },
  {
   "cell_type": "code",
   "execution_count": 22,
   "metadata": {},
   "outputs": [
    {
     "data": {
      "text/plain": [
       "0.9899993808040004"
      ]
     },
     "execution_count": 22,
     "metadata": {},
     "output_type": "execute_result"
    }
   ],
   "source": [
    "t = stats.t(n-1)\n",
    "t.cdf(2.8214)"
   ]
  },
  {
   "cell_type": "code",
   "execution_count": 23,
   "metadata": {},
   "outputs": [
    {
     "name": "stdout",
     "output_type": "stream",
     "text": [
      "Доверительный интервал равен: (194.5265978950862, 202.4734021049138)\n"
     ]
    }
   ],
   "source": [
    "print ('Доверительный интервал равен:', (m - t_int*sigma/np.sqrt(n), m + t_int*sigma/np.sqrt(n)))"
   ]
  },
  {
   "cell_type": "markdown",
   "metadata": {},
   "source": [
    "Доверительный интервал, построенный с учётом доверительной вероятности 99%, = (194.5, 202.4), включает значение предполагаемого среднего значения а = 200 => утверждение продавца, что средний вес пачки = 200 гр, верно."
   ]
  },
  {
   "cell_type": "code",
   "execution_count": null,
   "metadata": {},
   "outputs": [],
   "source": []
  }
 ],
 "metadata": {
  "kernelspec": {
   "display_name": "Python 3",
   "language": "python",
   "name": "python3"
  },
  "language_info": {
   "codemirror_mode": {
    "name": "ipython",
    "version": 3
   },
   "file_extension": ".py",
   "mimetype": "text/x-python",
   "name": "python",
   "nbconvert_exporter": "python",
   "pygments_lexer": "ipython3",
   "version": "3.7.1"
  }
 },
 "nbformat": 4,
 "nbformat_minor": 2
}
