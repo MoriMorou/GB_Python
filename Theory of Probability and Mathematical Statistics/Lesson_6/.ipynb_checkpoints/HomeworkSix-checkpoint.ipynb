{
 "cells": [
  {
   "cell_type": "code",
   "execution_count": 1,
   "metadata": {},
   "outputs": [],
   "source": [
    "import numpy as np\n",
    "import pandas as pd"
   ]
  },
  {
   "cell_type": "markdown",
   "metadata": {},
   "source": [
    "### Задача 1\n",
    "Даны значения величины заработной платы заемщиков банка (salary) и значения их поведенческого кредитного скоринга (scoring):\n",
    "\n",
    "salary = [35, 45, 190, 200, 40, 70, 54, 150, 120, 110]\n",
    "\n",
    "scoring = [401, 574, 874, 919, 459, 739, 653, 902, 746, 832]\n",
    "\n",
    "1. Найдите ковариацию этих двух величин: сначала без использования специальных функций, а затем с помощью функции numpy.cov. Полученные значения должны быть равны.\n",
    "2. Найдите коэффициент корреляции Пирсона: с помощью ковариации и средних квадратических отклонений двух признаков, а затем с помощью специальных функций из библиотек numpy и pandas."
   ]
  },
  {
   "cell_type": "code",
   "execution_count": 2,
   "metadata": {},
   "outputs": [],
   "source": [
    "def cov(X, Y, ddof=1):\n",
    "    X_mean = X.mean()\n",
    "    Y_mean = Y.mean()\n",
    "    return ((X - X_mean) * (Y - Y_mean)).sum() / (X.shape[0] - ddof)\n",
    "def std(X, ddof=1):\n",
    "    X_mean = X.mean()\n",
    "    return np.sqrt(((X - X_mean)**2).sum() / (X.shape[0] - ddof))\n",
    "\n",
    "def corr(X,Y):\n",
    "    return cov(X, Y) / (std(X) * std(Y))"
   ]
  },
  {
   "cell_type": "code",
   "execution_count": 3,
   "metadata": {},
   "outputs": [],
   "source": [
    "salary = np.array([35, 45, 190, 200, 40, 70, 54, 150, 120, 110])\n",
    "scoring = np.array([401, 574, 874, 919, 459, 739, 653, 902, 746, 832])"
   ]
  },
  {
   "cell_type": "code",
   "execution_count": 4,
   "metadata": {},
   "outputs": [
    {
     "name": "stdout",
     "output_type": "stream",
     "text": [
      "Расчетная ковариация:               10175.377778\n",
      "Ковариация с использованием np.cov: 10175.377778\n"
     ]
    }
   ],
   "source": [
    "print(f'Расчетная ковариация: {cov(salary, scoring):26f}')\n",
    "print(f'Ковариация с использованием np.cov: {np.cov(salary, scoring)[0,1]:10f}')"
   ]
  },
  {
   "cell_type": "code",
   "execution_count": 6,
   "metadata": {},
   "outputs": [
    {
     "name": "stdout",
     "output_type": "stream",
     "text": [
      "Расчетный коэффициент корреляции Пирсона:                     0.887490\n",
      "Коэффициент корреляции Пирсона с использованием np.corrcoef:  0.887490\n",
      "Коэффициент корреляции Пирсона с использованием df.corr():    0.887490\n"
     ]
    }
   ],
   "source": [
    "print(f'Расчетный коэффициент корреляции Пирсона: {corr(salary,  scoring):28f}')\n",
    "print(f'Коэффициент корреляции Пирсона с использованием np.corrcoef: {corr(salary,  scoring):9f}')\n",
    "d = {'salary': salary, 'scoring': scoring}\n",
    "df = pd.DataFrame(data = d)\n",
    "df_corr = df.corr()['scoring'][0]\n",
    "print(f'Коэффициент корреляции Пирсона с использованием df.corr(): {df_corr:11f}')"
   ]
  },
  {
   "cell_type": "markdown",
   "metadata": {},
   "source": [
    "#### Задача 2\n",
    "\n",
    "Измерены значения IQ выборки студентов, обучающихся в местных технических вузах:\n",
    "\n",
    "131, 125, 115, 122, 131, 115, 107, 99, 125, 111\n",
    "\n",
    "Известно, что в генеральной совокупности IQ распределен нормально. Найдите доверительный интервал для математического ожидания с надежностью 0.95."
   ]
  },
  {
   "cell_type": "markdown",
   "metadata": {},
   "source": [
    "#### Решение:\n",
    "Т.к. параметры генеральной совокупности неизвестны, кроме того, что распределение нормальное, то будем использовать распределение Стюдента для нахождения доверительного интервала по формуле: $$\n",
    "P \\left( \n",
    "\\overline{X} - t_{1 - \\alpha/2, \\: n - 1} \\cdot \\dfrac{S}{\\sqrt{n}} \n",
    "\\leq M(X) \\leq\n",
    "\\overline{X} + t_{1 - \\alpha/2, \\: n - 1} \\cdot \\dfrac{S}{\\sqrt{n}} \n",
    "\\right).\n",
    "$$"
   ]
  },
  {
   "cell_type": "code",
   "execution_count": 8,
   "metadata": {},
   "outputs": [
    {
     "name": "stdout",
     "output_type": "stream",
     "text": [
      "Выборочная средняя: 118.1\n",
      "Размер выборки: 10\n",
      "Распределения Стьюдента 2.2621571627409915 для выборки из 10 c надежностью 0.95\n",
      "Выборочное смещенное среднеквадратичное отклонение: 10.004498987955369\n",
      "Доверительный интервал для математического ожидания с надежностью 0.95: [110.9432125583706, 125.25678744162938]\n"
     ]
    }
   ],
   "source": [
    "from scipy import stats\n",
    "IQ = np.array([131, 125, 115, 122, 131, 115, 107, 99, 125, 111])\n",
    "X_mean = IQ.mean()\n",
    "n =  IQ.shape[0]\n",
    "t = stats.t.ppf(1-0.025,n-1)\n",
    "S = std(IQ, ddof=0)\n",
    "P = [X_mean- t * S / np.sqrt(n), X_mean + t * S / np.sqrt(n)]\n",
    "print(f'Выборочная средняя: {X_mean}')\n",
    "print(f'Размер выборки: {n}')\n",
    "print(f'Распределения Стьюдента {t} для выборки из {n} c надежностью 0.95')\n",
    "print(f'Выборочное смещенное среднеквадратичное отклонение: {S}')\n",
    "print(f'Доверительный интервал для математического ожидания с надежностью 0.95: {P}')"
   ]
  },
  {
   "cell_type": "markdown",
   "metadata": {},
   "source": [
    "#### Задача 3\n",
    "\n",
    "Известно, что рост футболистов в сборной распределен нормально с известной дисперсией 25. На выборке объёма 27 выборочное среднее составило 174.2. Найдите доверительный интервал для математического ожидания с надежностью 0.95."
   ]
  },
  {
   "cell_type": "markdown",
   "metadata": {},
   "source": [
    "#### Решение:\n",
    "Т.к. дисперсия генеральной совокупности известна, распределение нормальное, то будем использовать правило 2 сигм для нахождения доверительно интервала с надежностью 0.95: $$\n",
    "P \\left( \n",
    "\\overline{X} - 2 \\cdot \\sigma \n",
    "\\leq M(X) \\leq\n",
    "\\overline{X} + 2 \\cdot \\sigma\n",
    "\\right).\n",
    "$$"
   ]
  },
  {
   "cell_type": "code",
   "execution_count": 9,
   "metadata": {},
   "outputs": [
    {
     "name": "stdout",
     "output_type": "stream",
     "text": [
      "Доверительный интервал для математического ожидания с надежностью 0.95:[172.27549910270125, 176.12450089729873]\n"
     ]
    }
   ],
   "source": [
    "X_mean = 174.2 # выборочное среднее \n",
    "D = 25 # дисперсия\n",
    "n = 27 # объём выборки\n",
    "sigma = np.sqrt(D/n) #  среднеквадратичное отклонение\n",
    "P = [X_mean - 2 * sigma, X_mean + 2 * sigma]\n",
    "print(f'Доверительный интервал для математического ожидания с надежностью 0.95:{P}')"
   ]
  },
  {
   "cell_type": "markdown",
   "metadata": {},
   "source": [
    "#### Задача 4\n",
    "\n",
    "Выберите тему для проектной работы по курсу Теории вероятностей и математической статистики и напишите ее в комментарии к Практическому заданию."
   ]
  },
  {
   "cell_type": "code",
   "execution_count": null,
   "metadata": {},
   "outputs": [],
   "source": []
  }
 ],
 "metadata": {
  "kernelspec": {
   "display_name": "Python 3",
   "language": "python",
   "name": "python3"
  },
  "language_info": {
   "codemirror_mode": {
    "name": "ipython",
    "version": 3
   },
   "file_extension": ".py",
   "mimetype": "text/x-python",
   "name": "python",
   "nbconvert_exporter": "python",
   "pygments_lexer": "ipython3",
   "version": "3.7.1"
  }
 },
 "nbformat": 4,
 "nbformat_minor": 2
}
