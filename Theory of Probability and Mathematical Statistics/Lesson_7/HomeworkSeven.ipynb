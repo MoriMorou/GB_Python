{
  "nbformat": 4,
  "nbformat_minor": 0,
  "metadata": {
    "colab": {
      "name": "HomeworkSeven.ipynb",
      "version": "0.3.2",
      "provenance": [],
      "include_colab_link": true
    },
    "kernelspec": {
      "name": "python3",
      "display_name": "Python 3"
    }
  },
  "cells": [
    {
      "cell_type": "markdown",
      "metadata": {
        "id": "view-in-github",
        "colab_type": "text"
      },
      "source": [
        "<a href=\"https://colab.research.google.com/github/MoriMorou/GB_Python/blob/master/HomeworkSeven.ipynb\" target=\"_parent\"><img src=\"https://colab.research.google.com/assets/colab-badge.svg\" alt=\"Open In Colab\"/></a>"
      ]
    },
    {
      "cell_type": "code",
      "metadata": {
        "id": "NvgbyGM2id0_",
        "colab_type": "code",
        "colab": {}
      },
      "source": [
        "import numpy as np\n",
        "import pandas as pd\n",
        "import matplotlib.pyplot as plt\n",
        "from scipy import stats\n",
        "%matplotlib inline"
      ],
      "execution_count": 0,
      "outputs": []
    },
    {
      "cell_type": "markdown",
      "metadata": {
        "id": "Z6o6VpNzifSy",
        "colab_type": "text"
      },
      "source": [
        "__Задача 1__\n",
        "\n",
        "Даны значения величины заработной платы заемщиков банка (`salary`) и значения их поведенческого кредитного скоринга (`scoring`):\n",
        "```\n",
        "salary = [35, 45, 190, 200, 40, 70, 54, 150, 120, 110]\n",
        "scoring = [401, 574, 874, 919, 459, 739, 653, 902, 746, 832]\n",
        "```\n",
        "Возьмём в качестве признака значение `salary`, а в качестве целевой переменной - `scoring`.\n",
        "\n",
        "1. Найдите коэффициенты линейной регрессии с помощью формул для парной регрессии, а затем с помощью метода наименьших квадратов.\n",
        "2. Постройте `scatter plot` по данным и отметьте на нём прямую линейной регрессии, полученную в п. 1.\n",
        "3. Посчитайте коэффициент детерминации, среднюю ошибку аппроксимации.\n",
        "4. Оцените построенное уравнение регрессии с помощью F-критерия Фишера.\n",
        "5. Оцените значимость получившихся параметров уравнения регрессии и постройте для них доверительные интервалы с помощью t-статистики Стьюдента."
      ]
    },
    {
      "cell_type": "code",
      "metadata": {
        "id": "xbh9oD01ijjS",
        "colab_type": "code",
        "colab": {}
      },
      "source": [
        "salary = np.array([35, 45, 190, 200, 40, 70, 54, 150, 120, 110])\n",
        "scoring = np.array([401, 574, 874, 919, 459, 739, 653, 902, 746, 832])"
      ],
      "execution_count": 0,
      "outputs": []
    },
    {
      "cell_type": "markdown",
      "metadata": {
        "id": "B-RbW-WboVkA",
        "colab_type": "text"
      },
      "source": [
        "**1. a. Коэффициенты линейной регрессии с помощью формул для парной регрессии:**\n",
        "$$y = b_0 + b_1 x, где$$\n",
        "$y$ - прогноз значения их поведенческого кредитного скоринга (scoring)\n",
        "$x$ - значения величины заработной платы заемщиков банка (salary)\n",
        "Для парной регрессии коэффициенты вычисляются по формулам: $$b_1 = \\frac{\\overline{yx} - \\overline{y} \\cdot {\\overline{x}}}{\\overline{x^2} - (\\overline{x})^2}, \\: b_0 = \\overline{y} - b_1 \\cdot {\\overline{x}}.$$\n",
        "Где $x$, $y$ — данные из выборки, $\\overline{x}$ обозначает выборочное среднее"
      ]
    },
    {
      "cell_type": "code",
      "metadata": {
        "id": "4u71zcgUomJP",
        "colab_type": "code",
        "colab": {
          "base_uri": "https://localhost:8080/",
          "height": 34
        },
        "outputId": "534a7ab6-1cc3-4ace-e0b3-cfc39b3ece62"
      },
      "source": [
        "b1 = (np.mean(salary * scoring ) - np.mean(salary) * np.mean(scoring)) / (np.mean(salary ** 2) - np.mean(salary) ** 2)\n",
        "print(f'Коэффицент b1 равен {b1}')"
      ],
      "execution_count": 15,
      "outputs": [
        {
          "output_type": "stream",
          "text": [
            "Коэффицент b1 равен 2.620538882402765\n"
          ],
          "name": "stdout"
        }
      ]
    },
    {
      "cell_type": "code",
      "metadata": {
        "id": "nTPTttpVikgo",
        "colab_type": "code",
        "colab": {
          "base_uri": "https://localhost:8080/",
          "height": 34
        },
        "outputId": "e35a6d72-16fd-4948-f8f4-f1d2bac47e3d"
      },
      "source": [
        "b0 = np.mean(scoring) - b1 * np.mean(salary)\n",
        "print(f'Коэффицент b0 равен {b0}')"
      ],
      "execution_count": 16,
      "outputs": [
        {
          "output_type": "stream",
          "text": [
            "Коэффицент b0 равен 444.1773573243596\n"
          ],
          "name": "stdout"
        }
      ]
    },
    {
      "cell_type": "markdown",
      "metadata": {
        "id": "eXOT4imZppbF",
        "colab_type": "text"
      },
      "source": [
        "Мдель линейной регрессии имеет вид:\n",
        "\n",
        "$$y = 444.18 + 2.62 \\cdot x,$$"
      ]
    },
    {
      "cell_type": "markdown",
      "metadata": {
        "id": "MfPSrDUDpwj0",
        "colab_type": "text"
      },
      "source": [
        "**1. b. Коэффициенты линейной регрессии с помощью метода наименьших квадратов:**\n",
        "# $$(X \\cdot b - y)^\\top \\cdot (X \\cdot b - y) \\rightarrow \\min_b.$$"
      ]
    },
    {
      "cell_type": "code",
      "metadata": {
        "id": "iZJPE-vXp3aJ",
        "colab_type": "code",
        "colab": {
          "base_uri": "https://localhost:8080/",
          "height": 34
        },
        "outputId": "dbbebec4-b173-4a71-fb1f-f3030e2f452c"
      },
      "source": [
        "x2 = pd.DataFrame(salary)\n",
        "y2 = pd.DataFrame(scoring)\n",
        "x2.shape"
      ],
      "execution_count": 17,
      "outputs": [
        {
          "output_type": "execute_result",
          "data": {
            "text/plain": [
              "(10, 1)"
            ]
          },
          "metadata": {
            "tags": []
          },
          "execution_count": 17
        }
      ]
    },
    {
      "cell_type": "code",
      "metadata": {
        "id": "EVcCB54crNZq",
        "colab_type": "code",
        "colab": {
          "base_uri": "https://localhost:8080/",
          "height": 34
        },
        "outputId": "cae7e616-ddaa-47c0-a36d-d542e06dda1e"
      },
      "source": [
        "# Добавляем столбец из 1, соответствующий фиктивному фактору.\n",
        "ones = np.ones((x2.shape[0], 1))\n",
        "x2 = np.hstack((ones, x2))\n",
        "x2.shape"
      ],
      "execution_count": 18,
      "outputs": [
        {
          "output_type": "execute_result",
          "data": {
            "text/plain": [
              "(10, 2)"
            ]
          },
          "metadata": {
            "tags": []
          },
          "execution_count": 18
        }
      ]
    },
    {
      "cell_type": "code",
      "metadata": {
        "id": "ETZ_Ph1vrU2I",
        "colab_type": "code",
        "colab": {
          "base_uri": "https://localhost:8080/",
          "height": 34
        },
        "outputId": "390885ef-2977-475c-8cd9-35b397ec7cc9"
      },
      "source": [
        "# Запишем матрицу  $X^\\top X$ и посчитаем её определитель.\n",
        "XTX = x2.T.dot(x2)\n",
        "np.linalg.det(XTX)"
      ],
      "execution_count": 20,
      "outputs": [
        {
          "output_type": "execute_result",
          "data": {
            "text/plain": [
              "349464.00000000023"
            ]
          },
          "metadata": {
            "tags": []
          },
          "execution_count": 20
        }
      ]
    },
    {
      "cell_type": "code",
      "metadata": {
        "id": "lTdhPiu0ryt8",
        "colab_type": "code",
        "colab": {
          "base_uri": "https://localhost:8080/",
          "height": 50
        },
        "outputId": "e6abf12a-a63b-43af-b5bb-83211febfcbf"
      },
      "source": [
        "# Определитель не близок к нулю, поэтому можно записать аналитическое решение:\n",
        "XTX_inv = np.linalg.inv(XTX)\n",
        "b = XTX_inv.dot(x2.T).dot(y2)\n",
        "print(b)"
      ],
      "execution_count": 21,
      "outputs": [
        {
          "output_type": "stream",
          "text": [
            "[[444.17735732]\n",
            " [  2.62053888]]\n"
          ],
          "name": "stdout"
        }
      ]
    },
    {
      "cell_type": "markdown",
      "metadata": {
        "id": "xRnsu2hysF1z",
        "colab_type": "text"
      },
      "source": [
        "Коэффициенты найденные с помощью МНК и формул парной регшрессии равны. Уравнение регрессии\n",
        "\n",
        "$$y = 444.177 + 2.621 \\cdot x$$"
      ]
    },
    {
      "cell_type": "markdown",
      "metadata": {
        "id": "dR0o_cTwsNxm",
        "colab_type": "text"
      },
      "source": [
        "**2. Построение scatter plot по данным и линейной регрессии, полученной в п. 1.**"
      ]
    },
    {
      "cell_type": "code",
      "metadata": {
        "id": "WCmmp7G1sAMV",
        "colab_type": "code",
        "colab": {
          "base_uri": "https://localhost:8080/",
          "height": 374
        },
        "outputId": "3d3c954c-16d2-44a9-d9d8-9e0d1628bbad"
      },
      "source": [
        "ox = salary\n",
        "oy = b0 + b1 * ox\n",
        "\n",
        "plt.scatter(salary, scoring)\n",
        "plt.plot(ox, oy, color='red')"
      ],
      "execution_count": 25,
      "outputs": [
        {
          "output_type": "execute_result",
          "data": {
            "text/plain": [
              "[<matplotlib.lines.Line2D at 0x7f316bfbfe80>]"
            ]
          },
          "metadata": {
            "tags": []
          },
          "execution_count": 25
        },
        {
          "output_type": "display_data",
          "data": {
            "text/plain": [
              "<Figure size 432x288 with 1 Axes>"
            ],
            "image/svg+xml": "<?xml version=\"1.0\" encoding=\"utf-8\" standalone=\"no\"?>\n<!DOCTYPE svg PUBLIC \"-//W3C//DTD SVG 1.1//EN\"\n  \"http://www.w3.org/Graphics/SVG/1.1/DTD/svg11.dtd\">\n<!-- Created with matplotlib (https://matplotlib.org/) -->\n<svg height=\"252.018125pt\" version=\"1.1\" viewBox=\"0 0 378.7875 252.018125\" width=\"378.7875pt\" xmlns=\"http://www.w3.org/2000/svg\" xmlns:xlink=\"http://www.w3.org/1999/xlink\">\n <defs>\n  <style type=\"text/css\">\n*{stroke-linecap:butt;stroke-linejoin:round;}\n  </style>\n </defs>\n <g id=\"figure_1\">\n  <g id=\"patch_1\">\n   <path d=\"M 0 252.018125 \nL 378.7875 252.018125 \nL 378.7875 0 \nL 0 0 \nz\n\" style=\"fill:none;\"/>\n  </g>\n  <g id=\"axes_1\">\n   <g id=\"patch_2\">\n    <path d=\"M 33.2875 228.14 \nL 368.0875 228.14 \nL 368.0875 10.7 \nL 33.2875 10.7 \nz\n\" style=\"fill:#ffffff;\"/>\n   </g>\n   <g id=\"PathCollection_1\">\n    <defs>\n     <path d=\"M 0 3 \nC 0.795609 3 1.55874 2.683901 2.12132 2.12132 \nC 2.683901 1.55874 3 0.795609 3 0 \nC 3 -0.795609 2.683901 -1.55874 2.12132 -2.12132 \nC 1.55874 -2.683901 0.795609 -3 0 -3 \nC -0.795609 -3 -1.55874 -2.683901 -2.12132 -2.12132 \nC -2.683901 -1.55874 -3 -0.795609 -3 0 \nC -3 0.795609 -2.683901 1.55874 -2.12132 2.12132 \nC -1.55874 2.683901 -0.795609 3 0 3 \nz\n\" id=\"mca6ad3a91e\" style=\"stroke:#1f77b4;\"/>\n    </defs>\n    <g clip-path=\"url(#p74f2901756)\">\n     <use style=\"fill:#1f77b4;stroke:#1f77b4;\" x=\"48.522209\" xlink:href=\"#mca6ad3a91e\" y=\"218.251556\"/>\n     <use style=\"fill:#1f77b4;stroke:#1f77b4;\" x=\"66.966487\" xlink:href=\"#mca6ad3a91e\" y=\"157.970495\"/>\n     <use style=\"fill:#1f77b4;stroke:#1f77b4;\" x=\"334.408513\" xlink:href=\"#mca6ad3a91e\" y=\"53.436862\"/>\n     <use style=\"fill:#1f77b4;stroke:#1f77b4;\" x=\"352.852791\" xlink:href=\"#mca6ad3a91e\" y=\"37.756817\"/>\n     <use style=\"fill:#1f77b4;stroke:#1f77b4;\" x=\"57.744348\" xlink:href=\"#mca6ad3a91e\" y=\"198.04172\"/>\n     <use style=\"fill:#1f77b4;stroke:#1f77b4;\" x=\"113.077181\" xlink:href=\"#mca6ad3a91e\" y=\"100.476996\"/>\n     <use style=\"fill:#1f77b4;stroke:#1f77b4;\" x=\"83.566337\" xlink:href=\"#mca6ad3a91e\" y=\"130.443305\"/>\n     <use style=\"fill:#1f77b4;stroke:#1f77b4;\" x=\"260.631403\" xlink:href=\"#mca6ad3a91e\" y=\"43.680389\"/>\n     <use style=\"fill:#1f77b4;stroke:#1f77b4;\" x=\"205.298569\" xlink:href=\"#mca6ad3a91e\" y=\"98.037878\"/>\n     <use style=\"fill:#1f77b4;stroke:#1f77b4;\" x=\"186.854292\" xlink:href=\"#mca6ad3a91e\" y=\"68.07157\"/>\n    </g>\n   </g>\n   <g id=\"matplotlib.axis_1\">\n    <g id=\"xtick_1\">\n     <g id=\"line2d_1\">\n      <defs>\n       <path d=\"M 0 0 \nL 0 3.5 \n\" id=\"mb4f671556b\" style=\"stroke:#000000;stroke-width:0.8;\"/>\n      </defs>\n      <g>\n       <use style=\"stroke:#000000;stroke-width:0.8;\" x=\"76.188626\" xlink:href=\"#mb4f671556b\" y=\"228.14\"/>\n      </g>\n     </g>\n     <g id=\"text_1\">\n      <!-- 50 -->\n      <defs>\n       <path d=\"M 10.796875 72.90625 \nL 49.515625 72.90625 \nL 49.515625 64.59375 \nL 19.828125 64.59375 \nL 19.828125 46.734375 \nQ 21.96875 47.46875 24.109375 47.828125 \nQ 26.265625 48.1875 28.421875 48.1875 \nQ 40.625 48.1875 47.75 41.5 \nQ 54.890625 34.8125 54.890625 23.390625 \nQ 54.890625 11.625 47.5625 5.09375 \nQ 40.234375 -1.421875 26.90625 -1.421875 \nQ 22.3125 -1.421875 17.546875 -0.640625 \nQ 12.796875 0.140625 7.71875 1.703125 \nL 7.71875 11.625 \nQ 12.109375 9.234375 16.796875 8.0625 \nQ 21.484375 6.890625 26.703125 6.890625 \nQ 35.15625 6.890625 40.078125 11.328125 \nQ 45.015625 15.765625 45.015625 23.390625 \nQ 45.015625 31 40.078125 35.4375 \nQ 35.15625 39.890625 26.703125 39.890625 \nQ 22.75 39.890625 18.8125 39.015625 \nQ 14.890625 38.140625 10.796875 36.28125 \nz\n\" id=\"DejaVuSans-53\"/>\n       <path d=\"M 31.78125 66.40625 \nQ 24.171875 66.40625 20.328125 58.90625 \nQ 16.5 51.421875 16.5 36.375 \nQ 16.5 21.390625 20.328125 13.890625 \nQ 24.171875 6.390625 31.78125 6.390625 \nQ 39.453125 6.390625 43.28125 13.890625 \nQ 47.125 21.390625 47.125 36.375 \nQ 47.125 51.421875 43.28125 58.90625 \nQ 39.453125 66.40625 31.78125 66.40625 \nz\nM 31.78125 74.21875 \nQ 44.046875 74.21875 50.515625 64.515625 \nQ 56.984375 54.828125 56.984375 36.375 \nQ 56.984375 17.96875 50.515625 8.265625 \nQ 44.046875 -1.421875 31.78125 -1.421875 \nQ 19.53125 -1.421875 13.0625 8.265625 \nQ 6.59375 17.96875 6.59375 36.375 \nQ 6.59375 54.828125 13.0625 64.515625 \nQ 19.53125 74.21875 31.78125 74.21875 \nz\n\" id=\"DejaVuSans-48\"/>\n      </defs>\n      <g transform=\"translate(69.826126 242.738437)scale(0.1 -0.1)\">\n       <use xlink:href=\"#DejaVuSans-53\"/>\n       <use x=\"63.623047\" xlink:href=\"#DejaVuSans-48\"/>\n      </g>\n     </g>\n    </g>\n    <g id=\"xtick_2\">\n     <g id=\"line2d_2\">\n      <g>\n       <use style=\"stroke:#000000;stroke-width:0.8;\" x=\"122.29932\" xlink:href=\"#mb4f671556b\" y=\"228.14\"/>\n      </g>\n     </g>\n     <g id=\"text_2\">\n      <!-- 75 -->\n      <defs>\n       <path d=\"M 8.203125 72.90625 \nL 55.078125 72.90625 \nL 55.078125 68.703125 \nL 28.609375 0 \nL 18.3125 0 \nL 43.21875 64.59375 \nL 8.203125 64.59375 \nz\n\" id=\"DejaVuSans-55\"/>\n      </defs>\n      <g transform=\"translate(115.93682 242.738437)scale(0.1 -0.1)\">\n       <use xlink:href=\"#DejaVuSans-55\"/>\n       <use x=\"63.623047\" xlink:href=\"#DejaVuSans-53\"/>\n      </g>\n     </g>\n    </g>\n    <g id=\"xtick_3\">\n     <g id=\"line2d_3\">\n      <g>\n       <use style=\"stroke:#000000;stroke-width:0.8;\" x=\"168.410014\" xlink:href=\"#mb4f671556b\" y=\"228.14\"/>\n      </g>\n     </g>\n     <g id=\"text_3\">\n      <!-- 100 -->\n      <defs>\n       <path d=\"M 12.40625 8.296875 \nL 28.515625 8.296875 \nL 28.515625 63.921875 \nL 10.984375 60.40625 \nL 10.984375 69.390625 \nL 28.421875 72.90625 \nL 38.28125 72.90625 \nL 38.28125 8.296875 \nL 54.390625 8.296875 \nL 54.390625 0 \nL 12.40625 0 \nz\n\" id=\"DejaVuSans-49\"/>\n      </defs>\n      <g transform=\"translate(158.866264 242.738437)scale(0.1 -0.1)\">\n       <use xlink:href=\"#DejaVuSans-49\"/>\n       <use x=\"63.623047\" xlink:href=\"#DejaVuSans-48\"/>\n       <use x=\"127.246094\" xlink:href=\"#DejaVuSans-48\"/>\n      </g>\n     </g>\n    </g>\n    <g id=\"xtick_4\">\n     <g id=\"line2d_4\">\n      <g>\n       <use style=\"stroke:#000000;stroke-width:0.8;\" x=\"214.520708\" xlink:href=\"#mb4f671556b\" y=\"228.14\"/>\n      </g>\n     </g>\n     <g id=\"text_4\">\n      <!-- 125 -->\n      <defs>\n       <path d=\"M 19.1875 8.296875 \nL 53.609375 8.296875 \nL 53.609375 0 \nL 7.328125 0 \nL 7.328125 8.296875 \nQ 12.9375 14.109375 22.625 23.890625 \nQ 32.328125 33.6875 34.8125 36.53125 \nQ 39.546875 41.84375 41.421875 45.53125 \nQ 43.3125 49.21875 43.3125 52.78125 \nQ 43.3125 58.59375 39.234375 62.25 \nQ 35.15625 65.921875 28.609375 65.921875 \nQ 23.96875 65.921875 18.8125 64.3125 \nQ 13.671875 62.703125 7.8125 59.421875 \nL 7.8125 69.390625 \nQ 13.765625 71.78125 18.9375 73 \nQ 24.125 74.21875 28.421875 74.21875 \nQ 39.75 74.21875 46.484375 68.546875 \nQ 53.21875 62.890625 53.21875 53.421875 \nQ 53.21875 48.921875 51.53125 44.890625 \nQ 49.859375 40.875 45.40625 35.40625 \nQ 44.1875 33.984375 37.640625 27.21875 \nQ 31.109375 20.453125 19.1875 8.296875 \nz\n\" id=\"DejaVuSans-50\"/>\n      </defs>\n      <g transform=\"translate(204.976958 242.738437)scale(0.1 -0.1)\">\n       <use xlink:href=\"#DejaVuSans-49\"/>\n       <use x=\"63.623047\" xlink:href=\"#DejaVuSans-50\"/>\n       <use x=\"127.246094\" xlink:href=\"#DejaVuSans-53\"/>\n      </g>\n     </g>\n    </g>\n    <g id=\"xtick_5\">\n     <g id=\"line2d_5\">\n      <g>\n       <use style=\"stroke:#000000;stroke-width:0.8;\" x=\"260.631403\" xlink:href=\"#mb4f671556b\" y=\"228.14\"/>\n      </g>\n     </g>\n     <g id=\"text_5\">\n      <!-- 150 -->\n      <g transform=\"translate(251.087653 242.738437)scale(0.1 -0.1)\">\n       <use xlink:href=\"#DejaVuSans-49\"/>\n       <use x=\"63.623047\" xlink:href=\"#DejaVuSans-53\"/>\n       <use x=\"127.246094\" xlink:href=\"#DejaVuSans-48\"/>\n      </g>\n     </g>\n    </g>\n    <g id=\"xtick_6\">\n     <g id=\"line2d_6\">\n      <g>\n       <use style=\"stroke:#000000;stroke-width:0.8;\" x=\"306.742097\" xlink:href=\"#mb4f671556b\" y=\"228.14\"/>\n      </g>\n     </g>\n     <g id=\"text_6\">\n      <!-- 175 -->\n      <g transform=\"translate(297.198347 242.738437)scale(0.1 -0.1)\">\n       <use xlink:href=\"#DejaVuSans-49\"/>\n       <use x=\"63.623047\" xlink:href=\"#DejaVuSans-55\"/>\n       <use x=\"127.246094\" xlink:href=\"#DejaVuSans-53\"/>\n      </g>\n     </g>\n    </g>\n    <g id=\"xtick_7\">\n     <g id=\"line2d_7\">\n      <g>\n       <use style=\"stroke:#000000;stroke-width:0.8;\" x=\"352.852791\" xlink:href=\"#mb4f671556b\" y=\"228.14\"/>\n      </g>\n     </g>\n     <g id=\"text_7\">\n      <!-- 200 -->\n      <g transform=\"translate(343.309041 242.738437)scale(0.1 -0.1)\">\n       <use xlink:href=\"#DejaVuSans-50\"/>\n       <use x=\"63.623047\" xlink:href=\"#DejaVuSans-48\"/>\n       <use x=\"127.246094\" xlink:href=\"#DejaVuSans-48\"/>\n      </g>\n     </g>\n    </g>\n   </g>\n   <g id=\"matplotlib.axis_2\">\n    <g id=\"ytick_1\">\n     <g id=\"line2d_8\">\n      <defs>\n       <path d=\"M 0 0 \nL -3.5 0 \n\" id=\"m7a7f180856\" style=\"stroke:#000000;stroke-width:0.8;\"/>\n      </defs>\n      <g>\n       <use style=\"stroke:#000000;stroke-width:0.8;\" x=\"33.2875\" xlink:href=\"#m7a7f180856\" y=\"218.600002\"/>\n      </g>\n     </g>\n     <g id=\"text_8\">\n      <!-- 400 -->\n      <defs>\n       <path d=\"M 37.796875 64.3125 \nL 12.890625 25.390625 \nL 37.796875 25.390625 \nz\nM 35.203125 72.90625 \nL 47.609375 72.90625 \nL 47.609375 25.390625 \nL 58.015625 25.390625 \nL 58.015625 17.1875 \nL 47.609375 17.1875 \nL 47.609375 0 \nL 37.796875 0 \nL 37.796875 17.1875 \nL 4.890625 17.1875 \nL 4.890625 26.703125 \nz\n\" id=\"DejaVuSans-52\"/>\n      </defs>\n      <g transform=\"translate(7.2 222.39922)scale(0.1 -0.1)\">\n       <use xlink:href=\"#DejaVuSans-52\"/>\n       <use x=\"63.623047\" xlink:href=\"#DejaVuSans-48\"/>\n       <use x=\"127.246094\" xlink:href=\"#DejaVuSans-48\"/>\n      </g>\n     </g>\n    </g>\n    <g id=\"ytick_2\">\n     <g id=\"line2d_9\">\n      <g>\n       <use style=\"stroke:#000000;stroke-width:0.8;\" x=\"33.2875\" xlink:href=\"#m7a7f180856\" y=\"183.755457\"/>\n      </g>\n     </g>\n     <g id=\"text_9\">\n      <!-- 500 -->\n      <g transform=\"translate(7.2 187.554676)scale(0.1 -0.1)\">\n       <use xlink:href=\"#DejaVuSans-53\"/>\n       <use x=\"63.623047\" xlink:href=\"#DejaVuSans-48\"/>\n       <use x=\"127.246094\" xlink:href=\"#DejaVuSans-48\"/>\n      </g>\n     </g>\n    </g>\n    <g id=\"ytick_3\">\n     <g id=\"line2d_10\">\n      <g>\n       <use style=\"stroke:#000000;stroke-width:0.8;\" x=\"33.2875\" xlink:href=\"#m7a7f180856\" y=\"148.910913\"/>\n      </g>\n     </g>\n     <g id=\"text_10\">\n      <!-- 600 -->\n      <defs>\n       <path d=\"M 33.015625 40.375 \nQ 26.375 40.375 22.484375 35.828125 \nQ 18.609375 31.296875 18.609375 23.390625 \nQ 18.609375 15.53125 22.484375 10.953125 \nQ 26.375 6.390625 33.015625 6.390625 \nQ 39.65625 6.390625 43.53125 10.953125 \nQ 47.40625 15.53125 47.40625 23.390625 \nQ 47.40625 31.296875 43.53125 35.828125 \nQ 39.65625 40.375 33.015625 40.375 \nz\nM 52.59375 71.296875 \nL 52.59375 62.3125 \nQ 48.875 64.0625 45.09375 64.984375 \nQ 41.3125 65.921875 37.59375 65.921875 \nQ 27.828125 65.921875 22.671875 59.328125 \nQ 17.53125 52.734375 16.796875 39.40625 \nQ 19.671875 43.65625 24.015625 45.921875 \nQ 28.375 48.1875 33.59375 48.1875 \nQ 44.578125 48.1875 50.953125 41.515625 \nQ 57.328125 34.859375 57.328125 23.390625 \nQ 57.328125 12.15625 50.6875 5.359375 \nQ 44.046875 -1.421875 33.015625 -1.421875 \nQ 20.359375 -1.421875 13.671875 8.265625 \nQ 6.984375 17.96875 6.984375 36.375 \nQ 6.984375 53.65625 15.1875 63.9375 \nQ 23.390625 74.21875 37.203125 74.21875 \nQ 40.921875 74.21875 44.703125 73.484375 \nQ 48.484375 72.75 52.59375 71.296875 \nz\n\" id=\"DejaVuSans-54\"/>\n      </defs>\n      <g transform=\"translate(7.2 152.710132)scale(0.1 -0.1)\">\n       <use xlink:href=\"#DejaVuSans-54\"/>\n       <use x=\"63.623047\" xlink:href=\"#DejaVuSans-48\"/>\n       <use x=\"127.246094\" xlink:href=\"#DejaVuSans-48\"/>\n      </g>\n     </g>\n    </g>\n    <g id=\"ytick_4\">\n     <g id=\"line2d_11\">\n      <g>\n       <use style=\"stroke:#000000;stroke-width:0.8;\" x=\"33.2875\" xlink:href=\"#m7a7f180856\" y=\"114.066369\"/>\n      </g>\n     </g>\n     <g id=\"text_11\">\n      <!-- 700 -->\n      <g transform=\"translate(7.2 117.865587)scale(0.1 -0.1)\">\n       <use xlink:href=\"#DejaVuSans-55\"/>\n       <use x=\"63.623047\" xlink:href=\"#DejaVuSans-48\"/>\n       <use x=\"127.246094\" xlink:href=\"#DejaVuSans-48\"/>\n      </g>\n     </g>\n    </g>\n    <g id=\"ytick_5\">\n     <g id=\"line2d_12\">\n      <g>\n       <use style=\"stroke:#000000;stroke-width:0.8;\" x=\"33.2875\" xlink:href=\"#m7a7f180856\" y=\"79.221824\"/>\n      </g>\n     </g>\n     <g id=\"text_12\">\n      <!-- 800 -->\n      <defs>\n       <path d=\"M 31.78125 34.625 \nQ 24.75 34.625 20.71875 30.859375 \nQ 16.703125 27.09375 16.703125 20.515625 \nQ 16.703125 13.921875 20.71875 10.15625 \nQ 24.75 6.390625 31.78125 6.390625 \nQ 38.8125 6.390625 42.859375 10.171875 \nQ 46.921875 13.96875 46.921875 20.515625 \nQ 46.921875 27.09375 42.890625 30.859375 \nQ 38.875 34.625 31.78125 34.625 \nz\nM 21.921875 38.8125 \nQ 15.578125 40.375 12.03125 44.71875 \nQ 8.5 49.078125 8.5 55.328125 \nQ 8.5 64.0625 14.71875 69.140625 \nQ 20.953125 74.21875 31.78125 74.21875 \nQ 42.671875 74.21875 48.875 69.140625 \nQ 55.078125 64.0625 55.078125 55.328125 \nQ 55.078125 49.078125 51.53125 44.71875 \nQ 48 40.375 41.703125 38.8125 \nQ 48.828125 37.15625 52.796875 32.3125 \nQ 56.78125 27.484375 56.78125 20.515625 \nQ 56.78125 9.90625 50.3125 4.234375 \nQ 43.84375 -1.421875 31.78125 -1.421875 \nQ 19.734375 -1.421875 13.25 4.234375 \nQ 6.78125 9.90625 6.78125 20.515625 \nQ 6.78125 27.484375 10.78125 32.3125 \nQ 14.796875 37.15625 21.921875 38.8125 \nz\nM 18.3125 54.390625 \nQ 18.3125 48.734375 21.84375 45.5625 \nQ 25.390625 42.390625 31.78125 42.390625 \nQ 38.140625 42.390625 41.71875 45.5625 \nQ 45.3125 48.734375 45.3125 54.390625 \nQ 45.3125 60.0625 41.71875 63.234375 \nQ 38.140625 66.40625 31.78125 66.40625 \nQ 25.390625 66.40625 21.84375 63.234375 \nQ 18.3125 60.0625 18.3125 54.390625 \nz\n\" id=\"DejaVuSans-56\"/>\n      </defs>\n      <g transform=\"translate(7.2 83.021043)scale(0.1 -0.1)\">\n       <use xlink:href=\"#DejaVuSans-56\"/>\n       <use x=\"63.623047\" xlink:href=\"#DejaVuSans-48\"/>\n       <use x=\"127.246094\" xlink:href=\"#DejaVuSans-48\"/>\n      </g>\n     </g>\n    </g>\n    <g id=\"ytick_6\">\n     <g id=\"line2d_13\">\n      <g>\n       <use style=\"stroke:#000000;stroke-width:0.8;\" x=\"33.2875\" xlink:href=\"#m7a7f180856\" y=\"44.37728\"/>\n      </g>\n     </g>\n     <g id=\"text_13\">\n      <!-- 900 -->\n      <defs>\n       <path d=\"M 10.984375 1.515625 \nL 10.984375 10.5 \nQ 14.703125 8.734375 18.5 7.8125 \nQ 22.3125 6.890625 25.984375 6.890625 \nQ 35.75 6.890625 40.890625 13.453125 \nQ 46.046875 20.015625 46.78125 33.40625 \nQ 43.953125 29.203125 39.59375 26.953125 \nQ 35.25 24.703125 29.984375 24.703125 \nQ 19.046875 24.703125 12.671875 31.3125 \nQ 6.296875 37.9375 6.296875 49.421875 \nQ 6.296875 60.640625 12.9375 67.421875 \nQ 19.578125 74.21875 30.609375 74.21875 \nQ 43.265625 74.21875 49.921875 64.515625 \nQ 56.59375 54.828125 56.59375 36.375 \nQ 56.59375 19.140625 48.40625 8.859375 \nQ 40.234375 -1.421875 26.421875 -1.421875 \nQ 22.703125 -1.421875 18.890625 -0.6875 \nQ 15.09375 0.046875 10.984375 1.515625 \nz\nM 30.609375 32.421875 \nQ 37.25 32.421875 41.125 36.953125 \nQ 45.015625 41.5 45.015625 49.421875 \nQ 45.015625 57.28125 41.125 61.84375 \nQ 37.25 66.40625 30.609375 66.40625 \nQ 23.96875 66.40625 20.09375 61.84375 \nQ 16.21875 57.28125 16.21875 49.421875 \nQ 16.21875 41.5 20.09375 36.953125 \nQ 23.96875 32.421875 30.609375 32.421875 \nz\n\" id=\"DejaVuSans-57\"/>\n      </defs>\n      <g transform=\"translate(7.2 48.176499)scale(0.1 -0.1)\">\n       <use xlink:href=\"#DejaVuSans-57\"/>\n       <use x=\"63.623047\" xlink:href=\"#DejaVuSans-48\"/>\n       <use x=\"127.246094\" xlink:href=\"#DejaVuSans-48\"/>\n      </g>\n     </g>\n    </g>\n   </g>\n   <g id=\"line2d_14\">\n    <path clip-path=\"url(#p74f2901756)\" d=\"M 48.522209 171.247584 \nL 66.966487 162.116435 \nL 334.408513 29.714785 \nL 352.852791 20.583636 \nL 57.744348 166.682009 \nL 113.077181 139.288565 \nL 83.566337 153.898402 \nL 260.631403 66.239378 \nL 205.298569 93.632823 \nL 186.854292 102.763971 \n\" style=\"fill:none;stroke:#ff0000;stroke-linecap:square;stroke-width:1.5;\"/>\n   </g>\n   <g id=\"patch_3\">\n    <path d=\"M 33.2875 228.14 \nL 33.2875 10.7 \n\" style=\"fill:none;stroke:#000000;stroke-linecap:square;stroke-linejoin:miter;stroke-width:0.8;\"/>\n   </g>\n   <g id=\"patch_4\">\n    <path d=\"M 368.0875 228.14 \nL 368.0875 10.7 \n\" style=\"fill:none;stroke:#000000;stroke-linecap:square;stroke-linejoin:miter;stroke-width:0.8;\"/>\n   </g>\n   <g id=\"patch_5\">\n    <path d=\"M 33.2875 228.14 \nL 368.0875 228.14 \n\" style=\"fill:none;stroke:#000000;stroke-linecap:square;stroke-linejoin:miter;stroke-width:0.8;\"/>\n   </g>\n   <g id=\"patch_6\">\n    <path d=\"M 33.2875 10.7 \nL 368.0875 10.7 \n\" style=\"fill:none;stroke:#000000;stroke-linecap:square;stroke-linejoin:miter;stroke-width:0.8;\"/>\n   </g>\n  </g>\n </g>\n <defs>\n  <clipPath id=\"p74f2901756\">\n   <rect height=\"217.44\" width=\"334.8\" x=\"33.2875\" y=\"10.7\"/>\n  </clipPath>\n </defs>\n</svg>\n"
          },
          "metadata": {
            "tags": []
          }
        }
      ]
    },
    {
      "cell_type": "markdown",
      "metadata": {
        "id": "CsjGMxEAu3ec",
        "colab_type": "text"
      },
      "source": [
        "**3. Расчет коэффициент детерминации, среднюю ошибку аппроксимации.**"
      ]
    },
    {
      "cell_type": "code",
      "metadata": {
        "id": "Rl-aydqmuhcL",
        "colab_type": "code",
        "colab": {
          "base_uri": "https://localhost:8080/",
          "height": 34
        },
        "outputId": "2d6cdecc-392d-4ed1-dbe4-cfe21eaf68cc"
      },
      "source": [
        "pred_scoring = b0 + b1 * salary\n",
        "R1 = pred_scoring.var() / scoring.var()\n",
        "print(f'Коэффициент детерминации: {R1} учитывается или объясняется моделью. Далее найдем среднюю ошибку аппроксимации')"
      ],
      "execution_count": 33,
      "outputs": [
        {
          "output_type": "stream",
          "text": [
            "Коэффициент детерминации: 0.7876386635293678 учитывается или объясняется моделью. Далее найдем среднюю ошибку аппроксимации\n"
          ],
          "name": "stdout"
        }
      ]
    },
    {
      "cell_type": "code",
      "metadata": {
        "id": "WJWZHNALvGNr",
        "colab_type": "code",
        "colab": {
          "base_uri": "https://localhost:8080/",
          "height": 50
        },
        "outputId": "4891ca66-7598-49d0-83ef-e7bfebd01e17"
      },
      "source": [
        "np.corrcoef(salary, scoring) ** 2"
      ],
      "execution_count": 30,
      "outputs": [
        {
          "output_type": "execute_result",
          "data": {
            "text/plain": [
              "array([[1.        , 0.78763866],\n",
              "       [0.78763866, 1.        ]])"
            ]
          },
          "metadata": {
            "tags": []
          },
          "execution_count": 30
        }
      ]
    },
    {
      "cell_type": "markdown",
      "metadata": {
        "id": "hiz4CT1wv4A0",
        "colab_type": "text"
      },
      "source": [
        "Cредняя ошибка аппроксимации: $$\\overline{A} = \\frac{1}{n} \\displaystyle\\sum_{i=1}^{n} \\Bigl| {{\\frac{y_i - z_i}{y_i}} \\Bigr|}.$$\n",
        "\n",
        "Если $\\overline{A}$ не превышает $8-10 \\%$, можно сказать, что теоретические значения близки к тем, которые выдает модель линейной регрессии."
      ]
    },
    {
      "cell_type": "code",
      "metadata": {
        "id": "cdiATtAAv8BJ",
        "colab_type": "code",
        "colab": {
          "base_uri": "https://localhost:8080/",
          "height": 34
        },
        "outputId": "96281811-91c5-4323-d7e5-b861236bc9f8"
      },
      "source": [
        "def mean_approximation_error(y_real, y_pred):\n",
        "    return np.abs((y_real - y_pred) / y_real).mean()\n",
        "  \n",
        "\n",
        "A = mean_approximation_error(scoring, pred_scoring)\n",
        "print(f'Cредняя ошибка аппроксимации:{A}')  "
      ],
      "execution_count": 34,
      "outputs": [
        {
          "output_type": "stream",
          "text": [
            "Cредняя ошибка аппроксимации:0.11469251843561709\n"
          ],
          "name": "stdout"
        }
      ]
    },
    {
      "cell_type": "markdown",
      "metadata": {
        "id": "h-uJ7ngjwUln",
        "colab_type": "text"
      },
      "source": [
        "**4. Оценка построенное уравнение регрессии с помощью F-критерия Фишера.**"
      ]
    },
    {
      "cell_type": "markdown",
      "metadata": {
        "id": "qCDpBFfDwmag",
        "colab_type": "text"
      },
      "source": [
        "Найдем соответствующую статистику\n",
        "\n",
        "$$T = \\dfrac{R^2}{1 - R^2} \\cdot \\dfrac{n - k - 1}{k},$$\n",
        "где $R^2$ - коэффициент детерминации, $n$ - число наблюдений, $k$ - число факторов."
      ]
    },
    {
      "cell_type": "code",
      "metadata": {
        "id": "LGgJWy8OwgUm",
        "colab_type": "code",
        "colab": {
          "base_uri": "https://localhost:8080/",
          "height": 34
        },
        "outputId": "856b4a29-7348-4df8-d3eb-8b5bf7a5509e"
      },
      "source": [
        "k1 = 1\n",
        "k2 = salary.shape[0] - k1 -1\n",
        "T1 = (R1 / (1 - R1)) * (k2 / k1)\n",
        "T1"
      ],
      "execution_count": 36,
      "outputs": [
        {
          "output_type": "execute_result",
          "data": {
            "text/plain": [
              "29.67164085966437"
            ]
          },
          "metadata": {
            "tags": []
          },
          "execution_count": 36
        }
      ]
    },
    {
      "cell_type": "code",
      "metadata": {
        "id": "KrYL_tVe3Wtw",
        "colab_type": "code",
        "colab": {
          "base_uri": "https://localhost:8080/",
          "height": 34
        },
        "outputId": "6fb7322d-3772-416a-8810-ecbe88805eea"
      },
      "source": [
        "salary.shape[0]"
      ],
      "execution_count": 37,
      "outputs": [
        {
          "output_type": "execute_result",
          "data": {
            "text/plain": [
              "10"
            ]
          },
          "metadata": {
            "tags": []
          },
          "execution_count": 37
        }
      ]
    },
    {
      "cell_type": "markdown",
      "metadata": {
        "id": "tvC1WlFh3ugB",
        "colab_type": "text"
      },
      "source": [
        "Для уровня значимости $\\alpha = 0.05$ посчитаем по таблице значение $F_{crit} = F(1, 10)$."
      ]
    },
    {
      "cell_type": "code",
      "metadata": {
        "id": "1fDSup9C3kLM",
        "colab_type": "code",
        "colab": {
          "base_uri": "https://localhost:8080/",
          "height": 34
        },
        "outputId": "ab095033-250a-4060-edd9-fe015d3db7ac"
      },
      "source": [
        "alpha = 0.05\n",
        "\n",
        "F_crit = stats.f.ppf(1 - alpha, k1, k2)\n",
        "F_crit"
      ],
      "execution_count": 40,
      "outputs": [
        {
          "output_type": "execute_result",
          "data": {
            "text/plain": [
              "5.317655071578714"
            ]
          },
          "metadata": {
            "tags": []
          },
          "execution_count": 40
        }
      ]
    },
    {
      "cell_type": "markdown",
      "metadata": {
        "id": "zwe4uF9j3xGN",
        "colab_type": "text"
      },
      "source": [
        "(29.67 > 5.31), уравнение регрессии статистически значимо"
      ]
    },
    {
      "cell_type": "markdown",
      "metadata": {
        "id": "xH1VMfZQ4atr",
        "colab_type": "text"
      },
      "source": [
        "**5. Оценка значимости получившихся параметров уравнения регрессии и построение для них доверительные интервалы с помощью t-статистики Стьюдента.**"
      ]
    },
    {
      "cell_type": "markdown",
      "metadata": {
        "id": "GYa5sumx4dcR",
        "colab_type": "text"
      },
      "source": [
        "5.1 Оценка значимости и построение доверитеоьного интревала для b1"
      ]
    },
    {
      "cell_type": "markdown",
      "metadata": {
        "id": "lRmeR1zx4iml",
        "colab_type": "text"
      },
      "source": [
        "Стандартной ошибки коэффициента наклона вычисляем по формуле:\n",
        "\n",
        "$$S_{slope} = \\sqrt{\\dfrac{\\frac{1}{n - 2} \\displaystyle\\sum_{i=1}^{n}(y_i - z_i)^2}{\\displaystyle\\sum_{i=1}^n (x_i - \\overline{x})^2}},$$\n",
        "где:\n",
        "\n",
        "$x$, $x_i$ - соответственно, все значения и конкретное значение фактора\n",
        "$y_i$ - конкретное значение оцениваемой (целевой) переменной\n",
        "$z_i$ - \"предсказанное\" значение, полученное с помощью модели регрессии\n",
        "$n$ - число элементов в выборке"
      ]
    },
    {
      "cell_type": "code",
      "metadata": {
        "id": "4BpBW6Yg4hAZ",
        "colab_type": "code",
        "colab": {}
      },
      "source": [
        "def standard_error_slope(x, y, z):\n",
        "    n = x.shape[0]\n",
        "    \n",
        "    upper = ((y - z) ** 2).sum() / (n - 2)\n",
        "    lower = ((x - x.mean()) ** 2).sum()\n",
        "    \n",
        "    return np.sqrt(upper / lower)"
      ],
      "execution_count": 0,
      "outputs": []
    },
    {
      "cell_type": "code",
      "metadata": {
        "id": "q_UbcJ0nC6SF",
        "colab_type": "code",
        "colab": {
          "base_uri": "https://localhost:8080/",
          "height": 34
        },
        "outputId": "1640a4d1-50b7-4053-94af-f902c47768de"
      },
      "source": [
        "s_slope = standard_error_slope(salary, scoring, pred_scoring)\n",
        "s_slope"
      ],
      "execution_count": 43,
      "outputs": [
        {
          "output_type": "execute_result",
          "data": {
            "text/plain": [
              "0.48108279568516005"
            ]
          },
          "metadata": {
            "tags": []
          },
          "execution_count": 43
        }
      ]
    },
    {
      "cell_type": "markdown",
      "metadata": {
        "id": "V4wVZVyRDHTJ",
        "colab_type": "text"
      },
      "source": [
        "Зададим уровень значимости $\\alpha = 0.05$. В нашем случае $n = 10$, поэтому нас интересует квантиль $t_{1 - 0.05/2, \\:8} = 2.306$."
      ]
    },
    {
      "cell_type": "code",
      "metadata": {
        "id": "iYr69pd-DIHS",
        "colab_type": "code",
        "colab": {
          "base_uri": "https://localhost:8080/",
          "height": 34
        },
        "outputId": "e64ce61b-57b2-44cb-bc2e-65380cf94d4f"
      },
      "source": [
        "alpha = 0.05\n",
        "t = stats.t.ppf(1 - alpha/2, salary.shape[0]-2)\n",
        "t"
      ],
      "execution_count": 45,
      "outputs": [
        {
          "output_type": "execute_result",
          "data": {
            "text/plain": [
              "2.3060041350333704"
            ]
          },
          "metadata": {
            "tags": []
          },
          "execution_count": 45
        }
      ]
    },
    {
      "cell_type": "code",
      "metadata": {
        "id": "I9FQOuvYDMrV",
        "colab_type": "code",
        "colab": {
          "base_uri": "https://localhost:8080/",
          "height": 34
        },
        "outputId": "32dcdcf0-6eb8-4223-a2a8-e181d7862eaf"
      },
      "source": [
        "# Значение статистики $T$:\n",
        "T = b1 / s_slope\n",
        "T"
      ],
      "execution_count": 46,
      "outputs": [
        {
          "output_type": "execute_result",
          "data": {
            "text/plain": [
              "5.447168150485579"
            ]
          },
          "metadata": {
            "tags": []
          },
          "execution_count": 46
        }
      ]
    },
    {
      "cell_type": "markdown",
      "metadata": {
        "id": "E9NzPkeuDUbi",
        "colab_type": "text"
      },
      "source": [
        "Интервал критиечской области: $$\\Omega_\\alpha = \\left( -\\infty, - t_{1 - \\alpha/2, \\: n - 2} \\right) \\cup \\left( t_{1 - \\alpha/2, \\: n - 2}, \\infty \\right) = \\left( -\\infty, - 2.306 \\right) \\cup \\left( 2.306, \\infty \\right).$$\n",
        "\n",
        "Значение T попало в критическую область, значит, гипотеза о равенстве нулю параметра b1 отвергается.\n",
        "\n",
        "Доверительный интервал для параметра b1 :"
      ]
    },
    {
      "cell_type": "code",
      "metadata": {
        "id": "egf7Iy12DVQx",
        "colab_type": "code",
        "colab": {
          "base_uri": "https://localhost:8080/",
          "height": 34
        },
        "outputId": "3d7a4ec4-31c6-48da-9ba9-86a51ec70f4c"
      },
      "source": [
        "(b1 - t * s_slope, b1 + t * s_slope)"
      ],
      "execution_count": 47,
      "outputs": [
        {
          "output_type": "execute_result",
          "data": {
            "text/plain": [
              "(1.5111599662593718, 3.729917798546158)"
            ]
          },
          "metadata": {
            "tags": []
          },
          "execution_count": 47
        }
      ]
    },
    {
      "cell_type": "markdown",
      "metadata": {
        "id": "WRc0SghPDcjq",
        "colab_type": "text"
      },
      "source": [
        "**5.2 Оценка значимости и построение доверитеоьного интревала для b0**"
      ]
    },
    {
      "cell_type": "markdown",
      "metadata": {
        "id": "YFPXYS0ADe3o",
        "colab_type": "text"
      },
      "source": [
        "Стандартная ошибка коэффициента сдвига вычисляется по формуле:\n",
        "\n",
        "$$S_{intercept} = S_{slope} \\cdot \\sqrt{\\dfrac{1}{n} \\displaystyle\\sum_{i=1}^n x_i^2}.$$"
      ]
    },
    {
      "cell_type": "code",
      "metadata": {
        "id": "1p1s_luhDeNp",
        "colab_type": "code",
        "colab": {
          "base_uri": "https://localhost:8080/",
          "height": 34
        },
        "outputId": "09a86c2f-f05d-4ea9-a508-d2e37b8415a3"
      },
      "source": [
        "def standard_error_intercept(x, y, z):\n",
        "    return standard_error_slope(x, y, z) * np.sqrt((x ** 2).mean())\n",
        "\n",
        "s_intercept = standard_error_intercept(salary, scoring, pred_scoring)\n",
        "s_intercept"
      ],
      "execution_count": 48,
      "outputs": [
        {
          "output_type": "execute_result",
          "data": {
            "text/plain": [
              "56.46649755068153"
            ]
          },
          "metadata": {
            "tags": []
          },
          "execution_count": 48
        }
      ]
    },
    {
      "cell_type": "code",
      "metadata": {
        "id": "-JdxLbGTDomW",
        "colab_type": "code",
        "colab": {
          "base_uri": "https://localhost:8080/",
          "height": 34
        },
        "outputId": "948becb3-aad7-4e5c-8d2b-a2d95f159999"
      },
      "source": [
        "# Значение статистики T:\n",
        "T = b0 / s_intercept\n",
        "T"
      ],
      "execution_count": 49,
      "outputs": [
        {
          "output_type": "execute_result",
          "data": {
            "text/plain": [
              "7.866210524668863"
            ]
          },
          "metadata": {
            "tags": []
          },
          "execution_count": 49
        }
      ]
    },
    {
      "cell_type": "markdown",
      "metadata": {
        "id": "l_MNMOgRDvUb",
        "colab_type": "text"
      },
      "source": [
        "Значение попало в критическую область, значит, значение параметра $b_0$ является значимым.\n",
        "\n",
        "Доверительный интервал для параметра $b_0$:"
      ]
    },
    {
      "cell_type": "code",
      "metadata": {
        "id": "spDa2n6tDuk5",
        "colab_type": "code",
        "colab": {
          "base_uri": "https://localhost:8080/",
          "height": 34
        },
        "outputId": "25386ed2-132e-4497-fd9a-fb49efe73075"
      },
      "source": [
        "(b0 - t * s_intercept, b0 + t * s_intercept)"
      ],
      "execution_count": 50,
      "outputs": [
        {
          "output_type": "execute_result",
          "data": {
            "text/plain": [
              "(313.9653804816363, 574.3893341670829)"
            ]
          },
          "metadata": {
            "tags": []
          },
          "execution_count": 50
        }
      ]
    },
    {
      "cell_type": "markdown",
      "metadata": {
        "id": "KhWfRhqeilFY",
        "colab_type": "text"
      },
      "source": [
        "__Задача 2__\n",
        "\n",
        "В каких случаях для вычисления доверительных интервалов и проверки статистических гипотез используется таблица значений функции Лапласа, а в каких - таблица квантилей распределения Стьюдента?"
      ]
    },
    {
      "cell_type": "markdown",
      "metadata": {
        "id": "PR6O2tTiD_Z_",
        "colab_type": "text"
      },
      "source": [
        "Таблица квантилей распределения Стьюдента:\n",
        "\n",
        "Случайная величина распределена по нормальному закону распределения\n",
        "Параметры генеральной совокупности не известны\n",
        "Таблица значений функции Лапласа применяется, если:\n",
        "\n",
        "Случайная величина распределена по нормальному закону распределения\n",
        "Параметры генеральной совокупности известны (среднее значение и дисперсия)"
      ]
    },
    {
      "cell_type": "code",
      "metadata": {
        "id": "UCCyfepa4TxY",
        "colab_type": "code",
        "colab": {}
      },
      "source": [
        ""
      ],
      "execution_count": 0,
      "outputs": []
    },
    {
      "cell_type": "code",
      "metadata": {
        "id": "evXaAh-xsaGZ",
        "colab_type": "code",
        "colab": {}
      },
      "source": [
        ""
      ],
      "execution_count": 0,
      "outputs": []
    }
  ]
}