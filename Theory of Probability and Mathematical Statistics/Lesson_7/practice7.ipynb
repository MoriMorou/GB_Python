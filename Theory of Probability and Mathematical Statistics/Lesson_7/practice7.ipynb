{
 "cells": [
  {
   "cell_type": "markdown",
   "metadata": {
    "colab_type": "text",
    "id": "-H0TfXEAVV-c"
   },
   "source": [
    "# Урок 7"
   ]
  },
  {
   "cell_type": "markdown",
   "metadata": {
    "colab_type": "text",
    "id": "4fKVoFlAVV-j"
   },
   "source": [
    "## Многомерный статистический анализ. Линейная регрессия"
   ]
  },
  {
   "cell_type": "markdown",
   "metadata": {
    "colab_type": "text",
    "collapsed": true,
    "id": "5zgH9DMZVV-m"
   },
   "source": [
    "Часто в статистике анализируют __многомерные__ наблюдения, т.е. имеющие несколько признаков.\n",
    "\n",
    "Для этого применяют __многомерный статистический анализ__. Особенно часто его используют, когда нужно:\n",
    "\n",
    "* изучить зависимость между признаками\n",
    "* классифицировать объекты с множеством признаков\n",
    "* понизить размерность пространства признаков (если их слишком много и нет возможности отсеять часть)\n",
    "\n",
    "### Линейная регрессия\n",
    "\n",
    "__Линейная регрессия__ — используемая в статистике регрессионная модель зависимости _объясняемой_ переменной $y$ от другой или нескольких других переменных (_факторов_) $x$ с линейной функцией зависимости:\n",
    "\n",
    "$$y = b_0 + b_1 x_1 + \\dots + b_k x_k + \\varepsilon.$$\n",
    "\n",
    "Здесь $\\varepsilon$ — _ошибка модели_ — нормально распределённая случайная величина с нулевым математическим ожиданием и постоянной дисперсией.\n",
    "\n",
    "__Парная регрессия__ — частный случай линейной регрессии, когда рассматривается только один признак (т.е. $k = 1$). Для парной регрессии коэффициенты вычисляются по формулам:\n",
    "\n",
    "$$b_1 = \\frac{\\overline{yx} - \\overline{y} \\cdot {\\overline{x}}}{\\overline{x^2} - (\\overline{x})^2}, \\: b_0 = \\overline{y} - b_1 \\cdot {\\overline{x}}.$$\n",
    "\n",
    "Здесь $x$, $y$ — данные из выборки, $\\overline{x}$ обозначает выборочное среднее.\n",
    "\n",
    "__Пример 1__\n",
    "\n",
    "Рассмотрим данные со значениями площадей квартир в квадратных метрах (массив `x1`) и соответствующими им ценами на квартиры в тысячах долларов (массив `y1`), приведеннные для 12 наблюдений. По этим данным построим модель линейной регрессии."
   ]
  },
  {
   "cell_type": "code",
   "execution_count": 1,
   "metadata": {},
   "outputs": [],
   "source": [
    "import numpy as np"
   ]
  },
  {
   "cell_type": "code",
   "execution_count": 2,
   "metadata": {},
   "outputs": [],
   "source": [
    "x1 = np.array([80, 90, 85, 115, 85, 85, 90, 80, 105, 110, 65, 100], dtype=np.float64)\n",
    "y1 = np.array([150, 160, 155, 175, 140, 150, 140, 155, 165, 190, 140, 165], dtype=np.float64)"
   ]
  },
  {
   "cell_type": "markdown",
   "metadata": {},
   "source": [
    "Найдём коэффициенты линейной регрессии:"
   ]
  },
  {
   "cell_type": "code",
   "execution_count": 3,
   "metadata": {},
   "outputs": [
    {
     "data": {
      "text/plain": [
       "0.8717472118959082"
      ]
     },
     "execution_count": 3,
     "metadata": {},
     "output_type": "execute_result"
    }
   ],
   "source": [
    "b1 = (np.mean(x1 * y1) - np.mean(x1) * np.mean(y1)) / (np.mean(x1 ** 2) - np.mean(x1) ** 2)\n",
    "b1"
   ]
  },
  {
   "cell_type": "code",
   "execution_count": 4,
   "metadata": {},
   "outputs": [
    {
     "data": {
      "text/plain": [
       "77.89962825278835"
      ]
     },
     "execution_count": 4,
     "metadata": {},
     "output_type": "execute_result"
    }
   ],
   "source": [
    "b0 = np.mean(y1) - b1 * np.mean(x1)\n",
    "b0"
   ]
  },
  {
   "cell_type": "markdown",
   "metadata": {},
   "source": [
    "Итак, модель линейной регрессии имеет вид:\n",
    "\n",
    "$$y = 77.9 + 0.87 \\cdot x,$$\n",
    "\n",
    "т.е. с увеличением площади квартиры на 1 квадратный метр цена возрастет на 0.87 тысячи долларов. Визуализируем полученные результаты на графике:"
   ]
  },
  {
   "cell_type": "code",
   "execution_count": 5,
   "metadata": {},
   "outputs": [],
   "source": [
    "from matplotlib import pyplot as plt"
   ]
  },
  {
   "cell_type": "code",
   "execution_count": 6,
   "metadata": {},
   "outputs": [
    {
     "data": {
      "text/plain": [
       "[<matplotlib.lines.Line2D at 0x7f59ea1bbb00>]"
      ]
     },
     "execution_count": 6,
     "metadata": {},
     "output_type": "execute_result"
    },
    {
     "data": {
      "image/png": "[encoded data removed]",
      "text/plain": [
       "<Figure size 432x288 with 1 Axes>"
      ]
     },
     "metadata": {
      "needs_background": "light"
     },
     "output_type": "display_data"
    }
   ],
   "source": [
    "ox = x1\n",
    "oy = b0 + b1 * ox\n",
    "\n",
    "plt.scatter(x1, y1)\n",
    "plt.plot(ox, oy, color='red')"
   ]
  },
  {
   "cell_type": "markdown",
   "metadata": {},
   "source": [
    "В общем случае, когда факторов больше одного, в некоторых ситуациях удаётся также найти аналитическое решение. Чтобы записать это решение, перейдём к матричной форме записи линейной регрессии. Для удобства введём дополнительный \"фактор\" $x_0 = 1$. Это позволит записать уравнение регрессии в более компактном виде:\n",
    "\n",
    "$$y = x \\cdot b + \\varepsilon,$$\n",
    "\n",
    "где \n",
    "$b = \\left(\n",
    "\\begin{array}{c}\n",
    "b_0 \\\\\n",
    "\\vdots \\\\\n",
    "b_k\n",
    "\\end{array}\n",
    "\\right)$ - столбец коэффициентов регрессии,\n",
    "$x = \\left( x_0, \\dots, x_k \\right)$ - строка факторов.\n",
    "\n",
    "Пусть теперь у нас имеется $m$ реальных наблюдений, т.е. $m$ различных строк $x$ и $m$ различных значений $y$. Эти наблюдения удобно записывать в виде т.н. __матрицы объект-признак__ $X$ и столбца целевого признака. Зафиксируем следующие обозначения, чтобы не путаться:\n",
    "\n",
    "$$X = \\left(\n",
    "\\begin{array}{ccc}\n",
    "x_{10} & \\dots & x_{1k} \\\\\n",
    "x_{20} & \\dots & x_{2k} \\\\\n",
    "\\vdots & \\ddots & \\vdots \\\\\n",
    "x_{m0} & \\dots & x_{mk}\n",
    "\\end{array}\n",
    "\\right), \\: \n",
    "y = \\left(\n",
    "\\begin{array}{c}\n",
    "y_1 \\\\\n",
    "\\vdots \\\\\n",
    "y_m\n",
    "\\end{array}\n",
    "\\right).$$\n",
    "\n",
    "В матрице $X$ размера $m \\times (k + 1)$ каждая строка соответствует одному наблюдению, т.е. содержит в себе $k + 1$ значений соответствующих факторов (включая фиктивный фактор с индексом 0). $i$-му наблюдению соответствует значение в $i$-й строке из $y$.\n",
    "\n",
    "В этих обозначениях задача линейной регрессии состоит в том, чтобы решить систему уравнений:\n",
    "\n",
    "$$X \\cdot b = y$$\n",
    "\n",
    "с вектором переменных $b$. Чаще всего такая система не имеет решений, поэтому задача состоит в минимизации расстояния между векторами $X \\cdot b$ и $y$. Такой подход называется __методом наименьших квадратов__:\n",
    "\n",
    "$$(X \\cdot b - y)^\\top \\cdot (X \\cdot b - y) \\rightarrow \\min_b.$$\n",
    "\n",
    "Для такой задачи возможно записать аналитическое решение:\n",
    "\n",
    "$$b = (X^\\top X)^{-1} X^\\top y.$$\n",
    "\n",
    "Проблема такого решения заключается в том, что в общем случае определитель матрицы $X^\\top X$ может быть очень близок к 0, и из-за этого усложняется задача вычисления обратной матрицы. Поэтому в общем случае более предпочтительным оказывается способ нахождения коэффициентов регрессии, например, с помощью _градиентного спуска_.\n",
    "\n",
    "__Пример 2__\n",
    "\n",
    "Рассмотрим данные о хоккеистах и попробуем построить модель регрессии, которая будет предсказывать водраст хоккеиста по его росту и весу."
   ]
  },
  {
   "cell_type": "code",
   "execution_count": 7,
   "metadata": {},
   "outputs": [],
   "source": [
    "import pandas as pd"
   ]
  },
  {
   "cell_type": "code",
   "execution_count": 8,
   "metadata": {},
   "outputs": [],
   "source": [
    "df = pd.read_csv('hockey_players.csv', encoding='cp1251', parse_dates=['birth'])\n",
    "df = df.drop_duplicates(['name', 'birth'])"
   ]
  },
  {
   "cell_type": "code",
   "execution_count": 9,
   "metadata": {},
   "outputs": [],
   "source": [
    "x2 = df[['height', 'weight']].values\n",
    "y2 = df['age'].values.reshape(-1, 1)"
   ]
  },
  {
   "cell_type": "code",
   "execution_count": 11,
   "metadata": {},
   "outputs": [
    {
     "data": {
      "text/plain": [
       "array([[24.95277207],\n",
       "       [21.11978097],\n",
       "       [25.229295  ],\n",
       "       ...,\n",
       "       [26.82546201],\n",
       "       [26.01232033],\n",
       "       [20.39698836]])"
      ]
     },
     "execution_count": 11,
     "metadata": {},
     "output_type": "execute_result"
    }
   ],
   "source": [
    "y2"
   ]
  },
  {
   "cell_type": "markdown",
   "metadata": {},
   "source": [
    "К матрице $X$ (массив `x2`) нужно также добавить столбец из 1, соответствующий фиктивному фактору."
   ]
  },
  {
   "cell_type": "code",
   "execution_count": 12,
   "metadata": {},
   "outputs": [
    {
     "data": {
      "text/plain": [
       "(3294, 2)"
      ]
     },
     "execution_count": 12,
     "metadata": {},
     "output_type": "execute_result"
    }
   ],
   "source": [
    "x2.shape"
   ]
  },
  {
   "cell_type": "code",
   "execution_count": 13,
   "metadata": {},
   "outputs": [],
   "source": [
    "ones = np.ones((x2.shape[0], 1))\n",
    "x2 = np.hstack((ones, x2))"
   ]
  },
  {
   "cell_type": "code",
   "execution_count": 14,
   "metadata": {},
   "outputs": [
    {
     "data": {
      "text/plain": [
       "(3294, 3)"
      ]
     },
     "execution_count": 14,
     "metadata": {},
     "output_type": "execute_result"
    }
   ],
   "source": [
    "x2.shape"
   ]
  },
  {
   "cell_type": "code",
   "execution_count": 15,
   "metadata": {},
   "outputs": [
    {
     "data": {
      "text/plain": [
       "array([[  1., 185.,  84.],\n",
       "       [  1., 188.,  86.],\n",
       "       [  1., 182.,  95.],\n",
       "       ...,\n",
       "       [  1., 191.,  88.],\n",
       "       [  1., 188.,  89.],\n",
       "       [  1., 193.,  95.]])"
      ]
     },
     "execution_count": 15,
     "metadata": {},
     "output_type": "execute_result"
    }
   ],
   "source": [
    "x2"
   ]
  },
  {
   "cell_type": "markdown",
   "metadata": {},
   "source": [
    "Запишем матрицу $X^\\top X$ и посчитаем её определитель."
   ]
  },
  {
   "cell_type": "code",
   "execution_count": 16,
   "metadata": {},
   "outputs": [
    {
     "data": {
      "text/plain": [
       "27479241781875.965"
      ]
     },
     "execution_count": 16,
     "metadata": {},
     "output_type": "execute_result"
    }
   ],
   "source": [
    "XTX = x2.T.dot(x2)\n",
    "\n",
    "np.linalg.det(XTX)"
   ]
  },
  {
   "cell_type": "markdown",
   "metadata": {},
   "source": [
    "Определитель не близок к нулю, поэтому можно записать аналитическое решение:"
   ]
  },
  {
   "cell_type": "code",
   "execution_count": 17,
   "metadata": {},
   "outputs": [
    {
     "name": "stdout",
     "output_type": "stream",
     "text": [
      "[[50.41616613]\n",
      " [-0.21077511]\n",
      " [ 0.16818038]]\n"
     ]
    }
   ],
   "source": [
    "XTX_inv = np.linalg.inv(XTX)\n",
    "\n",
    "b = XTX_inv.dot(x2.T).dot(y2)\n",
    "\n",
    "print(b)"
   ]
  },
  {
   "cell_type": "markdown",
   "metadata": {},
   "source": [
    "Итак, наша модель регрессии имеет вид:\n",
    "\n",
    "$$y = 50.4162 - 0.2108 \\cdot x_1 + 0.1682 \\cdot x_2,$$\n",
    "\n",
    "где $x_1$ - рост хоккеиста, $x_2$ - вес хоккеиста."
   ]
  },
  {
   "cell_type": "markdown",
   "metadata": {},
   "source": [
    "Для оценки качества модели линейной регрессии можно использовать __коэффициент детерминации__. Этот коэффициент представляет собой долю дисперсии переменной $y$, которая _объясняется_ моделью. Он обозначается $R^2$ и принимает значения между 0 и 1.\n",
    "\n",
    "Допустим, имеется датасет из пар $(x_i, y_i)$, и построена модель парной регрессии с коэффициентами $b_0$, $b_1$. Обозначим переменной $z$ “предсказания” регрессионной модели: \n",
    "\n",
    "$$z_i = b_0 + b_1 x_i.$$\n",
    "\n",
    "Тогда дисперсию объясняемой переменной y и дисперсию модели можно посчитать следующим образом:\n",
    "\n",
    "$$D_y = \\dfrac{1}{n} \\displaystyle\\sum_{i = 1}^n (y_i - \\overline{y})^2, \\:\n",
    "D_{model} = \\dfrac{1}{n} \\displaystyle\\sum_{i = 1}^n (z_i - \\overline{z})^2.$$\n",
    "\n",
    "Коэффициент детерминации тогда считается следующим образом:\n",
    "\n",
    "$$R^2 = \\dfrac{D_{model}}{D_y}.$$\n",
    "\n",
    "Коэффициент детерминации можно также посчитать как квадрат коэффициента корреляции между объясняемой переменной $y$ и “предсказанной” переменной $z$:\n",
    "\n",
    "$$R^2 = r_{yz}^2.$$\n",
    "\n",
    "В случае парной регрессии это значение сводится к корреляции между переменными $x$ и $y$:\n",
    "\n",
    "$$R^2 = r_{xy}^2.$$\n"
   ]
  },
  {
   "cell_type": "markdown",
   "metadata": {},
   "source": [
    "__Пример 3__\n",
    "\n",
    "Посчитаем коэффициент детерминации для модели из примера 1. Для этого создадим массив из предсказанных значений:"
   ]
  },
  {
   "cell_type": "code",
   "execution_count": 18,
   "metadata": {},
   "outputs": [
    {
     "name": "stdout",
     "output_type": "stream",
     "text": [
      "real: [150. 160. 155. 175. 140.]\n",
      "pred: [147.6394052  156.35687732 151.99814126 178.15055762 151.99814126]\n"
     ]
    }
   ],
   "source": [
    "z1 = b0 + b1 * x1\n",
    "\n",
    "print(f'real: {y1[:5]}')\n",
    "print(f'pred: {z1[:5]}')"
   ]
  },
  {
   "cell_type": "markdown",
   "metadata": {},
   "source": [
    "Итак, коэффициент детерминации:"
   ]
  },
  {
   "cell_type": "code",
   "execution_count": 19,
   "metadata": {},
   "outputs": [
    {
     "data": {
      "text/plain": [
       "0.6752261641274645"
      ]
     },
     "execution_count": 19,
     "metadata": {},
     "output_type": "execute_result"
    }
   ],
   "source": [
    "R1 = z1.var() / y1.var()\n",
    "R1"
   ]
  },
  {
   "cell_type": "markdown",
   "metadata": {},
   "source": [
    "Коэффициент детерминации, равный $0.6752$, означает, что $67 \\%$ дисперсии переменной $y$ _учитывается_ или _объясняется_ моделью. Оставшиеся $33 \\%$ обусловлены какими-то ещё факторами, которые модель не учла.\n",
    "\n",
    "Посчитаем это значение как квадрат коэффициента корреляции между массивами `x` и `y`:"
   ]
  },
  {
   "cell_type": "code",
   "execution_count": 20,
   "metadata": {},
   "outputs": [
    {
     "data": {
      "text/plain": [
       "array([[1.        , 0.67522616],\n",
       "       [0.67522616, 1.        ]])"
      ]
     },
     "execution_count": 20,
     "metadata": {},
     "output_type": "execute_result"
    }
   ],
   "source": [
    "np.corrcoef(x1, y1) ** 2"
   ]
  },
  {
   "cell_type": "markdown",
   "metadata": {},
   "source": [
    "__Пример 4__\n",
    "\n",
    "Также посчитаем коэффициент деретминации для примера 2:"
   ]
  },
  {
   "cell_type": "code",
   "execution_count": 21,
   "metadata": {},
   "outputs": [
    {
     "name": "stdout",
     "output_type": "stream",
     "text": [
      "real: [[24.95277207 21.11978097 25.229295   29.67556468 23.49075975 25.43737166]]\n",
      "pred: [[25.54992175 25.25395716 28.03223123 27.19352792 28.33039439 25.37734423]]\n"
     ]
    }
   ],
   "source": [
    "z2 = x2.dot(b)\n",
    "\n",
    "print(f'real: {y2[:6].T}')\n",
    "print(f'pred: {z2[:6].T}')"
   ]
  },
  {
   "cell_type": "code",
   "execution_count": 22,
   "metadata": {},
   "outputs": [
    {
     "data": {
      "text/plain": [
       "0.04641517695954771"
      ]
     },
     "execution_count": 22,
     "metadata": {},
     "output_type": "execute_result"
    }
   ],
   "source": [
    "R2 = z2.var() / y2.var()\n",
    "R2"
   ]
  },
  {
   "cell_type": "markdown",
   "metadata": {},
   "source": [
    "Как мы видим, коэффициент детерминации для второй модели оказался очень низок, несмотря на то, что результаты в целом неплохие.\n",
    "\n",
    "Другим удобным способом оценки качества модели является __средняя ошибка аппроксимации__. Она вычисляется по формуле:\n",
    "\n",
    "$$\\overline{A} = \\frac{1}{n} \\displaystyle\\sum_{i=1}^{n} \\Bigl| {{\\frac{y_i - z_i}{y_i}} \\Bigr|}.$$\n",
    "\n",
    "Если $\\overline{A}$ не превышает $8-10 \\%$, можно сказать, что теоретические значения близки к тем, которые выдает модель линейной регрессии."
   ]
  },
  {
   "cell_type": "markdown",
   "metadata": {},
   "source": [
    "__Пример 5__\n",
    "\n",
    "Посчитаем среднюю ошибку аппроксимации для первых двух примеров."
   ]
  },
  {
   "cell_type": "code",
   "execution_count": 24,
   "metadata": {},
   "outputs": [],
   "source": [
    "def mean_approximation_error(y_real, y_pred):\n",
    "    return np.abs((y_real - y_pred) / y_real).mean()"
   ]
  },
  {
   "cell_type": "markdown",
   "metadata": {},
   "source": [
    "Для примера 1:"
   ]
  },
  {
   "cell_type": "code",
   "execution_count": 25,
   "metadata": {},
   "outputs": [
    {
     "data": {
      "text/plain": [
       "0.040889968858542215"
      ]
     },
     "execution_count": 25,
     "metadata": {},
     "output_type": "execute_result"
    }
   ],
   "source": [
    "mean_approximation_error(y1, z1)"
   ]
  },
  {
   "cell_type": "markdown",
   "metadata": {},
   "source": [
    "Для примера 2:"
   ]
  },
  {
   "cell_type": "code",
   "execution_count": 26,
   "metadata": {},
   "outputs": [
    {
     "data": {
      "text/plain": [
       "0.1295781818749446"
      ]
     },
     "execution_count": 26,
     "metadata": {},
     "output_type": "execute_result"
    }
   ],
   "source": [
    "mean_approximation_error(y2, z2)"
   ]
  },
  {
   "cell_type": "markdown",
   "metadata": {},
   "source": [
    "### Оценка значимости уравнения линейной регрессии\n",
    "\n",
    "Оценить статистическую значимость уравнения линейной регрессии в целом можно с помощью __F-критерия Фишера__. Соответствующая статистика равна\n",
    "\n",
    "$$T = \\dfrac{R^2}{1 - R^2} \\cdot \\dfrac{n - k - 1}{k},$$\n",
    "\n",
    "где $R^2$ - коэффициент детерминации, $n$ - число наблюдений, $k$ - число факторов. В литературе часто используются обозначения $k_1 = k$, $k_2 = n - k - 1$ (иногда вместо $k_1$, $k_2$ пишут также $f_1$, $f_2$).\n",
    "\n",
    "По таблице (например, по [такой](https://www.chem-astu.ru/science/reference/F-statistic.html)) вычисляется критическое значение $F_{сrit} = F(k_1, k_2)$. Это же значение можно вычислить с помощью функции `scipy.stats.f.ppf`.\n",
    "\n",
    "Если $T > F_{crit}$, то уравнение регрессии признаётся статистически значимым.\n",
    "\n",
    "__Пример 6__\n",
    "\n",
    "Для первого примера имеем $k_1 = 1$, $k_2 = 12 - 2 = 10$. Посчитаем значение статистики $T$:"
   ]
  },
  {
   "cell_type": "code",
   "execution_count": 27,
   "metadata": {},
   "outputs": [
    {
     "data": {
      "text/plain": [
       "20.79065766838655"
      ]
     },
     "execution_count": 27,
     "metadata": {},
     "output_type": "execute_result"
    }
   ],
   "source": [
    "k1 = 1\n",
    "k2 = 10\n",
    "\n",
    "T1 = (R1 / (1 - R1)) * (k2 / k1)\n",
    "T1"
   ]
  },
  {
   "cell_type": "markdown",
   "metadata": {},
   "source": [
    "Для уровня значимости $\\alpha = 0.05$ посчитаем по таблице значение $F_{crit} = F(1, 10)$. Оно равно 4.96. То же самое с помощью `scipy`:"
   ]
  },
  {
   "cell_type": "code",
   "execution_count": 28,
   "metadata": {},
   "outputs": [],
   "source": [
    "from scipy import stats"
   ]
  },
  {
   "cell_type": "code",
   "execution_count": 29,
   "metadata": {},
   "outputs": [
    {
     "data": {
      "text/plain": [
       "4.9646027437307145"
      ]
     },
     "execution_count": 29,
     "metadata": {},
     "output_type": "execute_result"
    }
   ],
   "source": [
    "alpha = 0.05\n",
    "\n",
    "F_crit = stats.f.ppf(1 - alpha, k1, k2)\n",
    "F_crit"
   ]
  },
  {
   "cell_type": "markdown",
   "metadata": {},
   "source": [
    "Имеем $T > F_{crit}$, поэтому уравнение регрессии статистически значимо.\n",
    "\n",
    "Для второго примера $k_1 = 2$, $k_2 = 3294 - 2 - 1 = 3291$. Значение статистики $T$:"
   ]
  },
  {
   "cell_type": "code",
   "execution_count": 30,
   "metadata": {},
   "outputs": [
    {
     "data": {
      "text/plain": [
       "80.09373874409468"
      ]
     },
     "execution_count": 30,
     "metadata": {},
     "output_type": "execute_result"
    }
   ],
   "source": [
    "k1 = 2\n",
    "k2 = 3291\n",
    "\n",
    "T2 = (R2 / (1 - R2)) * (k2 / k1)\n",
    "T2"
   ]
  },
  {
   "cell_type": "markdown",
   "metadata": {},
   "source": [
    "Критическое значение:"
   ]
  },
  {
   "cell_type": "code",
   "execution_count": 31,
   "metadata": {},
   "outputs": [
    {
     "data": {
      "text/plain": [
       "2.9984608850665975"
      ]
     },
     "execution_count": 31,
     "metadata": {},
     "output_type": "execute_result"
    }
   ],
   "source": [
    "stats.f.ppf(1 - alpha, k1, k2)"
   ]
  },
  {
   "cell_type": "markdown",
   "metadata": {},
   "source": [
    "В случае парной регрессии с помощью t-распределения можно оценить статистическую значимость каждого параметра из уравнения регрессии, а также построить доверительные интервалы.\n",
    "\n",
    "Например, оценим значимость и построим доверительный интервал коэффициента наклона $b_1$ (из уравнения $y = b_0 + b_1 \\cdot x$). Нам понадобится значение __стандартной ошибки коэффициента наклона__. Она вычисляется по формуле:\n",
    "\n",
    "$$S_{slope} = \\sqrt{\\dfrac{\\frac{1}{n - 2} \\displaystyle\\sum_{i=1}^{n}(y_i - z_i)^2}{\\displaystyle\\sum_{i=1}^n (x_i - \\overline{x})^2}},$$\n",
    "\n",
    "где:\n",
    "* $x$, $x_i$ - соответственно, все значения и конкретное значение фактора\n",
    "* $y_i$ - конкретное значение оцениваемой (целевой) переменной\n",
    "* $z_i$ - \"предсказанное\" значение, полученное с помощью модели регрессии\n",
    "* $n$ - число элементов в выборке\n",
    "\n",
    "Допустим, мы получили коэффициент наклона $\\hat{b}_1$ (например, с помощью формул для парной регрессии или с помощью метода наименьших квадратов). Чтобы оценить значимость этого параметра, рассмотрим нулевую гипотезу $H_0$, которая утверждает, что реальное значение коэффициента $b_1$ равно 0 (т.е. что между значениями $x$ и $y$ нет корреляции). Тогда статистика\n",
    "\n",
    "$$T = \\dfrac{\\hat{b}_1}{S_{slope}}$$\n",
    "\n",
    "имеет распределение Стьюдента со степенями свободы $n - 2$. Зададим уровень значимости $\\alpha$. Тогда критическая область выглядит следующим образом:\n",
    "\n",
    "$$\\Omega_\\alpha = \\left( -\\infty, - t_{1 - \\alpha/2, \\: n - 2} \\right) \\cup \\left( t_{1 - \\alpha/2, \\: n - 2}, \\infty \\right).$$\n",
    "\n",
    "Если полученное нами значение $\\hat{b}_1$ попадает в критическую область, то нулевая гипотеза (об отсутствии корреляции между значениями из $x$ и $y$) отвергается, откуда следует, что параметр $b_1$ является значимым.\n",
    "\n",
    "Доверительный интервал для коэффициента $b_1$:\n",
    "\n",
    "$$\\left( \\hat{b}_1 - t_{1 - \\alpha/2, \\: n - 2} \\cdot S_{slope}, \\: \\hat{b}_1 + t_{1 - \\alpha/2, \\: n - 2} \\cdot S_{slope} \\right).$$\n",
    "\n",
    "Аналогично можно проверить значимость коэффициента сдвига $b_0$ и построить доверительный интервал для него. Стандартная ошибка коэффициента сдвига вычисляется по формуле:\n",
    "\n",
    "$$S_{intercept} = S_{slope} \\cdot \\sqrt{\\dfrac{1}{n} \\displaystyle\\sum_{i=1}^n x_i^2}.$$"
   ]
  },
  {
   "cell_type": "markdown",
   "metadata": {},
   "source": [
    "__Пример 7__\n",
    "\n",
    "В примере 1 мы получили модель парной регрессии с коэффициентами:"
   ]
  },
  {
   "cell_type": "code",
   "execution_count": 32,
   "metadata": {},
   "outputs": [
    {
     "data": {
      "text/plain": [
       "(77.89962825278835, 0.8717472118959082)"
      ]
     },
     "execution_count": 32,
     "metadata": {},
     "output_type": "execute_result"
    }
   ],
   "source": [
    "b0, b1"
   ]
  },
  {
   "cell_type": "markdown",
   "metadata": {},
   "source": [
    "Проверим значимость коэффициента наклона, а также построим для него доверительный интервал."
   ]
  },
  {
   "cell_type": "code",
   "execution_count": 33,
   "metadata": {},
   "outputs": [],
   "source": [
    "def standard_error_slope(x, y, z):\n",
    "    n = x.shape[0]\n",
    "    \n",
    "    upper = ((y - z) ** 2).sum() / (n - 2)\n",
    "    lower = ((x - x.mean()) ** 2).sum()\n",
    "    \n",
    "    return np.sqrt(upper / lower)"
   ]
  },
  {
   "cell_type": "code",
   "execution_count": 34,
   "metadata": {},
   "outputs": [
    {
     "data": {
      "text/plain": [
       "0.19118616125822901"
      ]
     },
     "execution_count": 34,
     "metadata": {},
     "output_type": "execute_result"
    }
   ],
   "source": [
    "s_slope = standard_error_slope(x1, y1, z1)\n",
    "s_slope"
   ]
  },
  {
   "cell_type": "markdown",
   "metadata": {},
   "source": [
    "Зададим уровень значимости $\\alpha = 0.05$. В нашем случае $n = 12$, поэтому нас интересует квантиль $t_{1 - 0.05/2, \\: 10} = 2.2281$. Значение статистики $T$:"
   ]
  },
  {
   "cell_type": "code",
   "execution_count": 35,
   "metadata": {},
   "outputs": [
    {
     "data": {
      "text/plain": [
       "4.55967736450583"
      ]
     },
     "execution_count": 35,
     "metadata": {},
     "output_type": "execute_result"
    }
   ],
   "source": [
    "T = b1 / s_slope\n",
    "T"
   ]
  },
  {
   "cell_type": "markdown",
   "metadata": {},
   "source": [
    "Значение попало в критическую область, значит, гипотеза о равенстве нулю параметра $b_1$ отвергается.\n",
    "\n",
    "Доверительный интервал для параметра $b_1$:"
   ]
  },
  {
   "cell_type": "code",
   "execution_count": 36,
   "metadata": {},
   "outputs": [
    {
     "data": {
      "text/plain": [
       "(0.44576532599644814, 1.2977290977953682)"
      ]
     },
     "execution_count": 36,
     "metadata": {},
     "output_type": "execute_result"
    }
   ],
   "source": [
    "t = 2.2281\n",
    "\n",
    "(b1 - t * s_slope, b1 + t * s_slope)"
   ]
  },
  {
   "cell_type": "markdown",
   "metadata": {},
   "source": [
    "Аналогично для параметра $b_0$:"
   ]
  },
  {
   "cell_type": "code",
   "execution_count": 38,
   "metadata": {},
   "outputs": [],
   "source": [
    "def standard_error_intercept(x, y, z):\n",
    "    return standard_error_slope(x, y, z) * np.sqrt((x ** 2).mean())"
   ]
  },
  {
   "cell_type": "code",
   "execution_count": 39,
   "metadata": {},
   "outputs": [
    {
     "data": {
      "text/plain": [
       "17.561570286154595"
      ]
     },
     "execution_count": 39,
     "metadata": {},
     "output_type": "execute_result"
    }
   ],
   "source": [
    "s_intercept = standard_error_intercept(x1, y1, z1)\n",
    "s_intercept"
   ]
  },
  {
   "cell_type": "markdown",
   "metadata": {},
   "source": [
    "Значение статистики $T$:"
   ]
  },
  {
   "cell_type": "code",
   "execution_count": 40,
   "metadata": {},
   "outputs": [
    {
     "data": {
      "text/plain": [
       "4.435800841465971"
      ]
     },
     "execution_count": 40,
     "metadata": {},
     "output_type": "execute_result"
    }
   ],
   "source": [
    "T = b0 / s_intercept\n",
    "T"
   ]
  },
  {
   "cell_type": "markdown",
   "metadata": {},
   "source": [
    "Значение попало в критическую область, значит, значение параметра $b_0$ является значимым.\n",
    "\n",
    "Доверительный интервал для параметра $b_0$:"
   ]
  },
  {
   "cell_type": "code",
   "execution_count": 41,
   "metadata": {},
   "outputs": [
    {
     "data": {
      "text/plain": [
       "(38.770693498207294, 117.0285630073694)"
      ]
     },
     "execution_count": 41,
     "metadata": {},
     "output_type": "execute_result"
    }
   ],
   "source": [
    "(b0 - t * s_intercept, b0 + t * s_intercept)"
   ]
  },
  {
   "cell_type": "markdown",
   "metadata": {},
   "source": [
    "### Упражнения"
   ]
  },
  {
   "cell_type": "markdown",
   "metadata": {},
   "source": [
    "__Задача 1__\n",
    "\n",
    "Даны значения величины заработной платы заемщиков банка (`salary`) и значения их поведенческого кредитного скоринга (`scoring`):\n",
    "```\n",
    "salary = [35, 45, 190, 200, 40, 70, 54, 150, 120, 110]\n",
    "scoring = [401, 574, 874, 919, 459, 739, 653, 902, 746, 832]\n",
    "```\n",
    "Возьмём в качестве признака значение `salary`, а в качестве целевой переменной - `scoring`.\n",
    "\n",
    "1. Найдите коэффициенты линейной регрессии с помощью формул для парной регрессии, а затем с помощью метода наименьших квадратов.\n",
    "2. Постройте `scatter plot` по данным и отметьте на нём прямую линейной регрессии, полученную в п. 1.\n",
    "3. Посчитайте коэффициент детерминации, среднюю ошибку аппроксимации.\n",
    "4. Оцените построенное уравнение регрессии с помощью F-критерия Фишера.\n",
    "5. Оцените значимость получившихся параметров уравнения регрессии и постройте для них доверительные интервалы с помощью t-статистики Стьюдента.\n",
    "\n",
    "__Задача 2__\n",
    "\n",
    "В каких случаях для вычисления доверительных интервалов и проверки статистических гипотез используется таблица значений функции Лапласа, а в каких - таблица квантилей распределения Стьюдента?"
   ]
  }
 ],
 "metadata": {
  "colab": {
   "collapsed_sections": [],
   "name": "Матстат - Урок 7.ipynb",
   "provenance": [],
   "version": "0.3.2"
  },
  "kernelspec": {
   "display_name": "Python 3",
   "language": "python",
   "name": "python3"
  },
  "language_info": {
   "codemirror_mode": {
    "name": "ipython",
    "version": 3
   },
   "file_extension": ".py",
   "mimetype": "text/x-python",
   "name": "python",
   "nbconvert_exporter": "python",
   "pygments_lexer": "ipython3",
   "version": "3.6.7"
  }
 },
 "nbformat": 4,
 "nbformat_minor": 1
}
