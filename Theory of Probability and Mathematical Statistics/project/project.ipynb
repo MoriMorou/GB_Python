{
 "cells": [
  {
   "cell_type": "markdown",
   "metadata": {},
   "source": [
    "### **Проектная работа**\n"
   ]
  },
  {
   "cell_type": "markdown",
   "metadata": {},
   "source": [
    "факультет: Geek University Искусственного интеллекта<br>\n",
    "курс: Теория вероятностей и математическая статистика<br>\n",
    "автор: Зелепукин Алексей Юрьевич"
   ]
  },
  {
   "cell_type": "markdown",
   "metadata": {},
   "source": [
    "#### **Данные**"
   ]
  },
  {
   "cell_type": "code",
   "execution_count": 1,
   "metadata": {},
   "outputs": [],
   "source": [
    "import pandas as pd\n",
    "import numpy as np\n",
    "import matplotlib.pyplot as plt\n",
    "import seaborn as sns\n",
    "import scipy.stats\n",
    "\n",
    "%matplotlib inline"
   ]
  },
  {
   "cell_type": "markdown",
   "metadata": {},
   "source": [
    "Данные для исследования и анализа взяты из открытого источника:\n",
    "- https://www.imdb.com/interfaces/\n",
    "- https://datasets.imdbws.com/"
   ]
  },
  {
   "cell_type": "code",
   "execution_count": 2,
   "metadata": {},
   "outputs": [],
   "source": [
    "basics = pd.read_csv('title.basics.tsv.gz', sep='\\t', encoding='utf-8')\n",
    "ratings = pd.read_csv('title.ratings.tsv.gz', sep='\\t', encoding='utf-8')"
   ]
  },
  {
   "cell_type": "code",
   "execution_count": 3,
   "metadata": {},
   "outputs": [
    {
     "data": {
      "text/html": [
       "<div>\n",
       "<style scoped>\n",
       "    .dataframe tbody tr th:only-of-type {\n",
       "        vertical-align: middle;\n",
       "    }\n",
       "\n",
       "    .dataframe tbody tr th {\n",
       "        vertical-align: top;\n",
       "    }\n",
       "\n",
       "    .dataframe thead th {\n",
       "        text-align: right;\n",
       "    }\n",
       "</style>\n",
       "<table border=\"1\" class=\"dataframe\">\n",
       "  <thead>\n",
       "    <tr style=\"text-align: right;\">\n",
       "      <th></th>\n",
       "      <th>tconst</th>\n",
       "      <th>titleType</th>\n",
       "      <th>primaryTitle</th>\n",
       "      <th>originalTitle</th>\n",
       "      <th>isAdult</th>\n",
       "      <th>startYear</th>\n",
       "      <th>endYear</th>\n",
       "      <th>runtimeMinutes</th>\n",
       "      <th>genres</th>\n",
       "    </tr>\n",
       "  </thead>\n",
       "  <tbody>\n",
       "    <tr>\n",
       "      <th>0</th>\n",
       "      <td>tt0000001</td>\n",
       "      <td>short</td>\n",
       "      <td>Carmencita</td>\n",
       "      <td>Carmencita</td>\n",
       "      <td>0</td>\n",
       "      <td>1894</td>\n",
       "      <td>\\N</td>\n",
       "      <td>1</td>\n",
       "      <td>Documentary,Short</td>\n",
       "    </tr>\n",
       "    <tr>\n",
       "      <th>1</th>\n",
       "      <td>tt0000002</td>\n",
       "      <td>short</td>\n",
       "      <td>Le clown et ses chiens</td>\n",
       "      <td>Le clown et ses chiens</td>\n",
       "      <td>0</td>\n",
       "      <td>1892</td>\n",
       "      <td>\\N</td>\n",
       "      <td>5</td>\n",
       "      <td>Animation,Short</td>\n",
       "    </tr>\n",
       "    <tr>\n",
       "      <th>2</th>\n",
       "      <td>tt0000003</td>\n",
       "      <td>short</td>\n",
       "      <td>Pauvre Pierrot</td>\n",
       "      <td>Pauvre Pierrot</td>\n",
       "      <td>0</td>\n",
       "      <td>1892</td>\n",
       "      <td>\\N</td>\n",
       "      <td>4</td>\n",
       "      <td>Animation,Comedy,Romance</td>\n",
       "    </tr>\n",
       "    <tr>\n",
       "      <th>3</th>\n",
       "      <td>tt0000004</td>\n",
       "      <td>short</td>\n",
       "      <td>Un bon bock</td>\n",
       "      <td>Un bon bock</td>\n",
       "      <td>0</td>\n",
       "      <td>1892</td>\n",
       "      <td>\\N</td>\n",
       "      <td>\\N</td>\n",
       "      <td>Animation,Short</td>\n",
       "    </tr>\n",
       "    <tr>\n",
       "      <th>4</th>\n",
       "      <td>tt0000005</td>\n",
       "      <td>short</td>\n",
       "      <td>Blacksmith Scene</td>\n",
       "      <td>Blacksmith Scene</td>\n",
       "      <td>0</td>\n",
       "      <td>1893</td>\n",
       "      <td>\\N</td>\n",
       "      <td>1</td>\n",
       "      <td>Comedy,Short</td>\n",
       "    </tr>\n",
       "  </tbody>\n",
       "</table>\n",
       "</div>"
      ],
      "text/plain": [
       "      tconst titleType            primaryTitle           originalTitle  \\\n",
       "0  tt0000001     short              Carmencita              Carmencita   \n",
       "1  tt0000002     short  Le clown et ses chiens  Le clown et ses chiens   \n",
       "2  tt0000003     short          Pauvre Pierrot          Pauvre Pierrot   \n",
       "3  tt0000004     short             Un bon bock             Un bon bock   \n",
       "4  tt0000005     short        Blacksmith Scene        Blacksmith Scene   \n",
       "\n",
       "   isAdult startYear endYear runtimeMinutes                    genres  \n",
       "0        0      1894      \\N              1         Documentary,Short  \n",
       "1        0      1892      \\N              5           Animation,Short  \n",
       "2        0      1892      \\N              4  Animation,Comedy,Romance  \n",
       "3        0      1892      \\N             \\N           Animation,Short  \n",
       "4        0      1893      \\N              1              Comedy,Short  "
      ]
     },
     "execution_count": 3,
     "metadata": {},
     "output_type": "execute_result"
    }
   ],
   "source": [
    "basics.head()"
   ]
  },
  {
   "cell_type": "code",
   "execution_count": 4,
   "metadata": {},
   "outputs": [
    {
     "data": {
      "text/html": [
       "<div>\n",
       "<style scoped>\n",
       "    .dataframe tbody tr th:only-of-type {\n",
       "        vertical-align: middle;\n",
       "    }\n",
       "\n",
       "    .dataframe tbody tr th {\n",
       "        vertical-align: top;\n",
       "    }\n",
       "\n",
       "    .dataframe thead th {\n",
       "        text-align: right;\n",
       "    }\n",
       "</style>\n",
       "<table border=\"1\" class=\"dataframe\">\n",
       "  <thead>\n",
       "    <tr style=\"text-align: right;\">\n",
       "      <th></th>\n",
       "      <th>tconst</th>\n",
       "      <th>averageRating</th>\n",
       "      <th>numVotes</th>\n",
       "    </tr>\n",
       "  </thead>\n",
       "  <tbody>\n",
       "    <tr>\n",
       "      <th>0</th>\n",
       "      <td>tt0000001</td>\n",
       "      <td>5.8</td>\n",
       "      <td>1496</td>\n",
       "    </tr>\n",
       "    <tr>\n",
       "      <th>1</th>\n",
       "      <td>tt0000002</td>\n",
       "      <td>6.3</td>\n",
       "      <td>181</td>\n",
       "    </tr>\n",
       "    <tr>\n",
       "      <th>2</th>\n",
       "      <td>tt0000003</td>\n",
       "      <td>6.6</td>\n",
       "      <td>1136</td>\n",
       "    </tr>\n",
       "    <tr>\n",
       "      <th>3</th>\n",
       "      <td>tt0000004</td>\n",
       "      <td>6.4</td>\n",
       "      <td>110</td>\n",
       "    </tr>\n",
       "    <tr>\n",
       "      <th>4</th>\n",
       "      <td>tt0000005</td>\n",
       "      <td>6.2</td>\n",
       "      <td>1837</td>\n",
       "    </tr>\n",
       "  </tbody>\n",
       "</table>\n",
       "</div>"
      ],
      "text/plain": [
       "      tconst  averageRating  numVotes\n",
       "0  tt0000001            5.8      1496\n",
       "1  tt0000002            6.3       181\n",
       "2  tt0000003            6.6      1136\n",
       "3  tt0000004            6.4       110\n",
       "4  tt0000005            6.2      1837"
      ]
     },
     "execution_count": 4,
     "metadata": {},
     "output_type": "execute_result"
    }
   ],
   "source": [
    "ratings.head()"
   ]
  },
  {
   "cell_type": "markdown",
   "metadata": {},
   "source": [
    "#### **Анализ средней продолжительности фильмов в зависимости от жанра**"
   ]
  },
  {
   "cell_type": "markdown",
   "metadata": {},
   "source": [
    "Предположение: жанр влияет на среднюю продолжительность фильма<br>\n",
    "Гипотеза H0: средняя продолжительность фильма не зависит от жанра<br>\n",
    "Гипотеза H1: средняя продолжительность фильма зависит от жанра. "
   ]
  },
  {
   "cell_type": "code",
   "execution_count": 5,
   "metadata": {},
   "outputs": [
    {
     "name": "stdout",
     "output_type": "stream",
     "text": [
      "['short' 'movie' 'tvMovie' 'tvSeries' 'tvEpisode' 'tvShort' 'tvMiniSeries'\n",
      " 'tvSpecial' 'video' 'videoGame']\n"
     ]
    }
   ],
   "source": [
    "# изучим доступные типы видео:\n",
    "title_types = basics.titleType.unique()\n",
    "print(title_types)"
   ]
  },
  {
   "cell_type": "code",
   "execution_count": 6,
   "metadata": {},
   "outputs": [
    {
     "data": {
      "text/html": [
       "<div>\n",
       "<style scoped>\n",
       "    .dataframe tbody tr th:only-of-type {\n",
       "        vertical-align: middle;\n",
       "    }\n",
       "\n",
       "    .dataframe tbody tr th {\n",
       "        vertical-align: top;\n",
       "    }\n",
       "\n",
       "    .dataframe thead th {\n",
       "        text-align: right;\n",
       "    }\n",
       "</style>\n",
       "<table border=\"1\" class=\"dataframe\">\n",
       "  <thead>\n",
       "    <tr style=\"text-align: right;\">\n",
       "      <th></th>\n",
       "      <th>tconst</th>\n",
       "      <th>titleType</th>\n",
       "      <th>primaryTitle</th>\n",
       "      <th>originalTitle</th>\n",
       "      <th>isAdult</th>\n",
       "      <th>startYear</th>\n",
       "      <th>endYear</th>\n",
       "      <th>runtimeMinutes</th>\n",
       "      <th>genres</th>\n",
       "    </tr>\n",
       "  </thead>\n",
       "  <tbody>\n",
       "    <tr>\n",
       "      <th>8</th>\n",
       "      <td>tt0000009</td>\n",
       "      <td>movie</td>\n",
       "      <td>Miss Jerry</td>\n",
       "      <td>Miss Jerry</td>\n",
       "      <td>0</td>\n",
       "      <td>1894</td>\n",
       "      <td>\\N</td>\n",
       "      <td>45</td>\n",
       "      <td>Romance</td>\n",
       "    </tr>\n",
       "    <tr>\n",
       "      <th>145</th>\n",
       "      <td>tt0000147</td>\n",
       "      <td>movie</td>\n",
       "      <td>The Corbett-Fitzsimmons Fight</td>\n",
       "      <td>The Corbett-Fitzsimmons Fight</td>\n",
       "      <td>0</td>\n",
       "      <td>1897</td>\n",
       "      <td>\\N</td>\n",
       "      <td>20</td>\n",
       "      <td>Documentary,News,Sport</td>\n",
       "    </tr>\n",
       "    <tr>\n",
       "      <th>332</th>\n",
       "      <td>tt0000335</td>\n",
       "      <td>movie</td>\n",
       "      <td>Soldiers of the Cross</td>\n",
       "      <td>Soldiers of the Cross</td>\n",
       "      <td>0</td>\n",
       "      <td>1900</td>\n",
       "      <td>\\N</td>\n",
       "      <td>\\N</td>\n",
       "      <td>Biography,Drama</td>\n",
       "    </tr>\n",
       "    <tr>\n",
       "      <th>499</th>\n",
       "      <td>tt0000502</td>\n",
       "      <td>movie</td>\n",
       "      <td>Bohemios</td>\n",
       "      <td>Bohemios</td>\n",
       "      <td>0</td>\n",
       "      <td>1905</td>\n",
       "      <td>\\N</td>\n",
       "      <td>100</td>\n",
       "      <td>\\N</td>\n",
       "    </tr>\n",
       "    <tr>\n",
       "      <th>571</th>\n",
       "      <td>tt0000574</td>\n",
       "      <td>movie</td>\n",
       "      <td>The Story of the Kelly Gang</td>\n",
       "      <td>The Story of the Kelly Gang</td>\n",
       "      <td>0</td>\n",
       "      <td>1906</td>\n",
       "      <td>\\N</td>\n",
       "      <td>70</td>\n",
       "      <td>Biography,Crime,Drama</td>\n",
       "    </tr>\n",
       "  </tbody>\n",
       "</table>\n",
       "</div>"
      ],
      "text/plain": [
       "        tconst titleType                   primaryTitle  \\\n",
       "8    tt0000009     movie                     Miss Jerry   \n",
       "145  tt0000147     movie  The Corbett-Fitzsimmons Fight   \n",
       "332  tt0000335     movie          Soldiers of the Cross   \n",
       "499  tt0000502     movie                       Bohemios   \n",
       "571  tt0000574     movie    The Story of the Kelly Gang   \n",
       "\n",
       "                     originalTitle  isAdult startYear endYear runtimeMinutes  \\\n",
       "8                       Miss Jerry        0      1894      \\N             45   \n",
       "145  The Corbett-Fitzsimmons Fight        0      1897      \\N             20   \n",
       "332          Soldiers of the Cross        0      1900      \\N             \\N   \n",
       "499                       Bohemios        0      1905      \\N            100   \n",
       "571    The Story of the Kelly Gang        0      1906      \\N             70   \n",
       "\n",
       "                     genres  \n",
       "8                   Romance  \n",
       "145  Documentary,News,Sport  \n",
       "332         Biography,Drama  \n",
       "499                      \\N  \n",
       "571   Biography,Crime,Drama  "
      ]
     },
     "execution_count": 6,
     "metadata": {},
     "output_type": "execute_result"
    }
   ],
   "source": [
    "# выберем кино (movie):\n",
    "movies = basics[basics.titleType == 'movie']\n",
    "movies.head()"
   ]
  },
  {
   "cell_type": "code",
   "execution_count": 7,
   "metadata": {},
   "outputs": [],
   "source": [
    "# удалим записи в которых не указана продолжительность фильма\n",
    "# поменяем формат поля runtimeMinutes на int\n",
    "movies = movies[movies.runtimeMinutes != '\\\\N']\n",
    "movies['runtimeMinutes'] = movies['runtimeMinutes'].apply(lambda x: int(x))"
   ]
  },
  {
   "cell_type": "code",
   "execution_count": 8,
   "metadata": {},
   "outputs": [
    {
     "data": {
      "text/plain": [
       "<matplotlib.axes._subplots.AxesSubplot at 0x1d384b41438>"
      ]
     },
     "execution_count": 8,
     "metadata": {},
     "output_type": "execute_result"
    },
    {
     "data": {
      "image/png": "[encoded data removed]",
      "text/plain": [
       "<Figure size 432x288 with 1 Axes>"
      ]
     },
     "metadata": {},
     "output_type": "display_data"
    }
   ],
   "source": [
    "# посмотрим на распределение продолжительности фильмов в минутах:\n",
    "sns.set(style=\"ticks\", palette=\"pastel\")\n",
    "\n",
    "sns.boxplot(movies.runtimeMinutes, orient='v')"
   ]
  },
  {
   "cell_type": "code",
   "execution_count": 9,
   "metadata": {},
   "outputs": [
    {
     "data": {
      "text/html": [
       "<div>\n",
       "<style scoped>\n",
       "    .dataframe tbody tr th:only-of-type {\n",
       "        vertical-align: middle;\n",
       "    }\n",
       "\n",
       "    .dataframe tbody tr th {\n",
       "        vertical-align: top;\n",
       "    }\n",
       "\n",
       "    .dataframe thead th {\n",
       "        text-align: right;\n",
       "    }\n",
       "</style>\n",
       "<table border=\"1\" class=\"dataframe\">\n",
       "  <thead>\n",
       "    <tr style=\"text-align: right;\">\n",
       "      <th></th>\n",
       "      <th>tconst</th>\n",
       "      <th>titleType</th>\n",
       "      <th>primaryTitle</th>\n",
       "      <th>originalTitle</th>\n",
       "      <th>isAdult</th>\n",
       "      <th>startYear</th>\n",
       "      <th>endYear</th>\n",
       "      <th>runtimeMinutes</th>\n",
       "      <th>genres</th>\n",
       "    </tr>\n",
       "  </thead>\n",
       "  <tbody>\n",
       "    <tr>\n",
       "      <th>499</th>\n",
       "      <td>tt0000502</td>\n",
       "      <td>movie</td>\n",
       "      <td>Bohemios</td>\n",
       "      <td>Bohemios</td>\n",
       "      <td>0</td>\n",
       "      <td>1905</td>\n",
       "      <td>\\N</td>\n",
       "      <td>100</td>\n",
       "      <td>\\N</td>\n",
       "    </tr>\n",
       "    <tr>\n",
       "      <th>673</th>\n",
       "      <td>tt0000679</td>\n",
       "      <td>movie</td>\n",
       "      <td>The Fairylogue and Radio-Plays</td>\n",
       "      <td>The Fairylogue and Radio-Plays</td>\n",
       "      <td>0</td>\n",
       "      <td>1908</td>\n",
       "      <td>\\N</td>\n",
       "      <td>120</td>\n",
       "      <td>Adventure,Fantasy</td>\n",
       "    </tr>\n",
       "    <tr>\n",
       "      <th>1740</th>\n",
       "      <td>tt0001756</td>\n",
       "      <td>movie</td>\n",
       "      <td>Lucha por la herencia</td>\n",
       "      <td>Lucha por la herencia</td>\n",
       "      <td>0</td>\n",
       "      <td>1911</td>\n",
       "      <td>\\N</td>\n",
       "      <td>92</td>\n",
       "      <td>\\N</td>\n",
       "    </tr>\n",
       "    <tr>\n",
       "      <th>2077</th>\n",
       "      <td>tt0002101</td>\n",
       "      <td>movie</td>\n",
       "      <td>Cleopatra</td>\n",
       "      <td>Cleopatra</td>\n",
       "      <td>0</td>\n",
       "      <td>1912</td>\n",
       "      <td>\\N</td>\n",
       "      <td>100</td>\n",
       "      <td>Drama,History</td>\n",
       "    </tr>\n",
       "    <tr>\n",
       "      <th>2397</th>\n",
       "      <td>tt0002423</td>\n",
       "      <td>movie</td>\n",
       "      <td>Madame DuBarry</td>\n",
       "      <td>Madame DuBarry</td>\n",
       "      <td>0</td>\n",
       "      <td>1919</td>\n",
       "      <td>\\N</td>\n",
       "      <td>85</td>\n",
       "      <td>Biography,Drama</td>\n",
       "    </tr>\n",
       "  </tbody>\n",
       "</table>\n",
       "</div>"
      ],
      "text/plain": [
       "         tconst titleType                    primaryTitle  \\\n",
       "499   tt0000502     movie                        Bohemios   \n",
       "673   tt0000679     movie  The Fairylogue and Radio-Plays   \n",
       "1740  tt0001756     movie           Lucha por la herencia   \n",
       "2077  tt0002101     movie                       Cleopatra   \n",
       "2397  tt0002423     movie                  Madame DuBarry   \n",
       "\n",
       "                       originalTitle  isAdult startYear endYear  \\\n",
       "499                         Bohemios        0      1905      \\N   \n",
       "673   The Fairylogue and Radio-Plays        0      1908      \\N   \n",
       "1740           Lucha por la herencia        0      1911      \\N   \n",
       "2077                       Cleopatra        0      1912      \\N   \n",
       "2397                  Madame DuBarry        0      1919      \\N   \n",
       "\n",
       "      runtimeMinutes             genres  \n",
       "499              100                 \\N  \n",
       "673              120  Adventure,Fantasy  \n",
       "1740              92                 \\N  \n",
       "2077             100      Drama,History  \n",
       "2397              85    Biography,Drama  "
      ]
     },
     "execution_count": 9,
     "metadata": {},
     "output_type": "execute_result"
    }
   ],
   "source": [
    "# в поле runtimeMinutes содержатся выбросы и/или некорректные записи, нужна очистка\n",
    "# выберем только те фильмы, длина которых находится между 80 и 240 минутами\n",
    "movies = movies[(movies.runtimeMinutes > 79) & (movies.runtimeMinutes < 241)]\n",
    "movies.head()"
   ]
  },
  {
   "cell_type": "code",
   "execution_count": 10,
   "metadata": {},
   "outputs": [
    {
     "data": {
      "text/plain": [
       "<matplotlib.axes._subplots.AxesSubplot at 0x1d384be8240>"
      ]
     },
     "execution_count": 10,
     "metadata": {},
     "output_type": "execute_result"
    },
    {
     "data": {
      "image/png": "[encoded data removed]",
      "text/plain": [
       "<Figure size 432x288 with 1 Axes>"
      ]
     },
     "metadata": {},
     "output_type": "display_data"
    }
   ],
   "source": [
    "# посмотрим на распределение продолжительности фильмов в минутах:\n",
    "sns.boxplot(movies.runtimeMinutes, orient='v')"
   ]
  },
  {
   "cell_type": "code",
   "execution_count": 11,
   "metadata": {},
   "outputs": [
    {
     "name": "stdout",
     "output_type": "stream",
     "text": [
      "('\\\\N', 'Adventure,Fantasy', 'Drama,History', 'Biography,Drama', 'History,War', 'Drama', 'Crime,Drama,Mystery', 'Biography,Drama,History', 'Drama,Fantasy,Horror', 'Crime,Drama')\n"
     ]
    }
   ],
   "source": [
    "# посмотрим на названия жанров:\n",
    "genres = tuple(movies.genres.unique())\n",
    "print(genres[:10])"
   ]
  },
  {
   "cell_type": "code",
   "execution_count": 12,
   "metadata": {},
   "outputs": [],
   "source": [
    "# каждый фильм относится с одному или сразу нескольким жанрам\n",
    "# определим функцию, которая позволит отобрать нужные названия жанров в зависимости от заданного поиска\n",
    "\n",
    "def get_target_genres(data, target):\n",
    "    target_genres = []\n",
    "    for genre in data:\n",
    "        tmp_list = str(genre).lower().split(',') \n",
    "        for item in tmp_list:\n",
    "            if item in target:\n",
    "                target_genres.append(str(genre))\n",
    "    return target_genres"
   ]
  },
  {
   "cell_type": "markdown",
   "metadata": {},
   "source": [
    "В качестве жанров для исследования выберем:\n",
    "- фэнтези (fantasy)\n",
    "- ужасы (horror)\n",
    "- боевик (action)"
   ]
  },
  {
   "cell_type": "code",
   "execution_count": 13,
   "metadata": {},
   "outputs": [],
   "source": [
    "columns = ['tconst', 'primaryTitle', 'runtimeMinutes', 'genres']\n",
    "\n",
    "fantasy_genres = get_target_genres(data=genres, target=('fantasy'))\n",
    "fantasy_movies = movies[movies.genres.isin(fantasy_genres)].loc[:, columns].reset_index(drop=True)\n",
    "\n",
    "horror_genres = get_target_genres(data=genres, target=('horror'))\n",
    "horror_movies = movies[movies.genres.isin(horror_genres)].loc[:, columns].reset_index(drop=True)\n",
    "\n",
    "action_genres = get_target_genres(data=genres, target=('action'))\n",
    "action_movies = movies[movies.genres.isin(action_genres)].loc[:, columns].reset_index(drop=True)"
   ]
  },
  {
   "cell_type": "markdown",
   "metadata": {},
   "source": [
    "Так как часть фильмов имеет смешанный жанр, выделим в 3 отдельные группы фильмы, которые:\n",
    "- относятся к фэнтези, но не относятся к ужасам и боевикам\n",
    "- относятся к ужасам, но не относится к фэнтези и боевикам\n",
    "- относятся к боевикам, но не относятся к фэнтези и ужасам"
   ]
  },
  {
   "cell_type": "code",
   "execution_count": 14,
   "metadata": {},
   "outputs": [],
   "source": [
    "fantasy = tuple(set(fantasy_movies.tconst) - set(horror_movies.tconst) - set(action_movies.tconst))\n",
    "horror = tuple(set(horror_movies.tconst) - set(fantasy_movies.tconst) - set(action_movies.tconst))\n",
    "action = tuple(set(action_movies.tconst) - set(fantasy_movies.tconst) - set(horror_movies.tconst))"
   ]
  },
  {
   "cell_type": "code",
   "execution_count": 15,
   "metadata": {},
   "outputs": [],
   "source": [
    "fantasy_only = fantasy_movies[fantasy_movies.tconst.isin(fantasy)].reset_index(drop=True)\n",
    "fantasy_only['genres'] = 'fantasy'\n",
    "\n",
    "horror_only = horror_movies[horror_movies.tconst.isin(horror)].reset_index(drop=True)\n",
    "horror_only['genres'] = 'horror'\n",
    "\n",
    "action_only = action_movies[action_movies.tconst.isin(action)].reset_index(drop=True)\n",
    "action_only['genres'] = 'action'"
   ]
  },
  {
   "cell_type": "code",
   "execution_count": 16,
   "metadata": {},
   "outputs": [
    {
     "name": "stdout",
     "output_type": "stream",
     "text": [
      "Fantasy only: 4430 movies\n",
      "Horror only: 11593 movies\n",
      "Action only: 20225 movies\n"
     ]
    }
   ],
   "source": [
    "print(f'Fantasy only: {fantasy_only.shape[0]} movies')\n",
    "print(f'Horror only: {horror_only.shape[0]} movies')\n",
    "print(f'Action only: {action_only.shape[0]} movies')"
   ]
  },
  {
   "cell_type": "markdown",
   "metadata": {},
   "source": [
    "Получившиеся группы фильмов по жанрам отличаются по количеству.<br>\n",
    "Для дальнейшнего анализа отберем из каждой группы (жанра) по 4000 наблюдений случайным образом."
   ]
  },
  {
   "cell_type": "code",
   "execution_count": 17,
   "metadata": {},
   "outputs": [
    {
     "name": "stdout",
     "output_type": "stream",
     "text": [
      "Fantasy only: 4000\n",
      "Horror only: 4000\n",
      "Action only: 4000\n",
      "Total: 12000\n"
     ]
    }
   ],
   "source": [
    "n_sample = 4000\n",
    "\n",
    "y1 = fantasy_only.sample(n=n_sample, random_state=42).runtimeMinutes.values\n",
    "y2 = horror_only.sample(n=n_sample, random_state=42).runtimeMinutes.values\n",
    "y3 = action_only.sample(n=n_sample, random_state=42).runtimeMinutes.values\n",
    "\n",
    "n1 = len(y1)\n",
    "n2 = len(y2)\n",
    "n3 = len(y3)\n",
    "\n",
    "n = n1 + n2 + n3\n",
    "k = 3\n",
    "\n",
    "print(f'Fantasy only: {n1}\\nHorror only: {n2}\\nAction only: {n3}\\nTotal: {n}')"
   ]
  },
  {
   "cell_type": "code",
   "execution_count": 18,
   "metadata": {},
   "outputs": [
    {
     "name": "stdout",
     "output_type": "stream",
     "text": [
      "Fantasy only runtime: mean = 100.5462, std = 19.0742\n",
      "Horror only runtime: mean = 93.9222, std = 12.8568\n",
      "Action only runtime: mean = 105.4715, std = 23.764\n"
     ]
    }
   ],
   "source": [
    "y1_mean = np.mean(y1)\n",
    "y2_mean = np.mean(y2)\n",
    "y3_mean = np.mean(y3)\n",
    "\n",
    "y1_s2 = np.var(y1, ddof=1)\n",
    "y2_s2 = np.var(y2, ddof=1)\n",
    "y3_s2 = np.var(y3, ddof=1)\n",
    "\n",
    "print(f'Fantasy only runtime: mean = {np.round(y1_mean, 4)}, std = {np.round(y1_s2**0.5, 4)}')\n",
    "print(f'Horror only runtime: mean = {np.round(y2_mean, 4)}, std = {np.round(y2_s2**0.5, 4)}')\n",
    "print(f'Action only runtime: mean = {np.round(y3_mean, 4)}, std = {np.round(y3_s2**0.5, 4)}')"
   ]
  },
  {
   "cell_type": "code",
   "execution_count": 19,
   "metadata": {},
   "outputs": [
    {
     "data": {
      "image/png": "[encoded data removed]",
      "text/plain": [
       "<Figure size 432x288 with 1 Axes>"
      ]
     },
     "metadata": {},
     "output_type": "display_data"
    }
   ],
   "source": [
    "movies_only = pd.concat([fantasy_only, horror_only, action_only]).reset_index(drop=True)\n",
    "\n",
    "sns.boxplot(x=\"genres\", y=\"runtimeMinutes\", palette=[\"r\", \"g\", \"b\"], data=movies_only)\n",
    "sns.despine(offset=10, trim=True)"
   ]
  },
  {
   "cell_type": "code",
   "execution_count": 20,
   "metadata": {},
   "outputs": [
    {
     "name": "stdout",
     "output_type": "stream",
     "text": [
      "Total runtime: mean = 99.98, std = 19.671\n"
     ]
    }
   ],
   "source": [
    "y = np.concatenate([y1, y2, y3])\n",
    "\n",
    "y_mean = np.mean(y)\n",
    "\n",
    "y_s2 = np.var(y, ddof=1)\n",
    "\n",
    "print(f'Total runtime: mean = {np.round(y_mean, 4)}, std = {np.round(y_s2**0.5, 4)}')"
   ]
  },
  {
   "cell_type": "code",
   "execution_count": 21,
   "metadata": {},
   "outputs": [
    {
     "name": "stdout",
     "output_type": "stream",
     "text": [
      "Сумма квадратов отклонений наблюдений от общего среднего: 4642993.2\n",
      "Сумма квадратов отклонений средних групповых значений от общего среднего: 268694.1855\n",
      "Остаточная сумма квадратов отклонений: 4374299.0145\n"
     ]
    }
   ],
   "source": [
    "ss_g = np.sum((y - y_mean)**2)\n",
    "ss_f = ((y1_mean - y_mean)**2) * n1 + ((y2_mean - y_mean)**2) * n2 + ((y3_mean - y_mean)**2) * n3\n",
    "ss_r = np.sum((y1 - y1_mean)**2) + np.sum((y2 - y2_mean)**2) + np.sum((y3 - y3_mean)**2)\n",
    "\n",
    "print(f'Сумма квадратов отклонений наблюдений от общего среднего: {np.round(ss_g, 4)}')\n",
    "print(f'Сумма квадратов отклонений средних групповых значений от общего среднего: {np.round(ss_f, 4)}')\n",
    "print(f'Остаточная сумма квадратов отклонений: {np.round(ss_r, 4)}')"
   ]
  },
  {
   "cell_type": "code",
   "execution_count": 22,
   "metadata": {},
   "outputs": [
    {
     "name": "stdout",
     "output_type": "stream",
     "text": [
      "Общая дисперсия: 386.9483\n",
      "Факторная дисперсия: 134347.0928\n",
      "Остаточная дисперсия: 364.6161\n"
     ]
    }
   ],
   "source": [
    "s2_g = ss_g / (n - 1)\n",
    "s2_f = ss_f / (k - 1)\n",
    "s2_r = ss_r / (n - k)\n",
    "\n",
    "print(f'Общая дисперсия: {np.round(s2_g, 4)}')\n",
    "print(f'Факторная дисперсия: {np.round(s2_f, 4)}')\n",
    "print(f'Остаточная дисперсия: {np.round(s2_r, 4)}')"
   ]
  },
  {
   "cell_type": "markdown",
   "metadata": {},
   "source": [
    "Распределение Фишера–Снедекора (F-распределение): https://www.matburo.ru/tv/table_fisher.pdf  \n",
    "a = 0.01, v1 = k - 1 = 2, v2 = n - k = >60  \n",
    "Fтабл = 4.60"
   ]
  },
  {
   "cell_type": "code",
   "execution_count": 23,
   "metadata": {},
   "outputs": [
    {
     "name": "stdout",
     "output_type": "stream",
     "text": [
      "F = 368.4618\n",
      "F_critical = 4.6\n"
     ]
    }
   ],
   "source": [
    "f_h = s2_f / s2_r\n",
    "f_critical = 4.60 \n",
    "\n",
    "print(f'F = {np.round(f_h, 4)}')\n",
    "print(f'F_critical = {np.round(f_critical, 4)}')"
   ]
  },
  {
   "cell_type": "markdown",
   "metadata": {},
   "source": [
    "Полученное значение F = 368.4618 > Fкрит = 4.6.<br>\n",
    "Таким образом, для фильмов продолжительностью [80, 240] минут, относящихся к жанрам фэнтези, ужасы и боевик, средняя продолжительность фильма зависит от жанра.<br>\n",
    "Принимаем гипотезу H1."
   ]
  },
  {
   "cell_type": "markdown",
   "metadata": {},
   "source": [
    "#### **Анализ влияния продолжительности фильма на его рейтинг**"
   ]
  },
  {
   "cell_type": "markdown",
   "metadata": {},
   "source": [
    "Предположение: рейтинг (успех) фильма может зависеть от его (фильма) продолжительности<br>\n",
    "Гипотеза H0: продолжительность фильма не влияет на его рейтинг<br>\n",
    "Гипотеза H1: продолжительность фильма влияет на его рейтинг"
   ]
  },
  {
   "cell_type": "code",
   "execution_count": 24,
   "metadata": {},
   "outputs": [
    {
     "data": {
      "text/html": [
       "<div>\n",
       "<style scoped>\n",
       "    .dataframe tbody tr th:only-of-type {\n",
       "        vertical-align: middle;\n",
       "    }\n",
       "\n",
       "    .dataframe tbody tr th {\n",
       "        vertical-align: top;\n",
       "    }\n",
       "\n",
       "    .dataframe thead th {\n",
       "        text-align: right;\n",
       "    }\n",
       "</style>\n",
       "<table border=\"1\" class=\"dataframe\">\n",
       "  <thead>\n",
       "    <tr style=\"text-align: right;\">\n",
       "      <th></th>\n",
       "      <th>tconst</th>\n",
       "      <th>primaryTitle</th>\n",
       "      <th>runtimeMinutes</th>\n",
       "      <th>genres</th>\n",
       "      <th>averageRating</th>\n",
       "      <th>numVotes</th>\n",
       "    </tr>\n",
       "  </thead>\n",
       "  <tbody>\n",
       "    <tr>\n",
       "      <th>0</th>\n",
       "      <td>tt0000679</td>\n",
       "      <td>The Fairylogue and Radio-Plays</td>\n",
       "      <td>120</td>\n",
       "      <td>Adventure,Fantasy</td>\n",
       "      <td>4.8</td>\n",
       "      <td>33</td>\n",
       "    </tr>\n",
       "    <tr>\n",
       "      <th>1</th>\n",
       "      <td>tt0002101</td>\n",
       "      <td>Cleopatra</td>\n",
       "      <td>100</td>\n",
       "      <td>Drama,History</td>\n",
       "      <td>5.1</td>\n",
       "      <td>386</td>\n",
       "    </tr>\n",
       "    <tr>\n",
       "      <th>2</th>\n",
       "      <td>tt0002423</td>\n",
       "      <td>Madame DuBarry</td>\n",
       "      <td>85</td>\n",
       "      <td>Biography,Drama</td>\n",
       "      <td>7.0</td>\n",
       "      <td>682</td>\n",
       "    </tr>\n",
       "    <tr>\n",
       "      <th>3</th>\n",
       "      <td>tt0002445</td>\n",
       "      <td>Quo Vadis?</td>\n",
       "      <td>120</td>\n",
       "      <td>Drama,History</td>\n",
       "      <td>6.2</td>\n",
       "      <td>233</td>\n",
       "    </tr>\n",
       "    <tr>\n",
       "      <th>4</th>\n",
       "      <td>tt0002452</td>\n",
       "      <td>The Independence of Romania</td>\n",
       "      <td>120</td>\n",
       "      <td>History,War</td>\n",
       "      <td>6.8</td>\n",
       "      <td>184</td>\n",
       "    </tr>\n",
       "  </tbody>\n",
       "</table>\n",
       "</div>"
      ],
      "text/plain": [
       "      tconst                    primaryTitle  runtimeMinutes  \\\n",
       "0  tt0000679  The Fairylogue and Radio-Plays             120   \n",
       "1  tt0002101                       Cleopatra             100   \n",
       "2  tt0002423                  Madame DuBarry              85   \n",
       "3  tt0002445                      Quo Vadis?             120   \n",
       "4  tt0002452     The Independence of Romania             120   \n",
       "\n",
       "              genres  averageRating  numVotes  \n",
       "0  Adventure,Fantasy            4.8        33  \n",
       "1      Drama,History            5.1       386  \n",
       "2    Biography,Drama            7.0       682  \n",
       "3      Drama,History            6.2       233  \n",
       "4        History,War            6.8       184  "
      ]
     },
     "execution_count": 24,
     "metadata": {},
     "output_type": "execute_result"
    }
   ],
   "source": [
    "movies_ratings = movies.loc[:, columns].merge(ratings)\n",
    "movies_ratings.head()"
   ]
  },
  {
   "cell_type": "code",
   "execution_count": 25,
   "metadata": {},
   "outputs": [
    {
     "name": "stdout",
     "output_type": "stream",
     "text": [
      "Rating: mean =  6.1804, std = 1.2806\n",
      "averageRating vs runtimeMinutes correlation = 0.1528\n"
     ]
    }
   ],
   "source": [
    "rating_mean = np.mean(movies_ratings.averageRating)\n",
    "rating_var = np.var(movies_ratings.averageRating, ddof=1)\n",
    "rating_corr = np.corrcoef(movies_ratings.runtimeMinutes, movies_ratings.averageRating)[0][1]\n",
    "\n",
    "print(f'Rating: mean =  {np.round(rating_mean, 4)}, std = {np.round(rating_var**0.5, 4)}')\n",
    "print(f'averageRating vs runtimeMinutes correlation = {np.round(rating_corr, 4)}')"
   ]
  },
  {
   "cell_type": "code",
   "execution_count": 26,
   "metadata": {},
   "outputs": [
    {
     "data": {
      "text/plain": [
       "<matplotlib.axes._subplots.AxesSubplot at 0x1d384d0dd30>"
      ]
     },
     "execution_count": 26,
     "metadata": {},
     "output_type": "execute_result"
    },
    {
     "data": {
      "image/png": "[encoded data removed]",
      "text/plain": [
       "<Figure size 432x288 with 1 Axes>"
      ]
     },
     "metadata": {},
     "output_type": "display_data"
    }
   ],
   "source": [
    "sns.distplot(movies_ratings.averageRating)"
   ]
  },
  {
   "cell_type": "code",
   "execution_count": 27,
   "metadata": {},
   "outputs": [
    {
     "data": {
      "text/plain": [
       "<matplotlib.axes._subplots.AxesSubplot at 0x1d386813710>"
      ]
     },
     "execution_count": 27,
     "metadata": {},
     "output_type": "execute_result"
    },
    {
     "data": {
      "image/png": "[encoded data removed]",
      "text/plain": [
       "<Figure size 432x288 with 1 Axes>"
      ]
     },
     "metadata": {},
     "output_type": "display_data"
    }
   ],
   "source": [
    "sns.boxplot(y=movies_ratings.averageRating)"
   ]
  },
  {
   "cell_type": "code",
   "execution_count": 28,
   "metadata": {},
   "outputs": [
    {
     "data": {
      "text/plain": [
       "<matplotlib.collections.PathCollection at 0x1d3862082b0>"
      ]
     },
     "execution_count": 28,
     "metadata": {},
     "output_type": "execute_result"
    },
    {
     "data": {
      "image/png": "[encoded data removed]",
      "text/plain": [
       "<Figure size 432x288 with 1 Axes>"
      ]
     },
     "metadata": {},
     "output_type": "display_data"
    }
   ],
   "source": [
    "plt.scatter(movies_ratings.runtimeMinutes, movies_ratings.averageRating)"
   ]
  },
  {
   "cell_type": "markdown",
   "metadata": {},
   "source": [
    "Рейтинг очень слабо коррелирует с продолжительностью фильма. Первоначальное предположение не подтвердилось. <br>\n",
    "В ходе анализа, у меня появилась гипотеза, что фильмы продолжительность выше 120 минут имеют более высоий рейтинг в среднем. Попробуем это проверить."
   ]
  },
  {
   "cell_type": "code",
   "execution_count": 29,
   "metadata": {},
   "outputs": [
    {
     "data": {
      "image/png": "[encoded data removed]",
      "text/plain": [
       "<Figure size 432x288 with 1 Axes>"
      ]
     },
     "metadata": {},
     "output_type": "display_data"
    }
   ],
   "source": [
    "movies_ratings['target'] = movies_ratings.runtimeMinutes.apply(lambda x: 1 if x > 120 else 0)\n",
    "\n",
    "sns.boxplot(x=\"target\", y=\"averageRating\", palette=[\"r\", \"g\"], data=movies_ratings)\n",
    "sns.despine(offset=10, trim=True)"
   ]
  },
  {
   "cell_type": "code",
   "execution_count": 30,
   "metadata": {},
   "outputs": [
    {
     "name": "stdout",
     "output_type": "stream",
     "text": [
      "runtimeMinutes <= 120: 143006 movies\n",
      "runtimeMinutes > 120: 18341 movies\n"
     ]
    }
   ],
   "source": [
    "print(f'runtimeMinutes <= 120: {movies_ratings[movies_ratings.target == 0].shape[0]} movies')\n",
    "print(f'runtimeMinutes > 120: {movies_ratings[movies_ratings.target == 1].shape[0]} movies')"
   ]
  },
  {
   "cell_type": "markdown",
   "metadata": {},
   "source": [
    "Количество фильвов в исследуемых группах, сильно отличается. Воспользуемся случайной выборкой по 10000 фильмов из из каждой группы."
   ]
  },
  {
   "cell_type": "code",
   "execution_count": 31,
   "metadata": {},
   "outputs": [
    {
     "name": "stdout",
     "output_type": "stream",
     "text": [
      "runtimeMinutes <= 120: 10000\n",
      "runtimeMinutes > 120: 10000\n",
      "Total: 20000\n"
     ]
    }
   ],
   "source": [
    "n_sample = 10000\n",
    "\n",
    "y1 = movies_ratings[movies_ratings.target == 0].sample(n=n_sample, random_state=42).averageRating\n",
    "y2 = movies_ratings[movies_ratings.target == 1].sample(n=n_sample, random_state=42).averageRating\n",
    "\n",
    "n1 = len(y1)\n",
    "n2 = len(y2)\n",
    "\n",
    "n = n1 + n2\n",
    "k = 2\n",
    "\n",
    "print(f'runtimeMinutes <= 120: {n1}\\nruntimeMinutes > 120: {n2}\\nTotal: {n}')"
   ]
  },
  {
   "cell_type": "code",
   "execution_count": 32,
   "metadata": {},
   "outputs": [
    {
     "name": "stdout",
     "output_type": "stream",
     "text": [
      "runtimeMinutes <= 120: mean = 6.1266, std = 1.3026\n",
      "runtimeMinutes > 120: mean = 6.5832, std = 1.2247\n"
     ]
    }
   ],
   "source": [
    "y1_mean = np.mean(y1)\n",
    "y2_mean = np.mean(y2)\n",
    "\n",
    "y1_s2 = np.var(y1, ddof=1)\n",
    "y2_s2 = np.var(y2, ddof=1)\n",
    "\n",
    "print(f'runtimeMinutes <= 120: mean = {np.round(y1_mean, 4)}, std = {np.round(y1_s2**0.5, 4)}')\n",
    "print(f'runtimeMinutes > 120: mean = {np.round(y2_mean, 4)}, std = {np.round(y2_s2**0.5, 4)}')"
   ]
  },
  {
   "cell_type": "code",
   "execution_count": 33,
   "metadata": {},
   "outputs": [
    {
     "name": "stdout",
     "output_type": "stream",
     "text": [
      "Total runtimeMinutes: mean = 6.3549, std = 1.2847\n"
     ]
    }
   ],
   "source": [
    "y = np.concatenate([y1, y2])\n",
    "\n",
    "y_mean = np.mean(y)\n",
    "\n",
    "y_s2 = np.var(y, ddof=1)\n",
    "\n",
    "print(f'Total runtimeMinutes: mean = {np.round(y_mean, 4)}, std = {np.round(y_s2**0.5, 4)}')"
   ]
  },
  {
   "cell_type": "code",
   "execution_count": 34,
   "metadata": {},
   "outputs": [
    {
     "name": "stdout",
     "output_type": "stream",
     "text": [
      "Сумма квадратов отклонений наблюдений от общего среднего: 33007.3398\n",
      "Сумма квадратов отклонений средних групповых значений от общего среднего: 1042.6918\n",
      "Остаточная сумма квадратов отклонений: 31964.648\n"
     ]
    }
   ],
   "source": [
    "ss_g = np.sum((y - y_mean)**2)\n",
    "ss_f = ((y1_mean - y_mean)**2) * n1 + ((y2_mean - y_mean)**2) * n2\n",
    "ss_r = np.sum((y1 - y1_mean)**2) + np.sum((y2 - y2_mean)**2)\n",
    "\n",
    "print(f'Сумма квадратов отклонений наблюдений от общего среднего: {np.round(ss_g, 4)}')\n",
    "print(f'Сумма квадратов отклонений средних групповых значений от общего среднего: {np.round(ss_f, 4)}')\n",
    "print(f'Остаточная сумма квадратов отклонений: {np.round(ss_r, 4)}')"
   ]
  },
  {
   "cell_type": "code",
   "execution_count": 35,
   "metadata": {},
   "outputs": [
    {
     "name": "stdout",
     "output_type": "stream",
     "text": [
      "Общая дисперсия: 1.6504\n",
      "Факторная дисперсия: 1042.6918\n",
      "Остаточная дисперсия: 1.5984\n"
     ]
    }
   ],
   "source": [
    "s2_g = ss_g / (n - 1)\n",
    "s2_f = ss_f / (k - 1)\n",
    "s2_r = ss_r / (n - k)\n",
    "\n",
    "print(f'Общая дисперсия: {np.round(s2_g, 4)}')\n",
    "print(f'Факторная дисперсия: {np.round(s2_f, 4)}')\n",
    "print(f'Остаточная дисперсия: {np.round(s2_r, 4)}')"
   ]
  },
  {
   "cell_type": "markdown",
   "metadata": {},
   "source": [
    "Распределение Фишера–Снедекора (F-распределение): https://www.matburo.ru/tv/table_fisher.pdf  \n",
    "a = 0.001, v1 = k - 1 = 1, v2 = n - k = >60  \n",
    "Fтабл = 10.83"
   ]
  },
  {
   "cell_type": "code",
   "execution_count": 36,
   "metadata": {},
   "outputs": [
    {
     "name": "stdout",
     "output_type": "stream",
     "text": [
      "F = 652.3379\n",
      "F_critical = 10.83\n"
     ]
    }
   ],
   "source": [
    "f_h = s2_f / s2_r\n",
    "f_critical = 10.83\n",
    "\n",
    "print(f'F = {np.round(f_h, 4)}')\n",
    "print(f'F_critical = {np.round(f_critical, 4)}')"
   ]
  },
  {
   "cell_type": "markdown",
   "metadata": {},
   "source": [
    "Полученное значение F = 652.3379 > Fкрит = 10.83.<br>\n",
    "Предположение о том, что фильмы продолжительностью более 120 минут среди всех фильмов продолжительностью [80, 240] минут, имееют в среднем более высокий рейтинг подтверждается.<br>\n",
    "Несмотря на то, что корреляция Пирсона между рейтингом и продолжительностью фильма очень слабая, фильмы продолжительностью более 120 минут в среднем имеют чуть более высокий рейтинг."
   ]
  },
  {
   "cell_type": "code",
   "execution_count": null,
   "metadata": {},
   "outputs": [],
   "source": []
  }
 ],
 "metadata": {
  "kernelspec": {
   "display_name": "Python 3",
   "language": "python",
   "name": "python3"
  },
  "language_info": {
   "codemirror_mode": {
    "name": "ipython",
    "version": 3
   },
   "file_extension": ".py",
   "mimetype": "text/x-python",
   "name": "python",
   "nbconvert_exporter": "python",
   "pygments_lexer": "ipython3",
   "version": "3.7.3"
  }
 },
 "nbformat": 4,
 "nbformat_minor": 2
}
